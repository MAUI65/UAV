{
 "cells": [
  {
   "cell_type": "markdown",
   "metadata": {},
   "source": [
    "# Mavlink Documentation and debugging\n",
    "> Mavlink Documentaion and debugging with wireshark and QGC\n",
    "\n",
    "[https://mavlink.io/en/mavgen_python/](https://mavlink.io/en/mavgen_python/)\n",
    "[https://www.ardusub.com/developers/pymavlink.html](https://www.ardusub.com/developers/pymavlink.html)\n",
    "\n",
    "https://mavlink.io/en/messages/common.html\n",
    "https://mavlink.io/en/messages/common.html#MAV_TYPE\n",
    "\n"
   ]
  },
  {
   "cell_type": "code",
   "execution_count": null,
   "metadata": {},
   "outputs": [],
   "source": [
    "#   # | default_exp mavlink.cam_base"
   ]
  },
  {
   "cell_type": "code",
   "execution_count": null,
   "metadata": {},
   "outputs": [
    {
     "name": "stdout",
     "output_type": "stream",
     "text": [
      "The autoreload extension is already loaded. To reload it, use:\n",
      "  %reload_ext autoreload\n"
     ]
    }
   ],
   "source": [
    "import UAV.logging\n",
    "#| hide\n",
    "%load_ext autoreload\n",
    "%autoreload 2"
   ]
  },
  {
   "cell_type": "code",
   "execution_count": null,
   "metadata": {},
   "outputs": [],
   "source": [
    "#| hide\n",
    "# skip_showdoc: true to avoid running cells when rendering docs, and \n",
    "# skip_exec: true to skip this notebook when running tests. \n",
    "# this should be a raw cell "
   ]
  },
  {
   "cell_type": "raw",
   "metadata": {},
   "source": [
    "---\n",
    "skip_showdoc: true\n",
    "skip_exec: true\n",
    "---"
   ]
  },
  {
   "cell_type": "code",
   "execution_count": null,
   "metadata": {},
   "outputs": [],
   "source": []
  },
  {
   "cell_type": "markdown",
   "metadata": {},
   "source": [
    "***Mavlink Routing***\n",
    "[https://ardupilot.org/dev/docs/mavlink-routing-in-ardupilot.html](https://ardupilot.org/dev/docs/mavlink-routing-in-ardupilot.html)\n",
    "Each message contains a System ID and Component ID field to specify where the message came from. In addition some messages (including SET_POSITION_TARGET_GLOBAL_INT) include target_system and target_component fields to allow specifying which system/component should execute the command.\n",
    "![](images/mavlink-routing.png){fig-align=\"center\"}\n",
    "\n",
    "[https://mavlink.io/en/guide/routing.html](https://mavlink.io/en/guide/routing.html) \n",
    "A MAVLINK network is made up of systems (vehicles, ground stations, antenna trackers, etc.), which may be composed from one or more components (autopilot, camera, servos, etc.).\n",
    "\n",
    "Each system has a network-unique system id, and each component has a system-unique component id that can be used for addressing/routing:\n",
    "\n",
    "The system id has a value between 1 and 255.\n",
    "The default autopilot system id is usually 1. Users should allocate unique increasing id values when adding new autopilots to a network.\n",
    "GCS systems and developer APIs typically use an ID at the top of the numeric range to reduce ID clashes (e.g. 255). Often their system ID is configurable to allow multi-GCS systems.\n",
    "The component id is allocated by type and number from MAV_COMPONENT.\n",
    "Messages can be intended for all systems, specific systems, all components in a system, or specific components within a system. The protocol defines two 8-bit fields that can (optionally) be specified in the message payload to indicate where the message should be sent/routed. If the ids are omitted or set to zero then the message is considered a broadcast (intended for all systems/components).\n",
    "\n",
    "target_system: System that should execute the command\n",
    "target_component: Component that should execute the command (requires target_system).\n",
    "MAVLink components are expected to process messages that have a matching system/component id and broadcast messages. They are expected to route/resend messages that are intended for other (or all) recipients to other active channels (i.e. MAVLink systems may be connected across different transports, connected by a MAVLink system that routes the messages). Broadcast messages are forwarded to all channels that haven't seen the message. Addressed messages are resent on a new channel iff the system has previously seen a message from the target on that channel (messages are not resent if the addressee is not known or is on the original/incoming channel)."
   ]
  },
  {
   "cell_type": "markdown",
   "metadata": {},
   "source": [
    "### Mavlink Camera Control via mavproxy serial port and UDP\n",
    "*** First Run Mavproxy***\n",
    "`mavproxy.py --master udpin:localhost:14445 --out udpout:localhost:14550`\n",
    "`mavproxy.py --master=/dev/ttyACM1 --baudrate 57600 --out udpout:localhost:14445`\n"
   ]
  },
  {
   "cell_type": "markdown",
   "metadata": {},
   "source": []
  },
  {
   "cell_type": "code",
   "execution_count": null,
   "metadata": {},
   "outputs": [
    {
     "name": "stderr",
     "output_type": "stream",
     "text": [
      "INFO   | uav.CamClient        | 20:18:14.232 |[   base.py:105] MainThread | Starting MAVLink connection... Mavlink version 2 = True\n",
      "INFO   | uav.CamClient        | 20:18:14.234 |[   base.py:117] MainThread | Source system Set: 200, Source component: 25\n",
      "INFO   | uav.CamClient        | 20:18:14.235 |[   base.py:118] MainThread | Target system Set: 1, Target component: 100\n",
      "INFO   | uav.CamClient        | 20:18:14.336 |[   base.py:252] Thread-5 (listen) | Listening for MAVLink commands from system: 1...\n",
      "INFO   | uav.CamServer        | 20:18:14.337 |[   base.py:105] MainThread | Starting MAVLink connection... Mavlink version 2 = True\n",
      "INFO   | uav.CamServer        | 20:18:14.339 |[   base.py:117] MainThread | Source system Set: 1, Source component: 100\n",
      "INFO   | uav.CamServer        | 20:18:14.340 |[   base.py:118] MainThread | Target system Set: 200, Target component: 25\n",
      "INFO   | uav.CamServer        | 20:18:14.441 |[   base.py:155] Thread-6 (send_heartbeat) | Starting heartbeat\n",
      "INFO   | uav.CamServer        | 20:18:14.442 |[   base.py:252] Thread-7 (listen) | Listening for MAVLink commands from system: 200...\n",
      "DEBUG  | uav.CamClient        | 20:18:14.444 |[   base.py:197] MainThread | Sending command: 203 to system: 1 comp: 100\n",
      "DEBUG  | uav.CamClient        | 20:18:14.446 |[   base.py:183] MainThread | Waiting for ACK from system: 1 comp: 100\n",
      "DEBUG  | uav.CamServer        | 20:18:14.447 |[   base.py:265] Thread-7 (listen) | Received message COMMAND_LONG {target_system : 1, target_component : 100, command : 203, confirmation : 0, param1 : 2.0, param2 : 1.0, param3 : 0.0, param4 : 0.0, param5 : 0.0, param6 : 0.0, param7 : 0.0}\n",
      "DEBUG  | uav.CamServer        | 20:18:14.448 |[   base.py:213] Thread-7 (listen) | Sending ACK target_system:200 target_component:25\n",
      "DEBUG  | uav.CamClient        | 20:18:14.450 |[   base.py:265] Thread-5 (listen) | Received message COMMAND_ACK {command : 203, result : 0}\n",
      "DEBUG  | uav.CamClient        | 20:18:14.452 |[   base.py:186] MainThread | ACK received\n",
      "INFO   | uav.CamClient        | 20:18:14.453 |[cam_client_server.py: 48] MainThread | Camera triggered\n",
      "DEBUG  | uav.CamClient        | 20:18:14.453 |[   base.py:197] MainThread | Sending command: 203 to system: 1 comp: 100\n",
      "DEBUG  | uav.CamClient        | 20:18:14.454 |[   base.py:183] MainThread | Waiting for ACK from system: 1 comp: 100\n",
      "DEBUG  | uav.CamServer        | 20:18:14.455 |[   base.py:265] Thread-7 (listen) | Received message COMMAND_LONG {target_system : 1, target_component : 100, command : 203, confirmation : 0, param1 : 2.0, param2 : 1.0, param3 : 0.0, param4 : 0.0, param5 : 0.0, param6 : 0.0, param7 : 0.0}\n",
      "DEBUG  | uav.CamServer        | 20:18:14.456 |[   base.py:213] Thread-7 (listen) | Sending ACK target_system:200 target_component:25\n",
      "DEBUG  | uav.CamClient        | 20:18:14.457 |[   base.py:265] Thread-5 (listen) | Received message COMMAND_ACK {command : 203, result : 0}\n",
      "DEBUG  | uav.CamClient        | 20:18:14.457 |[   base.py:186] MainThread | ACK received\n",
      "INFO   | uav.CamClient        | 20:18:14.458 |[cam_client_server.py: 48] MainThread | Camera triggered\n",
      "INFO   | uav.CamServer        | 20:18:15.458 |[   base.py:285] Thread-7 (listen) | Stopped\n",
      "INFO   | uav.CamServer        | 20:18:15.459 |[   base.py:347] MainThread | CamServer  closed\n",
      "INFO   | uav.CamClient        | 20:18:16.462 |[   base.py:285] Thread-5 (listen) | Stopped\n",
      "INFO   | uav.CamClient        | 20:18:16.463 |[   base.py:347] MainThread | CamClient  closed\n"
     ]
    },
    {
     "name": "stdout",
     "output_type": "stream",
     "text": [
      "client.num_commands_sent: 2\n",
      "server.num_commands_received: 2\n",
      "client.num_acks_received: 2\n",
      "server msgs: {'COMMAND_LONG': 2}\n",
      "client msgs: {'COMMAND_ACK': 2}\n"
     ]
    }
   ],
   "source": [
    "# from UAV.mavlink.cam_client_server import CamClient, CamServer\n",
    "import UAV as uav\n",
    "import time\n",
    "from fastcore.test import *\n",
    "\n",
    "with uav.CamClient(\"udpin:localhost:14445\", debug=True) as client:\n",
    "    with uav.CamServer(\"udpout:localhost:14445\", debug=True) as server:\n",
    "        client.master.wait_heartbeat()\n",
    "        \n",
    "        client.trigger_camera(2)\n",
    "        client.trigger_camera(2)\n",
    "\n",
    "\n",
    "print(f\"client.num_commands_sent: {client.num_commands_sent}\")\n",
    "print(f\"server.num_commands_received: {server.num_commands_received}\")\n",
    "print(f\"client.num_acks_received: {client.num_acks_received}\")\n",
    "\n",
    "print(f\"server msgs: {server.message_cnts}\")\n",
    "print(f\"client msgs: {client.message_cnts}\")\n",
    "\n",
    "test_eq(client.num_commands_sent, server.num_commands_received)\n",
    "test_eq(client.num_acks_received, server.num_commands_received)\n"
   ]
  },
  {
   "cell_type": "markdown",
   "metadata": {},
   "source": [
    "Mavlink Camera Client"
   ]
  },
  {
   "cell_type": "markdown",
   "metadata": {},
   "source": [
    "### Debugging\n",
    "The above can be debugged with wireshark using the ***filter***\n",
    "`mavlink_proto.sysid!=255 && not icmp`\n",
    "`mavlink_proto.sysid!=255 && mavlink_proto.sysid!=1 && not icmp` \n",
    "\n",
    "![](images/wireshark_debug.png)\n"
   ]
  },
  {
   "cell_type": "markdown",
   "metadata": {},
   "source": []
  },
  {
   "cell_type": "markdown",
   "metadata": {},
   "source": [
    "\n",
    "***Wireshark on Ubuntu***\n",
    "see [Parsing MAVLink in Wireshark](https://mavlink.io/en/guide/wireshark.html)\n",
    "\n",
    "Wireshark has implemented Privilege Separation which means that the Wireshark GUI (or the tshark CLI) can run as a normal user while the dumpcap capture utility runs as root. This can be achieved by installing dumpcap setuid root. The advantage of this solution is that while dumpcap is run as root the vast majority of Wireshark's code is run as a normal user (where it can do much less damage).\n",
    "[https://wikileaks.org/ciav7p1/cms/page_16384719.html](https://wikileaks.org/ciav7p1/cms/page_16384719.html)\n",
    "- Install Wireshark\n",
    "`sudo apt-get install wireshark`\n",
    "- Create a wireshark group\n",
    "`sudo groupadd wireshark`\n",
    "- Add your username to the wireshark group\n",
    "`sudo usermod -a -G wireshark YOUR_USERNAME`\n",
    "- Change the group ownership of the file dumpcap to wireshark\n",
    "`sudo chgrp wireshark /usr/bin/dumpcap`\n",
    "- Chage the mode of the file dumpcap to allow execution by the group wireshark\n",
    "`sudo chmod 750 /usr/bin/dumpcap`\n",
    "- Grant capabilities with setcap\n",
    "`sudo setcap cap_net_raw,cap_net_admin=eip /usr/bin/dumpcap`\n",
    "- Verify the change\n",
    "`sudo getcap /usr/bin/dumpcap`\n",
    "- Reboot\n",
    "- `sudo reboot now`\n",
    "\n",
    "***Also see ****\n",
    "[https://wiki.wireshark.org/CaptureSetup/CapturePrivileges](https://wiki.wireshark.org/CaptureSetup/CapturePrivileges)\n"
   ]
  },
  {
   "cell_type": "markdown",
   "metadata": {},
   "source": [
    "\n",
    "***Note*** \n",
    "The last few lines of the plugin file specify the ports to be monitored.\n",
    "> `-- bind protocol dissector to port 14550 and 14580`\n",
    ">>`local udp_dissector_table = DissectorTable.get(\"udp.port\")`\n",
    "`udp_dissector_table:add(14415, mavlink_proto)`\n",
    "`udp_dissector_table:add(14425, mavlink_proto)`\n",
    "`udp_dissector_table:add(14435, mavlink_proto)`\n",
    "`udp_dissector_table:add(14445, mavlink_proto)`\n",
    "`udp_dissector_table:add(14550, mavlink_proto)`\n",
    "`udp_dissector_table:add(14580, mavlink_proto)`\n",
    "`udp_dissector_table:add(18570, mavlink_proto)`\n",
    "\n"
   ]
  },
  {
   "cell_type": "markdown",
   "metadata": {},
   "source": [
    "QGC can also be used to debug the communication\n",
    "\n",
    "![](images/QGC_mavlink_inspect.png)\n",
    "\n",
    "Enable mavlink fowarding in QGC to localhost:14445\n",
    "\n",
    "![](images/QGC_mav_settings.png)"
   ]
  },
  {
   "cell_type": "markdown",
   "metadata": {},
   "source": [
    "> Connection using a serial crossover cable or via pixhawk telemetry ports\n",
    "![](../tutorials/images/serial_crossover.jpeg)  \n",
    "Telemetry 2 port on pixhawk is connected to the USB port on the companion computer using a serial crossover cable.\n",
    "1. (red) VCC +5V\n",
    "2. (?) TX (OUT) +3.3V\n",
    "3. (?) RX (IN) +3.3V\n",
    "4. (?) CTS +3.3V\n",
    "5. (?) RTS +3.3V\n",
    "6. (?) GND GND`"
   ]
  },
  {
   "cell_type": "markdown",
   "metadata": {},
   "source": [
    "#### Running PX4 SITL  \n",
    "see [PX4 SITL Gazebo Simulation](https://docs.px4.io/main/en/sim_gazebo_gz/)\n",
    "\n",
    "in the PX4 directory run\n",
    "`make px4_sitl gz_x500`"
   ]
  },
  {
   "cell_type": "markdown",
   "metadata": {},
   "source": [
    "*** Run Mavproxy***\n",
    "`mavproxy.py --master udpin:localhost:14445 --out udpout:localhost:14550`\n",
    "`mavproxy.py --master=/dev/ttyACM1 --baudrate 57600 --out udpout:localhost:14445`\n"
   ]
  },
  {
   "cell_type": "markdown",
   "metadata": {},
   "source": [
    "https://github.com/mavlink/MAVSDK/issues/1803\n",
    "\n",
    "So I managed to change OpenHD in this regard.\n",
    "No idea why I had such a hard time wrapping my head around, but now it works the following:\n",
    "OpenHD binds port 127.0.0.1:14551 and listens on 127.0.0.1:14550\n",
    "AND\n",
    "instead of using sendto() with a unbound port (which then in turn means the sender port can be anything) messages are sent with sendto() from the bound port (the same that is used for listening).\n",
    "\n",
    "So messages from OpenHD to mavsdk go the following:\n",
    "OpenHD (out) via 127:0:0:1:14551 sent to 127:0:0:0:1:14550\n",
    "\n",
    "So when mavsdk receives the first message, the sender address::port is 127:0:0:1:14551 and mavsdk can send the messages back to 127:0:0:1:14551.\n",
    "\n",
    "https://julianoes.com/\n",
    "The ports are not symmetrical! QGC listens on local port 14550 and sends UDP packets back to wherever messages came from.\n",
    "\n"
   ]
  }
 ],
 "metadata": {
  "kernelspec": {
   "display_name": "python3",
   "language": "python",
   "name": "python3"
  }
 },
 "nbformat": 4,
 "nbformat_minor": 4
}
