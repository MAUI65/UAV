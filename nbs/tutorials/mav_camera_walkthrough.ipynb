{
 "cells": [
  {
   "cell_type": "markdown",
   "metadata": {},
   "source": []
  },
  {
   "cell_type": "code",
   "execution_count": null,
   "metadata": {},
   "outputs": [],
   "source": []
  },
  {
   "cell_type": "markdown",
   "metadata": {},
   "source": [
    "# Mac Camera Walkthrough\n",
    ">  Documentation \n",
    "\n"
   ]
  },
  {
   "cell_type": "code",
   "execution_count": null,
   "metadata": {},
   "outputs": [],
   "source": [
    "#| hide\n",
    "%load_ext autoreload\n",
    "%autoreload 2"
   ]
  },
  {
   "cell_type": "code",
   "execution_count": null,
   "metadata": {},
   "outputs": [],
   "source": [
    "#| hide\n",
    "# skip_showdoc: true to avoid running cells when rendering docs, and skip_exec: true to skip this notebook when running tests. \n",
    "# this should be a raw cell "
   ]
  },
  {
   "cell_type": "raw",
   "metadata": {},
   "source": [
    "---\n",
    "skip_showdoc: true\n",
    "skip_exec: true\n",
    "---"
   ]
  },
  {
   "cell_type": "code",
   "execution_count": null,
   "metadata": {},
   "outputs": [],
   "source": []
  },
  {
   "cell_type": "code",
   "execution_count": null,
   "metadata": {},
   "outputs": [],
   "source": [
    "#| hide\n",
    "from nbdev.showdoc import *\n",
    "from nbdev.showdoc import *\n",
    "from fastcore.test import *\n"
   ]
  },
  {
   "cell_type": "code",
   "execution_count": null,
   "metadata": {},
   "outputs": [],
   "source": [
    "from UAV.mavlink.camera import CameraClient, CameraServer, MAVCom, boot_time_str\n",
    "from UAV.mavlink.component import Component, mavutil, mavlink\n",
    "from UAV.camera.fake_cam import CV2Camera, GSTCamera, read_camera_dict_from_toml\n",
    "from gstreamer import  GstPipeline\n",
    "import gstreamer.utils as gst_utils\n",
    "import time\n",
    "from pathlib import Path\n",
    "import cv2"
   ]
  },
  {
   "cell_type": "markdown",
   "metadata": {},
   "source": []
  },
  {
   "cell_type": "code",
   "execution_count": null,
   "metadata": {},
   "outputs": [
    {
     "name": "stderr",
     "output_type": "stream",
     "text": [
      "INFO   | uav.GSTCamera   | 42.416 | fake_cam.py:127 | MainThread         | GSTCamera Started\n",
      "INFO   | pygst.GstVidSrc | 42.417 | gst_tools.py:131 | MainThread         | GstVidSrcValve \n",
      " gst-launch-1.0 videotestsrc pattern=ball flip=true is-live=true num-buffers=1000 ! video/x-raw,framerate=10/1 !  tee name=t t. ! queue leaky=2 ! valve name=myvalve drop=False ! video/x-raw,format=I420,width=640,height=480 ! videoconvert ! x264enc tune=zerolatency ! rtph264pay ! udpsink host=127.0.0.1 port=5000 t. ! queue leaky=2 ! videoconvert ! videorate drop-only=true ! video/x-raw,framerate=5/1,format=(string)BGR ! videoconvert ! appsink name=mysink emit-signals=true  sync=false async=false  max-buffers=2 drop=true \n",
      "INFO   | pygst.GstVidSrc | 42.420 | gst_tools.py:193 | MainThread         | Starting GstVidSrcValve\n",
      "DEBUG  | pygst.GstVidSrc | 42.421 | gst_tools.py:197 | MainThread         | GstVidSrcValve Setting pipeline state to PLAYING ... \n",
      "DEBUG  | pygst.GstVidSrc | 42.421 | gst_tools.py:203 | MainThread         | GstVidSrcValve Pipeline state set to PLAYING \n",
      "INFO   | uav.CV2Camera   | 42.422 | fake_cam.py:127 | MainThread         | CV2Camera Started\n",
      "INFO   | pygst.GstPipeli | 42.422 | gst_tools.py:131 | MainThread         | GstPipeline \n",
      " gst-launch-1.0 udpsrc port=5000 ! application/x-rtp, media=(string)video, clock-rate=(int)90000, encoding-name=(string)H264, payload=(int)96 ! rtph264depay ! avdec_h264 ! fpsdisplaysink\n",
      "INFO   | pygst.GstPipeli | 42.425 | gst_tools.py:193 | MainThread         | Starting GstPipeline\n",
      "DEBUG  | pygst.GstPipeli | 42.427 | gst_tools.py:197 | MainThread         | GstPipeline Setting pipeline state to PLAYING ... \n",
      "DEBUG  | pygst.GstPipeli | 42.428 | gst_tools.py:203 | MainThread         | GstPipeline Pipeline state set to PLAYING \n",
      "INFO   | uav.MAVCom      | 42.529 |  mavcom.py:393 | Thread-17 (listen) | MAVLink Mav2: True, source_system: 111\n"
     ]
    },
    {
     "name": "stdout",
     "output_type": "stream",
     "text": [
      "boot_time_str ='2023-09-16|11:16:42'\n"
     ]
    },
    {
     "name": "stderr",
     "output_type": "stream",
     "text": [
      "INFO   | uav.MAVCom      | 42.630 |  mavcom.py:393 | Thread-18 (listen) | MAVLink Mav2: True, source_system: 222\n",
      "INFO   | uav.CameraClien | 42.631 | component.py:111 | MainThread         | Component Started self.source_component = 11, self.mav_type = 6, self.source_system = 111\n",
      "INFO   | uav.CameraServe | 42.633 | component.py:111 | MainThread         | Component Started self.source_component = 22, self.mav_type = 30, self.source_system = 222\n"
     ]
    },
    {
     "name": "stdout",
     "output_type": "stream",
     "text": [
      "set_mav_connection CameraClient mavcom.py:107 self.mav_connection = <MAVCom>\n",
      "set_mav_connection CameraServer mavcom.py:107 self.mav_connection = <MAVCom>\n",
      "CAMERA_Client  CAMERA_INFORMATION {time_boot_ms : 59888, vendor_name : [74, 111, 104, 110, 32, 68, 111, 101, 32, 32, 32, 32, 32, 32, 32, 32, 32, 32, 32, 32, 32, 32, 32, 32, 32, 32, 32, 32, 32, 32, 32, 32], model_name : [70, 97, 107, 101, 32, 67, 97, 109, 101, 114, 97, 32, 32, 32, 32, 32, 32, 32, 32, 32, 32, 32, 32, 32, 32, 32, 32, 32, 32, 32, 32, 32], firmware_version : 1, focal_length : 8.0, sensor_size_h : 6.0, sensor_size_v : 4.0, resolution_h : 1920, resolution_v : 1080, lens_id : 0, flags : 0, cam_definition_version : 1, cam_definition_uri : http://example.com/camera_definition.xml, gimbal_device_id : 0} \n"
     ]
    },
    {
     "name": "stderr",
     "output_type": "stream",
     "text": [
      "WARNIN | pygst.GstPipeli | 42.880 | gst_tools.py:289 | MainThread         | Gstreamer.GstPipeline: gst-core-error-quark: Pipeline construction is invalid, please add queues. (13). ../libs/gst/base/gstbasesink.c(1249): gst_base_sink_query_latency (): /GstPipeline:pipeline3/GstFPSDisplaySink:fpsdisplaysink1/GstAutoVideoSink:fps-display-video_sink/GstXvImageSink:fps-display-video_sink-actual-sink-xvimage:\n",
      "Not enough buffering available for  the processing deadline of 0:00:00.015000000, add enough queues to buffer  0:00:00.015000000 additional data. Shortening processing latency to 0:00:00.000000000.\n"
     ]
    },
    {
     "name": "stdout",
     "output_type": "stream",
     "text": [
      "CAMERA_Client  STORAGE_INFORMATION {time_boot_ms : 59990, storage_id : 0, storage_count : 1, status : 0, total_capacity : 100000000.0, used_capacity : 0.0, available_capacity : 100000000.0, read_speed : 0.0, write_speed : 0.0, type : 0, name : } \n",
      "CAMERA_Client  CAMERA_CAPTURE_STATUS {time_boot_ms : 59991, image_status : 0, video_status : 0, image_interval : 0.0, recording_time_ms : 0, available_capacity : 0.0, image_count : 0} \n",
      "CAMERA_Client  CAMERA_INFORMATION {time_boot_ms : 59992, vendor_name : [74, 111, 104, 110, 32, 68, 111, 101, 32, 32, 32, 32, 32, 32, 32, 32, 32, 32, 32, 32, 32, 32, 32, 32, 32, 32, 32, 32, 32, 32, 32, 32], model_name : [70, 97, 107, 101, 32, 67, 97, 109, 101, 114, 97, 32, 32, 32, 32, 32, 32, 32, 32, 32, 32, 32, 32, 32, 32, 32, 32, 32, 32, 32, 32, 32], firmware_version : 1, focal_length : 8.0, sensor_size_h : 6.0, sensor_size_v : 4.0, resolution_h : 1920, resolution_v : 1080, lens_id : 0, flags : 0, cam_definition_version : 1, cam_definition_uri : http://example.com/camera_definition.xml, gimbal_device_id : 0} \n",
      "CAMERA_Client  CAMERA_SETTINGS {time_boot_ms : 59992, mode_id : 0, zoomLevel : nan, focusLevel : nan} \n",
      "Image saved to memory filesystem with name: 2023-09-16|11:17:42_0000.jpg\n",
      "CAMERA_Client  CAMERA_IMAGE_CAPTURED {time_boot_ms : 59996, time_utc : 1694819862842573, camera_id : 0, lat : 0, lon : 0, alt : 0, relative_alt : 0, q : [0.0, 0.0, 0.0, 0.0], image_index : 0, capture_result : 1, file_url : 2023-09-16|11:17:42_0000.jpg} \n",
      "Image saved to memory filesystem with name: 2023-09-16|11:17:42_0001.jpg\n",
      "CAMERA_Client  CAMERA_IMAGE_CAPTURED {time_boot_ms : 60100, time_utc : 1694819862946229, camera_id : 0, lat : 0, lon : 0, alt : 0, relative_alt : 0, q : [0.0, 0.0, 0.0, 0.0], image_index : 1, capture_result : 1, file_url : 2023-09-16|11:17:42_0001.jpg} \n",
      "Image saved to memory filesystem with name: 2023-09-16|11:17:43_0002.jpg\n",
      "CAMERA_Client  CAMERA_IMAGE_CAPTURED {time_boot_ms : 60205, time_utc : 1694819863051602, camera_id : 0, lat : 0, lon : 0, alt : 0, relative_alt : 0, q : [0.0, 0.0, 0.0, 0.0], image_index : 2, capture_result : 1, file_url : 2023-09-16|11:17:43_0002.jpg} \n",
      "Image saved to memory filesystem with name: 2023-09-16|11:17:43_0003.jpg\n",
      "CAMERA_Client  CAMERA_IMAGE_CAPTURED {time_boot_ms : 60316, time_utc : 1694819863162252, camera_id : 0, lat : 0, lon : 0, alt : 0, relative_alt : 0, q : [0.0, 0.0, 0.0, 0.0], image_index : 3, capture_result : 1, file_url : 2023-09-16|11:17:43_0003.jpg} \n",
      "Image saved to memory filesystem with name: 2023-09-16|11:17:43_0004.jpg\n",
      "CAMERA_Client  CAMERA_IMAGE_CAPTURED {time_boot_ms : 60423, time_utc : 1694819863269426, camera_id : 0, lat : 0, lon : 0, alt : 0, relative_alt : 0, q : [0.0, 0.0, 0.0, 0.0], image_index : 4, capture_result : 1, file_url : 2023-09-16|11:17:43_0004.jpg} \n",
      "Image saved to memory filesystem with name: 2023-09-16|11:17:43_0005.jpg\n",
      "CAMERA_Client  CAMERA_IMAGE_CAPTURED {time_boot_ms : 60593, time_utc : 1694819863439394, camera_id : 0, lat : 0, lon : 0, alt : 0, relative_alt : 0, q : [0.0, 0.0, 0.0, 0.0], image_index : 5, capture_result : 1, file_url : 2023-09-16|11:17:43_0005.jpg} \n",
      "Image saved to memory filesystem with name: 2023-09-16|11:17:43_0006.jpg\n",
      "CAMERA_Client  CAMERA_IMAGE_CAPTURED {time_boot_ms : 60792, time_utc : 1694819863638139, camera_id : 0, lat : 0, lon : 0, alt : 0, relative_alt : 0, q : [0.0, 0.0, 0.0, 0.0], image_index : 6, capture_result : 1, file_url : 2023-09-16|11:17:43_0006.jpg} \n",
      "Image saved to memory filesystem with name: 2023-09-16|11:17:43_0007.jpg\n",
      "CAMERA_Client  CAMERA_IMAGE_CAPTURED {time_boot_ms : 60986, time_utc : 1694819863832874, camera_id : 0, lat : 0, lon : 0, alt : 0, relative_alt : 0, q : [0.0, 0.0, 0.0, 0.0], image_index : 7, capture_result : 1, file_url : 2023-09-16|11:17:43_0007.jpg} \n",
      "Image saved to memory filesystem with name: 2023-09-16|11:17:43_0008.jpg\n",
      "CAMERA_Client  CAMERA_IMAGE_CAPTURED {time_boot_ms : 61192, time_utc : 1694819864038472, camera_id : 0, lat : 0, lon : 0, alt : 0, relative_alt : 0, q : [0.0, 0.0, 0.0, 0.0], image_index : 8, capture_result : 1, file_url : 2023-09-16|11:17:43_0008.jpg} \n",
      "Image saved to memory filesystem with name: 2023-09-16|11:17:44_0009.jpg\n",
      "CAMERA_Client  CAMERA_IMAGE_CAPTURED {time_boot_ms : 61384, time_utc : 1694819864230582, camera_id : 0, lat : 0, lon : 0, alt : 0, relative_alt : 0, q : [0.0, 0.0, 0.0, 0.0], image_index : 9, capture_result : 1, file_url : 2023-09-16|11:17:44_0009.jpg} \n",
      "Image saved to memory filesystem with name: 2023-09-16|11:17:44_0010.jpg\n",
      "CAMERA_Client  CAMERA_IMAGE_CAPTURED {time_boot_ms : 61584, time_utc : 1694819864430769, camera_id : 0, lat : 0, lon : 0, alt : 0, relative_alt : 0, q : [0.0, 0.0, 0.0, 0.0], image_index : 10, capture_result : 1, file_url : 2023-09-16|11:17:44_0010.jpg} \n",
      "CAMERA_Client  STORAGE_INFORMATION {time_boot_ms : 61691, storage_id : 0, storage_count : 1, status : 0, total_capacity : 100000000.0, used_capacity : 68748.0, available_capacity : 99931248.0, read_speed : 0.0, write_speed : 0.0, type : 0, name : } \n",
      "STORAGE_INFORMATION {time_boot_ms : 61691, storage_id : 0, storage_count : 1, status : 0, total_capacity : 100000000.0, used_capacity : 68748.0, available_capacity : 99931248.0, read_speed : 0.0, write_speed : 0.0, type : 0, name : }\n",
      "request_storage_information time : 1000*(time.time() - start) = 1.615285873413086 msec\n"
     ]
    },
    {
     "name": "stderr",
     "output_type": "stream",
     "text": [
      "INFO   | pygst.GstVidSrc | 44.633 | gst_tools.py:264 | MainThread         | GstVidSrcValve Shutdown requested ...\n",
      "DEBUG  | pygst.GstVidSrc | 44.634 | gst_tools.py:234 | MainThread         | GstVidSrcValve Stopping pipeline ...\n",
      "DEBUG  | pygst.GstVidSrc | 44.634 | gst_tools.py:238 | MainThread         | GstVidSrcValve Sending EOS event ...\n",
      "DEBUG  | pygst.GstVidSrc | 44.635 | gst_tools.py:248 | MainThread         | GstVidSrcValve Reseting pipeline state ....\n",
      "DEBUG  | pygst.GstVidSrc | 44.636 | gst_tools.py:255 | MainThread         | GstVidSrcValve Gst.Pipeline successfully destroyed\n",
      "INFO   | pygst.GstVidSrc | 44.636 | gst_tools.py:268 | MainThread         | GstVidSrcValve successfully destroyed\n",
      "INFO   | uav.GSTCamera   | 44.637 | fake_cam.py:274 | MainThread         | GSTCamera closed\n",
      "INFO   | uav.CameraServe | 45.636 | component.py:366 | MainThread         | CameraServer closed\n",
      "INFO   | uav.MAVCom      | 45.637 |  mavcom.py:441 | MainThread         | MAVCom  closed\n",
      "INFO   | uav.CameraClien | 47.636 | component.py:366 | MainThread         | CameraClient closed\n",
      "INFO   | uav.MAVCom      | 47.637 |  mavcom.py:441 | MainThread         | MAVCom  closed\n",
      "INFO   | pygst.GstPipeli | 47.638 | gst_tools.py:264 | MainThread         | GstPipeline Shutdown requested ...\n",
      "DEBUG  | pygst.GstPipeli | 47.639 | gst_tools.py:234 | MainThread         | GstPipeline Stopping pipeline ...\n",
      "DEBUG  | pygst.GstPipeli | 47.640 | gst_tools.py:238 | MainThread         | GstPipeline Sending EOS event ...\n",
      "DEBUG  | pygst.GstPipeli | 47.643 | gst_tools.py:248 | MainThread         | GstPipeline Reseting pipeline state ....\n",
      "DEBUG  | pygst.GstPipeli | 47.710 | gst_tools.py:255 | MainThread         | GstPipeline Gst.Pipeline successfully destroyed\n",
      "INFO   | pygst.GstPipeli | 47.711 | gst_tools.py:268 | MainThread         | GstPipeline successfully destroyed\n"
     ]
    }
   ],
   "source": [
    "MAV_TYPE_GCS = mavutil.mavlink.MAV_TYPE_GCS\n",
    "MAV_TYPE_CAMERA = mavutil.mavlink.MAV_TYPE_CAMERA\n",
    "# cli = GimbalClient(mav_connection=None, source_component=11, mav_type=MAV_TYPE_GCS, debug=False)\n",
    "# gim1 = GimbalServer(mav_connection=None, source_component=22, mav_type=MAV_TYPE_CAMERA, debug=False)\n",
    "SINK_PIPELINE = gst_utils.to_gst_string([\n",
    "            'udpsrc port=5000 ! application/x-rtp, media=(string)video, clock-rate=(int)90000, encoding-name=(string)H264, payload=(int)96',\n",
    "            'rtph264depay ! avdec_h264',\n",
    "            'fpsdisplaysink',\n",
    "            # 'autovideosink',\n",
    "        ])\n",
    "con1, con2 = \"udpin:localhost:14445\", \"udpout:localhost:14445\"\n",
    "# con1, con2 = \"/dev/ttyACM0\", \"/dev/ttyUSB0\"\n",
    "\n",
    "if __name__ == '__main__':\n",
    "    print (f\"{boot_time_str =}\")\n",
    "    config_path = Path(\"../../config\")\n",
    "\n",
    "    cam_gst_1 = GSTCamera(camera_dict=read_camera_dict_from_toml(config_path / \"test_camera_info.toml\"))\n",
    "    cam_cv2_1 = CV2Camera(camera_dict=read_camera_dict_from_toml(config_path / \"test_camera_info.toml\"))\n",
    "    with GstPipeline(SINK_PIPELINE) as rcv_pipeline: # this will show the video on fpsdisplaysink\n",
    "        with MAVCom(con1, source_system=111, debug=False) as client:\n",
    "            with MAVCom(con2, source_system=222, debug=False) as server:\n",
    "                cam:CameraClient = client.add_component(\n",
    "                    CameraClient(mav_type=MAV_TYPE_GCS, source_component=11, debug=False))\n",
    "                server.add_component(CameraServer(mav_type=MAV_TYPE_CAMERA, source_component=22, camera=cam_gst_1, debug=False))\n",
    "                # server.add_component(CameraServer(mav_type=MAV_TYPE_CAMERA, source_component=22, camera=None, debug=False))\n",
    "\n",
    "                cam.wait_heartbeat(target_system=222, target_component=22, timeout=1)\n",
    "                time.sleep(0.1)\n",
    "                cam.set_target(222, 22)\n",
    "\n",
    "\n",
    "                cam.request_camera_information()\n",
    "                time.sleep(0.1)\n",
    "\n",
    "                cam.request_storage_information()\n",
    "\n",
    "                cam.request_camera_capture_status()\n",
    "\n",
    "                cam.request_camera_information()\n",
    "\n",
    "                cam.request_camera_settings()\n",
    "\n",
    "                cam.image_start_capture(interval=0.1, count=10)\n",
    "\n",
    "                while cam_gst_1.capture_thread.is_alive():\n",
    "                    if cam_gst_1.last_image is not None:\n",
    "                        cv2.imshow('gst_src', cam_gst_1.last_image)\n",
    "                        cam_gst_1.last_image = None\n",
    "                    cv2.waitKey(10)\n",
    "\n",
    "                # time.sleep(2)\n",
    "                start = time.time()\n",
    "                msg = cam.request_storage_information()\n",
    "                print (msg)\n",
    "                print(f\"request_storage_information time : {1000*(time.time() - start) = } msec\")\n",
    "                \n",
    "    cv2.destroyAllWindows()\n"
   ]
  }
 ],
 "metadata": {
  "kernelspec": {
   "display_name": "python3",
   "language": "python",
   "name": "python3"
  }
 },
 "nbformat": 4,
 "nbformat_minor": 4
}
