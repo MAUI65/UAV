{
 "cells": [
  {
   "cell_type": "markdown",
   "metadata": {},
   "source": []
  },
  {
   "cell_type": "code",
   "execution_count": null,
   "metadata": {},
   "outputs": [],
   "source": []
  },
  {
   "cell_type": "markdown",
   "metadata": {},
   "source": [
    "# Mavlink Camera Walkthrough\n",
    ">  Documentation \n",
    "\n"
   ]
  },
  {
   "cell_type": "code",
   "execution_count": null,
   "metadata": {},
   "outputs": [],
   "source": [
    "#| hide\n",
    "%load_ext autoreload\n",
    "%autoreload 2"
   ]
  },
  {
   "cell_type": "code",
   "execution_count": null,
   "metadata": {},
   "outputs": [],
   "source": [
    "#| hide\n",
    "# skip_showdoc: true to avoid running cells when rendering docs, and skip_exec: true to skip this notebook when running tests. \n",
    "# this should be a raw cell "
   ]
  },
  {
   "cell_type": "raw",
   "metadata": {},
   "source": [
    "---\n",
    "skip_showdoc: true\n",
    "skip_exec: true\n",
    "---"
   ]
  },
  {
   "cell_type": "code",
   "execution_count": null,
   "metadata": {},
   "outputs": [],
   "source": []
  },
  {
   "cell_type": "code",
   "execution_count": null,
   "metadata": {},
   "outputs": [],
   "source": [
    "#| hide\n",
    "from nbdev.showdoc import *\n",
    "from nbdev.showdoc import *\n",
    "from fastcore.test import *\n"
   ]
  },
  {
   "cell_type": "markdown",
   "metadata": {},
   "source": [
    "## Introduction\n",
    "> Here we create an entire mavlink connection with client at the GCS and server at the camera. The client and server are connected via a UDP connection or a radio modem serial connection\n",
    "> The camera can be controlled via the client, and the video stream is sent from the server to the client. The client can also request camera information, storage information, etc from the server."
   ]
  },
  {
   "cell_type": "code",
   "execution_count": null,
   "metadata": {},
   "outputs": [],
   "source": [
    "from UAV.mavlink.camera import CameraClient, CameraServer, MAVCom, boot_time_str\n",
    "from UAV.mavlink.component import Component, mavutil, mavlink\n",
    "from UAV.camera.fake_cam import CV2Camera, GSTCamera, read_camera_dict_from_toml   # fake camera for testing\n",
    "from gstreamer import  GstPipeline\n",
    "import gstreamer.utils as gst_utils\n",
    "import time\n",
    "from pathlib import Path\n",
    "import cv2"
   ]
  },
  {
   "cell_type": "markdown",
   "metadata": {},
   "source": [
    "Create a CameraClient and CameraServer"
   ]
  },
  {
   "cell_type": "markdown",
   "metadata": {},
   "source": []
  },
  {
   "cell_type": "code",
   "execution_count": null,
   "metadata": {},
   "outputs": [],
   "source": [
    "MAV_TYPE_GCS = mavutil.mavlink.MAV_TYPE_GCS\n",
    "MAV_TYPE_CAMERA = mavutil.mavlink.MAV_TYPE_CAMERA"
   ]
  },
  {
   "cell_type": "markdown",
   "metadata": {},
   "source": [
    "Create a gstreamer pipelene to display the received video"
   ]
  },
  {
   "cell_type": "markdown",
   "metadata": {},
   "source": [
    "Create Pysical camera object, here either CV2Camera or GSTCamera\n",
    "The toml file contains the camera parameters, such as resolution, framerate, etc and also the gstreamer pipeline command to create the video streams."
   ]
  },
  {
   "cell_type": "code",
   "execution_count": null,
   "metadata": {},
   "outputs": [
    {
     "name": "stderr",
     "output_type": "stream",
     "text": [
      "INFO   | uav.GSTCamera   | 21.972 | fake_cam.py:127 | MainThread         | GSTCamera Started\n",
      "INFO   | pygst.GstVidSrc | 21.973 | gst_tools.py:131 | MainThread         | GstVidSrcValve \n",
      " gst-launch-1.0 videotestsrc pattern=ball flip=true is-live=true num-buffers=1000 ! video/x-raw,framerate=10/1 !  tee name=t t. ! queue leaky=2 ! valve name=myvalve drop=False ! video/x-raw,format=I420,width=640,height=480 ! videoconvert ! x264enc tune=zerolatency ! rtph264pay ! udpsink host=127.0.0.1 port=5000 t. ! queue leaky=2 ! videoconvert ! videorate drop-only=true ! video/x-raw,framerate=5/1,format=(string)BGR ! videoconvert ! appsink name=mysink emit-signals=true  sync=false async=false  max-buffers=2 drop=true \n",
      "INFO   | pygst.GstVidSrc | 21.982 | gst_tools.py:193 | MainThread         | Starting GstVidSrcValve\n",
      "DEBUG  | pygst.GstVidSrc | 21.982 | gst_tools.py:197 | MainThread         | GstVidSrcValve Setting pipeline state to PLAYING ... \n",
      "DEBUG  | pygst.GstVidSrc | 21.983 | gst_tools.py:203 | MainThread         | GstVidSrcValve Pipeline state set to PLAYING \n"
     ]
    }
   ],
   "source": [
    "config_path = Path(\"../../config\")\n",
    "cam_gst_1 = GSTCamera(camera_dict=read_camera_dict_from_toml(config_path / \"test_camera_info.toml\"))\n",
    "# cam_cv2_1 = CV2Camera(camera_dict=read_camera_dict_from_toml(config_path / \"test_camera_info.toml\"))"
   ]
  },
  {
   "cell_type": "code",
   "execution_count": null,
   "metadata": {},
   "outputs": [
    {
     "name": "stderr",
     "output_type": "stream",
     "text": [
      "INFO   | pygst.GstPipeli | 21.990 | gst_tools.py:131 | MainThread         | GstPipeline \n",
      " gst-launch-1.0 udpsrc port=5000 ! application/x-rtp, media=(string)video, clock-rate=(int)90000, encoding-name=(string)H264, payload=(int)96 ! rtph264depay ! avdec_h264 ! fpsdisplaysink\n"
     ]
    }
   ],
   "source": [
    "SINK_PIPELINE = gst_utils.to_gst_string([\n",
    "            'udpsrc port=5000 ! application/x-rtp, media=(string)video, clock-rate=(int)90000, encoding-name=(string)H264, payload=(int)96',\n",
    "            'rtph264depay ! avdec_h264',\n",
    "            'fpsdisplaysink',\n",
    "            # 'autovideosink',\n",
    "        ])\n",
    "\n",
    "rcv_pipeline = GstPipeline(SINK_PIPELINE)     # Create a Gstreamer pipeline to display the received video on fpsdisplaysink"
   ]
  },
  {
   "cell_type": "markdown",
   "metadata": {},
   "source": [
    "Create the client mavlink connection, this is mounted on the GCS"
   ]
  },
  {
   "cell_type": "code",
   "execution_count": null,
   "metadata": {},
   "outputs": [],
   "source": [
    "# assert False"
   ]
  },
  {
   "cell_type": "code",
   "execution_count": null,
   "metadata": {},
   "outputs": [
    {
     "name": "stderr",
     "output_type": "stream",
     "text": [
      "INFO   | uav.MAVCom      | 22.131 |  mavcom.py:393 | Thread-5 (listen)  | MAVLink Mav2: True, source_system: 111\n"
     ]
    }
   ],
   "source": [
    "client = MAVCom(\"udpin:localhost:14445\", source_system=111, debug=False)  # for the client, we use the udpin connection, you can use serial as an option i.e \"/dev/ttyACM0\", \"/dev/ttyUSB0\""
   ]
  },
  {
   "cell_type": "markdown",
   "metadata": {},
   "source": [
    "Create the server mavlink connection, this is mounted on the UAV"
   ]
  },
  {
   "cell_type": "code",
   "execution_count": null,
   "metadata": {},
   "outputs": [
    {
     "name": "stderr",
     "output_type": "stream",
     "text": [
      "INFO   | uav.MAVCom      | 22.240 |  mavcom.py:393 | Thread-6 (listen)  | MAVLink Mav2: True, source_system: 222\n"
     ]
    }
   ],
   "source": [
    "server = MAVCom(\"udpout:localhost:14445\", source_system=222, debug=False) # for the server, we use the udpout connection, you can use serial as an option  \"/dev/ttyUSB0\""
   ]
  },
  {
   "cell_type": "markdown",
   "metadata": {},
   "source": [
    "Add the camera client to the client mavlink connection"
   ]
  },
  {
   "cell_type": "code",
   "execution_count": null,
   "metadata": {},
   "outputs": [
    {
     "name": "stderr",
     "output_type": "stream",
     "text": [
      "INFO   | uav.CameraClien | 22.256 | component.py:111 | MainThread         | Component Started self.source_component = 11, self.mav_type = 30, self.source_system = 111\n"
     ]
    },
    {
     "name": "stdout",
     "output_type": "stream",
     "text": [
      "set_mav_connection CameraClient mavcom.py:107 self.mav_connection = <MAVCom>\n"
     ]
    }
   ],
   "source": [
    "cam:CameraClient = client.add_component(\n",
    "    CameraClient(mav_type=mavutil.mavlink.MAV_TYPE_CAMERA, source_component=11, debug=False))"
   ]
  },
  {
   "cell_type": "markdown",
   "metadata": {},
   "source": [
    "Add the camera server to the server mavlink connection"
   ]
  },
  {
   "cell_type": "code",
   "execution_count": null,
   "metadata": {},
   "outputs": [
    {
     "name": "stderr",
     "output_type": "stream",
     "text": [
      "INFO   | uav.CameraServe | 22.265 | component.py:111 | MainThread         | Component Started self.source_component = 22, self.mav_type = 6, self.source_system = 222\n"
     ]
    },
    {
     "name": "stdout",
     "output_type": "stream",
     "text": [
      "set_mav_connection CameraServer mavcom.py:107 self.mav_connection = <MAVCom>\n"
     ]
    },
    {
     "data": {
      "text/plain": "<CameraServer>"
     },
     "execution_count": null,
     "metadata": {},
     "output_type": "execute_result"
    }
   ],
   "source": [
    "server.add_component(CameraServer(mav_type=mavutil.mavlink.MAV_TYPE_GCS, source_component=22, camera=cam_gst_1, debug=False))"
   ]
  },
  {
   "cell_type": "markdown",
   "metadata": {},
   "source": [
    "Wait for the heartbeat from the camera server"
   ]
  },
  {
   "cell_type": "code",
   "execution_count": null,
   "metadata": {},
   "outputs": [
    {
     "data": {
      "text/plain": "True"
     },
     "execution_count": null,
     "metadata": {},
     "output_type": "execute_result"
    }
   ],
   "source": [
    "cam.wait_heartbeat(target_system=222, target_component=22, timeout=1)"
   ]
  },
  {
   "cell_type": "markdown",
   "metadata": {},
   "source": [
    "Set the target system and component for the camera client\n",
    "and request camera information, storage information, camera capture status, and camera settings"
   ]
  },
  {
   "cell_type": "code",
   "execution_count": null,
   "metadata": {},
   "outputs": [
    {
     "name": "stdout",
     "output_type": "stream",
     "text": [
      "CAMERA_Client  CAMERA_INFORMATION {time_boot_ms : 384, vendor_name : [74, 111, 104, 110, 32, 68, 111, 101, 32, 32, 32, 32, 32, 32, 32, 32, 32, 32, 32, 32, 32, 32, 32, 32, 32, 32, 32, 32, 32, 32, 32, 32], model_name : [70, 97, 107, 101, 32, 67, 97, 109, 101, 114, 97, 32, 32, 32, 32, 32, 32, 32, 32, 32, 32, 32, 32, 32, 32, 32, 32, 32, 32, 32, 32, 32], firmware_version : 1, focal_length : 8.0, sensor_size_h : 6.0, sensor_size_v : 4.0, resolution_h : 1920, resolution_v : 1080, lens_id : 0, flags : 0, cam_definition_version : 1, cam_definition_uri : http://example.com/camera_definition.xml, gimbal_device_id : 0} \n",
      "CAMERA_Client  STORAGE_INFORMATION {time_boot_ms : 385, storage_id : 0, storage_count : 1, status : 0, total_capacity : 100000000.0, used_capacity : 0.0, available_capacity : 100000000.0, read_speed : 0.0, write_speed : 0.0, type : 0, name : } \n",
      "CAMERA_Client  CAMERA_CAPTURE_STATUS {time_boot_ms : 385, image_status : 0, video_status : 0, image_interval : 0.0, recording_time_ms : 0, available_capacity : 0.0, image_count : 0} \n",
      "CAMERA_Client  CAMERA_SETTINGS {time_boot_ms : 386, mode_id : 0, zoomLevel : nan, focusLevel : nan} \n"
     ]
    },
    {
     "data": {
      "text/plain": "<pymavlink.dialects.v20.ardupilotmega.MAVLink_camera_settings_message>"
     },
     "execution_count": null,
     "metadata": {},
     "output_type": "execute_result"
    }
   ],
   "source": [
    "cam.set_target(222, 22)  # client set target to server\n",
    "cam.request_camera_information()\n",
    "cam.request_storage_information()\n",
    "cam.request_camera_capture_status()\n",
    "cam.request_camera_settings()"
   ]
  },
  {
   "cell_type": "markdown",
   "metadata": {},
   "source": [
    "Start an image capture seqeunce, and display the images as they arrive"
   ]
  },
  {
   "cell_type": "code",
   "execution_count": null,
   "metadata": {},
   "outputs": [
    {
     "name": "stdout",
     "output_type": "stream",
     "text": [
      "Image saved to memory filesystem with name: 2023-09-17|06:59:22_0000.jpg\n",
      "CAMERA_Client  CAMERA_IMAGE_CAPTURED {time_boot_ms : 399, time_utc : 1694890762300020, camera_id : 0, lat : 0, lon : 0, alt : 0, relative_alt : 0, q : [0.0, 0.0, 0.0, 0.0], image_index : 0, capture_result : 1, file_url : 2023-09-17|06:59:22_0000.jpg} \n",
      "Image saved to memory filesystem with name: 2023-09-17|06:59:22_0001.jpg\n",
      "CAMERA_Client  CAMERA_IMAGE_CAPTURED {time_boot_ms : 503, time_utc : 1694890762404302, camera_id : 0, lat : 0, lon : 0, alt : 0, relative_alt : 0, q : [0.0, 0.0, 0.0, 0.0], image_index : 1, capture_result : 1, file_url : 2023-09-17|06:59:22_0001.jpg} \n",
      "Image saved to memory filesystem with name: 2023-09-17|06:59:22_0002.jpg\n",
      "CAMERA_Client  CAMERA_IMAGE_CAPTURED {time_boot_ms : 606, time_utc : 1694890762507214, camera_id : 0, lat : 0, lon : 0, alt : 0, relative_alt : 0, q : [0.0, 0.0, 0.0, 0.0], image_index : 2, capture_result : 1, file_url : 2023-09-17|06:59:22_0002.jpg} \n",
      "Image saved to memory filesystem with name: 2023-09-17|06:59:22_0003.jpg\n",
      "CAMERA_Client  CAMERA_IMAGE_CAPTURED {time_boot_ms : 729, time_utc : 1694890762630575, camera_id : 0, lat : 0, lon : 0, alt : 0, relative_alt : 0, q : [0.0, 0.0, 0.0, 0.0], image_index : 3, capture_result : 1, file_url : 2023-09-17|06:59:22_0003.jpg} \n",
      "Image saved to memory filesystem with name: 2023-09-17|06:59:22_0004.jpg\n",
      "CAMERA_Client  CAMERA_IMAGE_CAPTURED {time_boot_ms : 928, time_utc : 1694890762829301, camera_id : 0, lat : 0, lon : 0, alt : 0, relative_alt : 0, q : [0.0, 0.0, 0.0, 0.0], image_index : 4, capture_result : 1, file_url : 2023-09-17|06:59:22_0004.jpg} \n",
      "Image saved to memory filesystem with name: 2023-09-17|06:59:22_0005.jpg\n",
      "CAMERA_Client  CAMERA_IMAGE_CAPTURED {time_boot_ms : 1130, time_utc : 1694890763031135, camera_id : 0, lat : 0, lon : 0, alt : 0, relative_alt : 0, q : [0.0, 0.0, 0.0, 0.0], image_index : 5, capture_result : 1, file_url : 2023-09-17|06:59:22_0005.jpg} \n",
      "Image saved to memory filesystem with name: 2023-09-17|06:59:23_0006.jpg\n",
      "CAMERA_Client  CAMERA_IMAGE_CAPTURED {time_boot_ms : 1325, time_utc : 1694890763226130, camera_id : 0, lat : 0, lon : 0, alt : 0, relative_alt : 0, q : [0.0, 0.0, 0.0, 0.0], image_index : 6, capture_result : 1, file_url : 2023-09-17|06:59:23_0006.jpg} \n",
      "Image saved to memory filesystem with name: 2023-09-17|06:59:23_0007.jpg\n",
      "CAMERA_Client  CAMERA_IMAGE_CAPTURED {time_boot_ms : 1530, time_utc : 1694890763430941, camera_id : 0, lat : 0, lon : 0, alt : 0, relative_alt : 0, q : [0.0, 0.0, 0.0, 0.0], image_index : 7, capture_result : 1, file_url : 2023-09-17|06:59:23_0007.jpg} \n",
      "Image saved to memory filesystem with name: 2023-09-17|06:59:23_0008.jpg\n",
      "CAMERA_Client  CAMERA_IMAGE_CAPTURED {time_boot_ms : 1727, time_utc : 1694890763628230, camera_id : 0, lat : 0, lon : 0, alt : 0, relative_alt : 0, q : [0.0, 0.0, 0.0, 0.0], image_index : 8, capture_result : 1, file_url : 2023-09-17|06:59:23_0008.jpg} \n",
      "Image saved to memory filesystem with name: 2023-09-17|06:59:23_0009.jpg\n",
      "CAMERA_Client  CAMERA_IMAGE_CAPTURED {time_boot_ms : 1930, time_utc : 1694890763831554, camera_id : 0, lat : 0, lon : 0, alt : 0, relative_alt : 0, q : [0.0, 0.0, 0.0, 0.0], image_index : 9, capture_result : 1, file_url : 2023-09-17|06:59:23_0009.jpg} \n",
      "Image saved to memory filesystem with name: 2023-09-17|06:59:23_0010.jpg\n",
      "CAMERA_Client  CAMERA_IMAGE_CAPTURED {time_boot_ms : 2126, time_utc : 1694890764026903, camera_id : 0, lat : 0, lon : 0, alt : 0, relative_alt : 0, q : [0.0, 0.0, 0.0, 0.0], image_index : 10, capture_result : 1, file_url : 2023-09-17|06:59:23_0010.jpg} \n"
     ]
    }
   ],
   "source": [
    "cam.image_start_capture(interval=0.1, count=10)\n",
    "while cam_gst_1.capture_thread.is_alive():\n",
    "    if cam_gst_1.last_image is not None:\n",
    "        cv2.imshow('gst_src', cam_gst_1.last_image)\n",
    "        cam_gst_1.last_image = None\n",
    "    cv2.waitKey(10)"
   ]
  },
  {
   "cell_type": "markdown",
   "metadata": {},
   "source": [
    "Shutdown the receive pipeline and close the mavlink connections"
   ]
  },
  {
   "cell_type": "code",
   "execution_count": null,
   "metadata": {},
   "outputs": [
    {
     "name": "stderr",
     "output_type": "stream",
     "text": [
      "INFO   | pygst.GstPipeli | 24.046 | gst_tools.py:264 | MainThread         | GstPipeline Shutdown requested ...\n",
      "INFO   | pygst.GstPipeli | 24.046 | gst_tools.py:268 | MainThread         | GstPipeline successfully destroyed\n",
      "INFO   | uav.CameraClien | 25.259 | component.py:366 | MainThread         | CameraClient closed\n",
      "INFO   | uav.MAVCom      | 25.261 |  mavcom.py:441 | MainThread         | MAVCom  closed\n",
      "INFO   | pygst.GstVidSrc | 26.262 | gst_tools.py:264 | MainThread         | GstVidSrcValve Shutdown requested ...\n",
      "DEBUG  | pygst.GstVidSrc | 26.263 | gst_tools.py:234 | MainThread         | GstVidSrcValve Stopping pipeline ...\n",
      "DEBUG  | pygst.GstVidSrc | 26.265 | gst_tools.py:238 | MainThread         | GstVidSrcValve Sending EOS event ...\n",
      "DEBUG  | pygst.GstVidSrc | 26.268 | gst_tools.py:248 | MainThread         | GstVidSrcValve Reseting pipeline state ....\n",
      "DEBUG  | pygst.GstVidSrc | 26.271 | gst_tools.py:255 | MainThread         | GstVidSrcValve Gst.Pipeline successfully destroyed\n",
      "INFO   | pygst.GstVidSrc | 26.272 | gst_tools.py:268 | MainThread         | GstVidSrcValve successfully destroyed\n",
      "INFO   | uav.GSTCamera   | 26.272 | fake_cam.py:262 | MainThread         | GSTCamera closed\n",
      "INFO   | uav.CameraServe | 27.271 | component.py:366 | MainThread         | CameraServer closed\n",
      "INFO   | uav.MAVCom      | 27.273 |  mavcom.py:441 | MainThread         | MAVCom  closed\n"
     ]
    }
   ],
   "source": [
    "rcv_pipeline.shutdown()\n",
    "client.close()\n",
    "server.close()\n",
    "cv2.destroyAllWindows()"
   ]
  },
  {
   "cell_type": "code",
   "execution_count": null,
   "metadata": {},
   "outputs": [],
   "source": [
    "#| hide\n",
    "# assert False"
   ]
  },
  {
   "cell_type": "markdown",
   "metadata": {},
   "source": [
    "Perform the same test, but with the CV2Camera all in one cell"
   ]
  },
  {
   "cell_type": "code",
   "execution_count": null,
   "metadata": {},
   "outputs": [
    {
     "name": "stderr",
     "output_type": "stream",
     "text": [
      "INFO   | uav.GSTCamera   | 30.892 | fake_cam.py:127 | MainThread         | GSTCamera Started\n",
      "INFO   | pygst.GstVidSrc | 30.893 | gst_tools.py:131 | MainThread         | GstVidSrcValve \n",
      " gst-launch-1.0 videotestsrc pattern=ball flip=true is-live=true num-buffers=1000 ! video/x-raw,framerate=10/1 !  tee name=t t. ! queue leaky=2 ! valve name=myvalve drop=False ! video/x-raw,format=I420,width=640,height=480 ! videoconvert ! x264enc tune=zerolatency ! rtph264pay ! udpsink host=127.0.0.1 port=5000 t. ! queue leaky=2 ! videoconvert ! videorate drop-only=true ! video/x-raw,framerate=5/1,format=(string)BGR ! videoconvert ! appsink name=mysink emit-signals=true  sync=false async=false  max-buffers=2 drop=true \n",
      "INFO   | pygst.GstVidSrc | 30.900 | gst_tools.py:193 | MainThread         | Starting GstVidSrcValve\n",
      "DEBUG  | pygst.GstVidSrc | 30.900 | gst_tools.py:197 | MainThread         | GstVidSrcValve Setting pipeline state to PLAYING ... \n",
      "DEBUG  | pygst.GstVidSrc | 30.901 | gst_tools.py:203 | MainThread         | GstVidSrcValve Pipeline state set to PLAYING \n",
      "INFO   | pygst.GstPipeli | 30.902 | gst_tools.py:131 | MainThread         | GstPipeline \n",
      " gst-launch-1.0 udpsrc port=5000 ! application/x-rtp, media=(string)video, clock-rate=(int)90000, encoding-name=(string)H264, payload=(int)96 ! rtph264depay ! avdec_h264 ! fpsdisplaysink\n",
      "INFO   | pygst.GstPipeli | 30.968 | gst_tools.py:193 | MainThread         | Starting GstPipeline\n",
      "DEBUG  | pygst.GstPipeli | 30.970 | gst_tools.py:197 | MainThread         | GstPipeline Setting pipeline state to PLAYING ... \n",
      "DEBUG  | pygst.GstPipeli | 30.972 | gst_tools.py:203 | MainThread         | GstPipeline Pipeline state set to PLAYING \n",
      "INFO   | uav.MAVCom      | 31.073 |  mavcom.py:393 | Thread-5 (listen)  | MAVLink Mav2: True, source_system: 111\n"
     ]
    },
    {
     "name": "stdout",
     "output_type": "stream",
     "text": [
      "boot_time_str ='2023-09-17|07:01:30'\n"
     ]
    },
    {
     "name": "stderr",
     "output_type": "stream",
     "text": [
      "INFO   | uav.MAVCom      | 31.174 |  mavcom.py:393 | Thread-6 (listen)  | MAVLink Mav2: True, source_system: 222\n",
      "INFO   | uav.CameraClien | 31.215 | component.py:111 | MainThread         | Component Started self.source_component = 11, self.mav_type = 6, self.source_system = 111\n",
      "INFO   | uav.CameraServe | 31.216 | component.py:111 | MainThread         | Component Started self.source_component = 22, self.mav_type = 30, self.source_system = 222\n"
     ]
    },
    {
     "name": "stdout",
     "output_type": "stream",
     "text": [
      "set_mav_connection CameraClient mavcom.py:107 self.mav_connection = <MAVCom>\n",
      "set_mav_connection CameraServer mavcom.py:107 self.mav_connection = <MAVCom>\n",
      "CAMERA_Client  CAMERA_INFORMATION {time_boot_ms : 476, vendor_name : [74, 111, 104, 110, 32, 68, 111, 101, 32, 32, 32, 32, 32, 32, 32, 32, 32, 32, 32, 32, 32, 32, 32, 32, 32, 32, 32, 32, 32, 32, 32, 32], model_name : [70, 97, 107, 101, 32, 67, 97, 109, 101, 114, 97, 32, 32, 32, 32, 32, 32, 32, 32, 32, 32, 32, 32, 32, 32, 32, 32, 32, 32, 32, 32, 32], firmware_version : 1, focal_length : 8.0, sensor_size_h : 6.0, sensor_size_v : 4.0, resolution_h : 1920, resolution_v : 1080, lens_id : 0, flags : 0, cam_definition_version : 1, cam_definition_uri : http://example.com/camera_definition.xml, gimbal_device_id : 0} \n",
      "CAMERA_Client  STORAGE_INFORMATION {time_boot_ms : 477, storage_id : 0, storage_count : 1, status : 0, total_capacity : 100000000.0, used_capacity : 0.0, available_capacity : 100000000.0, read_speed : 0.0, write_speed : 0.0, type : 0, name : } \n",
      "CAMERA_Client  CAMERA_CAPTURE_STATUS {time_boot_ms : 478, image_status : 0, video_status : 0, image_interval : 0.0, recording_time_ms : 0, available_capacity : 0.0, image_count : 0} \n",
      "CAMERA_Client  CAMERA_INFORMATION {time_boot_ms : 478, vendor_name : [74, 111, 104, 110, 32, 68, 111, 101, 32, 32, 32, 32, 32, 32, 32, 32, 32, 32, 32, 32, 32, 32, 32, 32, 32, 32, 32, 32, 32, 32, 32, 32], model_name : [70, 97, 107, 101, 32, 67, 97, 109, 101, 114, 97, 32, 32, 32, 32, 32, 32, 32, 32, 32, 32, 32, 32, 32, 32, 32, 32, 32, 32, 32, 32, 32], firmware_version : 1, focal_length : 8.0, sensor_size_h : 6.0, sensor_size_v : 4.0, resolution_h : 1920, resolution_v : 1080, lens_id : 0, flags : 0, cam_definition_version : 1, cam_definition_uri : http://example.com/camera_definition.xml, gimbal_device_id : 0} \n",
      "CAMERA_Client  CAMERA_SETTINGS {time_boot_ms : 479, mode_id : 0, zoomLevel : nan, focusLevel : nan} \n",
      "Image saved to memory filesystem with name: 2023-09-17|07:01:31_0000.jpg\n",
      "CAMERA_Client  CAMERA_IMAGE_CAPTURED {time_boot_ms : 482, time_utc : 1694890891323382, camera_id : 0, lat : 0, lon : 0, alt : 0, relative_alt : 0, q : [0.0, 0.0, 0.0, 0.0], image_index : 0, capture_result : 1, file_url : 2023-09-17|07:01:31_0000.jpg} \n"
     ]
    },
    {
     "name": "stderr",
     "output_type": "stream",
     "text": [
      "WARNIN | pygst.GstPipeli | 31.425 | gst_tools.py:289 | MainThread         | Gstreamer.GstPipeline: gst-core-error-quark: Pipeline construction is invalid, please add queues. (13). ../libs/gst/base/gstbasesink.c(1249): gst_base_sink_query_latency (): /GstPipeline:pipeline1/GstFPSDisplaySink:fpsdisplaysink0/GstAutoVideoSink:fps-display-video_sink/GstXvImageSink:fps-display-video_sink-actual-sink-xvimage:\n",
      "Not enough buffering available for  the processing deadline of 0:00:00.015000000, add enough queues to buffer  0:00:00.015000000 additional data. Shortening processing latency to 0:00:00.000000000.\n"
     ]
    },
    {
     "name": "stdout",
     "output_type": "stream",
     "text": [
      "Image saved to memory filesystem with name: 2023-09-17|07:01:31_0001.jpg\n",
      "CAMERA_Client  CAMERA_IMAGE_CAPTURED {time_boot_ms : 585, time_utc : 1694890891427054, camera_id : 0, lat : 0, lon : 0, alt : 0, relative_alt : 0, q : [0.0, 0.0, 0.0, 0.0], image_index : 1, capture_result : 1, file_url : 2023-09-17|07:01:31_0001.jpg} \n",
      "Image saved to memory filesystem with name: 2023-09-17|07:01:31_0002.jpg\n",
      "CAMERA_Client  CAMERA_IMAGE_CAPTURED {time_boot_ms : 689, time_utc : 1694890891530324, camera_id : 0, lat : 0, lon : 0, alt : 0, relative_alt : 0, q : [0.0, 0.0, 0.0, 0.0], image_index : 2, capture_result : 1, file_url : 2023-09-17|07:01:31_0002.jpg} \n",
      "Image saved to memory filesystem with name: 2023-09-17|07:01:31_0003.jpg\n",
      "CAMERA_Client  CAMERA_IMAGE_CAPTURED {time_boot_ms : 803, time_utc : 1694890891644273, camera_id : 0, lat : 0, lon : 0, alt : 0, relative_alt : 0, q : [0.0, 0.0, 0.0, 0.0], image_index : 3, capture_result : 1, file_url : 2023-09-17|07:01:31_0003.jpg} \n",
      "Image saved to memory filesystem with name: 2023-09-17|07:01:31_0004.jpg\n",
      "CAMERA_Client  CAMERA_IMAGE_CAPTURED {time_boot_ms : 910, time_utc : 1694890891751830, camera_id : 0, lat : 0, lon : 0, alt : 0, relative_alt : 0, q : [0.0, 0.0, 0.0, 0.0], image_index : 4, capture_result : 1, file_url : 2023-09-17|07:01:31_0004.jpg} \n",
      "Image saved to memory filesystem with name: 2023-09-17|07:01:31_0005.jpg\n",
      "CAMERA_Client  CAMERA_IMAGE_CAPTURED {time_boot_ms : 1107, time_utc : 1694890891948786, camera_id : 0, lat : 0, lon : 0, alt : 0, relative_alt : 0, q : [0.0, 0.0, 0.0, 0.0], image_index : 5, capture_result : 1, file_url : 2023-09-17|07:01:31_0005.jpg} \n",
      "Image saved to memory filesystem with name: 2023-09-17|07:01:32_0006.jpg\n",
      "CAMERA_Client  CAMERA_IMAGE_CAPTURED {time_boot_ms : 1307, time_utc : 1694890892148988, camera_id : 0, lat : 0, lon : 0, alt : 0, relative_alt : 0, q : [0.0, 0.0, 0.0, 0.0], image_index : 6, capture_result : 1, file_url : 2023-09-17|07:01:32_0006.jpg} \n",
      "Image saved to memory filesystem with name: 2023-09-17|07:01:32_0007.jpg\n",
      "CAMERA_Client  CAMERA_IMAGE_CAPTURED {time_boot_ms : 1507, time_utc : 1694890892348352, camera_id : 0, lat : 0, lon : 0, alt : 0, relative_alt : 0, q : [0.0, 0.0, 0.0, 0.0], image_index : 7, capture_result : 1, file_url : 2023-09-17|07:01:32_0007.jpg} \n",
      "Image saved to memory filesystem with name: 2023-09-17|07:01:32_0008.jpg\n",
      "CAMERA_Client  CAMERA_IMAGE_CAPTURED {time_boot_ms : 1703, time_utc : 1694890892544563, camera_id : 0, lat : 0, lon : 0, alt : 0, relative_alt : 0, q : [0.0, 0.0, 0.0, 0.0], image_index : 8, capture_result : 1, file_url : 2023-09-17|07:01:32_0008.jpg} \n",
      "Image saved to memory filesystem with name: 2023-09-17|07:01:32_0009.jpg\n",
      "CAMERA_Client  CAMERA_IMAGE_CAPTURED {time_boot_ms : 1907, time_utc : 1694890892749111, camera_id : 0, lat : 0, lon : 0, alt : 0, relative_alt : 0, q : [0.0, 0.0, 0.0, 0.0], image_index : 9, capture_result : 1, file_url : 2023-09-17|07:01:32_0009.jpg} \n",
      "Image saved to memory filesystem with name: 2023-09-17|07:01:32_0010.jpg\n",
      "CAMERA_Client  CAMERA_IMAGE_CAPTURED {time_boot_ms : 2103, time_utc : 1694890892944748, camera_id : 0, lat : 0, lon : 0, alt : 0, relative_alt : 0, q : [0.0, 0.0, 0.0, 0.0], image_index : 10, capture_result : 1, file_url : 2023-09-17|07:01:32_0010.jpg} \n",
      "CAMERA_Client  STORAGE_INFORMATION {time_boot_ms : 2114, storage_id : 0, storage_count : 1, status : 0, total_capacity : 100000000.0, used_capacity : 68748.0, available_capacity : 99931248.0, read_speed : 0.0, write_speed : 0.0, type : 0, name : } \n",
      "STORAGE_INFORMATION {time_boot_ms : 2114, storage_id : 0, storage_count : 1, status : 0, total_capacity : 100000000.0, used_capacity : 68748.0, available_capacity : 99931248.0, read_speed : 0.0, write_speed : 0.0, type : 0, name : }\n",
      "request_storage_information time : 1000*(time.time() - start) = 2.0782947540283203 msec\n"
     ]
    },
    {
     "name": "stderr",
     "output_type": "stream",
     "text": [
      "INFO   | pygst.GstVidSrc | 33.219 | gst_tools.py:264 | MainThread         | GstVidSrcValve Shutdown requested ...\n",
      "DEBUG  | pygst.GstVidSrc | 33.220 | gst_tools.py:234 | MainThread         | GstVidSrcValve Stopping pipeline ...\n",
      "DEBUG  | pygst.GstVidSrc | 33.221 | gst_tools.py:238 | MainThread         | GstVidSrcValve Sending EOS event ...\n",
      "DEBUG  | pygst.GstVidSrc | 33.224 | gst_tools.py:248 | MainThread         | GstVidSrcValve Reseting pipeline state ....\n",
      "DEBUG  | pygst.GstVidSrc | 33.228 | gst_tools.py:255 | MainThread         | GstVidSrcValve Gst.Pipeline successfully destroyed\n",
      "INFO   | pygst.GstVidSrc | 33.229 | gst_tools.py:268 | MainThread         | GstVidSrcValve successfully destroyed\n",
      "INFO   | uav.GSTCamera   | 33.229 | fake_cam.py:262 | MainThread         | GSTCamera closed\n",
      "INFO   | uav.CameraServe | 34.219 | component.py:366 | MainThread         | CameraServer closed\n",
      "INFO   | uav.MAVCom      | 34.221 |  mavcom.py:441 | MainThread         | MAVCom  closed\n",
      "INFO   | uav.CameraClien | 36.222 | component.py:366 | MainThread         | CameraClient closed\n",
      "INFO   | uav.MAVCom      | 36.223 |  mavcom.py:441 | MainThread         | MAVCom  closed\n",
      "INFO   | pygst.GstPipeli | 36.224 | gst_tools.py:264 | MainThread         | GstPipeline Shutdown requested ...\n",
      "DEBUG  | pygst.GstPipeli | 36.225 | gst_tools.py:234 | MainThread         | GstPipeline Stopping pipeline ...\n",
      "DEBUG  | pygst.GstPipeli | 36.226 | gst_tools.py:238 | MainThread         | GstPipeline Sending EOS event ...\n",
      "DEBUG  | pygst.GstPipeli | 36.229 | gst_tools.py:248 | MainThread         | GstPipeline Reseting pipeline state ....\n",
      "DEBUG  | pygst.GstPipeli | 36.259 | gst_tools.py:255 | MainThread         | GstPipeline Gst.Pipeline successfully destroyed\n",
      "INFO   | pygst.GstPipeli | 36.260 | gst_tools.py:268 | MainThread         | GstPipeline successfully destroyed\n"
     ]
    }
   ],
   "source": [
    "from UAV.mavlink.camera import CameraClient, CameraServer, MAVCom, boot_time_str\n",
    "from UAV.mavlink.component import Component, mavutil, mavlink\n",
    "from UAV.camera.fake_cam import CV2Camera, GSTCamera, read_camera_dict_from_toml   # fake camera for testing\n",
    "from gstreamer import  GstPipeline\n",
    "import gstreamer.utils as gst_utils\n",
    "import time\n",
    "from pathlib import Path\n",
    "import cv2\n",
    "\n",
    "SINK_PIPELINE = gst_utils.to_gst_string([\n",
    "            'udpsrc port=5000 ! application/x-rtp, media=(string)video, clock-rate=(int)90000, encoding-name=(string)H264, payload=(int)96',\n",
    "            'rtph264depay ! avdec_h264',\n",
    "            'fpsdisplaysink',\n",
    "            # 'autovideosink',\n",
    "        ])\n",
    "con1, con2 = \"udpin:localhost:14445\", \"udpout:localhost:14445\"\n",
    "# con1, con2 = \"/dev/ttyACM0\", \"/dev/ttyUSB0\"\n",
    "\n",
    "print (f\"{boot_time_str =}\")\n",
    "config_path = Path(\"../../config\")\n",
    "\n",
    "cam_uav = GSTCamera(camera_dict=read_camera_dict_from_toml(config_path / \"test_camera_info.toml\"))\n",
    "# cam_uav = CV2Camera(camera_dict=read_camera_dict_from_toml(config_path / \"test_camera_info.toml\"))\n",
    "with GstPipeline(SINK_PIPELINE) as rcv_pipeline:     # Create a Gstreamer pipeline to display the received video on fpsdisplaysink\n",
    "    with MAVCom(con1, source_system=111, debug=False) as client:\n",
    "        with MAVCom(con2, source_system=222, debug=False) as server:\n",
    "            cam_gcs:CameraClient = client.add_component(\n",
    "                CameraClient(mav_type=mavutil.mavlink.MAV_TYPE_GCS, source_component=11, debug=False))\n",
    "            server.add_component(CameraServer(mav_type=mavutil.mavlink.MAV_TYPE_CAMERA, source_component=22, camera=cam_uav, debug=False))\n",
    "            # server.add_component(CameraServer(mav_type=MAV_TYPE_CAMERA, source_component=22, camera=None, debug=False))\n",
    "\n",
    "            cam_gcs.wait_heartbeat(target_system=222, target_component=22, timeout=1)\n",
    "            time.sleep(0.1)\n",
    "            \n",
    "            cam_gcs.set_target(222, 22) # client set target to server\n",
    "            cam_gcs.request_camera_information()\n",
    "            cam_gcs.request_storage_information()\n",
    "            cam_gcs.request_camera_capture_status()\n",
    "            cam_gcs.request_camera_information()\n",
    "            cam_gcs.request_camera_settings()\n",
    "            cam_gcs.image_start_capture(interval=0.1, count=10)\n",
    "\n",
    "            while cam_uav.capture_thread.is_alive():\n",
    "                if cam_uav.last_image is not None:\n",
    "                    cv2.imshow('gst_src', cam_uav.last_image)\n",
    "                    cam_uav.last_image = None\n",
    "                cv2.waitKey(10)\n",
    "\n",
    "            start = time.time()\n",
    "            msg = cam_gcs.request_storage_information()\n",
    "            print (msg)\n",
    "            print(f\"request_storage_information time : {1000*(time.time() - start) = } msec\")\n",
    "            \n",
    "cv2.destroyAllWindows()\n"
   ]
  },
  {
   "cell_type": "code",
   "execution_count": null,
   "metadata": {},
   "outputs": [],
   "source": []
  }
 ],
 "metadata": {
  "kernelspec": {
   "display_name": "python3",
   "language": "python",
   "name": "python3"
  }
 },
 "nbformat": 4,
 "nbformat_minor": 4
}
