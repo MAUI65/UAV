{
 "cells": [
  {
   "cell_type": "markdown",
   "metadata": {},
   "source": [
    "# Getting Started\n",
    "\n",
    "> Basic setup and use of UAV"
   ]
  },
  {
   "cell_type": "markdown",
   "metadata": {},
   "source": [
    "- **UAV software** is a collection of Jupyter Notebooks that are used to develop and test UAV software. The notebooks are organized into a library, and the library is used to create a documentation website and a Python package that can be installed with `pip` or `conda`  (see [nbdev template](tutorials/template.ipynb) for an example) \n",
    "- \n",
    "- **Documentation** is automatically generated using [nbdev](https://nbdev.fast.ai/) & [Quarto](https://quarto.org/) and hosted on [GitHub Pages](https://pages.github.com/). Docs support LaTeX, are searchable, and are automatically hyperlinked (including out-of-the-box support for many packages via [`nbdev-index`](https://github.com/fastai/nbdev-index))\n",
    "- **Publish packages to PyPI and conda** as well as tools to simplify package releases.  Python best practices are automatically followed, for example, only exported objects are included in `__all__`\n",
    "- **Two-way sync between notebooks and plaintext source code** allowing you to use your IDE for code navigation or quick edits\n",
    "- **Tests** written as ordinary notebook cells are run in parallel with a single command\n",
    "- **Continuous integration** out-of-the-box with [GitHub Actions](https://github.com/features/actions) that run your tests and rebuild your docs\n",
    "- **Git-friendly notebooks** with [Jupyter/Git hooks](https://nbdev.fast.ai/tutorials/git_friendly_jupyter.html) that clean unwanted metadata and render merge conflicts in a human-readable format\n",
    "- ... and much more!"
   ]
  },
  {
   "cell_type": "markdown",
   "metadata": {},
   "source": [
    "## Install"
   ]
  },
  {
   "cell_type": "markdown",
   "metadata": {},
   "source": [
    " \n",
    "1. Python 3.10 venv for Ubuntu 21.04, Ubuntu 20.04 LTS [https://www.python.org/downloads/](https://www.python.org/downloads/) \n",
    "    ```sh \n",
    "    sudo add-apt-repository ppa:deadsnakes/ppa\n",
    "    sudo apt update\n",
    "    sudo apt install python3.10\n",
    "   ```\n",
    "   \n",
    "   **Note For Ubuntu 18.04** Deadsnakes/ppa is not hold distribution for Ubuntu 18.04 LTS, so you need to install it manually.\n",
    "    Download Python 3.10.0 from [https://github.com/conda-forge/miniforge](https://github.com/conda-forge/miniforge)\n",
    "    - [Linux x86_64 (amd64)](https://github.com/conda-forge/miniforge/releases/latest/download/Miniforge3-Linux-x86_64.sh)\n",
    "    - [Linux aarch64 (arm64)](https://github.com/conda-forge/miniforge/releases/latest/download/Miniforge3-Linux-aarch64.sh)\n",
    "   \n",
    "    Give the script execution permission and run it to install into ~/miniforge3\n",
    "    ```sh\n",
    "    chmod +x Miniforge3-Linux-x86_64.sh\n",
    "    ./Miniforge3-Linux-x86_64.sh\n",
    "    ```\n",
    "    follow the prompts to install\n",
    "\n",
    "2. Download UAV from github and create a virtual environment\n",
    "    ```sh\n",
    "    mkdir repos\n",
    "    cd repos\n",
    "    git clone https://github.com/johnnewto/UAV.git\n",
    "    cd UAV\n",
    "    ~/miniforge3/bin/python -m venv 'venv'\n",
    "    source ./venv/bin/activate\n",
    "    pip install --upgrade pip\n",
    "    pip install -e .\n",
    "    ```\n",
    "3. Install gstreamer\n",
    "    ```sh\n",
    "    sudo apt-get install libcairo2 libcairo2-dev libgirepository1.0-dev\n",
    "    sudo apt install libgirepository1.0-dev\n",
    "    sudo apt-get install libgstreamer1.0-dev libgstreamer-plugins-base1.0-dev libgstreamer-plugins-bad1.0-dev gstreamer1.0-plugins-base gstreamer1.0-plugins-good gstreamer1.0-plugins-bad gstreamer1.0-plugins-ugly gstreamer1.0-libav gstreamer1.0-tools gstreamer1.0-x gstreamer1.0-alsa gstreamer1.0-gl gstreamer1.0-gtk3 gstreamer1.0-qt5 gstreamer1.0-pulseaudio\n",
    "    ```\n",
    "4. Install gstreamer-python\n",
    "    ```sh\n",
    "   pip install git+https://github.com/johnnewto/gstreamer-python.git\n",
    "   ```\n"
   ]
  },
  {
   "cell_type": "markdown",
   "metadata": {},
   "source": [
    "## How to use nbdev"
   ]
  },
  {
   "cell_type": "markdown",
   "metadata": {},
   "source": [
    "The best way to learn how to use nbdev is to complete either the [written walkthrough](https://nbdev.fast.ai/tutorials/tutorial.html) or video walkthrough:"
   ]
  },
  {
   "cell_type": "markdown",
   "metadata": {},
   "source": [
    "::: {.content-visible when-format=\"html\" style=\"text-align: center\"}\n",
    "\n",
    "<iframe width=\"560\" height=\"315\" src=\"https://www.youtube-nocookie.com/embed/l7zS8Ld4_iA\" frameborder=\"0\" allow=\"accelerometer; autoplay; encrypted-media; gyroscope; picture-in-picture\" allowfullscreen style=\"max-width: 100%; margin: auto; border-radius: 10px\"></iframe>\n",
    "\n",
    ":::"
   ]
  },
  {
   "cell_type": "markdown",
   "metadata": {},
   "source": [
    "::: {.content-visible when-format=\"markdown\" style=\"text-align: center\"}\n",
    "\n",
    "[![](https://github.com/fastai/logos/raw/main/nbdev_walkthrough.png){width=\"560px\" height=\"315px\" style=\"border-radius: 10px\"}](http://www.youtube.com/watch?v=l7zS8Ld4_iA \"nbdev walkthrough\"){target=\"_blank\"}\n",
    "\n",
    ":::"
   ]
  },
  {
   "cell_type": "markdown",
   "metadata": {},
   "source": [
    "Alternatively, there's a [shortened version of the video walkthrough](https://youtu.be/67FdzLSt4aA) with coding sections sped up using the `unsilence` Python library -- it's 27 minutes faster, but a bit harder to follow."
   ]
  },
  {
   "cell_type": "markdown",
   "metadata": {},
   "source": [
    "## FAQ"
   ]
  },
  {
   "cell_type": "markdown",
   "metadata": {},
   "source": [
    "## Copyright"
   ]
  },
  {
   "cell_type": "markdown",
   "metadata": {},
   "source": [
    "Copyright © 2019 onward maui63.ai, Inc. Licensed under the Apache License, Version 2.0 (the \"License\"); you may not use this project's files except in compliance with the License. A copy of the License is provided in the LICENSE file in this repository."
   ]
  }
 ],
 "metadata": {
  "kernelspec": {
   "display_name": "python3",
   "language": "python",
   "name": "python3"
  }
 },
 "nbformat": 4,
 "nbformat_minor": 4
}
