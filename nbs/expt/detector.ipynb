{
 "cells": [
  {
   "cell_type": "markdown",
   "metadata": {},
   "source": []
  },
  {
   "cell_type": "code",
   "execution_count": null,
   "metadata": {
    "ExecuteTime": {
     "end_time": "2024-02-05T05:06:54.867948473Z",
     "start_time": "2024-02-05T05:06:54.867734682Z"
    }
   },
   "outputs": [],
   "source": []
  },
  {
   "cell_type": "markdown",
   "metadata": {},
   "source": [
    "# ball detector\n",
    ">  Documentation \n",
    "\n"
   ]
  },
  {
   "cell_type": "code",
   "execution_count": null,
   "metadata": {
    "ExecuteTime": {
     "start_time": "2024-02-05T05:06:54.867940392Z"
    }
   },
   "outputs": [],
   "source": [
    "#| hide\n",
    "%load_ext autoreload\n",
    "%autoreload 2"
   ]
  },
  {
   "cell_type": "code",
   "execution_count": null,
   "metadata": {
    "ExecuteTime": {
     "end_time": "2024-02-05T05:06:54.868422621Z",
     "start_time": "2024-02-05T05:06:54.868154816Z"
    }
   },
   "outputs": [],
   "source": [
    "#| hide\n",
    "# skip_showdoc: true to avoid running cells when rendering docs, and skip_exec: true to skip this notebook when running tests. \n",
    "# this should be a raw cell "
   ]
  },
  {
   "cell_type": "raw",
   "metadata": {},
   "source": [
    "---\n",
    "skip_showdoc: true\n",
    "skip_exec: true\n",
    "---"
   ]
  },
  {
   "cell_type": "code",
   "execution_count": null,
   "metadata": {
    "ExecuteTime": {
     "start_time": "2024-02-05T05:06:54.868355433Z"
    }
   },
   "outputs": [],
   "source": []
  },
  {
   "cell_type": "code",
   "execution_count": null,
   "metadata": {
    "ExecuteTime": {
     "end_time": "2024-02-05T05:06:54.868698527Z",
     "start_time": "2024-02-05T05:06:54.868473372Z"
    }
   },
   "outputs": [],
   "source": [
    "#| hide\n",
    "from nbdev.showdoc import *\n",
    "from nbdev.showdoc import *\n",
    "\n"
   ]
  },
  {
   "cell_type": "markdown",
   "metadata": {},
   "source": [
    "## Ball detector\n",
    "> here ..."
   ]
  },
  {
   "cell_type": "code",
   "execution_count": null,
   "metadata": {
    "ExecuteTime": {
     "start_time": "2024-02-05T05:06:54.868534092Z"
    }
   },
   "outputs": [],
   "source": [
    "from PIL import Image\n",
    "from IPython.display import display\n"
   ]
  },
  {
   "cell_type": "code",
   "execution_count": null,
   "outputs": [],
   "source": [
    "# get current working dir\n",
    "import os\n",
    "\n",
    "current_working_dir = os.getcwd()\n",
    "print(current_working_dir)"
   ],
   "metadata": {
    "collapsed": false,
    "ExecuteTime": {
     "start_time": "2024-02-05T05:06:54.868592646Z"
    }
   }
  },
  {
   "cell_type": "code",
   "execution_count": null,
   "outputs": [],
   "source": [
    "img = Image.open('../data/ball_0.jpg')\n",
    "display(img)"
   ],
   "metadata": {
    "collapsed": false,
    "ExecuteTime": {
     "start_time": "2024-02-05T05:06:54.868654540Z"
    }
   }
  },
  {
   "cell_type": "code",
   "execution_count": 9,
   "outputs": [
    {
     "name": "stdout",
     "output_type": "stream",
     "text": [
      "(102, 1, 2)\n"
     ]
    }
   ],
   "source": [
    "import cv2\n",
    "import numpy as np\n",
    "\n",
    "img = cv2.imread('../data/ball_5.jpg')\n",
    "gray_img = (cv2.cvtColor(img, cv2.COLOR_BGR2GRAY))\n",
    "a = gray_img.max()  \n",
    "_, thresh = cv2.threshold(gray_img, a/2+60, a, cv2.THRESH_BINARY)\n",
    "cv2.imshow(\"thresh\", thresh)\n",
    "\n",
    "kernel = np.ones((6,6),np.uint8)\n",
    "thresh0 = cv2.morphologyEx(thresh, cv2.MORPH_OPEN, kernel)\n",
    "# thresh0 = cv2.morphologyEx(thresh0, cv2.MORPH_DILATE, kernel,iterations=3)\n",
    "\n",
    "cv2.imshow(\"thresh0\", thresh0)\n",
    "contours, hierarchy = cv2.findContours(thresh0, mode=cv2.RETR_TREE, method=cv2.CHAIN_APPROX_NONE)\n",
    "contours = sorted(contours, key = cv2.contourArea, reverse = True)\n",
    "rects = []\n",
    "for c in contours:\n",
    "    perimeter = cv2.arcLength(c,True)\n",
    "    x, y, w, h = cv2.boundingRect(c)\n",
    "    rects.append([x, y, w, h])\n",
    "    # if perimeter > 60 and perimeter < 150:\n",
    "    #     print(perimeter)\n",
    "    cv2.rectangle(img,(x,y), (x+w,y+h), (0,0,255), 2)\n",
    "print(contours[0].shape)\n",
    "image_copy = img.copy()\n",
    "# final_image = cv2.drawContours(image_copy, contours, contourIdx=-1, color=(0,255,0), thickness=2)\n",
    "cv2.imshow(\"image\", image_copy)\n",
    "cv2.waitKey(0)\n",
    "cv2.destroyAllWindows()"
   ],
   "metadata": {
    "collapsed": false,
    "ExecuteTime": {
     "end_time": "2024-02-05T05:14:58.996255179Z",
     "start_time": "2024-02-05T05:14:57.129430435Z"
    }
   }
  },
  {
   "cell_type": "code",
   "execution_count": 7,
   "outputs": [],
   "source": [],
   "metadata": {
    "collapsed": false,
    "ExecuteTime": {
     "end_time": "2024-02-05T05:13:16.772982285Z",
     "start_time": "2024-02-05T05:13:16.770223092Z"
    }
   }
  },
  {
   "cell_type": "code",
   "execution_count": null,
   "outputs": [],
   "source": [],
   "metadata": {
    "collapsed": false,
    "ExecuteTime": {
     "start_time": "2024-02-05T05:06:54.868889648Z"
    }
   }
  },
  {
   "cell_type": "code",
   "execution_count": null,
   "outputs": [],
   "source": [],
   "metadata": {
    "collapsed": false,
    "ExecuteTime": {
     "start_time": "2024-02-05T05:06:54.868971499Z"
    }
   }
  }
 ],
 "metadata": {
  "kernelspec": {
   "display_name": "python3",
   "language": "python",
   "name": "python3"
  }
 },
 "nbformat": 4,
 "nbformat_minor": 4
}
