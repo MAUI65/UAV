{
 "cells": [
  {
   "cell_type": "markdown",
   "metadata": {},
   "source": []
  },
  {
   "cell_type": "code",
   "execution_count": null,
   "metadata": {},
   "outputs": [],
   "source": [
    "#| default_exp gst_valve"
   ]
  },
  {
   "cell_type": "code",
   "execution_count": null,
   "metadata": {},
   "outputs": [],
   "source": [
    "# ---\n",
    "# skip_showdoc: true\n",
    "# ---"
   ]
  },
  {
   "cell_type": "markdown",
   "metadata": {},
   "source": [
    "# Gstreamer Python Bindings\n",
    "\n",
    "> Gstreamer video capture\n"
   ]
  },
  {
   "cell_type": "code",
   "execution_count": null,
   "metadata": {},
   "outputs": [],
   "source": [
    "#| export\n",
    "from fastcore.utils import *\n",
    "from fastcore.utils import *\n",
    "import cv2\n",
    "import gi\n",
    "import numpy as np\n",
    "from imutils import resize\n",
    "# from ping_ip import ping_ip\n",
    "\n",
    "from gi.repository import Gst\n",
    "import subprocess\n",
    "import platform\n",
    "\n",
    "import paho.mqtt.client as mqtt\n",
    "\n",
    "import time\n",
    "# from dataloader import LoadImages, resize\n",
    "from pathlib import Path\n",
    "# import .nbs.Gstreamer.gst_parameters as params"
   ]
  },
  {
   "cell_type": "code",
   "execution_count": null,
   "metadata": {},
   "outputs": [],
   "source": [
    "#| export\n",
    "# gi.require_version('Gst', '1.0')"
   ]
  },
  {
   "cell_type": "code",
   "execution_count": null,
   "metadata": {},
   "outputs": [],
   "source": [
    "#| hide\n",
    "from nbdev.showdoc import *\n",
    "from nbdev.showdoc import *\n",
    "from fastcore.test import *\n"
   ]
  },
  {
   "cell_type": "markdown",
   "metadata": {},
   "source": [
    "### Default parameters\n",
    "see the code below"
   ]
  },
  {
   "cell_type": "code",
   "execution_count": null,
   "metadata": {},
   "outputs": [],
   "source": [
    "#| exports\n",
    "#|code-fold: true\n",
    "from dataclasses import dataclass\n",
    "\n",
    "@dataclass\n",
    "class DefaultParams():\n",
    "    camera_dev = \"CAM-0\"\n",
    "    cameras = {\n",
    "        \"CAM-0\": {\n",
    "            \"gst\": [\n",
    "                'videotestsrc pattern=smpte is-live=true ! tee name=t ',\n",
    "                't. ! queue leaky=2 ! videoconvert ! videorate drop-only=true ! video/x-raw,framerate=10/1,format=(string)BGR ! videoconvert ! appsink emit-signals=true  sync=false async=false  max-buffers=2 drop=true ',\n",
    "                't. ! queue leaky=2 ! valve name=myvalve drop=true ! video/x-raw,format=I420,width=640,height=480 ! videoconvert ! x264enc ! rtph264pay ! udpsink host=127.0.0.1 port=5000',\n",
    "                ],\n",
    "            \"udp\": True,\n",
    "            \"host\": \"127.0.0.1\",\n",
    "            \"port\": 5000,\n",
    "        },\n",
    "        \"CAM-1\": {\n",
    "            \"gst\": [\n",
    "                'videotestsrc pattern=ball is-live=true ! tee name=t ',\n",
    "                't. ! queue leaky=2 ! videoconvert ! videorate drop-only=true ! video/x-raw,framerate=10/1,format=(string)BGR ! videoconvert ! appsink emit-signals=true  sync=false async=false  max-buffers=2 drop=true ',\n",
    "                't. ! queue leaky=2 ! valve name=myvalve drop=true ! video/x-raw,format=I420,width=640,height=480 ! videoconvert ! x264enc ! rtph264pay ! udpsink host=127.0.0.1 port=5000',\n",
    "                ],\n",
    "            \"udp\": True,\n",
    "            \"host\": \"127.0.0.1\",\n",
    "            \"port\": 5000,\n",
    "        },\n",
    "        \"CAM-2\": {\n",
    "            \"gst\": [\n",
    "                'videotestsrc pattern=snow is-live=true ! tee name=t ',\n",
    "                't. ! queue leaky=2 ! videoconvert ! videorate drop-only=true ! video/x-raw,framerate=10/1,format=(string)BGR ! videoconvert ! appsink emit-signals=true  sync=false async=false  max-buffers=2 drop=true ',\n",
    "                't. ! queue leaky=2 ! valve name=myvalve drop=true ! video/x-raw,format=I420,width=640,height=480 ! videoconvert ! x264enc ! rtph264pay ! udpsink host=127.0.0.1 port=5000',\n",
    "                ],\n",
    "            \"udp\": True,\n",
    "            \"host\": \"127.0.0.1\",\n",
    "            \"port\": 5000,\n",
    "        },\n",
    "        \"CAM-3\": {\n",
    "            \"gst\": [\n",
    "                'videotestsrc pattern=pinwheel is-live=true ! tee name=t ',\n",
    "                't. ! queue leaky=2 ! videoconvert ! videorate drop-only=true ! video/x-raw,framerate=10/1,format=(string)BGR ! videoconvert ! appsink emit-signals=true  sync=false async=false  max-buffers=2 drop=true ',\n",
    "                't. ! queue leaky=2 ! valve name=myvalve drop=true ! video/x-raw,format=I420,width=640,height=480 ! videoconvert ! x264enc ! rtph264pay ! udpsink host=127.0.0.1 port=5000',\n",
    "                ],\n",
    "            \"udp\": True,\n",
    "            \"host\": \"127.0.0.1\",\n",
    "            \"port\": 5000,\n",
    "            },\n",
    "    \n",
    "       }\n",
    "\n",
    "    # socket address and port\n",
    "    mqqt_address='127.0.0.1'\n",
    "    src_port=1234"
   ]
  },
  {
   "cell_type": "markdown",
   "metadata": {},
   "source": [
    "```DefaultParams.cameras[\"CAM-0\"][\"gst\"]``` is a list of gstreamer commands."
   ]
  },
  {
   "cell_type": "code",
   "execution_count": null,
   "metadata": {},
   "outputs": [
    {
     "name": "stdout",
     "output_type": "stream",
     "text": [
      "{'gst': ['videotestsrc pattern=smpte is-live=true ! tee name=t ', 't. ! queue leaky=2 ! videoconvert ! videorate drop-only=true ! video/x-raw,framerate=10/1,format=(string)BGR ! videoconvert ! appsink emit-signals=true  sync=false async=false  max-buffers=2 drop=true ', 't. ! queue leaky=2 ! valve name=myvalve drop=true ! video/x-raw,format=I420,width=640,height=480 ! videoconvert ! x264enc ! rtph264pay ! udpsink host=127.0.0.1 port=5000'], 'udp': True, 'host': '127.0.0.1', 'port': 5000}\n"
     ]
    }
   ],
   "source": [
    "print(DefaultParams.cameras[\"CAM-0\"])"
   ]
  },
  {
   "cell_type": "markdown",
   "metadata": {},
   "source": [
    "The default parameters list 4 gst videotestsrc each with a different pattern. \n",
    "The patterns are: \n",
    "- smpte,  ball, snow, pinwheel.\n",
    "\n",
    "The video is split with a tee into two streams \n",
    "1.  is streamed via an on / off valve to  udp port 5000.\n",
    "2. is streamed to an appsink for processing.\n"
   ]
  },
  {
   "cell_type": "markdown",
   "metadata": {},
   "source": [
    "### Gstreamer pipeline"
   ]
  },
  {
   "cell_type": "code",
   "execution_count": null,
   "metadata": {},
   "outputs": [],
   "source": [
    "#| exports\n",
    "#|code-fold: true\n",
    "class GstVideoStream():\n",
    "    \"Video streamer class using gstreamer\"\n",
    "    def __init__(self, gstcommand:List  # gst command list\n",
    "                 , address:str='127.0.0.1'  # udp address\n",
    "                 , port:int=5000): # udp port\n",
    "        Gst.init(None)\n",
    "        self.gstcommand = gstcommand\n",
    "        self.address = address\n",
    "        self.port = port\n",
    "\n",
    "        self.latest_frame = self._new_frame = None\n",
    "        self.video_pipe = None\n",
    "        self.video_sink = None\n",
    "        self.pause = False\n",
    "        self.run()\n",
    "\n",
    "    def start_gst(self, config=None):\n",
    "        \"\"\" Start gstreamer pipeline and sink\n",
    "        \"\"\"\n",
    "        command = ' '.join(self.gstcommand)\n",
    "        print(command)\n",
    "        self.video_pipe = Gst.parse_launch(command)\n",
    "        self.video_pipe.set_state(Gst.State.PLAYING)\n",
    "        self.video_sink = self.video_pipe.get_by_name('appsink0')\n",
    "\n",
    "    @staticmethod\n",
    "    def gst_to_opencv(sample):\n",
    "        \"Transform byte array into np array\"\n",
    "\n",
    "        buf = sample.get_buffer()\n",
    "        caps_structure = sample.get_caps().get_structure(0)\n",
    "        array = np.ndarray(\n",
    "            (\n",
    "                caps_structure.get_value('height'),\n",
    "                caps_structure.get_value('width'),\n",
    "                3\n",
    "            ),\n",
    "            buffer=buf.extract_dup(0, buf.get_size()), dtype=np.uint8)\n",
    "        return array\n",
    "\n",
    "    def frame(self):\n",
    "        \"\"\" Get Frame\n",
    "        Returns:\n",
    "            np.ndarray: latest retrieved image frame\n",
    "        \"\"\"\n",
    "        if self.frame_available:\n",
    "            self.latest_frame = self._new_frame\n",
    "            # reset to indicate latest frame has been 'consumed'\n",
    "            self._new_frame = None\n",
    "        return self.latest_frame\n",
    "\n",
    "    # def frame_available(self):\n",
    "    #     \"\"\"Check if a new frame is available\n",
    "    #     Returns:\n",
    "    #         bool: true if a new frame is available\n",
    "    #     \"\"\"\n",
    "    #     return self._new_frame is not None\n",
    "\n",
    "    def run(self):\n",
    "        \"\"\" Get frame to update _new_frame\n",
    "        \"\"\"\n",
    "\n",
    "        self.start_gst()\n",
    "        try:\n",
    "            self.video_sink.connect('new-sample', self.callback)\n",
    "        except:\n",
    "            pass\n",
    "\n",
    "    def callback(self, sink):\n",
    "        sample = sink.emit('pull-sample')\n",
    "        # if not self.pause:\n",
    "        self._new_frame = self.gst_to_opencv(sample)\n",
    "\n",
    "        return Gst.FlowReturn.OK\n"
   ]
  },
  {
   "cell_type": "code",
   "execution_count": null,
   "metadata": {},
   "outputs": [],
   "source": [
    "#| export\n",
    "@patch\n",
    "def frame_available(self:GstVideoStream):\n",
    "    \"Check and return frame is available\"\n",
    "    return self._new_frame is not None"
   ]
  },
  {
   "cell_type": "markdown",
   "metadata": {},
   "source": [
    "### Valve gives the ability to pause the video stream"
   ]
  },
  {
   "cell_type": "code",
   "execution_count": null,
   "metadata": {},
   "outputs": [],
   "source": [
    "#| export\n",
    "def toggle_valve_state(pipeline:Gst.Pipeline  # set up by Gst.parse_launch(command)\n",
    "                       , valvename: str):  # name of valve element\n",
    "    \" Toggle the state of a valve element\"\n",
    "\n",
    "    valve = pipeline.get_by_name(valvename)\n",
    "    current_drop_state = valve.get_property(\"drop\")\n",
    "    print(\"current_drop_state\", current_drop_state)\n",
    "    valve.set_property(\"drop\", not current_drop_state)\n",
    "    current_drop_state = valve.get_property(\"drop\")\n",
    "    print(\"new_drop_state\", current_drop_state)\n",
    "\n",
    "    # valve.set_property(\"drop\", state)\n",
    "def set_valve_state(pipeline:Gst.Pipeline  # set up by Gst.parse_launch(command)\n",
    "                    , valvename: str  # name of valve element\n",
    "                    , drop_state: bool  # True = drop frames\n",
    "                    ):\n",
    "    \"Set the state of a valve element\"\n",
    "    \n",
    "    valve = pipeline.get_by_name(valvename)\n",
    "    current_drop_state = valve.get_property(\"drop\")\n",
    "    print(\"current_drop_state\", current_drop_state)\n",
    "    valve.set_property(\"drop\", drop_state)\n",
    "    current_drop_state = valve.get_property(\"drop\")\n",
    "    print(\"new_drop_state\", current_drop_state)\n",
    "\n"
   ]
  },
  {
   "cell_type": "code",
   "execution_count": null,
   "metadata": {},
   "outputs": [],
   "source": [
    "#| export\n",
    "def ping_ip(ip_address:str # IP address to ping\n",
    "            )->bool :  # returns True if IP address is in use\n",
    "    \"Ping an IP address to see if it is in use\"\n",
    "    if platform.system().lower() == \"windows\":\n",
    "        status = subprocess.call(\n",
    "            ['ping', '-q', '-n', '1', '-W', '1', ip_address],\n",
    "            stdout=subprocess.DEVNULL)\n",
    "    else:\n",
    "        status = subprocess.call(\n",
    "            ['ping', '-q', '-c', '1', '-W', '1', ip_address],\n",
    "            stdout=subprocess.DEVNULL)\n",
    "\n",
    "    if status == 0:\n",
    "        return True\n",
    "    else:\n",
    "        return False"
   ]
  },
  {
   "cell_type": "markdown",
   "metadata": {},
   "source": [
    "Test ping IP"
   ]
  },
  {
   "cell_type": "code",
   "execution_count": null,
   "metadata": {},
   "outputs": [],
   "source": [
    "test_eq(ping_ip(\"127.0.0.1\"), True)"
   ]
  },
  {
   "cell_type": "code",
   "execution_count": null,
   "metadata": {},
   "outputs": [],
   "source": [
    "test_eq(ping_ip(\"1.2.3.4\"), False)"
   ]
  },
  {
   "cell_type": "code",
   "execution_count": null,
   "metadata": {},
   "outputs": [],
   "source": [
    "#| export\n",
    "class Mqtt:\n",
    "    \"Class to control the valve via MQTT\"\n",
    "    def __init__(self, camera:str  # name of camera\n",
    "                 , video:GstVideoStream  # video object\n",
    "                 ):\n",
    "        self.camera = camera\n",
    "        self.video = video\n",
    "        self.client = mqtt.Client(self.camera)\n",
    "\n",
    "        addr = \"10.42.0.1\"\n",
    "        if ping_ip(addr):\n",
    "            print(\"Connecting to \", addr)\n",
    "            self.client.connect(addr)\n",
    "        else:\n",
    "            print(\"Connecting to \", \"127.0.0.1\")\n",
    "            self.client.connect(\"127.0.0.1\")\n",
    "\n",
    "        self.client.loop_start()\n",
    "        self.client.subscribe(\"STREAM-CAMERA\")\n",
    "        self.client.on_message = self.on_mqtt_message\n",
    "\n",
    "    def on_mqtt_message(self, client:mqtt.Client # mqtt client\n",
    "                        , userdata # user data\n",
    "                        , message:mqtt.MQTTMessage # message\n",
    "                        ):\n",
    "        mess = str(message.payload.decode(\"utf-8\"))\n",
    "        print(\"Received message: \", mess)\n",
    "        if mess == self.camera:\n",
    "            set_valve_state(self.video.video_pipe, \"myvalve\", False)\n",
    "        else:\n",
    "            set_valve_state(self.video.video_pipe, \"myvalve\", True)\n",
    "    \n",
    "    def close(self):\n",
    "        self.client.loop_stop()\n",
    "        self.client.disconnect()\n",
    "        print(\"Closed mqtt client\")\n"
   ]
  },
  {
   "cell_type": "code",
   "execution_count": null,
   "metadata": {},
   "outputs": [
    {
     "data": {
      "text/markdown": "---\n\n### Mqtt\n\n>      Mqtt (camera:str, video:__main__.VideoStreamer)\n\nClass to control the valve via MQTT\n\n|    | **Type** | **Details** |\n| -- | -------- | ----------- |\n| camera | str | name of camera |\n| video | VideoStreamer | video object |",
      "text/plain": "---\n\n### Mqtt\n\n>      Mqtt (camera:str, video:__main__.VideoStreamer)\n\nClass to control the valve via MQTT\n\n|    | **Type** | **Details** |\n| -- | -------- | ----------- |\n| camera | str | name of camera |\n| video | VideoStreamer | video object |"
     },
     "execution_count": null,
     "metadata": {},
     "output_type": "execute_result"
    }
   ],
   "source": [
    "\n",
    "show_doc(Mqtt)"
   ]
  },
  {
   "cell_type": "markdown",
   "metadata": {},
   "source": [
    "### Main function for local testing"
   ]
  },
  {
   "cell_type": "code",
   "execution_count": null,
   "metadata": {},
   "outputs": [],
   "source": [
    "#| exports\n",
    "#|code-fold: true\n",
    "def main(camera=\"CAM-0\"):\n",
    "    params = DefaultParams()\n",
    "    cv2.namedWindow(camera, cv2.WINDOW_NORMAL)\n",
    "    gstcommand = params.cameras[camera][\"gst\"]\n",
    "    video = GstVideoStream(gstcommand)\n",
    "    mqtt = Mqtt(camera, video)\n",
    "\n",
    "    print('Initialising stream...')\n",
    "    waited = 0\n",
    "    while not video.frame_available():\n",
    "        waited += 1\n",
    "        print('\\r  Frame not available (x{})'.format(waited), end='')\n",
    "        cv2.waitKey(30)\n",
    "\n",
    "    print('\\nSuccess!\\nStarting streaming - press \"q\" to quit.')\n",
    "\n",
    "    wait_time = 1\n",
    "    count = 0\n",
    "    while True:\n",
    "\n",
    "        if video.frame_available() and count % 10 == 0:\n",
    "            frame = video.frame().copy()\n",
    "            # # cv2.putText(frame, f'{frame_num:2d} {data_received}', (10, 30), cv2.FONT_HERSHEY_PLAIN, 1, (0, 0, 255), 2)\n",
    "            frame = resize(frame, width= 600)\n",
    "            cv2.imshow(camera, frame)\n",
    "            pass\n",
    "\n",
    "\n",
    "        if count % 1000 == 0:\n",
    "            print( count)\n",
    "        count += 1\n",
    "\n",
    "\n",
    "        k = cv2.waitKey(wait_time)\n",
    "\n",
    "        if k == ord('q') or k == ord('Q') or k == 27:\n",
    "            break\n",
    "\n",
    "        if k == ord('v'):\n",
    "            # Assuming you have a valve element named 'myvalve' in your pipeline\n",
    "            valve = video.video_pipe.get_by_name(\"myvalve\")\n",
    "            current_drop_state = valve.get_property(\"drop\")\n",
    "            print(\"current_drop_state\", current_drop_state)\n",
    "            valve.set_property(\"drop\", not current_drop_state)\n",
    "            current_drop_state = valve.get_property(\"drop\")\n",
    "            print(\"new_drop_state\", current_drop_state)\n",
    "\n",
    "            time.sleep(2)\n",
    "\n",
    "            # video.video_pipe.set_state(Gst.State.PLAYING)\n",
    "\n",
    "        if k == ord(' '):\n",
    "            if wait_time != 0:\n",
    "                wait_time = 0\n",
    "            else:\n",
    "                wait_time = 1\n",
    "\n",
    "        if k == ord('s'):\n",
    "            save = 0\n",
    "            save_path = Path(params.save_path) \n",
    "            save_path.mkdir(exist_ok=True)\n",
    "            pass\n",
    "\n",
    "    mqtt.close()"
   ]
  },
  {
   "cell_type": "markdown",
   "metadata": {},
   "source": [
    "\n",
    "### Receive on UDP with this Test  :\n",
    "from first terminal run \n",
    "```sh\n",
    "   gst-launch-1.0 udpsrc port=5000 ! application/x-rtp,encoding-name=H264,payload=96 ! \\\n",
    "           rtph264depay ! h264parse ! queue ! avdec_h264 ! xvimagesink sync=false async=false -e\n",
    "  ```\n",
    "from second terminal run \n",
    "```sh\n",
    "  mosquitto_pub -m \"CAM-0\" -t \"STREAM-CAMERA\"\n",
    "  mosquitto_pub -m \"CAM-1\" -t \"STREAM-CAMERA\"\n",
    "```"
   ]
  },
  {
   "cell_type": "markdown",
   "metadata": {},
   "source": [
    "### Test with two cameras from terminal"
   ]
  },
  {
   "cell_type": "code",
   "execution_count": null,
   "metadata": {},
   "outputs": [],
   "source": [
    "from multiprocessing import Process #|hide_line"
   ]
  },
  {
   "cell_type": "code",
   "execution_count": null,
   "metadata": {},
   "outputs": [
    {
     "name": "stdout",
     "output_type": "stream",
     "text": [
      "CAM-0\n",
      "CAM-1\n",
      "videotestsrc pattern=ball is-live=true ! tee name=t  t. ! queue leaky=2 ! videoconvert ! videorate drop-only=true ! video/x-raw,framerate=10/1,format=(string)BGR ! videoconvert ! appsink emit-signals=true  sync=false async=false  max-buffers=2 drop=true  t. ! queue leaky=2 ! valve name=myvalve drop=true ! video/x-raw,format=I420,width=640,height=480 ! videoconvert ! x264enc ! rtph264pay ! udpsink host=127.0.0.1 port=5000videotestsrc pattern=smpte is-live=true ! tee name=t  t. ! queue leaky=2 ! videoconvert ! videorate drop-only=true ! video/x-raw,framerate=10/1,format=(string)BGR ! videoconvert ! appsink emit-signals=true  sync=false async=false  max-buffers=2 drop=true  t. ! queue leaky=2 ! valve name=myvalve drop=true ! video/x-raw,format=I420,width=640,height=480 ! videoconvert ! x264enc ! rtph264pay ! udpsink host=127.0.0.1 port=5000\n",
      "Connecting to Connecting to   127.0.0.1\n",
      "127.0.0.1\n",
      "Initialising stream...\n",
      "Initialising stream...\n",
      "Success!\n",
      "Starting streaming - press \"q\" to quit.\n",
      "\n",
      "\n",
      "Success!\n",
      "Starting streaming - press \"q\" to quit.\n",
      "0\n",
      "0\n",
      "1000\n",
      "Closed mqtt client\n",
      "Closed mqtt client\n"
     ]
    }
   ],
   "source": [
    "#| exports\n",
    "#|eval: false     don't run this cell in testing\n",
    "#|code-fold: true\n",
    "# from multiprocessing import Process   # you will need to import Process from multiprocessing\n",
    "\n",
    "try: __name__\n",
    "except NameError: __name__ = None   # stops nbdev_preview from forever looping / crashing\n",
    "if __name__ == '__main__':\n",
    "    \n",
    "    cams = []\n",
    "    params = DefaultParams()\n",
    "    for cam in list(params.cameras.keys())[:2]:\n",
    "        print(cam)\n",
    "        p = Process(target=main, args=(cam,))\n",
    "        p.start()\n",
    "        cams.append(p)\n",
    "\n",
    "    for p in cams:\n",
    "        p.join()"
   ]
  },
  {
   "cell_type": "code",
   "execution_count": null,
   "metadata": {},
   "outputs": [],
   "source": [
    "#| hide\n",
    "import nbdev; nbdev.nbdev_export()"
   ]
  }
 ],
 "metadata": {
  "kernelspec": {
   "display_name": "python3",
   "language": "python",
   "name": "python3"
  }
 },
 "nbformat": 4,
 "nbformat_minor": 4
}
