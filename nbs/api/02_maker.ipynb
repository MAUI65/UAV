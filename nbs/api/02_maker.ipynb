{
 "cells": [
  {
   "cell_type": "code",
   "execution_count": null,
   "metadata": {},
   "outputs": [],
   "source": [
    "#|hide\n",
    "#|default_exp maker"
   ]
  },
  {
   "cell_type": "code",
   "execution_count": null,
   "metadata": {},
   "outputs": [],
   "source": [
    "#|export\n",
    "from __future__ import annotations"
   ]
  },
  {
   "cell_type": "markdown",
   "metadata": {},
   "source": [
    "# maker\n",
    "> Create one or more modules from selected notebook cells"
   ]
  },
  {
   "cell_type": "code",
   "execution_count": null,
   "metadata": {},
   "outputs": [],
   "source": [
    "#|export\n",
    "from nbdev.config import *\n",
    "from nbdev.imports import *\n",
    "\n",
    "from fastcore.script import *\n",
    "from fastcore.basics import *\n",
    "from fastcore.imports import *\n",
    "from execnb.nbio import *\n",
    "\n",
    "import ast,contextlib\n",
    "\n",
    "from collections import defaultdict\n",
    "from pprint import pformat\n",
    "from textwrap import TextWrapper"
   ]
  },
  {
   "cell_type": "code",
   "execution_count": null,
   "metadata": {},
   "outputs": [],
   "source": [
    "#|hide\n",
    "from fastcore.test import *\n",
    "from pdb import set_trace\n",
    "from importlib import reload\n",
    "from nbdev.showdoc import *\n",
    "import shutil"
   ]
  },
  {
   "cell_type": "markdown",
   "metadata": {},
   "source": [
    "## Helpers"
   ]
  },
  {
   "cell_type": "markdown",
   "metadata": {},
   "source": [
    "These functions let us find and modify the definitions of variables in Python modules."
   ]
  }
 ],
 "metadata": {
  "kernelspec": {
   "display_name": "python3",
   "language": "python",
   "name": "python3"
  }
 },
 "nbformat": 4,
 "nbformat_minor": 4
}
