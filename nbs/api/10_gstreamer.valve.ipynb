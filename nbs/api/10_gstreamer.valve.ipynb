{
 "cells": [
  {
   "cell_type": "markdown",
   "metadata": {},
   "source": []
  },
  {
   "cell_type": "code",
   "execution_count": null,
   "metadata": {},
   "outputs": [],
   "source": [
    "#| default_exp gstreamer.valve"
   ]
  },
  {
   "cell_type": "markdown",
   "metadata": {},
   "source": [
    "# Gstreamer Valve\n",
    "> Gstreamer video capture with on/off valve\n",
    "\n"
   ]
  },
  {
   "cell_type": "code",
   "execution_count": null,
   "metadata": {},
   "outputs": [],
   "source": [
    "#| hide\n",
    "# skip_showdoc: true to avoid running cells when rendering docs, and skip_exec: true to skip this notebook when running tests. \n",
    "# this should be a raw cell "
   ]
  },
  {
   "cell_type": "raw",
   "metadata": {},
   "source": [
    "---\n",
    "skip_showdoc: true\n",
    "skip_exec: true\n",
    "---"
   ]
  },
  {
   "cell_type": "code",
   "execution_count": null,
   "metadata": {},
   "outputs": [],
   "source": [
    "#| export\n",
    "from fastcore.utils import *\n",
    "from fastcore.utils import *\n",
    "import cv2\n",
    "import gi\n",
    "import numpy as np\n",
    "from imutils import resize\n",
    "# from ping_ip import ping_ip\n",
    "import threading\n",
    "from multiprocessing import Process\n",
    "from gi.repository import Gst\n",
    "import subprocess\n",
    "import platform\n",
    "\n",
    "import paho.mqtt.client as mqtt_client\n",
    "\n",
    "import time\n",
    "# from dataloader import LoadImages, resize\n",
    "from pathlib import Path\n",
    "import logging\n",
    "# import .nbs.Gstreamer.gst_parameters as params"
   ]
  },
  {
   "cell_type": "code",
   "execution_count": null,
   "metadata": {},
   "outputs": [],
   "source": [
    "#| export\n",
    "logging.basicConfig(format='%(asctime)-8s,%(msecs)-3d %(levelname)5s [%(filename)10s:%(lineno)3d] %(message)s',\n",
    "                    datefmt='%H:%M:%S',\n",
    "                    level=logging.INFO)  # Todo add this to params\n",
    "logger = logging.getLogger(__name__)"
   ]
  },
  {
   "cell_type": "code",
   "execution_count": null,
   "metadata": {},
   "outputs": [],
   "source": [
    "#| export\n",
    "# gi.require_version('Gst', '1.0')"
   ]
  },
  {
   "cell_type": "code",
   "execution_count": null,
   "metadata": {},
   "outputs": [],
   "source": [
    "#| hide\n",
    "from nbdev.showdoc import *\n",
    "from nbdev.showdoc import *\n",
    "from fastcore.test import *\n"
   ]
  },
  {
   "cell_type": "markdown",
   "metadata": {},
   "source": [
    "### Default parameters\n",
    "Overide these default parameters for application specific applications.\n",
    "\n",
    "The code is shown below:"
   ]
  },
  {
   "cell_type": "code",
   "execution_count": null,
   "metadata": {},
   "outputs": [],
   "source": [
    "#| exports\n",
    "#|code-fold: true\n",
    "from dataclasses import dataclass\n",
    "\n",
    "@dataclass\n",
    "class DefaultParams():\n",
    "    camera_dev = \"CAM-0\"\n",
    "    cameras = {\n",
    "        \"CAM-0\": {\n",
    "            \"gst\": [\n",
    "                'videotestsrc pattern=smpte is-live=true ! tee name=t ',\n",
    "                't. ! queue leaky=2 ! videoconvert ! videorate drop-only=true ! video/x-raw,framerate=10/1,format=(string)BGR ! ',\n",
    "                '   videoconvert ! appsink name=sink emit-signals=true  sync=false async=false  max-buffers=2 drop=true ',\n",
    "                't. ! queue leaky=2 ! valve name=myvalve drop=true ! video/x-raw,format=I420,width=640,height=480 ! videoconvert ! x264enc ! rtph264pay ! udpsink host=127.0.0.1 port=5000',\n",
    "                ],\n",
    "            \"udp\": True,\n",
    "            \"host\": \"127.0.0.1\",\n",
    "            \"port\": 5000,\n",
    "        },\n",
    "        \"CAM-1\": {\n",
    "            \"gst\": [\n",
    "                'videotestsrc pattern=ball is-live=true ! tee name=t ',\n",
    "                't. ! queue leaky=2 ! videoconvert ! videorate drop-only=true ! video/x-raw,framerate=10/1,format=(string)BGR ! ',\n",
    "                '   videoconvert ! appsink name=sink emit-signals=true  sync=false async=false  max-buffers=2 drop=true ',\n",
    "                't. ! queue leaky=2 ! valve name=myvalve drop=true ! video/x-raw,format=I420,width=640,height=480 ! videoconvert ! x264enc ! rtph264pay ! udpsink host=127.0.0.1 port=5001',\n",
    "                ],\n",
    "            \"udp\": True,\n",
    "            \"host\": \"127.0.0.1\",\n",
    "            \"port\": 5001,\n",
    "        },\n",
    "        \"CAM-2\": {\n",
    "            \"gst\": [\n",
    "                'videotestsrc pattern=snow is-live=true ! tee name=t ',\n",
    "                't. ! queue leaky=2 ! videoconvert ! videorate drop-only=true ! video/x-raw,framerate=10/1,format=(string)BGR ! ',\n",
    "                '   videoconvert ! appsink name=sink emit-signals=true  sync=false async=false  max-buffers=2 drop=true ',\n",
    "                't. ! queue leaky=2 ! valve name=myvalve drop=true ! video/x-raw,format=I420,width=640,height=480 ! videoconvert ! x264enc ! rtph264pay ! udpsink host=127.0.0.1 port=5002',\n",
    "                ],\n",
    "            \"udp\": True,\n",
    "            \"host\": \"127.0.0.1\",\n",
    "            \"port\": 5002,\n",
    "        },\n",
    "        \"CAM-3\": {\n",
    "            \"gst\": [\n",
    "                'videotestsrc pattern=pinwheel is-live=true ! tee name=t ',\n",
    "                't. ! queue leaky=2 ! videoconvert ! videorate drop-only=true ! video/x-raw,framerate=10/1,format=(string)BGR ! ',\n",
    "                '  videoconvert ! appsink name=sink emit-signals=true  sync=false async=false  max-buffers=2 drop=true ',\n",
    "                't. ! queue leaky=2 ! valve name=myvalve drop=true ! video/x-raw,format=I420,width=640,height=480 ! videoconvert ! x264enc ! rtph264pay ! udpsink host=127.0.0.1 port=5003',\n",
    "                ],\n",
    "            \"udp\": True,\n",
    "            \"host\": \"127.0.0.1\",\n",
    "            \"port\": 5003,\n",
    "            },\n",
    "    \n",
    "       }\n",
    "\n",
    "    # socket address and port\n",
    "    mqqt_address='127.0.0.1'\n",
    "    src_port=1234"
   ]
  },
  {
   "cell_type": "markdown",
   "metadata": {},
   "source": [
    "As an example for camera 0, ```DefaultParams.cameras[\"CAM-0\"][\"gst\"]``` is a list of gstreamer setup commands."
   ]
  },
  {
   "cell_type": "markdown",
   "metadata": {},
   "source": [
    "The default parameters list four gst videotestsrc each with a different pattern. \n",
    "The patterns are: \n",
    "- smpte,  ball, snow, pinwheel.\n",
    "\n",
    "The video is split with a tee into two streams \n",
    "1.  is streamed via an on / off valve to  udp port 5000.\n",
    "2. is streamed to an appsink for processing.\n"
   ]
  },
  {
   "cell_type": "code",
   "execution_count": null,
   "metadata": {},
   "outputs": [
    {
     "name": "stdout",
     "output_type": "stream",
     "text": [
      "['videotestsrc pattern=smpte is-live=true ! tee name=t ', 't. ! queue leaky=2 ! videoconvert ! videorate drop-only=true ! video/x-raw,framerate=10/1,format=(string)BGR ! ', '   videoconvert ! appsink name=sink emit-signals=true  sync=false async=false  max-buffers=2 drop=true ', 't. ! queue leaky=2 ! valve name=myvalve drop=true ! video/x-raw,format=I420,width=640,height=480 ! videoconvert ! x264enc ! rtph264pay ! udpsink host=127.0.0.1 port=5000']\n"
     ]
    }
   ],
   "source": [
    "gstcommand = DefaultParams().cameras[\"CAM-0\"][\"gst\"]\n",
    "print(gstcommand)"
   ]
  },
  {
   "cell_type": "markdown",
   "metadata": {},
   "source": [
    "### Gstreamer Receive Pipeline Class\n",
    "\n",
    "the class is called with the gst command list and the address and port.\n",
    "```frame_available``` is a flag that is set when a new frame is available."
   ]
  },
  {
   "cell_type": "code",
   "execution_count": null,
   "metadata": {},
   "outputs": [],
   "source": [
    "#| exports\n",
    "#| code-fold: true\n",
    "\n",
    "# https://github.com/gkralik/python-gst-tutorial/blob/master/basic-tutorial-4.py\n",
    "\n",
    "class GstStream():\n",
    "    \"\"\"\"GstStream  class using gstreamer\n",
    "        Create and start a GStreamer pipe\n",
    "            gst_pipe = GstStream()\n",
    "        \"\"\"\n",
    "    \n",
    "    def __init__(self, name:str='CAM-0' # camera name\n",
    "                 , gstcommand:List=['videotestsrc ! autovideosink'] # gst command list\n",
    "                 , address:str='127.0.0.1'  # udp address\n",
    "                 , port:int=5000): # udp port\n",
    "        \n",
    "        Gst.init(None)\n",
    "        assert isinstance(name, str), \"name must be a string\"\n",
    "        self.name = name\n",
    "        assert isinstance(gstcommand, List), \"gstcommand must be a list\"\n",
    "        self.gstcommand = gstcommand\n",
    "        self.address = address\n",
    "        self.port = port\n",
    "\n",
    "        self.latest_frame = self._new_frame = None\n",
    "        self.start_gst()\n",
    "        self._thread = threading.Thread(target=self.msg_thread_func, daemon=True)\n",
    "        self._stop_thread = False\n",
    "        self._thread .start()\n",
    "        logger.info(\"GstStream started\")\n",
    "\n",
    "    def start_gst(self):\n",
    "        \"\"\" Start gstreamer pipeline and sink\n",
    "        \"\"\"\n",
    "        if self.gstcommand != []:\n",
    "            command = ' '.join(self.gstcommand)\n",
    "        else:\n",
    "            command = 'videotestsrc ! autovideosink'\n",
    "            command = \"videotestsrc ! tee name=t t. ! queue ! autovideosink \" +\\\n",
    "                       \" t. ! videoconvert ! video/x-raw,format=(string)BGR ! videoconvert ! \" +\\\n",
    "                       \" queue ! appsink name=sink emit-signals=true \"\n",
    "\n",
    "        # print (command)\n",
    "        self.pipeline = Gst.parse_launch(command)\n",
    "        self.appsink = self.pipeline.get_by_name('sink')\n",
    "        try:\n",
    "            self.appsink.connect('new-sample', self.callback)\n",
    "        except:\n",
    "            logger.error(\"Error connecting to callback\")\n",
    "            \n",
    "        self.pipeline.set_state(Gst.State.PLAYING)\n",
    "        self.bus = self.pipeline.get_bus()\n",
    "        \n",
    "    def msg_thread_func(self):   \n",
    "        \"Run thread\"\n",
    "        # Poll for messages on the bus (like EOS or ERROR), and handle them\n",
    "        while not self._stop_thread:\n",
    "            message = self.bus.timed_pop_filtered(100*Gst.MSECOND, Gst.MessageType.ANY)\n",
    "            if message is None:\n",
    "                continue\n",
    "    \n",
    "            if message.type == Gst.MessageType.EOS:\n",
    "                logger.info(\"End-Of-Stream reached.\")\n",
    "                break\n",
    "            elif message.type == Gst.MessageType.ERROR:\n",
    "                err, debug = message.parse_error()\n",
    "                logger.error(\"JN Error received from element %s: %s\" % (message.src.get_name(), err))\n",
    "                logger.error(\"Debugging information: %s\" % debug)\n",
    "                break\n",
    "        # Cleanup \n",
    "        logger.info(\"Stopping GstStream\")\n",
    "        self.pipeline.set_state(Gst.State.NULL)\n",
    "        \n",
    "    @staticmethod\n",
    "    def gst_to_opencv(sample):\n",
    "        \"Transform byte array into np array\"\n",
    "        buf = sample.get_buffer()\n",
    "        caps_structure = sample.get_caps().get_structure(0)\n",
    "        array = np.ndarray(\n",
    "            ( caps_structure.get_value('height'),caps_structure.get_value('width'), 3),\n",
    "            buffer=buf.extract_dup(0, buf.get_size()), dtype=np.uint8)\n",
    "        return array\n",
    "\n",
    "    def frame(self):\n",
    "        \"\"\" Get Frame\n",
    "        Returns:\n",
    "            np.ndarray: latest retrieved image frame\n",
    "        \"\"\"\n",
    "        if self.frame_available:\n",
    "            self.latest_frame = self._new_frame\n",
    "            # reset to indicate latest frame has been 'consumed'\n",
    "            self._new_frame = None\n",
    "        return self.latest_frame\n",
    "\n",
    "    def frame_available(self, \n",
    "                             timeout=2  # timeout in seconds\n",
    "                             )->bool:   # true if a new frame is available within timeout    \n",
    "        \"\"\"Wait for a new frame to be available\"\"\"\n",
    "        elapsetime = 0\n",
    "        while self._new_frame is None:\n",
    "            time.sleep(0.01)\n",
    "            elapsetime += 0.01\n",
    "            if elapsetime > timeout:\n",
    "                return False\n",
    "        return True\n",
    "    \n",
    "            \n",
    "    def callback(self, sink):\n",
    "        sample = sink.emit('pull-sample')\n",
    "        # if not self.pause:\n",
    "        self._new_frame = self.gst_to_opencv(sample)\n",
    "\n",
    "        return Gst.FlowReturn.OK\n",
    "    \n",
    "    def close(self):\n",
    "        \"\"\"Close gstreamer pipeline\n",
    "        see https://github.com/gkralik/python-gst-tutorial/blob/master/basic-tutorial-1.py\n",
    "        \"\"\"\n",
    "        self.pipeline.send_event(Gst.Event.new_eos())   # Todo does not seem to stop pipeline\n",
    "        self.pipeline.set_state(Gst.State.NULL)\n",
    "        self._stop_thread = True\n",
    "        self._thread.join()\n",
    "        logger.info(\"GstStream closed\")\n",
    "\n",
    "        \n",
    "    def __enter__(self):\n",
    "        \"\"\"with context manager\"\"\"\n",
    "\n",
    "        return self  # This value is assigned to the variable after 'as' in the 'with' statement\n",
    "    \n",
    "    def __exit__(self, exc_type, exc_value, traceback):\n",
    "        \"\"\"with context manager\"\"\"\n",
    "        self.close()\n",
    "        # If an exception occurred, exc_type, exc_value, and traceback will be provided\n",
    "        # Returning False (or None) will propagate the exception\n",
    "        # Returning True will suppress it\n",
    "        return False\n"
   ]
  },
  {
   "cell_type": "markdown",
   "metadata": {},
   "source": [
    "To run the above pipeline \n",
    "```gst_pipeline = GstStream()```\n",
    "\n",
    "To close pipeline, run \n",
    "```gst_pipeline.pipeline.close()```"
   ]
  },
  {
   "cell_type": "code",
   "execution_count": null,
   "metadata": {},
   "outputs": [
    {
     "data": {
      "text/markdown": "---\n\n### GstStream.frame_available\n\n>      GstStream.frame_available (timeout=2)\n\nWait for a new frame to be available\n\n|    | **Type** | **Default** | **Details** |\n| -- | -------- | ----------- | ----------- |\n| timeout | int | 2 | timeout in seconds |\n| **Returns** | **bool** |  | **true if a new frame is available within timeout** |",
      "text/plain": "---\n\n### GstStream.frame_available\n\n>      GstStream.frame_available (timeout=2)\n\nWait for a new frame to be available\n\n|    | **Type** | **Default** | **Details** |\n| -- | -------- | ----------- | ----------- |\n| timeout | int | 2 | timeout in seconds |\n| **Returns** | **bool** |  | **true if a new frame is available within timeout** |"
     },
     "execution_count": null,
     "metadata": {},
     "output_type": "execute_result"
    }
   ],
   "source": [
    "show_doc(GstStream.frame_available)"
   ]
  },
  {
   "cell_type": "code",
   "execution_count": null,
   "metadata": {},
   "outputs": [
    {
     "name": "stderr",
     "output_type": "stream",
     "text": [
      "17:58:45,270  INFO [894409507.py: 30] GstStream started\n",
      "17:58:45,382  INFO [894409507.py: 71] Stopping GstStream\n",
      "17:58:45,383  INFO [894409507.py:123] GstStream closed\n"
     ]
    },
    {
     "name": "stdout",
     "output_type": "stream",
     "text": [
      "frame is avail = True\n"
     ]
    }
   ],
   "source": [
    "#|eval: true\n",
    "gstcommand = DefaultParams().cameras[\"CAM-0\"][\"gst\"]\n",
    "with GstStream(\"CAM-0\", gstcommand) as gststream:\n",
    "    avail = gststream.frame_available()\n",
    "    print(f\"frame is avail = {avail}\")\n",
    "    # or \n",
    "    test_eq(gststream.frame_available(), True)\n"
   ]
  },
  {
   "cell_type": "markdown",
   "metadata": {},
   "source": [
    "#### Valve gives the ability to pause the video stream"
   ]
  },
  {
   "cell_type": "code",
   "execution_count": null,
   "metadata": {},
   "outputs": [],
   "source": [
    "#| export\n",
    "@patch     # patch will allow nbdev to document this function when running nbdev_build_docs\n",
    "def toggle_valve_state(self:GstStream\n",
    "                        , valvename: str):  # name of valve element\n",
    "    \" Toggle the state of a valve element\"\n",
    "\n",
    "    valve = self.pipeline.get_by_name(valvename)\n",
    "    logger.info(f\"{self.name}: current_drop_state: {current_drop_state}\")\n",
    "    valve.set_property(\"drop\", not current_drop_state)\n",
    "    current_drop_state = valve.get_property(\"drop\")\n",
    "    logger.info(f\"{self.name}: new_drop_state: {current_drop_state}\")"
   ]
  },
  {
   "cell_type": "code",
   "execution_count": null,
   "metadata": {},
   "outputs": [],
   "source": [
    "#| export\n",
    "@patch\n",
    "def set_valve_state(self:GstStream\n",
    "                    , valvename: str  # name of valve element\n",
    "                    , drop_state: bool  # True = drop frames\n",
    "                    ):\n",
    "    \"Set the state of a valve element\"\n",
    "\n",
    "    valve = self.pipeline.get_by_name(valvename)\n",
    "    valve.set_property(\"drop\", drop_state)\n",
    "    new_drop_state = valve.get_property(\"drop\")\n",
    "    logger.info(f\"{self.name}: new drop state: {new_drop_state}\")\n"
   ]
  },
  {
   "cell_type": "code",
   "execution_count": null,
   "metadata": {},
   "outputs": [],
   "source": [
    "#| export\n",
    "@patch\n",
    "def get_valve_state(self:GstStream\n",
    "                    , valvename: str  # name of valve element\n",
    "                    ):\n",
    "    \"Get the state of a valve element\"\n",
    "\n",
    "    valve = self.pipeline.get_by_name(valvename)\n",
    "    return valve.get_property(\"drop\")\n"
   ]
  },
  {
   "cell_type": "markdown",
   "metadata": {},
   "source": [
    "Test the valve"
   ]
  },
  {
   "cell_type": "code",
   "execution_count": null,
   "metadata": {},
   "outputs": [
    {
     "name": "stderr",
     "output_type": "stream",
     "text": [
      "17:58:45,408  INFO [894409507.py: 30] GstStream started\n",
      "17:58:45,409  INFO [2691128992.py: 12] CAM-0: new drop state: True\n",
      "17:58:45,409  INFO [2691128992.py: 12] CAM-0: new drop state: False\n",
      "17:58:45,520  INFO [894409507.py: 71] Stopping GstStream\n",
      "17:58:45,521  INFO [894409507.py:123] GstStream closed\n"
     ]
    }
   ],
   "source": [
    "#|eval: true\n",
    "gstcommand = DefaultParams().cameras[\"CAM-0\"][\"gst\"]\n",
    "with GstStream(\"CAM-0\", gstcommand) as gststream:\n",
    "    # avail = gststream.frame_available()\n",
    "    # print(f\"frame is avail = {avail}\")\n",
    "    gststream.set_valve_state(\"myvalve\", True)\n",
    "    test_eq(gststream.get_valve_state(\"myvalve\"), True) \n",
    "    gststream.set_valve_state(\"myvalve\", False)\n",
    "    test_eq(gststream.get_valve_state(\"myvalve\"), False)\n",
    "\n"
   ]
  },
  {
   "cell_type": "markdown",
   "metadata": {},
   "source": [
    "#### Ping IP address"
   ]
  },
  {
   "cell_type": "code",
   "execution_count": null,
   "metadata": {},
   "outputs": [],
   "source": [
    "#| export\n",
    "def ping_ip(ip_address:str # IP address to ping\n",
    "            )->bool :  # returns True if IP address is in use\n",
    "    \"Ping an IP address to see if it is in use\"\n",
    "    if platform.system().lower() == \"windows\":\n",
    "        status = subprocess.call(\n",
    "            ['ping', '-q', '-n', '1', '-W', '1', ip_address],\n",
    "            stdout=subprocess.DEVNULL)\n",
    "    else:\n",
    "        status = subprocess.call(\n",
    "            ['ping', '-q', '-c', '1', '-W', '1', ip_address],\n",
    "            stdout=subprocess.DEVNULL)\n",
    "\n",
    "    if status == 0:\n",
    "        return True\n",
    "    else:\n",
    "        return False"
   ]
  },
  {
   "cell_type": "markdown",
   "metadata": {},
   "source": [
    "Test ping IP"
   ]
  },
  {
   "cell_type": "code",
   "execution_count": null,
   "metadata": {},
   "outputs": [],
   "source": [
    "test_eq(ping_ip(\"127.0.0.1\"), True)\n",
    "test_eq(ping_ip(\"1.2.3.4\"), False)"
   ]
  },
  {
   "cell_type": "markdown",
   "metadata": {},
   "source": [
    "#### MQTT"
   ]
  },
  {
   "cell_type": "code",
   "execution_count": null,
   "metadata": {},
   "outputs": [],
   "source": [
    "#| export\n",
    "class Mqtt:\n",
    "    \"Class to control a gst valve via MQTT\"\n",
    "    def __init__(self, camera:str  # name of camera\n",
    "                 , video:GstStream  # video object\n",
    "                 , valve_name:str=\"myvalve\"  # name of valve element\n",
    "                 , addr:str=\"127.0.0.1\"  # IP address of MQTT broker\n",
    "                 ):\n",
    "        self.camera = camera\n",
    "        self.video = video\n",
    "        self.valve_name = valve_name\n",
    "        self.client = mqtt_client.Client(self.camera)\n",
    "        self.msg = None\n",
    "\n",
    "        if ping_ip(addr):\n",
    "            logger.info(f\"Connecting to {addr}\")\n",
    "            self.client.connect(addr)\n",
    "        else:\n",
    "            logger.info(\"Connecting to 127.0.0.1\")\n",
    "            self.client.connect(\"127.0.0.1\")\n",
    "\n",
    "        self.client.loop_start()\n",
    "        \n",
    "        self.connected = False\n",
    "        self.client.on_message = self.on_mqtt_message\n",
    "        self.client.on_connect = self.on_connect\n",
    "\n",
    "\n",
    "    def on_mqtt_message(self, client:mqtt_client.Client # mqtt client\n",
    "                        , userdata # user data\n",
    "                        , message:mqtt_client.MQTTMessage # message\n",
    "                        ):\n",
    "        \"\"\"Callback function for mqtt_client message\n",
    "            Sets the valve state to True or False depending on the message payload\"\"\"\n",
    "        self.msg = str(message.payload.decode(\"utf-8\"))\n",
    "        logger.info(f\"Received message: {self.msg}\" )\n",
    "        if self.video is not None:\n",
    "            try:\n",
    "                if self.msg == self.camera:\n",
    "                    self.video.set_valve_state(self.valve_name, False)\n",
    "                else:\n",
    "                    self.video.set_valve_state(self.valve_name, True)\n",
    "            except Exception as e:\n",
    "                logger.error(f\"Not able to set valve state: {e}\")   # todo - log this error and fix it\n",
    "    \n",
    "    # The callback for when the client receives a CONNACK response from the server.\n",
    "    def on_connect(self, client, userdata, flags, rc):\n",
    "        \"\"\"The callback for when the client receives a CONNACK response from the server.\"\"\"\n",
    "        logger.info(\"Connected with result code \"+str(rc))\n",
    "        self.client.subscribe(\"STREAM-CAMERA\")\n",
    "        self.connected = True\n",
    "        \n",
    "    def wait_connection(self, \n",
    "                             timeout=2  # timeout in seconds\n",
    "                             )->bool:   # true if connected within timeout    \n",
    "        \"\"\"Wait for connection to be available\"\"\"\n",
    "        elapsetime = 0\n",
    "        while not self.connected:\n",
    "            time.sleep(0.01)\n",
    "            elapsetime += 0.01\n",
    "            if elapsetime > timeout:\n",
    "                logger.error(\"Mqtt: Timeout waiting for connection\")\n",
    "                return False\n",
    "            \n",
    "        return True\n",
    "        \n",
    "    def close(self):\n",
    "        self.client.loop_stop()\n",
    "        self.client.disconnect()\n",
    "        logger.info(\"Closed mqtt_client client\")\n",
    "        \n",
    "    def __enter__(self):\n",
    "        \"\"\"with context manager\"\"\"\n",
    "        return self  # This value is assigned to the variable after 'as' in the 'with' statement\n",
    "    \n",
    "    def __exit__(self, exc_type, exc_value, traceback):\n",
    "        \"\"\"with context manager\"\"\"\n",
    "        self.close()\n",
    "        # If an exception occurred, exc_type, exc_value, and traceback will be provided\n",
    "        # Returning False (or None) will propagate the exception\n",
    "        # Returning True will suppress it\n",
    "        return False\n",
    "\n"
   ]
  },
  {
   "cell_type": "code",
   "execution_count": null,
   "metadata": {},
   "outputs": [
    {
     "name": "stderr",
     "output_type": "stream",
     "text": [
      "17:58:46,552  INFO [2975816526.py: 16] Connecting to 127.0.0.1\n",
      "17:58:46,552  INFO [2975816526.py: 49] Connected with result code 0\n",
      "17:58:46,563  INFO [2975816526.py: 36] Received message: CAM-0\n",
      "17:58:47,565  INFO [2975816526.py: 70] Closed mqtt_client client\n"
     ]
    }
   ],
   "source": [
    "#|eval: false     don't run this cell in testing as the mqtt broker may not be running\n",
    "# Test Mqtt\n",
    "with Mqtt(\"CAM-0\", None) as mqtt:\n",
    "    mqtt.wait_connection()\n",
    "    mqtt.client.publish(\"STREAM-CAMERA\", \"CAM-0\")\n",
    "    time.sleep(0.1)\n",
    "    assert mqtt.msg == \"CAM-0\""
   ]
  },
  {
   "cell_type": "code",
   "execution_count": null,
   "metadata": {},
   "outputs": [
    {
     "name": "stderr",
     "output_type": "stream",
     "text": [
      "18:19:31,946  INFO [894409507.py: 30] GstStream started\n",
      "18:19:31,948  INFO [2975816526.py: 16] Connecting to 127.0.0.1\n",
      "18:19:31,950  INFO [2975816526.py: 49] Connected with result code 0\n",
      "18:19:31,960  INFO [2975816526.py: 36] Received message: CAM-0\n",
      "18:19:31,961  INFO [2691128992.py: 12] CAM-0: new drop state: False\n",
      "18:19:32,61   INFO [2975816526.py: 36] Received message: CAM-1\n",
      "18:19:32,61   INFO [2691128992.py: 12] CAM-0: new drop state: True\n"
     ]
    },
    {
     "name": "stdout",
     "output_type": "stream",
     "text": [
      "False\n",
      "True\n"
     ]
    },
    {
     "name": "stderr",
     "output_type": "stream",
     "text": [
      "18:19:33,62   INFO [2975816526.py: 70] Closed mqtt_client client\n",
      "18:19:33,183  INFO [894409507.py: 71] Stopping GstStream\n",
      "18:19:33,185  INFO [894409507.py:123] GstStream closed\n"
     ]
    }
   ],
   "source": [
    "#|eval: false     don't run this cell in testing as the mqtt broker may not be running\n",
    "# Test with GstStream\n",
    "\n",
    "params = DefaultParams()\n",
    "gstcommand = params.cameras[\"CAM-0\"][\"gst\"]\n",
    "with  GstStream(\"CAM-0\", gstcommand) as video:\n",
    "    with Mqtt(\"CAM-0\", video) as mqtt:\n",
    "        mqtt.wait_connection()   # wait for connection\n",
    "        mqtt.client.publish(\"STREAM-CAMERA\", \"CAM-0\")\n",
    "        time.sleep(0.1)\n",
    "        vs = video.get_valve_state(\"myvalve\")\n",
    "        print(vs)\n",
    "        test_eq(vs, False)    # ie dont drop frames on this camera, drop on others\n",
    "\n",
    "        mqtt.client.publish(\"STREAM-CAMERA\", \"CAM-1\")\n",
    "        time.sleep(0.1)\n",
    "        vs = video.get_valve_state(\"myvalve\")\n",
    "        print(vs)\n",
    "        test_eq(vs, True)   # ie do drop frames on this camera, don't drop on CAM-1\n"
   ]
  },
  {
   "cell_type": "markdown",
   "metadata": {},
   "source": [
    "### Main function for local testing"
   ]
  },
  {
   "cell_type": "code",
   "execution_count": null,
   "metadata": {},
   "outputs": [],
   "source": [
    "#|exports\n",
    "#| code-fold: true\n",
    "def main(camera=\"CAM-0\"):\n",
    "    params = DefaultParams()\n",
    "    gstcommand = params.cameras[camera][\"gst\"]\n",
    "    video = GstStream(camera, gstcommand)\n",
    "    cv2.namedWindow(camera, cv2.WINDOW_NORMAL)\n",
    "    mqtt = Mqtt(camera, video)\n",
    "\n",
    "    logger.info('Initialising stream...')\n",
    "    waited = 0\n",
    "    while not video.frame_available():\n",
    "        waited += 1\n",
    "        print('\\r  Frame not available (x{})'.format(waited), end='')\n",
    "        cv2.waitKey(30)\n",
    "\n",
    "    logger.info('\\nSuccess!\\nStarting streaming - press \"q\" to quit.')\n",
    "\n",
    "    print (\"Type q to stop\")\n",
    "    wait_time = 1\n",
    "    count = 0\n",
    "    while True:\n",
    "\n",
    "        if video.frame_available() and count % 10 == 0:\n",
    "            frame = video.frame().copy()\n",
    "            # # cv2.putText(frame, f'{frame_num:2d} {data_received}', (10, 30), cv2.FONT_HERSHEY_PLAIN, 1, (0, 0, 255), 2)\n",
    "            frame = resize(frame, width= 600)\n",
    "            cv2.imshow(camera, frame)\n",
    "            pass\n",
    "\n",
    "\n",
    "        if count % 1000 == 0:\n",
    "            print( count)\n",
    "        count += 1\n",
    "\n",
    "\n",
    "        k = cv2.waitKey(wait_time)\n",
    "\n",
    "        if k == ord('q') or k == ord('Q') or k == 27:\n",
    "            break\n",
    "\n",
    "        if k == ord('v'):\n",
    "            # Assuming you have a valve element named 'myvalve' in your pipeline\n",
    "            valve = video.pipeline.get_by_name(\"myvalve\")\n",
    "            current_drop_state = valve.get_property(\"drop\")\n",
    "            print(f\"current_drop_state {current_drop_state}\")\n",
    "            valve.set_property(\"drop\", not current_drop_state)\n",
    "            current_drop_state = valve.get_property(\"drop\")\n",
    "            print(f\"new_drop_state {current_drop_state}\", )\n",
    "\n",
    "            time.sleep(2)\n",
    "\n",
    "        if k == ord(' '):\n",
    "            if wait_time != 0:\n",
    "                wait_time = 0\n",
    "            else:\n",
    "                wait_time = 1\n",
    "\n",
    "        if k == ord('s'):\n",
    "            save = 0\n",
    "            save_path = Path(params.save_path) \n",
    "            save_path.mkdir(exist_ok=True)\n",
    "            pass\n",
    "\n",
    "    mqtt.close()\n",
    "    video.close()\n",
    "    cv2.destroyAllWindows()\n",
    "    logger.info(\"Closed all\")\n",
    "    "
   ]
  },
  {
   "cell_type": "markdown",
   "metadata": {},
   "source": [
    "\n",
    "#### Receive on UDP with this Test  :\n",
    "from first terminal run \n",
    "```sh\n",
    "   gst-launch-1.0 udpsrc port=5000 ! application/x-rtp,encoding-name=H264,payload=96 ! \\\n",
    "           rtph264depay ! h264parse ! queue ! avdec_h264 ! xvimagesink sync=false async=false -e\n",
    "  ```\n",
    "from second terminal run \n",
    "```sh\n",
    "  mosquitto_pub -m \"CAM-0\" -t \"STREAM-CAMERA\"\n",
    "  mosquitto_pub -m \"CAM-1\" -t \"STREAM-CAMERA\"\n",
    "```"
   ]
  },
  {
   "cell_type": "markdown",
   "metadata": {},
   "source": [
    "### Test with two cameras from terminal\n",
    "The idea is to run the 4 gst pipelines in direent processes"
   ]
  },
  {
   "cell_type": "code",
   "execution_count": null,
   "metadata": {},
   "outputs": [
    {
     "name": "stderr",
     "output_type": "stream",
     "text": [
      "17:59:05,303  INFO [475948639.py: 13] Starting Cam: {cam}\n",
      "17:59:05,308  INFO [475948639.py: 13] Starting Cam: {cam}\n",
      "17:59:05,313  INFO [894409507.py: 30] GstStream started\n",
      "17:59:05,320  INFO [894409507.py: 30] GstStream started\n",
      "17:59:05,442  INFO [2975816526.py: 16] Connecting to 127.0.0.1\n",
      "17:59:05,442  INFO [2975816526.py: 16] Connecting to 127.0.0.1\n",
      "17:59:05,444  INFO [3123209435.py: 11] Initialising stream...\n",
      "17:59:05,444  INFO [3123209435.py: 11] Initialising stream...\n",
      "17:59:05,444  INFO [2975816526.py: 49] Connected with result code 0\n",
      "17:59:05,444  INFO [2975816526.py: 49] Connected with result code 0\n",
      "17:59:05,444  INFO [3123209435.py: 18] \n",
      "Success!\n",
      "Starting streaming - press \"q\" to quit.\n",
      "17:59:05,444  INFO [3123209435.py: 18] \n",
      "Success!\n",
      "Starting streaming - press \"q\" to quit.\n"
     ]
    },
    {
     "name": "stdout",
     "output_type": "stream",
     "text": [
      "Type q to stopType q to stop\n",
      "\n",
      "0\n",
      "0\n"
     ]
    },
    {
     "name": "stderr",
     "output_type": "stream",
     "text": [
      "17:59:14,454  INFO [2975816526.py: 70] Closed mqtt_client client\n",
      "17:59:14,556  INFO [894409507.py: 71] Stopping GstStream\n",
      "17:59:14,558  INFO [894409507.py:123] GstStream closed\n",
      "17:59:14,562  INFO [3123209435.py: 69] Closed all\n",
      "17:59:15,482  INFO [2975816526.py: 70] Closed mqtt_client client\n",
      "17:59:15,585  INFO [894409507.py: 71] Stopping GstStream\n",
      "17:59:15,588  INFO [894409507.py:123] GstStream closed\n",
      "17:59:15,595  INFO [3123209435.py: 69] Closed all\n"
     ]
    }
   ],
   "source": [
    "#|exports\n",
    "#|eval: false     don't run this cell in testing\n",
    "#|code-fold: true\n",
    "from multiprocessing import Process   # you will need to import Process from multiprocessing\n",
    "\n",
    "if __name__ == '__main__':\n",
    "\n",
    "    cams = []\n",
    "    params = DefaultParams()\n",
    "    for cam in list(params.cameras.keys())[:2]:\n",
    "        logger.info(\"Starting Cam: {cam}\")\n",
    "        p = Process(target=main, args=(cam,))\n",
    "        p.start()\n",
    "        cams.append(p)\n",
    "\n",
    "    for p in cams:\n",
    "        p.join()\n",
    "        "
   ]
  },
  {
   "cell_type": "code",
   "execution_count": null,
   "metadata": {},
   "outputs": [],
   "source": [
    "#| hide\n",
    "from nbdev import nbdev_export\n",
    "nbdev_export()"
   ]
  }
 ],
 "metadata": {
  "kernelspec": {
   "display_name": "python3",
   "language": "python",
   "name": "python3"
  }
 },
 "nbformat": 4,
 "nbformat_minor": 4
}
