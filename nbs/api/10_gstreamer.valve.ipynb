{
 "cells": [
  {
   "cell_type": "markdown",
   "metadata": {},
   "source": [
    "_"
   ]
  },
  {
   "cell_type": "code",
   "execution_count": null,
   "metadata": {},
   "outputs": [],
   "source": [
    "#| default_exp gstreamer.test_valve"
   ]
  },
  {
   "cell_type": "markdown",
   "metadata": {},
   "source": [
    "# Gstreamer Valve \n",
    "> Gstreamer video capture with on/off valve\n",
    "> This has been superseded by gstreamer.python\n",
    "\n",
    "\n"
   ]
  },
  {
   "cell_type": "markdown",
   "metadata": {},
   "source": [
    "https://github.com/jackersson/gst-python-tutorials\n",
    "https://github.com/jackersson\n"
   ]
  },
  {
   "cell_type": "code",
   "execution_count": null,
   "metadata": {},
   "outputs": [],
   "source": [
    "#| hide\n",
    "# skip_showdoc: true to avoid running cells when rendering docs, and skip_exec: true to skip this notebook when running tests. \n",
    "# this should be a raw cell "
   ]
  },
  {
   "cell_type": "raw",
   "metadata": {},
   "source": [
    "---\n",
    "skip_showdoc: true\n",
    "skip_exec: true\n",
    "---"
   ]
  },
  {
   "cell_type": "code",
   "execution_count": null,
   "metadata": {},
   "outputs": [],
   "source": [
    "#| export\n",
    "from UAV.imports import *   # TODO why is this relative import on nbdev_export?\n",
    "from fastcore.utils import *\n",
    "import gi\n",
    "import numpy as np\n",
    "import threading\n",
    "gi.require_version('Gst', '1.0')\n",
    "from gi.repository import Gst\n",
    "import subprocess\n",
    "import platform\n",
    "\n",
    "import paho.mqtt.client as mqtt_client\n",
    "\n",
    "import time\n",
    "\n",
    "from pathlib import Path\n",
    "import logging\n",
    "import UAV.params as params\n",
    "from UAV.gstreamer.valve import *"
   ]
  },
  {
   "cell_type": "code",
   "execution_count": null,
   "metadata": {},
   "outputs": [],
   "source": [
    "#| hide\n",
    "from nbdev.showdoc import *\n",
    "from fastcore.test import *\n"
   ]
  },
  {
   "cell_type": "markdown",
   "metadata": {},
   "source": [
    "### Default parameters\n",
    "Overide these default parameters for application specific applications.\n",
    "\n",
    "The code is shown below:"
   ]
  },
  {
   "cell_type": "code",
   "execution_count": null,
   "metadata": {},
   "outputs": [
    {
     "data": {
      "text/markdown": "---\n\n[source](https://github.com/johnnewto/UAV/blob/main/UAV/gstreamer/valve.py#LNone){target=\"_blank\" style=\"float:right; font-size:smaller\"}\n\n### DefaultParams\n\n>      DefaultParams ()",
      "text/plain": "---\n\n[source](https://github.com/johnnewto/UAV/blob/main/UAV/gstreamer/valve.py#LNone){target=\"_blank\" style=\"float:right; font-size:smaller\"}\n\n### DefaultParams\n\n>      DefaultParams ()"
     },
     "execution_count": null,
     "metadata": {},
     "output_type": "execute_result"
    }
   ],
   "source": [
    "show_doc(DefaultParams)"
   ]
  },
  {
   "cell_type": "code",
   "execution_count": null,
   "metadata": {},
   "outputs": [],
   "source": []
  },
  {
   "cell_type": "markdown",
   "metadata": {},
   "source": [
    "As an example for camera 0, ```DefaultParams.cameras[\"CAM-0\"][\"gst\"]``` is a list of gstreamer setup commands."
   ]
  },
  {
   "cell_type": "markdown",
   "metadata": {},
   "source": [
    "The default parameters list four gst videotestsrc each with a different pattern. \n",
    "The patterns are: \n",
    "- smpte,  ball, snow, pinwheel.\n",
    "\n",
    "The video is split with a tee into two streams \n",
    "1.  is streamed via an on / off valve to  udp port 5000.\n",
    "2. is streamed to an appsink for processing.\n"
   ]
  },
  {
   "cell_type": "code",
   "execution_count": null,
   "metadata": {},
   "outputs": [
    {
     "name": "stdout",
     "output_type": "stream",
     "text": [
      "['videotestsrc pattern=smpte is-live=true ! tee name=t ', 't. ! queue leaky=2 ! videoconvert ! videorate drop-only=true ! video/x-raw,framerate=10/1,format=(string)BGR ! ', '   videoconvert ! appsink name=sink emit-signals=true  sync=false async=false  max-buffers=2 drop=true ', 't. ! queue leaky=2 ! valve name=myvalve drop=true ! video/x-raw,format=I420,width=640,height=480 ! videoconvert ! x264enc ! rtph264pay ! udpsink host=127.0.0.1 port=5000']\n"
     ]
    }
   ],
   "source": [
    "gstcommand = DefaultParams().cameras[\"CAM-0\"][\"gst\"]\n",
    "print(gstcommand)"
   ]
  },
  {
   "cell_type": "markdown",
   "metadata": {},
   "source": [
    "### Gstreamer Receive Pipeline Class\n",
    "\n",
    "the class is called with the gst command list and the address and port.\n",
    "```frame_available``` is a flag that is set when a new frame is available."
   ]
  },
  {
   "cell_type": "code",
   "execution_count": null,
   "metadata": {},
   "outputs": [
    {
     "data": {
      "text/markdown": "---\n\n[source](https://github.com/johnnewto/UAV/blob/main/UAV/gstreamer/valve.py#LNone){target=\"_blank\" style=\"float:right; font-size:smaller\"}\n\n### GstStream\n\n>      GstStream (name:str='CAM-0', gstcommand:List=['videotestsrc !\n>                 autovideosink'], address:str='127.0.0.1', port:int=5000)\n\n\"GstStream  class using gstreamer\nCreate and start a GStreamer pipe\n    gst_pipe = GstStream() \n    The valve is a simple element that drops buffers when the drop property is set to TRUE and lets then through otherwise.\n\n|    | **Type** | **Default** | **Details** |\n| -- | -------- | ----------- | ----------- |\n| name | str | CAM-0 | camera name |\n| gstcommand | List | ['videotestsrc ! autovideosink'] | gst command list |\n| address | str | 127.0.0.1 | udp address |\n| port | int | 5000 | udp port |",
      "text/plain": "---\n\n[source](https://github.com/johnnewto/UAV/blob/main/UAV/gstreamer/valve.py#LNone){target=\"_blank\" style=\"float:right; font-size:smaller\"}\n\n### GstStream\n\n>      GstStream (name:str='CAM-0', gstcommand:List=['videotestsrc !\n>                 autovideosink'], address:str='127.0.0.1', port:int=5000)\n\n\"GstStream  class using gstreamer\nCreate and start a GStreamer pipe\n    gst_pipe = GstStream() \n    The valve is a simple element that drops buffers when the drop property is set to TRUE and lets then through otherwise.\n\n|    | **Type** | **Default** | **Details** |\n| -- | -------- | ----------- | ----------- |\n| name | str | CAM-0 | camera name |\n| gstcommand | List | ['videotestsrc ! autovideosink'] | gst command list |\n| address | str | 127.0.0.1 | udp address |\n| port | int | 5000 | udp port |"
     },
     "execution_count": null,
     "metadata": {},
     "output_type": "execute_result"
    }
   ],
   "source": [
    "show_doc(GstStream)"
   ]
  },
  {
   "cell_type": "code",
   "execution_count": null,
   "metadata": {},
   "outputs": [
    {
     "name": "stderr",
     "output_type": "stream",
     "text": [
      "\u001b[33mWARNIN | uav_log         | 32.227 |   valve.py:133 | MainThread         | GstStream Error: appsink is None\u001b[0m\n",
      "\u001b[32mINFO   | uav_log         | 32.229 |   valve.py:116 | MainThread         | GstStream started\u001b[0m\n"
     ]
    },
    {
     "name": "stdout",
     "output_type": "stream",
     "text": [
      "frame is avail = False\n"
     ]
    },
    {
     "name": "stderr",
     "output_type": "stream",
     "text": [
      "\u001b[32mINFO   | uav_log         | 36.287 |   valve.py:269 | MainThread         | GstStream  closed\u001b[0m\n"
     ]
    },
    {
     "ename": "AssertionError",
     "evalue": "==:\nFalse\nTrue",
     "output_type": "error",
     "traceback": [
      "\u001b[0;31m---------------------------------------------------------------------------\u001b[0m",
      "\u001b[0;31mAssertionError\u001b[0m                            Traceback (most recent call last)",
      "Cell \u001b[0;32mIn[34], line 10\u001b[0m\n\u001b[1;32m      8\u001b[0m \u001b[38;5;28mprint\u001b[39m(\u001b[38;5;124mf\u001b[39m\u001b[38;5;124m\"\u001b[39m\u001b[38;5;124mframe is avail = \u001b[39m\u001b[38;5;132;01m{\u001b[39;00mavail\u001b[38;5;132;01m}\u001b[39;00m\u001b[38;5;124m\"\u001b[39m)\n\u001b[1;32m      9\u001b[0m \u001b[38;5;66;03m# or \u001b[39;00m\n\u001b[0;32m---> 10\u001b[0m \u001b[43mtest_eq\u001b[49m\u001b[43m(\u001b[49m\u001b[43mgststream\u001b[49m\u001b[38;5;241;43m.\u001b[39;49m\u001b[43mframe_available\u001b[49m\u001b[43m(\u001b[49m\u001b[43m)\u001b[49m\u001b[43m,\u001b[49m\u001b[43m \u001b[49m\u001b[38;5;28;43;01mTrue\u001b[39;49;00m\u001b[43m)\u001b[49m\n\u001b[1;32m     11\u001b[0m ax \u001b[38;5;241m=\u001b[39m show_image(gststream\u001b[38;5;241m.\u001b[39mframe(), figsize\u001b[38;5;241m=\u001b[39m(\u001b[38;5;241m3\u001b[39m,\u001b[38;5;241m3\u001b[39m), rgb2bgr\u001b[38;5;241m=\u001b[39m\u001b[38;5;28;01mTrue\u001b[39;00m)\n",
      "File \u001b[0;32m~/PycharmProjects/UAV/venv/lib/python3.10/site-packages/fastcore/test.py:37\u001b[0m, in \u001b[0;36mtest_eq\u001b[0;34m(a, b)\u001b[0m\n\u001b[1;32m     35\u001b[0m \u001b[38;5;28;01mdef\u001b[39;00m \u001b[38;5;21mtest_eq\u001b[39m(a,b):\n\u001b[1;32m     36\u001b[0m     \u001b[38;5;124m\"\u001b[39m\u001b[38;5;124m`test` that `a==b`\u001b[39m\u001b[38;5;124m\"\u001b[39m\n\u001b[0;32m---> 37\u001b[0m     \u001b[43mtest\u001b[49m\u001b[43m(\u001b[49m\u001b[43ma\u001b[49m\u001b[43m,\u001b[49m\u001b[43mb\u001b[49m\u001b[43m,\u001b[49m\u001b[43mequals\u001b[49m\u001b[43m,\u001b[49m\u001b[43m \u001b[49m\u001b[43mcname\u001b[49m\u001b[38;5;241;43m=\u001b[39;49m\u001b[38;5;124;43m'\u001b[39;49m\u001b[38;5;124;43m==\u001b[39;49m\u001b[38;5;124;43m'\u001b[39;49m\u001b[43m)\u001b[49m\n",
      "File \u001b[0;32m~/PycharmProjects/UAV/venv/lib/python3.10/site-packages/fastcore/test.py:27\u001b[0m, in \u001b[0;36mtest\u001b[0;34m(a, b, cmp, cname)\u001b[0m\n\u001b[1;32m     25\u001b[0m \u001b[38;5;124m\"\u001b[39m\u001b[38;5;124m`assert` that `cmp(a,b)`; display inputs and `cname or cmp.__name__` if it fails\u001b[39m\u001b[38;5;124m\"\u001b[39m\n\u001b[1;32m     26\u001b[0m \u001b[38;5;28;01mif\u001b[39;00m cname \u001b[38;5;129;01mis\u001b[39;00m \u001b[38;5;28;01mNone\u001b[39;00m: cname\u001b[38;5;241m=\u001b[39mcmp\u001b[38;5;241m.\u001b[39m\u001b[38;5;18m__name__\u001b[39m\n\u001b[0;32m---> 27\u001b[0m \u001b[38;5;28;01massert\u001b[39;00m cmp(a,b),\u001b[38;5;124mf\u001b[39m\u001b[38;5;124m\"\u001b[39m\u001b[38;5;132;01m{\u001b[39;00mcname\u001b[38;5;132;01m}\u001b[39;00m\u001b[38;5;124m:\u001b[39m\u001b[38;5;130;01m\\n\u001b[39;00m\u001b[38;5;132;01m{\u001b[39;00ma\u001b[38;5;132;01m}\u001b[39;00m\u001b[38;5;130;01m\\n\u001b[39;00m\u001b[38;5;132;01m{\u001b[39;00mb\u001b[38;5;132;01m}\u001b[39;00m\u001b[38;5;124m\"\u001b[39m\n",
      "\u001b[0;31mAssertionError\u001b[0m: ==:\nFalse\nTrue"
     ]
    }
   ],
   "source": [
    "from UAV.utils.display import show_image\n",
    "DEFAULT_PIPELINE = \"videotestsrc num-buffers=10 ! autovideosink\"\n",
    "gstcommand = DefaultParams().cameras[\"CAM-0\"][\"gst\"]\n",
    "with GstStream(\"CAM-0\", [DEFAULT_PIPELINE]) as gststream:\n",
    "    # gststream.pipeline.set_state(-1000)/\n",
    "    gststream.pipeline.set_state(Gst.State.PLAYING)\n",
    "    avail = gststream.frame_available()\n",
    "    print(f\"frame is avail = {avail}\")\n",
    "    # or \n",
    "    test_eq(gststream.frame_available(), True)\n",
    "    ax = show_image(gststream.frame(), figsize=(3,3), rgb2bgr=True)"
   ]
  },
  {
   "cell_type": "markdown",
   "metadata": {},
   "source": [
    "To run the above pipeline \n",
    "```gst_pipeline = GstStream()```\n",
    "\n",
    "To close pipeline, run \n",
    "```gst_pipeline.pipeline.close()```"
   ]
  },
  {
   "cell_type": "code",
   "execution_count": null,
   "metadata": {},
   "outputs": [],
   "source": [
    "show_doc(GstStream.frame_available)"
   ]
  },
  {
   "cell_type": "code",
   "execution_count": null,
   "metadata": {},
   "outputs": [],
   "source": [
    "#|eval: true\n",
    "from UAV.utils.display import show_image\n",
    "gstcommand = DefaultParams().cameras[\"CAM-0\"][\"gst\"]\n",
    "with GstStream(\"CAM-0\", gstcommand) as gststream:\n",
    "    avail = gststream.frame_available()\n",
    "    print(f\"frame is avail = {avail}\")\n",
    "    # or \n",
    "    test_eq(gststream.frame_available(), True)\n",
    "    ax = show_image(gststream.frame(), figsize=(3,3), rgb2bgr=True)"
   ]
  },
  {
   "cell_type": "markdown",
   "metadata": {},
   "source": [
    "#### Valve gives the ability to pause the video stream\n",
    "The valve is a simple element that drops buffers when the drop property is set to TRUE and lets then through otherwise. "
   ]
  },
  {
   "cell_type": "code",
   "execution_count": null,
   "metadata": {},
   "outputs": [],
   "source": [
    "show_doc(GstStream.set_valve_state)"
   ]
  },
  {
   "cell_type": "code",
   "execution_count": null,
   "metadata": {},
   "outputs": [],
   "source": [
    "show_doc(GstStream.get_valve_state)"
   ]
  },
  {
   "cell_type": "markdown",
   "metadata": {},
   "source": [
    "Test the valve"
   ]
  },
  {
   "cell_type": "code",
   "execution_count": null,
   "metadata": {},
   "outputs": [],
   "source": [
    "#|eval: true\n",
    "gstcommand = DefaultParams().cameras[\"CAM-0\"][\"gst\"]\n",
    "with GstStream(\"CAM-0\", gstcommand) as gststream:\n",
    "    avail = gststream.frame_available()\n",
    "    print(f\"frame is avail = {avail}\")\n",
    "    gststream.set_valve_state(\"myvalve\", True)\n",
    "    test_eq(gststream.get_valve_state(\"myvalve\"), True) \n",
    "    gststream.set_valve_state(\"myvalve\", False)\n",
    "    test_eq(gststream.get_valve_state(\"myvalve\"), False)\n",
    "\n"
   ]
  },
  {
   "cell_type": "markdown",
   "metadata": {},
   "source": [
    "#### Ping IP address"
   ]
  },
  {
   "cell_type": "code",
   "execution_count": null,
   "metadata": {},
   "outputs": [],
   "source": [
    "#|eval: false\n",
    "show_doc(ping_ip)"
   ]
  },
  {
   "cell_type": "markdown",
   "metadata": {},
   "source": [
    "Test ping IP"
   ]
  },
  {
   "cell_type": "code",
   "execution_count": null,
   "metadata": {},
   "outputs": [],
   "source": [
    "test_eq(ping_ip(\"127.0.0.1\"), True)\n",
    "test_eq(ping_ip(\"1.2.3.4\"), False)"
   ]
  },
  {
   "cell_type": "markdown",
   "metadata": {},
   "source": [
    "### MQTT\n",
    "MQTT is used to control the valve state.\n",
    "MQTT is a lightweight publish-subscribe messaging protocol that is used on top of TCP/IP. It needs a broker to work. The broker is responsible for distributing messages to interested clients based on the topic of a message. The broker is also responsible for authenticating clients and authorizing them to publish and subscribe to various topics. The broker is the central hub for all communications in the system.\n",
    "#### install MQTT broker \n",
    "```sh\n",
    "sudo apt-add-repository ppa:mosquitto-dev/mosquitto-ppa.\n",
    "sudo apt-get update.\n",
    "sudo apt-get install mosquitto.\n",
    "sudo apt-get install mosquitto-clients.\n",
    "sudo apt clean.\n",
    "```\n",
    "\n",
    "#### mosquitto-clients\n",
    "is a set of command line tools that can be used for publishing and subscribing messages to MQTT broker.\n",
    "For example from second terminal run the following to publish a message to the topic STREAM-CAMERA. This will be received by the mqtt client and the valve state will be set accordingly.\n",
    "```sh\n",
    "  mosquitto_pub -m \"CAM-0\" -t \"STREAM-CAMERA\"\n",
    "  mosquitto_pub -m \"CAM-1\" -t \"STREAM-CAMERA\"\n",
    "```"
   ]
  },
  {
   "cell_type": "code",
   "execution_count": null,
   "metadata": {},
   "outputs": [],
   "source": [
    "#|eval: false\n",
    "show_doc(Mqtt)"
   ]
  },
  {
   "cell_type": "code",
   "execution_count": null,
   "metadata": {},
   "outputs": [],
   "source": [
    "#|eval: false\n",
    "show_doc(Mqtt.wait_connection)"
   ]
  },
  {
   "cell_type": "code",
   "execution_count": null,
   "metadata": {},
   "outputs": [],
   "source": [
    "#|eval: false\n",
    "show_doc(Mqtt.on_mqtt_message)\n"
   ]
  },
  {
   "cell_type": "code",
   "execution_count": null,
   "metadata": {},
   "outputs": [],
   "source": [
    "#|eval: false     don't run this cell in testing as the mqtt broker may not be running\n",
    "# Test Mqtt\n",
    "with Mqtt(\"CAM-0\", None) as mqtt:\n",
    "    mqtt.wait_connection()\n",
    "    mqtt.client.publish(\"STREAM-CAMERA\", \"CAM-0\")\n",
    "    time.sleep(0.1)\n",
    "    assert mqtt.msg == \"CAM-0\""
   ]
  },
  {
   "cell_type": "code",
   "execution_count": null,
   "metadata": {},
   "outputs": [],
   "source": [
    "#|eval: false     don't run this cell in testing as the mqtt broker may not be running\n",
    "# Test with GstStream\n",
    "\n",
    "params = DefaultParams()\n",
    "gstcommand = params.cameras[\"CAM-0\"][\"gst\"]\n",
    "with  GstStream(\"CAM-0\", gstcommand) as video, Mqtt(\"CAM-0\", video) as mqtt:\n",
    "\n",
    "    mqtt.wait_connection()   # wait for connection\n",
    "    mqtt.client.publish(\"STREAM-CAMERA\", \"CAM-0\")\n",
    "    time.sleep(0.1)\n",
    "    vs = video.get_valve_state(\"myvalve\")\n",
    "    print(vs)\n",
    "    test_eq(vs, False)    # ie dont drop frames on this camera, drop on others\n",
    "\n",
    "    mqtt.client.publish(\"STREAM-CAMERA\", \"CAM-1\")\n",
    "    time.sleep(0.1)\n",
    "    vs = video.get_valve_state(\"myvalve\")\n",
    "    print(vs)\n",
    "    test_eq(vs, True)   # ie do drop frames on this camera, don't drop on CAM-1\n"
   ]
  },
  {
   "cell_type": "markdown",
   "metadata": {},
   "source": [
    "### Main function for local testing"
   ]
  },
  {
   "cell_type": "code",
   "execution_count": null,
   "metadata": {},
   "outputs": [],
   "source": [
    "#  # |exports\n",
    "from  UAV.gstreamer.valve import DefaultParams, GstStream, logger, Mqtt\n",
    "import cv2, time\n",
    "from imutils import resize\n",
    "camera = \"CAM-0\"\n",
    "gstcommand = DefaultParams().cameras[camera][\"gst\"]\n",
    "with  GstStream(camera, gstcommand) as video, Mqtt(\"CAM-0\", video) as mqtt:\n",
    "    if not mqtt.wait_connection():\n",
    "        logger.info(' mqtt broker not available - exiting')\n",
    "        mqtt.close()\n",
    "        gststream.close()\n",
    "        sys.exit()   \n",
    "\n",
    "    if not video.frame_available():\n",
    "        logger.info('  GST_Frame not available - exiting')\n",
    "        video.close()\n",
    "        sys.exit()\n",
    "        \n",
    "    cv2.namedWindow(camera, cv2.WINDOW_NORMAL)\n",
    "\n",
    "    logger.info(\"\"\"\\nSuccess!\n",
    "        Starting streaming - running 200 frames\n",
    "        - press 'v' to toggle valve state \n",
    "        - press 'q' to quit.\"\"\")\n",
    "\n",
    "    wait_time = 1\n",
    "    count = 0\n",
    "    for i in range(2000):\n",
    "\n",
    "        if video.frame_available() and count % 10 == 0:\n",
    "            frame = video.frame().copy()\n",
    "            frame = resize(frame, width= 600)\n",
    "            cv2.imshow(camera, frame)\n",
    "\n",
    "        if count % 1000 == 0:\n",
    "            print( count)\n",
    "        count += 1\n",
    "\n",
    "        k = cv2.waitKey(wait_time)\n",
    "\n",
    "        if k == ord('q') or k == ord('Q') or k == 27:\n",
    "            break\n",
    "\n",
    "        if k == ord('v'):\n",
    "            # Assuming you have a valve element named 'myvalve' in your pipeline\n",
    "            valve = video.pipeline.get_by_name(\"myvalve\")\n",
    "            current_drop_state = valve.get_property(\"drop\")\n",
    "            print(f\"current_drop_state {current_drop_state}\")\n",
    "            valve.set_property(\"drop\", not current_drop_state)\n",
    "            current_drop_state = valve.get_property(\"drop\")\n",
    "            print(f\"new_drop_state {current_drop_state}\", )\n",
    "\n",
    "            time.sleep(2)\n",
    "\n",
    "        if k == ord(' '):\n",
    "            if wait_time != 0:\n",
    "                wait_time = 0\n",
    "            else:\n",
    "                wait_time = 1\n",
    "\n",
    "        if k == ord('s'):\n",
    "            save = 0\n",
    "            save_path = Path(params.save_path) \n",
    "            save_path.mkdir(exist_ok=True)\n",
    "            pass\n",
    "    logger.info(\"Stopping, 200 frames done\")\n",
    "\n",
    "cv2.destroyAllWindows()\n",
    "\n",
    "# gst_main(\"CAM-0\")    "
   ]
  },
  {
   "cell_type": "markdown",
   "metadata": {},
   "source": [
    "\n",
    "#### Receive on UDP with this Test  :\n",
    "from first terminal run \n",
    "```sh\n",
    "gst-launch-1.0 udpsrc port=5000 ! application/x-rtp,encoding-name=H264,payload=96 ! \\\n",
    "       rtph264depay ! h264parse ! queue ! avdec_h264 ! xvimagesink sync=false async=false -e\n",
    "```\n",
    "from second terminal run \n",
    "```sh\n",
    "mosquitto_pub -m \"CAM-0\" -t \"STREAM-CAMERA\"\n",
    "mosquitto_pub -m \"CAM-1\" -t \"STREAM-CAMERA\"\n",
    "```"
   ]
  },
  {
   "cell_type": "markdown",
   "metadata": {},
   "source": [
    "#### Example: Test with two cameras from terminal\n",
    "The idea is to run the 4 gst pipelines in different processes\n",
    "\n",
    "```\n",
    "from multiprocessing import Process   # you will need to import Process from multiprocessing\n",
    "\n",
    "if __name__ == '__main__':\n",
    "\n",
    "    cams = []\n",
    "    params = DefaultParams()\n",
    "    for cam in list(params.cameras.keys())[:2]:\n",
    "        logger.info(\"Starting Cam: {cam}\")\n",
    "        p = Process(target=main, args=(cam,))\n",
    "        p.start()\n",
    "        cams.append(p)\n",
    "\n",
    "    for p in cams:\n",
    "        p.join()\n",
    "```"
   ]
  },
  {
   "cell_type": "code",
   "execution_count": null,
   "metadata": {},
   "outputs": [],
   "source": []
  },
  {
   "cell_type": "code",
   "execution_count": null,
   "metadata": {},
   "outputs": [],
   "source": [
    "#| hide\n",
    "# from nbdev import nbdev_export\n",
    "# nbdev_export()"
   ]
  }
 ],
 "metadata": {
  "kernelspec": {
   "display_name": "python3",
   "language": "python",
   "name": "python3"
  }
 },
 "nbformat": 4,
 "nbformat_minor": 4
}
