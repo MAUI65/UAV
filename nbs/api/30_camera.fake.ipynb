{
 "cells": [
  {
   "cell_type": "code",
   "execution_count": null,
   "metadata": {},
   "outputs": [],
   "source": [
    "#| default_exp camera.fake_cam"
   ]
  },
  {
   "cell_type": "markdown",
   "metadata": {},
   "source": [
    "\n",
    "# Camera Fake \n",
    "> Opencv and GST Fake cameras for testing \n"
   ]
  },
  {
   "cell_type": "markdown",
   "metadata": {},
   "source": [
    "https://mavlink.io/en/services/camera.html\n",
    "https://github.com/mavlink/mavlink-camera-manager\n"
   ]
  },
  {
   "cell_type": "code",
   "execution_count": null,
   "metadata": {},
   "outputs": [],
   "source": [
    "#| hide\n",
    "%load_ext autoreload\n",
    "%autoreload 2"
   ]
  },
  {
   "cell_type": "code",
   "execution_count": null,
   "metadata": {},
   "outputs": [],
   "source": [
    "#| hide\n",
    "# skip_showdoc: true to avoid running cells when rendering docs, and \n",
    "# skip_exec: true to skip this notebook when running tests. \n",
    "# this should be a raw cell "
   ]
  },
  {
   "cell_type": "raw",
   "metadata": {},
   "source": [
    "---\n",
    "skip_showdoc: true\n",
    "skip_exec: true\n",
    "---"
   ]
  },
  {
   "cell_type": "code",
   "execution_count": null,
   "metadata": {},
   "outputs": [],
   "source": [
    "#| export\n",
    "import time, os, sys\n",
    "\n",
    "from UAV.logging import logging\n",
    "from UAV.mavlink.mavcom import MAVCom, time_since_boot_ms, time_UTC_usec, boot_time_str, date_time_str\n",
    "from UAV.mavlink.component import Component, mavutil, mavlink, MAVLink\n",
    "from UAV.mavlink.camera import BaseCamera\n",
    "import threading\n",
    "import cv2\n",
    "import numpy as np\n",
    "# try:\n",
    "#     # https://hackernoon.com/how-to-manage-configurations-easily-using-toml-files\n",
    "#     import tomllib   # Python 3.11+\n",
    "# except ModuleNotFoundError:\n",
    "#     import tomli as tomllib\n",
    "# import tomli_w\n",
    "import toml\n",
    "\n",
    "# from UAV.imports import *   # TODO why is this relative import on nbdev_export?\n",
    "from fs.memoryfs import MemoryFS\n",
    "from dataclasses import dataclass"
   ]
  },
  {
   "cell_type": "code",
   "execution_count": null,
   "metadata": {},
   "outputs": [],
   "source": [
    "#| hide\n",
    "from fastcore.utils import *\n",
    "from nbdev.showdoc import *\n",
    "from fastcore.test import *"
   ]
  },
  {
   "cell_type": "code",
   "execution_count": null,
   "metadata": {},
   "outputs": [],
   "source": [
    "#| export\n",
    "def create_toml_file(filename):\n",
    "    \"\"\"Create a TOML file for testing.\"\"\"\n",
    "    camera_info = {\n",
    "        'vendor_name': 'John Doe                   ',  # >= 32 bytes\n",
    "        'model_name': 'Fake Camera                  ', # >= 32 bytes\n",
    "        'firmware_version': 1,\n",
    "        'focal_length': 8.0,   # mm\n",
    "        'sensor_size_h': 6.0,  # mm\n",
    "        'sensor_size_v': 4.0,  # mm\n",
    "        'resolution_h': 1920,\n",
    "        'resolution_v': 1080,\n",
    "        'lens_id': 0,\n",
    "        'flags': 0,\n",
    "        'cam_definition_version': 1,\n",
    "        'cam_definition_uri': 'http://example.com/camera_definition.xml',\n",
    "    }\n",
    "    # Camera postion relative the vehicle body frame\n",
    "    camera_position = {\n",
    "        'x': 0.0,\n",
    "        'y': 0.0,\n",
    "        'z': 0.0,\n",
    "        'roll': 0.0,\n",
    "        'pitch': 0.0,\n",
    "        'yaw': 0.0,\n",
    "    }\n",
    "    # GStreamer pipeline for video streaming and image capturing\n",
    "    gstreamer = {\n",
    "        'pipeline':[\n",
    "            'videotestsrc pattern=ball flip=true is-live=true num-buffers=1000 ! video/x-raw,framerate=10/1 !  tee name=t',\n",
    "            't.',\n",
    "            'queue leaky=2 ! valve name=myvalve drop=False ! video/x-raw,format=I420,width=640,height=480',\n",
    "            # 'textoverlay text=\"Frame: \" valignment=top halignment=left shaded-background=true',\n",
    "            # 'timeoverlay valignment=top halignment=right shaded-background=true',\n",
    "            'videoconvert',\n",
    "            # 'x264enc tune=zerolatency noise-reduction=10000 bitrate=2048 speed-preset=superfast',\n",
    "            'x264enc tune=zerolatency',\n",
    "            'rtph264pay ! udpsink host=127.0.0.1 port=5000',\n",
    "            't.',\n",
    "            'queue leaky=2 ! videoconvert ! videorate drop-only=true ! video/x-raw,framerate=5/1,format=(string)BGR',\n",
    "            'videoconvert ! appsink name=mysink emit-signals=true  sync=false async=false  max-buffers=2 drop=true ',\n",
    "        ]}\n",
    "    \n",
    "    camera_dict = {\n",
    "        'camera_info': camera_info,\n",
    "        'camera_position': camera_position,\n",
    "        'gstreamer': gstreamer,\n",
    "    }\n",
    "    with open(filename, \"wb\") as f:\n",
    "        toml.dump(camera_dict, f)\n",
    "\n"
   ]
  },
  {
   "cell_type": "code",
   "execution_count": null,
   "metadata": {},
   "outputs": [],
   "source": [
    "config_path = Path(\"../../config\")\n",
    "create_toml_file(config_path/\"test_camera_info.toml\")"
   ]
  },
  {
   "cell_type": "code",
   "execution_count": null,
   "metadata": {},
   "outputs": [],
   "source": [
    "# assert False, \"stop here\""
   ]
  },
  {
   "cell_type": "code",
   "execution_count": null,
   "metadata": {},
   "outputs": [],
   "source": [
    "#| export\n",
    "\n",
    "def read_camera_dict_from_toml(toml_file_path # path to TOML file\n",
    "                               )->dict: # camera_info dict\n",
    "    \"\"\"Read MAVLink camera info from a TOML file.\"\"\"\n",
    "    camera_dict = toml.load(toml_file_path)\n",
    "    return camera_dict\n",
    "\n",
    "@dataclass\n",
    "class CameraCaptureStatus:\n",
    "    time_boot_ms: int = 0\n",
    "    image_status: int = 0\n",
    "    video_status: int = 0\n",
    "    image_interval: int = 0\n",
    "    recording_time_ms: int = 0\n",
    "    available_capacity: int = 0\n",
    "    image_count: int = 0"
   ]
  },
  {
   "cell_type": "code",
   "execution_count": null,
   "metadata": {},
   "outputs": [],
   "source": [
    "#| export\n",
    "\n",
    "class CV2Camera(BaseCamera):\n",
    "    \"\"\"Create a fake camera component for testing\"\"\"\n",
    "    def __init__(self, mav=None, # MAVLink connection\n",
    "                 camera_dict=None, # camera_info dict\n",
    "                 debug=False): # debug log flag\n",
    "        super().__init__(mav, camera_dict)\n",
    "        self.mav:MAVLink = mav\n",
    "        if camera_dict is not None:\n",
    "            self.camera_info = self.get_camera_info(camera_dict)   # camera_info dict\n",
    "        else:\n",
    "            self.camera_info = None\n",
    "\n",
    "        assert self.camera_info is not None and len(self.camera_info) > 0, \"camera_info is empty\"\n",
    "\n",
    "        self.camera_capture_status = CameraCaptureStatus()\n",
    "        # self.interval = 1\n",
    "        # self.max_count = 0\n",
    "        self.current_img_cnt = 0\n",
    "\n",
    "        # self.image_filename = \"\"\n",
    "        self._log = logging.getLogger(\"uav.{}\".format(self.__class__.__name__))\n",
    "        self._log.setLevel(logging.DEBUG if debug else logging.INFO)\n",
    "\n",
    "        self.last_image = None\n",
    "        self.mem_fs = MemoryFS()\n",
    "        self.fs_size = 100000000  # 100MB\n",
    "\n",
    "        self.log.info(f\"{self.__class__.__name__} Started\")\n",
    "        # todo add settings file\n",
    "        # read parameters from settings file  # todo add settings file\n",
    "\n",
    "    def __str__(self) -> str:\n",
    "        return self.__class__.__name__\n",
    "\n",
    "    def __repr__(self) -> str:\n",
    "        return \"<{}>\".format(self)\n",
    "\n",
    "    @property\n",
    "    def log(self) -> logging.Logger:\n",
    "        return self._log\n",
    "\n",
    "\n",
    "\n",
    "    def save_image_to_memoryfs(self, img, filename):\n",
    "        # Convert OpenCV image to JPEG byte stream\n",
    "        success, buffer = cv2.imencode(\".jpg\", img)\n",
    "        if not success:\n",
    "            raise ValueError(\"Failed to encode image\")\n",
    "\n",
    "        # Write to PyFilesystem's Memory Filesystem\n",
    "        with self.mem_fs.open(filename, \"wb\") as f:\n",
    "            f.write(buffer.tobytes())\n",
    "\n",
    "        print(f\"Image saved to memory filesystem with name: {filename}\")\n",
    "        # return mem_fs\n",
    "\n",
    "    def calculate_memory_usage(self):\n",
    "        \"\"\"Calculate total memory used by the MemoryFS.\"\"\"\n",
    "        total_memory = 0\n",
    "        for path in self.mem_fs.walk.files():\n",
    "            with self.mem_fs.open(path, \"rb\") as f:\n",
    "                total_memory += len(f.read())\n",
    "        return total_memory\n",
    "\n",
    "\n",
    "    def camera_settings_send(self):\n",
    "        \"\"\" Information about a camera. Can be requested with a\n",
    "            MAV_CMD_REQUEST_MESSAGE command.\"\"\"\n",
    "        # https://mavlink.io/en/messages/common.html#MAV_CMD_REQUEST_CAMERA_SETTINGS\n",
    "        self.mav.camera_settings_send(time_since_boot_ms(),  # time_boot_ms\n",
    "                                            0,   # mode_id (int)\n",
    "                                            0,    # zoomLevel (float)\n",
    "                                            0,    # focusLevel (float)\n",
    "                                         )\n",
    "\n",
    "    def storage_information_send(self):\n",
    "        \"\"\" Information about a camera. Can be requested with a\n",
    "            MAV_CMD_REQUEST_MESSAGE command.\"\"\"\n",
    "        # https://mavlink.io/en/messages/common.html#MAV_CMD_REQUEST_STORAGE_INFORMATION\n",
    "        self.mav.storage_information_send(time_since_boot_ms(),  # time_boot_ms\n",
    "                                            0,   # storage_id\n",
    "                                            1,    # storage_count\n",
    "                                            0,    # status\n",
    "                                            self.fs_size,    # total_capacity\n",
    "                                            self.calculate_memory_usage(),    # used_capacity\n",
    "                                            self.fs_size-self.calculate_memory_usage(),    # available_capacity\n",
    "                                            0,    # read_speed\n",
    "                                            0,    # write_speed\n",
    "                                         )\n",
    "\n",
    "    def camera_capture_status_send(self):\n",
    "        \"\"\" Information about a camera. Can be requested with a\n",
    "            MAV_CMD_REQUEST_MESSAGE command.\"\"\"\n",
    "        # https://mavlink.io/en/messages/common.html#MAV_CMD_REQUEST_CAMERA_CAPTURE_STATUS\n",
    "        ccs = self.camera_capture_status\n",
    "        self.mav.camera_capture_status_send(time_since_boot_ms(),  # time_boot_ms\n",
    "                                            ccs.image_status,   # image_status\n",
    "                                            ccs.video_status,    # video_status\n",
    "                                            ccs.image_interval,    # image_interval\n",
    "                                            ccs.recording_time_ms,    # recording_time_ms\n",
    "                                            ccs.video_status,    # available_capacity\n",
    "                                            ccs.image_count,    # image_count\n",
    "                                         )\n",
    "\n",
    "    def camera_image_captured_send(self):\n",
    "        if self.mav is not None:\n",
    "            self.mav.camera_image_captured_send(time_since_boot_ms(),  # time_boot_ms\n",
    "                                                time_UTC_usec(),  # time_utc\n",
    "                                                0,  # camera_id\n",
    "                                                0,  # lat\n",
    "                                                0,  # lon\n",
    "                                                0,  # alt\n",
    "                                                0,  # relative_alt\n",
    "                                                [0, 0, 0, 0],  # q\n",
    "                                                self.camera_capture_status.image_count,  # image_index\n",
    "                                                1,  # capture_result\n",
    "                                                bytes(self.image_filename, 'utf-8'),  # file_url\n",
    "                                                )\n",
    "\n",
    "    def image_start_capture(self, interval, # Image capture interval\n",
    "                            count, # Number of images to capture (0 for unlimited)\n",
    "                            ):\n",
    "        \"\"\"Start image capture sequence.\"\"\"\n",
    "        # https://mavlink.io/en/messages/common.html#MAV_CMD_IMAGE_START_CAPTURE\n",
    "        # self.interval = interval\n",
    "        self.camera_capture_status.image_interval = interval\n",
    "        self.max_count = count\n",
    "        self.capture_thread = threading.Thread(target=self.capture_image_thread)\n",
    "        self.capture_thread.start()\n",
    "\n",
    "    def get_next_image(self, filename):\n",
    "        \"\"\"Get next image from camera. Simulate an image capture using OpenCV\"\"\"\n",
    "        image = np.zeros((512, 512, 3), dtype=np.uint8)\n",
    "        cv2.putText(image, \"Fake Image\", (50, 256), cv2.FONT_HERSHEY_SIMPLEX, 2, (255, 255, 255), 2)\n",
    "\n",
    "        self.save_image_to_memoryfs(image, filename)\n",
    "        self.last_image = image\n",
    "\n",
    "    def time_UTC_usec(self):\n",
    "        return int(time.time() * 1e6)\n",
    "\n",
    "    def capture_image_thread(self):\n",
    "        self._capture_images_thread_running = True\n",
    "        current_img_cnt = 0\n",
    "        while self._capture_images_thread_running:\n",
    "            self.image_filename = f\"{date_time_str()}_{self.camera_capture_status.image_count:04d}.jpg\"\n",
    "            img = self.get_next_image(self.image_filename)\n",
    "            # print(f\"Captured image\")\n",
    "            self.camera_image_captured_send()\n",
    "            current_img_cnt += 1\n",
    "            self.camera_capture_status.image_count += 1\n",
    "            if current_img_cnt > self.max_count: # quit the thread\n",
    "                self._capture_images_thread_running = False\n",
    "                break\n",
    "\n",
    "            time.sleep(self.camera_capture_status.image_interval)\n",
    "\n",
    "\n",
    "    def close(self):\n",
    "        self._capture_images_thread_running = True\n",
    "        if self.capture_thread.is_alive():\n",
    "            self.capture_thread.join()\n",
    "        self.log.info(f\"{self.__class__.__name__} closed\")\n",
    "\n",
    "    def __enter__(self):\n",
    "        \"\"\" Context manager entry point for with statement.\"\"\"\n",
    "        return self  # This value is assigned to the variable after 'as' in the 'with' statement\n",
    "\n",
    "    def __exit__(self, exc_type, exc_value, traceback):\n",
    "        \"\"\"Context manager exit point.\"\"\"\n",
    "        self.close()\n",
    "        return False  # re-raise any exceptions\n",
    "\n",
    "\n",
    "    # def camera_capture_status_send(self, time_boot_ms, image_status, video_status, image_interval, recording_time_ms, available_capacity, image_count):\n",
    "    #     msg = self.mav.mav.camera_capture_status_encode(time_boot_ms, image_status, video_status, image_interval, recording_time_ms, available_capacity, image_count)\n",
    "    #     self.mav.mav.send(msg)\n",
    "    "
   ]
  },
  {
   "cell_type": "code",
   "execution_count": null,
   "metadata": {},
   "outputs": [],
   "source": [
    "#| export\n",
    "from gstreamer import GstVidSrcValve\n",
    "import gstreamer.utils as gst_utils"
   ]
  },
  {
   "cell_type": "code",
   "execution_count": null,
   "metadata": {},
   "outputs": [],
   "source": [
    "#| export\n",
    "class GSTCamera(CV2Camera):\n",
    "\n",
    "    def __init__(self, mav=None,  # MAVLink connection\n",
    "                 camera_dict=None,  # camera_info dict\n",
    "                 debug=False):  # debug log flag\n",
    "        super().__init__(mav, camera_dict, debug)\n",
    "\n",
    "        pipeline = gst_utils.to_gst_string(camera_dict['gstreamer']['pipeline'])\n",
    "        self.pipeline = GstVidSrcValve(pipeline, leaky=True)\n",
    "        self.pipeline.startup()\n",
    "        self.last_image = None\n",
    "        pass\n",
    "\n",
    "    def get_next_image(self, filename):\n",
    "        \"\"\"Get next image from camera using GStreamer.\"\"\"\n",
    "        buffer = self.pipeline.pop()\n",
    "        if not buffer:\n",
    "            print(\"No buffer\")\n",
    "        else:\n",
    "            self.save_image_to_memoryfs(buffer.data, self.image_filename)\n",
    "            self.last_image = buffer.data\n",
    "\n",
    "\n",
    "    def close(self):\n",
    "        self.pipeline.shutdown()\n",
    "        super().close()\n"
   ]
  },
  {
   "cell_type": "code",
   "execution_count": null,
   "metadata": {},
   "outputs": [
    {
     "data": {
      "text/markdown": "---\n\n[source](https://github.com/johnnewto/UAV/blob/main/UAV/camera/fake_cam.py#L296){target=\"_blank\" style=\"float:right; font-size:smaller\"}\n\n### GSTCamera\n\n>      GSTCamera (mav=None, camera_dict=None, debug=False)\n\nCreate a fake camera component for testing\n\n|    | **Type** | **Default** | **Details** |\n| -- | -------- | ----------- | ----------- |\n| mav | NoneType | None | MAVLink connection |\n| camera_dict | NoneType | None | camera_info dict |\n| debug | bool | False | debug log flag |",
      "text/plain": "---\n\n[source](https://github.com/johnnewto/UAV/blob/main/UAV/camera/fake_cam.py#L296){target=\"_blank\" style=\"float:right; font-size:smaller\"}\n\n### GSTCamera\n\n>      GSTCamera (mav=None, camera_dict=None, debug=False)\n\nCreate a fake camera component for testing\n\n|    | **Type** | **Default** | **Details** |\n| -- | -------- | ----------- | ----------- |\n| mav | NoneType | None | MAVLink connection |\n| camera_dict | NoneType | None | camera_info dict |\n| debug | bool | False | debug log flag |"
     },
     "execution_count": null,
     "metadata": {},
     "output_type": "execute_result"
    }
   ],
   "source": [
    "show_doc(GSTCamera)"
   ]
  },
  {
   "cell_type": "code",
   "execution_count": null,
   "metadata": {},
   "outputs": [
    {
     "data": {
      "text/markdown": "---\n\n[source](https://github.com/johnnewto/UAV/blob/main/UAV/camera/fake_cam.py#L219){target=\"_blank\" style=\"float:right; font-size:smaller\"}\n\n### CV2Camera.image_start_capture\n\n>      CV2Camera.image_start_capture (interval, count)\n\nStart image capture sequence.\n\n|    | **Details** |\n| -- | ----------- |\n| interval | Image capture interval |\n| count | Number of images to capture (0 for unlimited) |",
      "text/plain": "---\n\n[source](https://github.com/johnnewto/UAV/blob/main/UAV/camera/fake_cam.py#L219){target=\"_blank\" style=\"float:right; font-size:smaller\"}\n\n### CV2Camera.image_start_capture\n\n>      CV2Camera.image_start_capture (interval, count)\n\nStart image capture sequence.\n\n|    | **Details** |\n| -- | ----------- |\n| interval | Image capture interval |\n| count | Number of images to capture (0 for unlimited) |"
     },
     "execution_count": null,
     "metadata": {},
     "output_type": "execute_result"
    }
   ],
   "source": [
    "show_doc(GSTCamera.image_start_capture)"
   ]
  },
  {
   "cell_type": "code",
   "execution_count": null,
   "metadata": {},
   "outputs": [
    {
     "data": {
      "text/markdown": "---\n\n[source](https://github.com/johnnewto/UAV/blob/main/UAV/mavlink/camera.py#LNone){target=\"_blank\" style=\"float:right; font-size:smaller\"}\n\n### BaseCamera.camera_information_send\n\n>      BaseCamera.camera_information_send ()\n\nInformation about a camera. Can be requested with a\nMAV_CMD_REQUEST_MESSAGE command.",
      "text/plain": "---\n\n[source](https://github.com/johnnewto/UAV/blob/main/UAV/mavlink/camera.py#LNone){target=\"_blank\" style=\"float:right; font-size:smaller\"}\n\n### BaseCamera.camera_information_send\n\n>      BaseCamera.camera_information_send ()\n\nInformation about a camera. Can be requested with a\nMAV_CMD_REQUEST_MESSAGE command."
     },
     "execution_count": null,
     "metadata": {},
     "output_type": "execute_result"
    }
   ],
   "source": [
    "show_doc(GSTCamera.camera_information_send)"
   ]
  },
  {
   "cell_type": "code",
   "execution_count": null,
   "metadata": {},
   "outputs": [
    {
     "data": {
      "text/markdown": "---\n\n[source](https://github.com/johnnewto/UAV/blob/main/UAV/camera/fake_cam.py#L165){target=\"_blank\" style=\"float:right; font-size:smaller\"}\n\n### CV2Camera.camera_settings_send\n\n>      CV2Camera.camera_settings_send ()\n\nInformation about a camera. Can be requested with a\nMAV_CMD_REQUEST_MESSAGE command.",
      "text/plain": "---\n\n[source](https://github.com/johnnewto/UAV/blob/main/UAV/camera/fake_cam.py#L165){target=\"_blank\" style=\"float:right; font-size:smaller\"}\n\n### CV2Camera.camera_settings_send\n\n>      CV2Camera.camera_settings_send ()\n\nInformation about a camera. Can be requested with a\nMAV_CMD_REQUEST_MESSAGE command."
     },
     "execution_count": null,
     "metadata": {},
     "output_type": "execute_result"
    }
   ],
   "source": [
    "show_doc(GSTCamera.camera_settings_send)"
   ]
  },
  {
   "cell_type": "code",
   "execution_count": null,
   "metadata": {},
   "outputs": [
    {
     "data": {
      "text/markdown": "---\n\n[source](https://github.com/johnnewto/UAV/blob/main/UAV/camera/fake_cam.py#L82){target=\"_blank\" style=\"float:right; font-size:smaller\"}\n\n### read_camera_dict_from_toml\n\n>      read_camera_dict_from_toml (toml_file_path)\n\nRead MAVLink camera info from a TOML file.\n\n|    | **Type** | **Details** |\n| -- | -------- | ----------- |\n| toml_file_path |  | path to TOML file |\n| **Returns** | **dict** | **camera_info dict** |",
      "text/plain": "---\n\n[source](https://github.com/johnnewto/UAV/blob/main/UAV/camera/fake_cam.py#L82){target=\"_blank\" style=\"float:right; font-size:smaller\"}\n\n### read_camera_dict_from_toml\n\n>      read_camera_dict_from_toml (toml_file_path)\n\nRead MAVLink camera info from a TOML file.\n\n|    | **Type** | **Details** |\n| -- | -------- | ----------- |\n| toml_file_path |  | path to TOML file |\n| **Returns** | **dict** | **camera_info dict** |"
     },
     "execution_count": null,
     "metadata": {},
     "output_type": "execute_result"
    }
   ],
   "source": [
    "show_doc(read_camera_dict_from_toml)"
   ]
  },
  {
   "cell_type": "code",
   "execution_count": null,
   "metadata": {},
   "outputs": [
    {
     "name": "stderr",
     "output_type": "stream",
     "text": [
      "INFO   | uav.GSTCamera   | 22.168 | 2857835707.py: 30 | MainThread         | GSTCamera Started\n",
      "INFO   | pygst.GstVidSrc | 22.168 | gst_tools.py:131 | MainThread         | GstVidSrcValve \n",
      " gst-launch-1.0 videotestsrc pattern=ball flip=true is-live=true num-buffers=1000 ! video/x-raw,framerate=10/1 !  tee name=t t. ! queue leaky=2 ! valve name=myvalve drop=False ! video/x-raw,format=I420,width=640,height=480 ! videoconvert ! x264enc tune=zerolatency ! rtph264pay ! udpsink host=127.0.0.1 port=5000 t. ! queue leaky=2 ! videoconvert ! videorate drop-only=true ! video/x-raw,framerate=5/1,format=(string)BGR ! videoconvert ! appsink name=mysink emit-signals=true  sync=false async=false  max-buffers=2 drop=true \n",
      "INFO   | pygst.GstVidSrc | 22.171 | gst_tools.py:193 | MainThread         | Starting GstVidSrcValve\n",
      "DEBUG  | pygst.GstVidSrc | 22.172 | gst_tools.py:197 | MainThread         | GstVidSrcValve Setting pipeline state to PLAYING ... \n",
      "DEBUG  | pygst.GstVidSrc | 22.173 | gst_tools.py:203 | MainThread         | GstVidSrcValve Pipeline state set to PLAYING \n"
     ]
    },
    {
     "name": "stdout",
     "output_type": "stream",
     "text": [
      "boot_time_str ='2023-09-16|10:52:45'\n",
      "Image saved to memory filesystem with name: 2023-09-16|10:53:22_0000.jpg\n",
      "Image saved to memory filesystem with name: 2023-09-16|10:53:22_0001.jpg\n",
      "Image saved to memory filesystem with name: 2023-09-16|10:53:22_0002.jpg\n",
      "Image saved to memory filesystem with name: 2023-09-16|10:53:22_0003.jpg\n",
      "Image saved to memory filesystem with name: 2023-09-16|10:53:22_0004.jpg\n",
      "Image saved to memory filesystem with name: 2023-09-16|10:53:23_0005.jpg\n"
     ]
    },
    {
     "name": "stderr",
     "output_type": "stream",
     "text": [
      "INFO   | pygst.GstVidSrc | 23.819 | gst_tools.py:264 | MainThread         | GstVidSrcValve Shutdown requested ...\n",
      "DEBUG  | pygst.GstVidSrc | 23.820 | gst_tools.py:234 | MainThread         | GstVidSrcValve Stopping pipeline ...\n",
      "DEBUG  | pygst.GstVidSrc | 23.821 | gst_tools.py:238 | MainThread         | GstVidSrcValve Sending EOS event ...\n",
      "DEBUG  | pygst.GstVidSrc | 23.824 | gst_tools.py:248 | MainThread         | GstVidSrcValve Reseting pipeline state ....\n",
      "DEBUG  | pygst.GstVidSrc | 23.825 | gst_tools.py:255 | MainThread         | GstVidSrcValve Gst.Pipeline successfully destroyed\n",
      "INFO   | pygst.GstVidSrc | 23.826 | gst_tools.py:268 | MainThread         | GstVidSrcValve successfully destroyed\n",
      "INFO   | uav.GSTCamera   | 23.826 | 2857835707.py:177 | MainThread         | GSTCamera closed\n"
     ]
    }
   ],
   "source": [
    "print (f\"{boot_time_str =}\")\n",
    "# connection_string = 'udp:127.0.0.1:14550'\n",
    "# mav = mavutil.mavlink_connection(connection_string)\n",
    "\n",
    "config_path = Path(\"../../config\")\n",
    "with  GSTCamera( camera_dict=read_camera_dict_from_toml(config_path/\"test_camera_info.toml\")) as cam_gst_1:\n",
    "    cam_gst_1.image_start_capture(0.1, 5)\n",
    "    while cam_gst_1.capture_thread.is_alive():\n",
    "        if cam_gst_1.last_image is not None:\n",
    "            cv2.imshow('image', cam_gst_1.last_image)\n",
    "            cam_gst_1.last_image = None\n",
    "            cv2.waitKey(10)\n",
    "            \n",
    "    cv2.waitKey(500)\n",
    "    cv2.destroyAllWindows()\n"
   ]
  },
  {
   "cell_type": "code",
   "execution_count": null,
   "metadata": {},
   "outputs": [],
   "source": []
  },
  {
   "cell_type": "code",
   "execution_count": null,
   "metadata": {},
   "outputs": [],
   "source": [
    "def gstreamerCamera(camera_name):\n",
    "    \"\"\"\n",
    "    Set up streaming pipeline for Gstreamer camera.\n",
    "    \n",
    "    \"\"\"\n",
    "    return True"
   ]
  },
  {
   "cell_type": "code",
   "execution_count": null,
   "metadata": {},
   "outputs": [],
   "source": [
    "def airsimCamera(camera_name):\n",
    "    \"\"\"\n",
    "    Set up streaming pipeline for Airsim camera\n",
    "    \"\"\"\n",
    "    return True\n"
   ]
  },
  {
   "cell_type": "code",
   "execution_count": null,
   "metadata": {},
   "outputs": [],
   "source": [
    "def videoCamera(camera_name):\n",
    "    \"\"\"\n",
    "    Set up streaming pipeline for Video camera\n",
    "    \"\"\"\n",
    "    return True\n"
   ]
  },
  {
   "cell_type": "code",
   "execution_count": null,
   "metadata": {},
   "outputs": [],
   "source": [
    "def videoCamera(camera_name):\n",
    "    \"\"\"\n",
    "    Set up streaming pipeline for Video camera\n",
    "    \"\"\"\n",
    "    return True\n"
   ]
  },
  {
   "cell_type": "code",
   "execution_count": null,
   "metadata": {},
   "outputs": [],
   "source": [
    "#| export\n",
    "def airsimCamera(camera_name):\n",
    "    \"\"\"\n",
    "    Set up streaming pipeline for Airsim camera\n",
    "    \"\"\"\n",
    "    return True\n"
   ]
  },
  {
   "cell_type": "code",
   "execution_count": null,
   "metadata": {},
   "outputs": [],
   "source": [
    "#| export\n",
    "def videoCamera(camera_name):\n",
    "    \"\"\"\n",
    "    Set up streaming pipeline for Video camera\n",
    "    \"\"\"\n",
    "    return True\n"
   ]
  },
  {
   "cell_type": "code",
   "execution_count": null,
   "metadata": {},
   "outputs": [],
   "source": [
    "#| export\n",
    "def videoCamera(camera_name):\n",
    "    \"\"\"\n",
    "    Set up streaming pipeline for Video camera\n",
    "    \"\"\"\n",
    "    return True\n"
   ]
  },
  {
   "cell_type": "code",
   "execution_count": null,
   "metadata": {},
   "outputs": [],
   "source": [
    "#| export\n",
    "def videoCamera(camera_name):\n",
    "    \"\"\"\n",
    "    Set up streaming pipeline for Video camera\n",
    "    \"\"\"\n",
    "    return True\n"
   ]
  },
  {
   "cell_type": "code",
   "execution_count": null,
   "metadata": {},
   "outputs": [],
   "source": [
    "test_eq(1,1)"
   ]
  },
  {
   "cell_type": "code",
   "execution_count": null,
   "metadata": {},
   "outputs": [],
   "source": [
    "#| hide\n",
    "# from nbdev import nbdev_export\n",
    "# nbdev_export()"
   ]
  }
 ],
 "metadata": {
  "kernelspec": {
   "display_name": "python3",
   "language": "python",
   "name": "python3"
  }
 },
 "nbformat": 4,
 "nbformat_minor": 4
}
