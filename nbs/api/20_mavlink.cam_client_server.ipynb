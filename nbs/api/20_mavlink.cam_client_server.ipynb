{
 "cells": [
  {
   "cell_type": "markdown",
   "metadata": {},
   "source": []
  },
  {
   "cell_type": "markdown",
   "metadata": {},
   "source": [
    "# Mavlink  Client and Server\n",
    "> Mavlink classes for Client and server.\n",
    "> The server is on the companion computer and the client is on the ground station PC.\n",
    "\n",
    "[https://mavlink.io/en/mavgen_python/](https://mavlink.io/en/mavgen_python/)\n",
    "[https://www.ardusub.com/developers/pymavlink.html](https://www.ardusub.com/developers/pymavlink.html)\n",
    "\n",
    "https://mavlink.io/en/messages/common.html\n",
    "https://mavlink.io/en/messages/common.html#MAV_TYPE\n",
    "\n"
   ]
  },
  {
   "cell_type": "code",
   "execution_count": null,
   "metadata": {},
   "outputs": [],
   "source": [
    "#| default_exp mavlink.cam_client_server"
   ]
  },
  {
   "cell_type": "code",
   "execution_count": null,
   "metadata": {},
   "outputs": [
    {
     "name": "stdout",
     "output_type": "stream",
     "text": [
      "The autoreload extension is already loaded. To reload it, use:\n",
      "  %reload_ext autoreload\n"
     ]
    }
   ],
   "source": [
    "#| hide\n",
    "%load_ext autoreload\n",
    "%autoreload 2"
   ]
  },
  {
   "cell_type": "code",
   "execution_count": null,
   "metadata": {},
   "outputs": [],
   "source": [
    "#| hide\n",
    "# skip_showdoc: true to avoid running cells when rendering docs, and \n",
    "# skip_exec: true to skip this notebook when running tests. \n",
    "# this should be a raw cell "
   ]
  },
  {
   "cell_type": "code",
   "execution_count": null,
   "metadata": {},
   "outputs": [],
   "source": []
  },
  {
   "cell_type": "raw",
   "metadata": {},
   "source": [
    "---\n",
    "skip_showdoc: true\n",
    "skip_exec: true\n",
    "---"
   ]
  },
  {
   "cell_type": "code",
   "execution_count": null,
   "metadata": {},
   "outputs": [],
   "source": [
    "#| export\n",
    "# import logging\n",
    "# logging.getLogger(\"uav\").setLevel(logging.DEBUG)\n",
    "# logging.root.setLevel(logging.INFO)\n",
    "# import threading\n",
    "# \n",
    "# import time, os\n",
    "# # Set the environment variable before from pymavlink import mavutil  library is imported\n",
    "# os.environ['MAVLINK20'] = '1'\n",
    "from pymavlink import mavutil\n",
    "from UAV.mavlink.base import MavLinkBase , UAV_SYSTEM_VEHICLE_ID, UAV_SYSTEM_GCS_CLIENT_ID\n",
    "# from UAV.imports import *   # TODO why is this relative import on nbdev_export?\n"
   ]
  },
  {
   "cell_type": "code",
   "execution_count": null,
   "metadata": {},
   "outputs": [],
   "source": [
    "# logging.getLogger(\"uav\").setLevel(logging.INFO)"
   ]
  },
  {
   "cell_type": "code",
   "execution_count": null,
   "metadata": {},
   "outputs": [],
   "source": [
    "#| hide\n",
    "from fastcore.utils import *\n",
    "from nbdev.showdoc import *\n",
    "from fastcore.test import *"
   ]
  },
  {
   "cell_type": "code",
   "execution_count": null,
   "metadata": {},
   "outputs": [],
   "source": [
    "#| export\n",
    "class CamClient(MavLinkBase):\n",
    " \n",
    "    def __init__(self, connection_string, # \"udpin:localhost:14550\"\n",
    "                 baudrate=57600, #baud rate of the serial port\n",
    "                 mav_type=mavutil.mavlink.MAV_TYPE_GCS, # type used in heartbeat\n",
    "                 server_system_ID=UAV_SYSTEM_VEHICLE_ID,  # remote or air uav system   1 = vehicle\n",
    "                 client_system_ID=UAV_SYSTEM_GCS_CLIENT_ID,  # GCS system   255 = GCS\n",
    "                 debug=False, # logging level\n",
    "                 ):    \n",
    "        super(CamClient, self).__init__( connection_string = connection_string,\n",
    "                baudrate=baudrate, #baud rate of the serial port\n",
    "                server_system_ID= server_system_ID,  # remote or air uav system   1 = vehicle\n",
    "                client_system_ID= client_system_ID,  # GCS system   255 = GCS\n",
    "                debug=debug, # logging level                   \n",
    "                )\n",
    "        self.client(mav_type=mav_type) # run as client\n",
    "\n",
    "    def trigger_camera(self, camera_id:int=1): # camera id (0 for all cams)\n",
    "        \"\"\"\n",
    "        Use MAV_CMD_DO_DIGICAM_CONTROL to trigger a camera \n",
    "        \"\"\"\n",
    "        self.send_command(mavutil.mavlink.MAV_CMD_DO_DIGICAM_CONTROL, \n",
    "                          [camera_id,  # param1 (session)  or cam # (0 for all cams)\n",
    "                           1,  # param2 (trigger capture)\n",
    "                           0,  # param3 (zoom pos)\n",
    "                           0,  # param4 (zoom step)\n",
    "                           0,  # param5 (focus lock)\n",
    "                           0,  # param6 (shot ID)\n",
    "                           0,  # param7 (command ID)\n",
    "                          ])\n",
    "        self.wait_ack()\n",
    "        self.log.info(\"Camera triggered\")\n",
    "        \n",
    "        \n",
    "class CamServer(MavLinkBase):\n",
    "    def __init__(self, connection_string, # \"udpin:localhost:14550\"\n",
    "             baudrate=57600, #baud rate of the serial port\n",
    "             mav_type=mavutil.mavlink.MAV_TYPE_CAMERA, # type used in heartbeat\n",
    "             server_system_ID=UAV_SYSTEM_VEHICLE_ID,  # remote or air uav system   1 = vehicle\n",
    "             client_system_ID=UAV_SYSTEM_GCS_CLIENT_ID,  # GCS system   255 = GCS\n",
    "             debug=False, # logging level\n",
    "             ):    \n",
    "        super(CamServer, self).__init__( connection_string = connection_string,\n",
    "                baudrate=baudrate, #baud rate of the serial port\n",
    "                server_system_ID= server_system_ID,  # remote or air uav system   1 = vehicle\n",
    "                client_system_ID= client_system_ID,  # GCS system   255 = GCS\n",
    "                debug=debug, # logging level\n",
    "                )\n",
    "        self.num_commands_received = 0\n",
    "        self.num_acks_received = 0\n",
    "        self.server(mav_type=mav_type) # run as server\n",
    "\n",
    "def test_cam_client_server():\n",
    "    from fastcore.test import test_eq\n",
    "    with CamClient(\"udpin:localhost:14445\", debug=False) as client:\n",
    "        with CamServer(\"udpout:localhost:14445\", debug=False) as server:\n",
    "            client.wait_heartbeat()\n",
    "\n",
    "            for i in range(5):\n",
    "                client.trigger_camera(2)\n",
    "                server._test_command(2)\n",
    "\n",
    "    print()\n",
    "    print(f\"server sys: {server.source_system};  msgs: {server.message_cnts}\")\n",
    "    print(f\"client sys: {client.source_system};  msgs: {client.message_cnts}\")\n",
    "\n",
    "    test_eq(server.server_system_ID, server.source_system)\n",
    "    test_eq(client.client_system_ID, client.source_system)\n",
    "    test_eq(client.num_commands_sent, server.num_commands_received)\n",
    "    test_eq(client.num_acks_received, server.num_commands_received)\n",
    "    assert 'HEARTBEAT' in client.message_cnts\n",
    "    \n",
    "#test_cam_client_server()"
   ]
  },
  {
   "cell_type": "code",
   "execution_count": null,
   "metadata": {},
   "outputs": [
    {
     "data": {
      "text/markdown": "---\n\n[source](https://github.com/johnnewto/UAV/blob/main/UAV/mavlink/cam_client_server.py#L21){target=\"_blank\" style=\"float:right; font-size:smaller\"}\n\n### CamClient\n\n>      CamClient (connection_string, baudrate=57600, mav_type=6, debug=False)\n\nMavlink Camera Base\n\n|    | **Type** | **Default** | **Details** |\n| -- | -------- | ----------- | ----------- |\n| connection_string |  |  | \"udpin:localhost:14550\" |\n| baudrate | int | 57600 | baud rate of the serial port |\n| mav_type | int | 6 | type used in heartbeat |\n| debug | bool | False | logging level |",
      "text/plain": "---\n\n[source](https://github.com/johnnewto/UAV/blob/main/UAV/mavlink/cam_client_server.py#L21){target=\"_blank\" style=\"float:right; font-size:smaller\"}\n\n### CamClient\n\n>      CamClient (connection_string, baudrate=57600, mav_type=6, debug=False)\n\nMavlink Camera Base\n\n|    | **Type** | **Default** | **Details** |\n| -- | -------- | ----------- | ----------- |\n| connection_string |  |  | \"udpin:localhost:14550\" |\n| baudrate | int | 57600 | baud rate of the serial port |\n| mav_type | int | 6 | type used in heartbeat |\n| debug | bool | False | logging level |"
     },
     "execution_count": null,
     "metadata": {},
     "output_type": "execute_result"
    }
   ],
   "source": [
    "show_doc(CamClient)"
   ]
  },
  {
   "cell_type": "code",
   "execution_count": null,
   "metadata": {},
   "outputs": [
    {
     "data": {
      "text/markdown": "---\n\n[source](https://github.com/johnnewto/UAV/blob/main/UAV/mavlink/cam_client_server.py#L34){target=\"_blank\" style=\"float:right; font-size:smaller\"}\n\n### CamClient.trigger_camera\n\n>      CamClient.trigger_camera (camera_id:int=1)\n\nUse MAV_CMD_DO_DIGICAM_CONTROL to trigger a camera\n\n|    | **Type** | **Default** | **Details** |\n| -- | -------- | ----------- | ----------- |\n| camera_id | int | 1 | camera id (0 for all cams) |",
      "text/plain": "---\n\n[source](https://github.com/johnnewto/UAV/blob/main/UAV/mavlink/cam_client_server.py#L34){target=\"_blank\" style=\"float:right; font-size:smaller\"}\n\n### CamClient.trigger_camera\n\n>      CamClient.trigger_camera (camera_id:int=1)\n\nUse MAV_CMD_DO_DIGICAM_CONTROL to trigger a camera\n\n|    | **Type** | **Default** | **Details** |\n| -- | -------- | ----------- | ----------- |\n| camera_id | int | 1 | camera id (0 for all cams) |"
     },
     "execution_count": null,
     "metadata": {},
     "output_type": "execute_result"
    }
   ],
   "source": [
    "show_doc(CamClient.trigger_camera)\n"
   ]
  },
  {
   "cell_type": "code",
   "execution_count": null,
   "metadata": {},
   "outputs": [
    {
     "data": {
      "text/markdown": "---\n\n[source](https://github.com/johnnewto/UAV/blob/main/UAV/mavlink/cam_client_server.py#L51){target=\"_blank\" style=\"float:right; font-size:smaller\"}\n\n### CamServer\n\n>      CamServer (connection_string, baudrate=57600, mav_type=30, debug=False)\n\nMavlink Camera Base\n\n|    | **Type** | **Default** | **Details** |\n| -- | -------- | ----------- | ----------- |\n| connection_string |  |  | \"udpin:localhost:14550\" |\n| baudrate | int | 57600 | baud rate of the serial port |\n| mav_type | int | 30 | type used in heartbeat |\n| debug | bool | False | logging level |",
      "text/plain": "---\n\n[source](https://github.com/johnnewto/UAV/blob/main/UAV/mavlink/cam_client_server.py#L51){target=\"_blank\" style=\"float:right; font-size:smaller\"}\n\n### CamServer\n\n>      CamServer (connection_string, baudrate=57600, mav_type=30, debug=False)\n\nMavlink Camera Base\n\n|    | **Type** | **Default** | **Details** |\n| -- | -------- | ----------- | ----------- |\n| connection_string |  |  | \"udpin:localhost:14550\" |\n| baudrate | int | 57600 | baud rate of the serial port |\n| mav_type | int | 30 | type used in heartbeat |\n| debug | bool | False | logging level |"
     },
     "execution_count": null,
     "metadata": {},
     "output_type": "execute_result"
    }
   ],
   "source": [
    "show_doc(CamServer)"
   ]
  },
  {
   "cell_type": "code",
   "execution_count": null,
   "metadata": {},
   "outputs": [],
   "source": [
    "# show_doc(CamServer....)"
   ]
  },
  {
   "cell_type": "markdown",
   "metadata": {},
   "source": [
    "#### Test locally using the same UDP ports\n",
    "**CamClient** is set to `udpin:localhost:14445` and `CamServer` is set to the same `udpout:localhost:14445`\n",
    "`udpin` is so that the client can receive UDP in at `localhost:1445`. The client will use another port to send UDP outwards."
   ]
  },
  {
   "cell_type": "code",
   "execution_count": null,
   "metadata": {},
   "outputs": [
    {
     "name": "stderr",
     "output_type": "stream",
     "text": [
      "INFO   | uav.CamClient        | 19:47:47.536 |[   base.py:106] MainThread | Starting MAVLink connection... Mavlink version 2 = True\n",
      "INFO   | uav.CamClient        | 19:47:47.537 |[   base.py:118] MainThread | Source system Set: 200, Source component: 25\n",
      "INFO   | uav.CamClient        | 19:47:47.537 |[   base.py:119] MainThread | Target system Set: 1, Target component: 100\n",
      "INFO   | uav.CamClient        | 19:47:47.638 |[   base.py:270] Thread-26 (listen) | Listening for MAVLink commands from system: 1...\n",
      "INFO   | uav.CamServer        | 19:47:47.639 |[   base.py:106] MainThread | Starting MAVLink connection... Mavlink version 2 = True\n",
      "INFO   | uav.CamServer        | 19:47:47.640 |[   base.py:118] MainThread | Source system Set: 1, Source component: 100\n",
      "INFO   | uav.CamServer        | 19:47:47.640 |[   base.py:119] MainThread | Target system Set: 200, Target component: 25\n",
      "INFO   | uav.CamServer        | 19:47:47.741 |[   base.py:142] Thread-27 (send_heartbeat) | Starting heartbeat\n",
      "INFO   | uav.CamServer        | 19:47:47.741 |[   base.py:270] Thread-28 (listen) | Listening for MAVLink commands from system: 200...\n",
      "INFO   | uav.CamClient        | 19:47:47.742 |[   base.py:158] MainThread | Waiting for heartbeat from system: 1 comp: 100\n",
      "INFO   | uav.CamClient        | 19:47:47.744 |[1946493925.py: 29] MainThread | Camera triggered\n",
      "INFO   | uav.CamServer        | 19:47:47.744 |[   base.py:348] MainThread | sent test command MAV_CMD_DO_DIGICAM_CONFIGURE\n",
      "INFO   | uav.CamClient        | 19:47:47.745 |[1946493925.py: 29] MainThread | Camera triggered\n",
      "INFO   | uav.CamServer        | 19:47:47.745 |[   base.py:348] MainThread | sent test command MAV_CMD_DO_DIGICAM_CONFIGURE\n",
      "INFO   | uav.CamClient        | 19:47:47.745 |[1946493925.py: 29] MainThread | Camera triggered\n",
      "INFO   | uav.CamServer        | 19:47:47.746 |[   base.py:348] MainThread | sent test command MAV_CMD_DO_DIGICAM_CONFIGURE\n",
      "INFO   | uav.CamClient        | 19:47:47.746 |[1946493925.py: 29] MainThread | Camera triggered\n",
      "INFO   | uav.CamServer        | 19:47:47.747 |[   base.py:348] MainThread | sent test command MAV_CMD_DO_DIGICAM_CONFIGURE\n",
      "INFO   | uav.CamClient        | 19:47:47.747 |[1946493925.py: 29] MainThread | Camera triggered\n",
      "INFO   | uav.CamServer        | 19:47:47.748 |[   base.py:348] MainThread | sent test command MAV_CMD_DO_DIGICAM_CONFIGURE\n",
      "INFO   | uav.CamServer        | 19:47:48.748 |[   base.py:301] Thread-28 (listen) | Stopped\n",
      "INFO   | uav.CamServer        | 19:47:48.749 |[   base.py:363] MainThread | CamServer  closed\n",
      "INFO   | uav.CamClient        | 19:47:49.750 |[   base.py:301] Thread-26 (listen) | Stopped\n",
      "INFO   | uav.CamClient        | 19:47:49.751 |[   base.py:363] MainThread | CamClient  closed\n"
     ]
    },
    {
     "name": "stdout",
     "output_type": "stream",
     "text": [
      "client.num_commands_sent: 5\n",
      "server.num_commands_received: 5\n",
      "client.num_acks_received: 5\n"
     ]
    }
   ],
   "source": [
    "# from UAV.mavlink.cam_client_server  import CamClient, CamServer\n",
    "from fastcore.test import *\n",
    "\n",
    "with CamClient(\"udpin:localhost:14445\", debug=False) as client:\n",
    "    with CamServer(\"udpout:localhost:14445\", debug=False) as server:\n",
    "        client.wait_heartbeat()\n",
    "\n",
    "        for i in range(5):\n",
    "            client.trigger_camera(2)\n",
    "            server._test_command(2)\n",
    "\n",
    "\n",
    "print(f\"client.num_commands_sent: {client.num_commands_sent}\")\n",
    "print(f\"server.num_commands_received: {server.num_commands_received}\")\n",
    "print(f\"client.num_acks_received: {client.num_acks_received}\")\n",
    "\n",
    "test_eq(client.num_commands_sent, server.num_commands_received)\n",
    "test_eq(client.num_acks_received, server.num_commands_received)"
   ]
  },
  {
   "cell_type": "markdown",
   "metadata": {},
   "source": [
    "This will show on wireshark as follows:\n",
    "> Using the display filte string `not icmp  && udp.port eq 14445 && mavlink_proto`\n",
    "\n",
    "![](images/wireshark_udp:14445.png)"
   ]
  },
  {
   "cell_type": "markdown",
   "metadata": {},
   "source": [
    "For debugging help see [http://localhost:3000/tutorials/mavlink_doc&debug.html](http://localhost:3000/tutorials/mavlink_doc&debug.html)\n",
    " and [http://localhost:3000/tutorials/mavlink_doc&debug.html#debugging](http://localhost:3000/tutorials/mavlink_doc&debug.html#debugging)\n"
   ]
  },
  {
   "cell_type": "code",
   "execution_count": null,
   "metadata": {},
   "outputs": [],
   "source": [
    " # Todo add a link to the docs"
   ]
  },
  {
   "cell_type": "markdown",
   "metadata": {},
   "source": [
    "#### Test using a Pixhawk connected via telemetry 2 and USB serial ports.\n",
    "**CamClient** is set to `udpin:localhost:14445` and `CamServer` is set to `udpout:localhost:14435`\n",
    "`udpin` is so that the client can receive UDP from the mavproxy server at `localhost:14445`\n",
    ">`mavproxy.py  --master=/dev/ttyACM1 --baudrate 57600 --out udpout:localhost:14445`\n",
    ">`mavproxy.py  --master=/dev/ttyACM3 --baudrate 57600 --out udpout:localhost:14435`"
   ]
  },
  {
   "cell_type": "code",
   "execution_count": null,
   "metadata": {},
   "outputs": [
    {
     "name": "stderr",
     "output_type": "stream",
     "text": [
      "INFO   | uav.CamServer        | 20:20:03.952 |[   base.py:105] MainThread | Starting MAVLink connection... Mavlink version 2 = True\n",
      "INFO   | uav.CamServer        | 20:20:03.953 |[   base.py:117] MainThread | Source system Set: 1, Source component: 100\n",
      "INFO   | uav.CamServer        | 20:20:03.954 |[   base.py:118] MainThread | Target system Set: 200, Target component: 25\n",
      "INFO   | uav.CamServer        | 20:20:04.055 |[   base.py:155] Thread-32 (send_heartbeat) | Starting heartbeat\n",
      "INFO   | uav.CamServer        | 20:20:04.057 |[   base.py:252] Thread-33 (listen) | Listening for MAVLink commands from system: 200...\n",
      "INFO   | uav.CamClient        | 20:20:04.058 |[   base.py:105] MainThread | Starting MAVLink connection... Mavlink version 2 = True\n",
      "INFO   | uav.CamClient        | 20:20:04.060 |[   base.py:117] MainThread | Source system Set: 200, Source component: 25\n",
      "INFO   | uav.CamClient        | 20:20:04.061 |[   base.py:118] MainThread | Target system Set: 1, Target component: 100\n",
      "INFO   | uav.CamClient        | 20:20:04.162 |[   base.py:252] Thread-34 (listen) | Listening for MAVLink commands from system: 1...\n",
      "INFO   | uav.CamClient        | 20:20:04.163 |[   base.py:171] MainThread | Waiting for heartbeat from system: 1 comp: 100\n",
      "INFO   | uav.CamClient        | 20:20:04.198 |[1946493925.py: 29] MainThread | Camera triggered\n",
      "INFO   | uav.CamClient        | 20:20:04.231 |[1946493925.py: 29] MainThread | Camera triggered\n",
      "INFO   | uav.CamClient        | 20:20:04.263 |[1946493925.py: 29] MainThread | Camera triggered\n"
     ]
    },
    {
     "name": "stdout",
     "output_type": "stream",
     "text": [
      "20\n"
     ]
    },
    {
     "name": "stderr",
     "output_type": "stream",
     "text": [
      "INFO   | uav.CamClient        | 20:20:05.063 |[   base.py:285] Thread-34 (listen) | Stopped\n",
      "INFO   | uav.CamClient        | 20:20:05.098 |[   base.py:347] MainThread | CamClient  closed\n",
      "INFO   | uav.CamServer        | 20:20:05.152 |[   base.py:285] Thread-33 (listen) | Stopped\n",
      "INFO   | uav.CamServer        | 20:20:06.062 |[   base.py:347] MainThread | CamServer  closed\n"
     ]
    },
    {
     "name": "stdout",
     "output_type": "stream",
     "text": [
      "server.num_commands_received: 3\n",
      "client.num_commands_sent: 3\n",
      "client.num_acks_received: 3\n",
      "server msgs: {'BAD_DATA': 2, 'HEARTBEAT': 2, 'COMMAND_LONG': 3}\n",
      "client msgs: {'BAD_DATA': 20, 'TIMESYNC': 9, 'HEARTBEAT': 78, 'PARAM_VALUE': 3, 'STATUSTEXT': 16, 'COMMAND_ACK': 3}\n"
     ]
    }
   ],
   "source": [
    "# from UAV.mavlink.cam_client_server import  CamClient, CamServer\n",
    "# from fastcore.test import *\n",
    "# import time\n",
    "\n",
    "debug = False\n",
    "with CamServer(\"/dev/ttyUSB0\", debug=debug ) as server:\n",
    "    with CamClient(\"/dev/ttyACM1\", debug=debug ) as client:\n",
    "        print(client._log.level)\n",
    "        client.wait_heartbeat(timeout=1)\n",
    "        for i in range(3):\n",
    "            client.trigger_camera(2)\n",
    "            # server._test_command(1)\n",
    "            # time.sleep(.15)\n",
    "\n",
    "print(f\"server.num_commands_received: {server.num_commands_received}\")\n",
    "print(f\"client.num_commands_sent: {client.num_commands_sent}\")\n",
    "print(f\"client.num_acks_received: {client.num_acks_received}\")\n",
    "print(f\"server msgs: {server.message_cnts}\")\n",
    "print(f\"client msgs: {client.message_cnts}\")\n",
    "test_eq (server.num_commands_received, client.num_commands_sent)\n",
    "test_eq (server.num_commands_received, client.num_acks_received)\n",
    "test_eq (server.message_cnts['COMMAND_LONG'], client.message_cnts['COMMAND_ACK'])\n",
    "assert 'HEARTBEAT' in client.message_cnts"
   ]
  },
  {
   "cell_type": "code",
   "execution_count": null,
   "metadata": {},
   "outputs": [],
   "source": [
    "# assert False, \"Stop here\""
   ]
  },
  {
   "cell_type": "markdown",
   "metadata": {},
   "source": [
    "> Connection using a serial crossover cable or via pixhawk telemetry ports\n",
    "![](../tutorials/images/serial_crossover.jpeg)  \n",
    "Telemetry 2 port on pixhawk is connected to the USB port on the companion computer using a serial crossover cable.\n",
    "1. (red) VCC +5V\n",
    "2. (?) TX (OUT) +3.3V\n",
    "3. (?) RX (IN) +3.3V\n",
    "4. (?) CTS +3.3V\n",
    "5. (?) RTS +3.3V\n",
    "6. (?) GND GND`"
   ]
  },
  {
   "cell_type": "markdown",
   "metadata": {},
   "source": []
  },
  {
   "cell_type": "code",
   "execution_count": null,
   "metadata": {},
   "outputs": [],
   "source": [
    "#| hide\n",
    "# from nbdev import nbdev_export\n",
    "# nbdev_export()"
   ]
  }
 ],
 "metadata": {
  "kernelspec": {
   "display_name": "python3",
   "language": "python",
   "name": "python3"
  }
 },
 "nbformat": 4,
 "nbformat_minor": 4
}
