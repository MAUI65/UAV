{
 "cells": [
  {
   "cell_type": "markdown",
   "metadata": {},
   "source": [
    "# config\n",
    "\n",
    "> Configuring nbdev and bootstrapping notebook export\n"
   ]
  },
  {
   "cell_type": "code",
   "execution_count": null,
   "metadata": {},
   "outputs": [],
   "source": [
    "#|default_exp config"
   ]
  },
  {
   "cell_type": "code",
   "execution_count": null,
   "metadata": {},
   "outputs": [],
   "source": [
    "#|export\n",
    "_doc_ = \"\"\"Read and write nbdev's `settings.ini` file.\n",
    "`get_config` is the main function for reading settings.\"\"\""
   ]
  },
  {
   "cell_type": "code",
   "execution_count": null,
   "metadata": {},
   "outputs": [],
   "source": [
    "#|export\n",
    "from datetime import datetime\n",
    "from fastcore.docments import *\n",
    "from fastcore.utils import *\n",
    "from fastcore.meta import *\n",
    "from fastcore.script import *\n",
    "from fastcore.style import *\n",
    "from fastcore.xdg import *\n",
    "\n",
    "import ast\n",
    "from IPython.display import Markdown\n",
    "from execnb.nbio import read_nb,NbCell\n",
    "from urllib.error import HTTPError"
   ]
  },
  {
   "cell_type": "code",
   "execution_count": null,
   "metadata": {},
   "outputs": [],
   "source": [
    "#|hide\n",
    "from fastcore.test import *\n",
    "import tempfile"
   ]
  },
  {
   "cell_type": "markdown",
   "metadata": {},
   "source": [
    "## Configuring nbdev"
   ]
  },
  {
   "cell_type": "markdown",
   "metadata": {},
   "source": [
    "nbdev is heavily customizeable, thanks to the configuration system defined in this module. There are 2 ways to interact with nbdev's config:\n",
    "\n",
    "- **In the terminal:** `nbdev_create_config` creates a config file (if you're starting a new project use `nbdev_new` instead)\n",
    "- **In your library:** `get_config` returns a `fastcore.foundation.Config` object.\n",
    "\n",
    "Read on for more about how these work."
   ]
  },
  {
   "cell_type": "markdown",
   "metadata": {},
   "source": [
    "### Creating a config file -"
   ]
  },
  {
   "cell_type": "code",
   "execution_count": null,
   "metadata": {},
   "outputs": [],
   "source": [
    "#|export\n",
    "_nbdev_home_dir = 'nbdev' # sub-directory of xdg base dir\n",
    "_nbdev_cfg_name = 'settings.ini'"
   ]
  },
  {
   "cell_type": "code",
   "execution_count": null,
   "metadata": {},
   "outputs": [],
   "source": [
    "#|export\n",
    "def _git_repo():\n",
    "    try: return repo_details(run('git config --get remote.origin.url'))[1]\n",
    "    except OSError: return"
   ]
  },
  {
   "cell_type": "code",
   "execution_count": null,
   "metadata": {},
   "outputs": [],
   "source": [
    "#|hide\n",
    "test_eq(_git_repo(), 'UAV')\n",
    "with tempfile.TemporaryDirectory() as d, working_directory(d): test_is(_git_repo(), None)"
   ]
  },
  {
   "cell_type": "code",
   "execution_count": null,
   "metadata": {},
   "outputs": [],
   "source": [
    "#|export\n",
    "\n",
    "# When adding a named default to the list below, be sure that that name\n",
    "# is also added to one of the sections in `_nbdev_cfg_sections` as well,\n",
    "# or it won't get written by `nbdev_create_config`:\n",
    "def _apply_defaults(\n",
    "    cfg,\n",
    "    lib_name='%(repo)s', # Package name\n",
    "    git_url='https://github.com/%(user)s/%(repo)s', # Repo URL\n",
    "    custom_sidebar:bool_arg=False, # Use a custom sidebar.yml?\n",
    "    nbs_path:Path='nbs', # Path to notebooks\n",
    "    lib_path:Path=None, # Path to package root (default: `repo` with `-` replaced by `_`)\n",
    "    doc_path:Path='_docs', # Path to rendered docs\n",
    "    tst_flags='notest', # Test flags\n",
    "    version='0.0.1', # Version of this release\n",
    "    doc_host='https://%(user)s.github.io',  # Hostname for docs\n",
    "    doc_baseurl='/%(repo)s',  # Base URL for docs\n",
    "    keywords='nbdev jupyter notebook python', # Package keywords\n",
    "    license='apache2', # License for the package\n",
    "    copyright:str=None, # Copyright for the package, defaults to '`current_year` onwards, `author`'\n",
    "    status='3', # Development status PyPI classifier\n",
    "    min_python='3.7', # Minimum Python version PyPI classifier\n",
    "    audience='Developers', # Intended audience PyPI classifier\n",
    "    language='English', # Language PyPI classifier\n",
    "    recursive:bool_arg=True, # Include subfolders in notebook globs?\n",
    "    black_formatting:bool_arg=False, # Format libraries with black?\n",
    "    readme_nb='index.ipynb', # Notebook to export as repo readme\n",
    "    title='%(lib_name)s', # Quarto website title\n",
    "    allowed_metadata_keys='', # Preserve the list of keys in the main notebook metadata\n",
    "    allowed_cell_metadata_keys='', # Preserve the list of keys in cell level metadata\n",
    "    jupyter_hooks:bool_arg=True, # Run Jupyter hooks?\n",
    "    clean_ids:bool_arg=True, # Remove ids from plaintext reprs?\n",
    "    clear_all:bool_arg=False, # Remove all cell metadata and cell outputs?\n",
    "    put_version_in_init:bool_arg=True, # Add the version to the main __init__.py in nbdev_export\n",
    "):\n",
    "    \"Apply default settings where missing in `cfg`.\"\n",
    "    if getattr(cfg,'repo',None) is None:\n",
    "        cfg.repo = _git_repo()\n",
    "        if cfg.repo is None:\n",
    "            _parent = Path.cwd()\n",
    "            cfg.repo = _parent.parent.name if _parent.name=='nbs' else _parent.name\n",
    "    if lib_path is None: lib_path = cfg.repo.replace('-', '_')\n",
    "    if copyright is None: copyright = f\"{datetime.now().year} onwards, %(author)s\"\n",
    "    for k,v in locals().items():\n",
    "        if k.startswith('_') or k == 'cfg' or cfg.get(k) is not None: continue\n",
    "        cfg[k] = v\n",
    "    return cfg"
   ]
  },
  {
   "cell_type": "markdown",
   "metadata": {},
   "source": [
    "d### Reading a config file -"
   ]
  },
  {
   "cell_type": "markdown",
   "metadata": {},
   "source": [
    "Paths are relative to the project:"
   ]
  },
  {
   "cell_type": "code",
   "execution_count": null,
   "metadata": {},
   "outputs": [],
   "source": [
    "# test_eq(cfg.doc_path, p/'_docs')\n",
    "# test_eq(cfg.lib_path, p/'nbdev')\n",
    "# test_eq(cfg.nbs_path, p/'nbs')"
   ]
  },
  {
   "cell_type": "markdown",
   "metadata": {},
   "source": [
    "It automatically returns defaults for keys not specified in the config file. Here we create an empty config file and access `lib_path` and `copyright` even though they weren't explicitly defined:"
   ]
  },
  {
   "cell_type": "code",
   "execution_count": null,
   "metadata": {},
   "outputs": [],
   "source": []
  }
 ],
 "metadata": {
  "kernelspec": {
   "display_name": "python3",
   "language": "python",
   "name": "python3"
  }
 },
 "nbformat": 4,
 "nbformat_minor": 4
}
