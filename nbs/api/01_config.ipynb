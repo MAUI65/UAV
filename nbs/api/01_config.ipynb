{
 "cells": [
  {
   "cell_type": "markdown",
   "metadata": {},
   "source": [
    "# Config\n",
    "\n",
    "> Configuring UAV parameters\n"
   ]
  },
  {
   "cell_type": "code",
   "execution_count": null,
   "metadata": {},
   "outputs": [],
   "source": [
    "#|default_exp config"
   ]
  },
  {
   "cell_type": "code",
   "execution_count": null,
   "metadata": {},
   "outputs": [],
   "source": [
    "#|export\n",
    "_doc_ = \"\"\"Read and write nbdev's `settings.ini` file.\n",
    "`get_config` is the main function for reading settings.\"\"\""
   ]
  },
  {
   "cell_type": "code",
   "execution_count": null,
   "metadata": {},
   "outputs": [],
   "source": [
    "#|export\n",
    "from datetime import datetime\n",
    "from fastcore.docments import *\n",
    "from fastcore.utils import *\n",
    "from fastcore.meta import *\n",
    "from fastcore.script import *\n",
    "from fastcore.style import *\n",
    "from fastcore.xdg import *\n",
    "\n",
    "import ast\n",
    "from IPython.display import Markdown\n",
    "from execnb.nbio import read_nb,NbCell\n",
    "from urllib.error import HTTPError"
   ]
  },
  {
   "cell_type": "code",
   "execution_count": null,
   "metadata": {},
   "outputs": [],
   "source": [
    "#|hide\n",
    "from fastcore.test import *\n",
    "import tempfile"
   ]
  },
  {
   "cell_type": "markdown",
   "metadata": {},
   "source": [
    "## Configuring UAV"
   ]
  },
  {
   "cell_type": "code",
   "execution_count": null,
   "metadata": {},
   "outputs": [
    {
     "name": "stdout",
     "output_type": "stream",
     "text": [
      "<Section: DEFAULT>\n"
     ]
    },
    {
     "data": {
      "text/plain": "{'user': 'fastai',\n 'lib_name': 'fastcore',\n 'some_path': 'test',\n 'some_bool': 'True',\n 'some_num': '3'}"
     },
     "execution_count": null,
     "metadata": {},
     "output_type": "execute_result"
    }
   ],
   "source": [
    "_d = dict(user='fastai', lib_name='fastcore', some_path='test', some_bool=True, some_num=3)\n",
    "try:\n",
    "    save_config_file('tmp.ini', _d)\n",
    "    res = read_config_file('tmp.ini')\n",
    "    print(res)\n",
    "finally: \n",
    "    pass\n",
    "    os.unlink('tmp.ini')\n",
    "dict(res)"
   ]
  },
  {
   "cell_type": "code",
   "execution_count": null,
   "metadata": {},
   "outputs": [
    {
     "data": {
      "text/plain": "{'user': 'fastai', 'lib_name': 'fastcore', 'some_path': 'test', 'some_bool': 'True', 'some_num': '3'}"
     },
     "execution_count": null,
     "metadata": {},
     "output_type": "execute_result"
    }
   ],
   "source": [
    "try: cfg = Config('..', 'tmp.ini', create=_d)\n",
    "finally: \n",
    "    pass\n",
    "    os.unlink('../tmp.ini')\n",
    "cfg"
   ]
  },
  {
   "cell_type": "code",
   "execution_count": null,
   "metadata": {},
   "outputs": [],
   "source": [
    "# assert False"
   ]
  },
  {
   "cell_type": "code",
   "execution_count": null,
   "metadata": {},
   "outputs": [],
   "source": [
    "#|export\n",
    "_uav_home_dir = 'UAV' # subdirectory of xdg base dir\n",
    "_uav_cfg_name = 'settings.toml'    # todo use https://github.com/hukkin/tomli\n",
    "_uav_params_name = 'params.py'"
   ]
  },
  {
   "cell_type": "code",
   "execution_count": null,
   "metadata": {},
   "outputs": [],
   "source": [
    "#|export\n",
    "def _git_repo():\n",
    "    try: return repo_details(run('git config --get remote.origin.url'))[1]\n",
    "    except OSError: return"
   ]
  },
  {
   "cell_type": "code",
   "execution_count": null,
   "metadata": {},
   "outputs": [],
   "source": [
    "#|hide\n",
    "test_eq(_git_repo(), 'UAV')\n",
    "with tempfile.TemporaryDirectory() as d, working_directory(d): test_is(_git_repo(), None)"
   ]
  },
  {
   "cell_type": "code",
   "execution_count": null,
   "metadata": {},
   "outputs": [],
   "source": [
    "#|export\n",
    "#|export\n",
    "#|export\n",
    "#|export\n"
   ]
  },
  {
   "cell_type": "markdown",
   "metadata": {},
   "source": [
    "d### Reading a config file -"
   ]
  },
  {
   "cell_type": "code",
   "execution_count": null,
   "metadata": {},
   "outputs": [],
   "source": [
    "# test_eq(cfg.doc_path, p/'_docs')\n",
    "# test_eq(cfg.lib_path, p/'nbdev')\n",
    "# test_eq(cfg.nbs_path, p/'nbs')"
   ]
  },
  {
   "cell_type": "code",
   "execution_count": null,
   "metadata": {},
   "outputs": [],
   "source": []
  }
 ],
 "metadata": {
  "kernelspec": {
   "display_name": "python3",
   "language": "python",
   "name": "python3"
  }
 },
 "nbformat": 4,
 "nbformat_minor": 4
}
