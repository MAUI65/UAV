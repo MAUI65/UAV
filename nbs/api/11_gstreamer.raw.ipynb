{
 "cells": [
  {
   "cell_type": "code",
   "execution_count": null,
   "metadata": {},
   "outputs": [],
   "source": [
    "#| default_exp gstreamer.raw"
   ]
  },
  {
   "cell_type": "markdown",
   "metadata": {},
   "source": [
    "\n",
    "# Gstreamer raw transmit\n",
    "> Gstreamer transmit raw video\n"
   ]
  },
  {
   "cell_type": "code",
   "execution_count": null,
   "metadata": {},
   "outputs": [],
   "source": [
    "#| hide\n",
    "%load_ext autoreload\n",
    "%autoreload 2"
   ]
  },
  {
   "cell_type": "code",
   "execution_count": null,
   "metadata": {},
   "outputs": [],
   "source": [
    "#| hide\n",
    "# skip_showdoc: true to avoid running cells when rendering docs, and skip_exec: true to skip this notebook when running tests. \n",
    "# this should be a raw cell "
   ]
  },
  {
   "cell_type": "raw",
   "metadata": {},
   "source": [
    "---\n",
    "skip_showdoc: true\n",
    "skip_exec: true\n",
    "---"
   ]
  },
  {
   "cell_type": "code",
   "execution_count": null,
   "metadata": {},
   "outputs": [],
   "source": [
    "#| export\n",
    "from UAV.imports import *   # TODO why is this relative import on nbdev_export?\n",
    "import cv2\n",
    "import gi\n",
    "import numpy as np\n",
    "from imutils import resize\n",
    "\n",
    "from PIL import Image\n",
    "\n",
    "\n",
    "import time\n",
    "# from dataloader import LoadImages, resize\n",
    "from pathlib import Path\n",
    "# import logging\n",
    "\n",
    "# gi.require_version('Gst', '1.0')\n"
   ]
  },
  {
   "cell_type": "code",
   "execution_count": null,
   "metadata": {},
   "outputs": [],
   "source": [
    "#| hide\n",
    "from fastcore.utils import *\n",
    "from nbdev.showdoc import *\n",
    "from fastcore.test import *"
   ]
  },
  {
   "cell_type": "code",
   "execution_count": null,
   "metadata": {},
   "outputs": [],
   "source": [
    "import UAV.gstreamer.valve as g\n",
    "from UAV.utils.display import *"
   ]
  },
  {
   "cell_type": "code",
   "execution_count": null,
   "metadata": {},
   "outputs": [
    {
     "name": "stderr",
     "output_type": "stream",
     "text": [
      "19:31:33,202 DEBUG [  valve.py:292] Ping: Found 127.0.0.1\n",
      "19:31:33,203  INFO [2486295059.py:  2] hello\n",
      "19:31:33,204  INFO [2486295059.py:  3] hello\n"
     ]
    }
   ],
   "source": [
    "test_eq(g.ping_ip(\"127.0.0.1\"), True)\n",
    "g.logger.info(\"hello\")\n",
    "g.logger.info(\"hello\")"
   ]
  },
  {
   "cell_type": "code",
   "execution_count": null,
   "metadata": {},
   "outputs": [],
   "source": [
    "gstcommand=['videotestsrc ! autovideosink']"
   ]
  },
  {
   "cell_type": "code",
   "execution_count": null,
   "metadata": {},
   "outputs": [],
   "source": [
    "gstcommand=['videotestsrc ! rtpvrawpay ! udpsink host=127.0.0.1 port=5000']\n",
    "gst-launch-1.0 -v filesrc location=/path/to/raw/file.yuv ! videoparse format=i420 width=640 height=480 ! rtpvrawpay ! udpsink host=127.0.0.1 port=5000\n"
   ]
  },
  {
   "cell_type": "code",
   "execution_count": null,
   "metadata": {},
   "outputs": [
    {
     "name": "stderr",
     "output_type": "stream",
     "text": [
      "19:36:35,334 WARNING [  valve.py:143] GstStream Error: appsink is None\n",
      "19:36:35,391  INFO [  valve.py:126] GstStream started\n"
     ]
    }
   ],
   "source": [
    "a = g.GstStream('CAM-0', gstcommand)"
   ]
  },
  {
   "cell_type": "code",
   "execution_count": null,
   "metadata": {},
   "outputs": [],
   "source": [
    "gst-launch-1.0 -v filesrc location=nbs/api/images/mnist3.png ! pngdec ! videoconvert ! rtpvrawpay ! udpsink host=127.0.0.1 port=5000\n",
    "\n"
   ]
  },
  {
   "cell_type": "code",
   "execution_count": null,
   "metadata": {},
   "outputs": [],
   "source": [
    "im2 = np.array(Image.open(TEST_IMAGE))"
   ]
  },
  {
   "cell_type": "code",
   "execution_count": null,
   "metadata": {},
   "outputs": [
    {
     "name": "stderr",
     "output_type": "stream",
     "text": [
      "20:06:40,830 DEBUG [PngImagePlugin.py:190] STREAM b'IHDR' 16 13\n",
      "20:06:40,830 DEBUG [PngImagePlugin.py:190] STREAM b'IDAT' 41 182\n"
     ]
    },
    {
     "data": {
      "image/png": "[encoded data removed]",
      "text/plain": "<Figure size 300x300 with 1 Axes>"
     },
     "metadata": {},
     "output_type": "display_data"
    }
   ],
   "source": [
    "im2 = np.array(Image.open(TEST_IMAGE_BW))\n",
    "ax = show_image(im2, text='dog', figsize=(3,3))\n"
   ]
  },
  {
   "cell_type": "code",
   "execution_count": null,
   "metadata": {},
   "outputs": [
    {
     "data": {
      "text/plain": "'images/mnist3.png'"
     },
     "execution_count": null,
     "metadata": {},
     "output_type": "execute_result"
    }
   ],
   "source": [
    "TEST_IMAGE_BW"
   ]
  },
  {
   "cell_type": "code",
   "execution_count": null,
   "metadata": {},
   "outputs": [
    {
     "name": "stdout",
     "output_type": "stream",
     "text": [
      "None\n"
     ]
    }
   ],
   "source": [
    "b = a.pipeline.get_by_name('sink')\n",
    "print(b)"
   ]
  },
  {
   "cell_type": "code",
   "execution_count": null,
   "metadata": {},
   "outputs": [],
   "source": [
    "#| hide\n",
    "# from nbdev import nbdev_export\n",
    "# nbdev_export()"
   ]
  }
 ],
 "metadata": {
  "kernelspec": {
   "display_name": "python3",
   "language": "python",
   "name": "python3"
  }
 },
 "nbformat": 4,
 "nbformat_minor": 4
}
