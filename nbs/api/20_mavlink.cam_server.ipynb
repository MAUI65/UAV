{
 "cells": [
  {
   "cell_type": "markdown",
   "metadata": {},
   "source": [
    "# Mavlink Camera Server\n",
    "> Mavlink experiments\n",
    "\n",
    "[https://mavlink.io/en/mavgen_python/](https://mavlink.io/en/mavgen_python/)\n",
    "[https://www.ardusub.com/developers/pymavlink.html](https://www.ardusub.com/developers/pymavlink.html)\n",
    "\n",
    "https://mavlink.io/en/messages/common.html\n",
    "https://mavlink.io/en/messages/common.html#MAV_TYPE\n",
    "https://github.com/jackersson/gst-python-tutorials\n"
   ]
  },
  {
   "cell_type": "code",
   "execution_count": null,
   "metadata": {},
   "outputs": [],
   "source": [
    "#| default_exp mavlink.cam_server"
   ]
  },
  {
   "cell_type": "code",
   "execution_count": null,
   "metadata": {},
   "outputs": [],
   "source": [
    "#| hide\n",
    "%load_ext autoreload\n",
    "%autoreload 2"
   ]
  },
  {
   "cell_type": "code",
   "execution_count": null,
   "metadata": {},
   "outputs": [],
   "source": [
    "#| hide\n",
    "# skip_showdoc: true to avoid running cells when rendering docs, and \n",
    "# skip_exec: true to skip this notebook when running tests. \n",
    "# this should be a raw cell "
   ]
  },
  {
   "cell_type": "code",
   "execution_count": null,
   "metadata": {},
   "outputs": [],
   "source": []
  },
  {
   "cell_type": "raw",
   "metadata": {},
   "source": [
    "---\n",
    "skip_showdoc: true\n",
    "skip_exec: true\n",
    "---"
   ]
  },
  {
   "cell_type": "code",
   "execution_count": null,
   "metadata": {},
   "outputs": [
    {
     "name": "stderr",
     "output_type": "stream",
     "text": [
      "DEBUG  | matplotlib           | 19:55:42.426 |[__init__.py:305] MainThread | matplotlib data path: /home/jn/PycharmProjects/UAV/venv/lib/python3.10/site-packages/matplotlib/mpl-data\n",
      "DEBUG  | matplotlib           | 19:55:42.430 |[__init__.py:305] MainThread | CONFIGDIR=/home/jn/.config/matplotlib\n",
      "DEBUG  | matplotlib           | 19:55:42.432 |[__init__.py:1479] MainThread | interactive is False\n",
      "DEBUG  | matplotlib           | 19:55:42.432 |[__init__.py:1480] MainThread | platform is linux\n",
      "DEBUG  | matplotlib           | 19:55:42.503 |[__init__.py:305] MainThread | CACHEDIR=/home/jn/.cache/matplotlib\n",
      "DEBUG  | matplotlib.font_manager | 19:55:42.506 |[font_manager.py:1543] MainThread | Using fontManager instance from /home/jn/.cache/matplotlib/fontlist-v330.json\n"
     ]
    }
   ],
   "source": [
    "#| export\n",
    "import UAV\n",
    "from UAV.imports import *   # TODO why is this relative import on nbdev_export?\n",
    "import cv2\n",
    "\n",
    "import numpy as np\n",
    "from imutils import resize\n",
    "\n",
    "import time\n",
    "\n",
    "from pathlib import Path\n",
    "import time\n",
    "from pymavlink import mavutil\n",
    "import threading\n",
    "\n",
    "import logging\n",
    "\n",
    "import UAV.params as params\n",
    "\n",
    "import gi\n",
    "gi.require_version('Gst', '1.0')\n",
    "from gi.repository import Gst, GObject, GLib\n",
    "\n",
    "# gi.require_version('Gst', '1.0')"
   ]
  },
  {
   "cell_type": "code",
   "execution_count": null,
   "metadata": {},
   "outputs": [],
   "source": [
    "#| export\n",
    "# logging.basicConfig(format='%(asctime)-8s,%(msecs)-3d %(levelname)5s [%(filename)10s:%(lineno)3d] %(message)s',\n",
    "#                     datefmt='%H:%M:%S',\n",
    "#                     level=params.LOGGING_LEVEL)  # Todo add this to params\n",
    "# logger = logging.getLogger(params.LOGGING_NAME)"
   ]
  },
  {
   "cell_type": "code",
   "execution_count": null,
   "metadata": {},
   "outputs": [],
   "source": [
    "#| hide\n",
    "from fastcore.utils import *\n",
    "from nbdev.showdoc import *\n",
    "from fastcore.test import *"
   ]
  },
  {
   "cell_type": "code",
   "execution_count": null,
   "metadata": {},
   "outputs": [],
   "source": [
    "# from  UAV.gstreamer.valve import DefaultParams, GstStream\n",
    "# from UAV.utils.display import show_image\n",
    "# \n",
    "# gstcommand = DefaultParams().cameras[\"CAM-0\"][\"gst\"]\n",
    "# print(gstcommand)\n",
    "# with  GstStream(\"CAM-0\", gstcommand) as video:\n",
    "#     time.sleep(2)\n",
    "#     if video.frame_available():\n",
    "#         image = video.frame()\n",
    "#         ax = show_image(image, rgb2bgr=True)\n"
   ]
  },
  {
   "cell_type": "code",
   "execution_count": null,
   "metadata": {},
   "outputs": [],
   "source": [
    "#| export\n",
    "import logging, threading\n",
    "class CameraServer:\n",
    "    def __init__(self, connection_string, # \"udpin:localhost:14550\"\n",
    "                 baudrate=57600, #baud rate of the serial port\n",
    "                 camera_id=0, # camera id\n",
    "                 gstpipes=[]): # list of gstreamer pipelines to control\n",
    "        self._log = logging.getLogger(\"uav.{}\".format(self.__class__.__name__))\n",
    "        self.camera_id = camera_id\n",
    "        # Create the connection\n",
    "        self.master = mavutil.mavlink_connection(connection_string, baud=baudrate)\n",
    "        self.gstpipes = gstpipes\n",
    "        self._t_heartbeat = threading.Thread(target=self.send_heartbeat, daemon=True)\n",
    "        self._t_heartbeat.start()\n",
    "        self._t_mav_listen = threading.Thread(target=self.listen, daemon=True)\n",
    "        self._t_mav_listen.start()\n",
    "        self.image = None\n",
    "\n",
    "    def __str__(self) -> str:\n",
    "        return self.__class__.__name__\n",
    "\n",
    "    def __repr__(self) -> str:\n",
    "        return \"<{}>\".format(self)\n",
    "\n",
    "    @property\n",
    "    def log(self) -> logging.Logger:\n",
    "        return self._log\n",
    "    \n",
    "    def send_heartbeat(self):\n",
    "        \"\"\"Send a heartbeat message to indicate the server is alive.\"\"\"\n",
    "        self._stop_threads = False\n",
    "        while not self._stop_threads:\n",
    "            self.master.mav.heartbeat_send(\n",
    "                mavutil.mavlink.MAV_TYPE_CAMERA,  # type\n",
    "                # mavutil.mavlink.MAV_TYPE_ONBOARD_CONTROLLER,\n",
    "                mavutil.mavlink.MAV_AUTOPILOT_INVALID,  # autopilot\n",
    "                0,  # base_mode\n",
    "                0,  # custom_mode\n",
    "                mavutil.mavlink.MAV_STATE_ACTIVE,  # system_status\n",
    "                3  # MAVLink version\n",
    "            )\n",
    "            # print(\"Cam heartbeat_send\")\n",
    "            time.sleep(1)  # Send every second\n",
    "\n",
    "\n",
    "    def listen(self):\n",
    "        \"\"\"Listen for MAVLink commands and trigger the camera when needed.\"\"\"\n",
    "        self._stop_threads = False\n",
    "        self.log.info(\"Listening for MAVLink commands...\")\n",
    "        while not self._stop_threads:\n",
    "            # Wait for a MAVLink message\n",
    "            try:\n",
    "                msg = self.master.recv_match(blocking=True, timeout=1)\n",
    "            except Exception as e:\n",
    "                self.log.error(e)\n",
    "                continue\n",
    "            # msg = self.master.recv_match(timeout=1)\n",
    "            if not msg:\n",
    "                continue\n",
    "            # print (msg)\n",
    "\n",
    "            # Check if it's a command to control the digital camera\n",
    "            try:\n",
    "                if msg.get_type() == 'COMMAND_LONG' and msg.command == mavutil.mavlink.MAV_CMD_DO_DIGICAM_CONTROL:\n",
    "                    if msg.param2 == 1:  # check if the trigger capture parameter is set\n",
    "                        self.trigger_camera(msg.param1)\n",
    "                elif msg.get_type() == 'COMMAND_LONG' and msg.command == mavutil.mavlink.MAV_CMD_VIDEO_START_STREAMING:\n",
    "                    if msg.param1 >= 1:\n",
    "                        self.start_streaming(msg.param1)\n",
    "            except Exception as e:\n",
    "                self.log.error(e)\n",
    "                continue\n",
    "                \n",
    "        self.log.info(\"Stopped Thread listening for MAVLink commands\")\n",
    "\n",
    "    def _start_stop_streaming(self, camera_id, dropstate=False):\n",
    "        # start or stop video stream. 0 = all, 1 = primary camera, 2 secondary, etc.\n",
    "        self.log.info(f\"Camera {camera_id} dropstate: {dropstate}\")\n",
    "        return\n",
    "        camera_id = int(camera_id-1)  # mavlink camera id starts at 1\n",
    "        if camera_id >= len(self.gstpipes):\n",
    "            logger.error(f\"Camera {camera_id+1} not found\")\n",
    "        else:\n",
    "            try:\n",
    "                if camera_id == -1:\n",
    "                    for pipe in self.gstpipes:\n",
    "                        pipe.set_valve_state(\"myvalve\", dropstate)\n",
    "                else:\n",
    "                    self.gstpipes[camera_id].set_valve_state(\"myvalve\", dropstate)\n",
    "            except exception as e:\n",
    "                logger.error(e)\n",
    "            \n",
    "    def start_streaming(self, camera_id):\n",
    "        # start video stream. 1 = primary camera, 2 secondary, etc.\n",
    "        self._start_stop_streaming(camera_id, dropstate=False)\n",
    "\n",
    "    def stop_streaming(self, camera_id):\n",
    "        # stop video stream. 1 = primary camera, 2 secondary, etc.\n",
    "        self._start_stop_streaming(camera_id, dropstate=True)    \n",
    "        \n",
    "    def trigger_camera(self,  camera_id):\n",
    "        # Capture an image\n",
    "        # if video.frame_available():\n",
    "        #     self.image = video.frame()\n",
    "            # ax = show_image(image)\n",
    "            # self.pull_sample(camera_id)\n",
    "            print(f\"Camera triggered! Captured an image {'self.image.shape'}\")\n",
    "\n",
    "    def close(self):\n",
    "        print(\"Closing camera server...\")\n",
    "        self.master.close()\n",
    "        self.master.port.close()\n",
    "        for pipe in self.gstpipes:\n",
    "            pipe.shutdown()\n",
    "        # self.gstpipes.close()\n",
    "        self._stop_threads = True\n",
    "        self._t_heartbeat.join()\n",
    "        self._t_mav_listen.join()\n",
    "        self.log.info(f\"Camera {self.camera_id}  closed\")\n",
    "    \n",
    "    \n",
    "    def __enter__(self):\n",
    "        \"\"\" Context manager entry point for with statement.\"\"\"\n",
    "        return self # This value is assigned to the variable after 'as' in the 'with' statement\n",
    "    \n",
    "    def __exit__(self, exc_type, exc_value, traceback):\n",
    "        \"\"\"Context manager exit point.\"\"\"\n",
    "        self.close()\n",
    "        return False  # re-raise any exceptions\n",
    "        \n"
   ]
  },
  {
   "cell_type": "code",
   "execution_count": null,
   "metadata": {},
   "outputs": [
    {
     "name": "stderr",
     "output_type": "stream",
     "text": [
      "INFO   | uav.CameraServer     | 19:55:42.804 |[262375905.py: 49] Thread-6 (listen) | Listening for MAVLink commands...\n"
     ]
    },
    {
     "name": "stdout",
     "output_type": "stream",
     "text": [
      "Closing camera server...\n"
     ]
    },
    {
     "name": "stderr",
     "output_type": "stream",
     "text": [
      "ERROR  | uav.CameraServer     | 19:55:53.346 |[262375905.py: 55] Thread-6 (listen) | [Errno 9] Bad file descriptor\n",
      "INFO   | uav.CameraServer     | 19:55:53.347 |[262375905.py: 74] Thread-6 (listen) | Stopped Thread listening for MAVLink commands\n",
      "INFO   | uav.CameraServer     | 19:55:53.845 |[262375905.py:119] MainThread | Camera 0  closed\n"
     ]
    }
   ],
   "source": [
    "\n",
    "with CameraServer(\"udpin:localhost:14550\") as server:\n",
    "    for i in range(100):\n",
    "        time.sleep(0.1)\n",
    "        # if server.image is not None:\n",
    "        #     ax = show_image(server.image, rgb2bgr=True)\n",
    "        #     server.image = None\n"
   ]
  },
  {
   "cell_type": "code",
   "execution_count": null,
   "metadata": {},
   "outputs": [
    {
     "name": "stderr",
     "output_type": "stream",
     "text": [
      "INFO   | uav.CameraServer     | 19:55:54.001 |[cam_server.py: 85] Thread-8 (listen) | Listening for MAVLink commands...\n",
      "INFO   | pygst.GstVidSrcValve | 19:55:54.001 |[gst_tools.py:131] MainThread | GstVidSrcValve \n",
      " gst-launch-1.0 videotestsrc pattern=smpte is-live=true num-buffers=1000 ! tee name=t t. ! queue leaky=2 ! valve name=myvalve drop=False ! video/x-raw,format=I420,width=640,height=480 ! videoconvert ! x264enc tune=zerolatency ! rtph264pay ! udpsink host=127.0.0.1 port=5000 t. ! queue leaky=2 ! videoconvert ! videorate drop-only=true ! video/x-raw,framerate=5/1,format=(string)BGR ! videoconvert ! appsink name=mysink emit-signals=true  sync=false async=false  max-buffers=2 drop=true \n",
      "INFO   | pygst.GstVidSrcValve | 19:55:54.009 |[gst_tools.py:193] MainThread | Starting GstVidSrcValve\n",
      "INFO   | pygst.GstVidSrcValve | 19:56:03.817 |[gst_tools.py:264] MainThread | GstVidSrcValve Shutdown requested ...\n",
      "INFO   | pygst.GstVidSrcValve | 19:56:03.822 |[gst_tools.py:268] MainThread | GstVidSrcValve successfully destroyed\n"
     ]
    },
    {
     "name": "stdout",
     "output_type": "stream",
     "text": [
      "Closing camera server...\n"
     ]
    },
    {
     "name": "stderr",
     "output_type": "stream",
     "text": [
      "INFO   | uav.CameraServer     | 19:56:04.041 |[cam_server.py:110] Thread-8 (listen) | Stopped Thread listening for MAVLink commands\n",
      "INFO   | uav.CameraServer     | 19:56:04.043 |[cam_server.py:155] MainThread | Camera 0  closed\n"
     ]
    }
   ],
   "source": [
    "from UAV.mavlink.cam_server import CameraServer\n",
    "\n",
    "from gstreamer import GstVidSrcValve \n",
    "import gstreamer.utils as utils\n",
    "\n",
    "from UAV.utils.display import show_image\n",
    "import time\n",
    "DEFAULT_PIPELINE = utils.to_gst_string([\n",
    "            'videotestsrc pattern=smpte is-live=true num-buffers=1000 ! tee name=t',\n",
    "            't.',\n",
    "            'queue leaky=2 ! valve name=myvalve drop=False ! video/x-raw,format=I420,width=640,height=480',\n",
    "            'videoconvert',\n",
    "            # 'x264enc tune=zerolatency noise-reduction=10000 bitrate=2048 speed-preset=superfast',\n",
    "            'x264enc tune=zerolatency',\n",
    "            'rtph264pay ! udpsink host=127.0.0.1 port=5000',\n",
    "            't.',\n",
    "            'queue leaky=2 ! videoconvert ! videorate drop-only=true ! video/x-raw,framerate=5/1,format=(string)BGR',\n",
    "            'videoconvert ! appsink name=mysink emit-signals=true  sync=false async=false  max-buffers=2 drop=true ',\n",
    "        ])\n",
    "\n",
    "# print(DEFAULT_PIPELINE)\n",
    "command = DEFAULT_PIPELINE\n",
    "num_buffers = 80\n",
    "\n",
    "with CameraServer(\"udpin:localhost:14550\", gstpipes=[]) as server:\n",
    "    # with GstVideoSourceValve(command, leaky=True) as pipeline:\n",
    "    # with  GstStream(\"CAM-0\", gstcommand) as video:\n",
    "    pipeline = GstVidSrcValve(DEFAULT_PIPELINE)\n",
    "    pipeline.startup()\n",
    "    # server = CameraServer(\"udpin:localhost:14550\", gstpipes=[pipeline])\n",
    "    # server.listen()\n",
    "    for i in range(50):\n",
    "        time.sleep(0.1)\n",
    "        buffer = pipeline.pop()\n",
    "        # if video.frame_available():\n",
    "        #     image = video.frame()\n",
    "    pipeline.shutdown()\n",
    "    # ax = show_image(buffer, rgb2bgr=True)\n",
    "\n",
    "    # buffers = []\n",
    "    # count = 0\n",
    "    # dropstate = False\n",
    "    # while len(buffers) < num_buffers:\n",
    "    #     # time.sleep(0.1)\n",
    "    #     count += 1\n",
    "    #     if count % 20 == 0:\n",
    "    #         # print(f'Count = : {count}')\n",
    "    #         dropstate = not dropstate\n",
    "    #         pipeline.set_valve_state(\"myvalve\", dropstate)\n",
    "    #     buffer = pipeline.pop()\n",
    "    #     if buffer:\n",
    "    #         buffers.append(buffer)\n",
    "    # print('Got: {} buffers'.format(len(buffers)))"
   ]
  },
  {
   "cell_type": "code",
   "execution_count": null,
   "metadata": {},
   "outputs": [
    {
     "ename": "NameError",
     "evalue": "name 'GstVideoSourceValve' is not defined",
     "output_type": "error",
     "traceback": [
      "\u001b[0;31m---------------------------------------------------------------------------\u001b[0m",
      "\u001b[0;31mNameError\u001b[0m                                 Traceback (most recent call last)",
      "Cell \u001b[0;32mIn[11], line 20\u001b[0m\n\u001b[1;32m     18\u001b[0m command \u001b[38;5;241m=\u001b[39m DEFAULT_PIPELINE\n\u001b[1;32m     19\u001b[0m num_buffers \u001b[38;5;241m=\u001b[39m \u001b[38;5;241m80\u001b[39m\n\u001b[0;32m---> 20\u001b[0m \u001b[38;5;28;01mwith\u001b[39;00m \u001b[43mGstVideoSourceValve\u001b[49m(command, leaky\u001b[38;5;241m=\u001b[39m\u001b[38;5;28;01mTrue\u001b[39;00m) \u001b[38;5;28;01mas\u001b[39;00m pipeline:\n\u001b[1;32m     21\u001b[0m     buffers \u001b[38;5;241m=\u001b[39m []\n\u001b[1;32m     22\u001b[0m     count \u001b[38;5;241m=\u001b[39m \u001b[38;5;241m0\u001b[39m\n",
      "\u001b[0;31mNameError\u001b[0m: name 'GstVideoSourceValve' is not defined"
     ]
    }
   ],
   "source": [
    "from gstreamer import GstContext, GstPipeline, GstVidSrcValve \n",
    "import gstreamer.utils as utils\n",
    "import time\n",
    "DEFAULT_PIPELINE = utils.to_gst_string([\n",
    "            'videotestsrc pattern=smpte is-live=true num-buffers=1000 ! tee name=t',\n",
    "            't.',\n",
    "            'queue leaky=2 ! valve name=myvalve drop=False ! video/x-raw,format=I420,width=640,height=480',\n",
    "            'videoconvert',\n",
    "            # 'x264enc tune=zerolatency noise-reduction=10000 bitrate=2048 speed-preset=superfast',\n",
    "            'x264enc tune=zerolatency',\n",
    "            'rtph264pay ! udpsink host=127.0.0.1 port=5000',\n",
    "            't.',\n",
    "            'queue leaky=2 ! videoconvert ! videorate drop-only=true ! video/x-raw,framerate=30/1,format=(string)BGR',\n",
    "            'videoconvert ! appsink name=mysink emit-signals=true  sync=false async=false  max-buffers=2 drop=true ',\n",
    "        ])\n",
    "\n",
    "# print(DEFAULT_PIPELINE)\n",
    "command = DEFAULT_PIPELINE\n",
    "num_buffers = 80\n",
    "with GstVideoSourceValve(command, leaky=True) as pipeline:\n",
    "    buffers = []\n",
    "    count = 0\n",
    "    dropstate = False\n",
    "    while len(buffers) < num_buffers:\n",
    "        # time.sleep(0.1)\n",
    "        count += 1\n",
    "        if count % 20 == 0:\n",
    "            # print(f'Count = : {count}')\n",
    "            dropstate = not dropstate\n",
    "            pipeline.set_valve_state(\"myvalve\", dropstate)\n",
    "        buffer = pipeline.pop()\n",
    "        if buffer:\n",
    "            buffers.append(buffer)\n",
    "    print('Got: {} buffers'.format(len(buffers)))"
   ]
  },
  {
   "cell_type": "code",
   "execution_count": null,
   "metadata": {},
   "outputs": [],
   "source": [
    "from  UAV.gstreamer.valve import DefaultParams, GstStream\n",
    "from UAV.utils.display import show_image\n",
    "\n",
    "gstcommand = DefaultParams().cameras[\"CAM-0\"][\"gst\"]\n",
    "print(gstcommand)\n",
    "with  GstStream(\"CAM-0\", gstcommand) as video:\n",
    "\n",
    "    server = CameraServer(\"udpin:localhost:14550\", gstpipes=[video])\n",
    "    # server.listen()\n",
    "    for i in range(200):\n",
    "        time.sleep(0.1)\n",
    "        if video.frame_available():\n",
    "            image = video.frame()\n",
    "    \n",
    "    ax = show_image(image, rgb2bgr=True)\n",
    "            \n",
    "    # server.listen()"
   ]
  },
  {
   "cell_type": "markdown",
   "metadata": {},
   "source": [
    "### Mavlink Camera"
   ]
  },
  {
   "cell_type": "code",
   "execution_count": null,
   "metadata": {},
   "outputs": [],
   "source": [
    "from  UAV.gstreamer.valve import DefaultParams, GstStream\n",
    "from UAV.utils.display import show_image\n",
    "\n",
    "pipes = []\n",
    "for cam in list(DefaultParams.cameras.keys())[:2]:\n",
    "    gstcommand = DefaultParams().cameras[cam][\"gst\"]\n",
    "    print(gstcommand)\n",
    "    pipes.append(GstStream(cam, gstcommand))\n",
    "\n",
    "    \n",
    "for pipe in pipes:\n",
    "    pipe.close()\n",
    "    \n",
    "# gstcommand = DefaultParams().cameras[\"CAM-0\"][\"gst\"]\n",
    "# print(gstcommand)\n",
    "# with  GstStream(\"CAM-0\", gstcommand) as video:\n",
    "# \n",
    "#     server = CameraServer(\"udpin:localhost:14550\", gstpipes=[video])\n",
    "#     # server.listen()\n",
    "#     for i in range(200):\n",
    "#         time.sleep(0.1)\n",
    "#         if video.frame_available():\n",
    "#             image = video.frame()\n",
    "#     \n",
    "#     ax = show_image(image, rgb2bgr=True)"
   ]
  },
  {
   "cell_type": "code",
   "execution_count": null,
   "metadata": {},
   "outputs": [],
   "source": [
    "test_eq(1,1)"
   ]
  },
  {
   "cell_type": "code",
   "execution_count": null,
   "metadata": {},
   "outputs": [],
   "source": [
    "server = CameraServer(\"udpin:localhost:14550\")\n",
    "try:\n",
    "    server.listen()\n",
    "except KeyboardInterrupt:\n",
    "    server.close()"
   ]
  },
  {
   "cell_type": "code",
   "execution_count": null,
   "metadata": {},
   "outputs": [],
   "source": [
    "assert False, \"Stop here\""
   ]
  },
  {
   "cell_type": "markdown",
   "metadata": {},
   "source": [
    "https://github.com/mavlink/MAVSDK/issues/1803\n",
    "\n",
    "So I managed to change OpenHD in this regard.\n",
    "No idea why I had such a hard time wrapping my head around, but now it works the following:\n",
    "OpenHD binds port 127.0.0.1:14551 and listens on 127.0.0.1:14550\n",
    "AND\n",
    "instead of using sendto() with a unbound port (which then in turn means the sender port can be anything) messages are sent with sendto() from the bound port (the same that is used for listening).\n",
    "\n",
    "So messages from OpenHD to mavsdk go the following:\n",
    "OpenHD (out) via 127:0:0:1:14551 sent to 127:0:0:0:1:14550\n",
    "\n",
    "So when mavsdk receives the first message, the sender address::port is 127:0:0:1:14551 and mavsdk can send the messages back to 127:0:0:1:14551.\n",
    "\n",
    "https://julianoes.com/\n",
    "The ports are not symmetrical! QGC listens on local port 14550 and sends UDP packets back to wherever messages came from.\n",
    "\n"
   ]
  },
  {
   "cell_type": "code",
   "execution_count": null,
   "metadata": {},
   "outputs": [],
   "source": [
    "#| hide\n",
    "# from nbdev import nbdev_export\n",
    "# nbdev_export()"
   ]
  }
 ],
 "metadata": {
  "kernelspec": {
   "display_name": "python3",
   "language": "python",
   "name": "python3"
  }
 },
 "nbformat": 4,
 "nbformat_minor": 4
}
