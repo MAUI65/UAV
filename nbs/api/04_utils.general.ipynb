{
 "cells": [
  {
   "cell_type": "markdown",
   "metadata": {},
   "source": [
    "# Utils.General\n",
    "\n",
    "> Fill in a module description here\n"
   ]
  },
  {
   "cell_type": "code",
   "execution_count": null,
   "metadata": {},
   "outputs": [],
   "source": [
    "#| default_exp utils.general"
   ]
  },
  {
   "cell_type": "code",
   "execution_count": null,
   "metadata": {},
   "outputs": [],
   "source": [
    "#| hide\n",
    "from nbdev.showdoc import *\n",
    "from nbdev.showdoc import *\n",
    "from fastcore.test import *\n"
   ]
  },
  {
   "cell_type": "code",
   "execution_count": null,
   "metadata": {},
   "outputs": [],
   "source": [
    "#| export\n",
    "from fastcore.utils import *\n",
    "from fastcore.utils import *\n",
    "import numpy as np # Scientific computing library for Python\n",
    "import queue\n",
    "import typing as typ"
   ]
  },
  {
   "cell_type": "code",
   "execution_count": null,
   "metadata": {},
   "outputs": [],
   "source": [
    "#| export\n",
    "class LeakyQueue(queue.Queue):\n",
    "    \"\"\"Queue that contains only the last actual items and drops the oldest one.\"\"\"\n",
    "\n",
    "    def __init__(\n",
    "        self,\n",
    "        maxsize: int = 100,\n",
    "        on_drop: typ.Optional[typ.Callable[[\"LeakyQueue\", \"object\"], None]] = None,\n",
    "    ):\n",
    "        super().__init__(maxsize=maxsize)\n",
    "        self._dropped = 0\n",
    "        self._on_drop = on_drop or (lambda queue, item: None)\n",
    "\n",
    "    def put(self, item, block=True, timeout=None):\n",
    "        if self.full():\n",
    "            dropped_item = self.get_nowait()\n",
    "            self._dropped += 1\n",
    "            self._on_drop(self, dropped_item)\n",
    "        super().put(item, block=block, timeout=timeout)\n",
    "\n",
    "    @property\n",
    "    def dropped(self):\n",
    "        return self._dropped"
   ]
  },
  {
   "cell_type": "code",
   "execution_count": null,
   "metadata": {},
   "outputs": [],
   "source": [
    "show_doc(LeakyQueue)"
   ]
  },
  {
   "cell_type": "code",
   "execution_count": null,
   "metadata": {},
   "outputs": [],
   "source": [
    "#| export\n",
    "def euler_to_quaternion(roll:float, # roll (rotation around x-axis)  angle in radians \n",
    "                        pitch:float, #  attitude (rotation around y-axis) angle in radians\n",
    "                        yaw:float, # direction (rotation around z-axis) angle in radians\n",
    "                        ) -> list: # orientation in quaternion [x,y,z,w] format\n",
    "  \"\"\"\n",
    "  Convert an Euler angle to a quaternion.\n",
    "\"\"\"   \n",
    "  qx = np.sin(roll/2) * np.cos(pitch/2) * np.cos(yaw/2) - np.cos(roll/2) * np.sin(pitch/2) * np.sin(yaw/2)\n",
    "  qy = np.cos(roll/2) * np.sin(pitch/2) * np.cos(yaw/2) + np.sin(roll/2) * np.cos(pitch/2) * np.sin(yaw/2)\n",
    "  qz = np.cos(roll/2) * np.cos(pitch/2) * np.sin(yaw/2) - np.sin(roll/2) * np.sin(pitch/2) * np.cos(yaw/2)\n",
    "  qw = np.cos(roll/2) * np.cos(pitch/2) * np.cos(yaw/2) + np.sin(roll/2) * np.sin(pitch/2) * np.sin(yaw/2)\n",
    " \n",
    "  return [qx, qy, qz, qw]"
   ]
  },
  {
   "cell_type": "markdown",
   "metadata": {},
   "source": [
    "**Run some tests**"
   ]
  },
  {
   "cell_type": "code",
   "execution_count": null,
   "metadata": {},
   "outputs": [],
   "source": [
    "#| hide\n",
    "# import nbdev; nbdev.nbdev_export()"
   ]
  }
 ],
 "metadata": {
  "kernelspec": {
   "display_name": "python3",
   "language": "python",
   "name": "python3"
  }
 },
 "nbformat": 4,
 "nbformat_minor": 4
}
