{
 "cells": [
  {
   "cell_type": "markdown",
   "metadata": {},
   "source": []
  },
  {
   "cell_type": "markdown",
   "metadata": {},
   "source": [
    "# Mavlink Component\n",
    "> Mavlink  base class for Client and server.\n",
    "> Theserver is on the companion computer and the client is on the ground station PC.\n",
    "\n",
    "[https://mavlink.io/en/mavgen_python/](https://mavlink.io/en/mavgen_python/)\n",
    "[https://www.ardusub.com/developers/pymavlink.html](https://www.ardusub.com/developers/pymavlink.html)\n",
    "\n",
    "https://mavlink.io/en/messages/common.html\n",
    "https://mavlink.io/en/messages/common.html#MAV_TYPE\n"
   ]
  },
  {
   "cell_type": "code",
   "execution_count": null,
   "metadata": {},
   "outputs": [],
   "source": [
    "#| default_exp mavlink.component"
   ]
  },
  {
   "cell_type": "code",
   "execution_count": null,
   "metadata": {},
   "outputs": [],
   "source": [
    "#| hide\n",
    "%load_ext autoreload\n",
    "%autoreload 2"
   ]
  },
  {
   "cell_type": "code",
   "execution_count": null,
   "metadata": {},
   "outputs": [],
   "source": [
    "#| hide\n",
    "# skip_showdoc: true to avoid running cells when rendering docs, and \n",
    "# skip_exec: true to skip this notebook when running tests. \n",
    "# this should be a raw cell "
   ]
  },
  {
   "cell_type": "code",
   "execution_count": null,
   "metadata": {},
   "outputs": [],
   "source": []
  },
  {
   "cell_type": "raw",
   "metadata": {},
   "source": [
    "---\n",
    "skip_showdoc: true\n",
    "skip_exec: true\n",
    "---"
   ]
  },
  {
   "cell_type": "code",
   "execution_count": null,
   "metadata": {},
   "outputs": [],
   "source": [
    "#| export\n",
    "import time, os, sys\n",
    "\n",
    "from UAV.logging import logging\n",
    "from UAV.utils.general import LeakyQueue\n",
    "\n",
    "# os.environ['MAVLINK20'] == '1' should be placed in UAV.__init__.py\n",
    "assert os.environ[\n",
    "           'MAVLINK20'] == '1', \"Set the environment variable before from pymavlink import mavutil  library is imported\"\n",
    "\n",
    "# logging.getLogger(\"uav\").setLevel(logging.DEBUG)\n",
    "# logging.root.setLevel(logging.INFO)\n",
    "import threading\n",
    "import queue\n",
    "import typing as typ\n",
    "from pathlib import Path\n",
    "from inspect import currentframe, getframeinfo\n",
    "from pymavlink import mavutil\n",
    "\n",
    "\n",
    "# from UAV.imports import *   # TODO why is this relative import on nbdev_export?\n"
   ]
  },
  {
   "cell_type": "code",
   "execution_count": null,
   "metadata": {},
   "outputs": [],
   "source": [
    "# logging.getLogger(\"uav\").setLevel(logging.INFO)"
   ]
  },
  {
   "cell_type": "code",
   "execution_count": null,
   "metadata": {},
   "outputs": [],
   "source": [
    "#| hide\n",
    "from fastcore.utils import *\n",
    "from nbdev.showdoc import *\n",
    "from fastcore.test import *"
   ]
  },
  {
   "cell_type": "code",
   "execution_count": null,
   "metadata": {},
   "outputs": [],
   "source": [
    "#| export\n",
    "from UAV.mavlink.mavcom import MAVCom, BaseComponent, get_linenumber, format_rcvd_msg"
   ]
  },
  {
   "cell_type": "code",
   "execution_count": null,
   "metadata": {},
   "outputs": [],
   "source": [
    "#| export\n",
    "from UAV.mavlink.mavcom import MAVCom, BaseComponent, get_linenumber, format_rcvd_msg"
   ]
  },
  {
   "cell_type": "code",
   "execution_count": null,
   "metadata": {},
   "outputs": [],
   "source": [
    "#| export\n",
    "class Component:\n",
    "    \"\"\"Create a mavlink Component with an ID  for MAV_COMPONENT\"\"\"\n",
    "\n",
    "    def __init__(self, mav_connection,  # MavLinkBase connection\n",
    "                 source_component,  # used for component indication\n",
    "                 mav_type,  # used for heartbeat MAV_TYPE indication\n",
    "                 debug):  # logging level\n",
    "        # todo change to def __init__(self:MavLinkBase, ....\n",
    "        self.mav_connection: MAVCom = mav_connection\n",
    "        self.master = mav_connection.master\n",
    "        self.mav_type = mav_type\n",
    "        self.source_system = self.mav_connection.source_system\n",
    "        self.source_component = source_component\n",
    "\n",
    "\n",
    "        self._log = logging.getLogger(\"uav.{}\".format(self.__class__.__name__))\n",
    "        self._log.setLevel(logging.DEBUG if debug else logging.INFO)\n",
    "\n",
    "        self.ping_num = 0\n",
    "        self.max_pings = 4\n",
    "        self.num_msgs_rcvd = 0\n",
    "        self.num_cmds_sent = 0\n",
    "        self.num_cmds_rcvd = 0\n",
    "        self.num_acks_sent     = 0\n",
    "        self.num_acks_rcvd = 0\n",
    "        self.num_acks_drop = 0\n",
    "        self.message_cnts: {} = {}  # received message counts, indexed by system and message type\n",
    "\n",
    "        self._heartbeat_que = LeakyQueue(maxsize=10)\n",
    "        self._ack_que = LeakyQueue(maxsize=10)\n",
    "        self._message_que = LeakyQueue(maxsize=10)\n",
    "\n",
    "        self._t_heartbeat = threading.Thread(target=self.send_heartbeat, daemon=True)\n",
    "        self._t_heartbeat.start()\n",
    "\n",
    "        self._t_command = threading.Thread(target=self.listen, daemon=True)\n",
    "        self._t_command.start()\n",
    "        self.log.info(\n",
    "            f\"Component Started {self.source_component = }, {self.mav_type = }, {self.source_system = }\")\n",
    "\n",
    "    def __str__(self) -> str:\n",
    "        return self.__class__.__name__\n",
    "\n",
    "    def __repr__(self) -> str:\n",
    "        return \"<{}>\".format(self)\n",
    "\n",
    "    @property\n",
    "    def log(self) -> logging.Logger:\n",
    "        return self._log\n",
    "\n",
    "    def set_source_compenent(self):\n",
    "        \"\"\"Set the source component for the master.mav \"\"\"\n",
    "        self.master.mav.srcComponent = self.source_component\n",
    "\n",
    "    def send_ping(self, target_system: int, target_component: int, ping_num: int = None):\n",
    "        \"\"\"Send self.max_pings * ping messages to test if the server is alive.\"\"\"\n",
    "\n",
    "        if ping_num == 0:\n",
    "            self.ping_num = 0\n",
    "        if self.ping_num >= self.max_pings:\n",
    "            return\n",
    "\n",
    "        self.set_source_compenent()\n",
    "        self.master.mav.ping_send(\n",
    "            int(time.time() * 1000),  # Unix time \n",
    "            self.ping_num,  # Ping number\n",
    "            target_system,  # Request ping of this system\n",
    "            target_component,  # Request ping of this component\n",
    "        )\n",
    "        self.log.debug(f\"Sent Ping #{self.ping_num} to:   {target_system:3d}, comp: {target_component:3d}\")\n",
    "        self.ping_num += 1\n",
    "\n",
    "    def send_heartbeat(self):\n",
    "        \"\"\"Send a heartbeat message to indicate the server is alive.\"\"\"\n",
    "        self._t_heartbeat_stop = False\n",
    "\n",
    "        # self.log.info(f\"Starting heartbeat type: {self.mav_type} to all Systems and Components\")\n",
    "        while not self._t_heartbeat_stop:\n",
    "            self.set_source_compenent()\n",
    "            # self.log.debug(f\"Sent hrtbeat to All\")\n",
    "            # \"Sent Ping #2 to:   111, comp: 100\"\n",
    "            self.master.mav.heartbeat_send(\n",
    "                self.mav_type,  # type\n",
    "                # mavutil.mavlink.MAV_TYPE_ONBOARD_CONTROLLER,\n",
    "                mavutil.mavlink.MAV_AUTOPILOT_INVALID,  # autopilot\n",
    "                0,  # base_mode\n",
    "                0,  # custom_mode\n",
    "                mavutil.mavlink.MAV_STATE_ACTIVE,  # system_status\n",
    "            )\n",
    "            # print(\"Cam heartbeat_send\")\n",
    "            time.sleep(1)  # Send every second\n",
    "\n",
    "    def wait_heartbeat(self, remote_mav_type=None,  # type of remote system\n",
    "                       target_system=None,  # target system\n",
    "                       target_component=None,  # target component\n",
    "                       timeout: int = 1,  # seconds\n",
    "                       tries: int = 3) -> bool:  # number of tries\n",
    "        \"\"\"Wait for a heartbeat from target_system and target_component.\"\"\"\n",
    "        # Todo is this correct ? Wait for a heartbeat, so we know the target system IDs (also it seems to need it to start receiving commands)\n",
    "        if remote_mav_type is None:\n",
    "            self.log.debug(f\"Waiting for heartbeat from {target_system = }:  {target_component = }\")\n",
    "        else:\n",
    "            self.log.debug(\n",
    "                f\"Waiting for heartbeat from {remote_mav_type} from {target_system = }:  {target_component = }\")\n",
    "        count = 0\n",
    "        while count < tries:\n",
    "            try:\n",
    "                msg = self._heartbeat_que.get(timeout=timeout)\n",
    "                self.log.debug(format_rcvd_msg(msg, extra='self._heartbeat_que.get() '))\n",
    "                # self.log.debug(f\"Rcvd Heartbeat from src_sys: {msg.get_srcSystem()}, src_comp: {msg.get_srcComponent()} {msg} \")\n",
    "                # check if the heartbeat is from the correct system and component\n",
    "                if msg.type == remote_mav_type and msg.get_srcSystem() == target_system and msg.get_srcComponent() == target_component:\n",
    "                    return True\n",
    "                elif msg.get_srcSystem() == target_system and msg.get_srcComponent() == target_component:\n",
    "                    return True\n",
    "            except queue.Empty:  # i.e time out\n",
    "                count += 1\n",
    "\n",
    "        self.log.debug(f\"No heartbeat received after {tries} tries\")\n",
    "        return False\n",
    "\n",
    "    def send_ack(self, msg, ack_result: object = mavutil.mavlink.MAV_RESULT_ACCEPTED):\n",
    "        \"\"\"Send an ACK message to indicate a command was received.\"\"\"\n",
    "        self.set_source_compenent()\n",
    "        self.master.mav.command_ack_send(\n",
    "            msg.command,\n",
    "            ack_result,  # or other MAV_RESULT enum\n",
    "            # todo enabling these causes QGC not to show them\n",
    "            int(0),  # progress\n",
    "            int(0),  # result_param2\n",
    "            msg.get_srcSystem(),  # target_system = msg.get_srcSystem(),  # target_system\n",
    "            msg.get_srcComponent(),  # target_component = msg.get_srcComponent(),  # target_component\n",
    "        )\n",
    "        self.log.debug(f\"Sent ACK for command: {msg.command} to system: {msg.get_srcSystem()} comp: {msg.get_srcComponent()}\")\n",
    "        self.num_acks_sent += 1\n",
    "\n",
    "    def _wait_ack(self, target_system, target_component, command_id=None, timeout = 0.1) -> bool:\n",
    "        \"\"\"Wait for an ack from target_system and target_component.\"\"\"\n",
    "        self.log.debug(f\"Waiting for ACK for command: {command_id} from system: {target_system} comp: {target_component}\")\n",
    "\n",
    "        try:\n",
    "            msg = self._ack_que.get(timeout=timeout)\n",
    "            # self.log.debug(f\"ACK received from src_sys: {msg.get_srcSystem()}, src_comp: {msg.get_srcComponent()} {msg}\")\n",
    "            if (command_id == msg.command or command_id is None)  and msg.get_srcSystem() == target_system and msg.get_srcComponent() == target_component:\n",
    "                self.log.debug(f\"*** ACK received for cmd {command_id} from src_comp: {msg.get_srcComponent()} {msg}\")\n",
    "                return True\n",
    "            else:\n",
    "                self.log.debug(f\"*** ACK not handled {msg.get_srcSystem()}, src_comp: {msg.get_srcComponent()} {msg}\")\n",
    "                self.log.debug(f\"{command_id = } {msg.get_srcSystem() = }, {target_system = },  {msg.get_srcComponent() = }, {target_component = }\")\n",
    "        except queue.Empty:  # i.e time out\n",
    "            pass\n",
    "        self.log.debug(\"*** No ACK received\")\n",
    "        return False\n",
    "\n",
    "    def wait_ack(self, target_system, target_component, command_id=None, timeout = 0.1) -> bool:\n",
    "        \"\"\"Wait for an ack from target_system and target_component.\"\"\"\n",
    "        self.log.debug(f\"Waiting for ACK for command: {command_id} from system: {target_system} comp: {target_component}\")\n",
    "        _time = 0\n",
    "        _TIME_STEP = 0.1\n",
    "        while _time < timeout:\n",
    "            _time += _TIME_STEP\n",
    "            # print(f\"{_time = }\")\n",
    "            try:\n",
    "                msg = self._ack_que.get(timeout=_TIME_STEP)\n",
    "                # self.log.debug(f\"ACK received from src_sys: {msg.get_srcSystem()}, src_comp: {msg.get_srcComponent()} {msg}\")\n",
    "                if (command_id == msg.command or command_id is None)  and msg.get_srcSystem() == target_system and msg.get_srcComponent() == target_component:\n",
    "                    self.log.debug(f\"*** ACK received for cmd {command_id} from src_comp: {msg.get_srcComponent()} {msg}\")\n",
    "                    return True\n",
    "                else:\n",
    "                    self.log.debug(f\"*** ACK not handled {msg.get_srcSystem()}, src_comp: {msg.get_srcComponent()} {msg}\")\n",
    "                    print(f\"{command_id = } {msg.get_srcSystem() = }, {target_system = },  {msg.get_srcComponent() = }, {target_component = }\")\n",
    "                    self.log.debug(f\"{command_id = } {msg.get_srcSystem() = }, {target_system = },  {msg.get_srcComponent() = }, {target_component = }\")\n",
    "\n",
    "            except queue.Empty:  # i.e time out\n",
    "                pass\n",
    "\n",
    "        self.log.debug(\"!!!!*** No ACK received\")\n",
    "        return False\n",
    "    def count_message(self, msg):\n",
    "        \"\"\" Count a message by adding it to the message_cnts dictionary. indexed by system and message type\"\"\"\n",
    "        try:\n",
    "            self.message_cnts[msg.get_srcSystem()][msg.get_type()] += 1\n",
    "        except Exception as e:\n",
    "            # print(f\"!!!! new Message type {msg.get_type()} from system {msg.get_srcSystem()}\")\n",
    "            sys = msg.get_srcSystem()\n",
    "            if sys not in self.message_cnts:\n",
    "                self.message_cnts[sys] = {}\n",
    "            self.message_cnts[sys][msg.get_type()] = 1\n",
    "\n",
    "        return True\n",
    "\n",
    "    def listen(self, timeout: int = 1, ):  # seconds\n",
    "        \"\"\"Listen for MAVLink commands and trigger the camera when needed.\"\"\"\n",
    "\n",
    "        self._t_cmd_listen_stop = False\n",
    "        # self.log.info(f\"Component Listening for messages sent on the message_queue ...\")\n",
    "        while not self._t_cmd_listen_stop:\n",
    "\n",
    "            try:\n",
    "                msg = self._message_que.get(timeout=timeout)\n",
    "                if msg.get_type() != 'HEARTBEAT':\n",
    "                    self.log.debug(format_rcvd_msg(msg))\n",
    "                self.num_msgs_rcvd += 1\n",
    "            except queue.Empty:  # i.e time out\n",
    "                time.sleep(0.01)\n",
    "                continue\n",
    "\n",
    "            self.count_message(msg)\n",
    "\n",
    "            # print (f\"{msg.get_type() = }\")\n",
    "            if msg.get_type() == 'COMMAND_LONG':\n",
    "                # print(\"Om command \")\n",
    "                self.on_command_rcvd(msg)\n",
    "            elif msg.get_type() == 'COMMAND_INT':\n",
    "                self.on_command_rcvd(msg)\n",
    "\n",
    "            elif msg.get_type() == 'COMMAND_ACK':\n",
    "                self.log.debug(f\"Received ACK \")\n",
    "                self._ack_que.put(msg, block=False)\n",
    "\n",
    "            elif msg.get_type() == 'HEARTBEAT':\n",
    "                # self.log.debug(f\"Received HEARTBEAT \")\n",
    "                self._heartbeat_que.put(msg, block=False)\n",
    "\n",
    "            elif msg.get_type() == 'PING':\n",
    "                # self.log.debug(f\"Received PING {msg}\")\n",
    "                # ping_num = msg.time_usec\n",
    "                ping_num = msg.seq\n",
    "                # print(f\"{ping_num = } {msg}\")\n",
    "                if ping_num < self.max_pings:\n",
    "                    self.log.debug(f\"Received PING {msg}\")\n",
    "                    self.send_ping(msg.get_srcSystem(), msg.get_srcComponent())\n",
    "\n",
    "    def on_command_rcvd(self, msg):\n",
    "        # Callback for when a command is received.\n",
    "        print(f\"!!! YAY!!! {get_linenumber()} {self} Received command {msg}, sending ACK\")\n",
    "        self.num_cmds_rcvd += 1\n",
    "        self.send_ack(msg, mavutil.mavlink.MAV_RESULT_ACCEPTED)\n",
    "\n",
    "    def send_command(self, target_system: int,  # target system\n",
    "                     target_component: int,  # target component\n",
    "                     command_id: int,  # mavutil.mavlink.MAV_CMD....\n",
    "                     params: list,  # list of parameters\n",
    "                     timeout = 0.5,  # seconds\n",
    "                     ):\n",
    "        self.log.debug(f\"Sending command: {command_id} to system: {target_system} comp: {target_component}\")\n",
    "        self.set_source_compenent()\n",
    "        self.master.mav.command_long_send(\n",
    "            target_system,  # target_system   Todo Tried using self.master.target_system but it didn't work\n",
    "            target_component,  # target_component Todo tried using self.master.target_component but it didn't work\n",
    "            command_id,  # command id\n",
    "            0,  # confirmation\n",
    "            *params  # command parameters\n",
    "        )\n",
    "        self.num_cmds_sent += 1\n",
    "\n",
    "        if self.wait_ack(target_system, target_component, command_id=command_id, timeout=timeout):\n",
    "            self.log.debug(\n",
    "                f\"ACK received for command: {command_id} from system: {target_system} comp: {target_component}\")\n",
    "            self.num_acks_rcvd += 1\n",
    "            return True\n",
    "        else:\n",
    "            self.log.debug(\n",
    "                f\"No ACK received for command: {command_id} from system: {target_system} comp: {target_component}\")\n",
    "            self.num_acks_drop += 1\n",
    "            return False\n",
    "\n",
    "    def _test_command(self, target_system: int,  # target system\n",
    "                      target_component: int,  # target component\n",
    "                      camera_id: int = 1):  # camera id (0 for all cams)\n",
    "        \"\"\"\n",
    "        Use MAV_CMD_DO_DIGICAM_CONTROL to trigger a camera \n",
    "        \"\"\"\n",
    "        self.set_source_compenent()\n",
    "        mav_cmd = mavutil.mavlink.MAV_CMD_DO_DIGICAM_CONTROL\n",
    "        rst = self.send_command(target_system, target_component,\n",
    "                                mav_cmd,\n",
    "                                [camera_id,  # param1 (session)  or cam # (0 for all cams)\n",
    "                                 1,  # param2 (trigger capture)\n",
    "                                 0,  # param3 (zoom pos)\n",
    "                                 0,  # param4 (zoom step)\n",
    "                                 0,  # param5 (focus lock)\n",
    "                                 0,  # param6 (shot ID)\n",
    "                                 0,  # param7 (command ID)\n",
    "                                 ])\n",
    "\n",
    "        # self.log.debug(f\"Sent message to:   {target_system:3d}, comp: {target_component:3d} command MAV_CMD_DO_DIGICAM_CONFIGURE\")\n",
    "        return rst\n",
    "\n",
    "    def close(self):\n",
    "        self._t_heartbeat_stop = True\n",
    "        self._t_heartbeat.join()\n",
    "        self.log.info(f\"{self.__class__.__name__} closed\")\n",
    "\n",
    "\n"
   ]
  },
  {
   "cell_type": "code",
   "execution_count": null,
   "metadata": {},
   "outputs": [],
   "source": [
    "# | hide\n",
    "# assert False, \"Stop here\""
   ]
  },
  {
   "cell_type": "code",
   "execution_count": null,
   "metadata": {},
   "outputs": [
    {
     "data": {
      "text/markdown": "---\n\n[source](https://github.com/johnnewto/UAV/blob/main/UAV/mavlink/component.py#L36){target=\"_blank\" style=\"float:right; font-size:smaller\"}\n\n### Component\n\n>      Component (mav_connection, source_component, mav_type, debug)\n\nCreate a mavlink Component with an ID  for MAV_COMPONENT\n\n|    | **Details** |\n| -- | ----------- |\n| mav_connection | MavLinkBase connection |\n| source_component | used for component indication |\n| mav_type | used for heartbeat MAV_TYPE indication |\n| debug | logging level |",
      "text/plain": "---\n\n[source](https://github.com/johnnewto/UAV/blob/main/UAV/mavlink/component.py#L36){target=\"_blank\" style=\"float:right; font-size:smaller\"}\n\n### Component\n\n>      Component (mav_connection, source_component, mav_type, debug)\n\nCreate a mavlink Component with an ID  for MAV_COMPONENT\n\n|    | **Details** |\n| -- | ----------- |\n| mav_connection | MavLinkBase connection |\n| source_component | used for component indication |\n| mav_type | used for heartbeat MAV_TYPE indication |\n| debug | logging level |"
     },
     "execution_count": null,
     "metadata": {},
     "output_type": "execute_result"
    }
   ],
   "source": [
    "show_doc(Component)"
   ]
  },
  {
   "cell_type": "markdown",
   "metadata": {},
   "source": [
    "#### Test locally using UDP ports"
   ]
  },
  {
   "cell_type": "markdown",
   "metadata": {},
   "source": [
    "#### Starting a client and server\n",
    " > on the same machine using UDP ports `14445`  with `server_system_ID=111, client_system_ID=222`"
   ]
  },
  {
   "cell_type": "code",
   "execution_count": null,
   "metadata": {},
   "outputs": [],
   "source": [
    "from UAV.mavlink.mavcom import MAVCom\n",
    "from UAV.mavlink.component import Component, mavutil\n",
    "import time\n",
    "\n",
    "MAV_TYPE_GCS = mavutil.mavlink.MAV_TYPE_GCS\n",
    "MAV_TYPE_CAMERA = mavutil.mavlink.MAV_TYPE_CAMERA\n",
    "\n",
    "class Cam1(Component):\n",
    "    def __init__(self,mav_connection, source_component, mav_type, debug=False):\n",
    "        super().__init__(mav_connection=mav_connection, source_component=source_component, mav_type=mav_type,\n",
    "                         debug=debug)\n",
    "\n",
    "class Cam2(Component):\n",
    "    def __init__(self,mav_connection, source_component, mav_type, debug=False):\n",
    "        super().__init__(mav_connection=mav_connection, source_component=source_component, mav_type=mav_type,\n",
    "                         debug=debug)\n",
    "class Cli(Component):\n",
    "    def __init__(self,mav_connection, source_component, mav_type, debug=False):\n",
    "        super().__init__(mav_connection=mav_connection, source_component=source_component, mav_type=mav_type,\n",
    "                         debug=debug)"
   ]
  },
  {
   "cell_type": "code",
   "execution_count": null,
   "metadata": {},
   "outputs": [
    {
     "name": "stderr",
     "output_type": "stream",
     "text": [
      "INFO   | uav.MAVCom      | 02.649 |  mavcom.py:368 | Thread-21 (listen) | MAVLink Mav2: True, source_system: 111\n",
      "INFO   | uav.MAVCom      | 02.750 |  mavcom.py:368 | Thread-22 (listen) | MAVLink Mav2: True, source_system: 222\n",
      "INFO   | uav.Cli         | 02.752 | component.py: 73 | MainThread         | Component Started self.source_component = 11, self.mav_type = 6, self.source_system = 111\n",
      "INFO   | uav.Cam1        | 02.752 | component.py: 73 | MainThread         | Component Started self.source_component = 22, self.mav_type = 30, self.source_system = 222\n",
      "INFO   | uav.Cam1        | 02.753 | component.py: 73 | MainThread         | Component Started self.source_component = 23, self.mav_type = 30, self.source_system = 222\n",
      "ERROR  | uav.MAVCom      | 02.756 |  mavcom.py:391 | Thread-22 (listen) |  Component 24 does not exist? ; Exception: 24\n"
     ]
    },
    {
     "name": "stdout",
     "output_type": "stream",
     "text": [
      "Check to see if comp.source_component = 11 already exists\n",
      "Check to see if comp.source_component = 22 already exists\n",
      "Check to see if comp.source_component = 23 already exists\n",
      "*** Received heartbeat **** \n",
      "!!! YAY!!! mavcom.py:271 Cam1 Received command COMMAND_LONG {target_system : 222, target_component : 22, command : 203, confirmation : 0, param1 : 1.0, param2 : 1.0, param3 : 0.0, param4 : 0.0, param5 : 0.0, param6 : 0.0, param7 : 0.0}, sending ACK\n",
      "!!! YAY!!! mavcom.py:271 Cam1 Received command COMMAND_LONG {target_system : 222, target_component : 23, command : 203, confirmation : 0, param1 : 1.0, param2 : 1.0, param3 : 0.0, param4 : 0.0, param5 : 0.0, param6 : 0.0, param7 : 0.0}, sending ACK\n",
      "!!! YAY!!! mavcom.py:271 Cam1 Received command COMMAND_LONG {target_system : 222, target_component : 22, command : 203, confirmation : 0, param1 : 1.0, param2 : 1.0, param3 : 0.0, param4 : 0.0, param5 : 0.0, param6 : 0.0, param7 : 0.0}, sending ACK\n",
      "!!! YAY!!! mavcom.py:271 Cam1 Received command COMMAND_LONG {target_system : 222, target_component : 23, command : 203, confirmation : 0, param1 : 1.0, param2 : 1.0, param3 : 0.0, param4 : 0.0, param5 : 0.0, param6 : 0.0, param7 : 0.0}, sending ACK\n"
     ]
    },
    {
     "name": "stderr",
     "output_type": "stream",
     "text": [
      "INFO   | uav.Cam1        | 03.758 | component.py:328 | MainThread         | Cam1 closed\n",
      "INFO   | uav.Cam1        | 04.761 | component.py:328 | MainThread         | Cam1 closed\n",
      "INFO   | uav.MAVCom      | 04.762 |  mavcom.py:409 | MainThread         | MAVCom  closed\n"
     ]
    },
    {
     "name": "stdout",
     "output_type": "stream",
     "text": [
      "server.source_system = 222;  server.message_cnts = {111: {'COMMAND_LONG': 5, 'HEARTBEAT': 1}}\n",
      "client.source_system = 111;  client.message_cnts = {222: {'HEARTBEAT': 3, 'COMMAND_ACK': 4}}\n",
      "\n",
      "client.source_system = 111 \n",
      " - comp.source_component = 11\n",
      " - comp.num_msgs_rcvd = 7\n",
      " - comp.num_cmds_sent = 5\n",
      " - comp.num_cmds_rcvd = 0\n",
      " - comp.num_acks_rcvd = 4\n",
      " - comp.num_acks_sent = 0\n",
      " - comp.num_acks_drop = 1\n",
      " - comp.message_cnts = {222: {'HEARTBEAT': 3, 'COMMAND_ACK': 4}} \n",
      "\n",
      "server.source_system = 222 \n",
      " - comp.source_component = 22\n",
      " - comp.num_msgs_rcvd = 3\n",
      " - comp.num_cmds_sent = 0\n",
      " - comp.num_cmds_rcvd = 2\n",
      " - comp.num_acks_rcvd = 0\n",
      " - comp.num_acks_sent = 2\n",
      " - comp.num_acks_drop = 0\n",
      " - comp.message_cnts = {111: {'COMMAND_LONG': 2, 'HEARTBEAT': 1}}\n",
      " - comp.source_component = 23\n",
      " - comp.num_msgs_rcvd = 3\n",
      " - comp.num_cmds_sent = 0\n",
      " - comp.num_cmds_rcvd = 2\n",
      " - comp.num_acks_rcvd = 0\n",
      " - comp.num_acks_sent = 2\n",
      " - comp.num_acks_drop = 0\n",
      " - comp.message_cnts = {111: {'COMMAND_LONG': 2, 'HEARTBEAT': 1}} \n"
     ]
    },
    {
     "name": "stderr",
     "output_type": "stream",
     "text": [
      "INFO   | uav.Cli         | 06.769 | component.py:328 | MainThread         | Cli closed\n",
      "INFO   | uav.MAVCom      | 06.770 |  mavcom.py:409 | MainThread         | MAVCom  closed\n"
     ]
    }
   ],
   "source": [
    "# Test sending a command and receiving an ack from client to server\n",
    "with MAVCom(\"udpin:localhost:14445\", source_system=111, debug=False) as client:\n",
    "    with MAVCom(\"udpout:localhost:14445\", source_system=222, debug=False) as server:\n",
    "        client.add_component(Cli(client, mav_type=MAV_TYPE_GCS, source_component = 11, debug=False))\n",
    "        server.add_component(Cam1(server, mav_type=MAV_TYPE_CAMERA, source_component = 22, debug=False))\n",
    "        server.add_component(Cam1(server, mav_type=MAV_TYPE_CAMERA, source_component = 23, debug=False))\n",
    "        \n",
    "        for key, comp in client.component.items():\n",
    "            if comp.wait_heartbeat(target_system=222, target_component=22, timeout=0.1):\n",
    "                print (\"*** Received heartbeat **** \" )\n",
    "        NUM_TO_SEND = 2\n",
    "        for i in range(NUM_TO_SEND):\n",
    "            client.component[11]._test_command(222, 22, 1)\n",
    "            client.component[11]._test_command(222, 23, 1)\n",
    "            \n",
    "        client.component[11]._test_command(222, 24, 1)\n",
    "\n",
    "    print(f\"{server.source_system = };  {server.message_cnts = }\")\n",
    "    print(f\"{client.source_system = };  {client.message_cnts = }\")\n",
    "    print()\n",
    "    print(f\"{client.source_system = } \\n{client.summary()} \\n\")\n",
    "    print(f\"{server.source_system = } \\n{server.summary()} \\n\")\n",
    "\n",
    "    assert client.component[11].num_cmds_sent == NUM_TO_SEND * 2 + 1\n",
    "    assert client.component[11].num_acks_rcvd == NUM_TO_SEND * 2\n",
    "    assert client.component[11].num_acks_drop == 1\n",
    "    assert server.component[22].num_cmds_rcvd == NUM_TO_SEND\n",
    "    assert server.component[23].num_cmds_rcvd == NUM_TO_SEND"
   ]
  },
  {
   "cell_type": "code",
   "execution_count": null,
   "metadata": {},
   "outputs": [],
   "source": [
    "#| Hide\n",
    "# assert False, \"Stop here\""
   ]
  },
  {
   "cell_type": "code",
   "execution_count": null,
   "metadata": {},
   "outputs": [
    {
     "data": {
      "text/markdown": "---\n\n[source](https://github.com/johnnewto/UAV/blob/main/UAV/mavlink/component.py#LNone){target=\"_blank\" style=\"float:right; font-size:smaller\"}\n\n### Component.set_source_compenent\n\n>      Component.set_source_compenent ()\n\nSet the source component for the master.mav",
      "text/plain": "---\n\n[source](https://github.com/johnnewto/UAV/blob/main/UAV/mavlink/component.py#LNone){target=\"_blank\" style=\"float:right; font-size:smaller\"}\n\n### Component.set_source_compenent\n\n>      Component.set_source_compenent ()\n\nSet the source component for the master.mav"
     },
     "execution_count": null,
     "metadata": {},
     "output_type": "execute_result"
    }
   ],
   "source": [
    "show_doc(Component.set_source_compenent)"
   ]
  },
  {
   "cell_type": "code",
   "execution_count": null,
   "metadata": {},
   "outputs": [
    {
     "data": {
      "text/markdown": "---\n\n[source](https://github.com/johnnewto/UAV/blob/main/UAV/mavlink/component.py#LNone){target=\"_blank\" style=\"float:right; font-size:smaller\"}\n\n### Component.send_heartbeat\n\n>      Component.send_heartbeat ()\n\nSend a heartbeat message to indicate the server is alive.",
      "text/plain": "---\n\n[source](https://github.com/johnnewto/UAV/blob/main/UAV/mavlink/component.py#LNone){target=\"_blank\" style=\"float:right; font-size:smaller\"}\n\n### Component.send_heartbeat\n\n>      Component.send_heartbeat ()\n\nSend a heartbeat message to indicate the server is alive."
     },
     "execution_count": null,
     "metadata": {},
     "output_type": "execute_result"
    }
   ],
   "source": [
    "show_doc(Component.send_heartbeat)"
   ]
  },
  {
   "cell_type": "code",
   "execution_count": null,
   "metadata": {},
   "outputs": [
    {
     "data": {
      "text/markdown": "---\n\n[source](https://github.com/johnnewto/UAV/blob/main/UAV/mavlink/component.py#LNone){target=\"_blank\" style=\"float:right; font-size:smaller\"}\n\n### Component.on_command_rcvd\n\n>      Component.on_command_rcvd (msg)",
      "text/plain": "---\n\n[source](https://github.com/johnnewto/UAV/blob/main/UAV/mavlink/component.py#LNone){target=\"_blank\" style=\"float:right; font-size:smaller\"}\n\n### Component.on_command_rcvd\n\n>      Component.on_command_rcvd (msg)"
     },
     "execution_count": null,
     "metadata": {},
     "output_type": "execute_result"
    }
   ],
   "source": [
    "show_doc(Component.on_command_rcvd)"
   ]
  },
  {
   "cell_type": "code",
   "execution_count": null,
   "metadata": {},
   "outputs": [
    {
     "data": {
      "text/markdown": "---\n\n[source](https://github.com/johnnewto/UAV/blob/main/UAV/mavlink/component.py#LNone){target=\"_blank\" style=\"float:right; font-size:smaller\"}\n\n### Component.send_command\n\n>      Component.send_command (target_system:int, target_component:int,\n>                              command_id:int, params:list, timeout=0.5)\n\n|    | **Type** | **Default** | **Details** |\n| -- | -------- | ----------- | ----------- |\n| target_system | int |  | target system |\n| target_component | int |  | target component |\n| command_id | int |  | mavutil.mavlink.MAV_CMD.... |\n| params | list |  | list of parameters |\n| timeout | float | 0.5 | seconds |",
      "text/plain": "---\n\n[source](https://github.com/johnnewto/UAV/blob/main/UAV/mavlink/component.py#LNone){target=\"_blank\" style=\"float:right; font-size:smaller\"}\n\n### Component.send_command\n\n>      Component.send_command (target_system:int, target_component:int,\n>                              command_id:int, params:list, timeout=0.5)\n\n|    | **Type** | **Default** | **Details** |\n| -- | -------- | ----------- | ----------- |\n| target_system | int |  | target system |\n| target_component | int |  | target component |\n| command_id | int |  | mavutil.mavlink.MAV_CMD.... |\n| params | list |  | list of parameters |\n| timeout | float | 0.5 | seconds |"
     },
     "execution_count": null,
     "metadata": {},
     "output_type": "execute_result"
    }
   ],
   "source": [
    "show_doc(Component.send_command)"
   ]
  },
  {
   "cell_type": "code",
   "execution_count": null,
   "metadata": {},
   "outputs": [
    {
     "data": {
      "text/markdown": "---\n\n[source](https://github.com/johnnewto/UAV/blob/main/UAV/mavlink/component.py#LNone){target=\"_blank\" style=\"float:right; font-size:smaller\"}\n\n### Component.wait_heartbeat\n\n>      Component.wait_heartbeat (remote_mav_type=None, target_system=None,\n>                                target_component=None, timeout:int=1,\n>                                tries:int=3)\n\nWait for a heartbeat from target_system and target_component.\n\n|    | **Type** | **Default** | **Details** |\n| -- | -------- | ----------- | ----------- |\n| remote_mav_type | NoneType | None | type of remote system |\n| target_system | NoneType | None | target system |\n| target_component | NoneType | None | target component |\n| timeout | int | 1 | seconds |\n| tries | int | 3 |  |\n| **Returns** | **bool** |  | **number of tries** |",
      "text/plain": "---\n\n[source](https://github.com/johnnewto/UAV/blob/main/UAV/mavlink/component.py#LNone){target=\"_blank\" style=\"float:right; font-size:smaller\"}\n\n### Component.wait_heartbeat\n\n>      Component.wait_heartbeat (remote_mav_type=None, target_system=None,\n>                                target_component=None, timeout:int=1,\n>                                tries:int=3)\n\nWait for a heartbeat from target_system and target_component.\n\n|    | **Type** | **Default** | **Details** |\n| -- | -------- | ----------- | ----------- |\n| remote_mav_type | NoneType | None | type of remote system |\n| target_system | NoneType | None | target system |\n| target_component | NoneType | None | target component |\n| timeout | int | 1 | seconds |\n| tries | int | 3 |  |\n| **Returns** | **bool** |  | **number of tries** |"
     },
     "execution_count": null,
     "metadata": {},
     "output_type": "execute_result"
    }
   ],
   "source": [
    "show_doc(Component.wait_heartbeat)"
   ]
  },
  {
   "cell_type": "code",
   "execution_count": null,
   "metadata": {},
   "outputs": [
    {
     "data": {
      "text/markdown": "---\n\n[source](https://github.com/johnnewto/UAV/blob/main/UAV/mavlink/component.py#LNone){target=\"_blank\" style=\"float:right; font-size:smaller\"}\n\n### Component.wait_ack\n\n>      Component.wait_ack (target_system, target_component, command_id=None,\n>                          timeout=0.1)\n\nWait for an ack from target_system and target_component.",
      "text/plain": "---\n\n[source](https://github.com/johnnewto/UAV/blob/main/UAV/mavlink/component.py#LNone){target=\"_blank\" style=\"float:right; font-size:smaller\"}\n\n### Component.wait_ack\n\n>      Component.wait_ack (target_system, target_component, command_id=None,\n>                          timeout=0.1)\n\nWait for an ack from target_system and target_component."
     },
     "execution_count": null,
     "metadata": {},
     "output_type": "execute_result"
    }
   ],
   "source": [
    "show_doc(Component.wait_ack)"
   ]
  },
  {
   "cell_type": "code",
   "execution_count": null,
   "metadata": {},
   "outputs": [
    {
     "data": {
      "text/markdown": "---\n\n[source](https://github.com/johnnewto/UAV/blob/main/UAV/mavlink/component.py#LNone){target=\"_blank\" style=\"float:right; font-size:smaller\"}\n\n### Component.send_ping\n\n>      Component.send_ping (target_system:int, target_component:int,\n>                           ping_num:int=None)\n\nSend self.max_pings * ping messages to test if the server is alive.",
      "text/plain": "---\n\n[source](https://github.com/johnnewto/UAV/blob/main/UAV/mavlink/component.py#LNone){target=\"_blank\" style=\"float:right; font-size:smaller\"}\n\n### Component.send_ping\n\n>      Component.send_ping (target_system:int, target_component:int,\n>                           ping_num:int=None)\n\nSend self.max_pings * ping messages to test if the server is alive."
     },
     "execution_count": null,
     "metadata": {},
     "output_type": "execute_result"
    }
   ],
   "source": [
    "show_doc(Component.send_ping)"
   ]
  },
  {
   "cell_type": "markdown",
   "metadata": {},
   "source": [
    "#### Test with Serial ports\n",
    "Test using a Pixhawk connected via telemetry 2 and USB serial ports.\n",
    "CamClient is set to udpin:localhost:14445 and CamServer is set to udpout:localhost:14435 udpin is so that the client can receive UDP from the mavproxy server at localhost:14445\n",
    "mavproxy.py --master=/dev/ttyACM1 --baudrate 57600 --out udpout:localhost:14445 mavproxy.py --master=/dev/ttyACM3 --baudrate 57600 --out udpout:localhost:14435"
   ]
  },
  {
   "cell_type": "code",
   "execution_count": null,
   "metadata": {},
   "outputs": [
    {
     "name": "stderr",
     "output_type": "stream",
     "text": [
      "INFO   | uav.MAVCom      | 59.595 |  mavcom.py:368 | Thread-29 (listen) | MAVLink Mav2: True, source_system: 111\n",
      "INFO   | uav.MAVCom      | 59.714 |  mavcom.py:368 | Thread-30 (listen) | MAVLink Mav2: True, source_system: 222\n",
      "INFO   | uav.Cli         | 59.715 | component.py: 73 | MainThread         | Component Started self.source_component = 11, self.mav_type = 6, self.source_system = 111\n",
      "INFO   | uav.Cam1        | 59.717 | component.py: 73 | MainThread         | Component Started self.source_component = 22, self.mav_type = 30, self.source_system = 222\n",
      "INFO   | uav.Cam1        | 59.718 | component.py: 73 | MainThread         | Component Started self.source_component = 23, self.mav_type = 30, self.source_system = 222\n",
      "ERROR  | uav.MAVCom      | 59.868 |  mavcom.py:391 | Thread-30 (listen) |  Component 24 does not exist? ; Exception: 24\n"
     ]
    },
    {
     "name": "stdout",
     "output_type": "stream",
     "text": [
      "Check to see if comp.source_component = 11 already exists\n",
      "Check to see if comp.source_component = 22 already exists\n",
      "Check to see if comp.source_component = 23 already exists\n",
      "*** Received heartbeat **** \n",
      "!!! YAY!!! mavcom.py:271 Cam1 Received command COMMAND_LONG {target_system : 222, target_component : 22, command : 203, confirmation : 0, param1 : 1.0, param2 : 1.0, param3 : 0.0, param4 : 0.0, param5 : 0.0, param6 : 0.0, param7 : 0.0}, sending ACK\n",
      "!!! YAY!!! mavcom.py:271 Cam1 Received command COMMAND_LONG {target_system : 222, target_component : 23, command : 203, confirmation : 0, param1 : 1.0, param2 : 1.0, param3 : 0.0, param4 : 0.0, param5 : 0.0, param6 : 0.0, param7 : 0.0}, sending ACK\n",
      "!!! YAY!!! mavcom.py:271 Cam1 Received command COMMAND_LONG {target_system : 222, target_component : 22, command : 203, confirmation : 0, param1 : 1.0, param2 : 1.0, param3 : 0.0, param4 : 0.0, param5 : 0.0, param6 : 0.0, param7 : 0.0}, sending ACK\n",
      "!!! YAY!!! mavcom.py:271 Cam1 Received command COMMAND_LONG {target_system : 222, target_component : 23, command : 203, confirmation : 0, param1 : 1.0, param2 : 1.0, param3 : 0.0, param4 : 0.0, param5 : 0.0, param6 : 0.0, param7 : 0.0}, sending ACK\n"
     ]
    },
    {
     "name": "stderr",
     "output_type": "stream",
     "text": [
      "INFO   | uav.Cam1        | 00.721 | component.py:328 | MainThread         | Cam1 closed\n",
      "INFO   | uav.Cam1        | 01.725 | component.py:328 | MainThread         | Cam1 closed\n",
      "INFO   | uav.MAVCom      | 01.732 |  mavcom.py:409 | MainThread         | MAVCom  closed\n"
     ]
    },
    {
     "name": "stdout",
     "output_type": "stream",
     "text": [
      "server.source_system = 222;  server.message_cnts = {0: {'BAD_DATA': 2}, 1: {'HEARTBEAT': 2}, 111: {'COMMAND_LONG': 5}}\n",
      "client.source_system = 111;  client.message_cnts = {0: {'BAD_DATA': 59}, 1: {'HEARTBEAT': 114, 'TIMESYNC': 12}, 222: {'HEARTBEAT': 3, 'COMMAND_ACK': 4}}\n",
      "\n",
      "client.source_system = 111 \n",
      " - comp.source_component = 11\n",
      " - comp.num_msgs_rcvd = 9\n",
      " - comp.num_cmds_sent = 5\n",
      " - comp.num_cmds_rcvd = 0\n",
      " - comp.num_acks_rcvd = 4\n",
      " - comp.num_acks_sent = 0\n",
      " - comp.num_acks_drop = 1\n",
      " - comp.message_cnts = {222: {'HEARTBEAT': 3, 'COMMAND_ACK': 4}, 1: {'HEARTBEAT': 2}} \n",
      "\n",
      "server.source_system = 222 \n",
      " - comp.source_component = 22\n",
      " - comp.num_msgs_rcvd = 3\n",
      " - comp.num_cmds_sent = 0\n",
      " - comp.num_cmds_rcvd = 2\n",
      " - comp.num_acks_rcvd = 0\n",
      " - comp.num_acks_sent = 2\n",
      " - comp.num_acks_drop = 0\n",
      " - comp.message_cnts = {111: {'COMMAND_LONG': 2}, 1: {'HEARTBEAT': 1}}\n",
      " - comp.source_component = 23\n",
      " - comp.num_msgs_rcvd = 3\n",
      " - comp.num_cmds_sent = 0\n",
      " - comp.num_cmds_rcvd = 2\n",
      " - comp.num_acks_rcvd = 0\n",
      " - comp.num_acks_sent = 2\n",
      " - comp.num_acks_drop = 0\n",
      " - comp.message_cnts = {111: {'COMMAND_LONG': 2}, 1: {'HEARTBEAT': 1}} \n"
     ]
    },
    {
     "name": "stderr",
     "output_type": "stream",
     "text": [
      "INFO   | uav.Cli         | 02.725 | component.py:328 | MainThread         | Cli closed\n",
      "INFO   | uav.MAVCom      | 02.762 |  mavcom.py:409 | MainThread         | MAVCom  closed\n"
     ]
    }
   ],
   "source": [
    "# Test sending a command and receiving an ack from client to server\n",
    "with MAVCom(\"/dev/ttyACM0\", source_system=111, debug=False) as client:\n",
    "    with MAVCom(\"/dev/ttyUSB0\", source_system=222, debug=False) as server:\n",
    "        client.add_component(Cli(client, mav_type=MAV_TYPE_GCS, source_component = 11, debug=False))\n",
    "        server.add_component(Cam1(server, mav_type=MAV_TYPE_CAMERA, source_component = 22, debug=False))\n",
    "        server.add_component(Cam1(server, mav_type=MAV_TYPE_CAMERA, source_component = 23, debug=False))\n",
    "        \n",
    "        for key, comp in client.component.items():\n",
    "            if comp.wait_heartbeat(target_system=222, target_component=22, timeout=0.1):\n",
    "                print (\"*** Received heartbeat **** \" )\n",
    "        NUM_TO_SEND = 2\n",
    "        for i in range(NUM_TO_SEND):\n",
    "            client.component[11]._test_command(222, 22, 1)\n",
    "            client.component[11]._test_command(222, 23, 1)\n",
    "            \n",
    "        client.component[11]._test_command(222, 24, 1)\n",
    "\n",
    "    print(f\"{server.source_system = };  {server.message_cnts = }\")\n",
    "    print(f\"{client.source_system = };  {client.message_cnts = }\")\n",
    "    print()\n",
    "    print(f\"{client.source_system = } \\n{client.summary()} \\n\")\n",
    "    print(f\"{server.source_system = } \\n{server.summary()} \\n\")\n",
    "\n",
    "    assert client.component[11].num_cmds_sent == NUM_TO_SEND * 2 + 1\n",
    "    assert client.component[11].num_acks_rcvd == NUM_TO_SEND * 2\n",
    "    assert client.component[11].num_acks_drop == 1\n",
    "    assert server.component[22].num_cmds_rcvd == NUM_TO_SEND\n",
    "    assert server.component[23].num_cmds_rcvd == NUM_TO_SEND"
   ]
  },
  {
   "cell_type": "markdown",
   "metadata": {},
   "source": [
    "> For debugging help see http://localhost:3000/tutorials/mavlink_doc&debug.html and http://localhost:3000/tutorials/mavlink_doc&debug.html#debugging"
   ]
  },
  {
   "cell_type": "markdown",
   "metadata": {},
   "source": []
  },
  {
   "cell_type": "code",
   "execution_count": null,
   "metadata": {},
   "outputs": [],
   "source": [
    "#| hide\n",
    "# from nbdev import nbdev_export\n",
    "# nbdev_export()"
   ]
  }
 ],
 "metadata": {
  "kernelspec": {
   "display_name": "python3",
   "language": "python",
   "name": "python3"
  }
 },
 "nbformat": 4,
 "nbformat_minor": 4
}
