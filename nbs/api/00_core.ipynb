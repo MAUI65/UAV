{
 "cells": [
  {
   "cell_type": "markdown",
   "metadata": {},
   "source": [
    "# core\n",
    "\n",
    "> Fill in a module description here\n"
   ]
  },
  {
   "cell_type": "code",
   "execution_count": null,
   "metadata": {},
   "outputs": [],
   "source": [
    "#| default_exp core"
   ]
  },
  {
   "cell_type": "code",
   "execution_count": null,
   "metadata": {},
   "outputs": [],
   "source": [
    "#| export\n",
    "from fastcore.utils import *"
   ]
  },
  {
   "cell_type": "code",
   "execution_count": null,
   "metadata": {},
   "outputs": [],
   "source": [
    "#| hide\n",
    "from nbdev.showdoc import *\n",
    "from fastcore.test import *"
   ]
  },
  {
   "cell_type": "code",
   "execution_count": null,
   "metadata": {},
   "outputs": [],
   "source": [
    "class Card:\n",
    "    \"A playing card\"\n",
    "\n",
    "    def __init__(self,\n",
    "                 suit: int,  # An index into `suits`\n",
    "                 rank: int):  # An index into `ranks`\n",
    "        self.suit, self.rank = suit, rank\n",
    "    # def __str__(self): return f\"{ranks[self.rank]}{suits[self.suit]}\"\n",
    "    # __repr__ = __str__\n"
   ]
  },
  {
   "cell_type": "code",
   "execution_count": null,
   "metadata": {},
   "outputs": [],
   "source": [
    "@patch\n",
    "def __eq__(self: Card # \n",
    "           , a: Card) -> bool: # Card to compare to\n",
    "    \"returns True if equal\"\n",
    "    return (self.suit, self.rank) == (a.suit, a.rank)\n"
   ]
  },
  {
   "cell_type": "code",
   "execution_count": null,
   "metadata": {},
   "outputs": [],
   "source": [
    "@patch\n",
    "def __lt__(self: Card, a: Card): return (self.suit, self.rank) < (a.suit, a.rank)\n"
   ]
  },
  {
   "cell_type": "code",
   "execution_count": null,
   "metadata": {},
   "outputs": [],
   "source": [
    "@patch\n",
    "def __gt__(self: Card, a: Card): return (self.suit, self.rank) > (a.suit, a.rank)\n",
    "\n",
    "# @patch\n",
    "# def eq(self: Card, a: Card):\n",
    "#     return (self.suit, self.rank) == (a.suit, a.rank)"
   ]
  },
  {
   "cell_type": "code",
   "execution_count": null,
   "metadata": {},
   "outputs": [
    {
     "data": {
      "text/markdown": "---\n\n### Card.__eq__\n\n>      Card.__eq__ (a:__main__.Card)\n\nreturns True if equal\n\n|    | **Type** | **Details** |\n| -- | -------- | ----------- |\n| a | Card |  |\n| **Returns** | **bool** | **Card to compare to** |",
      "text/plain": "---\n\n### Card.__eq__\n\n>      Card.__eq__ (a:__main__.Card)\n\nreturns True if equal\n\n|    | **Type** | **Details** |\n| -- | -------- | ----------- |\n| a | Card |  |\n| **Returns** | **bool** | **Card to compare to** |"
     },
     "execution_count": null,
     "metadata": {},
     "output_type": "execute_result"
    }
   ],
   "source": [
    "# show_doc(Card.__eq__ )"
   ]
  },
  {
   "cell_type": "markdown",
   "metadata": {},
   "source": [
    ":::{.callout-note}\n",
    "Note that there are five types of callouts, including:\n",
    "`note`, `warning`, `important`, `tip`, and `caution`.\n",
    ":::"
   ]
  },
  {
   "cell_type": "markdown",
   "metadata": {},
   "source": [
    "::: {layout-ncol=3}\n",
    "![Jupyter](/images/jupyter.svg)\n",
    "\n",
    "![Vscode](/images/vscode.svg)\n",
    "\n",
    "![Git](/images/git.svg)\n",
    ":::"
   ]
  },
  {
   "cell_type": "code",
   "execution_count": null,
   "metadata": {},
   "outputs": [],
   "source": []
  },
  {
   "cell_type": "code",
   "execution_count": null,
   "metadata": {},
   "outputs": [],
   "source": [
    "#| export\n",
    "def say_gday(\n",
    "    greeting:str=\"G'day\",  # Greeting to use\n",
    "    strine:bool=True,      # Use incomprehensible Aussie accent?\n",
    "    dropbears:bool=False): # Also warn about drop-bears?\n",
    "    \"Says g'day, the classic Aussie greeting\"\n",
    "    ..."
   ]
  },
  {
   "cell_type": "code",
   "execution_count": null,
   "metadata": {},
   "outputs": [],
   "source": [
    "from nbdev.showdoc import show_doc\n",
    "from numpy import all\n",
    "import numpy\n",
    "show_doc(numpy.all)"
   ]
  },
  {
   "cell_type": "markdown",
   "metadata": {},
   "source": [
    "### Markdown for Jupyter notebooks cheatsheet\n",
    "\n",
    "[cheatsheet](https://www.ibm.com/docs/en/watson-studio-local/1.2.3?topic=notebooks-markdown-jupyter-cheatsheet)"
   ]
  },
  {
   "cell_type": "markdown",
   "metadata": {},
   "source": [
    "### Make a requirements.txt file\n",
    "It is used to scan your imports and build a Python requirements file for you. It is a good idea to run this command after you have finished your notebook and before you commit your changes to source control.\n",
    "```sh\n",
    "pip install pipreqs\n",
    "pipreqs --force --mode gt .\n",
    "```"
   ]
  },
  {
   "cell_type": "code",
   "execution_count": null,
   "metadata": {},
   "outputs": [],
   "source": [
    "#| hide\n",
    "import nbdev; nbdev.nbdev_export()"
   ]
  }
 ],
 "metadata": {
  "kernelspec": {
   "display_name": "python3",
   "language": "python",
   "name": "python3"
  }
 },
 "nbformat": 4,
 "nbformat_minor": 4
}
