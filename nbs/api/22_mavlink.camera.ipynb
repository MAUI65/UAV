{
 "cells": [
  {
   "cell_type": "markdown",
   "metadata": {},
   "source": []
  },
  {
   "cell_type": "markdown",
   "metadata": {},
   "source": [
    "# Mavlink Camera\n",
    "> Mavlink Camera Component for sending commands to a camera on a companion computer or GCS\n",
    "> The server is on the companion computer and the client is on the ground station PC."
   ]
  },
  {
   "cell_type": "code",
   "execution_count": null,
   "metadata": {},
   "outputs": [],
   "source": [
    "#| default_exp mavlink.test_camera"
   ]
  },
  {
   "cell_type": "code",
   "execution_count": null,
   "metadata": {},
   "outputs": [
    {
     "name": "stdout",
     "output_type": "stream",
     "text": [
      "The autoreload extension is already loaded. To reload it, use:\n",
      "  %reload_ext autoreload\n"
     ]
    }
   ],
   "source": [
    "#| hide\n",
    "%load_ext autoreload\n",
    "%autoreload 2"
   ]
  },
  {
   "cell_type": "code",
   "execution_count": null,
   "metadata": {},
   "outputs": [],
   "source": [
    "#| hide\n",
    "# skip_showdoc: true to avoid running cells when rendering docs, and \n",
    "# skip_exec: true to skip this notebook when running tests. \n",
    "# this should be a raw cell "
   ]
  },
  {
   "cell_type": "raw",
   "metadata": {},
   "source": [
    "---\n",
    "skip_showdoc: true\n",
    "skip_exec: true\n",
    "---"
   ]
  },
  {
   "cell_type": "code",
   "execution_count": null,
   "metadata": {},
   "outputs": [],
   "source": [
    "#| export\n",
    "import time\n",
    "from UAV.mavlink.mavcom import MAVCom, time_since_boot_ms, time_UTC_usec, date_time_str\n",
    "from UAV.mavlink.component import Component, mavutil, mavlink, MAVLink\n",
    "\n",
    "from UAV.mavlink.camera_client import *\n",
    "from UAV.mavlink.camera_server import *\n",
    "from UAV.utils.display import *\n",
    "from fastcore.test import *"
   ]
  },
  {
   "cell_type": "code",
   "execution_count": null,
   "metadata": {},
   "outputs": [],
   "source": [
    "#| hide\n",
    "from fastcore.utils import *\n",
    "from nbdev.showdoc import *\n"
   ]
  },
  {
   "cell_type": "markdown",
   "metadata": {},
   "source": [
    "### Implementation of these commands:\n",
    ">\n",
    "> [MAV_CMD_REQUEST_CAMERA_CAPTURE_STATUS = 527](https://mavlink.io/en/messages/common.html#MAV_CMD_REQUEST_CAMERA_CAPTURE_STATUS)\n",
    "[MAV_CMD_REQUEST_CAMERA_INFORMATION = 523](https://mavlink.io/en/messages/common.html#MAV_CMD_REQUEST_CAMERA_INFORMATION)\n",
    "[MAV_CMD_REQUEST_CAMERA_SETTINGS = 524](https://mavlink.io/en/messages/common.html#MAV_CMD_REQUEST_CAMERA_SETTINGS)\n",
    "[MAV_CMD_REQUEST_STORAGE_INFORMATION = 525](https://mavlink.io/en/messages/common.html#MAV_CMD_REQUEST_STORAGE_INFORMATION)\n",
    "[MAV_CMD_STORAGE_FORMAT = 526](https://mavlink.io/en/messages/common.html#MAV_CMD_STORAGE_FORMAT)\n",
    "[MAV_CMD_SET_CAMERA_ZOOM = 531](https://mavlink.io/en/messages/common.html#MAV_CMD_SET_CAMERA_ZOOM)\n",
    "[MAV_CMD_SET_CAMERA_FOCUS = 532](https://mavlink.io/en/messages/common.html#MAV_CMD_SET_CAMERA_FOCUS)\n",
    "[MAV_CMD_IMAGE_START_CAPTURE = 2000](https://mavlink.io/en/messages/common.html#MAV_CMD_IMAGE_START_CAPTURE)\n",
    "[MAV_CMD_IMAGE_STOP_CAPTURE = 2001](https://mavlink.io/en/messages/common.html#MAV_CMD_IMAGE_STOP_CAPTURE)\n",
    "> \n",
    "> [MAV_CMD_REQUEST_VIDEO_STREAM_INFORMATION = 2504](https://mavlink.io/en/messages/common.html#MAV_CMD_REQUEST_VIDEO_STREAM_INFORMATION)\n",
    "[MAV_CMD_REQUEST_VIDEO_STREAM_STATUS = 2505](https://mavlink.io/en/messages/common.html#MAV_CMD_REQUEST_VIDEO_STREAM_STATUS)\n",
    "[MAV_CMD_VIDEO_START_CAPTURE = 2500](https://mavlink.io/en/messages/common.html#MAV_CMD_VIDEO_START_CAPTURE)\n",
    "[MAV_CMD_VIDEO_STOP_CAPTURE = 2501](https://mavlink.io/en/messages/common.html#MAV_CMD_VIDEO_STOP_CAPTURE)\n",
    "[MAV_CMD_SET_CAMERA_MODE = 530](https://mavlink.io/en/messages/common.html#MAV_CMD_SET_CAMERA_MODE)\n",
    "> \n",
    "**Note**\n",
    "The simulated camera is implemented in PX4 [gazebo_camera_manager_plugin.cpp](https://github.com/PX4/PX4-SITL_gazebo-classic/blob/main/src/gazebo_camera_manager_plugin.cpp).\n"
   ]
  },
  {
   "cell_type": "code",
   "execution_count": null,
   "metadata": {},
   "outputs": [],
   "source": [
    "#| exports\n",
    "# from pymavlink.dialects.v20 import ardupilotmega as mav\n",
    "# from pymavlink.dialects.v20.ardupilotmega import MAVLink\n",
    "\n",
    "\n",
    "NAN = float(\"nan\")\n",
    "\n",
    "\"\"\"\n",
    "MAV_CMD_REQUEST_CAMERA_CAPTURE_STATUS = 527 # https://mavlink.io/en/messages/common.html#MAV_CMD_REQUEST_CAMERA_CAPTURE_STATUS\n",
    "MAV_CMD_REQUEST_CAMERA_INFORMATION = 521 # https://mavlink.io/en/messages/common.html#MAV_CMD_REQUEST_CAMERA_INFORMATION\n",
    "MAV_CMD_REQUEST_CAMERA_SETTINGS = 522 # https://mavlink.io/en/messages/common.html#MAV_CMD_REQUEST_CAMERA_SETTINGS\n",
    "MAV_CMD_REQUEST_STORAGE_INFORMATION = 525 # https://mavlink.io/en/messages/common.html#MAV_CMD_REQUEST_STORAGE_INFORMATION\n",
    "MAV_CMD_STORAGE_FORMAT = 526 # https://mavlink.io/en/messages/common.html#MAV_CMD_STORAGE_FORMAT\n",
    "MAV_CMD_SET_CAMERA_ZOOM = 531 # https://mavlink.io/en/messages/common.html#MAV_CMD_SET_CAMERA_ZOOM\n",
    "MAV_CMD_SET_CAMERA_FOCUS = 532 # https://mavlink.io/en/messages/common.html#MAV_CMD_SET_CAMERA_FOCUS\n",
    "MAV_CMD_IMAGE_START_CAPTURE = 2000  # https://mavlink.io/en/messages/common.html#MAV_CMD_IMAGE_START_CAPTURE\n",
    "MAV_CMD_IMAGE_STOP_CAPTURE = 2001  # https://mavlink.io/en/messages/common.html#MAV_CMD_IMAGE_STOP_CAPTURE\n",
    "MAV_CMD_REQUEST_VIDEO_STREAM_INFORMATION = 2504 # https://mavlink.io/en/messages/common.html#MAV_CMD_REQUEST_VIDEO_STREAM_INFORMATION\n",
    "MAV_CMD_REQUEST_VIDEO_STREAM_STATUS = 2505 # https://mavlink.io/en/messages/common.html#MAV_CMD_REQUEST_VIDEO_STREAM_STATUS\n",
    "MAV_CMD_VIDEO_START_CAPTURE = 2500 # https://mavlink.io/en/messages/common.html#MAV_CMD_VIDEO_START_CAPTURE\n",
    "MAV_CMD_VIDEO_STOP_CAPTURE = 2501 # https://mavlink.io/en/messages/common.html#MAV_CMD_VIDEO_STOP_CAPTURE\n",
    "MAV_CMD_SET_CAMERA_MODE = 530 # https://mavlink.io/en/messages/common.html#MAV_CMD_SET_CAMERA_MODE\n",
    "\n",
    "\"\"\"\n",
    "CAMERA_INFORMATION = mavlink.MAVLINK_MSG_ID_CAMERA_INFORMATION # https://mavlink.io/en/messages/common.html#CAMERA_INFORMATION\n",
    "CAMERA_SETTINGS = mavlink.MAVLINK_MSG_ID_CAMERA_SETTINGS # https://mavlink.io/en/messages/common.html#CAMERA_SETTINGS\n",
    "STORAGE_INFORMATION = mavlink.MAVLINK_MSG_ID_STORAGE_INFORMATION # https://mavlink.io/en/messages/common.html#STORAGE_INFORMATION\n",
    "CAMERA_CAPTURE_STATUS = mavlink.MAVLINK_MSG_ID_CAMERA_CAPTURE_STATUS # https://mavlink.io/en/messages/common.html#CAMERA_CAPTURE_STATUS\n",
    "CAMERA_IMAGE_CAPTURED = mavlink.MAVLINK_MSG_ID_CAMERA_IMAGE_CAPTURED # https://mavlink.io/en/messages/common.html#CAMERA_IMAGE_CAPTURED\n"
   ]
  },
  {
   "cell_type": "code",
   "execution_count": null,
   "metadata": {},
   "outputs": [
    {
     "data": {
      "text/markdown": "---\n\n### CameraClient\n\n>      CameraClient (source_component, mav_type,\n>                    loglevel:UAV.logging.LogLevels=20)\n\nCreate a Viewsheen mavlink gimbal client component for send commands to a gimbal on a companion computer or GCS\n\n|    | **Type** | **Default** | **Details** |\n| -- | -------- | ----------- | ----------- |\n| source_component |  |  | used for component indication |\n| mav_type |  |  | used for heartbeat MAV_TYPE indication |\n| loglevel | LogLevels | 20 | logging level |",
      "text/plain": "---\n\n### CameraClient\n\n>      CameraClient (source_component, mav_type,\n>                    loglevel:UAV.logging.LogLevels=20)\n\nCreate a Viewsheen mavlink gimbal client component for send commands to a gimbal on a companion computer or GCS\n\n|    | **Type** | **Default** | **Details** |\n| -- | -------- | ----------- | ----------- |\n| source_component |  |  | used for component indication |\n| mav_type |  |  | used for heartbeat MAV_TYPE indication |\n| loglevel | LogLevels | 20 | logging level |"
     },
     "execution_count": null,
     "metadata": {},
     "output_type": "execute_result"
    }
   ],
   "source": [
    "show_doc(CameraClient)"
   ]
  },
  {
   "cell_type": "code",
   "execution_count": null,
   "metadata": {},
   "outputs": [
    {
     "data": {
      "text/markdown": "---\n\n### Component.close\n\n>      Component.close ()\n\n---\n\n### Component.count_message\n\n>      Component.count_message (msg)\n\nCount a message by adding it to the message_cnts dictionary. indexed by system and message type\n\n---\n\n### CameraClient.image_start_capture\n\n>      CameraClient.image_start_capture (target_system=None,\n>                                        target_component=None, interval=0,\n>                                        count=1)\n\nStart image capture sequence.\n\n|    | **Type** | **Default** | **Details** |\n| -- | -------- | ----------- | ----------- |\n| target_system | NoneType | None |  |\n| target_component | NoneType | None |  |\n| interval | int | 0 | Image capture interval |\n| count | int | 1 | Number of images to capture (0 for unlimited) |\n\n---\n\n### CameraClient.image_stop_capture\n\n>      CameraClient.image_stop_capture (target_system=None,\n>                                       target_component=None)\n\nStop image capture sequence\n\n---\n\n### CameraClient.message_callback_cond\n\n>      CameraClient.message_callback_cond (msg_id, target_system,\n>                                          target_component, timeout)\n\nRegister a callback for a message received from the server\n\n---\n\n### CameraClient.on_mav_connection\n\n>      CameraClient.on_mav_connection ()\n\n---\n\n### CameraClient.on_message\n\n>      CameraClient.on_message\n>                               (msg:pymavlink.dialects.v20.ardupilotmega.MAVLin\n>                               k_message)\n\nCallback for a command received from the server\n\n---\n\n### CameraClient.request_camera_capture_status\n\n>      CameraClient.request_camera_capture_status (target_system=None,\n>                                                  target_component=None)\n\nRequest camera capture status\n\n---\n\n### CameraClient.request_camera_information\n\n>      CameraClient.request_camera_information (target_system=None,\n>                                               target_component=None)\n\nRequest camera information\n\n---\n\n### CameraClient.request_camera_settings\n\n>      CameraClient.request_camera_settings (target_system=None,\n>                                            target_component=None)\n\nRequest camera settings\n\n---\n\n### CameraClient.request_storage_information\n\n>      CameraClient.request_storage_information (target_system=None,\n>                                                target_component=None)\n\nRequest storage information (for cases where camera has storage)\n\n---\n\n### Component.send_ack\n\n>      Component.send_ack (msg, ack_result:object=0)\n\nSend an ACK message to indicate a command was received.\n\n---\n\n### Component.send_command\n\n>      Component.send_command (target_system:int, target_component:int,\n>                              command_id:int, params:list, timeout=0.5)\n\n---\n\n### CameraClient.send_message\n\n>      CameraClient.send_message (msg)\n\nSend a message to the camera\n\n---\n\n### Component.send_ping\n\n>      Component.send_ping (target_system:int, target_component:int,\n>                           ping_num:int=None)\n\nSend self.max_pings * ping messages to test if the server is alive.\n\n---\n\n### CameraClient.set_camera_mode\n\n>      CameraClient.set_camera_mode (target_system=None, target_component=None,\n>                                    mode_id=0)\n\nSet the camera mode\n\n|    | **Type** | **Default** | **Details** |\n| -- | -------- | ----------- | ----------- |\n| target_system | NoneType | None |  |\n| target_component | NoneType | None |  |\n| mode_id | int | 0 | https://mavlink.io/en/messages/common.html#CAMERA_MODE |\n\n---\n\n### CameraClient.set_camera_zoom\n\n>      CameraClient.set_camera_zoom (target_system=None, target_component=None,\n>                                    zoom_type=0, zoom_value=1)\n\nSet the camera zoom\n\n|    | **Type** | **Default** | **Details** |\n| -- | -------- | ----------- | ----------- |\n| target_system | NoneType | None |  |\n| target_component | NoneType | None |  |\n| zoom_type | int | 0 |  |\n| zoom_value | int | 1 | 0 to 100 zoom value |\n\n---\n\n### Component.set_log\n\n>      Component.set_log (loglevel)\n\n---\n\n### Component.set_mav_connection\n\n>      Component.set_mav_connection (mav_com:MAVCom)\n\nSet the mav_connection for the component\n\n---\n\n### Component.set_source_compenent\n\n>      Component.set_source_compenent ()\n\nSet the source component for the master.mav\n\n---\n\n### Component.set_target\n\n>      Component.set_target (target_system, target_component)\n\nSet the target system and component for the gimbal\n\n---\n\n### CameraClient.storage_format\n\n>      CameraClient.storage_format (target_system=None, target_component=None)\n\nFormat storage (for cases where camera has storage)\n\n---\n\n### CameraClient.video_start_capture\n\n>      CameraClient.video_start_capture (target_system=None,\n>                                        target_component=None,\n>                                        video_stream_id=0, frequency=1)\n\nStart video capture\n\n|    | **Type** | **Default** | **Details** |\n| -- | -------- | ----------- | ----------- |\n| target_system | NoneType | None |  |\n| target_component | NoneType | None |  |\n| video_stream_id | int | 0 | Video stream id (0 for all streams) |\n| frequency | int | 1 | Frequency CAMERA_CAPTURE_STATUS messages should be sent while recording (0 for no messages, otherwise frequency in Hz) |\n\n---\n\n### CameraClient.video_start_streaming\n\n>      CameraClient.video_start_streaming (target_system=None,\n>                                          target_component=None,\n>                                          video_stream_id=0)\n\nStart video streaming\n\n|    | **Type** | **Default** | **Details** |\n| -- | -------- | ----------- | ----------- |\n| target_system | NoneType | None |  |\n| target_component | NoneType | None |  |\n| video_stream_id | int | 0 | Video Stream ID (0 for all streams) |\n\n---\n\n### CameraClient.video_stop_capture\n\n>      CameraClient.video_stop_capture (target_system=None,\n>                                       target_component=None,\n>                                       video_stream_id=0)\n\nStop video capture\n\n|    | **Type** | **Default** | **Details** |\n| -- | -------- | ----------- | ----------- |\n| target_system | NoneType | None |  |\n| target_component | NoneType | None |  |\n| video_stream_id | int | 0 | Video stream id (0 for all streams) |\n\n---\n\n### CameraClient.video_stop_streaming\n\n>      CameraClient.video_stop_streaming (target_system=None,\n>                                         target_component=None,\n>                                         video_stream_id=0)\n\nStop the video stream\n\n|    | **Type** | **Default** | **Details** |\n| -- | -------- | ----------- | ----------- |\n| target_system | NoneType | None |  |\n| target_component | NoneType | None |  |\n| video_stream_id | int | 0 | Video Stream ID (0 for all streams) |\n\n---\n\n### Component.wait_ack\n\n>      Component.wait_ack (target_system, target_component, command_id=None,\n>                          timeout=0.1)\n\nWait for an ack from target_system and target_component.\n\n---\n\n### Component.wait_heartbeat\n\n>      Component.wait_heartbeat (remote_mav_type=None, target_system=None,\n>                                target_component=None, timeout:int=1)\n\nWait for a heartbeat from target_system and target_component.\n\n",
      "text/plain": "---\n\n### Component.close\n\n>      Component.close ()\n\n---\n\n### Component.count_message\n\n>      Component.count_message (msg)\n\nCount a message by adding it to the message_cnts dictionary. indexed by system and message type\n\n---\n\n### CameraClient.image_start_capture\n\n>      CameraClient.image_start_capture (target_system=None,\n>                                        target_component=None, interval=0,\n>                                        count=1)\n\nStart image capture sequence.\n\n|    | **Type** | **Default** | **Details** |\n| -- | -------- | ----------- | ----------- |\n| target_system | NoneType | None |  |\n| target_component | NoneType | None |  |\n| interval | int | 0 | Image capture interval |\n| count | int | 1 | Number of images to capture (0 for unlimited) |\n\n---\n\n### CameraClient.image_stop_capture\n\n>      CameraClient.image_stop_capture (target_system=None,\n>                                       target_component=None)\n\nStop image capture sequence\n\n---\n\n### CameraClient.message_callback_cond\n\n>      CameraClient.message_callback_cond (msg_id, target_system,\n>                                          target_component, timeout)\n\nRegister a callback for a message received from the server\n\n---\n\n### CameraClient.on_mav_connection\n\n>      CameraClient.on_mav_connection ()\n\n---\n\n### CameraClient.on_message\n\n>      CameraClient.on_message\n>                               (msg:pymavlink.dialects.v20.ardupilotmega.MAVLin\n>                               k_message)\n\nCallback for a command received from the server\n\n---\n\n### CameraClient.request_camera_capture_status\n\n>      CameraClient.request_camera_capture_status (target_system=None,\n>                                                  target_component=None)\n\nRequest camera capture status\n\n---\n\n### CameraClient.request_camera_information\n\n>      CameraClient.request_camera_information (target_system=None,\n>                                               target_component=None)\n\nRequest camera information\n\n---\n\n### CameraClient.request_camera_settings\n\n>      CameraClient.request_camera_settings (target_system=None,\n>                                            target_component=None)\n\nRequest camera settings\n\n---\n\n### CameraClient.request_storage_information\n\n>      CameraClient.request_storage_information (target_system=None,\n>                                                target_component=None)\n\nRequest storage information (for cases where camera has storage)\n\n---\n\n### Component.send_ack\n\n>      Component.send_ack (msg, ack_result:object=0)\n\nSend an ACK message to indicate a command was received.\n\n---\n\n### Component.send_command\n\n>      Component.send_command (target_system:int, target_component:int,\n>                              command_id:int, params:list, timeout=0.5)\n\n---\n\n### CameraClient.send_message\n\n>      CameraClient.send_message (msg)\n\nSend a message to the camera\n\n---\n\n### Component.send_ping\n\n>      Component.send_ping (target_system:int, target_component:int,\n>                           ping_num:int=None)\n\nSend self.max_pings * ping messages to test if the server is alive.\n\n---\n\n### CameraClient.set_camera_mode\n\n>      CameraClient.set_camera_mode (target_system=None, target_component=None,\n>                                    mode_id=0)\n\nSet the camera mode\n\n|    | **Type** | **Default** | **Details** |\n| -- | -------- | ----------- | ----------- |\n| target_system | NoneType | None |  |\n| target_component | NoneType | None |  |\n| mode_id | int | 0 | https://mavlink.io/en/messages/common.html#CAMERA_MODE |\n\n---\n\n### CameraClient.set_camera_zoom\n\n>      CameraClient.set_camera_zoom (target_system=None, target_component=None,\n>                                    zoom_type=0, zoom_value=1)\n\nSet the camera zoom\n\n|    | **Type** | **Default** | **Details** |\n| -- | -------- | ----------- | ----------- |\n| target_system | NoneType | None |  |\n| target_component | NoneType | None |  |\n| zoom_type | int | 0 |  |\n| zoom_value | int | 1 | 0 to 100 zoom value |\n\n---\n\n### Component.set_log\n\n>      Component.set_log (loglevel)\n\n---\n\n### Component.set_mav_connection\n\n>      Component.set_mav_connection (mav_com:MAVCom)\n\nSet the mav_connection for the component\n\n---\n\n### Component.set_source_compenent\n\n>      Component.set_source_compenent ()\n\nSet the source component for the master.mav\n\n---\n\n### Component.set_target\n\n>      Component.set_target (target_system, target_component)\n\nSet the target system and component for the gimbal\n\n---\n\n### CameraClient.storage_format\n\n>      CameraClient.storage_format (target_system=None, target_component=None)\n\nFormat storage (for cases where camera has storage)\n\n---\n\n### CameraClient.video_start_capture\n\n>      CameraClient.video_start_capture (target_system=None,\n>                                        target_component=None,\n>                                        video_stream_id=0, frequency=1)\n\nStart video capture\n\n|    | **Type** | **Default** | **Details** |\n| -- | -------- | ----------- | ----------- |\n| target_system | NoneType | None |  |\n| target_component | NoneType | None |  |\n| video_stream_id | int | 0 | Video stream id (0 for all streams) |\n| frequency | int | 1 | Frequency CAMERA_CAPTURE_STATUS messages should be sent while recording (0 for no messages, otherwise frequency in Hz) |\n\n---\n\n### CameraClient.video_start_streaming\n\n>      CameraClient.video_start_streaming (target_system=None,\n>                                          target_component=None,\n>                                          video_stream_id=0)\n\nStart video streaming\n\n|    | **Type** | **Default** | **Details** |\n| -- | -------- | ----------- | ----------- |\n| target_system | NoneType | None |  |\n| target_component | NoneType | None |  |\n| video_stream_id | int | 0 | Video Stream ID (0 for all streams) |\n\n---\n\n### CameraClient.video_stop_capture\n\n>      CameraClient.video_stop_capture (target_system=None,\n>                                       target_component=None,\n>                                       video_stream_id=0)\n\nStop video capture\n\n|    | **Type** | **Default** | **Details** |\n| -- | -------- | ----------- | ----------- |\n| target_system | NoneType | None |  |\n| target_component | NoneType | None |  |\n| video_stream_id | int | 0 | Video stream id (0 for all streams) |\n\n---\n\n### CameraClient.video_stop_streaming\n\n>      CameraClient.video_stop_streaming (target_system=None,\n>                                         target_component=None,\n>                                         video_stream_id=0)\n\nStop the video stream\n\n|    | **Type** | **Default** | **Details** |\n| -- | -------- | ----------- | ----------- |\n| target_system | NoneType | None |  |\n| target_component | NoneType | None |  |\n| video_stream_id | int | 0 | Video Stream ID (0 for all streams) |\n\n---\n\n### Component.wait_ack\n\n>      Component.wait_ack (target_system, target_component, command_id=None,\n>                          timeout=0.1)\n\nWait for an ack from target_system and target_component.\n\n---\n\n### Component.wait_heartbeat\n\n>      Component.wait_heartbeat (remote_mav_type=None, target_system=None,\n>                                target_component=None, timeout:int=1)\n\nWait for a heartbeat from target_system and target_component.\n"
     },
     "execution_count": null,
     "metadata": {},
     "output_type": "execute_result"
    }
   ],
   "source": [
    "doc_class(CameraClient)"
   ]
  },
  {
   "cell_type": "code",
   "execution_count": null,
   "metadata": {},
   "outputs": [
    {
     "data": {
      "text/markdown": "---\n\n### CameraClient\n\n>      CameraClient (source_component, mav_type,\n>                    loglevel:UAV.logging.LogLevels=20)\n\nCreate a client component to send commands to a companion computer or GCS that will control a camera via a CameraServer instance\n\n|    | **Type** | **Default** | **Details** |\n| -- | -------- | ----------- | ----------- |\n| source_component |  |  | used for component indication |\n| mav_type |  |  | used for heartbeat MAV_TYPE indication |\n| loglevel | LogLevels | 20 | logging level |",
      "text/plain": "---\n\n### CameraClient\n\n>      CameraClient (source_component, mav_type,\n>                    loglevel:UAV.logging.LogLevels=20)\n\nCreate a client component to send commands to a companion computer or GCS that will control a camera via a CameraServer instance\n\n|    | **Type** | **Default** | **Details** |\n| -- | -------- | ----------- | ----------- |\n| source_component |  |  | used for component indication |\n| mav_type |  |  | used for heartbeat MAV_TYPE indication |\n| loglevel | LogLevels | 20 | logging level |"
     },
     "execution_count": null,
     "metadata": {},
     "output_type": "execute_result"
    }
   ],
   "source": [
    "show_doc(CameraClient)"
   ]
  },
  {
   "cell_type": "code",
   "execution_count": null,
   "metadata": {},
   "outputs": [
    {
     "data": {
      "text/markdown": "---\n\n### Component.close\n\n>      Component.close ()\n\n---\n\n### Component.count_message\n\n>      Component.count_message (msg)\n\nCount a message by adding it to the message_cnts dictionary. indexed by system and message type\n\n---\n\n### CameraClient.image_start_capture\n\n>      CameraClient.image_start_capture (target_system=None,\n>                                        target_component=None, interval=0,\n>                                        count=1)\n\nStart image capture sequence.\n\n|    | **Type** | **Default** | **Details** |\n| -- | -------- | ----------- | ----------- |\n| target_system | NoneType | None |  |\n| target_component | NoneType | None |  |\n| interval | int | 0 | Image capture interval |\n| count | int | 1 | Number of images to capture (0 for unlimited) |\n\n---\n\n### CameraClient.image_stop_capture\n\n>      CameraClient.image_stop_capture (target_system=None,\n>                                       target_component=None)\n\nStop image capture sequence\n\n---\n\n### CameraClient.on_mav_connection\n\n>      CameraClient.on_mav_connection ()\n\n---\n\n### CameraClient.on_message\n\n>      CameraClient.on_message\n>                               (msg:pymavlink.dialects.v20.ardupilotmega.MAVLin\n>                               k_message)\n\nCallback for a command received from the server\n\n---\n\n### CameraClient.request_message\n\n>      CameraClient.request_message (msg_id, params=None, target_system=None,\n>                                    target_component=None)\n\nRequest a message from the camera\n\n---\n\n### Component.send_ack\n\n>      Component.send_ack (msg, ack_result:object=0)\n\nSend an ACK message to indicate a command was received.\n\n---\n\n### Component.send_command\n\n>      Component.send_command (target_system:int, target_component:int,\n>                              command_id:int, params:list, timeout=0.5)\n\n---\n\n### CameraClient.send_message\n\n>      CameraClient.send_message (msg)\n\nSend a message to the camera\n\n---\n\n### Component.send_ping\n\n>      Component.send_ping (target_system:int, target_component:int,\n>                           ping_num:int=None)\n\nSend self.max_pings * ping messages to test if the server is alive.\n\n---\n\n### CameraClient.set_camera_mode\n\n>      CameraClient.set_camera_mode (target_system=None, target_component=None,\n>                                    mode_id=0)\n\nSet the camera mode\n\n|    | **Type** | **Default** | **Details** |\n| -- | -------- | ----------- | ----------- |\n| target_system | NoneType | None |  |\n| target_component | NoneType | None |  |\n| mode_id | int | 0 | https://mavlink.io/en/messages/common.html#CAMERA_MODE |\n\n---\n\n### CameraClient.set_camera_zoom\n\n>      CameraClient.set_camera_zoom (target_system=None, target_component=None,\n>                                    zoom_type=0, zoom_value=1)\n\nSet the camera zoom\n\n|    | **Type** | **Default** | **Details** |\n| -- | -------- | ----------- | ----------- |\n| target_system | NoneType | None |  |\n| target_component | NoneType | None |  |\n| zoom_type | int | 0 |  |\n| zoom_value | int | 1 | 0 to 100 zoom value |\n\n---\n\n### Component.set_log\n\n>      Component.set_log (loglevel)\n\n---\n\n### Component.set_mav_connection\n\n>      Component.set_mav_connection (mav_com:MAVCom)\n\nSet the mav_connection for the component\n\n---\n\n### CameraClient.set_message_callback_cond\n\n>      CameraClient.set_message_callback_cond (msg_id, target_system,\n>                                              target_component)\n\nRegister a callback condition for a message received from the server\n\n---\n\n### Component.set_source_compenent\n\n>      Component.set_source_compenent ()\n\nSet the source component for the master.mav\n\n---\n\n### Component.set_target\n\n>      Component.set_target (target_system, target_component)\n\nSet the target system and component for the gimbal\n\n---\n\n### CameraClient.storage_format\n\n>      CameraClient.storage_format (target_system=None, target_component=None)\n\nFormat storage (for cases where camera has storage)\n\n---\n\n### CameraClient.video_start_capture\n\n>      CameraClient.video_start_capture (target_system=None,\n>                                        target_component=None,\n>                                        video_stream_id=0, frequency=1)\n\nStart video capture\n\n|    | **Type** | **Default** | **Details** |\n| -- | -------- | ----------- | ----------- |\n| target_system | NoneType | None |  |\n| target_component | NoneType | None |  |\n| video_stream_id | int | 0 | Video stream id (0 for all streams) |\n| frequency | int | 1 | Frequency CAMERA_CAPTURE_STATUS messages should be sent while recording (0 for no messages, otherwise frequency in Hz) |\n\n---\n\n### CameraClient.video_start_streaming\n\n>      CameraClient.video_start_streaming (target_system=None,\n>                                          target_component=None,\n>                                          video_stream_id=0)\n\nStart video streaming\n\n|    | **Type** | **Default** | **Details** |\n| -- | -------- | ----------- | ----------- |\n| target_system | NoneType | None |  |\n| target_component | NoneType | None |  |\n| video_stream_id | int | 0 | Video Stream ID (0 for all streams) |\n\n---\n\n### CameraClient.video_stop_capture\n\n>      CameraClient.video_stop_capture (target_system=None,\n>                                       target_component=None,\n>                                       video_stream_id=0)\n\nStop video capture\n\n|    | **Type** | **Default** | **Details** |\n| -- | -------- | ----------- | ----------- |\n| target_system | NoneType | None |  |\n| target_component | NoneType | None |  |\n| video_stream_id | int | 0 | Video stream id (0 for all streams) |\n\n---\n\n### CameraClient.video_stop_streaming\n\n>      CameraClient.video_stop_streaming (target_system=None,\n>                                         target_component=None,\n>                                         video_stream_id=0)\n\nStop the video stream\n\n|    | **Type** | **Default** | **Details** |\n| -- | -------- | ----------- | ----------- |\n| target_system | NoneType | None |  |\n| target_component | NoneType | None |  |\n| video_stream_id | int | 0 | Video Stream ID (0 for all streams) |\n\n---\n\n### Component.wait_ack\n\n>      Component.wait_ack (target_system, target_component, command_id=None,\n>                          timeout=0.1)\n\nWait for an ack from target_system and target_component.\n\n---\n\n### Component.wait_heartbeat\n\n>      Component.wait_heartbeat (remote_mav_type=None, target_system=None,\n>                                target_component=None, timeout:int=1)\n\nWait for a heartbeat from target_system and target_component.\n\n---\n\n### CameraClient.wait_message_callback\n\n>      CameraClient.wait_message_callback (cond, timeout=1)\n\nWait for the callback for a message received from the server\n\n",
      "text/plain": "---\n\n### Component.close\n\n>      Component.close ()\n\n---\n\n### Component.count_message\n\n>      Component.count_message (msg)\n\nCount a message by adding it to the message_cnts dictionary. indexed by system and message type\n\n---\n\n### CameraClient.image_start_capture\n\n>      CameraClient.image_start_capture (target_system=None,\n>                                        target_component=None, interval=0,\n>                                        count=1)\n\nStart image capture sequence.\n\n|    | **Type** | **Default** | **Details** |\n| -- | -------- | ----------- | ----------- |\n| target_system | NoneType | None |  |\n| target_component | NoneType | None |  |\n| interval | int | 0 | Image capture interval |\n| count | int | 1 | Number of images to capture (0 for unlimited) |\n\n---\n\n### CameraClient.image_stop_capture\n\n>      CameraClient.image_stop_capture (target_system=None,\n>                                       target_component=None)\n\nStop image capture sequence\n\n---\n\n### CameraClient.on_mav_connection\n\n>      CameraClient.on_mav_connection ()\n\n---\n\n### CameraClient.on_message\n\n>      CameraClient.on_message\n>                               (msg:pymavlink.dialects.v20.ardupilotmega.MAVLin\n>                               k_message)\n\nCallback for a command received from the server\n\n---\n\n### CameraClient.request_message\n\n>      CameraClient.request_message (msg_id, params=None, target_system=None,\n>                                    target_component=None)\n\nRequest a message from the camera\n\n---\n\n### Component.send_ack\n\n>      Component.send_ack (msg, ack_result:object=0)\n\nSend an ACK message to indicate a command was received.\n\n---\n\n### Component.send_command\n\n>      Component.send_command (target_system:int, target_component:int,\n>                              command_id:int, params:list, timeout=0.5)\n\n---\n\n### CameraClient.send_message\n\n>      CameraClient.send_message (msg)\n\nSend a message to the camera\n\n---\n\n### Component.send_ping\n\n>      Component.send_ping (target_system:int, target_component:int,\n>                           ping_num:int=None)\n\nSend self.max_pings * ping messages to test if the server is alive.\n\n---\n\n### CameraClient.set_camera_mode\n\n>      CameraClient.set_camera_mode (target_system=None, target_component=None,\n>                                    mode_id=0)\n\nSet the camera mode\n\n|    | **Type** | **Default** | **Details** |\n| -- | -------- | ----------- | ----------- |\n| target_system | NoneType | None |  |\n| target_component | NoneType | None |  |\n| mode_id | int | 0 | https://mavlink.io/en/messages/common.html#CAMERA_MODE |\n\n---\n\n### CameraClient.set_camera_zoom\n\n>      CameraClient.set_camera_zoom (target_system=None, target_component=None,\n>                                    zoom_type=0, zoom_value=1)\n\nSet the camera zoom\n\n|    | **Type** | **Default** | **Details** |\n| -- | -------- | ----------- | ----------- |\n| target_system | NoneType | None |  |\n| target_component | NoneType | None |  |\n| zoom_type | int | 0 |  |\n| zoom_value | int | 1 | 0 to 100 zoom value |\n\n---\n\n### Component.set_log\n\n>      Component.set_log (loglevel)\n\n---\n\n### Component.set_mav_connection\n\n>      Component.set_mav_connection (mav_com:MAVCom)\n\nSet the mav_connection for the component\n\n---\n\n### CameraClient.set_message_callback_cond\n\n>      CameraClient.set_message_callback_cond (msg_id, target_system,\n>                                              target_component)\n\nRegister a callback condition for a message received from the server\n\n---\n\n### Component.set_source_compenent\n\n>      Component.set_source_compenent ()\n\nSet the source component for the master.mav\n\n---\n\n### Component.set_target\n\n>      Component.set_target (target_system, target_component)\n\nSet the target system and component for the gimbal\n\n---\n\n### CameraClient.storage_format\n\n>      CameraClient.storage_format (target_system=None, target_component=None)\n\nFormat storage (for cases where camera has storage)\n\n---\n\n### CameraClient.video_start_capture\n\n>      CameraClient.video_start_capture (target_system=None,\n>                                        target_component=None,\n>                                        video_stream_id=0, frequency=1)\n\nStart video capture\n\n|    | **Type** | **Default** | **Details** |\n| -- | -------- | ----------- | ----------- |\n| target_system | NoneType | None |  |\n| target_component | NoneType | None |  |\n| video_stream_id | int | 0 | Video stream id (0 for all streams) |\n| frequency | int | 1 | Frequency CAMERA_CAPTURE_STATUS messages should be sent while recording (0 for no messages, otherwise frequency in Hz) |\n\n---\n\n### CameraClient.video_start_streaming\n\n>      CameraClient.video_start_streaming (target_system=None,\n>                                          target_component=None,\n>                                          video_stream_id=0)\n\nStart video streaming\n\n|    | **Type** | **Default** | **Details** |\n| -- | -------- | ----------- | ----------- |\n| target_system | NoneType | None |  |\n| target_component | NoneType | None |  |\n| video_stream_id | int | 0 | Video Stream ID (0 for all streams) |\n\n---\n\n### CameraClient.video_stop_capture\n\n>      CameraClient.video_stop_capture (target_system=None,\n>                                       target_component=None,\n>                                       video_stream_id=0)\n\nStop video capture\n\n|    | **Type** | **Default** | **Details** |\n| -- | -------- | ----------- | ----------- |\n| target_system | NoneType | None |  |\n| target_component | NoneType | None |  |\n| video_stream_id | int | 0 | Video stream id (0 for all streams) |\n\n---\n\n### CameraClient.video_stop_streaming\n\n>      CameraClient.video_stop_streaming (target_system=None,\n>                                         target_component=None,\n>                                         video_stream_id=0)\n\nStop the video stream\n\n|    | **Type** | **Default** | **Details** |\n| -- | -------- | ----------- | ----------- |\n| target_system | NoneType | None |  |\n| target_component | NoneType | None |  |\n| video_stream_id | int | 0 | Video Stream ID (0 for all streams) |\n\n---\n\n### Component.wait_ack\n\n>      Component.wait_ack (target_system, target_component, command_id=None,\n>                          timeout=0.1)\n\nWait for an ack from target_system and target_component.\n\n---\n\n### Component.wait_heartbeat\n\n>      Component.wait_heartbeat (remote_mav_type=None, target_system=None,\n>                                target_component=None, timeout:int=1)\n\nWait for a heartbeat from target_system and target_component.\n\n---\n\n### CameraClient.wait_message_callback\n\n>      CameraClient.wait_message_callback (cond, timeout=1)\n\nWait for the callback for a message received from the server\n"
     },
     "execution_count": null,
     "metadata": {},
     "output_type": "execute_result"
    }
   ],
   "source": [
    "doc_class(CameraClient)"
   ]
  },
  {
   "cell_type": "markdown",
   "metadata": {},
   "source": [
    "### Example: Test locally using UDP ports\n",
    "\n",
    "> on the same machine using UDP ports `14445`  with `server_system_ID=111, client_system_ID=222`\n"
   ]
  },
  {
   "cell_type": "code",
   "execution_count": null,
   "metadata": {},
   "outputs": [
    {
     "name": "stderr",
     "output_type": "stream",
     "text": [
      "\u001b[32mINFO   | uav.MAVCom      | 05.404 |  mavcom.py:393 | Thread-53 (listen) | MAVLink Mav2: True, source_system: 111\u001b[0m\n",
      "\u001b[32mINFO   | uav.MAVCom      | 05.506 |  mavcom.py:393 | Thread-54 (listen) | MAVLink Mav2: True, source_system: 222\u001b[0m\n",
      "\u001b[32mINFO   | uav.CameraClien | 05.507 | component.py:135 | MainThread         | Component Started self.source_component = 11, self.mav_type = 6, self.source_system = 111\u001b[0m\n",
      "\u001b[33mWARNIN | uav.CameraServe | 05.508 | camera_server.py: 92 | MainThread         | Component has no camera object\u001b[0m\n",
      "\u001b[32mINFO   | uav.CameraServe | 05.508 | component.py:135 | MainThread         | Component Started self.source_component = 22, self.mav_type = 30, self.source_system = 222\u001b[0m\n"
     ]
    },
    {
     "name": "stdout",
     "output_type": "stream",
     "text": [
      "set_mav_connection CameraClient component.py:131 self.mav_com = <MAVCom>\n",
      "set_mav_connection CameraServer component.py:131 self.mav_com = <MAVCom>\n",
      "UAV                             \n",
      "MAVLINK_MSG_ID_CAMERA_INFORMATION CAMERA_INFORMATION {time_boot_ms : 10336023, vendor_name : UAV, model_name : FakeCamera, firmware_version : 1, focal_length : 2.799999952316284, sensor_size_h : 3.200000047683716, sensor_size_v : 2.4000000953674316, resolution_h : 640, resolution_v : 480, lens_id : 0, flags : 0, cam_definition_version : 1, cam_definition_uri : , gimbal_device_id : 0}\n"
     ]
    },
    {
     "name": "stderr",
     "output_type": "stream",
     "text": [
      "\u001b[32mINFO   | uav.CameraServe | 08.512 | component.py:404 | MainThread         | CameraServer closed\u001b[0m\n",
      "\u001b[32mINFO   | uav.MAVCom      | 08.513 |  mavcom.py:442 | MainThread         | MAVCom  closed\u001b[0m\n",
      "\u001b[32mINFO   | uav.CameraClien | 10.513 | component.py:404 | MainThread         | CameraClient closed\u001b[0m\n",
      "\u001b[32mINFO   | uav.MAVCom      | 10.514 |  mavcom.py:442 | MainThread         | MAVCom  closed\u001b[0m\n"
     ]
    }
   ],
   "source": [
    "%autoawait asyncio\n",
    "import asyncio\n",
    "async def main():\n",
    "    MAV_TYPE_GCS = mavutil.mavlink.MAV_TYPE_GCS\n",
    "    MAV_TYPE_CAMERA = mavutil.mavlink.MAV_TYPE_CAMERA\n",
    "    \n",
    "    con1, con2 = \"udpin:localhost:14445\", \"udpout:localhost:14445\"\n",
    "    # con1, con2 = \"/dev/ttyACM0\", \"/dev/ttyUSB0\"\n",
    "    with MAVCom(con1, source_system=111) as client:\n",
    "        with MAVCom(con2, source_system=222) as server:\n",
    "            cam:CameraClient = client.add_component(\n",
    "                CameraClient(mav_type=MAV_TYPE_GCS, source_component=11))\n",
    "            # server.add_component(CameraServer(mav_type=MAV_TYPE_CAMERA, source_component=22, camera=cam_fake1, debug=False))\n",
    "            server.add_component(CameraServer(mav_type=MAV_TYPE_CAMERA, source_component=22, camera=None))\n",
    "    \n",
    "            await cam.wait_heartbeat(target_system=222, target_component=22, timeout=1)\n",
    "            time.sleep(0.1)\n",
    "    \n",
    "            msg = await cam.request_message(mavlink.MAVLINK_MSG_ID_CAMERA_INFORMATION, target_system=222, target_component=22)\n",
    "\n",
    "            print( f\"MAVLINK_MSG_ID_CAMERA_INFORMATION {msg}\")\n",
    "            \n",
    "            # msg = await cam.request_storage_information()\n",
    "            # print (msg)\n",
    "            \n",
    "            time.sleep(1)\n",
    "            \n",
    "await main()"
   ]
  },
  {
   "cell_type": "code",
   "execution_count": null,
   "metadata": {},
   "outputs": [],
   "source": [
    "# | hide\n",
    "# assert False, \"Stop here\""
   ]
  },
  {
   "cell_type": "markdown",
   "metadata": {},
   "source": [
    "#### Starting a client and server\n",
    " > on the same machine using UDP ports `14445`  with `server_system_ID=111, client_system_ID=222`"
   ]
  },
  {
   "cell_type": "code",
   "execution_count": null,
   "metadata": {},
   "outputs": [],
   "source": [
    "#| exports\n",
    "from UAV.mavlink.mavcom import MAVCom\n",
    "from UAV.mavlink.component import Component, mavutil\n",
    "import time\n",
    "\n",
    "MAV_TYPE_GCS = mavutil.mavlink.MAV_TYPE_GCS\n",
    "MAV_TYPE_CAMERA = mavutil.mavlink.MAV_TYPE_CAMERA\n",
    "\n",
    "class Cam1(Component):\n",
    "    def __init__(self, source_component, mav_type, debug=False):\n",
    "        super().__init__(source_component=source_component, mav_type=mav_type,\n",
    "                         debug=debug)\n",
    "\n",
    "class Cam2(Component):\n",
    "    def __init__(self, source_component, mav_type, debug=False):\n",
    "        super().__init__(source_component=source_component, mav_type=mav_type,\n",
    "                         debug=debug)\n",
    "class Cli(Component):\n",
    "    def __init__(self, source_component, mav_type, debug=False):\n",
    "        super().__init__( source_component=source_component, mav_type=mav_type,\n",
    "                         debug=debug)"
   ]
  },
  {
   "cell_type": "code",
   "execution_count": null,
   "metadata": {},
   "outputs": [],
   "source": [
    "#| exports\n",
    "def test_ack():\n",
    "    # Test sending a command and receiving an ack from client to server\n",
    "    with MAVCom(\"udpin:localhost:14445\", source_system=111, debug=False) as client:\n",
    "        with MAVCom(\"udpout:localhost:14445\", source_system=222, debug=False) as server:\n",
    "            client.add_component(Cli( mav_type=MAV_TYPE_GCS, source_component = 11, debug=False))\n",
    "            server.add_component(Cam1( mav_type=MAV_TYPE_CAMERA, source_component = 22, debug=False))\n",
    "            server.add_component(Cam1( mav_type=MAV_TYPE_CAMERA, source_component = 23, debug=False))\n",
    "            \n",
    "            for key, comp in client.component.items():\n",
    "                if comp.wait_heartbeat(target_system=222, target_component=22, timeout=0.1):\n",
    "                    print (\"*** Received heartbeat **** \" )\n",
    "            NUM_TO_SEND = 2\n",
    "            for i in range(NUM_TO_SEND):\n",
    "                client.component[11]._test_command(222, 22, 1)\n",
    "                client.component[11]._test_command(222, 23, 1)\n",
    "                \n",
    "            client.component[11]._test_command(222, 24, 1)\n",
    "    \n",
    "        print(f\"{server.source_system = };  {server.message_cnts = }\")\n",
    "        print(f\"{client.source_system = };  {client.message_cnts = }\")\n",
    "        print()\n",
    "        print(f\"{client.source_system = } \\n{client.summary()} \\n\")\n",
    "        print(f\"{server.source_system = } \\n{server.summary()} \\n\")\n",
    "    \n",
    "        assert client.component[11].num_cmds_sent == NUM_TO_SEND * 2 + 1\n",
    "        assert client.component[11].num_acks_rcvd == NUM_TO_SEND * 2\n",
    "        assert client.component[11].num_acks_drop == 1\n",
    "        assert server.component[22].num_cmds_rcvd == NUM_TO_SEND\n",
    "        assert server.component[23].num_cmds_rcvd == NUM_TO_SEND\n",
    "test_ack()"
   ]
  },
  {
   "cell_type": "code",
   "execution_count": null,
   "metadata": {},
   "outputs": [],
   "source": [
    "#| Hide\n",
    "# assert False, \"Stop here\""
   ]
  },
  {
   "cell_type": "code",
   "execution_count": null,
   "metadata": {},
   "outputs": [],
   "source": [
    "show_doc(Component.set_source_compenent)"
   ]
  },
  {
   "cell_type": "code",
   "execution_count": null,
   "metadata": {},
   "outputs": [],
   "source": [
    "show_doc(Component.send_heartbeat)"
   ]
  },
  {
   "cell_type": "code",
   "execution_count": null,
   "metadata": {},
   "outputs": [],
   "source": [
    "show_doc(Component.send_command)"
   ]
  },
  {
   "cell_type": "code",
   "execution_count": null,
   "metadata": {},
   "outputs": [],
   "source": [
    "show_doc(Component.wait_heartbeat)"
   ]
  },
  {
   "cell_type": "code",
   "execution_count": null,
   "metadata": {},
   "outputs": [],
   "source": [
    "show_doc(Component.wait_ack)"
   ]
  },
  {
   "cell_type": "code",
   "execution_count": null,
   "metadata": {},
   "outputs": [],
   "source": [
    "show_doc(Component.send_ping)"
   ]
  },
  {
   "cell_type": "markdown",
   "metadata": {},
   "source": [
    "#### Test with Serial ports\n",
    "Test using a Pixhawk connected via telemetry 2 and USB serial ports.\n",
    "CamClient is set to udpin:localhost:14445 and CamServer is set to udpout:localhost:14435 udpin is so that the client can receive UDP from the mavproxy server at localhost:14445\n",
    "mavproxy.py --master=/dev/ttyACM1 --baudrate 57600 --out udpout:localhost:14445 mavproxy.py --master=/dev/ttyACM3 --baudrate 57600 --out udpout:localhost:14435"
   ]
  },
  {
   "cell_type": "code",
   "execution_count": null,
   "metadata": {},
   "outputs": [],
   "source": [
    "# Test sending a command and receiving an ack from client to server\n",
    "with MAVCom(\"/dev/ttyACM0\", source_system=111, debug=False) as client:\n",
    "    with MAVCom(\"/dev/ttyUSB0\", source_system=222, debug=False) as server:\n",
    "        client.add_component(Cli(client, mav_type=MAV_TYPE_GCS, source_component = 11, debug=False))\n",
    "        server.add_component(Cam1(server, mav_type=MAV_TYPE_CAMERA, source_component = 22, debug=False))\n",
    "        server.add_component(Cam1(server, mav_type=MAV_TYPE_CAMERA, source_component = 23, debug=False))\n",
    "        \n",
    "        for key, comp in client.component.items():\n",
    "            if comp.wait_heartbeat(target_system=222, target_component=22, timeout=0.1):\n",
    "                print (\"*** Received heartbeat **** \" )\n",
    "        NUM_TO_SEND = 2\n",
    "        for i in range(NUM_TO_SEND):\n",
    "            client.component[11]._test_command(222, 22, 1)\n",
    "            client.component[11]._test_command(222, 23, 1)\n",
    "            \n",
    "        client.component[11]._test_command(222, 24, 1)\n",
    "\n",
    "    print(f\"{server.source_system = };  {server.message_cnts = }\")\n",
    "    print(f\"{client.source_system = };  {client.message_cnts = }\")\n",
    "    print()\n",
    "    print(f\"{client.source_system = } \\n{client.summary()} \\n\")\n",
    "    print(f\"{server.source_system = } \\n{server.summary()} \\n\")\n",
    "\n",
    "    assert client.component[11].num_cmds_sent == NUM_TO_SEND * 2 + 1\n",
    "    assert client.component[11].num_acks_rcvd == NUM_TO_SEND * 2\n",
    "    assert client.component[11].num_acks_drop == 1\n",
    "    assert server.component[22].num_cmds_rcvd == NUM_TO_SEND\n",
    "    assert server.component[23].num_cmds_rcvd == NUM_TO_SEND"
   ]
  },
  {
   "cell_type": "markdown",
   "metadata": {},
   "source": [
    "> For debugging help see http://localhost:3000/tutorials/mavlink_doc&debug.html and http://localhost:3000/tutorials/mavlink_doc&debug.html#debugging"
   ]
  },
  {
   "cell_type": "markdown",
   "metadata": {},
   "source": []
  },
  {
   "cell_type": "code",
   "execution_count": null,
   "metadata": {},
   "outputs": [],
   "source": [
    "#| hide\n",
    "# from nbdev import nbdev_export\n",
    "# nbdev.nbdev_export()"
   ]
  }
 ],
 "metadata": {
  "kernelspec": {
   "display_name": "python3",
   "language": "python",
   "name": "python3"
  }
 },
 "nbformat": 4,
 "nbformat_minor": 4
}
