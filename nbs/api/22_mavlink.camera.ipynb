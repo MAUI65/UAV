{
 "cells": [
  {
   "cell_type": "markdown",
   "metadata": {},
   "source": []
  },
  {
   "cell_type": "markdown",
   "metadata": {},
   "source": [
    "# Mavlink Camera\n",
    "> Mavlink Camera Component for sending commands to a camera on a companion computer or GCS\n",
    "> The server is on the companion computer and the client is on the ground station PC."
   ]
  },
  {
   "cell_type": "code",
   "execution_count": null,
   "metadata": {},
   "outputs": [],
   "source": [
    "#| default_exp mavlink.camera"
   ]
  },
  {
   "cell_type": "code",
   "execution_count": null,
   "metadata": {},
   "outputs": [
    {
     "name": "stdout",
     "output_type": "stream",
     "text": [
      "The autoreload extension is already loaded. To reload it, use:\n",
      "  %reload_ext autoreload\n"
     ]
    }
   ],
   "source": [
    "#| hide\n",
    "%load_ext autoreload\n",
    "%autoreload 2"
   ]
  },
  {
   "cell_type": "code",
   "execution_count": null,
   "metadata": {},
   "outputs": [],
   "source": [
    "#| hide\n",
    "# skip_showdoc: true to avoid running cells when rendering docs, and \n",
    "# skip_exec: true to skip this notebook when running tests. \n",
    "# this should be a raw cell "
   ]
  },
  {
   "cell_type": "raw",
   "metadata": {},
   "source": [
    "---\n",
    "skip_showdoc: true\n",
    "skip_exec: true\n",
    "---"
   ]
  },
  {
   "cell_type": "code",
   "execution_count": null,
   "metadata": {},
   "outputs": [],
   "source": [
    "#| export\n",
    "import time, os, sys\n",
    "\n",
    "from UAV.logging import logging\n",
    "from UAV.mavlink.mavcom import MAVCom\n",
    "from UAV.mavlink.component import Component, mavutil\n",
    "\n",
    "\n",
    "\n",
    "# from UAV.imports import *   # TODO why is this relative import on nbdev_export?\n"
   ]
  },
  {
   "cell_type": "code",
   "execution_count": null,
   "metadata": {},
   "outputs": [],
   "source": []
  },
  {
   "cell_type": "code",
   "execution_count": null,
   "metadata": {},
   "outputs": [],
   "source": [
    "#| hide\n",
    "from fastcore.utils import *\n",
    "from nbdev.showdoc import *\n",
    "from fastcore.test import *"
   ]
  },
  {
   "cell_type": "code",
   "execution_count": null,
   "metadata": {},
   "outputs": [],
   "source": []
  },
  {
   "cell_type": "code",
   "execution_count": null,
   "metadata": {},
   "outputs": [],
   "source": [
    "from viewsheen_sdk import GST_Video\n",
    "\n",
    "from viewsheen_sdk.gimbal_cntrl import pan_tilt, snapshot,  zoom, VS_IP_ADDRESS, VS_PORT, KeyReleaseThread"
   ]
  },
  {
   "cell_type": "code",
   "execution_count": null,
   "metadata": {},
   "outputs": [],
   "source": [
    "import socket\n",
    "sock = socket.socket(socket.AF_INET, socket.SOCK_STREAM)\n",
    "# Connect to viewsheen_sdk gimbal\n",
    "sock.connect((VS_IP_ADDRESS, VS_PORT))"
   ]
  },
  {
   "cell_type": "code",
   "execution_count": null,
   "metadata": {},
   "outputs": [],
   "source": []
  },
  {
   "cell_type": "code",
   "execution_count": null,
   "metadata": {},
   "outputs": [],
   "source": [
    "\n",
    "gimbal_speed = 40\n",
    "data = pan_tilt(gimbal_speed)\n",
    "sock.sendall(data)"
   ]
  },
  {
   "cell_type": "code",
   "execution_count": null,
   "metadata": {},
   "outputs": [
    {
     "ename": "AssertionError",
     "evalue": "Stop here",
     "output_type": "error",
     "traceback": [
      "\u001b[0;31m---------------------------------------------------------------------------\u001b[0m",
      "\u001b[0;31mAssertionError\u001b[0m                            Traceback (most recent call last)",
      "Cell \u001b[0;32mIn[55], line 1\u001b[0m\n\u001b[0;32m----> 1\u001b[0m \u001b[38;5;28;01massert\u001b[39;00m \u001b[38;5;28;01mFalse\u001b[39;00m, \u001b[38;5;124m\"\u001b[39m\u001b[38;5;124mStop here\u001b[39m\u001b[38;5;124m\"\u001b[39m\n",
      "\u001b[0;31mAssertionError\u001b[0m: Stop here"
     ]
    }
   ],
   "source": [
    "assert False, \"Stop here\""
   ]
  },
  {
   "cell_type": "code",
   "execution_count": null,
   "metadata": {},
   "outputs": [],
   "source": [
    "\n",
    "sock.close()"
   ]
  },
  {
   "cell_type": "code",
   "execution_count": null,
   "metadata": {},
   "outputs": [],
   "source": [
    "#| export\n",
    "class Camera(Component):\n",
    "    \"\"\"Create a mavlink Camera Component using a test GSTREAMER pipeline\"\"\"\n",
    "\n",
    "    def __init__(self, mav_connection,  # MavLinkBase connection\n",
    "                 source_component,  # used for component indication\n",
    "                 mav_type,  # used for heartbeat MAV_TYPE indication\n",
    "                 debug):  # logging level\n",
    "        \n",
    "        super().__init__(mav_connection=mav_connection, source_component=source_component, mav_type=mav_type,\n",
    "                         debug=debug)\n",
    "        \n",
    "\n",
    "    def start_streaming(self, frame_rate=30, resolution=0, bayer_pattern=0, video_stream_id=0):\n",
    "        \"\"\"Start streaming video\"\"\"\n",
    "        \n",
    "        # \"\"\"Send a command and wait for an ack\"\"\"\n",
    "        # \n",
    "        # self.send_command(target_system, target_component, cmd_id)\n",
    "        # self.wait_ack(target_system=target_system, target_component=target_component, cmd_id=cmd_id)\n",
    "\n"
   ]
  },
  {
   "cell_type": "code",
   "execution_count": null,
   "metadata": {},
   "outputs": [],
   "source": [
    "# | hide\n",
    "# assert False, \"Stop here\""
   ]
  },
  {
   "cell_type": "code",
   "execution_count": null,
   "metadata": {},
   "outputs": [],
   "source": [
    "show_doc(Component)"
   ]
  },
  {
   "cell_type": "markdown",
   "metadata": {},
   "source": [
    "#### Test locally using UDP ports"
   ]
  },
  {
   "cell_type": "markdown",
   "metadata": {},
   "source": [
    "#### Starting a client and server\n",
    " > on the same machine using UDP ports `14445`  with `server_system_ID=111, client_system_ID=222`"
   ]
  },
  {
   "cell_type": "code",
   "execution_count": null,
   "metadata": {},
   "outputs": [],
   "source": [
    "from UAV.mavlink.mavcom import MAVCom\n",
    "from UAV.mavlink.component import Component, mavutil\n",
    "import time\n",
    "\n",
    "MAV_TYPE_GCS = mavutil.mavlink.MAV_TYPE_GCS\n",
    "MAV_TYPE_CAMERA = mavutil.mavlink.MAV_TYPE_CAMERA\n",
    "\n",
    "class Cam1(Component):\n",
    "    def __init__(self,mav_connection, source_component, mav_type, debug=False):\n",
    "        super().__init__(mav_connection=mav_connection, source_component=source_component, mav_type=mav_type,\n",
    "                         debug=debug)\n",
    "\n",
    "class Cam2(Component):\n",
    "    def __init__(self,mav_connection, source_component, mav_type, debug=False):\n",
    "        super().__init__(mav_connection=mav_connection, source_component=source_component, mav_type=mav_type,\n",
    "                         debug=debug)\n",
    "class Cli(Component):\n",
    "    def __init__(self,mav_connection, source_component, mav_type, debug=False):\n",
    "        super().__init__(mav_connection=mav_connection, source_component=source_component, mav_type=mav_type,\n",
    "                         debug=debug)"
   ]
  },
  {
   "cell_type": "code",
   "execution_count": null,
   "metadata": {},
   "outputs": [],
   "source": [
    "# Test sending a command and receiving an ack from client to server\n",
    "with MAVCom(\"udpin:localhost:14445\", source_system=111, debug=False) as client:\n",
    "    with MAVCom(\"udpout:localhost:14445\", source_system=222, debug=False) as server:\n",
    "        client.add_component(Cli(client, mav_type=MAV_TYPE_GCS, source_component = 11, debug=False))\n",
    "        server.add_component(Cam1(server, mav_type=MAV_TYPE_CAMERA, source_component = 22, debug=False))\n",
    "        server.add_component(Cam1(server, mav_type=MAV_TYPE_CAMERA, source_component = 23, debug=False))\n",
    "        \n",
    "        for key, comp in client.component.items():\n",
    "            if comp.wait_heartbeat(target_system=222, target_component=22, timeout=0.1):\n",
    "                print (\"*** Received heartbeat **** \" )\n",
    "        NUM_TO_SEND = 2\n",
    "        for i in range(NUM_TO_SEND):\n",
    "            client.component[11]._test_command(222, 22, 1)\n",
    "            client.component[11]._test_command(222, 23, 1)\n",
    "            \n",
    "        client.component[11]._test_command(222, 24, 1)\n",
    "\n",
    "    print(f\"{server.source_system = };  {server.message_cnts = }\")\n",
    "    print(f\"{client.source_system = };  {client.message_cnts = }\")\n",
    "    print()\n",
    "    print(f\"{client.source_system = } \\n{client.summary()} \\n\")\n",
    "    print(f\"{server.source_system = } \\n{server.summary()} \\n\")\n",
    "\n",
    "    assert client.component[11].num_cmds_sent == NUM_TO_SEND * 2 + 1\n",
    "    assert client.component[11].num_acks_rcvd == NUM_TO_SEND * 2\n",
    "    assert client.component[11].num_acks_drop == 1\n",
    "    assert server.component[22].num_cmds_rcvd == NUM_TO_SEND\n",
    "    assert server.component[23].num_cmds_rcvd == NUM_TO_SEND"
   ]
  },
  {
   "cell_type": "code",
   "execution_count": null,
   "metadata": {},
   "outputs": [],
   "source": [
    "#| Hide\n",
    "# assert False, \"Stop here\""
   ]
  },
  {
   "cell_type": "code",
   "execution_count": null,
   "metadata": {},
   "outputs": [],
   "source": [
    "show_doc(Component.set_source_compenent)"
   ]
  },
  {
   "cell_type": "code",
   "execution_count": null,
   "metadata": {},
   "outputs": [],
   "source": [
    "show_doc(Component.send_heartbeat)"
   ]
  },
  {
   "cell_type": "code",
   "execution_count": null,
   "metadata": {},
   "outputs": [],
   "source": [
    "show_doc(Component.on_command_rcvd)"
   ]
  },
  {
   "cell_type": "code",
   "execution_count": null,
   "metadata": {},
   "outputs": [],
   "source": [
    "show_doc(Component.send_command)"
   ]
  },
  {
   "cell_type": "code",
   "execution_count": null,
   "metadata": {},
   "outputs": [],
   "source": [
    "show_doc(Component.wait_heartbeat)"
   ]
  },
  {
   "cell_type": "code",
   "execution_count": null,
   "metadata": {},
   "outputs": [],
   "source": [
    "show_doc(Component.wait_ack)"
   ]
  },
  {
   "cell_type": "code",
   "execution_count": null,
   "metadata": {},
   "outputs": [],
   "source": [
    "show_doc(Component.send_ping)"
   ]
  },
  {
   "cell_type": "markdown",
   "metadata": {},
   "source": [
    "#### Test with Serial ports\n",
    "Test using a Pixhawk connected via telemetry 2 and USB serial ports.\n",
    "CamClient is set to udpin:localhost:14445 and CamServer is set to udpout:localhost:14435 udpin is so that the client can receive UDP from the mavproxy server at localhost:14445\n",
    "mavproxy.py --master=/dev/ttyACM1 --baudrate 57600 --out udpout:localhost:14445 mavproxy.py --master=/dev/ttyACM3 --baudrate 57600 --out udpout:localhost:14435"
   ]
  },
  {
   "cell_type": "code",
   "execution_count": null,
   "metadata": {},
   "outputs": [],
   "source": [
    "# Test sending a command and receiving an ack from client to server\n",
    "with MAVCom(\"/dev/ttyACM0\", source_system=111, debug=False) as client:\n",
    "    with MAVCom(\"/dev/ttyUSB0\", source_system=222, debug=False) as server:\n",
    "        client.add_component(Cli(client, mav_type=MAV_TYPE_GCS, source_component = 11, debug=False))\n",
    "        server.add_component(Cam1(server, mav_type=MAV_TYPE_CAMERA, source_component = 22, debug=False))\n",
    "        server.add_component(Cam1(server, mav_type=MAV_TYPE_CAMERA, source_component = 23, debug=False))\n",
    "        \n",
    "        for key, comp in client.component.items():\n",
    "            if comp.wait_heartbeat(target_system=222, target_component=22, timeout=0.1):\n",
    "                print (\"*** Received heartbeat **** \" )\n",
    "        NUM_TO_SEND = 2\n",
    "        for i in range(NUM_TO_SEND):\n",
    "            client.component[11]._test_command(222, 22, 1)\n",
    "            client.component[11]._test_command(222, 23, 1)\n",
    "            \n",
    "        client.component[11]._test_command(222, 24, 1)\n",
    "\n",
    "    print(f\"{server.source_system = };  {server.message_cnts = }\")\n",
    "    print(f\"{client.source_system = };  {client.message_cnts = }\")\n",
    "    print()\n",
    "    print(f\"{client.source_system = } \\n{client.summary()} \\n\")\n",
    "    print(f\"{server.source_system = } \\n{server.summary()} \\n\")\n",
    "\n",
    "    assert client.component[11].num_cmds_sent == NUM_TO_SEND * 2 + 1\n",
    "    assert client.component[11].num_acks_rcvd == NUM_TO_SEND * 2\n",
    "    assert client.component[11].num_acks_drop == 1\n",
    "    assert server.component[22].num_cmds_rcvd == NUM_TO_SEND\n",
    "    assert server.component[23].num_cmds_rcvd == NUM_TO_SEND"
   ]
  },
  {
   "cell_type": "markdown",
   "metadata": {},
   "source": [
    "> For debugging help see http://localhost:3000/tutorials/mavlink_doc&debug.html and http://localhost:3000/tutorials/mavlink_doc&debug.html#debugging"
   ]
  },
  {
   "cell_type": "markdown",
   "metadata": {},
   "source": []
  },
  {
   "cell_type": "code",
   "execution_count": null,
   "metadata": {},
   "outputs": [],
   "source": [
    "#| hide\n",
    "# from nbdev import nbdev_export\n",
    "# nbdev_export()"
   ]
  }
 ],
 "metadata": {
  "kernelspec": {
   "display_name": "python3",
   "language": "python",
   "name": "python3"
  }
 },
 "nbformat": 4,
 "nbformat_minor": 4
}
