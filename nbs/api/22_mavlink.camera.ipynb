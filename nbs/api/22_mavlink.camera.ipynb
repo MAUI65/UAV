{
 "cells": [
  {
   "cell_type": "markdown",
   "metadata": {},
   "source": []
  },
  {
   "cell_type": "markdown",
   "metadata": {},
   "source": [
    "# Mavlink Camera\n",
    "> Mavlink Camera Component for sending commands to a camera on a companion computer or GCS\n",
    "> The server is on the companion computer and the client is on the ground station PC."
   ]
  },
  {
   "cell_type": "code",
   "execution_count": null,
   "metadata": {},
   "outputs": [],
   "source": []
  },
  {
   "cell_type": "code",
   "execution_count": null,
   "metadata": {},
   "outputs": [],
   "source": [
    "#| hide\n",
    "%load_ext autoreload\n",
    "%autoreload 2"
   ]
  },
  {
   "cell_type": "code",
   "execution_count": null,
   "metadata": {},
   "outputs": [],
   "source": [
    "#| hide\n",
    "# skip_showdoc: true to avoid running cells when rendering docs, and \n",
    "# skip_exec: true to skip this notebook when running tests. \n",
    "# this should be a raw cell "
   ]
  },
  {
   "cell_type": "raw",
   "metadata": {},
   "source": [
    "---\n",
    "skip_showdoc: true\n",
    "skip_exec: true\n",
    "---"
   ]
  },
  {
   "cell_type": "code",
   "execution_count": null,
   "metadata": {},
   "outputs": [
    {
     "name": "stdout",
     "output_type": "stream",
     "text": [
      "Btn_State.RUNNING = 1\n"
     ]
    }
   ],
   "source": [
    "\n",
    "import time\n",
    "from UAV.cameras.gst_cam import GSTCamera\n",
    "from UAV.logging import LogLevels\n",
    "from UAV.manager import Gui\n",
    "from UAV.mavlink import CameraClient, CameraServer, MAVCom, mavlink, GimbalServerViewsheen\n",
    "\n",
    "\n",
    "from UAV.mavlink.camera_client import *\n",
    "from UAV.mavlink.camera_server import *\n",
    "from UAV.utils.display import *\n",
    "from fastcore.test import *"
   ]
  },
  {
   "cell_type": "code",
   "execution_count": null,
   "metadata": {},
   "outputs": [],
   "source": [
    "#| hide\n",
    "from fastcore.utils import *\n",
    "from nbdev.showdoc import *\n"
   ]
  },
  {
   "cell_type": "markdown",
   "metadata": {},
   "source": [
    "### Implementation of these commands:\n",
    ">\n",
    "> [MAV_CMD_REQUEST_CAMERA_CAPTURE_STATUS = 527](https://mavlink.io/en/messages/common.html#MAV_CMD_REQUEST_CAMERA_CAPTURE_STATUS)\n",
    "[MAV_CMD_REQUEST_CAMERA_INFORMATION = 523](https://mavlink.io/en/messages/common.html#MAV_CMD_REQUEST_CAMERA_INFORMATION)\n",
    "[MAV_CMD_REQUEST_CAMERA_SETTINGS = 524](https://mavlink.io/en/messages/common.html#MAV_CMD_REQUEST_CAMERA_SETTINGS)\n",
    "[MAV_CMD_REQUEST_STORAGE_INFORMATION = 525](https://mavlink.io/en/messages/common.html#MAV_CMD_REQUEST_STORAGE_INFORMATION)\n",
    "[MAV_CMD_STORAGE_FORMAT = 526](https://mavlink.io/en/messages/common.html#MAV_CMD_STORAGE_FORMAT)\n",
    "[MAV_CMD_SET_CAMERA_ZOOM = 531](https://mavlink.io/en/messages/common.html#MAV_CMD_SET_CAMERA_ZOOM)\n",
    "[MAV_CMD_SET_CAMERA_FOCUS = 532](https://mavlink.io/en/messages/common.html#MAV_CMD_SET_CAMERA_FOCUS)\n",
    "[MAV_CMD_IMAGE_START_CAPTURE = 2000](https://mavlink.io/en/messages/common.html#MAV_CMD_IMAGE_START_CAPTURE)\n",
    "[MAV_CMD_IMAGE_STOP_CAPTURE = 2001](https://mavlink.io/en/messages/common.html#MAV_CMD_IMAGE_STOP_CAPTURE)\n",
    "> \n",
    "> [MAV_CMD_REQUEST_VIDEO_STREAM_INFORMATION = 2504](https://mavlink.io/en/messages/common.html#MAV_CMD_REQUEST_VIDEO_STREAM_INFORMATION)\n",
    "[MAV_CMD_REQUEST_VIDEO_STREAM_STATUS = 2505](https://mavlink.io/en/messages/common.html#MAV_CMD_REQUEST_VIDEO_STREAM_STATUS)\n",
    "[MAV_CMD_VIDEO_START_CAPTURE = 2500](https://mavlink.io/en/messages/common.html#MAV_CMD_VIDEO_START_CAPTURE)\n",
    "[MAV_CMD_VIDEO_STOP_CAPTURE = 2501](https://mavlink.io/en/messages/common.html#MAV_CMD_VIDEO_STOP_CAPTURE)\n",
    "[MAV_CMD_SET_CAMERA_MODE = 530](https://mavlink.io/en/messages/common.html#MAV_CMD_SET_CAMERA_MODE)\n",
    "> \n",
    "**Note**\n",
    "The simulated camera is implemented in PX4 [gazebo_camera_manager_plugin.cpp](https://github.com/PX4/PX4-SITL_gazebo-classic/blob/main/src/gazebo_camera_manager_plugin.cpp).\n"
   ]
  },
  {
   "cell_type": "code",
   "execution_count": null,
   "metadata": {},
   "outputs": [],
   "source": [
    "#| exports\n",
    "# from pymavlink.dialects.v20 import ardupilotmega as mav\n",
    "# from pymavlink.dialects.v20.ardupilotmega import MAVLink\n",
    "\n",
    "\n",
    "NAN = float(\"nan\")\n",
    "\n",
    "\"\"\"\n",
    "MAV_CMD_REQUEST_CAMERA_CAPTURE_STATUS = 527 # https://mavlink.io/en/messages/common.html#MAV_CMD_REQUEST_CAMERA_CAPTURE_STATUS\n",
    "MAV_CMD_REQUEST_CAMERA_INFORMATION = 521 # https://mavlink.io/en/messages/common.html#MAV_CMD_REQUEST_CAMERA_INFORMATION\n",
    "MAV_CMD_REQUEST_CAMERA_SETTINGS = 522 # https://mavlink.io/en/messages/common.html#MAV_CMD_REQUEST_CAMERA_SETTINGS\n",
    "MAV_CMD_REQUEST_STORAGE_INFORMATION = 525 # https://mavlink.io/en/messages/common.html#MAV_CMD_REQUEST_STORAGE_INFORMATION\n",
    "MAV_CMD_STORAGE_FORMAT = 526 # https://mavlink.io/en/messages/common.html#MAV_CMD_STORAGE_FORMAT\n",
    "MAV_CMD_SET_CAMERA_ZOOM = 531 # https://mavlink.io/en/messages/common.html#MAV_CMD_SET_CAMERA_ZOOM\n",
    "MAV_CMD_SET_CAMERA_FOCUS = 532 # https://mavlink.io/en/messages/common.html#MAV_CMD_SET_CAMERA_FOCUS\n",
    "MAV_CMD_IMAGE_START_CAPTURE = 2000  # https://mavlink.io/en/messages/common.html#MAV_CMD_IMAGE_START_CAPTURE\n",
    "MAV_CMD_IMAGE_STOP_CAPTURE = 2001  # https://mavlink.io/en/messages/common.html#MAV_CMD_IMAGE_STOP_CAPTURE\n",
    "MAV_CMD_REQUEST_VIDEO_STREAM_INFORMATION = 2504 # https://mavlink.io/en/messages/common.html#MAV_CMD_REQUEST_VIDEO_STREAM_INFORMATION\n",
    "MAV_CMD_REQUEST_VIDEO_STREAM_STATUS = 2505 # https://mavlink.io/en/messages/common.html#MAV_CMD_REQUEST_VIDEO_STREAM_STATUS\n",
    "MAV_CMD_VIDEO_START_CAPTURE = 2500 # https://mavlink.io/en/messages/common.html#MAV_CMD_VIDEO_START_CAPTURE\n",
    "MAV_CMD_VIDEO_STOP_CAPTURE = 2501 # https://mavlink.io/en/messages/common.html#MAV_CMD_VIDEO_STOP_CAPTURE\n",
    "MAV_CMD_SET_CAMERA_MODE = 530 # https://mavlink.io/en/messages/common.html#MAV_CMD_SET_CAMERA_MODE\n",
    "\n",
    "\"\"\"\n",
    "CAMERA_INFORMATION = mavlink.MAVLINK_MSG_ID_CAMERA_INFORMATION # https://mavlink.io/en/messages/common.html#CAMERA_INFORMATION\n",
    "CAMERA_SETTINGS = mavlink.MAVLINK_MSG_ID_CAMERA_SETTINGS # https://mavlink.io/en/messages/common.html#CAMERA_SETTINGS\n",
    "STORAGE_INFORMATION = mavlink.MAVLINK_MSG_ID_STORAGE_INFORMATION # https://mavlink.io/en/messages/common.html#STORAGE_INFORMATION\n",
    "CAMERA_CAPTURE_STATUS = mavlink.MAVLINK_MSG_ID_CAMERA_CAPTURE_STATUS # https://mavlink.io/en/messages/common.html#CAMERA_CAPTURE_STATUS\n",
    "CAMERA_IMAGE_CAPTURED = mavlink.MAVLINK_MSG_ID_CAMERA_IMAGE_CAPTURED # https://mavlink.io/en/messages/common.html#CAMERA_IMAGE_CAPTURED\n"
   ]
  },
  {
   "cell_type": "markdown",
   "metadata": {},
   "source": [
    "### Camera Server \n",
    "> The server is on the companion computer and is used to receive commands from the camera on the ground station PC."
   ]
  },
  {
   "cell_type": "code",
   "execution_count": null,
   "metadata": {},
   "outputs": [
    {
     "data": {
      "text/markdown": "---\n\n### CameraServer\n\n>      CameraServer (source_component=100, mav_type=30, camera=None,\n>                    loglevel:UAV.logging.LogLevels|int=20)\n\nCreate a mavlink Camera server Component, cameras argument will normally be a  gstreamer pipeline\n\n|    | **Type** | **Default** | **Details** |\n| -- | -------- | ----------- | ----------- |\n| source_component | int | 100 | used for component indication |\n| mav_type | int | 30 | used for heartbeat MAV_TYPE indication |\n| camera | NoneType | None | cameras  (or FakeCamera for testing) |\n| loglevel | LogLevels \\| int | 20 | logging level |",
      "text/plain": "---\n\n### CameraServer\n\n>      CameraServer (source_component=100, mav_type=30, camera=None,\n>                    loglevel:UAV.logging.LogLevels|int=20)\n\nCreate a mavlink Camera server Component, cameras argument will normally be a  gstreamer pipeline\n\n|    | **Type** | **Default** | **Details** |\n| -- | -------- | ----------- | ----------- |\n| source_component | int | 100 | used for component indication |\n| mav_type | int | 30 | used for heartbeat MAV_TYPE indication |\n| camera | NoneType | None | cameras  (or FakeCamera for testing) |\n| loglevel | LogLevels \\| int | 20 | logging level |"
     },
     "execution_count": null,
     "metadata": {},
     "output_type": "execute_result"
    }
   ],
   "source": [
    "show_doc(CameraServer)"
   ]
  },
  {
   "cell_type": "code",
   "execution_count": null,
   "metadata": {},
   "outputs": [
    {
     "name": "stderr",
     "output_type": "stream",
     "text": [
      "\u001b[32mINFO |28.955| mavcom.MAVCom   | mavcom.py :386 | Thread-6 ( | MainProces | MAVLink Mav2: True, source_system: 222\u001b[0m\n",
      "\u001b[33mWARNI|28.957| mavcom.CameraSe | camera_ser:114 | MainThread | MainProces | Component has no cameras object\u001b[0m\n",
      "\u001b[32mINFO |28.957| mavcom.CameraSe | basecompon:123 | MainThread | MainProces | Component Started self.source_component = 100, self.mav_type = 30, self.source_system = 222\u001b[0m\n",
      "\u001b[33mWARNI|28.958| mavcom.CameraSe | camera_ser:114 | MainThread | MainProces | Component has no cameras object\u001b[0m\n",
      "\u001b[32mINFO |28.958| mavcom.CameraSe | basecompon:123 | MainThread | MainProces | Component Started self.source_component = 101, self.mav_type = 30, self.source_system = 222\u001b[0m\n",
      "\u001b[33mWARNI|28.959| mavcom.CameraSe | camera_ser:114 | MainThread | MainProces | Component has no cameras object\u001b[0m\n",
      "\u001b[32mINFO |28.959| mavcom.CameraSe | basecompon:123 | MainThread | MainProces | Component Started self.source_component = 102, self.mav_type = 30, self.source_system = 222\u001b[0m\n"
     ]
    },
    {
     "name": "stdout",
     "output_type": "stream",
     "text": [
      "UAV                             \n",
      "UAV                             \n",
      "UAV                             \n"
     ]
    },
    {
     "name": "stderr",
     "output_type": "stream",
     "text": [
      "\u001b[32mINFO |30.959| mavcom.CameraSe | basecompon:417 | MainThread | MainProces | CameraServer closed (not waiting for _t_heartbeat daemon thread)\u001b[0m\n",
      "\u001b[32mINFO |30.960| mavcom.CameraSe | basecompon:417 | MainThread | MainProces | CameraServer closed (not waiting for _t_heartbeat daemon thread)\u001b[0m\n",
      "\u001b[32mINFO |30.960| mavcom.CameraSe | basecompon:417 | MainThread | MainProces | CameraServer closed (not waiting for _t_heartbeat daemon thread)\u001b[0m\n",
      "\u001b[32mINFO |30.960| mavcom.MAVCom   | mavcom.py :442 | MainThread | MainProces | MAVCom  closed\u001b[0m\n"
     ]
    }
   ],
   "source": [
    "# run a server that can receive commands from a client\n",
    "from UAV.logging import LogLevels\n",
    "\n",
    "# start a mavlink server that can receive commands from a client\n",
    "with MAVCom(\"udpout:localhost:14445\", source_system=222, loglevel=LogLevels.DEBUG) as UAV_server:\n",
    "    # add the camera server components to the server\n",
    "    UAV_server.add_component(CameraServer(mav_type=mavlink.MAV_TYPE_CAMERA, source_component=mavlink.MAV_COMP_ID_CAMERA, camera=None))\n",
    "    UAV_server.add_component(CameraServer(mavlink.MAV_COMP_ID_CAMERA2))\n",
    "    UAV_server.add_component(CameraServer(mavlink.MAV_COMP_ID_CAMERA3))\n",
    "    \n",
    "    time.sleep(1)\n"
   ]
  },
  {
   "cell_type": "code",
   "execution_count": null,
   "metadata": {},
   "outputs": [
    {
     "name": "stdout",
     "output_type": "stream",
     "text": [
      "Supported Commands: https://mavlink.io/en/messages/common.html#mav_commands\n",
      " Cmd = MAV_CMD_REQUEST_MESSAGE: 512 \n",
      " Cmd = MAV_CMD_STORAGE_FORMAT: 526 \n",
      " Cmd = MAV_CMD_SET_CAMERA_ZOOM: 531 \n",
      " Cmd = MAV_CMD_IMAGE_START_CAPTURE: 2000 \n",
      " Cmd = MAV_CMD_IMAGE_STOP_CAPTURE: 2001 \n",
      " Cmd = MAV_CMD_VIDEO_START_CAPTURE: 2500 \n",
      " Cmd = MAV_CMD_VIDEO_STOP_CAPTURE: 2501 \n",
      " Cmd = MAV_CMD_SET_CAMERA_MODE: 530 \n",
      " Cmd = MAV_CMD_VIDEO_START_STREAMING: 2502 \n",
      " Cmd = MAV_CMD_VIDEO_STOP_STREAMING: 2503 \n",
      "Supported Message Requests:  https://mavlink.io/en/messages/common.html#messages\n",
      "\n",
      "MAVLINK_MSG_ID_CAMERA_INFORMATION:  259\n",
      "MAVLINK_MSG_ID_CAMERA_SETTINGS:  260\n",
      "MAVLINK_MSG_ID_STORAGE_INFORMATION:  261\n",
      "MAVLINK_MSG_ID_CAMERA_CAPTURE_STATUS:  262\n",
      "MAVLINK_MSG_ID_CAMERA_IMAGE_CAPTURED:  263\n",
      "MAVLINK_MSG_ID_VIDEO_STREAM_INFORMATION:  269\n",
      "MAVLINK_MSG_ID_VIDEO_STREAM_STATUS:  270\n"
     ]
    }
   ],
   "source": [
    "CameraServer().list_commands()"
   ]
  },
  {
   "cell_type": "markdown",
   "metadata": {},
   "source": [
    "### Camera Client \n",
    "> The client is on the ground station PC and is used to send commands to the camera on the companion computer."
   ]
  },
  {
   "cell_type": "code",
   "execution_count": null,
   "metadata": {},
   "outputs": [
    {
     "data": {
      "text/markdown": "---\n\n### CameraClient\n\n>      CameraClient (source_component:int, mav_type:int,\n>                    loglevel:UAV.logging.LogLevels|int=20)\n\nCreate a client component to send commands to a companion computer or GCS that will control a cameras via a CameraServer instance\n\n|    | **Type** | **Default** | **Details** |\n| -- | -------- | ----------- | ----------- |\n| source_component | int |  | used for component indication |\n| mav_type | int |  | used for heartbeat MAV_TYPE indication |\n| loglevel | LogLevels \\| int | 20 | logging level |",
      "text/plain": "---\n\n### CameraClient\n\n>      CameraClient (source_component:int, mav_type:int,\n>                    loglevel:UAV.logging.LogLevels|int=20)\n\nCreate a client component to send commands to a companion computer or GCS that will control a cameras via a CameraServer instance\n\n|    | **Type** | **Default** | **Details** |\n| -- | -------- | ----------- | ----------- |\n| source_component | int |  | used for component indication |\n| mav_type | int |  | used for heartbeat MAV_TYPE indication |\n| loglevel | LogLevels \\| int | 20 | logging level |"
     },
     "execution_count": null,
     "metadata": {},
     "output_type": "execute_result"
    }
   ],
   "source": [
    "show_doc(CameraClient)"
   ]
  },
  {
   "cell_type": "markdown",
   "metadata": {},
   "source": [
    "#### Example: CameraClient"
   ]
  },
  {
   "cell_type": "code",
   "execution_count": null,
   "metadata": {},
   "outputs": [
    {
     "name": "stderr",
     "output_type": "stream",
     "text": [
      "\u001b[37mDEBUG|31.104| mavcom.CameraCl | basecompon:119 | MainThread | MainProces | set_mav_connection CameraClient general.py:119 self.mav_com = <MAVCom>\u001b[0m\n",
      "\u001b[37mDEBUG|31.104| mavcom.CameraCl | basecompon:165 | Thread-16  | MainProces | Starting heartbeat type: 6 to all Systems and Components\u001b[0m\n",
      "\u001b[37mDEBUG|31.105| mavcom.CameraCl | basecompon:127 | MainThread | MainProces | Called from Component.start_mav_connection(), override to add startup behaviour\u001b[0m\n",
      "\u001b[37mDEBUG|31.105| mavcom.CameraCl | basecompon:168 | Thread-16  | MainProces | Sent heartbeat 6 self.source_system = 111 self.source_component = 11\u001b[0m\n",
      "\u001b[32mINFO |31.105| mavcom.CameraCl | basecompon:123 | MainThread | MainProces | Component Started self.source_component = 11, self.mav_type = 6, self.source_system = 111\u001b[0m\n",
      "\u001b[32mINFO |32.105| mavcom.CameraCl | basecompon:417 | MainThread | MainProces | CameraClient closed (not waiting for _t_heartbeat daemon thread)\u001b[0m\n",
      "\u001b[37mDEBUG|32.107| mavcom.CameraCl | basecompon:168 | Thread-16  | MainProces | Sent heartbeat 6 self.source_system = 111 self.source_component = 11\u001b[0m\n"
     ]
    }
   ],
   "source": [
    "# run a client that can send commands to a server\n",
    "with MAVCom(\"udpin:localhost:14445\", source_system=111, loglevel=LogLevels.CRITICAL) as client: \n",
    "    # add the camera client component to the client\n",
    "    gcs:CameraClient = client.add_component( CameraClient(mav_type=mavlink.MAV_TYPE_GCS, source_component=11, loglevel=LogLevels.DEBUG) )\n"
   ]
  },
  {
   "cell_type": "code",
   "execution_count": null,
   "metadata": {},
   "outputs": [
    {
     "data": {
      "text/markdown": "---\n\n### BaseComponent.append_message_handler\n\n>      BaseComponent.append_message_handler (callback:Callable)\n\nappend the callback function for when a command is received.\n\n---\n\n### BaseComponent.close\n\n>      BaseComponent.close ()\n\n---\n\n### BaseComponent.count_message\n\n>      BaseComponent.count_message (msg)\n\nCount a message by adding it to the message_cnts dictionary. indexed by system and message type\n\n---\n\n### CameraClient.image_start_capture\n\n>      CameraClient.image_start_capture (target_system=None,\n>                                        target_component=None, interval=0,\n>                                        count=1)\n\nStart image capture sequence.\n\n|    | **Type** | **Default** | **Details** |\n| -- | -------- | ----------- | ----------- |\n| target_system | NoneType | None |  |\n| target_component | NoneType | None |  |\n| interval | int | 0 | Image capture interval |\n| count | int | 1 | Number of images to capture (0 for unlimited) |\n\n---\n\n### CameraClient.image_stop_capture\n\n>      CameraClient.image_stop_capture (target_system=None,\n>                                       target_component=None)\n\nStop image capture sequence\n\n---\n\n### Component.message_callback_cond\n\n>      Component.message_callback_cond (msg_id, target_system, target_component,\n>                                       timeout=1)\n\nRegister a callback for a message received from a component server\nReturns the message\n\n**Note: async function** \n\n\n\n---\n\n### Component.on_mav_connection\n\n>      Component.on_mav_connection ()\n\n---\n\n### Component.on_message\n\n>      Component.on_message\n>                            (msg:pymavlink.dialects.v20.ardupilotmega.MAVLink_m\n>                            essage)\n\nCallback for a command received from a component server\n\n---\n\n### Component.request_message\n\n>      Component.request_message (msg_id, params=None, target_system=None,\n>                                 target_component=None, timeout=1)\n\nRequest the target system(s) emit a single instance of a specified message (i.e. a \"one-shot\" version of MAV_CMD_SET_MESSAGE_INTERVAL).\nhttps://mavlink.io/en/messages/common.html#MAV_CMD_REQUEST_MESSAGE\n\n**Note: async function** \n\n\n\n---\n\n### Component.request_message_stream\n\n>      Component.request_message_stream (target_system=None,\n>                                        target_component=None, msg_id:int=147,\n>                                        interval:int=1000000,\n>                                        response_target:int=0)\n\nA system can request that additional messages are sent as a stream, or change the rate at which existing streamed messages are sent,\nusing the MAV_CMD_SET_MESSAGE_INTERVAL command. A single instance of a message can be requested by sending MAV_CMD_REQUEST_MESSAGE.\nSee https://mavlink.io/en/mavgen_python/howto_requestmessages.html\nSee https://mavlink.io/en/messages/common.html#MAV_CMD_SET_MESSAGE_INTERVAL\n\n**Note: async function** \n\n\n\n---\n\n### BaseComponent.send_ack\n\n>      BaseComponent.send_ack (msg, ack_result:object=0)\n\nSend an ACK message to indicate a command was received.\n\n---\n\n### BaseComponent.send_command\n\n>      BaseComponent.send_command (target_system:int, target_component:int,\n>                                  command_id:int, params:list, timeout=0.5)\n\n**Note: async function** \n\n\n\n---\n\n### Component.send_message\n\n>      Component.send_message (msg)\n\nSend a message to a component server\n\n---\n\n### BaseComponent.send_ping\n\n>      BaseComponent.send_ping (target_system:int, target_component:int,\n>                               ping_num:int=None)\n\nSend self.max_pings * ping messages to test if the server is alive.\n\n---\n\n### CameraClient.set_camera_mode\n\n>      CameraClient.set_camera_mode (target_system=None, target_component=None,\n>                                    mode_id=0)\n\nSet the camera mode\n\n|    | **Type** | **Default** | **Details** |\n| -- | -------- | ----------- | ----------- |\n| target_system | NoneType | None |  |\n| target_component | NoneType | None |  |\n| mode_id | int | 0 | https://mavlink.io/en/messages/common.html#CAMERA_MODE |\n\n---\n\n### CameraClient.set_camera_zoom\n\n>      CameraClient.set_camera_zoom (target_system=None, target_component=None,\n>                                    zoom_type=0, zoom_value=1)\n\nSet the cameras zoom\n\n|    | **Type** | **Default** | **Details** |\n| -- | -------- | ----------- | ----------- |\n| target_system | NoneType | None |  |\n| target_component | NoneType | None |  |\n| zoom_type | int | 0 |  |\n| zoom_value | int | 1 | 0 to 100 zoom value |\n\n---\n\n### BaseComponent.set_log\n\n>      BaseComponent.set_log (loglevel)\n\n---\n\n### BaseComponent.set_mav_connection\n\n>      BaseComponent.set_mav_connection (mav_com:MAVCom)\n\nSet the mav_connection for the component\n\n---\n\n### Component.set_message_callback_cond\n\n>      Component.set_message_callback_cond (msg_id, target_system,\n>                                           target_component)\n\nRegister a callback condition for a message received from a component server\n\n---\n\n### BaseComponent.set_source_compenent\n\n>      BaseComponent.set_source_compenent ()\n\nSet the source component for the master.mav\n\n---\n\n### BaseComponent.set_target\n\n>      BaseComponent.set_target (target_system, target_component)\n\nSet the target system and component for the gimbal\n\n---\n\n### CameraClient.storage_format\n\n>      CameraClient.storage_format (target_system=None, target_component=None)\n\nFormat storage (for cases where cameras has storage)\n\n---\n\n### BaseComponent.test_command\n\n>      BaseComponent.test_command (target_system:int, target_component:int,\n>                                  camera_id:int)\n\nexample: MAV_CMD_DO_DIGICAM_CONTROL to trigger a cameras\n\n**Note: async function** \n\n\n\n---\n\n### CameraClient.video_start_capture\n\n>      CameraClient.video_start_capture (target_system=None,\n>                                        target_component=None,\n>                                        video_stream_id=0, frequency=1)\n\nStart video capture\n\n|    | **Type** | **Default** | **Details** |\n| -- | -------- | ----------- | ----------- |\n| target_system | NoneType | None |  |\n| target_component | NoneType | None |  |\n| video_stream_id | int | 0 |  |\n| frequency | int | 1 | Frequency CAMERA_CAPTURE_STATUS messages should be sent while recording (0 for no messages, otherwise frequency in Hz) |\n\n---\n\n### CameraClient.video_start_streaming\n\n>      CameraClient.video_start_streaming (target_system=None,\n>                                          target_component=None,\n>                                          video_stream_id=0)\n\nStart video streaming\n\n---\n\n### CameraClient.video_stop_capture\n\n>      CameraClient.video_stop_capture (target_system=None,\n>                                       target_component=None,\n>                                       video_stream_id=0)\n\nStop video capture\n\n|    | **Type** | **Default** | **Details** |\n| -- | -------- | ----------- | ----------- |\n| target_system | NoneType | None |  |\n| target_component | NoneType | None |  |\n| video_stream_id | int | 0 | Video stream id (0 for all streams) |\n\n---\n\n### CameraClient.video_stop_streaming\n\n>      CameraClient.video_stop_streaming (target_system=None,\n>                                         target_component=None,\n>                                         video_stream_id=0)\n\nStop the video stream\n\n|    | **Type** | **Default** | **Details** |\n| -- | -------- | ----------- | ----------- |\n| target_system | NoneType | None |  |\n| target_component | NoneType | None |  |\n| video_stream_id | int | 0 | Video Stream ID (0 for all streams) |\n\n---\n\n### BaseComponent.wait_ack\n\n>      BaseComponent.wait_ack (target_system, target_component, command_id=None,\n>                              timeout=0.1)\n\nWait for an ack from target_system and target_component.\n\n**Note: async function** \n\n\n\n---\n\n### BaseComponent.wait_heartbeat\n\n>      BaseComponent.wait_heartbeat (remote_mav_type=None, target_system=None,\n>                                    target_component=None, timeout:float=1.0)\n\nWait for a heartbeat from target_system and target_component.\n\n**Note: async function** \n\n\n\n---\n\n### Component.wait_message_callback\n\n>      Component.wait_message_callback (cond, timeout=1, remove_after=True)\n\nWait for the callback for a message received from a component server\n\n**Note: async function** \n\n\n\n",
      "text/plain": "---\n\n### BaseComponent.append_message_handler\n\n>      BaseComponent.append_message_handler (callback:Callable)\n\nappend the callback function for when a command is received.\n\n---\n\n### BaseComponent.close\n\n>      BaseComponent.close ()\n\n---\n\n### BaseComponent.count_message\n\n>      BaseComponent.count_message (msg)\n\nCount a message by adding it to the message_cnts dictionary. indexed by system and message type\n\n---\n\n### CameraClient.image_start_capture\n\n>      CameraClient.image_start_capture (target_system=None,\n>                                        target_component=None, interval=0,\n>                                        count=1)\n\nStart image capture sequence.\n\n|    | **Type** | **Default** | **Details** |\n| -- | -------- | ----------- | ----------- |\n| target_system | NoneType | None |  |\n| target_component | NoneType | None |  |\n| interval | int | 0 | Image capture interval |\n| count | int | 1 | Number of images to capture (0 for unlimited) |\n\n---\n\n### CameraClient.image_stop_capture\n\n>      CameraClient.image_stop_capture (target_system=None,\n>                                       target_component=None)\n\nStop image capture sequence\n\n---\n\n### Component.message_callback_cond\n\n>      Component.message_callback_cond (msg_id, target_system, target_component,\n>                                       timeout=1)\n\nRegister a callback for a message received from a component server\nReturns the message\n\n**Note: async function** \n\n\n\n---\n\n### Component.on_mav_connection\n\n>      Component.on_mav_connection ()\n\n---\n\n### Component.on_message\n\n>      Component.on_message\n>                            (msg:pymavlink.dialects.v20.ardupilotmega.MAVLink_m\n>                            essage)\n\nCallback for a command received from a component server\n\n---\n\n### Component.request_message\n\n>      Component.request_message (msg_id, params=None, target_system=None,\n>                                 target_component=None, timeout=1)\n\nRequest the target system(s) emit a single instance of a specified message (i.e. a \"one-shot\" version of MAV_CMD_SET_MESSAGE_INTERVAL).\nhttps://mavlink.io/en/messages/common.html#MAV_CMD_REQUEST_MESSAGE\n\n**Note: async function** \n\n\n\n---\n\n### Component.request_message_stream\n\n>      Component.request_message_stream (target_system=None,\n>                                        target_component=None, msg_id:int=147,\n>                                        interval:int=1000000,\n>                                        response_target:int=0)\n\nA system can request that additional messages are sent as a stream, or change the rate at which existing streamed messages are sent,\nusing the MAV_CMD_SET_MESSAGE_INTERVAL command. A single instance of a message can be requested by sending MAV_CMD_REQUEST_MESSAGE.\nSee https://mavlink.io/en/mavgen_python/howto_requestmessages.html\nSee https://mavlink.io/en/messages/common.html#MAV_CMD_SET_MESSAGE_INTERVAL\n\n**Note: async function** \n\n\n\n---\n\n### BaseComponent.send_ack\n\n>      BaseComponent.send_ack (msg, ack_result:object=0)\n\nSend an ACK message to indicate a command was received.\n\n---\n\n### BaseComponent.send_command\n\n>      BaseComponent.send_command (target_system:int, target_component:int,\n>                                  command_id:int, params:list, timeout=0.5)\n\n**Note: async function** \n\n\n\n---\n\n### Component.send_message\n\n>      Component.send_message (msg)\n\nSend a message to a component server\n\n---\n\n### BaseComponent.send_ping\n\n>      BaseComponent.send_ping (target_system:int, target_component:int,\n>                               ping_num:int=None)\n\nSend self.max_pings * ping messages to test if the server is alive.\n\n---\n\n### CameraClient.set_camera_mode\n\n>      CameraClient.set_camera_mode (target_system=None, target_component=None,\n>                                    mode_id=0)\n\nSet the camera mode\n\n|    | **Type** | **Default** | **Details** |\n| -- | -------- | ----------- | ----------- |\n| target_system | NoneType | None |  |\n| target_component | NoneType | None |  |\n| mode_id | int | 0 | https://mavlink.io/en/messages/common.html#CAMERA_MODE |\n\n---\n\n### CameraClient.set_camera_zoom\n\n>      CameraClient.set_camera_zoom (target_system=None, target_component=None,\n>                                    zoom_type=0, zoom_value=1)\n\nSet the cameras zoom\n\n|    | **Type** | **Default** | **Details** |\n| -- | -------- | ----------- | ----------- |\n| target_system | NoneType | None |  |\n| target_component | NoneType | None |  |\n| zoom_type | int | 0 |  |\n| zoom_value | int | 1 | 0 to 100 zoom value |\n\n---\n\n### BaseComponent.set_log\n\n>      BaseComponent.set_log (loglevel)\n\n---\n\n### BaseComponent.set_mav_connection\n\n>      BaseComponent.set_mav_connection (mav_com:MAVCom)\n\nSet the mav_connection for the component\n\n---\n\n### Component.set_message_callback_cond\n\n>      Component.set_message_callback_cond (msg_id, target_system,\n>                                           target_component)\n\nRegister a callback condition for a message received from a component server\n\n---\n\n### BaseComponent.set_source_compenent\n\n>      BaseComponent.set_source_compenent ()\n\nSet the source component for the master.mav\n\n---\n\n### BaseComponent.set_target\n\n>      BaseComponent.set_target (target_system, target_component)\n\nSet the target system and component for the gimbal\n\n---\n\n### CameraClient.storage_format\n\n>      CameraClient.storage_format (target_system=None, target_component=None)\n\nFormat storage (for cases where cameras has storage)\n\n---\n\n### BaseComponent.test_command\n\n>      BaseComponent.test_command (target_system:int, target_component:int,\n>                                  camera_id:int)\n\nexample: MAV_CMD_DO_DIGICAM_CONTROL to trigger a cameras\n\n**Note: async function** \n\n\n\n---\n\n### CameraClient.video_start_capture\n\n>      CameraClient.video_start_capture (target_system=None,\n>                                        target_component=None,\n>                                        video_stream_id=0, frequency=1)\n\nStart video capture\n\n|    | **Type** | **Default** | **Details** |\n| -- | -------- | ----------- | ----------- |\n| target_system | NoneType | None |  |\n| target_component | NoneType | None |  |\n| video_stream_id | int | 0 |  |\n| frequency | int | 1 | Frequency CAMERA_CAPTURE_STATUS messages should be sent while recording (0 for no messages, otherwise frequency in Hz) |\n\n---\n\n### CameraClient.video_start_streaming\n\n>      CameraClient.video_start_streaming (target_system=None,\n>                                          target_component=None,\n>                                          video_stream_id=0)\n\nStart video streaming\n\n---\n\n### CameraClient.video_stop_capture\n\n>      CameraClient.video_stop_capture (target_system=None,\n>                                       target_component=None,\n>                                       video_stream_id=0)\n\nStop video capture\n\n|    | **Type** | **Default** | **Details** |\n| -- | -------- | ----------- | ----------- |\n| target_system | NoneType | None |  |\n| target_component | NoneType | None |  |\n| video_stream_id | int | 0 | Video stream id (0 for all streams) |\n\n---\n\n### CameraClient.video_stop_streaming\n\n>      CameraClient.video_stop_streaming (target_system=None,\n>                                         target_component=None,\n>                                         video_stream_id=0)\n\nStop the video stream\n\n|    | **Type** | **Default** | **Details** |\n| -- | -------- | ----------- | ----------- |\n| target_system | NoneType | None |  |\n| target_component | NoneType | None |  |\n| video_stream_id | int | 0 | Video Stream ID (0 for all streams) |\n\n---\n\n### BaseComponent.wait_ack\n\n>      BaseComponent.wait_ack (target_system, target_component, command_id=None,\n>                              timeout=0.1)\n\nWait for an ack from target_system and target_component.\n\n**Note: async function** \n\n\n\n---\n\n### BaseComponent.wait_heartbeat\n\n>      BaseComponent.wait_heartbeat (remote_mav_type=None, target_system=None,\n>                                    target_component=None, timeout:float=1.0)\n\nWait for a heartbeat from target_system and target_component.\n\n**Note: async function** \n\n\n\n---\n\n### Component.wait_message_callback\n\n>      Component.wait_message_callback (cond, timeout=1, remove_after=True)\n\nWait for the callback for a message received from a component server\n\n**Note: async function** \n\n\n"
     },
     "execution_count": null,
     "metadata": {},
     "output_type": "execute_result"
    }
   ],
   "source": [
    "doc_class(CameraClient)"
   ]
  },
  {
   "cell_type": "markdown",
   "metadata": {},
   "source": [
    "### Example: Test locally using UDP ports\n",
    "\n",
    "> on the same machine using UDP ports `14445`  with `server_system_ID=111, client_system_ID=222`\n",
    "> CameraClient is set to udpin:localhost:14445 and CameraServer is set to udpout:localhost:14445 udpin is so that the client can receive UDP from the mavproxy server at localhost:14445\n",
    "> CameraClient uses async/await to send commands to the CameraServer\n"
   ]
  },
  {
   "cell_type": "code",
   "execution_count": null,
   "metadata": {},
   "outputs": [
    {
     "name": "stderr",
     "output_type": "stream",
     "text": [
      "\u001b[32mINFO |32.270| mavcom.MAVCom   | mavcom.py :386 | Thread-18  | MainProces | MAVLink Mav2: True, source_system: 111\u001b[0m\n",
      "\u001b[32mINFO |32.370| mavcom.MAVCom   | mavcom.py :386 | Thread-19  | MainProces | MAVLink Mav2: True, source_system: 222\u001b[0m\n",
      "\u001b[32mINFO |32.372| mavcom.CameraCl | basecompon:123 | MainThread | MainProces | Component Started self.source_component = 11, self.mav_type = 6, self.source_system = 111\u001b[0m\n",
      "\u001b[33mWARNI|32.373| mavcom.CameraSe | camera_ser:114 | MainThread | MainProces | Component has no cameras object\u001b[0m\n",
      "\u001b[32mINFO |32.374| mavcom.CameraSe | basecompon:123 | MainThread | MainProces | Component Started self.source_component = 22, self.mav_type = 30, self.source_system = 222\u001b[0m\n"
     ]
    },
    {
     "name": "stdout",
     "output_type": "stream",
     "text": [
      "UAV                             \n",
      "Heartbeat received ret = (222, 22)\n",
      "MAVLINK_MSG_ID_CAMERA_INFORMATION CAMERA_INFORMATION {time_boot_ms : 3985, vendor_name : UAV, model_name : FakeCamera, firmware_version : 1, focal_length : 2.799999952316284, sensor_size_h : 3.200000047683716, sensor_size_v : 2.4000000953674316, resolution_h : 640, resolution_v : 480, lens_id : 0, flags : 0, cam_definition_version : 1, cam_definition_uri : , gimbal_device_id : 0}\n"
     ]
    },
    {
     "name": "stderr",
     "output_type": "stream",
     "text": [
      "\u001b[32mINFO |34.374| mavcom.CameraSe | basecompon:417 | MainThread | MainProces | CameraServer closed (not waiting for _t_heartbeat daemon thread)\u001b[0m\n",
      "\u001b[32mINFO |34.375| mavcom.MAVCom   | mavcom.py :442 | MainThread | MainProces | MAVCom  closed\u001b[0m\n",
      "\u001b[32mINFO |34.375| mavcom.CameraCl | basecompon:417 | MainThread | MainProces | CameraClient closed (not waiting for _t_heartbeat daemon thread)\u001b[0m\n",
      "\u001b[32mINFO |34.376| mavcom.MAVCom   | mavcom.py :442 | MainThread | MainProces | MAVCom  closed\u001b[0m\n"
     ]
    }
   ],
   "source": [
    "%autoawait asyncio\n",
    "import asyncio\n",
    "async def main():\n",
    "    MAV_TYPE_GCS = mavlink.MAV_TYPE_GCS\n",
    "    MAV_TYPE_CAMERA = mavlink.MAV_TYPE_CAMERA\n",
    "    \n",
    "    con1, con2 = \"udpin:localhost:14445\", \"udpout:localhost:14445\"\n",
    "    # con1, con2 = \"/dev/ttyACM0\", \"/dev/ttyUSB0\"\n",
    "    with MAVCom(con1, source_system=111) as client:\n",
    "        with MAVCom(con2, source_system=222) as server:\n",
    "            gcs:CameraClient = client.add_component(\n",
    "                CameraClient(mav_type=MAV_TYPE_GCS, source_component=11))\n",
    "            # server.add_component(CameraServer(mav_type=MAV_TYPE_CAMERA, source_component=22, camera=cam_fake1, debug=False))\n",
    "            server.add_component(CameraServer(mav_type=MAV_TYPE_CAMERA, source_component=22, camera=None))\n",
    "    \n",
    "            ret = await gcs.wait_heartbeat(remote_mav_type=mavlink.MAV_TYPE_CAMERA)\n",
    "            print(f\"Heartbeat received {ret = }\")\n",
    "    \n",
    "            msg = await gcs.request_message(mavlink.MAVLINK_MSG_ID_CAMERA_INFORMATION, target_system=222, target_component=22)\n",
    "\n",
    "            print( f\"MAVLINK_MSG_ID_CAMERA_INFORMATION {msg}\")\n",
    "            \n",
    "            # msg = await cam.request_storage_information()\n",
    "            # print (msg)\n",
    "            \n",
    "            time.sleep(1)\n",
    "            \n",
    "await main()"
   ]
  },
  {
   "cell_type": "code",
   "execution_count": null,
   "metadata": {},
   "outputs": [],
   "source": [
    "# | hide\n",
    "# assert False, \"Stop here\""
   ]
  },
  {
   "cell_type": "markdown",
   "metadata": {},
   "source": [
    "#### Starting a client and server\n",
    " > on the same machine using UDP ports `14445`  with `server_system_ID=111, client_system_ID=222`"
   ]
  },
  {
   "cell_type": "code",
   "execution_count": null,
   "metadata": {},
   "outputs": [],
   "source": [
    "from UAV.mavlink import CameraClient, CameraServer, MAVCom, mavlink, GimbalServerViewsheen\n",
    "\n",
    "import time\n",
    "\n",
    "def on_message(message):\n",
    "    print(f\"on_message: {message}\")\n",
    "    return True # Return True to indicate that command was ok and send ack\n",
    "\n",
    "class Cam1(Component):\n",
    "    def __init__(self, source_component, mav_type, debug=False):\n",
    "        super().__init__(source_component=source_component, mav_type=mav_type)\n",
    "        self.append_message_handler(on_message)\n",
    "\n",
    "\n",
    "class Cam2(Component):\n",
    "    def __init__(self, source_component, mav_type, debug=False):\n",
    "        super().__init__(source_component=source_component, mav_type=mav_type)\n",
    "        self.append_message_handler(on_message)\n",
    "\n",
    "\n",
    "class Cli(Component):\n",
    "    def __init__(self, source_component, mav_type, debug=False):\n",
    "        super().__init__(source_component=source_component, mav_type=mav_type)\n",
    "        self.append_message_handler(on_message)"
   ]
  },
  {
   "cell_type": "markdown",
   "metadata": {},
   "source": []
  },
  {
   "cell_type": "code",
   "execution_count": null,
   "metadata": {},
   "outputs": [],
   "source": []
  },
  {
   "cell_type": "code",
   "execution_count": null,
   "metadata": {},
   "outputs": [],
   "source": [
    "#| Hide\n",
    "# assert False, \"Stop here\""
   ]
  },
  {
   "cell_type": "markdown",
   "metadata": {},
   "source": [
    "#### Test with Serial ports\n",
    "Test using a Pixhawk connected via telemetry 2 and USB serial ports.\n",
    "CamClient is set to udpin:localhost:14445 and CamServer is set to udpout:localhost:14435 udpin is so that the client can receive UDP from the mavproxy server at localhost:14445\n",
    "mavproxy.py --master=/dev/ttyACM1 --baudrate 57600 --out udpout:localhost:14445 mavproxy.py --master=/dev/ttyACM3 --baudrate 57600 --out udpout:localhost:14435"
   ]
  },
  {
   "cell_type": "code",
   "execution_count": null,
   "metadata": {},
   "outputs": [
    {
     "name": "stderr",
     "output_type": "stream",
     "text": [
      "\u001b[31mERROR|34.431| mavcom.MAVCom   | mavcom.py :296 | MainThread | MainProces | [Errno 2] could not open port /dev/ttyACM0: [Errno 2] No such file or directory: '/dev/ttyACM0'\u001b[0m\n"
     ]
    },
    {
     "ename": "SerialException",
     "evalue": "[Errno 2] could not open port /dev/ttyACM0: [Errno 2] No such file or directory: '/dev/ttyACM0'",
     "output_type": "error",
     "traceback": [
      "\u001b[0;31m---------------------------------------------------------------------------\u001b[0m",
      "\u001b[0;31mFileNotFoundError\u001b[0m                         Traceback (most recent call last)",
      "File \u001b[0;32m~/PycharmProjects/UAV/venv/lib/python3.10/site-packages/serial/serialposix.py:322\u001b[0m, in \u001b[0;36mSerial.open\u001b[0;34m(self)\u001b[0m\n\u001b[1;32m    321\u001b[0m \u001b[38;5;28;01mtry\u001b[39;00m:\n\u001b[0;32m--> 322\u001b[0m     \u001b[38;5;28mself\u001b[39m\u001b[38;5;241m.\u001b[39mfd \u001b[38;5;241m=\u001b[39m \u001b[43mos\u001b[49m\u001b[38;5;241;43m.\u001b[39;49m\u001b[43mopen\u001b[49m\u001b[43m(\u001b[49m\u001b[38;5;28;43mself\u001b[39;49m\u001b[38;5;241;43m.\u001b[39;49m\u001b[43mportstr\u001b[49m\u001b[43m,\u001b[49m\u001b[43m \u001b[49m\u001b[43mos\u001b[49m\u001b[38;5;241;43m.\u001b[39;49m\u001b[43mO_RDWR\u001b[49m\u001b[43m \u001b[49m\u001b[38;5;241;43m|\u001b[39;49m\u001b[43m \u001b[49m\u001b[43mos\u001b[49m\u001b[38;5;241;43m.\u001b[39;49m\u001b[43mO_NOCTTY\u001b[49m\u001b[43m \u001b[49m\u001b[38;5;241;43m|\u001b[39;49m\u001b[43m \u001b[49m\u001b[43mos\u001b[49m\u001b[38;5;241;43m.\u001b[39;49m\u001b[43mO_NONBLOCK\u001b[49m\u001b[43m)\u001b[49m\n\u001b[1;32m    323\u001b[0m \u001b[38;5;28;01mexcept\u001b[39;00m \u001b[38;5;167;01mOSError\u001b[39;00m \u001b[38;5;28;01mas\u001b[39;00m msg:\n",
      "\u001b[0;31mFileNotFoundError\u001b[0m: [Errno 2] No such file or directory: '/dev/ttyACM0'",
      "\nDuring handling of the above exception, another exception occurred:\n",
      "\u001b[0;31mSerialException\u001b[0m                           Traceback (most recent call last)",
      "Cell \u001b[0;32mIn[16], line 2\u001b[0m\n\u001b[1;32m      1\u001b[0m \u001b[38;5;66;03m# Test sending a command and receiving an ack from client to server\u001b[39;00m\n\u001b[0;32m----> 2\u001b[0m \u001b[38;5;28;01mwith\u001b[39;00m \u001b[43mMAVCom\u001b[49m\u001b[43m(\u001b[49m\u001b[38;5;124;43m\"\u001b[39;49m\u001b[38;5;124;43m/dev/ttyACM0\u001b[39;49m\u001b[38;5;124;43m\"\u001b[39;49m\u001b[43m,\u001b[49m\u001b[43m \u001b[49m\u001b[43msource_system\u001b[49m\u001b[38;5;241;43m=\u001b[39;49m\u001b[38;5;241;43m111\u001b[39;49m\u001b[43m)\u001b[49m \u001b[38;5;28;01mas\u001b[39;00m client:\n\u001b[1;32m      3\u001b[0m     \u001b[38;5;28;01mwith\u001b[39;00m MAVCom(\u001b[38;5;124m\"\u001b[39m\u001b[38;5;124m/dev/ttyUSB0\u001b[39m\u001b[38;5;124m\"\u001b[39m, source_system\u001b[38;5;241m=\u001b[39m\u001b[38;5;241m222\u001b[39m) \u001b[38;5;28;01mas\u001b[39;00m server:\n\u001b[1;32m      4\u001b[0m         client\u001b[38;5;241m.\u001b[39madd_component(Cli(client, mav_type\u001b[38;5;241m=\u001b[39mmavlink\u001b[38;5;241m.\u001b[39mMAV_TYPE_GCS))\n",
      "File \u001b[0;32m~/PycharmProjects/UAV/venv/lib/python3.10/site-packages/mavcom/mavlink/mavcom.py:285\u001b[0m, in \u001b[0;36mMAVCom.__init__\u001b[0;34m(self, connection_string, baudrate, source_system, loglevel)\u001b[0m\n\u001b[1;32m    283\u001b[0m \u001b[38;5;28mself\u001b[39m\u001b[38;5;241m.\u001b[39m_t_mav_listen \u001b[38;5;241m=\u001b[39m \u001b[38;5;28;01mNone\u001b[39;00m\n\u001b[1;32m    284\u001b[0m \u001b[38;5;28mself\u001b[39m\u001b[38;5;241m.\u001b[39mdo_ack \u001b[38;5;241m=\u001b[39m \u001b[38;5;28;01mTrue\u001b[39;00m\n\u001b[0;32m--> 285\u001b[0m \u001b[38;5;28;43mself\u001b[39;49m\u001b[38;5;241;43m.\u001b[39;49m\u001b[43mstart_mavlink\u001b[49m\u001b[43m(\u001b[49m\u001b[43m)\u001b[49m\n",
      "File \u001b[0;32m~/PycharmProjects/UAV/venv/lib/python3.10/site-packages/mavcom/mavlink/mavcom.py:297\u001b[0m, in \u001b[0;36mMAVCom.start_mavlink\u001b[0;34m(self)\u001b[0m\n\u001b[1;32m    295\u001b[0m \u001b[38;5;28;01mexcept\u001b[39;00m \u001b[38;5;167;01mException\u001b[39;00m \u001b[38;5;28;01mas\u001b[39;00m e:\n\u001b[1;32m    296\u001b[0m     \u001b[38;5;28mself\u001b[39m\u001b[38;5;241m.\u001b[39mlog\u001b[38;5;241m.\u001b[39merror(e)\n\u001b[0;32m--> 297\u001b[0m     \u001b[38;5;28;01mraise\u001b[39;00m e\n\u001b[1;32m    298\u001b[0m     \u001b[38;5;28;01mreturn\u001b[39;00m\n\u001b[1;32m    300\u001b[0m \u001b[38;5;66;03m# self.log.info(f\"see https://mavlink.io/en/messages/common.html#MAV_COMPONENT\")\u001b[39;00m\n",
      "File \u001b[0;32m~/PycharmProjects/UAV/venv/lib/python3.10/site-packages/mavcom/mavlink/mavcom.py:291\u001b[0m, in \u001b[0;36mMAVCom.start_mavlink\u001b[0;34m(self)\u001b[0m\n\u001b[1;32m    288\u001b[0m \u001b[38;5;250m\u001b[39m\u001b[38;5;124;03m\"\"\"Start the MAVLink connection.\"\"\"\u001b[39;00m\n\u001b[1;32m    290\u001b[0m \u001b[38;5;28;01mtry\u001b[39;00m:\n\u001b[0;32m--> 291\u001b[0m     \u001b[38;5;28mself\u001b[39m\u001b[38;5;241m.\u001b[39mmaster \u001b[38;5;241m=\u001b[39m \u001b[43mmavutil\u001b[49m\u001b[38;5;241;43m.\u001b[39;49m\u001b[43mmavlink_connection\u001b[49m\u001b[43m(\u001b[49m\u001b[38;5;28;43mself\u001b[39;49m\u001b[38;5;241;43m.\u001b[39;49m\u001b[43mconnection_string\u001b[49m\u001b[43m,\u001b[49m\u001b[43m  \u001b[49m\u001b[38;5;66;43;03m# \"udpin:localhost:14550\"\u001b[39;49;00m\n\u001b[1;32m    292\u001b[0m \u001b[43m                                            \u001b[49m\u001b[43mbaud\u001b[49m\u001b[38;5;241;43m=\u001b[39;49m\u001b[38;5;28;43mself\u001b[39;49m\u001b[38;5;241;43m.\u001b[39;49m\u001b[43mbaudrate\u001b[49m\u001b[43m,\u001b[49m\u001b[43m  \u001b[49m\u001b[38;5;66;43;03m# baud rate of the serial port\u001b[39;49;00m\n\u001b[1;32m    293\u001b[0m \u001b[43m                                            \u001b[49m\u001b[43msource_system\u001b[49m\u001b[38;5;241;43m=\u001b[39;49m\u001b[38;5;28;43mint\u001b[39;49m\u001b[43m(\u001b[49m\u001b[38;5;28;43mself\u001b[39;49m\u001b[38;5;241;43m.\u001b[39;49m\u001b[43msource_system\u001b[49m\u001b[43m)\u001b[49m\u001b[43m,\u001b[49m\u001b[43m  \u001b[49m\u001b[38;5;66;43;03m# source system\u001b[39;49;00m\n\u001b[1;32m    294\u001b[0m \u001b[43m                                            \u001b[49m\u001b[43m)\u001b[49m\n\u001b[1;32m    295\u001b[0m \u001b[38;5;28;01mexcept\u001b[39;00m \u001b[38;5;167;01mException\u001b[39;00m \u001b[38;5;28;01mas\u001b[39;00m e:\n\u001b[1;32m    296\u001b[0m     \u001b[38;5;28mself\u001b[39m\u001b[38;5;241m.\u001b[39mlog\u001b[38;5;241m.\u001b[39merror(e)\n",
      "File \u001b[0;32m~/PycharmProjects/UAV/venv/lib/python3.10/site-packages/pymavlink/mavutil.py:1818\u001b[0m, in \u001b[0;36mmavlink_connection\u001b[0;34m(device, baud, source_system, source_component, planner_format, write, append, robust_parsing, notimestamps, input, dialect, autoreconnect, zero_time_base, retries, use_native, force_connected, progress_callback, udp_timeout, **opts)\u001b[0m\n\u001b[1;32m   1814\u001b[0m     \u001b[38;5;28;01melse\u001b[39;00m:\n\u001b[1;32m   1815\u001b[0m         \u001b[38;5;28;01mreturn\u001b[39;00m mavlogfile(device, planner_format\u001b[38;5;241m=\u001b[39mplanner_format, write\u001b[38;5;241m=\u001b[39mwrite,\n\u001b[1;32m   1816\u001b[0m                           append\u001b[38;5;241m=\u001b[39mappend, robust_parsing\u001b[38;5;241m=\u001b[39mrobust_parsing, notimestamps\u001b[38;5;241m=\u001b[39mnotimestamps,\n\u001b[1;32m   1817\u001b[0m                           source_system\u001b[38;5;241m=\u001b[39msource_system, source_component\u001b[38;5;241m=\u001b[39msource_component, use_native\u001b[38;5;241m=\u001b[39muse_native)\n\u001b[0;32m-> 1818\u001b[0m \u001b[38;5;28;01mreturn\u001b[39;00m \u001b[43mmavserial\u001b[49m\u001b[43m(\u001b[49m\u001b[43mdevice\u001b[49m\u001b[43m,\u001b[49m\n\u001b[1;32m   1819\u001b[0m \u001b[43m                 \u001b[49m\u001b[43mbaud\u001b[49m\u001b[38;5;241;43m=\u001b[39;49m\u001b[43mbaud\u001b[49m\u001b[43m,\u001b[49m\n\u001b[1;32m   1820\u001b[0m \u001b[43m                 \u001b[49m\u001b[43msource_system\u001b[49m\u001b[38;5;241;43m=\u001b[39;49m\u001b[43msource_system\u001b[49m\u001b[43m,\u001b[49m\n\u001b[1;32m   1821\u001b[0m \u001b[43m                 \u001b[49m\u001b[43msource_component\u001b[49m\u001b[38;5;241;43m=\u001b[39;49m\u001b[43msource_component\u001b[49m\u001b[43m,\u001b[49m\n\u001b[1;32m   1822\u001b[0m \u001b[43m                 \u001b[49m\u001b[43mautoreconnect\u001b[49m\u001b[38;5;241;43m=\u001b[39;49m\u001b[43mautoreconnect\u001b[49m\u001b[43m,\u001b[49m\n\u001b[1;32m   1823\u001b[0m \u001b[43m                 \u001b[49m\u001b[43muse_native\u001b[49m\u001b[38;5;241;43m=\u001b[39;49m\u001b[43muse_native\u001b[49m\u001b[43m,\u001b[49m\n\u001b[1;32m   1824\u001b[0m \u001b[43m                 \u001b[49m\u001b[43mforce_connected\u001b[49m\u001b[38;5;241;43m=\u001b[39;49m\u001b[43mforce_connected\u001b[49m\u001b[43m)\u001b[49m\n",
      "File \u001b[0;32m~/PycharmProjects/UAV/venv/lib/python3.10/site-packages/pymavlink/mavutil.py:970\u001b[0m, in \u001b[0;36mmavserial.__init__\u001b[0;34m(self, device, baud, autoreconnect, source_system, source_component, use_native, force_connected)\u001b[0m\n\u001b[1;32m    968\u001b[0m \u001b[38;5;28;01mexcept\u001b[39;00m serial\u001b[38;5;241m.\u001b[39mSerialException \u001b[38;5;28;01mas\u001b[39;00m e:\n\u001b[1;32m    969\u001b[0m     \u001b[38;5;28;01mif\u001b[39;00m \u001b[38;5;129;01mnot\u001b[39;00m force_connected:\n\u001b[0;32m--> 970\u001b[0m         \u001b[38;5;28;01mraise\u001b[39;00m e\n\u001b[1;32m    971\u001b[0m     \u001b[38;5;28mself\u001b[39m\u001b[38;5;241m.\u001b[39mport \u001b[38;5;241m=\u001b[39m FakeSerial()\n\u001b[1;32m    973\u001b[0m \u001b[38;5;28;01mtry\u001b[39;00m:\n",
      "File \u001b[0;32m~/PycharmProjects/UAV/venv/lib/python3.10/site-packages/pymavlink/mavutil.py:966\u001b[0m, in \u001b[0;36mmavserial.__init__\u001b[0;34m(self, device, baud, autoreconnect, source_system, source_component, use_native, force_connected)\u001b[0m\n\u001b[1;32m    962\u001b[0m \u001b[38;5;66;03m# we rather strangely set the baudrate initially to 1200, then change to the desired\u001b[39;00m\n\u001b[1;32m    963\u001b[0m \u001b[38;5;66;03m# baudrate. This works around a kernel bug on some Linux kernels where the baudrate\u001b[39;00m\n\u001b[1;32m    964\u001b[0m \u001b[38;5;66;03m# is not set correctly\u001b[39;00m\n\u001b[1;32m    965\u001b[0m \u001b[38;5;28;01mtry\u001b[39;00m:\n\u001b[0;32m--> 966\u001b[0m     \u001b[38;5;28mself\u001b[39m\u001b[38;5;241m.\u001b[39mport \u001b[38;5;241m=\u001b[39m \u001b[43mserial\u001b[49m\u001b[38;5;241;43m.\u001b[39;49m\u001b[43mSerial\u001b[49m\u001b[43m(\u001b[49m\u001b[38;5;28;43mself\u001b[39;49m\u001b[38;5;241;43m.\u001b[39;49m\u001b[43mdevice\u001b[49m\u001b[43m,\u001b[49m\u001b[43m \u001b[49m\u001b[38;5;241;43m1200\u001b[39;49m\u001b[43m,\u001b[49m\u001b[43m \u001b[49m\u001b[43mtimeout\u001b[49m\u001b[38;5;241;43m=\u001b[39;49m\u001b[38;5;241;43m0\u001b[39;49m\u001b[43m,\u001b[49m\n\u001b[1;32m    967\u001b[0m \u001b[43m                              \u001b[49m\u001b[43mdsrdtr\u001b[49m\u001b[38;5;241;43m=\u001b[39;49m\u001b[38;5;28;43;01mFalse\u001b[39;49;00m\u001b[43m,\u001b[49m\u001b[43m \u001b[49m\u001b[43mrtscts\u001b[49m\u001b[38;5;241;43m=\u001b[39;49m\u001b[38;5;28;43;01mFalse\u001b[39;49;00m\u001b[43m,\u001b[49m\u001b[43m \u001b[49m\u001b[43mxonxoff\u001b[49m\u001b[38;5;241;43m=\u001b[39;49m\u001b[38;5;28;43;01mFalse\u001b[39;49;00m\u001b[43m)\u001b[49m\n\u001b[1;32m    968\u001b[0m \u001b[38;5;28;01mexcept\u001b[39;00m serial\u001b[38;5;241m.\u001b[39mSerialException \u001b[38;5;28;01mas\u001b[39;00m e:\n\u001b[1;32m    969\u001b[0m     \u001b[38;5;28;01mif\u001b[39;00m \u001b[38;5;129;01mnot\u001b[39;00m force_connected:\n",
      "File \u001b[0;32m~/PycharmProjects/UAV/venv/lib/python3.10/site-packages/serial/serialutil.py:244\u001b[0m, in \u001b[0;36mSerialBase.__init__\u001b[0;34m(self, port, baudrate, bytesize, parity, stopbits, timeout, xonxoff, rtscts, write_timeout, dsrdtr, inter_byte_timeout, exclusive, **kwargs)\u001b[0m\n\u001b[1;32m    241\u001b[0m     \u001b[38;5;28;01mraise\u001b[39;00m \u001b[38;5;167;01mValueError\u001b[39;00m(\u001b[38;5;124m'\u001b[39m\u001b[38;5;124munexpected keyword arguments: \u001b[39m\u001b[38;5;132;01m{!r}\u001b[39;00m\u001b[38;5;124m'\u001b[39m\u001b[38;5;241m.\u001b[39mformat(kwargs))\n\u001b[1;32m    243\u001b[0m \u001b[38;5;28;01mif\u001b[39;00m port \u001b[38;5;129;01mis\u001b[39;00m \u001b[38;5;129;01mnot\u001b[39;00m \u001b[38;5;28;01mNone\u001b[39;00m:\n\u001b[0;32m--> 244\u001b[0m     \u001b[38;5;28;43mself\u001b[39;49m\u001b[38;5;241;43m.\u001b[39;49m\u001b[43mopen\u001b[49m\u001b[43m(\u001b[49m\u001b[43m)\u001b[49m\n",
      "File \u001b[0;32m~/PycharmProjects/UAV/venv/lib/python3.10/site-packages/serial/serialposix.py:325\u001b[0m, in \u001b[0;36mSerial.open\u001b[0;34m(self)\u001b[0m\n\u001b[1;32m    323\u001b[0m \u001b[38;5;28;01mexcept\u001b[39;00m \u001b[38;5;167;01mOSError\u001b[39;00m \u001b[38;5;28;01mas\u001b[39;00m msg:\n\u001b[1;32m    324\u001b[0m     \u001b[38;5;28mself\u001b[39m\u001b[38;5;241m.\u001b[39mfd \u001b[38;5;241m=\u001b[39m \u001b[38;5;28;01mNone\u001b[39;00m\n\u001b[0;32m--> 325\u001b[0m     \u001b[38;5;28;01mraise\u001b[39;00m SerialException(msg\u001b[38;5;241m.\u001b[39merrno, \u001b[38;5;124m\"\u001b[39m\u001b[38;5;124mcould not open port \u001b[39m\u001b[38;5;132;01m{}\u001b[39;00m\u001b[38;5;124m: \u001b[39m\u001b[38;5;132;01m{}\u001b[39;00m\u001b[38;5;124m\"\u001b[39m\u001b[38;5;241m.\u001b[39mformat(\u001b[38;5;28mself\u001b[39m\u001b[38;5;241m.\u001b[39m_port, msg))\n\u001b[1;32m    326\u001b[0m \u001b[38;5;66;03m#~ fcntl.fcntl(self.fd, fcntl.F_SETFL, 0)  # set blocking\u001b[39;00m\n\u001b[1;32m    328\u001b[0m \u001b[38;5;28mself\u001b[39m\u001b[38;5;241m.\u001b[39mpipe_abort_read_r, \u001b[38;5;28mself\u001b[39m\u001b[38;5;241m.\u001b[39mpipe_abort_read_w \u001b[38;5;241m=\u001b[39m \u001b[38;5;28;01mNone\u001b[39;00m, \u001b[38;5;28;01mNone\u001b[39;00m\n",
      "\u001b[0;31mSerialException\u001b[0m: [Errno 2] could not open port /dev/ttyACM0: [Errno 2] No such file or directory: '/dev/ttyACM0'"
     ]
    }
   ],
   "source": [
    "# Test sending a command and receiving an ack from client to server\n",
    "with MAVCom(\"/dev/ttyACM0\", source_system=111) as client:\n",
    "    with MAVCom(\"/dev/ttyUSB0\", source_system=222) as server:\n",
    "        client.add_component(Cli(client, mav_type=mavlink.MAV_TYPE_GCS))\n",
    "        server.add_component(Cam1(server, mav_type=mavlink.MAV_TYPE_CAMERA))\n",
    "        server.add_component(Cam1(server, mav_type=mavlink.MAV_TYPE_CAMERA))\n",
    "        \n",
    "        for key, comp in client.component.items():\n",
    "            if comp.wait_heartbeat(target_system=222, target_component=22, timeout=0.1):\n",
    "                print (\"*** Received heartbeat **** \" )\n",
    "        NUM_TO_SEND = 2\n",
    "        for i in range(NUM_TO_SEND):\n",
    "            client.component[11]._test_command(222, 22, 1)\n",
    "            client.component[11]._test_command(222, 23, 1)\n",
    "            \n",
    "        client.component[11]._test_command(222, 24, 1)\n",
    "\n",
    "    print(f\"{server.source_system = };  {server.message_cnts = }\")\n",
    "    print(f\"{client.source_system = };  {client.message_cnts = }\")\n",
    "    print()\n",
    "    print(f\"{client.source_system = } \\n{client.summary()} \\n\")\n",
    "    print(f\"{server.source_system = } \\n{server.summary()} \\n\")\n",
    "\n",
    "    assert client.component[11].num_cmds_sent == NUM_TO_SEND * 2 + 1\n",
    "    assert client.component[11].num_acks_rcvd == NUM_TO_SEND * 2\n",
    "    assert client.component[11].num_acks_drop == 1\n",
    "    assert server.component[22].num_cmds_rcvd == NUM_TO_SEND\n",
    "    assert server.component[23].num_cmds_rcvd == NUM_TO_SEND"
   ]
  },
  {
   "cell_type": "markdown",
   "metadata": {},
   "source": [
    "> For debugging help see http://localhost:3000/tutorials/mavlink_doc&debug.html and http://localhost:3000/tutorials/mavlink_doc&debug.html#debugging"
   ]
  },
  {
   "cell_type": "markdown",
   "metadata": {},
   "source": []
  },
  {
   "cell_type": "code",
   "execution_count": null,
   "metadata": {},
   "outputs": [],
   "source": []
  }
 ],
 "metadata": {
  "kernelspec": {
   "display_name": "python3",
   "language": "python",
   "name": "python3"
  }
 },
 "nbformat": 4,
 "nbformat_minor": 4
}
