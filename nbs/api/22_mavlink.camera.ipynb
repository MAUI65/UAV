{
 "cells": [
  {
   "cell_type": "markdown",
   "metadata": {},
   "source": []
  },
  {
   "cell_type": "markdown",
   "metadata": {},
   "source": [
    "# Mavlink Camera\n",
    "> Mavlink Camera Component for sending commands to a camera on a companion computer or GCS\n",
    "> The server is on the companion computer and the client is on the ground station PC."
   ]
  },
  {
   "cell_type": "code",
   "execution_count": null,
   "metadata": {},
   "outputs": [],
   "source": [
    "#| default_exp mavlink.test_camera"
   ]
  },
  {
   "cell_type": "code",
   "execution_count": null,
   "metadata": {},
   "outputs": [],
   "source": [
    "#| hide\n",
    "%load_ext autoreload\n",
    "%autoreload 2"
   ]
  },
  {
   "cell_type": "code",
   "execution_count": null,
   "metadata": {},
   "outputs": [],
   "source": [
    "#| hide\n",
    "# skip_showdoc: true to avoid running cells when rendering docs, and \n",
    "# skip_exec: true to skip this notebook when running tests. \n",
    "# this should be a raw cell "
   ]
  },
  {
   "cell_type": "raw",
   "metadata": {},
   "source": [
    "---\n",
    "skip_showdoc: true\n",
    "skip_exec: true\n",
    "---"
   ]
  },
  {
   "cell_type": "code",
   "execution_count": null,
   "metadata": {},
   "outputs": [],
   "source": [
    "#| export\n",
    "import time\n",
    "from UAV.mavlink.mavcom import MAVCom, time_since_boot_ms, time_UTC_usec, date_time_str\n",
    "from UAV.mavlink.component import Component, mavutil, mavlink, MAVLink\n",
    "\n",
    "from UAV.mavlink.camera_client import *\n",
    "from UAV.mavlink.camera_server import *\n",
    "from UAV.utils.display import *\n",
    "from fastcore.test import *"
   ]
  },
  {
   "cell_type": "code",
   "execution_count": null,
   "metadata": {},
   "outputs": [],
   "source": [
    "#| hide\n",
    "from fastcore.utils import *\n",
    "from nbdev.showdoc import *\n"
   ]
  },
  {
   "cell_type": "markdown",
   "metadata": {},
   "source": [
    "### Implementation of these commands:\n",
    ">\n",
    "> [MAV_CMD_REQUEST_CAMERA_CAPTURE_STATUS = 527](https://mavlink.io/en/messages/common.html#MAV_CMD_REQUEST_CAMERA_CAPTURE_STATUS)\n",
    "[MAV_CMD_REQUEST_CAMERA_INFORMATION = 523](https://mavlink.io/en/messages/common.html#MAV_CMD_REQUEST_CAMERA_INFORMATION)\n",
    "[MAV_CMD_REQUEST_CAMERA_SETTINGS = 524](https://mavlink.io/en/messages/common.html#MAV_CMD_REQUEST_CAMERA_SETTINGS)\n",
    "[MAV_CMD_REQUEST_STORAGE_INFORMATION = 525](https://mavlink.io/en/messages/common.html#MAV_CMD_REQUEST_STORAGE_INFORMATION)\n",
    "[MAV_CMD_STORAGE_FORMAT = 526](https://mavlink.io/en/messages/common.html#MAV_CMD_STORAGE_FORMAT)\n",
    "[MAV_CMD_SET_CAMERA_ZOOM = 531](https://mavlink.io/en/messages/common.html#MAV_CMD_SET_CAMERA_ZOOM)\n",
    "[MAV_CMD_SET_CAMERA_FOCUS = 532](https://mavlink.io/en/messages/common.html#MAV_CMD_SET_CAMERA_FOCUS)\n",
    "[MAV_CMD_IMAGE_START_CAPTURE = 2000](https://mavlink.io/en/messages/common.html#MAV_CMD_IMAGE_START_CAPTURE)\n",
    "[MAV_CMD_IMAGE_STOP_CAPTURE = 2001](https://mavlink.io/en/messages/common.html#MAV_CMD_IMAGE_STOP_CAPTURE)\n",
    "> \n",
    "> [MAV_CMD_REQUEST_VIDEO_STREAM_INFORMATION = 2504](https://mavlink.io/en/messages/common.html#MAV_CMD_REQUEST_VIDEO_STREAM_INFORMATION)\n",
    "[MAV_CMD_REQUEST_VIDEO_STREAM_STATUS = 2505](https://mavlink.io/en/messages/common.html#MAV_CMD_REQUEST_VIDEO_STREAM_STATUS)\n",
    "[MAV_CMD_VIDEO_START_CAPTURE = 2500](https://mavlink.io/en/messages/common.html#MAV_CMD_VIDEO_START_CAPTURE)\n",
    "[MAV_CMD_VIDEO_STOP_CAPTURE = 2501](https://mavlink.io/en/messages/common.html#MAV_CMD_VIDEO_STOP_CAPTURE)\n",
    "[MAV_CMD_SET_CAMERA_MODE = 530](https://mavlink.io/en/messages/common.html#MAV_CMD_SET_CAMERA_MODE)\n",
    "> \n",
    "**Note**\n",
    "The simulated camera is implemented in PX4 [gazebo_camera_manager_plugin.cpp](https://github.com/PX4/PX4-SITL_gazebo-classic/blob/main/src/gazebo_camera_manager_plugin.cpp).\n"
   ]
  },
  {
   "cell_type": "code",
   "execution_count": null,
   "metadata": {},
   "outputs": [],
   "source": [
    "#| exports\n",
    "# from pymavlink.dialects.v20 import ardupilotmega as mav\n",
    "# from pymavlink.dialects.v20.ardupilotmega import MAVLink\n",
    "\n",
    "\n",
    "NAN = float(\"nan\")\n",
    "\n",
    "\"\"\"\n",
    "MAV_CMD_REQUEST_CAMERA_CAPTURE_STATUS = 527 # https://mavlink.io/en/messages/common.html#MAV_CMD_REQUEST_CAMERA_CAPTURE_STATUS\n",
    "MAV_CMD_REQUEST_CAMERA_INFORMATION = 521 # https://mavlink.io/en/messages/common.html#MAV_CMD_REQUEST_CAMERA_INFORMATION\n",
    "MAV_CMD_REQUEST_CAMERA_SETTINGS = 522 # https://mavlink.io/en/messages/common.html#MAV_CMD_REQUEST_CAMERA_SETTINGS\n",
    "MAV_CMD_REQUEST_STORAGE_INFORMATION = 525 # https://mavlink.io/en/messages/common.html#MAV_CMD_REQUEST_STORAGE_INFORMATION\n",
    "MAV_CMD_STORAGE_FORMAT = 526 # https://mavlink.io/en/messages/common.html#MAV_CMD_STORAGE_FORMAT\n",
    "MAV_CMD_SET_CAMERA_ZOOM = 531 # https://mavlink.io/en/messages/common.html#MAV_CMD_SET_CAMERA_ZOOM\n",
    "MAV_CMD_SET_CAMERA_FOCUS = 532 # https://mavlink.io/en/messages/common.html#MAV_CMD_SET_CAMERA_FOCUS\n",
    "MAV_CMD_IMAGE_START_CAPTURE = 2000  # https://mavlink.io/en/messages/common.html#MAV_CMD_IMAGE_START_CAPTURE\n",
    "MAV_CMD_IMAGE_STOP_CAPTURE = 2001  # https://mavlink.io/en/messages/common.html#MAV_CMD_IMAGE_STOP_CAPTURE\n",
    "MAV_CMD_REQUEST_VIDEO_STREAM_INFORMATION = 2504 # https://mavlink.io/en/messages/common.html#MAV_CMD_REQUEST_VIDEO_STREAM_INFORMATION\n",
    "MAV_CMD_REQUEST_VIDEO_STREAM_STATUS = 2505 # https://mavlink.io/en/messages/common.html#MAV_CMD_REQUEST_VIDEO_STREAM_STATUS\n",
    "MAV_CMD_VIDEO_START_CAPTURE = 2500 # https://mavlink.io/en/messages/common.html#MAV_CMD_VIDEO_START_CAPTURE\n",
    "MAV_CMD_VIDEO_STOP_CAPTURE = 2501 # https://mavlink.io/en/messages/common.html#MAV_CMD_VIDEO_STOP_CAPTURE\n",
    "MAV_CMD_SET_CAMERA_MODE = 530 # https://mavlink.io/en/messages/common.html#MAV_CMD_SET_CAMERA_MODE\n",
    "\n",
    "\"\"\"\n",
    "CAMERA_INFORMATION = mavlink.MAVLINK_MSG_ID_CAMERA_INFORMATION # https://mavlink.io/en/messages/common.html#CAMERA_INFORMATION\n",
    "CAMERA_SETTINGS = mavlink.MAVLINK_MSG_ID_CAMERA_SETTINGS # https://mavlink.io/en/messages/common.html#CAMERA_SETTINGS\n",
    "STORAGE_INFORMATION = mavlink.MAVLINK_MSG_ID_STORAGE_INFORMATION # https://mavlink.io/en/messages/common.html#STORAGE_INFORMATION\n",
    "CAMERA_CAPTURE_STATUS = mavlink.MAVLINK_MSG_ID_CAMERA_CAPTURE_STATUS # https://mavlink.io/en/messages/common.html#CAMERA_CAPTURE_STATUS\n",
    "CAMERA_IMAGE_CAPTURED = mavlink.MAVLINK_MSG_ID_CAMERA_IMAGE_CAPTURED # https://mavlink.io/en/messages/common.html#CAMERA_IMAGE_CAPTURED\n"
   ]
  },
  {
   "cell_type": "markdown",
   "metadata": {},
   "source": [
    "### Camera Server \n",
    "> The server is on the companion computer and is used to receive commands from the camera on the ground station PC."
   ]
  },
  {
   "cell_type": "code",
   "execution_count": null,
   "metadata": {},
   "outputs": [
    {
     "data": {
      "text/markdown": "---\n\n### CameraServer\n\n>      CameraServer (source_component=100, mav_type=30, camera=None,\n>                    loglevel=20)\n\nCreate a mavlink Camera server Component, camera argument will normally be a  gstreamer pipeline\n\n|    | **Type** | **Default** | **Details** |\n| -- | -------- | ----------- | ----------- |\n| source_component | int | 100 | used for component indication |\n| mav_type | int | 30 | used for heartbeat MAV_TYPE indication |\n| camera | NoneType | None | camera  (or FakeCamera for testing) |\n| loglevel | int | 20 | logging level |",
      "text/plain": "---\n\n### CameraServer\n\n>      CameraServer (source_component=100, mav_type=30, camera=None,\n>                    loglevel=20)\n\nCreate a mavlink Camera server Component, camera argument will normally be a  gstreamer pipeline\n\n|    | **Type** | **Default** | **Details** |\n| -- | -------- | ----------- | ----------- |\n| source_component | int | 100 | used for component indication |\n| mav_type | int | 30 | used for heartbeat MAV_TYPE indication |\n| camera | NoneType | None | camera  (or FakeCamera for testing) |\n| loglevel | int | 20 | logging level |"
     },
     "execution_count": null,
     "metadata": {},
     "output_type": "execute_result"
    }
   ],
   "source": [
    "show_doc(CameraServer)"
   ]
  },
  {
   "cell_type": "code",
   "execution_count": null,
   "metadata": {},
   "outputs": [
    {
     "name": "stderr",
     "output_type": "stream",
     "text": [
      "\u001b[32mINFO   | uav.MAVCom      | 37.524 |  mavcom.py:393 | Thread-30 (listen) | MAVLink Mav2: True, source_system: 222\u001b[0m\n",
      "\u001b[33mWARNIN | uav.CameraServe | 37.525 | camera_server.py:114 | MainThread         | Component has no camera object\u001b[0m\n",
      "\u001b[32mINFO   | uav.CameraServe | 37.526 | component.py:135 | MainThread         | Component Started self.source_component = 100, self.mav_type = 30, self.source_system = 222\u001b[0m\n",
      "\u001b[33mWARNIN | uav.CameraServe | 37.527 | camera_server.py:114 | MainThread         | Component has no camera object\u001b[0m\n",
      "\u001b[32mINFO   | uav.CameraServe | 37.527 | component.py:135 | MainThread         | Component Started self.source_component = 101, self.mav_type = 30, self.source_system = 222\u001b[0m\n",
      "\u001b[33mWARNIN | uav.CameraServe | 37.528 | camera_server.py:114 | MainThread         | Component has no camera object\u001b[0m\n",
      "\u001b[32mINFO   | uav.CameraServe | 37.528 | component.py:135 | MainThread         | Component Started self.source_component = 102, self.mav_type = 30, self.source_system = 222\u001b[0m\n"
     ]
    },
    {
     "name": "stdout",
     "output_type": "stream",
     "text": [
      "UAV                             \n",
      "UAV                             \n",
      "UAV                             \n"
     ]
    },
    {
     "name": "stderr",
     "output_type": "stream",
     "text": [
      "\u001b[32mINFO   | uav.CameraServe | 40.529 | component.py:404 | MainThread         | CameraServer closed\u001b[0m\n",
      "\u001b[32mINFO   | uav.CameraServe | 40.529 | component.py:404 | MainThread         | CameraServer closed\u001b[0m\n",
      "\u001b[32mINFO   | uav.CameraServe | 40.530 | component.py:404 | MainThread         | CameraServer closed\u001b[0m\n",
      "\u001b[32mINFO   | uav.MAVCom      | 40.531 |  mavcom.py:442 | MainThread         | MAVCom  closed\u001b[0m\n"
     ]
    }
   ],
   "source": [
    "# run a server that can receive commands from a client\n",
    "from UAV.logging import LogLevels\n",
    "\n",
    "# start a mavlink server that can receive commands from a client\n",
    "with MAVCom(\"udpout:localhost:14445\", source_system=222, loglevel=LogLevels.DEBUG) as UAV_server:\n",
    "    # add the camera server components to the server\n",
    "    UAV_server.add_component(CameraServer(mav_type=mavlink.MAV_TYPE_CAMERA, source_component=mavlink.MAV_COMP_ID_CAMERA, camera=None))\n",
    "    UAV_server.add_component(CameraServer(mavlink.MAV_COMP_ID_CAMERA2))\n",
    "    UAV_server.add_component(CameraServer(mavlink.MAV_COMP_ID_CAMERA3))\n",
    "    \n",
    "    time.sleep(1)\n"
   ]
  },
  {
   "cell_type": "code",
   "execution_count": null,
   "metadata": {},
   "outputs": [
    {
     "data": {
      "text/plain": "'MAV_CMD_REQUEST_CAMERA_CAPTURE_STATUS'"
     },
     "execution_count": null,
     "metadata": {},
     "output_type": "execute_result"
    }
   ],
   "source": [
    "mavlink.enums['MAV_CMD'][527].name"
   ]
  },
  {
   "cell_type": "code",
   "execution_count": null,
   "metadata": {},
   "outputs": [],
   "source": []
  },
  {
   "cell_type": "code",
   "execution_count": null,
   "metadata": {},
   "outputs": [
    {
     "data": {
      "text/plain": "'MAV_CMD_REQUEST_MESSAGE'"
     },
     "execution_count": null,
     "metadata": {},
     "output_type": "execute_result"
    }
   ],
   "source": [
    "mavlink.enums['MAV_CMD'][mavlink.MAV_CMD_REQUEST_MESSAGE].name\n"
   ]
  },
  {
   "cell_type": "code",
   "execution_count": null,
   "metadata": {},
   "outputs": [],
   "source": [
    "mavlink.enums['MAV_CMD'][mavlink.MAV_CMD_REQUEST_MESSAGE].name"
   ]
  },
  {
   "cell_type": "code",
   "execution_count": null,
   "metadata": {},
   "outputs": [
    {
     "data": {
      "text/plain": "dict_keys([16, 17, 18, 19, 20, 21, 22, 23, 24, 25, 30, 31, 32, 33, 80, 81, 82, 83, 84, 85, 92, 93, 94, 95, 112, 113, 114, 115, 159, 176, 177, 178, 179, 180, 181, 182, 183, 184, 185, 186, 189, 190, 191, 192, 193, 194, 195, 196, 197, 198, 200, 201, 202, 203, 204, 205, 206, 207, 208, 209, 210, 211, 212, 213, 214, 215, 216, 217, 218, 220, 221, 222, 223, 224, 240, 241, 242, 243, 245, 246, 252, 260, 300, 400, 401, 410, 500, 510, 511, 512, 519, 520, 521, 522, 525, 526, 527, 528, 529, 530, 531, 532, 600, 601, 1000, 1001, 2000, 2001, 2003, 2004, 2005, 2010, 2500, 2501, 2502, 2503, 2504, 2505, 2510, 2511, 2520, 2600, 2800, 3000, 3001, 4000, 4001, 5000, 5001, 5002, 5003, 5004, 5100, 5200, 10001, 10151, 30001, 30002, 31000, 31001, 31002, 31003, 31004, 31005, 31006, 31007, 31008, 31009, 31010, 31011, 31012, 31013, 31014, 32000, 42000, 42001, 42002, 42003, 42004, 42005, 42006, 42007, 42424, 42425, 42426, 42427, 42428, 42429, 42501, 42502, 42503, 42505, 42600, 42650, 42651, 42700, 42701, 42702, 42703, 43000, 43001, 43002, 43003, 43004])"
     },
     "execution_count": null,
     "metadata": {},
     "output_type": "execute_result"
    }
   ],
   "source": [
    "mavlink.enums['MAV_CMD'][mavlink.MAV_CMD_REQUEST_MESSAGE]\n",
    "mavlink.enums['MAV_CMD'].keys()"
   ]
  },
  {
   "cell_type": "code",
   "execution_count": null,
   "metadata": {},
   "outputs": [
    {
     "data": {
      "text/plain": "[512, 527, 521, 522, 525, 526, 531, 2000, 2001, 2500, 2501, 530, 2502, 2503]"
     },
     "execution_count": null,
     "metadata": {},
     "output_type": "execute_result"
    }
   ],
   "source": [
    "CameraServer().mav_cmd_list"
   ]
  },
  {
   "cell_type": "code",
   "execution_count": null,
   "metadata": {},
   "outputs": [
    {
     "name": "stdout",
     "output_type": "stream",
     "text": [
      "mav_cmd_list\n",
      "cmd_value.name = 'MAV_CMD_REQUEST_MESSAGE'  Request the target system(s) emit a single instance of a specified message (i.e. a \"one-shot\" version of MAV_CMD_SET_MESSAGE_INTERVAL).\n",
      "cmd_value.name = 'MAV_CMD_REQUEST_CAMERA_CAPTURE_STATUS'  Request camera capture status (CAMERA_CAPTURE_STATUS)\n",
      "cmd_value.name = 'MAV_CMD_REQUEST_CAMERA_INFORMATION'  Request camera information (CAMERA_INFORMATION).\n",
      "cmd_value.name = 'MAV_CMD_REQUEST_CAMERA_SETTINGS'  Request camera settings (CAMERA_SETTINGS).\n",
      "cmd_value.name = 'MAV_CMD_REQUEST_STORAGE_INFORMATION'  Request storage information (STORAGE_INFORMATION). Use the command's target_component to target a specific component's storage.\n",
      "cmd_value.name = 'MAV_CMD_STORAGE_FORMAT'  Format a storage medium. Once format is complete, a STORAGE_INFORMATION message is sent. Use the command's target_component to target a specific component's storage.\n",
      "cmd_value.name = 'MAV_CMD_SET_CAMERA_ZOOM'  Set camera zoom. Camera must respond with a CAMERA_SETTINGS message (on success).\n",
      "cmd_value.name = 'MAV_CMD_IMAGE_START_CAPTURE'  Start image capture sequence. Sends CAMERA_IMAGE_CAPTURED after each capture. Use NaN for reserved values.\n",
      "cmd_value.name = 'MAV_CMD_IMAGE_STOP_CAPTURE'  Stop image capture sequence Use NaN for reserved values.\n",
      "cmd_value.name = 'MAV_CMD_VIDEO_START_CAPTURE'  Starts video capture (recording).\n",
      "cmd_value.name = 'MAV_CMD_VIDEO_STOP_CAPTURE'  Stop the current video capture (recording).\n",
      "cmd_value.name = 'MAV_CMD_SET_CAMERA_MODE'  Set camera running mode. Use NaN for reserved values. GCS will send a MAV_CMD_REQUEST_VIDEO_STREAM_STATUS command after a mode change if the camera supports video streaming.\n",
      "cmd_value.name = 'MAV_CMD_VIDEO_START_STREAMING'  Start video streaming\n",
      "cmd_value.name = 'MAV_CMD_VIDEO_STOP_STREAMING'  Stop the given video stream\n",
      "mav_msg_id_list\n",
      "msg = 259\n",
      "msg = 260\n",
      "msg = 261\n",
      "msg = 262\n",
      "msg = 263\n",
      "msg = 269\n",
      "msg = 270\n"
     ]
    }
   ],
   "source": [
    "print(\"mav_cmd_list\")\n",
    "for cmd in CameraServer().mav_cmd_list:\n",
    "    cmd_value = mavlink.enums['MAV_CMD'][cmd]\n",
    "    print(f\"{cmd_value.name = } {cmd_value.} {cmd_value.description}\")\n",
    "\n",
    "print(\"mav_msg_id_list\") \n",
    "for msg in CameraServer().mav_msg_id_list:\n",
    "    print(f\"{msg = }\")"
   ]
  },
  {
   "cell_type": "code",
   "execution_count": null,
   "metadata": {},
   "outputs": [
    {
     "name": "stdout",
     "output_type": "stream",
     "text": [
      "Supported Commands: https://mavlink.io/en/messages/common.html#mav_commands\n",
      "[512, 527, 521, 522, 525, 526, 531, 2000, 2001, 2500, 2501, 530, 2502, 2503]\n",
      "Supported Message Requests:  https://mavlink.io/en/messages/common.html#messages\n",
      "[259, 260, 261, 262, 263, 269, 270]\n"
     ]
    },
    {
     "name": "stderr",
     "output_type": "stream",
     "text": [
      "[autoreload of UAV.mavlink.camera_server failed: Traceback (most recent call last):\n",
      "  File \"/home/jn/PycharmProjects/UAV/venv/lib/python3.10/site-packages/IPython/extensions/autoreload.py\", line 276, in check\n",
      "    superreload(m, reload, self.old_objects)\n",
      "  File \"/home/jn/PycharmProjects/UAV/venv/lib/python3.10/site-packages/IPython/extensions/autoreload.py\", line 475, in superreload\n",
      "    module = reload(module)\n",
      "  File \"/usr/lib/python3.10/importlib/__init__.py\", line 169, in reload\n",
      "    _bootstrap._exec(spec, module)\n",
      "  File \"<frozen importlib._bootstrap>\", line 619, in _exec\n",
      "  File \"<frozen importlib._bootstrap_external>\", line 883, in exec_module\n",
      "  File \"<frozen importlib._bootstrap>\", line 241, in _call_with_frames_removed\n",
      "  File \"/home/jn/PycharmProjects/UAV/UAV/mavlink/camera_server.py\", line 67, in <module>\n",
      "    class CameraServer(Component):\n",
      "  File \"/home/jn/PycharmProjects/UAV/UAV/mavlink/camera_server.py\", line 107, in CameraServer\n",
      "    mav_msg_id_list = [ mavlink.enums['MAVLINK_MSG_ID']['MAVLINK_MSG_ID_CAMERA_INFORMATION'],\n",
      "KeyError: 'MAVLINK_MSG_ID'\n",
      "]\n"
     ]
    }
   ],
   "source": [
    "# Listed commands are:\n",
    "CameraServer().list_commands()"
   ]
  },
  {
   "cell_type": "code",
   "execution_count": null,
   "metadata": {},
   "outputs": [
    {
     "data": {
      "text/markdown": "---\n\n### CameraServer.close\n\n>      CameraServer.close ()\n\nClose the connection to the camera\n\n---\n\n### Component.count_message\n\n>      Component.count_message (msg)\n\nCount a message by adding it to the message_cnts dictionary. indexed by system and message type\n\n---\n\n### CameraServer.list_commands\n\n>      CameraServer.list_commands ()\n\nList the commands supported by the camera server\nhttps://mavlink.io/en/messages/common.html\nhttps://mavlink.io/en/messages/common.html#MAV_CMD_REQUEST_CAMERA_INFORMATION\nhttps://mavlink.io/en/messages/common.html#MAV_CMD_REQUEST_CAMERA_SETTINGS\nhttps://mavlink.io/en/messages/common.html#MAV_CMD_REQUEST_STORAGE_INFORMATION\nhttps://mavlink.io/en/messages/common.html#MAV_CMD_STORAGE_FORMAT\nhttps://mavlink.io/en/messages/common.html#MAV_CMD_SET_CAMERA_ZOOM\netc\n\n---\n\n### CameraServer.on_mav_connection\n\n>      CameraServer.on_mav_connection ()\n\nStart the mavlink connection\n\n---\n\n### CameraServer.on_message\n\n>      CameraServer.on_message\n>                               (msg:pymavlink.dialects.v20.ardupilotmega.MAVLin\n>                               k_command_long_message)\n\nCallback for a command received from the client\nThis will respond to the mavlink camera and storage focused commands:\n\n|    | **Type** | **Details** |\n| -- | -------- | ----------- |\n| msg | MAVLink_command_long_message | : mavlink  Message |\n| **Returns** | **bool** | **return True to indicate that the message has been handled** |\n\n---\n\n### Component.send_ack\n\n>      Component.send_ack (msg, ack_result:object=0)\n\nSend an ACK message to indicate a command was received.\n\n---\n\n### Component.send_command\n\n>      Component.send_command (target_system:int, target_component:int,\n>                              command_id:int, params:list, timeout=0.5)\n\n**Note: async function** \n\n\n\n---\n\n### Component.send_ping\n\n>      Component.send_ping (target_system:int, target_component:int,\n>                           ping_num:int=None)\n\nSend self.max_pings * ping messages to test if the server is alive.\n\n---\n\n### Component.set_log\n\n>      Component.set_log (loglevel)\n\n---\n\n### Component.set_mav_connection\n\n>      Component.set_mav_connection (mav_com:MAVCom)\n\nSet the mav_connection for the component\n\n---\n\n### Component.set_source_compenent\n\n>      Component.set_source_compenent ()\n\nSet the source component for the master.mav\n\n---\n\n### Component.set_target\n\n>      Component.set_target (target_system, target_component)\n\nSet the target system and component for the gimbal\n\n---\n\n### Component.wait_ack\n\n>      Component.wait_ack (target_system, target_component, command_id=None,\n>                          timeout=0.1)\n\nWait for an ack from target_system and target_component.\n\n**Note: async function** \n\n\n\n---\n\n### Component.wait_heartbeat\n\n>      Component.wait_heartbeat (remote_mav_type=None, target_system=None,\n>                                target_component=None, timeout:int=1)\n\nWait for a heartbeat from target_system and target_component.\n\n**Note: async function** \n\n\n\n",
      "text/plain": "---\n\n### CameraServer.close\n\n>      CameraServer.close ()\n\nClose the connection to the camera\n\n---\n\n### Component.count_message\n\n>      Component.count_message (msg)\n\nCount a message by adding it to the message_cnts dictionary. indexed by system and message type\n\n---\n\n### CameraServer.list_commands\n\n>      CameraServer.list_commands ()\n\nList the commands supported by the camera server\nhttps://mavlink.io/en/messages/common.html\nhttps://mavlink.io/en/messages/common.html#MAV_CMD_REQUEST_CAMERA_INFORMATION\nhttps://mavlink.io/en/messages/common.html#MAV_CMD_REQUEST_CAMERA_SETTINGS\nhttps://mavlink.io/en/messages/common.html#MAV_CMD_REQUEST_STORAGE_INFORMATION\nhttps://mavlink.io/en/messages/common.html#MAV_CMD_STORAGE_FORMAT\nhttps://mavlink.io/en/messages/common.html#MAV_CMD_SET_CAMERA_ZOOM\netc\n\n---\n\n### CameraServer.on_mav_connection\n\n>      CameraServer.on_mav_connection ()\n\nStart the mavlink connection\n\n---\n\n### CameraServer.on_message\n\n>      CameraServer.on_message\n>                               (msg:pymavlink.dialects.v20.ardupilotmega.MAVLin\n>                               k_command_long_message)\n\nCallback for a command received from the client\nThis will respond to the mavlink camera and storage focused commands:\n\n|    | **Type** | **Details** |\n| -- | -------- | ----------- |\n| msg | MAVLink_command_long_message | : mavlink  Message |\n| **Returns** | **bool** | **return True to indicate that the message has been handled** |\n\n---\n\n### Component.send_ack\n\n>      Component.send_ack (msg, ack_result:object=0)\n\nSend an ACK message to indicate a command was received.\n\n---\n\n### Component.send_command\n\n>      Component.send_command (target_system:int, target_component:int,\n>                              command_id:int, params:list, timeout=0.5)\n\n**Note: async function** \n\n\n\n---\n\n### Component.send_ping\n\n>      Component.send_ping (target_system:int, target_component:int,\n>                           ping_num:int=None)\n\nSend self.max_pings * ping messages to test if the server is alive.\n\n---\n\n### Component.set_log\n\n>      Component.set_log (loglevel)\n\n---\n\n### Component.set_mav_connection\n\n>      Component.set_mav_connection (mav_com:MAVCom)\n\nSet the mav_connection for the component\n\n---\n\n### Component.set_source_compenent\n\n>      Component.set_source_compenent ()\n\nSet the source component for the master.mav\n\n---\n\n### Component.set_target\n\n>      Component.set_target (target_system, target_component)\n\nSet the target system and component for the gimbal\n\n---\n\n### Component.wait_ack\n\n>      Component.wait_ack (target_system, target_component, command_id=None,\n>                          timeout=0.1)\n\nWait for an ack from target_system and target_component.\n\n**Note: async function** \n\n\n\n---\n\n### Component.wait_heartbeat\n\n>      Component.wait_heartbeat (remote_mav_type=None, target_system=None,\n>                                target_component=None, timeout:int=1)\n\nWait for a heartbeat from target_system and target_component.\n\n**Note: async function** \n\n\n"
     },
     "execution_count": null,
     "metadata": {},
     "output_type": "execute_result"
    }
   ],
   "source": [
    "doc_class(CameraServer)"
   ]
  },
  {
   "cell_type": "markdown",
   "metadata": {},
   "source": [
    "### Camera Client \n",
    "> The client is on the ground station PC and is used to send commands to the camera on the companion computer."
   ]
  },
  {
   "cell_type": "code",
   "execution_count": null,
   "metadata": {},
   "outputs": [
    {
     "data": {
      "text/markdown": "---\n\n### CameraClient\n\n>      CameraClient (source_component, mav_type,\n>                    loglevel:UAV.logging.LogLevels=20)\n\nCreate a client component to send commands to a companion computer or GCS that will control a camera via a CameraServer instance\n\n|    | **Type** | **Default** | **Details** |\n| -- | -------- | ----------- | ----------- |\n| source_component |  |  | used for component indication |\n| mav_type |  |  | used for heartbeat MAV_TYPE indication |\n| loglevel | LogLevels | 20 | logging level |",
      "text/plain": "---\n\n### CameraClient\n\n>      CameraClient (source_component, mav_type,\n>                    loglevel:UAV.logging.LogLevels=20)\n\nCreate a client component to send commands to a companion computer or GCS that will control a camera via a CameraServer instance\n\n|    | **Type** | **Default** | **Details** |\n| -- | -------- | ----------- | ----------- |\n| source_component |  |  | used for component indication |\n| mav_type |  |  | used for heartbeat MAV_TYPE indication |\n| loglevel | LogLevels | 20 | logging level |"
     },
     "execution_count": null,
     "metadata": {},
     "output_type": "execute_result"
    }
   ],
   "source": [
    "show_doc(CameraClient)"
   ]
  },
  {
   "cell_type": "code",
   "execution_count": null,
   "metadata": {},
   "outputs": [
    {
     "data": {
      "text/markdown": "---\n\n### Component.close\n\n>      Component.close ()\n\n---\n\n### Component.count_message\n\n>      Component.count_message (msg)\n\nCount a message by adding it to the message_cnts dictionary. indexed by system and message type\n\n---\n\n### CameraClient.image_start_capture\n\n>      CameraClient.image_start_capture (target_system=None,\n>                                        target_component=None, interval=0,\n>                                        count=1)\n\nStart image capture sequence.\n\n|    | **Type** | **Default** | **Details** |\n| -- | -------- | ----------- | ----------- |\n| target_system | NoneType | None |  |\n| target_component | NoneType | None |  |\n| interval | int | 0 | Image capture interval |\n| count | int | 1 | Number of images to capture (0 for unlimited) |\n\n---\n\n### CameraClient.image_stop_capture\n\n>      CameraClient.image_stop_capture (target_system=None,\n>                                       target_component=None)\n\nStop image capture sequence\n\n---\n\n### CameraClient.message_callback_cond\n\n>      CameraClient.message_callback_cond (msg_id, target_system,\n>                                          target_component, timeout=1)\n\nRegister a callback for a message received from the server\nReturns the message\n\n**Note: async function** \n\n\n\n---\n\n### CameraClient.on_mav_connection\n\n>      CameraClient.on_mav_connection ()\n\n---\n\n### CameraClient.on_message\n\n>      CameraClient.on_message\n>                               (msg:pymavlink.dialects.v20.ardupilotmega.MAVLin\n>                               k_message)\n\nCallback for a command received from the server\n\n---\n\n### CameraClient.request_message\n\n>      CameraClient.request_message (msg_id, params=None, target_system=None,\n>                                    target_component=None)\n\nRequest a message from the camera\n\n**Note: async function** \n\n\n\n---\n\n### Component.send_ack\n\n>      Component.send_ack (msg, ack_result:object=0)\n\nSend an ACK message to indicate a command was received.\n\n---\n\n### Component.send_command\n\n>      Component.send_command (target_system:int, target_component:int,\n>                              command_id:int, params:list, timeout=0.5)\n\n**Note: async function** \n\n\n\n---\n\n### CameraClient.send_message\n\n>      CameraClient.send_message (msg)\n\nSend a message to the camera\n\n---\n\n### Component.send_ping\n\n>      Component.send_ping (target_system:int, target_component:int,\n>                           ping_num:int=None)\n\nSend self.max_pings * ping messages to test if the server is alive.\n\n---\n\n### CameraClient.set_camera_mode\n\n>      CameraClient.set_camera_mode (target_system=None, target_component=None,\n>                                    mode_id=0)\n\nSet the camera mode\n\n|    | **Type** | **Default** | **Details** |\n| -- | -------- | ----------- | ----------- |\n| target_system | NoneType | None |  |\n| target_component | NoneType | None |  |\n| mode_id | int | 0 | https://mavlink.io/en/messages/common.html#CAMERA_MODE |\n\n---\n\n### CameraClient.set_camera_zoom\n\n>      CameraClient.set_camera_zoom (target_system=None, target_component=None,\n>                                    zoom_type=0, zoom_value=1)\n\nSet the camera zoom\n\n|    | **Type** | **Default** | **Details** |\n| -- | -------- | ----------- | ----------- |\n| target_system | NoneType | None |  |\n| target_component | NoneType | None |  |\n| zoom_type | int | 0 |  |\n| zoom_value | int | 1 | 0 to 100 zoom value |\n\n---\n\n### Component.set_log\n\n>      Component.set_log (loglevel)\n\n---\n\n### Component.set_mav_connection\n\n>      Component.set_mav_connection (mav_com:MAVCom)\n\nSet the mav_connection for the component\n\n---\n\n### CameraClient.set_message_callback_cond\n\n>      CameraClient.set_message_callback_cond (msg_id, target_system,\n>                                              target_component)\n\nRegister a callback condition for a message received from the server\n\n---\n\n### Component.set_source_compenent\n\n>      Component.set_source_compenent ()\n\nSet the source component for the master.mav\n\n---\n\n### Component.set_target\n\n>      Component.set_target (target_system, target_component)\n\nSet the target system and component for the gimbal\n\n---\n\n### CameraClient.storage_format\n\n>      CameraClient.storage_format (target_system=None, target_component=None)\n\nFormat storage (for cases where camera has storage)\n\n---\n\n### CameraClient.video_start_capture\n\n>      CameraClient.video_start_capture (target_system=None,\n>                                        target_component=None,\n>                                        video_stream_id=0, frequency=1)\n\nStart video capture\n\n|    | **Type** | **Default** | **Details** |\n| -- | -------- | ----------- | ----------- |\n| target_system | NoneType | None |  |\n| target_component | NoneType | None |  |\n| video_stream_id | int | 0 | Video stream id (0 for all streams) |\n| frequency | int | 1 | Frequency CAMERA_CAPTURE_STATUS messages should be sent while recording (0 for no messages, otherwise frequency in Hz) |\n\n---\n\n### CameraClient.video_start_streaming\n\n>      CameraClient.video_start_streaming (target_system=None,\n>                                          target_component=None,\n>                                          video_stream_id=0)\n\nStart video streaming\n\n|    | **Type** | **Default** | **Details** |\n| -- | -------- | ----------- | ----------- |\n| target_system | NoneType | None |  |\n| target_component | NoneType | None |  |\n| video_stream_id | int | 0 | Video Stream ID (0 for all streams) |\n\n---\n\n### CameraClient.video_stop_capture\n\n>      CameraClient.video_stop_capture (target_system=None,\n>                                       target_component=None,\n>                                       video_stream_id=0)\n\nStop video capture\n\n|    | **Type** | **Default** | **Details** |\n| -- | -------- | ----------- | ----------- |\n| target_system | NoneType | None |  |\n| target_component | NoneType | None |  |\n| video_stream_id | int | 0 | Video stream id (0 for all streams) |\n\n---\n\n### CameraClient.video_stop_streaming\n\n>      CameraClient.video_stop_streaming (target_system=None,\n>                                         target_component=None,\n>                                         video_stream_id=0)\n\nStop the video stream\n\n|    | **Type** | **Default** | **Details** |\n| -- | -------- | ----------- | ----------- |\n| target_system | NoneType | None |  |\n| target_component | NoneType | None |  |\n| video_stream_id | int | 0 | Video Stream ID (0 for all streams) |\n\n---\n\n### Component.wait_ack\n\n>      Component.wait_ack (target_system, target_component, command_id=None,\n>                          timeout=0.1)\n\nWait for an ack from target_system and target_component.\n\n**Note: async function** \n\n\n\n---\n\n### Component.wait_heartbeat\n\n>      Component.wait_heartbeat (remote_mav_type=None, target_system=None,\n>                                target_component=None, timeout:int=1)\n\nWait for a heartbeat from target_system and target_component.\n\n**Note: async function** \n\n\n\n---\n\n### CameraClient.wait_message_callback\n\n>      CameraClient.wait_message_callback (cond, timeout=1)\n\nWait for the callback for a message received from the server\n\n**Note: async function** \n\n\n\n",
      "text/plain": "---\n\n### Component.close\n\n>      Component.close ()\n\n---\n\n### Component.count_message\n\n>      Component.count_message (msg)\n\nCount a message by adding it to the message_cnts dictionary. indexed by system and message type\n\n---\n\n### CameraClient.image_start_capture\n\n>      CameraClient.image_start_capture (target_system=None,\n>                                        target_component=None, interval=0,\n>                                        count=1)\n\nStart image capture sequence.\n\n|    | **Type** | **Default** | **Details** |\n| -- | -------- | ----------- | ----------- |\n| target_system | NoneType | None |  |\n| target_component | NoneType | None |  |\n| interval | int | 0 | Image capture interval |\n| count | int | 1 | Number of images to capture (0 for unlimited) |\n\n---\n\n### CameraClient.image_stop_capture\n\n>      CameraClient.image_stop_capture (target_system=None,\n>                                       target_component=None)\n\nStop image capture sequence\n\n---\n\n### CameraClient.message_callback_cond\n\n>      CameraClient.message_callback_cond (msg_id, target_system,\n>                                          target_component, timeout=1)\n\nRegister a callback for a message received from the server\nReturns the message\n\n**Note: async function** \n\n\n\n---\n\n### CameraClient.on_mav_connection\n\n>      CameraClient.on_mav_connection ()\n\n---\n\n### CameraClient.on_message\n\n>      CameraClient.on_message\n>                               (msg:pymavlink.dialects.v20.ardupilotmega.MAVLin\n>                               k_message)\n\nCallback for a command received from the server\n\n---\n\n### CameraClient.request_message\n\n>      CameraClient.request_message (msg_id, params=None, target_system=None,\n>                                    target_component=None)\n\nRequest a message from the camera\n\n**Note: async function** \n\n\n\n---\n\n### Component.send_ack\n\n>      Component.send_ack (msg, ack_result:object=0)\n\nSend an ACK message to indicate a command was received.\n\n---\n\n### Component.send_command\n\n>      Component.send_command (target_system:int, target_component:int,\n>                              command_id:int, params:list, timeout=0.5)\n\n**Note: async function** \n\n\n\n---\n\n### CameraClient.send_message\n\n>      CameraClient.send_message (msg)\n\nSend a message to the camera\n\n---\n\n### Component.send_ping\n\n>      Component.send_ping (target_system:int, target_component:int,\n>                           ping_num:int=None)\n\nSend self.max_pings * ping messages to test if the server is alive.\n\n---\n\n### CameraClient.set_camera_mode\n\n>      CameraClient.set_camera_mode (target_system=None, target_component=None,\n>                                    mode_id=0)\n\nSet the camera mode\n\n|    | **Type** | **Default** | **Details** |\n| -- | -------- | ----------- | ----------- |\n| target_system | NoneType | None |  |\n| target_component | NoneType | None |  |\n| mode_id | int | 0 | https://mavlink.io/en/messages/common.html#CAMERA_MODE |\n\n---\n\n### CameraClient.set_camera_zoom\n\n>      CameraClient.set_camera_zoom (target_system=None, target_component=None,\n>                                    zoom_type=0, zoom_value=1)\n\nSet the camera zoom\n\n|    | **Type** | **Default** | **Details** |\n| -- | -------- | ----------- | ----------- |\n| target_system | NoneType | None |  |\n| target_component | NoneType | None |  |\n| zoom_type | int | 0 |  |\n| zoom_value | int | 1 | 0 to 100 zoom value |\n\n---\n\n### Component.set_log\n\n>      Component.set_log (loglevel)\n\n---\n\n### Component.set_mav_connection\n\n>      Component.set_mav_connection (mav_com:MAVCom)\n\nSet the mav_connection for the component\n\n---\n\n### CameraClient.set_message_callback_cond\n\n>      CameraClient.set_message_callback_cond (msg_id, target_system,\n>                                              target_component)\n\nRegister a callback condition for a message received from the server\n\n---\n\n### Component.set_source_compenent\n\n>      Component.set_source_compenent ()\n\nSet the source component for the master.mav\n\n---\n\n### Component.set_target\n\n>      Component.set_target (target_system, target_component)\n\nSet the target system and component for the gimbal\n\n---\n\n### CameraClient.storage_format\n\n>      CameraClient.storage_format (target_system=None, target_component=None)\n\nFormat storage (for cases where camera has storage)\n\n---\n\n### CameraClient.video_start_capture\n\n>      CameraClient.video_start_capture (target_system=None,\n>                                        target_component=None,\n>                                        video_stream_id=0, frequency=1)\n\nStart video capture\n\n|    | **Type** | **Default** | **Details** |\n| -- | -------- | ----------- | ----------- |\n| target_system | NoneType | None |  |\n| target_component | NoneType | None |  |\n| video_stream_id | int | 0 | Video stream id (0 for all streams) |\n| frequency | int | 1 | Frequency CAMERA_CAPTURE_STATUS messages should be sent while recording (0 for no messages, otherwise frequency in Hz) |\n\n---\n\n### CameraClient.video_start_streaming\n\n>      CameraClient.video_start_streaming (target_system=None,\n>                                          target_component=None,\n>                                          video_stream_id=0)\n\nStart video streaming\n\n|    | **Type** | **Default** | **Details** |\n| -- | -------- | ----------- | ----------- |\n| target_system | NoneType | None |  |\n| target_component | NoneType | None |  |\n| video_stream_id | int | 0 | Video Stream ID (0 for all streams) |\n\n---\n\n### CameraClient.video_stop_capture\n\n>      CameraClient.video_stop_capture (target_system=None,\n>                                       target_component=None,\n>                                       video_stream_id=0)\n\nStop video capture\n\n|    | **Type** | **Default** | **Details** |\n| -- | -------- | ----------- | ----------- |\n| target_system | NoneType | None |  |\n| target_component | NoneType | None |  |\n| video_stream_id | int | 0 | Video stream id (0 for all streams) |\n\n---\n\n### CameraClient.video_stop_streaming\n\n>      CameraClient.video_stop_streaming (target_system=None,\n>                                         target_component=None,\n>                                         video_stream_id=0)\n\nStop the video stream\n\n|    | **Type** | **Default** | **Details** |\n| -- | -------- | ----------- | ----------- |\n| target_system | NoneType | None |  |\n| target_component | NoneType | None |  |\n| video_stream_id | int | 0 | Video Stream ID (0 for all streams) |\n\n---\n\n### Component.wait_ack\n\n>      Component.wait_ack (target_system, target_component, command_id=None,\n>                          timeout=0.1)\n\nWait for an ack from target_system and target_component.\n\n**Note: async function** \n\n\n\n---\n\n### Component.wait_heartbeat\n\n>      Component.wait_heartbeat (remote_mav_type=None, target_system=None,\n>                                target_component=None, timeout:int=1)\n\nWait for a heartbeat from target_system and target_component.\n\n**Note: async function** \n\n\n\n---\n\n### CameraClient.wait_message_callback\n\n>      CameraClient.wait_message_callback (cond, timeout=1)\n\nWait for the callback for a message received from the server\n\n**Note: async function** \n\n\n"
     },
     "execution_count": null,
     "metadata": {},
     "output_type": "execute_result"
    }
   ],
   "source": [
    "doc_class(CameraClient)"
   ]
  },
  {
   "cell_type": "markdown",
   "metadata": {},
   "source": [
    "### Example: Test locally using UDP ports\n",
    "\n",
    "> on the same machine using UDP ports `14445`  with `server_system_ID=111, client_system_ID=222`\n"
   ]
  },
  {
   "cell_type": "code",
   "execution_count": null,
   "metadata": {},
   "outputs": [
    {
     "name": "stderr",
     "output_type": "stream",
     "text": [
      "\u001b[32mINFO   | uav.MAVCom      | 54.661 |  mavcom.py:393 | Thread-5 (listen)  | MAVLink Mav2: True, source_system: 111\u001b[0m\n",
      "\u001b[32mINFO   | uav.MAVCom      | 54.763 |  mavcom.py:393 | Thread-6 (listen)  | MAVLink Mav2: True, source_system: 222\u001b[0m\n",
      "\u001b[32mINFO   | uav.CameraClien | 54.770 | component.py:135 | MainThread         | Component Started self.source_component = 11, self.mav_type = 6, self.source_system = 111\u001b[0m\n",
      "\u001b[33mWARNIN | uav.CameraServe | 54.772 | camera_server.py: 92 | MainThread         | Component has no camera object\u001b[0m\n",
      "\u001b[32mINFO   | uav.CameraServe | 54.773 | component.py:135 | MainThread         | Component Started self.source_component = 22, self.mav_type = 30, self.source_system = 222\u001b[0m\n"
     ]
    },
    {
     "name": "stdout",
     "output_type": "stream",
     "text": [
      "set_mav_connection CameraClient component.py:131 self.mav_com = <MAVCom>\n",
      "set_mav_connection CameraServer component.py:131 self.mav_com = <MAVCom>\n",
      "UAV                             \n",
      "MAVLINK_MSG_ID_CAMERA_INFORMATION CAMERA_INFORMATION {time_boot_ms : 1699, vendor_name : UAV, model_name : FakeCamera, firmware_version : 1, focal_length : 2.799999952316284, sensor_size_h : 3.200000047683716, sensor_size_v : 2.4000000953674316, resolution_h : 640, resolution_v : 480, lens_id : 0, flags : 0, cam_definition_version : 1, cam_definition_uri : , gimbal_device_id : 0}\n"
     ]
    },
    {
     "name": "stderr",
     "output_type": "stream",
     "text": [
      "\u001b[32mINFO   | uav.CameraServe | 58.786 | component.py:404 | MainThread         | CameraServer closed\u001b[0m\n",
      "\u001b[32mINFO   | uav.MAVCom      | 58.787 |  mavcom.py:442 | MainThread         | MAVCom  closed\u001b[0m\n",
      "\u001b[32mINFO   | uav.CameraClien | 00.794 | component.py:404 | MainThread         | CameraClient closed\u001b[0m\n",
      "\u001b[32mINFO   | uav.MAVCom      | 00.795 |  mavcom.py:442 | MainThread         | MAVCom  closed\u001b[0m\n"
     ]
    }
   ],
   "source": [
    "%autoawait asyncio\n",
    "import asyncio\n",
    "async def main():\n",
    "    MAV_TYPE_GCS = mavutil.mavlink.MAV_TYPE_GCS\n",
    "    MAV_TYPE_CAMERA = mavutil.mavlink.MAV_TYPE_CAMERA\n",
    "    \n",
    "    con1, con2 = \"udpin:localhost:14445\", \"udpout:localhost:14445\"\n",
    "    # con1, con2 = \"/dev/ttyACM0\", \"/dev/ttyUSB0\"\n",
    "    with MAVCom(con1, source_system=111) as client:\n",
    "        with MAVCom(con2, source_system=222) as server:\n",
    "            cam:CameraClient = client.add_component(\n",
    "                CameraClient(mav_type=MAV_TYPE_GCS, source_component=11))\n",
    "            # server.add_component(CameraServer(mav_type=MAV_TYPE_CAMERA, source_component=22, camera=cam_fake1, debug=False))\n",
    "            server.add_component(CameraServer(mav_type=MAV_TYPE_CAMERA, source_component=22, camera=None))\n",
    "    \n",
    "            await cam.wait_heartbeat(target_system=222, target_component=22, timeout=1)\n",
    "            time.sleep(0.1)\n",
    "    \n",
    "            msg = await cam.request_message(mavlink.MAVLINK_MSG_ID_CAMERA_INFORMATION, target_system=222, target_component=22)\n",
    "\n",
    "            print( f\"MAVLINK_MSG_ID_CAMERA_INFORMATION {msg}\")\n",
    "            \n",
    "            # msg = await cam.request_storage_information()\n",
    "            # print (msg)\n",
    "            \n",
    "            time.sleep(1)\n",
    "            \n",
    "await main()"
   ]
  },
  {
   "cell_type": "code",
   "execution_count": null,
   "metadata": {},
   "outputs": [],
   "source": [
    "# | hide\n",
    "# assert False, \"Stop here\""
   ]
  },
  {
   "cell_type": "markdown",
   "metadata": {},
   "source": [
    "#### Starting a client and server\n",
    " > on the same machine using UDP ports `14445`  with `server_system_ID=111, client_system_ID=222`"
   ]
  },
  {
   "cell_type": "code",
   "execution_count": null,
   "metadata": {},
   "outputs": [],
   "source": [
    "#| exports\n",
    "from UAV.mavlink.mavcom import MAVCom\n",
    "from UAV.mavlink.component import Component, mavutil\n",
    "import time\n",
    "\n",
    "MAV_TYPE_GCS = mavutil.mavlink.MAV_TYPE_GCS\n",
    "MAV_TYPE_CAMERA = mavutil.mavlink.MAV_TYPE_CAMERA\n",
    "\n",
    "class Cam1(Component):\n",
    "    def __init__(self, source_component, mav_type, debug=False):\n",
    "        super().__init__(source_component=source_component, mav_type=mav_type,\n",
    "                         debug=debug)\n",
    "\n",
    "class Cam2(Component):\n",
    "    def __init__(self, source_component, mav_type, debug=False):\n",
    "        super().__init__(source_component=source_component, mav_type=mav_type,\n",
    "                         debug=debug)\n",
    "class Cli(Component):\n",
    "    def __init__(self, source_component, mav_type, debug=False):\n",
    "        super().__init__( source_component=source_component, mav_type=mav_type,\n",
    "                         debug=debug)"
   ]
  },
  {
   "cell_type": "code",
   "execution_count": null,
   "metadata": {},
   "outputs": [
    {
     "ename": "TypeError",
     "evalue": "MAVCom.__init__() got an unexpected keyword argument 'debug'",
     "output_type": "error",
     "traceback": [
      "\u001b[0;31m---------------------------------------------------------------------------\u001b[0m",
      "\u001b[0;31mTypeError\u001b[0m                                 Traceback (most recent call last)",
      "Cell \u001b[0;32mIn[14], line 31\u001b[0m\n\u001b[1;32m     29\u001b[0m         \u001b[38;5;28;01massert\u001b[39;00m server\u001b[38;5;241m.\u001b[39mcomponent[\u001b[38;5;241m22\u001b[39m]\u001b[38;5;241m.\u001b[39mnum_cmds_rcvd \u001b[38;5;241m==\u001b[39m NUM_TO_SEND\n\u001b[1;32m     30\u001b[0m         \u001b[38;5;28;01massert\u001b[39;00m server\u001b[38;5;241m.\u001b[39mcomponent[\u001b[38;5;241m23\u001b[39m]\u001b[38;5;241m.\u001b[39mnum_cmds_rcvd \u001b[38;5;241m==\u001b[39m NUM_TO_SEND\n\u001b[0;32m---> 31\u001b[0m \u001b[43mtest_ack\u001b[49m\u001b[43m(\u001b[49m\u001b[43m)\u001b[49m\n",
      "Cell \u001b[0;32mIn[14], line 4\u001b[0m, in \u001b[0;36mtest_ack\u001b[0;34m()\u001b[0m\n\u001b[1;32m      2\u001b[0m \u001b[38;5;28;01mdef\u001b[39;00m \u001b[38;5;21mtest_ack\u001b[39m():\n\u001b[1;32m      3\u001b[0m     \u001b[38;5;66;03m# Test sending a command and receiving an ack from client to server\u001b[39;00m\n\u001b[0;32m----> 4\u001b[0m     \u001b[38;5;28;01mwith\u001b[39;00m \u001b[43mMAVCom\u001b[49m\u001b[43m(\u001b[49m\u001b[38;5;124;43m\"\u001b[39;49m\u001b[38;5;124;43mudpin:localhost:14445\u001b[39;49m\u001b[38;5;124;43m\"\u001b[39;49m\u001b[43m,\u001b[49m\u001b[43m \u001b[49m\u001b[43msource_system\u001b[49m\u001b[38;5;241;43m=\u001b[39;49m\u001b[38;5;241;43m111\u001b[39;49m\u001b[43m,\u001b[49m\u001b[43m \u001b[49m\u001b[43mdebug\u001b[49m\u001b[38;5;241;43m=\u001b[39;49m\u001b[38;5;28;43;01mFalse\u001b[39;49;00m\u001b[43m)\u001b[49m \u001b[38;5;28;01mas\u001b[39;00m client:\n\u001b[1;32m      5\u001b[0m         \u001b[38;5;28;01mwith\u001b[39;00m MAVCom(\u001b[38;5;124m\"\u001b[39m\u001b[38;5;124mudpout:localhost:14445\u001b[39m\u001b[38;5;124m\"\u001b[39m, source_system\u001b[38;5;241m=\u001b[39m\u001b[38;5;241m222\u001b[39m, debug\u001b[38;5;241m=\u001b[39m\u001b[38;5;28;01mFalse\u001b[39;00m) \u001b[38;5;28;01mas\u001b[39;00m server:\n\u001b[1;32m      6\u001b[0m             client\u001b[38;5;241m.\u001b[39madd_component(Cli( mav_type\u001b[38;5;241m=\u001b[39mMAV_TYPE_GCS, source_component \u001b[38;5;241m=\u001b[39m \u001b[38;5;241m11\u001b[39m, debug\u001b[38;5;241m=\u001b[39m\u001b[38;5;28;01mFalse\u001b[39;00m))\n",
      "\u001b[0;31mTypeError\u001b[0m: MAVCom.__init__() got an unexpected keyword argument 'debug'"
     ]
    }
   ],
   "source": [
    "#| exports\n",
    "def test_ack():\n",
    "    # Test sending a command and receiving an ack from client to server\n",
    "    with MAVCom(\"udpin:localhost:14445\", source_system=111, debug=False) as client:\n",
    "        with MAVCom(\"udpout:localhost:14445\", source_system=222, debug=False) as server:\n",
    "            client.add_component(Cli( mav_type=MAV_TYPE_GCS, source_component = 11, debug=False))\n",
    "            server.add_component(Cam1( mav_type=MAV_TYPE_CAMERA, source_component = 22, debug=False))\n",
    "            server.add_component(Cam1( mav_type=MAV_TYPE_CAMERA, source_component = 23, debug=False))\n",
    "            \n",
    "            for key, comp in client.component.items():\n",
    "                if comp.wait_heartbeat(target_system=222, target_component=22, timeout=0.1):\n",
    "                    print (\"*** Received heartbeat **** \" )\n",
    "            NUM_TO_SEND = 2\n",
    "            for i in range(NUM_TO_SEND):\n",
    "                client.component[11]._test_command(222, 22, 1)\n",
    "                client.component[11]._test_command(222, 23, 1)\n",
    "                \n",
    "            client.component[11]._test_command(222, 24, 1)\n",
    "    \n",
    "        print(f\"{server.source_system = };  {server.message_cnts = }\")\n",
    "        print(f\"{client.source_system = };  {client.message_cnts = }\")\n",
    "        print()\n",
    "        print(f\"{client.source_system = } \\n{client.summary()} \\n\")\n",
    "        print(f\"{server.source_system = } \\n{server.summary()} \\n\")\n",
    "    \n",
    "        assert client.component[11].num_cmds_sent == NUM_TO_SEND * 2 + 1\n",
    "        assert client.component[11].num_acks_rcvd == NUM_TO_SEND * 2\n",
    "        assert client.component[11].num_acks_drop == 1\n",
    "        assert server.component[22].num_cmds_rcvd == NUM_TO_SEND\n",
    "        assert server.component[23].num_cmds_rcvd == NUM_TO_SEND\n",
    "test_ack()"
   ]
  },
  {
   "cell_type": "code",
   "execution_count": null,
   "metadata": {},
   "outputs": [],
   "source": [
    "#| Hide\n",
    "# assert False, \"Stop here\""
   ]
  },
  {
   "cell_type": "code",
   "execution_count": null,
   "metadata": {},
   "outputs": [],
   "source": [
    "show_doc(Component.set_source_compenent)"
   ]
  },
  {
   "cell_type": "code",
   "execution_count": null,
   "metadata": {},
   "outputs": [],
   "source": [
    "show_doc(Component.send_heartbeat)"
   ]
  },
  {
   "cell_type": "code",
   "execution_count": null,
   "metadata": {},
   "outputs": [],
   "source": [
    "show_doc(Component.send_command)"
   ]
  },
  {
   "cell_type": "code",
   "execution_count": null,
   "metadata": {},
   "outputs": [],
   "source": [
    "show_doc(Component.wait_heartbeat)"
   ]
  },
  {
   "cell_type": "code",
   "execution_count": null,
   "metadata": {},
   "outputs": [],
   "source": [
    "show_doc(Component.wait_ack)"
   ]
  },
  {
   "cell_type": "code",
   "execution_count": null,
   "metadata": {},
   "outputs": [],
   "source": [
    "show_doc(Component.send_ping)"
   ]
  },
  {
   "cell_type": "markdown",
   "metadata": {},
   "source": [
    "#### Test with Serial ports\n",
    "Test using a Pixhawk connected via telemetry 2 and USB serial ports.\n",
    "CamClient is set to udpin:localhost:14445 and CamServer is set to udpout:localhost:14435 udpin is so that the client can receive UDP from the mavproxy server at localhost:14445\n",
    "mavproxy.py --master=/dev/ttyACM1 --baudrate 57600 --out udpout:localhost:14445 mavproxy.py --master=/dev/ttyACM3 --baudrate 57600 --out udpout:localhost:14435"
   ]
  },
  {
   "cell_type": "code",
   "execution_count": null,
   "metadata": {},
   "outputs": [],
   "source": [
    "# Test sending a command and receiving an ack from client to server\n",
    "with MAVCom(\"/dev/ttyACM0\", source_system=111, debug=False) as client:\n",
    "    with MAVCom(\"/dev/ttyUSB0\", source_system=222, debug=False) as server:\n",
    "        client.add_component(Cli(client, mav_type=MAV_TYPE_GCS, source_component = 11, debug=False))\n",
    "        server.add_component(Cam1(server, mav_type=MAV_TYPE_CAMERA, source_component = 22, debug=False))\n",
    "        server.add_component(Cam1(server, mav_type=MAV_TYPE_CAMERA, source_component = 23, debug=False))\n",
    "        \n",
    "        for key, comp in client.component.items():\n",
    "            if comp.wait_heartbeat(target_system=222, target_component=22, timeout=0.1):\n",
    "                print (\"*** Received heartbeat **** \" )\n",
    "        NUM_TO_SEND = 2\n",
    "        for i in range(NUM_TO_SEND):\n",
    "            client.component[11]._test_command(222, 22, 1)\n",
    "            client.component[11]._test_command(222, 23, 1)\n",
    "            \n",
    "        client.component[11]._test_command(222, 24, 1)\n",
    "\n",
    "    print(f\"{server.source_system = };  {server.message_cnts = }\")\n",
    "    print(f\"{client.source_system = };  {client.message_cnts = }\")\n",
    "    print()\n",
    "    print(f\"{client.source_system = } \\n{client.summary()} \\n\")\n",
    "    print(f\"{server.source_system = } \\n{server.summary()} \\n\")\n",
    "\n",
    "    assert client.component[11].num_cmds_sent == NUM_TO_SEND * 2 + 1\n",
    "    assert client.component[11].num_acks_rcvd == NUM_TO_SEND * 2\n",
    "    assert client.component[11].num_acks_drop == 1\n",
    "    assert server.component[22].num_cmds_rcvd == NUM_TO_SEND\n",
    "    assert server.component[23].num_cmds_rcvd == NUM_TO_SEND"
   ]
  },
  {
   "cell_type": "markdown",
   "metadata": {},
   "source": [
    "> For debugging help see http://localhost:3000/tutorials/mavlink_doc&debug.html and http://localhost:3000/tutorials/mavlink_doc&debug.html#debugging"
   ]
  },
  {
   "cell_type": "markdown",
   "metadata": {},
   "source": []
  },
  {
   "cell_type": "code",
   "execution_count": null,
   "metadata": {},
   "outputs": [],
   "source": [
    "#| hide\n",
    "# from nbdev import nbdev_export\n",
    "# nbdev.nbdev_export()"
   ]
  }
 ],
 "metadata": {
  "kernelspec": {
   "display_name": "python3",
   "language": "python",
   "name": "python3"
  }
 },
 "nbformat": 4,
 "nbformat_minor": 4
}
