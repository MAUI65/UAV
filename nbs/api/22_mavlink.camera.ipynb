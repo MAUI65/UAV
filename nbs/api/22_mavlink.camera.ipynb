{
 "cells": [
  {
   "cell_type": "markdown",
   "metadata": {},
   "source": []
  },
  {
   "cell_type": "markdown",
   "metadata": {},
   "source": [
    "# Mavlink Camera\n",
    "> Mavlink Camera Component for sending commands to a camera on a companion computer or GCS\n",
    "> The server is on the companion computer and the client is on the ground station PC."
   ]
  },
  {
   "cell_type": "code",
   "execution_count": null,
   "metadata": {},
   "outputs": [
    {
     "name": "stderr",
     "output_type": "stream",
     "text": [
      "[autoreload of UAV.mavlink.camera failed: Traceback (most recent call last):\n",
      "  File \"/home/jn/PycharmProjects/UAV/venv/lib/python3.10/site-packages/IPython/extensions/autoreload.py\", line 276, in check\n",
      "    superreload(m, reload, self.old_objects)\n",
      "  File \"/home/jn/PycharmProjects/UAV/venv/lib/python3.10/site-packages/IPython/extensions/autoreload.py\", line 500, in superreload\n",
      "    update_generic(old_obj, new_obj)\n",
      "  File \"/home/jn/PycharmProjects/UAV/venv/lib/python3.10/site-packages/IPython/extensions/autoreload.py\", line 397, in update_generic\n",
      "    update(a, b)\n",
      "  File \"/home/jn/PycharmProjects/UAV/venv/lib/python3.10/site-packages/IPython/extensions/autoreload.py\", line 349, in update_class\n",
      "    if update_generic(old_obj, new_obj):\n",
      "  File \"/home/jn/PycharmProjects/UAV/venv/lib/python3.10/site-packages/IPython/extensions/autoreload.py\", line 397, in update_generic\n",
      "    update(a, b)\n",
      "  File \"/home/jn/PycharmProjects/UAV/venv/lib/python3.10/site-packages/IPython/extensions/autoreload.py\", line 309, in update_function\n",
      "    setattr(old, name, getattr(new, name))\n",
      "ValueError: on_mav_connection() requires a code object with 0 free vars, not 1\n",
      "]\n"
     ]
    }
   ],
   "source": [
    "#| default_exp mavlink.test_camera"
   ]
  },
  {
   "cell_type": "code",
   "execution_count": null,
   "metadata": {},
   "outputs": [
    {
     "name": "stdout",
     "output_type": "stream",
     "text": [
      "The autoreload extension is already loaded. To reload it, use:\n",
      "  %reload_ext autoreload\n"
     ]
    }
   ],
   "source": [
    "#| hide\n",
    "%load_ext autoreload\n",
    "%autoreload 2"
   ]
  },
  {
   "cell_type": "code",
   "execution_count": null,
   "metadata": {},
   "outputs": [],
   "source": [
    "#| hide\n",
    "# skip_showdoc: true to avoid running cells when rendering docs, and \n",
    "# skip_exec: true to skip this notebook when running tests. \n",
    "# this should be a raw cell "
   ]
  },
  {
   "cell_type": "raw",
   "metadata": {},
   "source": [
    "---\n",
    "skip_showdoc: true\n",
    "skip_exec: true\n",
    "---"
   ]
  },
  {
   "cell_type": "code",
   "execution_count": null,
   "metadata": {},
   "outputs": [],
   "source": [
    "#| export\n",
    "import time\n",
    "\n",
    "from UAV.mavlink.mavcom import MAVCom, time_since_boot_ms, time_UTC_usec, date_time_str\n",
    "from UAV.mavlink.component import Component, mavutil, mavlink, MAVLink\n",
    "\n",
    "from UAV.mavlink.camera import *\n",
    "from fastcore.test import *"
   ]
  },
  {
   "cell_type": "code",
   "execution_count": null,
   "metadata": {},
   "outputs": [],
   "source": [
    "#| hide\n",
    "from fastcore.utils import *\n",
    "from nbdev.showdoc import *\n"
   ]
  },
  {
   "cell_type": "markdown",
   "metadata": {},
   "source": [
    "### Implementation of these commands:\n",
    ">\n",
    "> [MAV_CMD_REQUEST_CAMERA_CAPTURE_STATUS = 527](https://mavlink.io/en/messages/common.html#MAV_CMD_REQUEST_CAMERA_CAPTURE_STATUS)\n",
    "[MAV_CMD_REQUEST_CAMERA_INFORMATION = 523](https://mavlink.io/en/messages/common.html#MAV_CMD_REQUEST_CAMERA_INFORMATION)\n",
    "[MAV_CMD_REQUEST_CAMERA_SETTINGS = 524](https://mavlink.io/en/messages/common.html#MAV_CMD_REQUEST_CAMERA_SETTINGS)\n",
    "[MAV_CMD_REQUEST_STORAGE_INFORMATION = 525](https://mavlink.io/en/messages/common.html#MAV_CMD_REQUEST_STORAGE_INFORMATION)\n",
    "[MAV_CMD_STORAGE_FORMAT = 526](https://mavlink.io/en/messages/common.html#MAV_CMD_STORAGE_FORMAT)\n",
    "[MAV_CMD_SET_CAMERA_ZOOM = 531](https://mavlink.io/en/messages/common.html#MAV_CMD_SET_CAMERA_ZOOM)\n",
    "[MAV_CMD_SET_CAMERA_FOCUS = 532](https://mavlink.io/en/messages/common.html#MAV_CMD_SET_CAMERA_FOCUS)\n",
    "[MAV_CMD_IMAGE_START_CAPTURE = 2000](https://mavlink.io/en/messages/common.html#MAV_CMD_IMAGE_START_CAPTURE)\n",
    "[MAV_CMD_IMAGE_STOP_CAPTURE = 2001](https://mavlink.io/en/messages/common.html#MAV_CMD_IMAGE_STOP_CAPTURE)\n",
    "> \n",
    "> [MAV_CMD_REQUEST_VIDEO_STREAM_INFORMATION = 2504](https://mavlink.io/en/messages/common.html#MAV_CMD_REQUEST_VIDEO_STREAM_INFORMATION)\n",
    "[MAV_CMD_REQUEST_VIDEO_STREAM_STATUS = 2505](https://mavlink.io/en/messages/common.html#MAV_CMD_REQUEST_VIDEO_STREAM_STATUS)\n",
    "[MAV_CMD_VIDEO_START_CAPTURE = 2500](https://mavlink.io/en/messages/common.html#MAV_CMD_VIDEO_START_CAPTURE)\n",
    "[MAV_CMD_VIDEO_STOP_CAPTURE = 2501](https://mavlink.io/en/messages/common.html#MAV_CMD_VIDEO_STOP_CAPTURE)\n",
    "[MAV_CMD_SET_CAMERA_MODE = 530](https://mavlink.io/en/messages/common.html#MAV_CMD_SET_CAMERA_MODE)\n",
    "> \n",
    "**Note**\n",
    "The simulated camera is implemented in PX4 [gazebo_camera_manager_plugin.cpp](https://github.com/PX4/PX4-SITL_gazebo-classic/blob/main/src/gazebo_camera_manager_plugin.cpp).\n"
   ]
  },
  {
   "cell_type": "code",
   "execution_count": null,
   "metadata": {},
   "outputs": [],
   "source": [
    "#| exports\n",
    "# from pymavlink.dialects.v20 import ardupilotmega as mav\n",
    "# from pymavlink.dialects.v20.ardupilotmega import MAVLink\n",
    "\n",
    "\n",
    "NAN = float(\"nan\")\n",
    "\n",
    "\"\"\"\n",
    "MAV_CMD_REQUEST_CAMERA_CAPTURE_STATUS = 527 # https://mavlink.io/en/messages/common.html#MAV_CMD_REQUEST_CAMERA_CAPTURE_STATUS\n",
    "MAV_CMD_REQUEST_CAMERA_INFORMATION = 521 # https://mavlink.io/en/messages/common.html#MAV_CMD_REQUEST_CAMERA_INFORMATION\n",
    "MAV_CMD_REQUEST_CAMERA_SETTINGS = 522 # https://mavlink.io/en/messages/common.html#MAV_CMD_REQUEST_CAMERA_SETTINGS\n",
    "MAV_CMD_REQUEST_STORAGE_INFORMATION = 525 # https://mavlink.io/en/messages/common.html#MAV_CMD_REQUEST_STORAGE_INFORMATION\n",
    "MAV_CMD_STORAGE_FORMAT = 526 # https://mavlink.io/en/messages/common.html#MAV_CMD_STORAGE_FORMAT\n",
    "MAV_CMD_SET_CAMERA_ZOOM = 531 # https://mavlink.io/en/messages/common.html#MAV_CMD_SET_CAMERA_ZOOM\n",
    "MAV_CMD_SET_CAMERA_FOCUS = 532 # https://mavlink.io/en/messages/common.html#MAV_CMD_SET_CAMERA_FOCUS\n",
    "MAV_CMD_IMAGE_START_CAPTURE = 2000  # https://mavlink.io/en/messages/common.html#MAV_CMD_IMAGE_START_CAPTURE\n",
    "MAV_CMD_IMAGE_STOP_CAPTURE = 2001  # https://mavlink.io/en/messages/common.html#MAV_CMD_IMAGE_STOP_CAPTURE\n",
    "MAV_CMD_REQUEST_VIDEO_STREAM_INFORMATION = 2504 # https://mavlink.io/en/messages/common.html#MAV_CMD_REQUEST_VIDEO_STREAM_INFORMATION\n",
    "MAV_CMD_REQUEST_VIDEO_STREAM_STATUS = 2505 # https://mavlink.io/en/messages/common.html#MAV_CMD_REQUEST_VIDEO_STREAM_STATUS\n",
    "MAV_CMD_VIDEO_START_CAPTURE = 2500 # https://mavlink.io/en/messages/common.html#MAV_CMD_VIDEO_START_CAPTURE\n",
    "MAV_CMD_VIDEO_STOP_CAPTURE = 2501 # https://mavlink.io/en/messages/common.html#MAV_CMD_VIDEO_STOP_CAPTURE\n",
    "MAV_CMD_SET_CAMERA_MODE = 530 # https://mavlink.io/en/messages/common.html#MAV_CMD_SET_CAMERA_MODE\n",
    "\n",
    "\"\"\"\n",
    "CAMERA_INFORMATION = mavlink.MAVLINK_MSG_ID_CAMERA_INFORMATION # https://mavlink.io/en/messages/common.html#CAMERA_INFORMATION\n",
    "CAMERA_SETTINGS = mavlink.MAVLINK_MSG_ID_CAMERA_SETTINGS # https://mavlink.io/en/messages/common.html#CAMERA_SETTINGS\n",
    "STORAGE_INFORMATION = mavlink.MAVLINK_MSG_ID_STORAGE_INFORMATION # https://mavlink.io/en/messages/common.html#STORAGE_INFORMATION\n",
    "CAMERA_CAPTURE_STATUS = mavlink.MAVLINK_MSG_ID_CAMERA_CAPTURE_STATUS # https://mavlink.io/en/messages/common.html#CAMERA_CAPTURE_STATUS\n",
    "CAMERA_IMAGE_CAPTURED = mavlink.MAVLINK_MSG_ID_CAMERA_IMAGE_CAPTURED # https://mavlink.io/en/messages/common.html#CAMERA_IMAGE_CAPTURED\n"
   ]
  },
  {
   "cell_type": "code",
   "execution_count": null,
   "metadata": {},
   "outputs": [
    {
     "data": {
      "text/markdown": "---\n\n[source](https://github.com/johnnewto/UAV/blob/main/UAV/mavlink/camera.py#LNone){target=\"_blank\" style=\"float:right; font-size:smaller\"}\n\n### read_camera_info_from_toml\n\n>      read_camera_info_from_toml (toml_file_path)\n\nRead MAVLink camera info from a TOML file.",
      "text/plain": "---\n\n[source](https://github.com/johnnewto/UAV/blob/main/UAV/mavlink/camera.py#LNone){target=\"_blank\" style=\"float:right; font-size:smaller\"}\n\n### read_camera_info_from_toml\n\n>      read_camera_info_from_toml (toml_file_path)\n\nRead MAVLink camera info from a TOML file."
     },
     "execution_count": null,
     "metadata": {},
     "output_type": "execute_result"
    }
   ],
   "source": [
    "show_doc(read_camera_info_from_toml)"
   ]
  },
  {
   "cell_type": "code",
   "execution_count": null,
   "metadata": {},
   "outputs": [
    {
     "data": {
      "text/markdown": "---\n\n[source](https://github.com/johnnewto/UAV/blob/main/UAV/mavlink/camera.py#LNone){target=\"_blank\" style=\"float:right; font-size:smaller\"}\n\n### WaitMessage\n\n>      WaitMessage (target_system, target_component)\n\nWait for a specific message from the server",
      "text/plain": "---\n\n[source](https://github.com/johnnewto/UAV/blob/main/UAV/mavlink/camera.py#LNone){target=\"_blank\" style=\"float:right; font-size:smaller\"}\n\n### WaitMessage\n\n>      WaitMessage (target_system, target_component)\n\nWait for a specific message from the server"
     },
     "execution_count": null,
     "metadata": {},
     "output_type": "execute_result"
    }
   ],
   "source": [
    "show_doc(WaitMessage)"
   ]
  },
  {
   "cell_type": "code",
   "execution_count": null,
   "metadata": {},
   "outputs": [
    {
     "data": {
      "text/markdown": "---\n\n[source](https://github.com/johnnewto/UAV/blob/main/UAV/mavlink/camera.py#LNone){target=\"_blank\" style=\"float:right; font-size:smaller\"}\n\n### WaitMessage.set_condition\n\n>      WaitMessage.set_condition (msg_id, target_system, target_component)\n\nSet the condition function to generate event for a specific message received from the server",
      "text/plain": "---\n\n[source](https://github.com/johnnewto/UAV/blob/main/UAV/mavlink/camera.py#LNone){target=\"_blank\" style=\"float:right; font-size:smaller\"}\n\n### WaitMessage.set_condition\n\n>      WaitMessage.set_condition (msg_id, target_system, target_component)\n\nSet the condition function to generate event for a specific message received from the server"
     },
     "execution_count": null,
     "metadata": {},
     "output_type": "execute_result"
    }
   ],
   "source": [
    "show_doc(WaitMessage.set_condition)"
   ]
  },
  {
   "cell_type": "code",
   "execution_count": null,
   "metadata": {},
   "outputs": [
    {
     "data": {
      "text/markdown": "---\n\n[source](https://github.com/johnnewto/UAV/blob/main/UAV/mavlink/camera.py#LNone){target=\"_blank\" style=\"float:right; font-size:smaller\"}\n\n### WaitMessage.get\n\n>      WaitMessage.get (timeout=1)\n\nGet the object if the event is set or wait until it's set with an optional timeout.\n\nReturns:\n    The object if the event is set, or None if it times out or the event isn't set.",
      "text/plain": "---\n\n[source](https://github.com/johnnewto/UAV/blob/main/UAV/mavlink/camera.py#LNone){target=\"_blank\" style=\"float:right; font-size:smaller\"}\n\n### WaitMessage.get\n\n>      WaitMessage.get (timeout=1)\n\nGet the object if the event is set or wait until it's set with an optional timeout.\n\nReturns:\n    The object if the event is set, or None if it times out or the event isn't set."
     },
     "execution_count": null,
     "metadata": {},
     "output_type": "execute_result"
    }
   ],
   "source": [
    "show_doc(WaitMessage.get)"
   ]
  },
  {
   "cell_type": "code",
   "execution_count": null,
   "metadata": {},
   "outputs": [
    {
     "data": {
      "text/markdown": "---\n\n[source](https://github.com/johnnewto/UAV/blob/main/UAV/mavlink/camera.py#LNone){target=\"_blank\" style=\"float:right; font-size:smaller\"}\n\n### CameraClient\n\n>      CameraClient (source_component, mav_type, debug)\n\nCreate a Viewsheen mavlink gimbal client component for send commands to a gimbal on a companion computer or GCS\n\n|    | **Details** |\n| -- | ----------- |\n| source_component | used for component indication |\n| mav_type | used for heartbeat MAV_TYPE indication |\n| debug | logging level |",
      "text/plain": "---\n\n[source](https://github.com/johnnewto/UAV/blob/main/UAV/mavlink/camera.py#LNone){target=\"_blank\" style=\"float:right; font-size:smaller\"}\n\n### CameraClient\n\n>      CameraClient (source_component, mav_type, debug)\n\nCreate a Viewsheen mavlink gimbal client component for send commands to a gimbal on a companion computer or GCS\n\n|    | **Details** |\n| -- | ----------- |\n| source_component | used for component indication |\n| mav_type | used for heartbeat MAV_TYPE indication |\n| debug | logging level |"
     },
     "execution_count": null,
     "metadata": {},
     "output_type": "execute_result"
    }
   ],
   "source": [
    "show_doc(CameraClient)"
   ]
  },
  {
   "cell_type": "code",
   "execution_count": null,
   "metadata": {},
   "outputs": [
    {
     "data": {
      "text/markdown": "---\n\n[source](https://github.com/johnnewto/UAV/blob/main/UAV/mavlink/camera.py#LNone){target=\"_blank\" style=\"float:right; font-size:smaller\"}\n\n### CameraServer\n\n>      CameraServer (source_component, mav_type, camera, debug)\n\nCreate a mavlink Camera server Component using a test GSTREAMER pipeline\n\n|    | **Details** |\n| -- | ----------- |\n| source_component | used for component indication |\n| mav_type | used for heartbeat MAV_TYPE indication |\n| camera | camera  (or FakeCamera for testing) |\n| debug | logging level |",
      "text/plain": "---\n\n[source](https://github.com/johnnewto/UAV/blob/main/UAV/mavlink/camera.py#LNone){target=\"_blank\" style=\"float:right; font-size:smaller\"}\n\n### CameraServer\n\n>      CameraServer (source_component, mav_type, camera, debug)\n\nCreate a mavlink Camera server Component using a test GSTREAMER pipeline\n\n|    | **Details** |\n| -- | ----------- |\n| source_component | used for component indication |\n| mav_type | used for heartbeat MAV_TYPE indication |\n| camera | camera  (or FakeCamera for testing) |\n| debug | logging level |"
     },
     "execution_count": null,
     "metadata": {},
     "output_type": "execute_result"
    }
   ],
   "source": [
    "show_doc(CameraServer)"
   ]
  },
  {
   "cell_type": "code",
   "execution_count": null,
   "metadata": {},
   "outputs": [
    {
     "name": "stderr",
     "output_type": "stream",
     "text": [
      "\u001b[32mINFO   | uav.MAVCom      | 52.304 |  mavcom.py:396 | Thread-19 (listen) | MAVLink Mav2: True, source_system: 111\u001b[0m\n",
      "\u001b[32mINFO   | uav.MAVCom      | 52.405 |  mavcom.py:396 | Thread-20 (listen) | MAVLink Mav2: True, source_system: 222\u001b[0m\n",
      "\u001b[37mDEBUG  | uav.CameraClien | 52.406 | component.py:131 | MainThread         | Called from Component.start_mav_connection(), override to add startup behaviour\u001b[0m\n",
      "\u001b[32mINFO   | uav.CameraClien | 52.407 | component.py:127 | MainThread         | Component Started self.source_component = 11, self.mav_type = 6, self.source_system = 111\u001b[0m\n",
      "\u001b[37mDEBUG  | uav.CameraServe | 52.407 | component.py:131 | MainThread         | Called from Component.start_mav_connection(), override to add startup behaviour\u001b[0m\n",
      "\u001b[33mWARNIN | uav.CameraServe | 52.408 |  camera.py:362 | MainThread         | Component has no camera object\u001b[0m\n",
      "\u001b[32mINFO   | uav.CameraServe | 52.408 | component.py:127 | MainThread         | Component Started self.source_component = 22, self.mav_type = 30, self.source_system = 222\u001b[0m\n",
      "\u001b[37mDEBUG  | uav.CameraClien | 52.408 | component.py:189 | MainThread         | Waiting for heartbeat from target_system = 222:  target_component = 22\u001b[0m\n",
      "\u001b[37mDEBUG  | uav.CameraClien | 52.409 | component.py:197 | MainThread         | Rcvd 222/ 22 HEARTBEAT {type : 30, autopilot : 8, base_mode : 0, custom_mode : 0, system_status : 4, mavlink_version : 3} ... self._heartbeat_que.get() \u001b[0m\n",
      "\u001b[37mDEBUG  | uav.CameraClien | 52.509 | component.py:335 | MainThread         | Sending: 222/22 : MAV_CMD_REQUEST_STORAGE_INFORMATION:525 \u001b[0m\n",
      "\u001b[37mDEBUG  | uav.CameraClien | 52.510 | component.py:231 | MainThread         | Waiting for ACK: 222/22 : MAV_CMD_REQUEST_STORAGE_INFORMATION:525\u001b[0m\n",
      "\u001b[37mDEBUG  | uav.CameraServe | 52.511 | component.py:277 | Thread-24 (listen) | Rcvd 111/ 11 COMMAND_LONG {target_system : 222, target_component : 22, command : 525, confirmation : 0, param1 : 0.0, param2 : 0.0, param3 : 0.0, param4 : 0.0, param5 : 0.0, param6 : 0.0, param7 : 0.0} ... \u001b[0m\n",
      "\u001b[31mERROR  | uav.CameraServe | 52.511 |  camera.py:493 | Thread-24 (listen) | err = AttributeError(\"'BaseCamera' object has no attribute 'storage_information_send'\")\u001b[0m\n",
      "\u001b[37mDEBUG  | uav.CameraServe | 52.512 | component.py:223 | Thread-24 (listen) | Sent ACK for MAV_CMD_REQUEST_STORAGE_INFORMATION:525 to system: 111 comp: 11\u001b[0m\n",
      "\u001b[37mDEBUG  | uav.CameraClien | 52.513 | component.py:277 | Thread-22 (listen) | Rcvd 222/ 22 COMMAND_ACK {command : 525, result : 0, progress : 0, result_param2 : 0, target_system : 111, target_component : 11} ... \u001b[0m\n",
      "\u001b[37mDEBUG  | uav.CameraClien | 52.514 | component.py:241 | MainThread         | Rcvd ACK: 222/22 MAV_CMD_REQUEST_STORAGE_INFORMATION:525 22 COMMAND_ACK {command : 525, result : 0, progress : 0, result_param2 : 0, target_system : 111, target_component : 11}\u001b[0m\n",
      "\u001b[37mDEBUG  | uav.CameraClien | 52.514 | component.py:347 | MainThread         | Rcvd ACK: 222/22 MAV_CMD_REQUEST_STORAGE_INFORMATION:525\u001b[0m\n"
     ]
    },
    {
     "name": "stdout",
     "output_type": "stream",
     "text": [
      "set_mav_connection CameraClient component.py:123 self.mav_connection = <MAVCom>\n",
      "set_mav_connection CameraServer component.py:123 self.mav_connection = <MAVCom>\n",
      "None\n"
     ]
    },
    {
     "name": "stderr",
     "output_type": "stream",
     "text": [
      "\u001b[32mINFO   | uav.CameraServe | 55.410 | component.py:382 | MainThread         | CameraServer closed\u001b[0m\n",
      "\u001b[37mDEBUG  | uav.CameraServe | 55.411 |  camera.py:601 | MainThread         | Closed connection to camera\u001b[0m\n",
      "\u001b[32mINFO   | uav.MAVCom      | 55.411 |  mavcom.py:447 | MainThread         | MAVCom  closed\u001b[0m\n",
      "\u001b[32mINFO   | uav.CameraClien | 57.412 | component.py:382 | MainThread         | CameraClient closed\u001b[0m\n",
      "\u001b[32mINFO   | uav.MAVCom      | 57.413 |  mavcom.py:447 | MainThread         | MAVCom  closed\u001b[0m\n"
     ]
    }
   ],
   "source": [
    "MAV_TYPE_GCS = mavutil.mavlink.MAV_TYPE_GCS\n",
    "MAV_TYPE_CAMERA = mavutil.mavlink.MAV_TYPE_CAMERA\n",
    "\n",
    "con1, con2 = \"udpin:localhost:14445\", \"udpout:localhost:14445\"\n",
    "# con1, con2 = \"/dev/ttyACM0\", \"/dev/ttyUSB0\"\n",
    "with MAVCom(con1, source_system=111, debug=False) as client:\n",
    "    with MAVCom(con2, source_system=222, debug=False) as server:\n",
    "        cam:CameraClient = client.add_component(\n",
    "            CameraClient(mav_type=MAV_TYPE_GCS, source_component=11, debug=True))\n",
    "        # server.add_component(CameraServer(mav_type=MAV_TYPE_CAMERA, source_component=22, camera=cam_fake1, debug=False))\n",
    "        server.add_component(CameraServer(mav_type=MAV_TYPE_CAMERA, source_component=22, camera=None, debug=True))\n",
    "\n",
    "        cam.wait_heartbeat(target_system=222, target_component=22, timeout=1)\n",
    "        time.sleep(0.1)\n",
    "        cam.set_target(222, 22)\n",
    "\n",
    "   \n",
    "        msg = cam.request_storage_information()\n",
    "        print (msg)\n",
    "        \n",
    "        time.sleep(1)\n",
    "        "
   ]
  },
  {
   "cell_type": "code",
   "execution_count": null,
   "metadata": {},
   "outputs": [],
   "source": [
    "# | hide\n",
    "# assert False, \"Stop here\""
   ]
  },
  {
   "cell_type": "markdown",
   "metadata": {},
   "source": [
    "#### Test locally using UDP ports"
   ]
  },
  {
   "cell_type": "markdown",
   "metadata": {},
   "source": [
    "#### Starting a client and server\n",
    " > on the same machine using UDP ports `14445`  with `server_system_ID=111, client_system_ID=222`"
   ]
  },
  {
   "cell_type": "code",
   "execution_count": null,
   "metadata": {},
   "outputs": [],
   "source": [
    "#| exports\n",
    "from UAV.mavlink.mavcom import MAVCom\n",
    "from UAV.mavlink.component import Component, mavutil\n",
    "import time\n",
    "\n",
    "MAV_TYPE_GCS = mavutil.mavlink.MAV_TYPE_GCS\n",
    "MAV_TYPE_CAMERA = mavutil.mavlink.MAV_TYPE_CAMERA\n",
    "\n",
    "class Cam1(Component):\n",
    "    def __init__(self, source_component, mav_type, debug=False):\n",
    "        super().__init__(source_component=source_component, mav_type=mav_type,\n",
    "                         debug=debug)\n",
    "\n",
    "class Cam2(Component):\n",
    "    def __init__(self, source_component, mav_type, debug=False):\n",
    "        super().__init__(source_component=source_component, mav_type=mav_type,\n",
    "                         debug=debug)\n",
    "class Cli(Component):\n",
    "    def __init__(self, source_component, mav_type, debug=False):\n",
    "        super().__init__( source_component=source_component, mav_type=mav_type,\n",
    "                         debug=debug)"
   ]
  },
  {
   "cell_type": "code",
   "execution_count": null,
   "metadata": {},
   "outputs": [
    {
     "name": "stderr",
     "output_type": "stream",
     "text": [
      "\u001b[32mINFO   | uav.MAVCom      | 57.560 |  mavcom.py:396 | Thread-25 (listen) | MAVLink Mav2: True, source_system: 111\u001b[0m\n",
      "\u001b[32mINFO   | uav.MAVCom      | 57.662 |  mavcom.py:396 | Thread-26 (listen) | MAVLink Mav2: True, source_system: 222\u001b[0m\n",
      "\u001b[32mINFO   | uav.Cli         | 57.664 | component.py:127 | MainThread         | Component Started self.source_component = 11, self.mav_type = 6, self.source_system = 111\u001b[0m\n",
      "\u001b[32mINFO   | uav.Cam1        | 57.664 | component.py:127 | MainThread         | Component Started self.source_component = 22, self.mav_type = 30, self.source_system = 222\u001b[0m\n",
      "\u001b[32mINFO   | uav.Cam1        | 57.666 | component.py:127 | MainThread         | Component Started self.source_component = 23, self.mav_type = 30, self.source_system = 222\u001b[0m\n"
     ]
    },
    {
     "name": "stdout",
     "output_type": "stream",
     "text": [
      "set_mav_connection Cli component.py:123 self.mav_connection = <MAVCom>\n",
      "set_mav_connection Cam1 component.py:123 self.mav_connection = <MAVCom>\n",
      "set_mav_connection Cam1 component.py:123 self.mav_connection = <MAVCom>\n",
      "*** Received heartbeat **** \n"
     ]
    },
    {
     "name": "stderr",
     "output_type": "stream",
     "text": [
      "\u001b[33mWARNIN | uav.Cli         | 58.167 | component.py:352 | MainThread         | **No ACK: 222/22 MAV_CMD_DO_DIGICAM_CONTROL:203\u001b[0m\n",
      "\u001b[33mWARNIN | uav.Cli         | 58.669 | component.py:352 | MainThread         | **No ACK: 222/23 MAV_CMD_DO_DIGICAM_CONTROL:203\u001b[0m\n",
      "\u001b[33mWARNIN | uav.Cli         | 59.172 | component.py:352 | MainThread         | **No ACK: 222/22 MAV_CMD_DO_DIGICAM_CONTROL:203\u001b[0m\n",
      "\u001b[33mWARNIN | uav.Cli         | 59.675 | component.py:352 | MainThread         | **No ACK: 222/23 MAV_CMD_DO_DIGICAM_CONTROL:203\u001b[0m\n",
      "\u001b[31mERROR  | uav.MAVCom      | 59.677 |  mavcom.py:419 | Thread-26 (listen) |  Component 24 does not exist? ; Exception: 24\u001b[0m\n",
      "\u001b[33mWARNIN | uav.Cli         | 00.177 | component.py:352 | MainThread         | **No ACK: 222/24 MAV_CMD_DO_DIGICAM_CONTROL:203\u001b[0m\n",
      "\u001b[32mINFO   | uav.Cam1        | 00.668 | component.py:382 | MainThread         | Cam1 closed\u001b[0m\n",
      "\u001b[32mINFO   | uav.Cam1        | 01.669 | component.py:382 | MainThread         | Cam1 closed\u001b[0m\n",
      "\u001b[32mINFO   | uav.MAVCom      | 01.670 |  mavcom.py:447 | MainThread         | MAVCom  closed\u001b[0m\n"
     ]
    },
    {
     "name": "stdout",
     "output_type": "stream",
     "text": [
      "server.source_system = 222;  server.message_cnts = {111: {'COMMAND_LONG': 5, 'HEARTBEAT': 3}}\n",
      "client.source_system = 111;  client.message_cnts = {222: {'HEARTBEAT': 7}}\n",
      "\n",
      "client.source_system = 111 \n",
      " - comp.source_component = 11\n",
      " - comp.num_msgs_rcvd = 7\n",
      " - comp.num_cmds_sent = 5\n",
      " - comp.num_cmds_rcvd = 0\n",
      " - comp.num_acks_rcvd = 0\n",
      " - comp.num_acks_sent = 0\n",
      " - comp.num_acks_drop = 5\n",
      " - comp.message_cnts = {222: {'HEARTBEAT': 7}} \n",
      "\n",
      "server.source_system = 222 \n",
      " - comp.source_component = 22\n",
      " - comp.num_msgs_rcvd = 5\n",
      " - comp.num_cmds_sent = 0\n",
      " - comp.num_cmds_rcvd = 2\n",
      " - comp.num_acks_rcvd = 0\n",
      " - comp.num_acks_sent = 0\n",
      " - comp.num_acks_drop = 0\n",
      " - comp.message_cnts = {111: {'COMMAND_LONG': 2, 'HEARTBEAT': 3}}\n",
      " - comp.source_component = 23\n",
      " - comp.num_msgs_rcvd = 5\n",
      " - comp.num_cmds_sent = 0\n",
      " - comp.num_cmds_rcvd = 2\n",
      " - comp.num_acks_rcvd = 0\n",
      " - comp.num_acks_sent = 0\n",
      " - comp.num_acks_drop = 0\n",
      " - comp.message_cnts = {111: {'COMMAND_LONG': 2, 'HEARTBEAT': 3}} \n"
     ]
    },
    {
     "name": "stderr",
     "output_type": "stream",
     "text": [
      "\u001b[32mINFO   | uav.Cli         | 03.669 | component.py:382 | MainThread         | Cli closed\u001b[0m\n",
      "\u001b[32mINFO   | uav.MAVCom      | 03.671 |  mavcom.py:447 | MainThread         | MAVCom  closed\u001b[0m\n"
     ]
    },
    {
     "ename": "AssertionError",
     "evalue": "",
     "output_type": "error",
     "traceback": [
      "\u001b[0;31m---------------------------------------------------------------------------\u001b[0m",
      "\u001b[0;31mAssertionError\u001b[0m                            Traceback (most recent call last)",
      "Cell \u001b[0;32mIn[44], line 31\u001b[0m\n\u001b[1;32m     29\u001b[0m         \u001b[38;5;28;01massert\u001b[39;00m server\u001b[38;5;241m.\u001b[39mcomponent[\u001b[38;5;241m22\u001b[39m]\u001b[38;5;241m.\u001b[39mnum_cmds_rcvd \u001b[38;5;241m==\u001b[39m NUM_TO_SEND\n\u001b[1;32m     30\u001b[0m         \u001b[38;5;28;01massert\u001b[39;00m server\u001b[38;5;241m.\u001b[39mcomponent[\u001b[38;5;241m23\u001b[39m]\u001b[38;5;241m.\u001b[39mnum_cmds_rcvd \u001b[38;5;241m==\u001b[39m NUM_TO_SEND\n\u001b[0;32m---> 31\u001b[0m \u001b[43mtest_ack\u001b[49m\u001b[43m(\u001b[49m\u001b[43m)\u001b[49m\n",
      "Cell \u001b[0;32mIn[44], line 27\u001b[0m, in \u001b[0;36mtest_ack\u001b[0;34m()\u001b[0m\n\u001b[1;32m     24\u001b[0m \u001b[38;5;28mprint\u001b[39m(\u001b[38;5;124mf\u001b[39m\u001b[38;5;124m\"\u001b[39m\u001b[38;5;132;01m{\u001b[39;00mserver\u001b[38;5;241m.\u001b[39msource_system\u001b[38;5;250m \u001b[39m\u001b[38;5;132;01m= }\u001b[39;00m\u001b[38;5;124m \u001b[39m\u001b[38;5;130;01m\\n\u001b[39;00m\u001b[38;5;132;01m{\u001b[39;00mserver\u001b[38;5;241m.\u001b[39msummary()\u001b[38;5;132;01m}\u001b[39;00m\u001b[38;5;124m \u001b[39m\u001b[38;5;130;01m\\n\u001b[39;00m\u001b[38;5;124m\"\u001b[39m)\n\u001b[1;32m     26\u001b[0m \u001b[38;5;28;01massert\u001b[39;00m client\u001b[38;5;241m.\u001b[39mcomponent[\u001b[38;5;241m11\u001b[39m]\u001b[38;5;241m.\u001b[39mnum_cmds_sent \u001b[38;5;241m==\u001b[39m NUM_TO_SEND \u001b[38;5;241m*\u001b[39m \u001b[38;5;241m2\u001b[39m \u001b[38;5;241m+\u001b[39m \u001b[38;5;241m1\u001b[39m\n\u001b[0;32m---> 27\u001b[0m \u001b[38;5;28;01massert\u001b[39;00m client\u001b[38;5;241m.\u001b[39mcomponent[\u001b[38;5;241m11\u001b[39m]\u001b[38;5;241m.\u001b[39mnum_acks_rcvd \u001b[38;5;241m==\u001b[39m NUM_TO_SEND \u001b[38;5;241m*\u001b[39m \u001b[38;5;241m2\u001b[39m\n\u001b[1;32m     28\u001b[0m \u001b[38;5;28;01massert\u001b[39;00m client\u001b[38;5;241m.\u001b[39mcomponent[\u001b[38;5;241m11\u001b[39m]\u001b[38;5;241m.\u001b[39mnum_acks_drop \u001b[38;5;241m==\u001b[39m \u001b[38;5;241m1\u001b[39m\n\u001b[1;32m     29\u001b[0m \u001b[38;5;28;01massert\u001b[39;00m server\u001b[38;5;241m.\u001b[39mcomponent[\u001b[38;5;241m22\u001b[39m]\u001b[38;5;241m.\u001b[39mnum_cmds_rcvd \u001b[38;5;241m==\u001b[39m NUM_TO_SEND\n",
      "\u001b[0;31mAssertionError\u001b[0m: "
     ]
    }
   ],
   "source": [
    "#| exports\n",
    "def test_ack():\n",
    "    # Test sending a command and receiving an ack from client to server\n",
    "    with MAVCom(\"udpin:localhost:14445\", source_system=111, debug=False) as client:\n",
    "        with MAVCom(\"udpout:localhost:14445\", source_system=222, debug=False) as server:\n",
    "            client.add_component(Cli( mav_type=MAV_TYPE_GCS, source_component = 11, debug=False))\n",
    "            server.add_component(Cam1( mav_type=MAV_TYPE_CAMERA, source_component = 22, debug=False))\n",
    "            server.add_component(Cam1( mav_type=MAV_TYPE_CAMERA, source_component = 23, debug=False))\n",
    "            \n",
    "            for key, comp in client.component.items():\n",
    "                if comp.wait_heartbeat(target_system=222, target_component=22, timeout=0.1):\n",
    "                    print (\"*** Received heartbeat **** \" )\n",
    "            NUM_TO_SEND = 2\n",
    "            for i in range(NUM_TO_SEND):\n",
    "                client.component[11]._test_command(222, 22, 1)\n",
    "                client.component[11]._test_command(222, 23, 1)\n",
    "                \n",
    "            client.component[11]._test_command(222, 24, 1)\n",
    "    \n",
    "        print(f\"{server.source_system = };  {server.message_cnts = }\")\n",
    "        print(f\"{client.source_system = };  {client.message_cnts = }\")\n",
    "        print()\n",
    "        print(f\"{client.source_system = } \\n{client.summary()} \\n\")\n",
    "        print(f\"{server.source_system = } \\n{server.summary()} \\n\")\n",
    "    \n",
    "        assert client.component[11].num_cmds_sent == NUM_TO_SEND * 2 + 1\n",
    "        assert client.component[11].num_acks_rcvd == NUM_TO_SEND * 2\n",
    "        assert client.component[11].num_acks_drop == 1\n",
    "        assert server.component[22].num_cmds_rcvd == NUM_TO_SEND\n",
    "        assert server.component[23].num_cmds_rcvd == NUM_TO_SEND\n",
    "test_ack()"
   ]
  },
  {
   "cell_type": "code",
   "execution_count": null,
   "metadata": {},
   "outputs": [],
   "source": [
    "#| Hide\n",
    "# assert False, \"Stop here\""
   ]
  },
  {
   "cell_type": "code",
   "execution_count": null,
   "metadata": {},
   "outputs": [
    {
     "data": {
      "text/markdown": "---\n\n[source](https://github.com/johnnewto/UAV/blob/main/UAV/mavlink/component.py#LNone){target=\"_blank\" style=\"float:right; font-size:smaller\"}\n\n### Component.set_source_compenent\n\n>      Component.set_source_compenent ()\n\nSet the source component for the master.mav",
      "text/plain": "---\n\n[source](https://github.com/johnnewto/UAV/blob/main/UAV/mavlink/component.py#LNone){target=\"_blank\" style=\"float:right; font-size:smaller\"}\n\n### Component.set_source_compenent\n\n>      Component.set_source_compenent ()\n\nSet the source component for the master.mav"
     },
     "execution_count": null,
     "metadata": {},
     "output_type": "execute_result"
    }
   ],
   "source": [
    "show_doc(Component.set_source_compenent)"
   ]
  },
  {
   "cell_type": "code",
   "execution_count": null,
   "metadata": {},
   "outputs": [
    {
     "data": {
      "text/markdown": "---\n\n[source](https://github.com/johnnewto/UAV/blob/main/UAV/mavlink/component.py#LNone){target=\"_blank\" style=\"float:right; font-size:smaller\"}\n\n### Component.send_heartbeat\n\n>      Component.send_heartbeat ()\n\nSend a heartbeat message to indicate the server is alive.",
      "text/plain": "---\n\n[source](https://github.com/johnnewto/UAV/blob/main/UAV/mavlink/component.py#LNone){target=\"_blank\" style=\"float:right; font-size:smaller\"}\n\n### Component.send_heartbeat\n\n>      Component.send_heartbeat ()\n\nSend a heartbeat message to indicate the server is alive."
     },
     "execution_count": null,
     "metadata": {},
     "output_type": "execute_result"
    }
   ],
   "source": [
    "show_doc(Component.send_heartbeat)"
   ]
  },
  {
   "cell_type": "code",
   "execution_count": null,
   "metadata": {},
   "outputs": [
    {
     "data": {
      "text/markdown": "---\n\n[source](https://github.com/johnnewto/UAV/blob/main/UAV/mavlink/component.py#LNone){target=\"_blank\" style=\"float:right; font-size:smaller\"}\n\n### Component.send_command\n\n>      Component.send_command (target_system:int, target_component:int,\n>                              command_id:int, params:list, timeout=0.5)\n\n|    | **Type** | **Default** | **Details** |\n| -- | -------- | ----------- | ----------- |\n| target_system | int |  | target system |\n| target_component | int |  | target component |\n| command_id | int |  | mavutil.mavlink.MAV_CMD.... |\n| params | list |  | list of parameters |\n| timeout | float | 0.5 | seconds |",
      "text/plain": "---\n\n[source](https://github.com/johnnewto/UAV/blob/main/UAV/mavlink/component.py#LNone){target=\"_blank\" style=\"float:right; font-size:smaller\"}\n\n### Component.send_command\n\n>      Component.send_command (target_system:int, target_component:int,\n>                              command_id:int, params:list, timeout=0.5)\n\n|    | **Type** | **Default** | **Details** |\n| -- | -------- | ----------- | ----------- |\n| target_system | int |  | target system |\n| target_component | int |  | target component |\n| command_id | int |  | mavutil.mavlink.MAV_CMD.... |\n| params | list |  | list of parameters |\n| timeout | float | 0.5 | seconds |"
     },
     "execution_count": null,
     "metadata": {},
     "output_type": "execute_result"
    }
   ],
   "source": [
    "show_doc(Component.send_command)"
   ]
  },
  {
   "cell_type": "code",
   "execution_count": null,
   "metadata": {},
   "outputs": [
    {
     "data": {
      "text/markdown": "---\n\n[source](https://github.com/johnnewto/UAV/blob/main/UAV/mavlink/component.py#LNone){target=\"_blank\" style=\"float:right; font-size:smaller\"}\n\n### Component.wait_heartbeat\n\n>      Component.wait_heartbeat (remote_mav_type=None, target_system=None,\n>                                target_component=None, timeout:int=1,\n>                                tries:int=3)\n\nWait for a heartbeat from target_system and target_component.\n\n|    | **Type** | **Default** | **Details** |\n| -- | -------- | ----------- | ----------- |\n| remote_mav_type | NoneType | None | type of remote system |\n| target_system | NoneType | None | target system |\n| target_component | NoneType | None | target component |\n| timeout | int | 1 | seconds |\n| tries | int | 3 |  |\n| **Returns** | **bool** |  | **number of tries** |",
      "text/plain": "---\n\n[source](https://github.com/johnnewto/UAV/blob/main/UAV/mavlink/component.py#LNone){target=\"_blank\" style=\"float:right; font-size:smaller\"}\n\n### Component.wait_heartbeat\n\n>      Component.wait_heartbeat (remote_mav_type=None, target_system=None,\n>                                target_component=None, timeout:int=1,\n>                                tries:int=3)\n\nWait for a heartbeat from target_system and target_component.\n\n|    | **Type** | **Default** | **Details** |\n| -- | -------- | ----------- | ----------- |\n| remote_mav_type | NoneType | None | type of remote system |\n| target_system | NoneType | None | target system |\n| target_component | NoneType | None | target component |\n| timeout | int | 1 | seconds |\n| tries | int | 3 |  |\n| **Returns** | **bool** |  | **number of tries** |"
     },
     "execution_count": null,
     "metadata": {},
     "output_type": "execute_result"
    }
   ],
   "source": [
    "show_doc(Component.wait_heartbeat)"
   ]
  },
  {
   "cell_type": "code",
   "execution_count": null,
   "metadata": {},
   "outputs": [
    {
     "data": {
      "text/markdown": "---\n\n[source](https://github.com/johnnewto/UAV/blob/main/UAV/mavlink/component.py#LNone){target=\"_blank\" style=\"float:right; font-size:smaller\"}\n\n### Component.wait_ack\n\n>      Component.wait_ack (target_system, target_component, command_id=None,\n>                          timeout=0.1)\n\nWait for an ack from target_system and target_component.",
      "text/plain": "---\n\n[source](https://github.com/johnnewto/UAV/blob/main/UAV/mavlink/component.py#LNone){target=\"_blank\" style=\"float:right; font-size:smaller\"}\n\n### Component.wait_ack\n\n>      Component.wait_ack (target_system, target_component, command_id=None,\n>                          timeout=0.1)\n\nWait for an ack from target_system and target_component."
     },
     "execution_count": null,
     "metadata": {},
     "output_type": "execute_result"
    }
   ],
   "source": [
    "show_doc(Component.wait_ack)"
   ]
  },
  {
   "cell_type": "code",
   "execution_count": null,
   "metadata": {},
   "outputs": [],
   "source": [
    "show_doc(Component.send_ping)"
   ]
  },
  {
   "cell_type": "markdown",
   "metadata": {},
   "source": [
    "#### Test with Serial ports\n",
    "Test using a Pixhawk connected via telemetry 2 and USB serial ports.\n",
    "CamClient is set to udpin:localhost:14445 and CamServer is set to udpout:localhost:14435 udpin is so that the client can receive UDP from the mavproxy server at localhost:14445\n",
    "mavproxy.py --master=/dev/ttyACM1 --baudrate 57600 --out udpout:localhost:14445 mavproxy.py --master=/dev/ttyACM3 --baudrate 57600 --out udpout:localhost:14435"
   ]
  },
  {
   "cell_type": "code",
   "execution_count": null,
   "metadata": {},
   "outputs": [],
   "source": [
    "# Test sending a command and receiving an ack from client to server\n",
    "with MAVCom(\"/dev/ttyACM0\", source_system=111, debug=False) as client:\n",
    "    with MAVCom(\"/dev/ttyUSB0\", source_system=222, debug=False) as server:\n",
    "        client.add_component(Cli(client, mav_type=MAV_TYPE_GCS, source_component = 11, debug=False))\n",
    "        server.add_component(Cam1(server, mav_type=MAV_TYPE_CAMERA, source_component = 22, debug=False))\n",
    "        server.add_component(Cam1(server, mav_type=MAV_TYPE_CAMERA, source_component = 23, debug=False))\n",
    "        \n",
    "        for key, comp in client.component.items():\n",
    "            if comp.wait_heartbeat(target_system=222, target_component=22, timeout=0.1):\n",
    "                print (\"*** Received heartbeat **** \" )\n",
    "        NUM_TO_SEND = 2\n",
    "        for i in range(NUM_TO_SEND):\n",
    "            client.component[11]._test_command(222, 22, 1)\n",
    "            client.component[11]._test_command(222, 23, 1)\n",
    "            \n",
    "        client.component[11]._test_command(222, 24, 1)\n",
    "\n",
    "    print(f\"{server.source_system = };  {server.message_cnts = }\")\n",
    "    print(f\"{client.source_system = };  {client.message_cnts = }\")\n",
    "    print()\n",
    "    print(f\"{client.source_system = } \\n{client.summary()} \\n\")\n",
    "    print(f\"{server.source_system = } \\n{server.summary()} \\n\")\n",
    "\n",
    "    assert client.component[11].num_cmds_sent == NUM_TO_SEND * 2 + 1\n",
    "    assert client.component[11].num_acks_rcvd == NUM_TO_SEND * 2\n",
    "    assert client.component[11].num_acks_drop == 1\n",
    "    assert server.component[22].num_cmds_rcvd == NUM_TO_SEND\n",
    "    assert server.component[23].num_cmds_rcvd == NUM_TO_SEND"
   ]
  },
  {
   "cell_type": "markdown",
   "metadata": {},
   "source": [
    "> For debugging help see http://localhost:3000/tutorials/mavlink_doc&debug.html and http://localhost:3000/tutorials/mavlink_doc&debug.html#debugging"
   ]
  },
  {
   "cell_type": "markdown",
   "metadata": {},
   "source": []
  },
  {
   "cell_type": "code",
   "execution_count": null,
   "metadata": {},
   "outputs": [],
   "source": [
    "#| hide\n",
    "# from nbdev import nbdev_export\n",
    "# nbdev.nbdev_export()"
   ]
  }
 ],
 "metadata": {
  "kernelspec": {
   "display_name": "python3",
   "language": "python",
   "name": "python3"
  }
 },
 "nbformat": 4,
 "nbformat_minor": 4
}
