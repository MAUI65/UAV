{
 "cells": [
  {
   "cell_type": "markdown",
   "metadata": {},
   "source": []
  },
  {
   "cell_type": "markdown",
   "metadata": {},
   "source": [
    "# Mavlink ViewSheen Gimbal Component\n",
    "> Mavlink ViewSheen Camera Component for sending commands to a viewsheen gimbal on a companion computer or GCS\n",
    "> The server is normally mounted on the companion computer and the client is on the ground station PC."
   ]
  },
  {
   "cell_type": "code",
   "execution_count": null,
   "metadata": {},
   "outputs": [],
   "source": [
    "#| default_exp mavlink.vs_gimbal"
   ]
  },
  {
   "cell_type": "code",
   "execution_count": null,
   "metadata": {},
   "outputs": [],
   "source": [
    "#| hide\n",
    "%load_ext autoreload\n",
    "%autoreload 2"
   ]
  },
  {
   "cell_type": "code",
   "execution_count": null,
   "metadata": {},
   "outputs": [],
   "source": [
    "#| hide\n",
    "# skip_showdoc: true to avoid running cells when rendering docs, and \n",
    "# skip_exec: true to skip this notebook when running tests. \n",
    "# this should be a raw cell "
   ]
  },
  {
   "cell_type": "raw",
   "metadata": {},
   "source": [
    "---\n",
    "skip_showdoc: true\n",
    "skip_exec: true\n",
    "---"
   ]
  },
  {
   "cell_type": "markdown",
   "metadata": {},
   "source": [
    "### Gimbal Component\n",
    "[https://mavlink.io/en/services/gimbal.html](https://mavlink.io/en/services/gimbal.html)  \n",
    "[https://mavlink.io/en/services/gimbal_v2.html](https://mavlink.io/en/services/gimbal_v2.html)\n",
    "> Concepts\n",
    " - Gimbal Manager and Gimbal Device\n",
    " - To accommodate gimbals with varying capabilities, and various hardware setups, \"a gimbal\" is conceptually split into two parts:\n",
    "\n",
    "*Gimbal Device:* the actual gimbal device, hardware and software.\n",
    "*Gimbal Manager:* software to deconflict gimbal messages and commands from different sources, and to abstract the capabilities of the Gimbal Device from gimbal users.\n",
    "The Gimbal Manager and Gimbal Device expose respective message sets that can be used for: gimbal manager/device discovery, querying capabilities, publishing status, and various types of orientation/attitude control.\n",
    "\n",
    "The key concept to understand is that a Gimbal Manager has a 1:1 relationship with a particular Gimbal Device, and is the only party on the M"
   ]
  },
  {
   "cell_type": "code",
   "execution_count": null,
   "metadata": {},
   "outputs": [],
   "source": [
    "#| export\n",
    "import time, os, sys\n",
    "\n",
    "from UAV.logging import logging\n",
    "from UAV.mavlink.mavcom import MAVCom\n",
    "from UAV.mavlink.component import Component, mavutil\n",
    "# from viewsheen_sdk.gimbal_cntrl import pan_tilt, snapshot,  zoom, VS_IP_ADDRESS, VS_PORT, KeyReleaseThread\n",
    "from UAV.camera_sdks.viewsheen.gimbal_cntrl import pan_tilt, snapshot,  zoom, VS_IP_ADDRESS, VS_PORT, KeyReleaseThread\n",
    "\n",
    "import socket\n",
    "\n",
    "# from UAV.imports import *   # TODO why is this relative import on nbdev_export?\n"
   ]
  },
  {
   "cell_type": "code",
   "execution_count": null,
   "metadata": {},
   "outputs": [],
   "source": [
    "#| hide\n",
    "from fastcore.utils import *\n",
    "from nbdev.showdoc import *\n",
    "from fastcore.test import *"
   ]
  },
  {
   "cell_type": "code",
   "execution_count": null,
   "metadata": {},
   "outputs": [],
   "source": [
    "#| export\n",
    "# from pymavlink.dialects.v20 import ardupilotmega as mav\n",
    "from pymavlink.dialects.v20.ardupilotmega import MAVLink\n",
    "\n",
    "NAN = float(\"nan\")\n",
    "GIMBAL_DEVICE_SET_ATTITUDE = 284  # https://mavlink.io/en/messages/common\n",
    "GIMBAL_MANAGER_SET_MANUAL_CONTROL = 288  # https://mavlink.io/en/messages/common.html#GIMBAL_MANAGER_SET_MANUAL_CONTROL\n",
    "MAV_CMD_SET_CAMERA_ZOOM = 531  # https://mavlink.io/en/messages/common.html#MAV_CMD_SET_CAMERA_ZOOM\n",
    "MAV_CMD_IMAGE_START_CAPTURE = 2000  # https://mavlink.io/en/messages/common.html#MAV_CMD_IMAGE_START_CAPTURE\n",
    "MAV_CMD_IMAGE_STOP_CAPTURE = 2001  # https://mavlink.io/en/messages/common.html#MAV_CMD_IMAGE_STOP_CAPTURE\n",
    "class GimbalClient(Component):\n",
    "    \"\"\"Create a Viewsheen mavlink gimbal client component for send commands to a gimbal on a companion computer or GCS \"\"\"\n",
    "\n",
    "    def __init__(self,\n",
    "                 source_component,  # used for component indication\n",
    "                 mav_type,  # used for heartbeat MAV_TYPE indication\n",
    "                 debug):  # logging level\n",
    "        \n",
    "        super().__init__( source_component=source_component, mav_type=mav_type, debug=debug)\n",
    "        # self.gimbal_target_component = None\n",
    "        # self.camera_target_component = None\n",
    "        \n",
    "    def send_message(self, msg):\n",
    "        \"\"\"Send a message to the gimbal\"\"\"\n",
    "        self.master.mav.send(msg)\n",
    "        self.log.debug(f\"Sent {msg}\")\n",
    "        \n",
    "    # def set_target(self, target_system, gimbal_comp = None,  camera_comp = None):\n",
    "    #     \"\"\"Set the target system and component for the gimbal / camera\"\"\"\n",
    "    #     self.target_system = target_system\n",
    "    #     self.gimbal_target_component = gimbal_comp\n",
    "    #     self.camera_target_component = camera_comp\n",
    "    \n",
    "\n",
    "    def set_attitude(self, pitch, yaw, pitchspeed, yawspeed):\n",
    "        \"\"\"Set the attitude of the gimbal\"\"\"\n",
    "        # https://mavlink.io/en/messages/common.html#GIMBAL_DEVICE_SET_ATTITUDE\n",
    "        # https://mavlink.io/en/messages/common.html#GIMBAL_DEVICE_FLAGS\n",
    "        flags = 0\n",
    "\n",
    "        q = [1, 0, pitch, yaw]\n",
    "        angular_velocity_x, angular_velocity_y, angular_velocity_z = 0, pitchspeed, yawspeed\n",
    "\n",
    "        \n",
    "        # self.mav.gimbal_manager_set_attitude_send(\n",
    "        #     self.target_system, self.target_component,\n",
    "        #     flags,\n",
    "        #     0, # gimbal_device_id , 0=all gimbal components\n",
    "        #     q,\n",
    "        #     angular_velocity_x, angular_velocity_y, angular_velocity_z,\n",
    "        # )\n",
    "\n",
    "        self.mav.gimbal_device_set_attitude_send(\n",
    "            self.target_system, self.target_component,\n",
    "            flags,\n",
    "            q,\n",
    "            angular_velocity_x, angular_velocity_y, angular_velocity_z,\n",
    "        )   \n",
    "    \n",
    "    def set_zoom(self, value):\n",
    "        \"\"\" Set the camera zoom\"\"\"\n",
    "        # https://mavlink.io/en/messages/common.html#MAV_CMD_SET_CAMERA_ZOOM\n",
    "        t = self.send_command(self.target_system, self.target_component,\n",
    "        MAV_CMD_SET_CAMERA_ZOOM,\n",
    "        [0,\n",
    "         value, 0,0,0,0,0])\n",
    "    \n",
    "    def start_capture(self):\n",
    "        \"\"\"Start image capture sequence.\"\"\"\n",
    "        # https://mavlink.io/en/messages/common.html#MAV_CMD_IMAGE_START_CAPTURE\n",
    "        t = self.send_command(self.target_system, self.target_component,\n",
    "        MAV_CMD_IMAGE_START_CAPTURE,\n",
    "        [0,\n",
    "         0, # interval\n",
    "         1, # number of  images to capture\n",
    "         0, # Sequence number starting from 1. This is only valid for single-capture (param3 == 1), otherwise set to 0.  Increment the capture ID for each capture command to prevent double captures when a command is re-transmitted.\n",
    "         NAN, # Reserved\n",
    "         NAN, # Reserved\n",
    "         NAN]) # Reserved\n",
    "    \n",
    "    def stop_capture(self):\n",
    "        \"\"\"Stop image capture sequence\"\"\"\n",
    "        # https://mavlink.io/en/messages/common.html#MAV_CMD_IMAGE_STOP_CAPTURE\n",
    "        t = self.send_command(self.target_system, self.target_component,\n",
    "        MAV_CMD_IMAGE_STOP_CAPTURE,\n",
    "        [0, NAN, NAN, NAN, NAN, NAN, NAN])\n"
   ]
  },
  {
   "cell_type": "code",
   "execution_count": null,
   "metadata": {},
   "outputs": [
    {
     "data": {
      "text/markdown": "---\n\n[source](https://github.com/johnnewto/UAV/blob/main/UAV/mavlink/vs_gimbal.py#L29){target=\"_blank\" style=\"float:right; font-size:smaller\"}\n\n### GimbalClient\n\n>      GimbalClient (mav_connection, source_component, mav_type, debug)\n\nCreate a Viewsheen mavlink gimbal client component for send commands to a gimbal on a companion computer or GCS\n\n|    | **Details** |\n| -- | ----------- |\n| mav_connection | MavLinkBase connection |\n| source_component | used for component indication |\n| mav_type | used for heartbeat MAV_TYPE indication |\n| debug | logging level |",
      "text/plain": "---\n\n[source](https://github.com/johnnewto/UAV/blob/main/UAV/mavlink/vs_gimbal.py#L29){target=\"_blank\" style=\"float:right; font-size:smaller\"}\n\n### GimbalClient\n\n>      GimbalClient (mav_connection, source_component, mav_type, debug)\n\nCreate a Viewsheen mavlink gimbal client component for send commands to a gimbal on a companion computer or GCS\n\n|    | **Details** |\n| -- | ----------- |\n| mav_connection | MavLinkBase connection |\n| source_component | used for component indication |\n| mav_type | used for heartbeat MAV_TYPE indication |\n| debug | logging level |"
     },
     "execution_count": null,
     "metadata": {},
     "output_type": "execute_result"
    }
   ],
   "source": [
    "show_doc(GimbalClient)"
   ]
  },
  {
   "cell_type": "code",
   "execution_count": null,
   "metadata": {},
   "outputs": [],
   "source": [
    "#| export\n",
    "class GimbalServer(Component):\n",
    "    \"\"\"Create a Viewsheen mavlink Camera Server Component for receiving commands from a gimbal on a companion computer or GCS\"\"\"\n",
    "\n",
    "    def __init__(self,\n",
    "                 source_component,  # used for component indication\n",
    "                 mav_type,  # used for heartbeat MAV_TYPE indication\n",
    "                 debug):  # logging level\n",
    "        \n",
    "        super().__init__( source_component=source_component, mav_type=mav_type, debug=debug)\n",
    "        \n",
    "        self.set_message_callback(self.on_message)\n",
    "        self.connect()\n",
    "     \n",
    "     \n",
    "    def connect(self):\n",
    "        \"\"\"Connect to the viewsheen_sdk gimbal\"\"\"\n",
    "        self.sock = socket.socket(socket.AF_INET, socket.SOCK_STREAM)\n",
    "        self.sock.connect((VS_IP_ADDRESS, VS_PORT))\n",
    "        self.log.debug(f\"Connected to gimbal\")\n",
    "        return True\n",
    "    \n",
    "    def on_message(self, msg):\n",
    "        \"\"\"Callback for a command received from the gimbal\"\"\"\n",
    "        # https://mavlink.io/en/messages/common.html#GIMBAL_DEVICE_SET_ATTITUDE\n",
    "        # print(f\" {msg = }\")\n",
    "        # print(f\" {msg.get_type() = }\")\n",
    "        # return False\n",
    "        if msg.get_type() == \"GIMBAL_DEVICE_SET_ATTITUDE\" or msg.get_type() == \"GIMBAL_MANAGER_SET_ATTITUDE\":\n",
    "            self.set_attitude(msg)\n",
    "            return False\n",
    "        elif msg.get_type() == \"COMMAND_LONG\":\n",
    "            # print(f\"Command  {msg.command = } \")\n",
    "            if msg.command == MAV_CMD_SET_CAMERA_ZOOM:\n",
    "                # self.log.info(f\"***** Zoom {msg}\")\n",
    "                # print(f\"Zoom {msg.param2 = }\")\n",
    "                self.set_zoom(msg)\n",
    "                return True\n",
    "            elif msg.command == MAV_CMD_IMAGE_START_CAPTURE:\n",
    "                self.start_capture()\n",
    "                return True\n",
    "            elif msg.command == MAV_CMD_IMAGE_STOP_CAPTURE:\n",
    "                self.stop_capture()\n",
    "                return True\n",
    "            \n",
    "        else:\n",
    "            self.log.debug(f\"Unknown command {msg.get_type()} received from {msg.get_srcSystem()}/{msg.get_srcComponent()}\")\n",
    "            return False\n",
    "        \n",
    "    def set_zoom(self, msg):\n",
    "        \"\"\" Set the viewsheen camera zoom \"\"\"\n",
    "        # print(msg.get_type())\n",
    "        # print(f\"Zoom {msg.param2 = }\")\n",
    "        data = zoom(int(msg.param2))\n",
    "        self.sock.sendall(data)\n",
    "        \n",
    "        \n",
    "    def start_capture(self):\n",
    "        \"\"\"Start image capture sequence.\"\"\"\n",
    "        # https://mavlink.io/en/messages/common.html#MAV_CMD_IMAGE_START_CAPTURE\n",
    "        data = snapshot(1, 0)\n",
    "        self.sock.sendall(data)\n",
    "\n",
    "        \n",
    "    def set_attitude(self, msg):\n",
    "        \"\"\"Set the attitude of the gimbal\"\"\"\n",
    "        # https://mavlink.io/en/messages/common.html#GIMBAL_DEVICE_SET_ATTITUDE\n",
    "   \n",
    "        pitch, yaw = msg.q[2], msg.q[3]\n",
    "        pitchspeed, yawspeed = msg.angular_velocity_y, msg.angular_velocity_z\n",
    "        pan = int(yawspeed * 100)\n",
    "        tilt = int(pitchspeed * 100)\n",
    "        data = pan_tilt(pan, tilt)\n",
    "        self.sock.sendall(data)\n",
    "        \n",
    "    def close(self):\n",
    "        \"\"\"Close the connection to the gimbal\"\"\"\n",
    "        super().close()\n",
    "        self.sock.close()\n",
    "        self.log.debug(f\"Closed connection to gimbal\")\n",
    "        return True\n"
   ]
  },
  {
   "cell_type": "code",
   "execution_count": null,
   "metadata": {},
   "outputs": [
    {
     "data": {
      "text/markdown": "---\n\n[source](https://github.com/johnnewto/UAV/blob/main/UAV/mavlink/vs_gimbal.py#L108){target=\"_blank\" style=\"float:right; font-size:smaller\"}\n\n### GimbalServer\n\n>      GimbalServer (mav_connection, source_component, mav_type, debug)\n\nCreate a Viewsheen mavlink Camera Server Component for receiving commands from a gimbal on a companion computer or GCS\n\n|    | **Details** |\n| -- | ----------- |\n| mav_connection | MavLinkBase connection |\n| source_component | used for component indication |\n| mav_type | used for heartbeat MAV_TYPE indication |\n| debug | logging level |",
      "text/plain": "---\n\n[source](https://github.com/johnnewto/UAV/blob/main/UAV/mavlink/vs_gimbal.py#L108){target=\"_blank\" style=\"float:right; font-size:smaller\"}\n\n### GimbalServer\n\n>      GimbalServer (mav_connection, source_component, mav_type, debug)\n\nCreate a Viewsheen mavlink Camera Server Component for receiving commands from a gimbal on a companion computer or GCS\n\n|    | **Details** |\n| -- | ----------- |\n| mav_connection | MavLinkBase connection |\n| source_component | used for component indication |\n| mav_type | used for heartbeat MAV_TYPE indication |\n| debug | logging level |"
     },
     "execution_count": null,
     "metadata": {},
     "output_type": "execute_result"
    }
   ],
   "source": [
    "show_doc(GimbalServer)"
   ]
  },
  {
   "cell_type": "code",
   "execution_count": null,
   "metadata": {},
   "outputs": [
    {
     "name": "stderr",
     "output_type": "stream",
     "text": [
      "INFO   | uav.MAVCom      | 23.021 |  mavcom.py:368 | Thread-17 (listen) | MAVLink Mav2: True, source_system: 111\n",
      "INFO   | uav.MAVCom      | 23.123 |  mavcom.py:368 | Thread-18 (listen) | MAVLink Mav2: True, source_system: 222\n",
      "INFO   | uav.GimbalClien | 23.125 | component.py: 78 | MainThread         | Component Started self.source_component = 11, self.mav_type = 6, self.source_system = 111\n",
      "INFO   | uav.GimbalServe | 23.127 | component.py: 78 | MainThread         | Component Started self.source_component = 22, self.mav_type = 30, self.source_system = 222\n",
      "INFO   | uav.GimbalServe | 25.135 | component.py:365 | MainThread         | GimbalServer closed\n",
      "INFO   | uav.MAVCom      | 25.137 |  mavcom.py:413 | MainThread         | MAVCom  closed\n",
      "INFO   | uav.GimbalClien | 26.135 | component.py:365 | MainThread         | GimbalClient closed\n",
      "INFO   | uav.MAVCom      | 26.137 |  mavcom.py:413 | MainThread         | MAVCom  closed\n"
     ]
    }
   ],
   "source": [
    "MAV_TYPE_GCS = mavutil.mavlink.MAV_TYPE_GCS\n",
    "MAV_TYPE_CAMERA = mavutil.mavlink.MAV_TYPE_CAMERA\n",
    "# cli = GimbalClient(mav_connection=None, source_component=11, mav_type=MAV_TYPE_GCS, debug=False)\n",
    "# gim1 = GimbalServer(mav_connection=None, source_component=22, mav_type=MAV_TYPE_CAMERA, debug=False)\n",
    "\n",
    "con1, con2 = \"udpin:localhost:14445\", \"udpout:localhost:14445\"\n",
    "# con1, con2 = \"/dev/ttyACM0\", \"/dev/ttyUSB0\"\n",
    "with MAVCom(con1, source_system=111, debug=False) as client:\n",
    "    with MAVCom(con2, source_system=222, debug=False) as server:\n",
    "        gimbal:GimbalClient = client.add_component(GimbalClient(client, mav_type=MAV_TYPE_GCS, source_component = 11, debug=False))\n",
    "        server.add_component(GimbalServer(server, mav_type=MAV_TYPE_CAMERA, source_component = 22, debug=False))\n",
    "        \n",
    "        gimbal.wait_heartbeat(target_system=222, target_component=22, timeout=0.99)\n",
    "        time.sleep(0.1)\n",
    "        gimbal.set_target(222, 22)\n",
    "        \n",
    "        NAN = float(\"nan\")\n",
    "        # client.component[11]._test_command(222, 22, 1)\n",
    "        # for i in range (1)  :\n",
    "        #     time.sleep(0.01)\n",
    "        gimbal.set_attitude( NAN, NAN, 0.0, 0.2)\n",
    "        time.sleep(0.5)\n",
    "        gimbal.set_attitude( NAN, NAN, 0.0, -0.2)\n",
    "        time.sleep(0.5)\n",
    "        gimbal.start_capture()\n",
    "        # gimbal.set_zoom(1)\n",
    "        \n",
    "        \n",
    "        # client.component[11].set_attitude(0, 0, 0, 0, 0, 0)\n",
    "\n"
   ]
  },
  {
   "cell_type": "code",
   "execution_count": null,
   "metadata": {},
   "outputs": [
    {
     "ename": "AssertionError",
     "evalue": "Stop here",
     "output_type": "error",
     "traceback": [
      "\u001b[0;31m---------------------------------------------------------------------------\u001b[0m",
      "\u001b[0;31mAssertionError\u001b[0m                            Traceback (most recent call last)",
      "Cell \u001b[0;32mIn[11], line 2\u001b[0m\n\u001b[1;32m      1\u001b[0m \u001b[38;5;66;03m# | hide\u001b[39;00m\n\u001b[0;32m----> 2\u001b[0m \u001b[38;5;28;01massert\u001b[39;00m \u001b[38;5;28;01mFalse\u001b[39;00m, \u001b[38;5;124m\"\u001b[39m\u001b[38;5;124mStop here\u001b[39m\u001b[38;5;124m\"\u001b[39m\n",
      "\u001b[0;31mAssertionError\u001b[0m: Stop here"
     ]
    }
   ],
   "source": [
    "# | hide\n",
    "assert False, \"Stop here\""
   ]
  },
  {
   "cell_type": "code",
   "execution_count": null,
   "metadata": {},
   "outputs": [],
   "source": [
    "show_doc(Component)"
   ]
  },
  {
   "cell_type": "code",
   "execution_count": null,
   "metadata": {},
   "outputs": [],
   "source": [
    "#| Hide\n",
    "# assert False, \"Stop here\""
   ]
  },
  {
   "cell_type": "code",
   "execution_count": null,
   "metadata": {},
   "outputs": [],
   "source": [
    "#| hide\n",
    "# from nbdev import nbdev_export\n",
    "# nbdev_export()"
   ]
  }
 ],
 "metadata": {
  "kernelspec": {
   "display_name": "python3",
   "language": "python",
   "name": "python3"
  }
 },
 "nbformat": 4,
 "nbformat_minor": 4
}
