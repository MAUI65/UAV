{
 "cells": [
  {
   "cell_type": "markdown",
   "metadata": {},
   "source": []
  },
  {
   "cell_type": "code",
   "execution_count": null,
   "metadata": {},
   "outputs": [],
   "source": [
    "#| default_exp gstreamer.examples"
   ]
  },
  {
   "cell_type": "markdown",
   "metadata": {},
   "source": [
    "# Gstreamer Examples and tests\n",
    "> Gstreamer video capture with on/off valve\n",
    "\n"
   ]
  },
  {
   "cell_type": "markdown",
   "metadata": {},
   "source": [
    "#| hide\n",
    "# skip_showdoc: true to avoid running cells when rendering docs, and skip_exec: true to skip this notebook when running tests. \n",
    "# this should be a raw cell "
   ]
  },
  {
   "cell_type": "raw",
   "metadata": {},
   "source": [
    "---\n",
    "skip_showdoc: true\n",
    "skip_exec: true\n",
    "---"
   ]
  },
  {
   "cell_type": "code",
   "execution_count": null,
   "metadata": {},
   "outputs": [],
   "source": [
    "#| export\n",
    "from UAV.imports import *   # TODO why is this relative import on nbdev_export?\n",
    "from fastcore.utils import *\n",
    "import cv2\n",
    "import gi\n",
    "import numpy as np\n",
    "from imutils import resize\n",
    "# from ping_ip import ping_ip\n",
    "import threading\n",
    "from multiprocessing import Process\n",
    "from gi.repository import Gst\n",
    "import subprocess\n",
    "import platform\n",
    "\n",
    "import paho.mqtt.client as mqtt_client\n",
    "\n",
    "import time\n",
    "# from dataloader import LoadImages, resize\n",
    "from pathlib import Path\n",
    "import logging\n",
    "# import .nbs.Gstreamer.gst_parameters as params\n",
    "#| export\n",
    "gi.require_version('Gst', '1.0')"
   ]
  },
  {
   "cell_type": "code",
   "execution_count": null,
   "metadata": {},
   "outputs": [],
   "source": [
    "#| hide\n",
    "from nbdev.showdoc import *\n",
    "from nbdev.showdoc import *\n",
    "from fastcore.test import *\n"
   ]
  },
  {
   "cell_type": "markdown",
   "metadata": {},
   "source": [
    "### Default parameters\n",
    "Overide these default parameters for application specific applications.\n",
    "\n",
    "The code is shown below:"
   ]
  },
  {
   "cell_type": "code",
   "execution_count": null,
   "metadata": {},
   "outputs": [],
   "source": [
    "#| exports\n",
    "#|code-fold: true\n",
    "\n",
    "from dataclasses import dataclass\n",
    "\n",
    "@dataclass\n",
    "class DefaultParams():\n",
    "    camera_dev = \"CAM-0\"\n",
    "    cameras = {\n",
    "        \"CAM-0\": {\n",
    "            \"gst\": [\n",
    "                'videotestsrc pattern=smpte is-live=true ! tee name=t ',\n",
    "                't. ! queue leaky=2 ! videoconvert ! videorate drop-only=true ! video/x-raw,framerate=10/1,format=(string)BGR ! ',\n",
    "                '   videoconvert ! appsink name=sink emit-signals=true  sync=false async=false  max-buffers=2 drop=true ',\n",
    "                't. ! queue leaky=2 ! valve name=myvalve drop=true ! video/x-raw,format=I420,width=640,height=480 ! videoconvert ! x264enc ! rtph264pay ! udpsink host=127.0.0.1 port=5000',\n",
    "                ],\n",
    "            \"udp\": True,\n",
    "            \"host\": \"127.0.0.1\",\n",
    "            \"port\": 5000,\n",
    "        },\n",
    "        \"CAM-1\": {\n",
    "            \"gst\": [\n",
    "                'videotestsrc pattern=ball is-live=true ! tee name=t ',\n",
    "                't. ! queue leaky=2 ! videoconvert ! videorate drop-only=true ! video/x-raw,framerate=10/1,format=(string)BGR ! ',\n",
    "                '   videoconvert ! appsink name=sink emit-signals=true  sync=false async=false  max-buffers=2 drop=true ',\n",
    "                't. ! queue leaky=2 ! valve name=myvalve drop=true ! video/x-raw,format=I420,width=640,height=480 ! videoconvert ! x264enc ! rtph264pay ! udpsink host=127.0.0.1 port=5001',\n",
    "                ],\n",
    "            \"udp\": True,\n",
    "            \"host\": \"127.0.0.1\",\n",
    "            \"port\": 5001,\n",
    "        },\n",
    "        \"CAM-2\": {\n",
    "            \"gst\": [\n",
    "                'videotestsrc pattern=snow is-live=true ! tee name=t ',\n",
    "                't. ! queue leaky=2 ! videoconvert ! videorate drop-only=true ! video/x-raw,framerate=10/1,format=(string)BGR ! ',\n",
    "                '   videoconvert ! appsink name=sink emit-signals=true  sync=false async=false  max-buffers=2 drop=true ',\n",
    "                't. ! queue leaky=2 ! valve name=myvalve drop=true ! video/x-raw,format=I420,width=640,height=480 ! videoconvert ! x264enc ! rtph264pay ! udpsink host=127.0.0.1 port=5002',\n",
    "                ],\n",
    "            \"udp\": True,\n",
    "            \"host\": \"127.0.0.1\",\n",
    "            \"port\": 5002,\n",
    "        },\n",
    "        \"CAM-3\": {\n",
    "            \"gst\": [\n",
    "                'videotestsrc pattern=pinwheel is-live=true ! tee name=t ',\n",
    "                't. ! queue leaky=2 ! videoconvert ! videorate drop-only=true ! video/x-raw,framerate=10/1,format=(string)BGR ! ',\n",
    "                '  videoconvert ! appsink name=sink emit-signals=true  sync=false async=false  max-buffers=2 drop=true ',\n",
    "                't. ! queue leaky=2 ! valve name=myvalve drop=true ! video/x-raw,format=I420,width=640,height=480 ! videoconvert ! x264enc ! rtph264pay ! udpsink host=127.0.0.1 port=5003',\n",
    "                ],\n",
    "            \"udp\": True,\n",
    "            \"host\": \"127.0.0.1\",\n",
    "            \"port\": 5003,\n",
    "            },\n",
    "    \n",
    "       }\n",
    "\n",
    "    # socket address and port\n",
    "    mqqt_address='127.0.0.1'\n",
    "    src_port=1234"
   ]
  },
  {
   "cell_type": "markdown",
   "metadata": {},
   "source": [
    "As an example for camera 0, ```DefaultParams.cameras[\"CAM-0\"][\"gst\"]``` is a list of gstreamer setup commands."
   ]
  },
  {
   "cell_type": "code",
   "execution_count": null,
   "metadata": {},
   "outputs": [],
   "source": [
    "#|eval: false     don't run this cell in testing as the mqtt broker may not be running\n",
    "# Test with GstStream\n",
    "\n",
    "params = DefaultParams()\n",
    "gstcommand = params.cameras[\"CAM-0\"][\"gst\"]\n",
    "with  GstStream(\"CAM-0\", gstcommand) as video:\n",
    "    with Mqtt(\"CAM-0\", video) as mqtt:\n",
    "        mqtt.wait_connection()   # wait for connection\n",
    "        mqtt.client.publish(\"STREAM-CAMERA\", \"CAM-0\")\n",
    "        time.sleep(0.1)\n",
    "        vs = video.get_valve_state(\"myvalve\")\n",
    "        print(vs)\n",
    "        test_eq(vs, False)    # ie dont drop frames on this camera, drop on others\n",
    "\n",
    "        mqtt.client.publish(\"STREAM-CAMERA\", \"CAM-1\")\n",
    "        time.sleep(0.1)\n",
    "        vs = video.get_valve_state(\"myvalve\")\n",
    "        print(vs)\n",
    "        test_eq(vs, True)   # ie do drop frames on this camera, don't drop on CAM-1\n"
   ]
  },
  {
   "cell_type": "markdown",
   "metadata": {},
   "source": [
    "### Main function for local testing"
   ]
  },
  {
   "cell_type": "markdown",
   "metadata": {},
   "source": [
    "\n",
    "#### Receive on UDP with this Test  :\n",
    "from first terminal run \n",
    "```sh\n",
    "   gst-launch-1.0 udpsrc port=5000 ! application/x-rtp,encoding-name=H264,payload=96 ! \\\n",
    "           rtph264depay ! h264parse ! queue ! avdec_h264 ! xvimagesink sync=false async=false -e\n",
    "  ```\n",
    "from second terminal run \n",
    "```sh\n",
    "  mosquitto_pub -m \"CAM-0\" -t \"STREAM-CAMERA\"\n",
    "  mosquitto_pub -m \"CAM-1\" -t \"STREAM-CAMERA\"\n",
    "```"
   ]
  },
  {
   "cell_type": "markdown",
   "metadata": {},
   "source": [
    "### Test with two cameras from terminal in separte processes\n",
    "The idea is to run the 4 gst pipelines in direent processes"
   ]
  },
  {
   "cell_type": "markdown",
   "metadata": {},
   "source": []
  },
  {
   "cell_type": "code",
   "execution_count": null,
   "metadata": {},
   "outputs": [],
   "source": [
    "#|exports\n",
    "#|eval: false     don't run this cell in testing\n",
    "#|code-fold: true\n",
    "\n",
    "from multiprocessing import Process   # you will need to import Process from multiprocessing\n",
    "\n",
    "if __name__ == '__main__':\n",
    "\n",
    "    cams = []\n",
    "    params = DefaultParams()\n",
    "    for cam in list(params.cameras.keys())[:2]:\n",
    "        logger.info(\"Starting Cam: {cam}\")\n",
    "        p = Process(target=main, args=(cam,))\n",
    "        p.start()\n",
    "        cams.append(p)\n",
    "\n",
    "    for p in cams:\n",
    "        p.join()\n",
    "        "
   ]
  },
  {
   "cell_type": "code",
   "execution_count": null,
   "metadata": {},
   "outputs": [],
   "source": [
    "#| hide\n",
    "from nbdev import nbdev_export\n",
    "nbdev_export()"
   ]
  }
 ],
 "metadata": {
  "kernelspec": {
   "display_name": "python3",
   "language": "python",
   "name": "python3"
  }
 },
 "nbformat": 4,
 "nbformat_minor": 4
}
