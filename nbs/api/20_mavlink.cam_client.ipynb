{
 "cells": [
  {
   "cell_type": "markdown",
   "metadata": {},
   "source": [
    "# Mavlink Camera Client\n",
    "> Mavlink experiments\n",
    "\n",
    "[https://mavlink.io/en/mavgen_python/](https://mavlink.io/en/mavgen_python/)\n",
    "[https://www.ardusub.com/developers/pymavlink.html](https://www.ardusub.com/developers/pymavlink.html)\n",
    "\n",
    "https://mavlink.io/en/messages/common.html\n",
    "https://mavlink.io/en/messages/common.html#MAV_TYPE\n",
    "\n"
   ]
  },
  {
   "cell_type": "code",
   "execution_count": null,
   "metadata": {},
   "outputs": [],
   "source": [
    "#| default_exp mavlink.cam_client"
   ]
  },
  {
   "cell_type": "code",
   "execution_count": null,
   "metadata": {},
   "outputs": [],
   "source": []
  },
  {
   "cell_type": "code",
   "execution_count": null,
   "metadata": {},
   "outputs": [],
   "source": [
    "#| hide\n",
    "%load_ext autoreload\n",
    "%autoreload 2"
   ]
  },
  {
   "cell_type": "code",
   "execution_count": null,
   "metadata": {},
   "outputs": [],
   "source": [
    "#| hide\n",
    "# skip_showdoc: true to avoid running cells when rendering docs, and \n",
    "# skip_exec: true to skip this notebook when running tests. \n",
    "# this should be a raw cell "
   ]
  },
  {
   "cell_type": "code",
   "execution_count": null,
   "metadata": {},
   "outputs": [],
   "source": []
  },
  {
   "cell_type": "raw",
   "metadata": {},
   "source": [
    "---\n",
    "skip_showdoc: true\n",
    "skip_exec: true\n",
    "---"
   ]
  },
  {
   "cell_type": "code",
   "execution_count": null,
   "metadata": {},
   "outputs": [],
   "source": [
    "#| export\n",
    "from UAV.imports import *   # TODO why is this relative import on nbdev_export?\n",
    "import cv2\n",
    "\n",
    "import numpy as np\n",
    "from imutils import resize\n",
    "\n",
    "import threading\n",
    "import time\n",
    "from pymavlink import mavutil\n",
    "import threading\n",
    "import logging\n",
    "import UAV.params as params\n",
    "\n",
    "# gi.require_version('Gst', '1.0')"
   ]
  },
  {
   "cell_type": "code",
   "execution_count": null,
   "metadata": {},
   "outputs": [],
   "source": [
    "#| export\n",
    "logging.basicConfig(format='%(asctime)-8s,%(msecs)-3d %(levelname)5s [%(filename)10s:%(lineno)3d] %(message)s',\n",
    "                    datefmt='%H:%M:%S',\n",
    "                    level=params.LOGGING_LEVEL)  # Todo add this to params\n",
    "logger = logging.getLogger(params.LOGGING_NAME)"
   ]
  },
  {
   "cell_type": "code",
   "execution_count": null,
   "metadata": {},
   "outputs": [],
   "source": [
    "#| hide\n",
    "from fastcore.utils import *\n",
    "from nbdev.showdoc import *\n",
    "from fastcore.test import *"
   ]
  },
  {
   "cell_type": "code",
   "execution_count": null,
   "metadata": {},
   "outputs": [],
   "source": [
    "class CameraClient:\n",
    "    \"\"\"\n",
    "    Mavlink Camera Client \n",
    "    \"\"\"\n",
    "    def __init__(self, connection_string, baudrate=57600):\n",
    "        # Create the connection\n",
    "        self.master = mavutil.mavlink_connection(connection_string, baud=baudrate)\n",
    "        # we send a heartnbeat at the start as it's necessary to send data to server (via udpout) before server will send any data.\n",
    "        self.send_heartbeat()\n",
    "        print(\"Client heartbeat_sent\")\n",
    "\n",
    "        self.t = threading.Thread(target=self.listen, daemon=True)\n",
    "        self.t.start()\n",
    "        # Wait for the first heartbeat to get target system and component IDs\n",
    "        print(\"Waiting for heartbeat\")\n",
    "        first_msg = self.master.recv_match(type='HEARTBEAT', blocking=True)\n",
    "        print(\"Heartbeat from system (system %u component %u)\" % (self.master.target_system, self.master.target_component))\n",
    "        self.master.wait_heartbeat()\n",
    "        print(\"Connected to MAVLink device\")\n",
    "\n",
    "    def trigger_camera(self, camera_id=1):\n",
    "        # Use MAV_CMD_DO_DIGICAM_CONTROL to trigger the camera\n",
    "        # This assumes the camera understands this MAVLink message\n",
    "        self.master.mav.command_long_send(\n",
    "            self.master.target_system,  # target_system\n",
    "            self.master.target_component,  # target_component\n",
    "            mavutil.mavlink.MAV_CMD_DO_DIGICAM_CONTROL,  # command\n",
    "            0,  # confirmation\n",
    "            camera_id,  # param1 (session)  or cam # (0 for all cams)\n",
    "            1,  # param2 (trigger capture)\n",
    "            0,  # param3 (zoom pos)\n",
    "            0,  # param4 (zoom step)\n",
    "            0,  # param5 (focus lock)\n",
    "            0,  # param6 (shot ID)\n",
    "            0,  # param7 (command ID)\n",
    "        )\n",
    "        print(\"sent Camera trigger\")\n",
    "\n",
    "    def start_streaming(self, camera_id=1):\n",
    "        # Use MAV_CMD_VIDEO_START_STREAMING to start streaming video\n",
    "        # This assumes the camera understands this MAVLink message\n",
    "        self.master.mav.command_long_send(\n",
    "            self.master.target_system,  # target_system\n",
    "            self.master.target_component,  # target_component\n",
    "            mavutil.mavlink.MAV_CMD_VIDEO_START_STREAMING,  # command\n",
    "            0,  # confirmation\n",
    "            camera_id,  # param1 (camera ID) Video Stream ID (0 for all streams, 1 for first, 2 for second, etc.)\n",
    "            0,  # param2 (frame rate in Hz)\n",
    "            0,  # param3 (0=disabled, 1=enabled)\n",
    "            0,  # param4\n",
    "            0,  # param5\n",
    "            0,  # param6\n",
    "            0,  # param7\n",
    "        )\n",
    "        print(\"sent Start streaming\")\n",
    "\n",
    "    def stop_streaming(self, camera_id=1):\n",
    "        # Use MAV_CMD_VIDEO_STOP_STREAMING to stop streaming video\n",
    "        # This assumes the camera understands this MAVLink message\n",
    "        self.master.mav.command_long_send(\n",
    "            self.master.target_system,  # target_system\n",
    "            self.master.target_component,  # target_component\n",
    "            mavutil.mavlink.MAV_CMD_VIDEO_STOP_STREAMING,  # command\n",
    "            0,  # confirmation\n",
    "            camera_id,  # param1 (camera ID) Video Stream ID (0 for all streams, 1 for first, 2 for second, etc.)\n",
    "            0,  # param2\n",
    "            0,  # param3\n",
    "            0,  # param4\n",
    "            0,  # param5\n",
    "            0,  # param6\n",
    "            0,  # param7\n",
    "        )\n",
    "        print(\"sent Stop streaming\")\n",
    "\n",
    "    def video_stream_info(self, camera_id=1):\n",
    "        # Use MAV_CMD_REQUEST_MESSAGE to request video stream info\n",
    "        # This assumes the camera understands this MAVLink message\n",
    "        self.master.mav.command_long_send(\n",
    "            self.master.target_system,  # target_system\n",
    "            self.master.target_component,  # target_component\n",
    "            mavutil.mavlink.MAV_CMD_REQUEST_VIDEO_STREAM_INFORMATION,  # command\n",
    "            0,  # confirmation\n",
    "            camera_id,  # param1 (camera ID) Video Stream ID (0 for all streams, 1 for first, 2 for second, etc.)\n",
    "            0,  # param2 Video Stream ID (1 for first, 2 for second, etc.)\n",
    "            0,  # param3\n",
    "            0,  # param4\n",
    "            0,  # param5\n",
    "            0,  # param6\n",
    "            0,  # param7\n",
    "        )\n",
    "        print(\"sent Request stream info\")\n",
    "\n",
    "    def send_heartbeat(self):\n",
    "        self.master.mav.heartbeat_send(\n",
    "            mavutil.mavlink.MAV_TYPE_GCS,  # type\n",
    "            mavutil.mavlink.MAV_AUTOPILOT_INVALID,  # autopilot\n",
    "            0,  # base_mode\n",
    "            0,  # custom_mode\n",
    "            mavutil.mavlink.MAV_STATE_ACTIVE,  # system_status\n",
    "            3  # MAVLink version\n",
    "        )\n",
    "\n",
    "    def listen(self):\n",
    "        print(\"Listening for MAVLink ...\")\n",
    "\n",
    "\n",
    "        while True:\n",
    "            # Wait for a MAVLink message\n",
    "            msg = self.master.recv_msg()\n",
    "            if msg:\n",
    "                print(msg)\n",
    "            else:\n",
    "                # print(\"No message\")\n",
    "                time.sleep(0.1)\n",
    "\n",
    "    def close(self):\n",
    "        self.master.port.close()\n",
    "        print(\"Connection closed\")"
   ]
  },
  {
   "cell_type": "markdown",
   "metadata": {},
   "source": [
    "Mavlink Camera Client"
   ]
  },
  {
   "cell_type": "code",
   "execution_count": null,
   "metadata": {},
   "outputs": [],
   "source": [
    "test_eq(1,1)"
   ]
  },
  {
   "cell_type": "code",
   "execution_count": null,
   "metadata": {},
   "outputs": [
    {
     "name": "stdout",
     "output_type": "stream",
     "text": [
      "Client heartbeat_sent\n",
      "Listening for MAVLink ...\n",
      "Waiting for heartbeat\n"
     ]
    },
    {
     "ename": "KeyboardInterrupt",
     "evalue": "",
     "output_type": "error",
     "traceback": [
      "\u001b[0;31m---------------------------------------------------------------------------\u001b[0m",
      "\u001b[0;31mKeyboardInterrupt\u001b[0m                         Traceback (most recent call last)",
      "Cell \u001b[0;32mIn[10], line 1\u001b[0m\n\u001b[0;32m----> 1\u001b[0m client \u001b[38;5;241m=\u001b[39m \u001b[43mCameraClient\u001b[49m\u001b[43m(\u001b[49m\u001b[38;5;124;43m\"\u001b[39;49m\u001b[38;5;124;43mudpout:localhost:14550\u001b[39;49m\u001b[38;5;124;43m\"\u001b[39;49m\u001b[43m)\u001b[49m\n\u001b[1;32m      2\u001b[0m \u001b[38;5;66;03m# time.sleep(0.1)\u001b[39;00m\n\u001b[1;32m      3\u001b[0m \u001b[38;5;66;03m# client.trigger_camera()\u001b[39;00m\n\u001b[1;32m      4\u001b[0m \u001b[38;5;28;01mwhile\u001b[39;00m \u001b[38;5;28;01mTrue\u001b[39;00m:\n",
      "Cell \u001b[0;32mIn[8], line 16\u001b[0m, in \u001b[0;36mCameraClient.__init__\u001b[0;34m(self, connection_string, baudrate)\u001b[0m\n\u001b[1;32m     14\u001b[0m \u001b[38;5;66;03m# Wait for the first heartbeat to get target system and component IDs\u001b[39;00m\n\u001b[1;32m     15\u001b[0m \u001b[38;5;28mprint\u001b[39m(\u001b[38;5;124m\"\u001b[39m\u001b[38;5;124mWaiting for heartbeat\u001b[39m\u001b[38;5;124m\"\u001b[39m)\n\u001b[0;32m---> 16\u001b[0m first_msg \u001b[38;5;241m=\u001b[39m \u001b[38;5;28;43mself\u001b[39;49m\u001b[38;5;241;43m.\u001b[39;49m\u001b[43mmaster\u001b[49m\u001b[38;5;241;43m.\u001b[39;49m\u001b[43mrecv_match\u001b[49m\u001b[43m(\u001b[49m\u001b[38;5;28;43mtype\u001b[39;49m\u001b[38;5;241;43m=\u001b[39;49m\u001b[38;5;124;43m'\u001b[39;49m\u001b[38;5;124;43mHEARTBEAT\u001b[39;49m\u001b[38;5;124;43m'\u001b[39;49m\u001b[43m,\u001b[49m\u001b[43m \u001b[49m\u001b[43mblocking\u001b[49m\u001b[38;5;241;43m=\u001b[39;49m\u001b[38;5;28;43;01mTrue\u001b[39;49;00m\u001b[43m)\u001b[49m\n\u001b[1;32m     17\u001b[0m \u001b[38;5;28mprint\u001b[39m(\u001b[38;5;124m\"\u001b[39m\u001b[38;5;124mHeartbeat from system (system \u001b[39m\u001b[38;5;132;01m%u\u001b[39;00m\u001b[38;5;124m component \u001b[39m\u001b[38;5;132;01m%u\u001b[39;00m\u001b[38;5;124m)\u001b[39m\u001b[38;5;124m\"\u001b[39m \u001b[38;5;241m%\u001b[39m (\u001b[38;5;28mself\u001b[39m\u001b[38;5;241m.\u001b[39mmaster\u001b[38;5;241m.\u001b[39mtarget_system, \u001b[38;5;28mself\u001b[39m\u001b[38;5;241m.\u001b[39mmaster\u001b[38;5;241m.\u001b[39mtarget_component))\n\u001b[1;32m     18\u001b[0m \u001b[38;5;28mself\u001b[39m\u001b[38;5;241m.\u001b[39mmaster\u001b[38;5;241m.\u001b[39mwait_heartbeat()\n",
      "File \u001b[0;32m~/PycharmProjects/UAV/venv/lib/python3.10/site-packages/pymavlink/mavutil.py:524\u001b[0m, in \u001b[0;36mmavfile.recv_match\u001b[0;34m(self, condition, type, blocking, timeout)\u001b[0m\n\u001b[1;32m    522\u001b[0m     hook(\u001b[38;5;28mself\u001b[39m)\n\u001b[1;32m    523\u001b[0m \u001b[38;5;28;01mif\u001b[39;00m timeout \u001b[38;5;129;01mis\u001b[39;00m \u001b[38;5;28;01mNone\u001b[39;00m:\n\u001b[0;32m--> 524\u001b[0m     \u001b[38;5;28;43mself\u001b[39;49m\u001b[38;5;241;43m.\u001b[39;49m\u001b[43mselect\u001b[49m\u001b[43m(\u001b[49m\u001b[38;5;241;43m0.05\u001b[39;49m\u001b[43m)\u001b[49m\n\u001b[1;32m    525\u001b[0m \u001b[38;5;28;01melse\u001b[39;00m:\n\u001b[1;32m    526\u001b[0m     \u001b[38;5;28mself\u001b[39m\u001b[38;5;241m.\u001b[39mselect(timeout\u001b[38;5;241m/\u001b[39m\u001b[38;5;241m2\u001b[39m)\n",
      "File \u001b[0;32m~/PycharmProjects/UAV/venv/lib/python3.10/site-packages/pymavlink/mavutil.py:338\u001b[0m, in \u001b[0;36mmavfile.select\u001b[0;34m(self, timeout)\u001b[0m\n\u001b[1;32m    336\u001b[0m     \u001b[38;5;28;01mreturn\u001b[39;00m \u001b[38;5;28;01mTrue\u001b[39;00m\n\u001b[1;32m    337\u001b[0m \u001b[38;5;28;01mtry\u001b[39;00m:\n\u001b[0;32m--> 338\u001b[0m     (rin, win, xin) \u001b[38;5;241m=\u001b[39m \u001b[43mselect\u001b[49m\u001b[38;5;241;43m.\u001b[39;49m\u001b[43mselect\u001b[49m\u001b[43m(\u001b[49m\u001b[43m[\u001b[49m\u001b[38;5;28;43mself\u001b[39;49m\u001b[38;5;241;43m.\u001b[39;49m\u001b[43mfd\u001b[49m\u001b[43m]\u001b[49m\u001b[43m,\u001b[49m\u001b[43m \u001b[49m\u001b[43m[\u001b[49m\u001b[43m]\u001b[49m\u001b[43m,\u001b[49m\u001b[43m \u001b[49m\u001b[43m[\u001b[49m\u001b[43m]\u001b[49m\u001b[43m,\u001b[49m\u001b[43m \u001b[49m\u001b[43mtimeout\u001b[49m\u001b[43m)\u001b[49m\n\u001b[1;32m    339\u001b[0m \u001b[38;5;28;01mexcept\u001b[39;00m select\u001b[38;5;241m.\u001b[39merror:\n\u001b[1;32m    340\u001b[0m     \u001b[38;5;28;01mreturn\u001b[39;00m \u001b[38;5;28;01mFalse\u001b[39;00m\n",
      "\u001b[0;31mKeyboardInterrupt\u001b[0m: "
     ]
    }
   ],
   "source": [
    "client = CameraClient(\"udpout:localhost:14550\")\n",
    "# time.sleep(0.1)\n",
    "# client.trigger_camera()\n",
    "while True:\n",
    "    client.video_stream_info(1)\n",
    "    client.trigger_camera(1)\n",
    "    client.start_streaming(2)\n",
    "    time.sleep(5)\n",
    "\n",
    "client.close()"
   ]
  },
  {
   "cell_type": "code",
   "execution_count": null,
   "metadata": {},
   "outputs": [],
   "source": [
    "assert False, \"Stop here\""
   ]
  },
  {
   "cell_type": "markdown",
   "metadata": {},
   "source": [
    "https://github.com/mavlink/MAVSDK/issues/1803\n",
    "\n",
    "So I managed to change OpenHD in this regard.\n",
    "No idea why I had such a hard time wrapping my head around, but now it works the following:\n",
    "OpenHD binds port 127.0.0.1:14551 and listens on 127.0.0.1:14550\n",
    "AND\n",
    "instead of using sendto() with a unbound port (which then in turn means the sender port can be anything) messages are sent with sendto() from the bound port (the same that is used for listening).\n",
    "\n",
    "So messages from OpenHD to mavsdk go the following:\n",
    "OpenHD (out) via 127:0:0:1:14551 sent to 127:0:0:0:1:14550\n",
    "\n",
    "So when mavsdk receives the first message, the sender address::port is 127:0:0:1:14551 and mavsdk can send the messages back to 127:0:0:1:14551.\n",
    "\n",
    "https://julianoes.com/\n",
    "The ports are not symmetrical! QGC listens on local port 14550 and sends UDP packets back to wherever messages came from.\n",
    "\n"
   ]
  },
  {
   "cell_type": "code",
   "execution_count": null,
   "metadata": {},
   "outputs": [],
   "source": [
    "#| hide\n",
    "# from nbdev import nbdev_export\n",
    "# nbdev_export()"
   ]
  }
 ],
 "metadata": {
  "kernelspec": {
   "display_name": "python3",
   "language": "python",
   "name": "python3"
  }
 },
 "nbformat": 4,
 "nbformat_minor": 4
}
