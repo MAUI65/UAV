{
 "cells": [
  {
   "cell_type": "code",
   "execution_count": null,
   "metadata": {},
   "outputs": [],
   "source": [
    "#| default_exp camera.test_fake_cam"
   ]
  },
  {
   "cell_type": "markdown",
   "metadata": {},
   "source": [
    "\n",
    "# Camera Fake \n",
    "> Opencv and GST Fake cameras for testing \n"
   ]
  },
  {
   "cell_type": "markdown",
   "metadata": {},
   "source": [
    "https://mavlink.io/en/services/camera.html\n",
    "https://github.com/mavlink/mavlink-camera-manager\n"
   ]
  },
  {
   "cell_type": "code",
   "execution_count": null,
   "metadata": {},
   "outputs": [],
   "source": [
    "#| hide\n",
    "%load_ext autoreload\n",
    "%autoreload 2"
   ]
  },
  {
   "cell_type": "code",
   "execution_count": null,
   "metadata": {},
   "outputs": [],
   "source": [
    "#| hide\n",
    "# skip_showdoc: true to avoid running cells when rendering docs, and \n",
    "# skip_exec: true to skip this notebook when running tests. \n",
    "# this should be a raw cell "
   ]
  },
  {
   "cell_type": "raw",
   "metadata": {},
   "source": [
    "---\n",
    "skip_showdoc: true\n",
    "skip_exec: true\n",
    "---"
   ]
  },
  {
   "cell_type": "code",
   "execution_count": null,
   "metadata": {},
   "outputs": [
    {
     "name": "stderr",
     "output_type": "stream",
     "text": [
      "\u001b[37mDEBUG  | matplotlib      | 51.282 | __init__.py:305 | MainThread         | matplotlib data path: /home/jn/PycharmProjects/UAV/venv/lib/python3.10/site-packages/matplotlib/mpl-data\u001b[0m\n",
      "\u001b[37mDEBUG  | matplotlib      | 51.286 | __init__.py:305 | MainThread         | CONFIGDIR=/home/jn/.config/matplotlib\u001b[0m\n",
      "\u001b[37mDEBUG  | matplotlib      | 51.287 | __init__.py:1479 | MainThread         | interactive is False\u001b[0m\n",
      "\u001b[37mDEBUG  | matplotlib      | 51.287 | __init__.py:1480 | MainThread         | platform is linux\u001b[0m\n",
      "\u001b[37mDEBUG  | matplotlib      | 51.323 | __init__.py:305 | MainThread         | CACHEDIR=/home/jn/.cache/matplotlib\u001b[0m\n",
      "\u001b[37mDEBUG  | matplotlib.font | 51.326 | font_manager.py:1543 | MainThread         | Using fontManager instance from /home/jn/.cache/matplotlib/fontlist-v330.json\u001b[0m\n"
     ]
    },
    {
     "name": "stdout",
     "output_type": "stream",
     "text": [
      "patch_MAVLink_camera_information_message.format_attr;   to handle vender and model name list\n"
     ]
    }
   ],
   "source": [
    "#| export\n",
    "import time, os, sys\n",
    "\n",
    "from UAV.logging import logging\n",
    "from UAV.mavlink.mavcom import MAVCom, time_since_boot_ms, time_UTC_usec, date_time_str\n",
    "from UAV.mavlink.component import Component, mavutil, mavlink, MAVLink\n",
    "\n",
    "import cv2\n",
    "\n",
    "from UAV.utils.general import boot_time_str, With\n",
    "from UAV.camera.gst_cam import *"
   ]
  },
  {
   "cell_type": "code",
   "execution_count": null,
   "metadata": {},
   "outputs": [],
   "source": [
    "#| hide\n",
    "from fastcore.utils import *\n",
    "from nbdev.showdoc import *\n",
    "from fastcore.test import *"
   ]
  },
  {
   "cell_type": "code",
   "execution_count": null,
   "metadata": {},
   "outputs": [
    {
     "data": {
      "text/markdown": "---\n\n### create_toml_file\n\n>      create_toml_file (filename)\n\nCreate a TOML file for testing.",
      "text/plain": "---\n\n### create_toml_file\n\n>      create_toml_file (filename)\n\nCreate a TOML file for testing."
     },
     "execution_count": null,
     "metadata": {},
     "output_type": "execute_result"
    }
   ],
   "source": [
    "show_doc(create_toml_file)"
   ]
  },
  {
   "cell_type": "code",
   "execution_count": null,
   "metadata": {},
   "outputs": [],
   "source": [
    "import types\n",
    "\n",
    "\n",
    "def get_all_methods(cls):\n",
    "    methods = []\n",
    "    for name in dir(cls):\n",
    "        attr = getattr(cls, name)\n",
    "        if isinstance(attr, types.FunctionType):\n",
    "            methods.append(name)\n",
    "    return methods"
   ]
  },
  {
   "cell_type": "code",
   "execution_count": null,
   "metadata": {},
   "outputs": [
    {
     "name": "stdout",
     "output_type": "stream",
     "text": [
      "['__enter__', '__exit__', '__init__', '__repr__', '__str__', 'calculate_memory_usage', 'camera_capture_status_send', 'camera_image_captured_send', 'camera_information_send', 'camera_settings_send', 'close', 'get_camera_info', 'image_capture_thread_is_running', 'image_start_capture', 'image_stop_capture', 'list_files', 'on_capture_image', 'on_start_image_capture', 'on_status_video_capture', 'on_stop_image_capture', 'on_video_callback', 'open', 'pause', 'play', 'save_image_to_memoryfs', 'set_source_compenent', 'show_image', 'storage_information_send', 'time_UTC_usec', 'video_start_capture', 'video_start_streaming', 'video_stop_capture', 'video_stop_streaming']\n"
     ]
    }
   ],
   "source": [
    "methods = get_all_methods(GSTCamera)\n",
    "print (methods)"
   ]
  },
  {
   "cell_type": "code",
   "execution_count": null,
   "metadata": {},
   "outputs": [
    {
     "name": "stdout",
     "output_type": "stream",
     "text": [
      "show_doc(GSTCamera.__enter__)\n",
      "show_doc(GSTCamera.__exit__)\n",
      "show_doc(GSTCamera.__init__)\n",
      "show_doc(GSTCamera.__repr__)\n",
      "show_doc(GSTCamera.__str__)\n",
      "show_doc(GSTCamera.calculate_memory_usage)\n",
      "show_doc(GSTCamera.camera_capture_status_send)\n",
      "show_doc(GSTCamera.camera_image_captured_send)\n",
      "show_doc(GSTCamera.camera_information_send)\n",
      "show_doc(GSTCamera.camera_settings_send)\n",
      "show_doc(GSTCamera.close)\n",
      "show_doc(GSTCamera.get_camera_info)\n",
      "show_doc(GSTCamera.image_capture_thread_is_running)\n",
      "show_doc(GSTCamera.image_start_capture)\n",
      "show_doc(GSTCamera.image_stop_capture)\n",
      "show_doc(GSTCamera.list_files)\n",
      "show_doc(GSTCamera.on_capture_image)\n",
      "show_doc(GSTCamera.on_start_image_capture)\n",
      "show_doc(GSTCamera.on_status_video_capture)\n",
      "show_doc(GSTCamera.on_stop_image_capture)\n",
      "show_doc(GSTCamera.on_video_callback)\n",
      "show_doc(GSTCamera.open)\n",
      "show_doc(GSTCamera.pause)\n",
      "show_doc(GSTCamera.play)\n",
      "show_doc(GSTCamera.save_image_to_memoryfs)\n",
      "show_doc(GSTCamera.set_source_compenent)\n",
      "show_doc(GSTCamera.show_image)\n",
      "show_doc(GSTCamera.storage_information_send)\n",
      "show_doc(GSTCamera.time_UTC_usec)\n",
      "show_doc(GSTCamera.video_start_capture)\n",
      "show_doc(GSTCamera.video_start_streaming)\n",
      "show_doc(GSTCamera.video_stop_capture)\n",
      "show_doc(GSTCamera.video_stop_streaming)\n"
     ]
    }
   ],
   "source": [
    "for method in methods:\n",
    "    s = f\"GSTCamera.{method}\"\n",
    "    print (s)\n",
    "    show_doc(s)"
   ]
  },
  {
   "cell_type": "code",
   "execution_count": null,
   "metadata": {},
   "outputs": [
    {
     "data": {
      "text/markdown": "---\n\n### CV2Camera.calculate_memory_usage\n\n>      CV2Camera.calculate_memory_usage ()\n\nCalculate total memory used by the MemoryFS.",
      "text/plain": "---\n\n### CV2Camera.calculate_memory_usage\n\n>      CV2Camera.calculate_memory_usage ()\n\nCalculate total memory used by the MemoryFS."
     },
     "execution_count": null,
     "metadata": {},
     "output_type": "execute_result"
    }
   ],
   "source": [
    "show_doc(GSTCamera.save_image_to_memoryfs)"
   ]
  },
  {
   "cell_type": "code",
   "execution_count": null,
   "metadata": {},
   "outputs": [],
   "source": [
    "import inspect\n",
    "from nbdev.showdoc import show_doc\n",
    "\n",
    "class Example:\n",
    "    def method_a(self):\n",
    "        \"This is method A\"\n",
    "        pass\n",
    "    \n",
    "    def method_b(self):\n",
    "        \"This is method B\"\n",
    "        pass\n",
    "\n",
    "# To show docs for all methods in a class\n",
    "for name, func in inspect.getmembers(Example, inspect.isfunction):\n",
    "    print(name)\n",
    "    show_doc(func)\n"
   ]
  },
  {
   "cell_type": "code",
   "execution_count": null,
   "metadata": {},
   "outputs": [
    {
     "name": "stdout",
     "output_type": "stream",
     "text": [
      "method_a\n",
      "method_b\n"
     ]
    }
   ],
   "source": [
    "from nbdev.doclinks import NbdevLookup\n",
    "from nbdev.showdoc import _fmt_sig\n",
    "\n",
    "\n",
    "def _html_link(url, txt): return f'{txt}'\n",
    "\n",
    "class BasicHtmlRenderer(ShowDocRenderer):\n",
    "    \"Simple HTML renderer for `show_doc`\"\n",
    "    def _repr_html_(self):\n",
    "        doc = '\\n'\n",
    "        doc += f'{self.nm}\\n'\n",
    "        doc += f'{self.nm}{_fmt_sig(self.sig)}'\n",
    "        if self.docs: doc += f\"{self.docs}\"\n",
    "        return doc\n",
    "\n",
    "    def doc(self):\n",
    "        \"Show `show_doc` info along with link to docs\"\n",
    "        from IPython.display import display,HTML\n",
    "        res = self._repr_html_()\n",
    "        docs = NbdevLookup().doc(self.fn)\n",
    "        if docs is not None: res += '\\n' +_html_link(docs, \"Show in docs\") + ''\n",
    "        display(HTML(res))"
   ]
  },
  {
   "cell_type": "code",
   "execution_count": null,
   "metadata": {},
   "outputs": [
    {
     "data": {
      "text/html": "<hr/>\n<h3>GSTCamera.save_image_to_memoryfs</h3>\n<blockquote><pre><code>GSTCamera.save_image_to_memoryfs(data:bytes, filename:str)</code></pre></blockquote><p>Save image to memory filesystem.</p>",
      "text/plain": "<IPython.core.display.HTML object>"
     },
     "metadata": {},
     "output_type": "display_data"
    }
   ],
   "source": [
    "\n",
    "def doc(elt):\n",
    "    \"Show `show_doc` info along with link to docs\"\n",
    "    BasicHtmlRenderer(elt).doc()"
   ]
  },
  {
   "cell_type": "code",
   "execution_count": null,
   "metadata": {},
   "outputs": [
    {
     "data": {
      "text/markdown": "---\n\n### GSTCamera.save_image_to_memoryfs\n\n>      GSTCamera.save_image_to_memoryfs (data:bytes, filename:str)\n\nSave image to memory filesystem.\n\n|    | **Type** | **Details** |\n| -- | -------- | ----------- |\n| data | bytes | jpeg encoded image to save |\n| filename | str | filename to save image |",
      "text/plain": "---\n\n### GSTCamera.save_image_to_memoryfs\n\n>      GSTCamera.save_image_to_memoryfs (data:bytes, filename:str)\n\nSave image to memory filesystem.\n\n|    | **Type** | **Details** |\n| -- | -------- | ----------- |\n| data | bytes | jpeg encoded image to save |\n| filename | str | filename to save image |"
     },
     "execution_count": null,
     "metadata": {},
     "output_type": "execute_result"
    }
   ],
   "source": [
    "doc(GSTCamera.save_image_to_memoryfs)\n"
   ]
  },
  {
   "cell_type": "code",
   "execution_count": null,
   "metadata": {},
   "outputs": [],
   "source": [
    "show_doc(GSTCamera.save_image_to_memoryfs)"
   ]
  },
  {
   "cell_type": "code",
   "execution_count": null,
   "metadata": {},
   "outputs": [],
   "source": []
  },
  {
   "cell_type": "code",
   "execution_count": null,
   "metadata": {},
   "outputs": [],
   "source": [
    "\n"
   ]
  },
  {
   "cell_type": "code",
   "execution_count": null,
   "metadata": {},
   "outputs": [],
   "source": [
    "\n"
   ]
  },
  {
   "cell_type": "code",
   "execution_count": null,
   "metadata": {},
   "outputs": [
    {
     "ename": "AssertionError",
     "evalue": "stop here",
     "output_type": "error",
     "traceback": [
      "\u001b[0;31m---------------------------------------------------------------------------\u001b[0m",
      "\u001b[0;31mAssertionError\u001b[0m                            Traceback (most recent call last)",
      "Cell \u001b[0;32mIn[15], line 1\u001b[0m\n\u001b[0;32m----> 1\u001b[0m \u001b[38;5;28;01massert\u001b[39;00m \u001b[38;5;28;01mFalse\u001b[39;00m, \u001b[38;5;124m\"\u001b[39m\u001b[38;5;124mstop here\u001b[39m\u001b[38;5;124m\"\u001b[39m\n",
      "\u001b[0;31mAssertionError\u001b[0m: stop here"
     ]
    }
   ],
   "source": [
    "# config_path = Path(\"../../config\")\n",
    "# create_toml_file(config_path/\"____test_camera_info.toml\")"
   ]
  },
  {
   "cell_type": "code",
   "execution_count": null,
   "metadata": {},
   "outputs": [],
   "source": [
    "assert False, \"stop here\""
   ]
  },
  {
   "cell_type": "code",
   "execution_count": null,
   "metadata": {},
   "outputs": [],
   "source": [
    "# assert False, \"stop here\""
   ]
  },
  {
   "cell_type": "code",
   "execution_count": null,
   "metadata": {},
   "outputs": [],
   "source": [
    "\n",
    "from gstreamer import GstVidSrcValve,  GstVideoSave, GstJpegEnc\n",
    "import gstreamer.utils as gst_utils"
   ]
  },
  {
   "cell_type": "code",
   "execution_count": null,
   "metadata": {},
   "outputs": [],
   "source": [
    "show_doc(GSTCamera)"
   ]
  },
  {
   "cell_type": "code",
   "execution_count": null,
   "metadata": {},
   "outputs": [],
   "source": [
    "show_doc(GSTCamera.image_start_capture)"
   ]
  },
  {
   "cell_type": "code",
   "execution_count": null,
   "metadata": {},
   "outputs": [],
   "source": [
    "show_doc(GSTCamera.camera_information_send)"
   ]
  },
  {
   "cell_type": "code",
   "execution_count": null,
   "metadata": {},
   "outputs": [],
   "source": [
    "show_doc(GSTCamera.camera_settings_send)"
   ]
  },
  {
   "cell_type": "code",
   "execution_count": null,
   "metadata": {},
   "outputs": [],
   "source": [
    "show_doc(read_camera_dict_from_toml)"
   ]
  },
  {
   "cell_type": "code",
   "execution_count": null,
   "metadata": {},
   "outputs": [],
   "source": [
    "print (f\"{boot_time_str =}\")\n",
    "# connection_string = 'udp:127.0.0.1:14550'\n",
    "# mav = mavutil.mavlink_connection(connection_string)\n",
    "\n",
    "config_path = Path(\"../../config\")\n",
    "with  GSTCamera( camera_dict=read_camera_dict_from_toml(config_path/\"test_camera_info.toml\")) as cam_gst_1:\n",
    "    cam_gst_1.image_start_capture(0.1, 5)\n",
    "    while cam_gst_1.capture_thread.is_alive():\n",
    "        if cam_gst_1.last_image is not None:\n",
    "            cv2.imshow('image', cam_gst_1.last_image)\n",
    "            cam_gst_1.last_image = None\n",
    "            cv2.waitKey(10)\n",
    "            \n",
    "    cv2.waitKey(500)\n",
    "    cv2.destroyAllWindows()\n"
   ]
  },
  {
   "cell_type": "code",
   "execution_count": null,
   "metadata": {},
   "outputs": [],
   "source": []
  },
  {
   "cell_type": "code",
   "execution_count": null,
   "metadata": {},
   "outputs": [],
   "source": [
    "#| hide\n",
    "# from nbdev import nbdev_export\n",
    "# nbdev_export()"
   ]
  }
 ],
 "metadata": {
  "kernelspec": {
   "display_name": "python3",
   "language": "python",
   "name": "python3"
  }
 },
 "nbformat": 4,
 "nbformat_minor": 4
}
