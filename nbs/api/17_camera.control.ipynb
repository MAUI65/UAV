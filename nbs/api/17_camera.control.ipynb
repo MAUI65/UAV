{
 "cells": [
  {
   "cell_type": "markdown",
   "metadata": {},
   "source": [
    "\n",
    "# Camera Capture\n",
    "> Select Either the Gstreamer, Airsim Camera or the Video file to capture from\n"
   ]
  },
  {
   "cell_type": "markdown",
   "metadata": {},
   "source": [
    "https://mavlink.io/en/services/camera.html\n",
    "https://github.com/mavlink/mavlink-camera-manager\n"
   ]
  },
  {
   "cell_type": "code",
   "execution_count": null,
   "metadata": {},
   "outputs": [],
   "source": [
    "#| default_exp camera.control"
   ]
  },
  {
   "cell_type": "code",
   "execution_count": null,
   "metadata": {},
   "outputs": [],
   "source": [
    "#| hide\n",
    "%load_ext autoreload\n",
    "%autoreload 2"
   ]
  },
  {
   "cell_type": "code",
   "execution_count": null,
   "metadata": {},
   "outputs": [],
   "source": [
    "#| hide\n",
    "# skip_showdoc: true to avoid running cells when rendering docs, and \n",
    "# skip_exec: true to skip this notebook when running tests. \n",
    "# this should be a raw cell "
   ]
  },
  {
   "cell_type": "raw",
   "metadata": {},
   "source": [
    "from UAV.imports import *   # TODO why is this relative import on nbdev_export?\n",
    "from fastcore.utils import *\n",
    "import cv2\n",
    "import gi\n",
    "import numpy as np\n",
    "from imutils import resize\n",
    "# from ping_ip import ping_ip\n",
    "import threading\n",
    "from multiprocessing import Process\n",
    "from gi.repository import Gst\n",
    "import subprocess\n",
    "import platform\n",
    "\n",
    "import paho.mqtt.client as mqtt_client\n",
    "\n",
    "import time\n",
    "# from dataloader import LoadImages, resize\n",
    "from pathlib import Path\n",
    "import logging\n",
    "import UAV.params as params\n",
    "\n",
    "# gi.require_version('Gst', '1.0')"
   ]
  },
  {
   "cell_type": "code",
   "execution_count": null,
   "metadata": {},
   "outputs": [],
   "source": [
    "#| hide\n",
    "from fastcore.utils import *\n",
    "from nbdev.showdoc import *\n",
    "from fastcore.test import *"
   ]
  },
  {
   "cell_type": "markdown",
   "metadata": {},
   "source": [
    "def select_camera_for_streaming(camera_name):\n",
    "    \"\"\"\n",
    "    Select the camera to stream from\n",
    "    \"\"\"\n",
    "    if params.CAMERA_SOURCE == \"Gstreamer\":\n",
    "        return gstreamerCamera(camera_name)\n",
    "    elif params.CAMERA_SOURCE == \"Airsim\":\n",
    "        return airsimCamera(camera_name)\n",
    "    elif params.CAMERA_SOURCE == \"Video\":\n",
    "        return videoCamera(camera_name)\n",
    "    else:\n",
    "        raise ValueError(\"Camera source not recognised\")\n",
    "    "
   ]
  },
  {
   "cell_type": "code",
   "execution_count": null,
   "metadata": {},
   "outputs": [],
   "source": [
    "#| export\n",
    "def gstreamerCamera(camera_name):\n",
    "    \"\"\"\n",
    "    Set up streaming pipeline for Gstreamer camera.\n",
    "    \n",
    "    \"\"\"\n",
    "    return True"
   ]
  },
  {
   "cell_type": "code",
   "execution_count": null,
   "metadata": {},
   "outputs": [],
   "source": [
    "#| export\n",
    "def airsimCamera(camera_name):\n",
    "    \"\"\"\n",
    "    Set up streaming pipeline for Airsim camera\n",
    "    \"\"\"\n",
    "    return True\n"
   ]
  },
  {
   "cell_type": "code",
   "execution_count": null,
   "metadata": {},
   "outputs": [],
   "source": [
    "#| export\n",
    "def videoCamera(camera_name):\n",
    "    \"\"\"\n",
    "    Set up streaming pipeline for Video camera\n",
    "    \"\"\"\n",
    "    return True\n"
   ]
  },
  {
   "cell_type": "code",
   "execution_count": null,
   "metadata": {},
   "outputs": [],
   "source": [
    "#| export\n",
    "def videoCamera(camera_name):\n",
    "    \"\"\"\n",
    "    Set up streaming pipeline for Video camera\n",
    "    \"\"\"\n",
    "    return True\n"
   ]
  },
  {
   "cell_type": "code",
   "execution_count": null,
   "metadata": {},
   "outputs": [],
   "source": [
    "test_eq(1,1)"
   ]
  },
  {
   "cell_type": "code",
   "execution_count": null,
   "metadata": {},
   "outputs": [],
   "source": [
    "#| hide\n",
    "from nbdev import nbdev_export\n",
    "nbdev_export()"
   ]
  }
 ],
 "metadata": {
  "kernelspec": {
   "display_name": "python3",
   "language": "python",
   "name": "python3"
  }
 },
 "nbformat": 4,
 "nbformat_minor": 4
}
