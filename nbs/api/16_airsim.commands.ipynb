{
 "cells": [
  {
   "cell_type": "markdown",
   "metadata": {},
   "source": [
    "\n",
    "# Airsim.Commands \n",
    "> Multicopter higher level commands for the Airsim simulator"
   ]
  },
  {
   "cell_type": "code",
   "execution_count": null,
   "metadata": {},
   "outputs": [],
   "source": [
    "#| default_exp airsim.test_commands"
   ]
  },
  {
   "cell_type": "code",
   "execution_count": null,
   "metadata": {},
   "outputs": [],
   "source": [
    "#| hide\n",
    "%load_ext autoreload\n",
    "%autoreload 2"
   ]
  },
  {
   "cell_type": "code",
   "execution_count": null,
   "metadata": {},
   "outputs": [],
   "source": [
    "#| hide\n",
    "# skip_showdoc: true to avoid running cells when rendering docs, and skip_exec: true to skip this notebook when running tests. \n",
    "# this should be a raw cell "
   ]
  },
  {
   "cell_type": "raw",
   "metadata": {},
   "source": [
    "---\n",
    "skip_showdoc: true\n",
    "skip_exec: true\n",
    "---"
   ]
  },
  {
   "cell_type": "code",
   "execution_count": null,
   "metadata": {},
   "outputs": [],
   "source": [
    "#| export\n",
    "\n",
    "from fastcore.utils import *\n",
    "\n",
    "from UAV.airsim.client import AirSimClient\n",
    "import UAV.airsim_python_client as airsim\n",
    "import UAV.params as params\n",
    "import time\n",
    "from UAV.utils.sim_linux import RunSim, is_process_running, find_and_terminate_process\n",
    "import logging\n",
    "from UAV.airsim.commands import *"
   ]
  },
  {
   "cell_type": "code",
   "execution_count": null,
   "metadata": {},
   "outputs": [],
   "source": [
    "#| export\n",
    "logging.basicConfig(format='%(asctime)-8s,%(msecs)-3d %(levelname)5s [name] [%(filename)10s:%(lineno)3d] %(message)s',\n",
    "                    datefmt='%H:%M:%S',\n",
    "                    level=params.LOGGING_LEVEL) \n",
    "logger = logging.getLogger(params.LOGGING_NAME)"
   ]
  },
  {
   "cell_type": "code",
   "execution_count": null,
   "metadata": {},
   "outputs": [],
   "source": [
    "#| hide\n",
    "\n",
    "from nbdev.showdoc import *\n",
    "from fastcore.test import *"
   ]
  },
  {
   "cell_type": "code",
   "execution_count": null,
   "metadata": {},
   "outputs": [
    {
     "name": "stderr",
     "output_type": "stream",
     "text": [
      "\u001b[37mDEBUG  | matplotlib      | 19.348 | __init__.py:305 | MainThread         | matplotlib data path: /home/jn/PycharmProjects/UAV/venv/lib/python3.10/site-packages/matplotlib/mpl-data\u001b[0m\n",
      "\u001b[37mDEBUG  | matplotlib      | 19.353 | __init__.py:305 | MainThread         | CONFIGDIR=/home/jn/.config/matplotlib\u001b[0m\n",
      "\u001b[37mDEBUG  | matplotlib      | 19.355 | __init__.py:1479 | MainThread         | interactive is False\u001b[0m\n",
      "\u001b[37mDEBUG  | matplotlib      | 19.356 | __init__.py:1480 | MainThread         | platform is linux\u001b[0m\n",
      "\u001b[37mDEBUG  | matplotlib      | 19.390 | __init__.py:305 | MainThread         | CACHEDIR=/home/jn/.cache/matplotlib\u001b[0m\n",
      "\u001b[37mDEBUG  | matplotlib.font | 19.392 | font_manager.py:1543 | MainThread         | Using fontManager instance from /home/jn/.cache/matplotlib/fontlist-v330.json\u001b[0m\n"
     ]
    }
   ],
   "source": [
    "%%capture\n",
    "from UAV.utils.display import *\n",
    "from UAV.utils.sim_linux import *\n",
    "from matplotlib import pyplot as plt"
   ]
  },
  {
   "cell_type": "code",
   "execution_count": null,
   "metadata": {},
   "outputs": [
    {
     "data": {
      "text/markdown": "---\n\n[source](https://github.com/johnnewto/UAV/blob/main/UAV/airsim/commands.py#LNone){target=\"_blank\" style=\"float:right; font-size:smaller\"}\n\n### start_sim\n\n>      start_sim ()\n\nStart the Airsim simuator if it is not already running",
      "text/plain": "---\n\n[source](https://github.com/johnnewto/UAV/blob/main/UAV/airsim/commands.py#LNone){target=\"_blank\" style=\"float:right; font-size:smaller\"}\n\n### start_sim\n\n>      start_sim ()\n\nStart the Airsim simuator if it is not already running"
     },
     "execution_count": null,
     "metadata": {},
     "output_type": "execute_result"
    }
   ],
   "source": [
    "#|eval: false\n",
    "show_doc(start_sim)"
   ]
  },
  {
   "cell_type": "code",
   "execution_count": null,
   "metadata": {},
   "outputs": [
    {
     "data": {
      "text/markdown": "---\n\n[source](https://github.com/johnnewto/UAV/blob/main/UAV/airsim/commands.py#LNone){target=\"_blank\" style=\"float:right; font-size:smaller\"}\n\n### DroneCommands.arm\n\n>      DroneCommands.arm ()\n\nRun the drone on a path in the Airsim simulator.\nCreates a client and connects to the simulator.",
      "text/plain": "---\n\n[source](https://github.com/johnnewto/UAV/blob/main/UAV/airsim/commands.py#LNone){target=\"_blank\" style=\"float:right; font-size:smaller\"}\n\n### DroneCommands.arm\n\n>      DroneCommands.arm ()\n\nRun the drone on a path in the Airsim simulator.\nCreates a client and connects to the simulator."
     },
     "execution_count": null,
     "metadata": {},
     "output_type": "execute_result"
    }
   ],
   "source": [
    "#|eval: false\n",
    "show_doc(DroneCommands.arm)"
   ]
  },
  {
   "cell_type": "code",
   "execution_count": null,
   "metadata": {},
   "outputs": [
    {
     "data": {
      "text/markdown": "---\n\n[source](https://github.com/johnnewto/UAV/blob/main/UAV/airsim/commands.py#LNone){target=\"_blank\" style=\"float:right; font-size:smaller\"}\n\n### DroneCommands.takeoff\n\n>      DroneCommands.takeoff ()\n\nTakeoff to the takeoff height",
      "text/plain": "---\n\n[source](https://github.com/johnnewto/UAV/blob/main/UAV/airsim/commands.py#LNone){target=\"_blank\" style=\"float:right; font-size:smaller\"}\n\n### DroneCommands.takeoff\n\n>      DroneCommands.takeoff ()\n\nTakeoff to the takeoff height"
     },
     "execution_count": null,
     "metadata": {},
     "output_type": "execute_result"
    }
   ],
   "source": [
    "#|eval: false\n",
    "show_doc(DroneCommands.takeoff)"
   ]
  },
  {
   "cell_type": "code",
   "execution_count": null,
   "metadata": {},
   "outputs": [
    {
     "data": {
      "text/markdown": "---\n\n[source](https://github.com/johnnewto/UAV/blob/main/UAV/airsim/commands.py#LNone){target=\"_blank\" style=\"float:right; font-size:smaller\"}\n\n### DroneCommands.do_NH_path\n\n>      DroneCommands.do_NH_path ()\n\nFly on a path in the Airsim simulator",
      "text/plain": "---\n\n[source](https://github.com/johnnewto/UAV/blob/main/UAV/airsim/commands.py#LNone){target=\"_blank\" style=\"float:right; font-size:smaller\"}\n\n### DroneCommands.do_NH_path\n\n>      DroneCommands.do_NH_path ()\n\nFly on a path in the Airsim simulator"
     },
     "execution_count": null,
     "metadata": {},
     "output_type": "execute_result"
    }
   ],
   "source": [
    "#|eval: false\n",
    "show_doc(DroneCommands.do_NH_path)"
   ]
  },
  {
   "cell_type": "code",
   "execution_count": null,
   "metadata": {},
   "outputs": [
    {
     "data": {
      "text/markdown": "---\n\n[source](https://github.com/johnnewto/UAV/blob/main/UAV/airsim/commands.py#LNone){target=\"_blank\" style=\"float:right; font-size:smaller\"}\n\n### DroneCommands.rth\n\n>      DroneCommands.rth ()",
      "text/plain": "---\n\n[source](https://github.com/johnnewto/UAV/blob/main/UAV/airsim/commands.py#LNone){target=\"_blank\" style=\"float:right; font-size:smaller\"}\n\n### DroneCommands.rth\n\n>      DroneCommands.rth ()"
     },
     "execution_count": null,
     "metadata": {},
     "output_type": "execute_result"
    }
   ],
   "source": [
    "#|eval: false\n",
    "show_doc(DroneCommands.rth)"
   ]
  },
  {
   "cell_type": "code",
   "execution_count": null,
   "metadata": {},
   "outputs": [
    {
     "data": {
      "text/markdown": "---\n\n[source](https://github.com/johnnewto/UAV/blob/main/UAV/airsim/commands.py#LNone){target=\"_blank\" style=\"float:right; font-size:smaller\"}\n\n### DroneCommands.land\n\n>      DroneCommands.land ()",
      "text/plain": "---\n\n[source](https://github.com/johnnewto/UAV/blob/main/UAV/airsim/commands.py#LNone){target=\"_blank\" style=\"float:right; font-size:smaller\"}\n\n### DroneCommands.land\n\n>      DroneCommands.land ()"
     },
     "execution_count": null,
     "metadata": {},
     "output_type": "execute_result"
    }
   ],
   "source": [
    "#|eval: false\n",
    "show_doc(DroneCommands.land)"
   ]
  },
  {
   "cell_type": "code",
   "execution_count": null,
   "metadata": {},
   "outputs": [
    {
     "data": {
      "text/markdown": "---\n\n[source](https://github.com/johnnewto/UAV/blob/main/UAV/airsim/commands.py#LNone){target=\"_blank\" style=\"float:right; font-size:smaller\"}\n\n### DroneCommands.disarm\n\n>      DroneCommands.disarm ()\n\nDisarm the drone and disconnect from the simulator",
      "text/plain": "---\n\n[source](https://github.com/johnnewto/UAV/blob/main/UAV/airsim/commands.py#LNone){target=\"_blank\" style=\"float:right; font-size:smaller\"}\n\n### DroneCommands.disarm\n\n>      DroneCommands.disarm ()\n\nDisarm the drone and disconnect from the simulator"
     },
     "execution_count": null,
     "metadata": {},
     "output_type": "execute_result"
    }
   ],
   "source": [
    "#|eval: false\n",
    "show_doc(DroneCommands.disarm)"
   ]
  },
  {
   "cell_type": "code",
   "execution_count": null,
   "metadata": {},
   "outputs": [
    {
     "data": {
      "text/markdown": "---\n\n[source](https://github.com/johnnewto/UAV/blob/main/UAV/airsim/commands.py#LNone){target=\"_blank\" style=\"float:right; font-size:smaller\"}\n\n### DroneCommands.do_tasklist\n\n>      DroneCommands.do_tasklist ()\n\nRun a list of tasks in order",
      "text/plain": "---\n\n[source](https://github.com/johnnewto/UAV/blob/main/UAV/airsim/commands.py#LNone){target=\"_blank\" style=\"float:right; font-size:smaller\"}\n\n### DroneCommands.do_tasklist\n\n>      DroneCommands.do_tasklist ()\n\nRun a list of tasks in order"
     },
     "execution_count": null,
     "metadata": {},
     "output_type": "execute_result"
    }
   ],
   "source": [
    "#|eval: false\n",
    "show_doc(DroneCommands.do_tasklist)"
   ]
  },
  {
   "cell_type": "code",
   "execution_count": null,
   "metadata": {},
   "outputs": [
    {
     "data": {
      "text/markdown": "---\n\n[source](https://github.com/johnnewto/UAV/blob/main/UAV/airsim/commands.py#LNone){target=\"_blank\" style=\"float:right; font-size:smaller\"}\n\n### DroneCommands.stop\n\n>      DroneCommands.stop ()\n\nstop the client by cancelling the last task and exiting the do_tasklist loop",
      "text/plain": "---\n\n[source](https://github.com/johnnewto/UAV/blob/main/UAV/airsim/commands.py#LNone){target=\"_blank\" style=\"float:right; font-size:smaller\"}\n\n### DroneCommands.stop\n\n>      DroneCommands.stop ()\n\nstop the client by cancelling the last task and exiting the do_tasklist loop"
     },
     "execution_count": null,
     "metadata": {},
     "output_type": "execute_result"
    }
   ],
   "source": [
    "#|eval: false\n",
    "show_doc(DroneCommands.stop)"
   ]
  },
  {
   "cell_type": "markdown",
   "metadata": {},
   "source": [
    "### An end to end example\n",
    "\n",
    "The drone cammands are run in a separate process with the video loop running in the main process."
   ]
  },
  {
   "cell_type": "code",
   "execution_count": null,
   "metadata": {},
   "outputs": [
    {
     "name": "stderr",
     "output_type": "stream",
     "text": [
      "\u001b[32mINFO   | uav_log         | 19.719 | 3013889626.py: 23 | MainThread         | Hello World...\u001b[0m\n"
     ]
    },
    {
     "name": "stdout",
     "output_type": "stream",
     "text": [
      "Settings file config/settings_high_res.json not found.\n",
      "Starting Airsim  ['/home/jn/Airsim/AirSimNH/LinuxNoEditor/AirSimNH/Binaries/Linux/AirSimNH', '-ResX=800', '-ResY=600', '-windowed']\n",
      "Started Airsim AirSimNH\n"
     ]
    },
    {
     "name": "stderr",
     "output_type": "stream",
     "text": [
      "\u001b[32mINFO   | uav_log         | 22.746 | commands.py: 47 | Thread-5 (do_taskl | Arming the drone...\u001b[0m\n",
      "\u001b[32mINFO   | uav_log         | 22.748 | commands.py: 62 | Thread-5 (do_taskl | taking off...\u001b[0m\n"
     ]
    },
    {
     "name": "stdout",
     "output_type": "stream",
     "text": [
      "Connected!\n",
      "Client Ver:1 (Min Req: 1), Server Ver:1 (Min Req: 1)\n",
      "\n",
      "Connected!\n",
      "Client Ver:1 (Min Req: 1), Server Ver:1 (Min Req: 1)\n",
      "make sure we are hovering at 5 meters...\n"
     ]
    },
    {
     "name": "stderr",
     "output_type": "stream",
     "text": [
      "\u001b[32mINFO   | uav_log         | 27.762 | commands.py: 83 | Thread-5 (do_taskl | flying on path...\u001b[0m\n"
     ]
    },
    {
     "name": "stdout",
     "output_type": "stream",
     "text": [
      "This script is designed to fly on the streets of the Neighborhood environment\n",
      "            and assumes the unreal position of the drone is [160, -1500, 120].\n"
     ]
    },
    {
     "name": "stderr",
     "output_type": "stream",
     "text": [
      "\u001b[32mINFO   | uav_log         | 29.404 | commands.py: 94 | Thread-5 (do_taskl | returning home...\u001b[0m\n",
      "\u001b[32mINFO   | uav_log         | 30.495 | commands.py:100 | Thread-5 (do_taskl | landing...\u001b[0m\n",
      "\u001b[32mINFO   | uav_log         | 30.707 | commands.py: 53 | Thread-5 (do_taskl | disarming...\u001b[0m\n"
     ]
    },
    {
     "name": "stdout",
     "output_type": "stream",
     "text": [
      "Frame: 100 Pos: 15.98, -0.00, -0.32\n"
     ]
    },
    {
     "name": "stderr",
     "output_type": "stream",
     "text": [
      "\u001b[32mINFO   | uav_log         | 34.517 | 3013889626.py: 64 | MainThread         | Landed state = 0,  so quiting\u001b[0m\n",
      "\u001b[32mINFO   | uav_log         | 34.518 | commands.py: 53 | MainThread         | disarming...\u001b[0m\n"
     ]
    },
    {
     "name": "stdout",
     "output_type": "stream",
     "text": [
      "Airsim exited with rc = 143\n"
     ]
    }
   ],
   "source": [
    "RECORD_VIDEO = False\n",
    "\n",
    "import threading\n",
    "from UAV.airsim.commands import DroneCommands\n",
    "from UAV.airsim.client import  AirSimClient\n",
    "import UAV.airsim_python_client as airsim\n",
    "from UAV.utils.sim_linux import RunSim\n",
    "from UAV.utils.display import puttext, VideoWriter, ScrollingLog, ScrollingLogHandler\n",
    "from imutils import resize\n",
    "import cv2\n",
    "import logging\n",
    "import time\n",
    "# logging.basicConfig(format=\n",
    "#                     '%(asctime)-8s,%(msecs)-3d %(levelname)5s [%(filename)10s:%(lineno)3d] %(message)s',\n",
    "#                     datefmt='%H:%M:%S',\n",
    "#                     level=logging.INFO)  \n",
    "import UAV.params as params\n",
    "logger = logging.getLogger(params.LOGGING_NAME) # Todo add this to params\n",
    "logger.setLevel(params.LOGGING_LEVEL)\n",
    "# log = ScrollingLog(bg_color=(0,0,0))\n",
    "log = ScrollingLog(position=(20,80), font_scale=1.5 , color=(0,0,255), thickness=1)\n",
    "handler_log = ScrollingLogHandler(log, logger)\n",
    "logger.info(f\"Hello World...\")\n",
    "\n",
    "rs = RunSim(\"AirSimNH\", settings=\"config/settings_high_res.json\")\n",
    "\n",
    "asc = AirSimClient()\n",
    "cmd = DroneCommands()\n",
    "t = threading.Thread(target=cmd.do_tasklist, daemon=True)\n",
    "t.start()\n",
    "\n",
    "framecounter = 1\n",
    "cam_num = 0\n",
    "cams = [\"high_res\", \"front_center\", \"front_right\", \"front_left\", \"bottom_center\", \"back_center\"]\n",
    "# with VideoWriter(\"images/airsim_test.mp4\", 5.0) as video:\n",
    "if RECORD_VIDEO:\n",
    "    video = VideoWriter(\"images/airsim_nav_test.mp4\", 5.0)\n",
    "else:\n",
    "    video = None\n",
    "# with VideoWriter(\"images/airsim_nav_test.mp4\", 25.0) as video:\n",
    "if True:\n",
    "    while(True):\n",
    "        framecounter += 1\n",
    "        state = asc.getMultirotorState()\n",
    "        pos = state.kinematics_estimated.position\n",
    "        img = asc.get_image(cams[cam_num], rgb2bgr=False)\n",
    "        puttext(img, f\"Frame: {framecounter} Pos: {pos.x_val:.2f}, {pos.y_val:.2f}, {pos.z_val:.2f}\")\n",
    "    \n",
    "        img = resize(img, width=800)    \n",
    "        # log.update(f\"Frame: {framecounter} Pos: {pos.x_val:.2f}, {pos.y_val:.2f}, {pos.z_val:.2f}\")\n",
    "        if framecounter % 100 == 0:\n",
    "            print(f\"Frame: {framecounter} Pos: {pos.x_val:.2f}, {pos.y_val:.2f}, {pos.z_val:.2f}\")\n",
    "        log.draw(img)\n",
    "        cv2.imshow(\"Camera\", img)\n",
    "        if video is not None: video.add(img)\n",
    "        \n",
    "        # video.add(img_bgr)\n",
    "        k = cv2.waitKey(10)\n",
    "        if k == ord('q') or k == ord('Q'):\n",
    "            # logger.info(\"......cancelLastTask\")\n",
    "            asc.cancelLastTask()\n",
    "            # print(f\"Landed state:  {state.landed_state}\")\n",
    "            if state.landed_state == 0:\n",
    "                logger.info(\"Landed state = 0,  so quiting\")\n",
    "                break  \n",
    "        \n",
    "        if k == ord('c') or k == ord('C'):\n",
    "            cam_num += 1\n",
    "            if cam_num >= len(cams):\n",
    "                cam_num = 0\n",
    "            # log.update(f\"Camera: {cams[cam_num]}\")\n",
    "            logger.info(f\"Camera: {cams[cam_num]}\")\n",
    "            \n",
    "        if k == 27:\n",
    "            cmd.stop()\n",
    "            time.sleep(1)\n",
    "            break\n",
    "            \n",
    "        # if framecounter > 50:\n",
    "        #     break\n",
    "\n",
    "cmd.disarm()\n",
    "t.join(timeout=5)\n",
    "cv2.destroyAllWindows()\n",
    "rs.exit()\n",
    "\n",
    "if video is not None: \n",
    "    video.close()\n",
    "    video.show(width=500)"
   ]
  },
  {
   "cell_type": "code",
   "execution_count": null,
   "metadata": {},
   "outputs": [],
   "source": [
    "# rs.exit()"
   ]
  },
  {
   "cell_type": "code",
   "execution_count": null,
   "metadata": {},
   "outputs": [],
   "source": [
    "#| hide\n",
    "# from nbdev import nbdev_export\n",
    "# nbdev_export()"
   ]
  }
 ],
 "metadata": {
  "kernelspec": {
   "display_name": "python3",
   "language": "python",
   "name": "python3"
  }
 },
 "nbformat": 4,
 "nbformat_minor": 4
}
