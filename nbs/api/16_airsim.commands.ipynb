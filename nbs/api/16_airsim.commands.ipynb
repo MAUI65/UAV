{
 "cells": [
  {
   "cell_type": "markdown",
   "metadata": {},
   "source": [
    "\n",
    "# Airsim.Commands \n",
    "> Multicopter higher level commands for the Airsim simulator"
   ]
  },
  {
   "cell_type": "code",
   "execution_count": null,
   "metadata": {},
   "outputs": [],
   "source": [
    "#| default_exp airsim.commands"
   ]
  },
  {
   "cell_type": "code",
   "execution_count": null,
   "metadata": {},
   "outputs": [],
   "source": [
    "#| hide\n",
    "%load_ext autoreload\n",
    "%autoreload 2"
   ]
  },
  {
   "cell_type": "code",
   "execution_count": null,
   "metadata": {},
   "outputs": [],
   "source": [
    "#| hide\n",
    "# skip_showdoc: true to avoid running cells when rendering docs, and skip_exec: true to skip this notebook when running tests. \n",
    "# this should be a raw cell "
   ]
  },
  {
   "cell_type": "raw",
   "metadata": {},
   "source": [
    "---\n",
    "skip_showdoc: true\n",
    "skip_exec: true\n",
    "---"
   ]
  },
  {
   "cell_type": "code",
   "execution_count": null,
   "metadata": {},
   "outputs": [],
   "source": [
    "#| export\n",
    "\n",
    "from fastcore.utils import *\n",
    "\n",
    "from UAV.airsim.client import AirSimClient\n",
    "import UAV.airsim_python_client as airsim\n",
    "import UAV.params as params\n",
    "import time\n",
    "from UAV.utils.sim_linux import RunSim, is_process_running, find_and_terminate_process\n",
    "import logging\n"
   ]
  },
  {
   "cell_type": "code",
   "execution_count": null,
   "metadata": {},
   "outputs": [],
   "source": [
    "#| export\n",
    "logging.basicConfig(format='%(asctime)-8s,%(msecs)-3d %(levelname)5s [name] [%(filename)10s:%(lineno)3d] %(message)s',\n",
    "                    datefmt='%H:%M:%S',\n",
    "                    level=params.LOGGING_LEVEL) \n",
    "logger = logging.getLogger(params.LOGGING_NAME)"
   ]
  },
  {
   "cell_type": "code",
   "execution_count": null,
   "metadata": {},
   "outputs": [],
   "source": [
    "#| hide\n",
    "\n",
    "from nbdev.showdoc import *\n",
    "from fastcore.test import *"
   ]
  },
  {
   "cell_type": "code",
   "execution_count": null,
   "metadata": {},
   "outputs": [
    {
     "name": "stderr",
     "output_type": "stream",
     "text": [
      "DEBUG  | matplotlib      | 42.142 | __init__.py:305 | MainThread         | matplotlib data path: /home/jn/PycharmProjects/UAV/venv/lib/python3.10/site-packages/matplotlib/mpl-data\n",
      "DEBUG  | matplotlib      | 42.145 | __init__.py:305 | MainThread         | CONFIGDIR=/home/jn/.config/matplotlib\n",
      "DEBUG  | matplotlib      | 42.146 | __init__.py:1479 | MainThread         | interactive is False\n",
      "DEBUG  | matplotlib      | 42.147 | __init__.py:1480 | MainThread         | platform is linux\n",
      "DEBUG  | matplotlib      | 42.179 | __init__.py:305 | MainThread         | CACHEDIR=/home/jn/.cache/matplotlib\n",
      "DEBUG  | matplotlib.font | 42.181 | font_manager.py:1543 | MainThread         | Using fontManager instance from /home/jn/.cache/matplotlib/fontlist-v330.json\n"
     ]
    }
   ],
   "source": [
    "%%capture\n",
    "from UAV.utils.display import *\n",
    "from UAV.utils.sim_linux import *\n",
    "from matplotlib import pyplot as plt"
   ]
  },
  {
   "cell_type": "code",
   "execution_count": null,
   "metadata": {},
   "outputs": [],
   "source": [
    "#| export\n",
    "def start_sim():\n",
    "    \"\"\"Start the Airsim simuator if it is not already running\"\"\"\n",
    "    sim_name = \"AirSimNH\"\n",
    "    if not is_process_running(f\"{sim_name}\"):\n",
    "        return RunSim(\"AirSimNH\", settings=\"config/settings_high_res.json\")\n",
    "    return None   "
   ]
  },
  {
   "cell_type": "code",
   "execution_count": null,
   "metadata": {},
   "outputs": [
    {
     "data": {
      "text/markdown": "---\n\n[source](https://github.com/johnnewto/UAV/blob/main/UAV/airsim/commands.py#L24){target=\"_blank\" style=\"float:right; font-size:smaller\"}\n\n### start_sim\n\n>      start_sim ()\n\nStart the Airsim simuator if it is not already running",
      "text/plain": "---\n\n[source](https://github.com/johnnewto/UAV/blob/main/UAV/airsim/commands.py#L24){target=\"_blank\" style=\"float:right; font-size:smaller\"}\n\n### start_sim\n\n>      start_sim ()\n\nStart the Airsim simuator if it is not already running"
     },
     "execution_count": null,
     "metadata": {},
     "output_type": "execute_result"
    }
   ],
   "source": [
    "#|eval: false\n",
    "show_doc(start_sim)"
   ]
  },
  {
   "cell_type": "code",
   "execution_count": null,
   "metadata": {},
   "outputs": [],
   "source": [
    "#| export\n",
    "class DroneCommands():\n",
    "    \"\"\"Class Multirotor Client for the Airsim simulator with higher level procedures\"\"\"\n",
    "\n",
    "    def __init__(self,\n",
    "                 takeoff_z:int = -5): # takeoff Height\n",
    "        self._z = takeoff_z\n",
    "        self._stop = False\n",
    "\n",
    "    def arm(self):\n",
    "            \"\"\"Run the drone on a path in the Airsim simulator.\n",
    "            Creates a client and connects to the simulator.\"\"\"\n",
    "            self._client = AirSimClient()\n",
    "    \n",
    "            self._client.enableApiControl(True)\n",
    "        \n",
    "            logger.info(\"Arming the drone...\")\n",
    "            self._client.armDisarm(True)        \n",
    "\n",
    "\n",
    "    def disarm(self):\n",
    "        \"\"\"Disarm the drone and disconnect from the simulator\"\"\"\n",
    "        logger.info(\"disarming...\")\n",
    "        self._client.armDisarm(False)\n",
    "        self._client.enableApiControl(False)\n",
    "        \n",
    "        \n",
    "    def takeoff(self):\n",
    "        \"\"\"Takeoff to the takeoff height\"\"\"\n",
    "        state = self._client.getMultirotorState()\n",
    "        if state.landed_state == airsim.LandedState.Landed:\n",
    "            logger.info(\"taking off...\")\n",
    "            self._client.takeoffAsync().join()\n",
    "        else:\n",
    "            self._client.hoverAsync().join()\n",
    "    \n",
    "        time.sleep(1)\n",
    "    \n",
    "        state = self._client.getMultirotorState()\n",
    "        if state.landed_state == airsim.LandedState.Landed:\n",
    "            logger.info(\"take off failed...\")\n",
    "            sys.exit(1)\n",
    "    \n",
    "        # AirSim uses NED coordinates so negative axis is up.\n",
    "        # _z of -5 is 5 meters above the original launch point.\n",
    "        # _z = -50\n",
    "        print(\"make sure we are hovering at {} meters...\".format(-self._z))\n",
    "        self._client.moveToZAsync(self._z, 5).join()\n",
    "\n",
    "    \n",
    "    def do_NH_path(self):\n",
    "        \"\"\"Fly on a path in the Airsim simulator\"\"\"\n",
    "        logger.info(\"flying on path...\")\n",
    "        print(\"\"\"This script is designed to fly on the streets of the Neighborhood environment\n",
    "            and assumes the unreal position of the drone is [160, -1500, 120].\"\"\")\n",
    "        result = self._client.moveOnPathAsync([airsim.Vector3r(125,0,self._z),\n",
    "                                        airsim.Vector3r(125,-130,self._z),\n",
    "                                        airsim.Vector3r(0,-130,self._z),\n",
    "                                        airsim.Vector3r(0,0,self._z)],\n",
    "                                12, 120,\n",
    "                                airsim.DrivetrainType.ForwardOnly, airsim.YawMode(False,0), 20, 1).join()\n",
    "    \n",
    "    def rth(self):\n",
    "        logger.info(\"returning home...\")\n",
    "        # drone will over-shoot so we bring it back to the start point before landing.\n",
    "        # _client.moveToPositionAsync(0,0,_z,1).join()\n",
    "        self._client.goHomeAsync().join()\n",
    "    \n",
    "    def land(self):\n",
    "        logger.info(\"landing...\")\n",
    "        self._client.landAsync().join()\n",
    "    \n",
    "\n",
    "    def do_tasklist(self):\n",
    "        \"\"\"Run a list of tasks in order\"\"\"\n",
    "        tasks = [self.arm, self.takeoff, self.do_NH_path, self.rth, self.land, self.disarm]\n",
    "        for task in tasks:\n",
    "            if self._stop:\n",
    "                break\n",
    "            task()\n",
    "                \n",
    "    def stop(self):\n",
    "        \"\"\" stop the client by cancelling the last task and exiting the do_tasklist loop \"\"\"\n",
    "        self._stop = True\n",
    "        try:\n",
    "            self._client.cancelLastTask()\n",
    "        except Exception as e:\n",
    "            print (e)\n"
   ]
  },
  {
   "cell_type": "code",
   "execution_count": null,
   "metadata": {},
   "outputs": [
    {
     "data": {
      "text/markdown": "---\n\n[source](https://github.com/johnnewto/UAV/blob/main/UAV/airsim/commands.py#L40){target=\"_blank\" style=\"float:right; font-size:smaller\"}\n\n### DroneCommands.arm\n\n>      DroneCommands.arm ()\n\nRun the drone on a path in the Airsim simulator.\nCreates a client and connects to the simulator.",
      "text/plain": "---\n\n[source](https://github.com/johnnewto/UAV/blob/main/UAV/airsim/commands.py#L40){target=\"_blank\" style=\"float:right; font-size:smaller\"}\n\n### DroneCommands.arm\n\n>      DroneCommands.arm ()\n\nRun the drone on a path in the Airsim simulator.\nCreates a client and connects to the simulator."
     },
     "execution_count": null,
     "metadata": {},
     "output_type": "execute_result"
    }
   ],
   "source": [
    "#|eval: false\n",
    "show_doc(DroneCommands.arm)"
   ]
  },
  {
   "cell_type": "code",
   "execution_count": null,
   "metadata": {},
   "outputs": [
    {
     "data": {
      "text/markdown": "---\n\n[source](https://github.com/johnnewto/UAV/blob/main/UAV/airsim/commands.py#L58){target=\"_blank\" style=\"float:right; font-size:smaller\"}\n\n### DroneCommands.takeoff\n\n>      DroneCommands.takeoff ()\n\nTakeoff to the takeoff height",
      "text/plain": "---\n\n[source](https://github.com/johnnewto/UAV/blob/main/UAV/airsim/commands.py#L58){target=\"_blank\" style=\"float:right; font-size:smaller\"}\n\n### DroneCommands.takeoff\n\n>      DroneCommands.takeoff ()\n\nTakeoff to the takeoff height"
     },
     "execution_count": null,
     "metadata": {},
     "output_type": "execute_result"
    }
   ],
   "source": [
    "#|eval: false\n",
    "show_doc(DroneCommands.takeoff)"
   ]
  },
  {
   "cell_type": "code",
   "execution_count": null,
   "metadata": {},
   "outputs": [
    {
     "data": {
      "text/markdown": "---\n\n[source](https://github.com/johnnewto/UAV/blob/main/UAV/airsim/commands.py#L81){target=\"_blank\" style=\"float:right; font-size:smaller\"}\n\n### DroneCommands.do_NH_path\n\n>      DroneCommands.do_NH_path ()\n\nFly on a path in the Airsim simulator",
      "text/plain": "---\n\n[source](https://github.com/johnnewto/UAV/blob/main/UAV/airsim/commands.py#L81){target=\"_blank\" style=\"float:right; font-size:smaller\"}\n\n### DroneCommands.do_NH_path\n\n>      DroneCommands.do_NH_path ()\n\nFly on a path in the Airsim simulator"
     },
     "execution_count": null,
     "metadata": {},
     "output_type": "execute_result"
    }
   ],
   "source": [
    "#|eval: false\n",
    "show_doc(DroneCommands.do_NH_path)"
   ]
  },
  {
   "cell_type": "code",
   "execution_count": null,
   "metadata": {},
   "outputs": [
    {
     "data": {
      "text/markdown": "---\n\n[source](https://github.com/johnnewto/UAV/blob/main/UAV/airsim/commands.py#L93){target=\"_blank\" style=\"float:right; font-size:smaller\"}\n\n### DroneCommands.rth\n\n>      DroneCommands.rth ()",
      "text/plain": "---\n\n[source](https://github.com/johnnewto/UAV/blob/main/UAV/airsim/commands.py#L93){target=\"_blank\" style=\"float:right; font-size:smaller\"}\n\n### DroneCommands.rth\n\n>      DroneCommands.rth ()"
     },
     "execution_count": null,
     "metadata": {},
     "output_type": "execute_result"
    }
   ],
   "source": [
    "#|eval: false\n",
    "show_doc(DroneCommands.rth)"
   ]
  },
  {
   "cell_type": "code",
   "execution_count": null,
   "metadata": {},
   "outputs": [
    {
     "data": {
      "text/markdown": "---\n\n[source](https://github.com/johnnewto/UAV/blob/main/UAV/airsim/commands.py#L99){target=\"_blank\" style=\"float:right; font-size:smaller\"}\n\n### DroneCommands.land\n\n>      DroneCommands.land ()",
      "text/plain": "---\n\n[source](https://github.com/johnnewto/UAV/blob/main/UAV/airsim/commands.py#L99){target=\"_blank\" style=\"float:right; font-size:smaller\"}\n\n### DroneCommands.land\n\n>      DroneCommands.land ()"
     },
     "execution_count": null,
     "metadata": {},
     "output_type": "execute_result"
    }
   ],
   "source": [
    "#|eval: false\n",
    "show_doc(DroneCommands.land)"
   ]
  },
  {
   "cell_type": "code",
   "execution_count": null,
   "metadata": {},
   "outputs": [
    {
     "data": {
      "text/markdown": "---\n\n[source](https://github.com/johnnewto/UAV/blob/main/UAV/airsim/commands.py#L51){target=\"_blank\" style=\"float:right; font-size:smaller\"}\n\n### DroneCommands.disarm\n\n>      DroneCommands.disarm ()\n\nDisarm the drone and disconnect from the simulator",
      "text/plain": "---\n\n[source](https://github.com/johnnewto/UAV/blob/main/UAV/airsim/commands.py#L51){target=\"_blank\" style=\"float:right; font-size:smaller\"}\n\n### DroneCommands.disarm\n\n>      DroneCommands.disarm ()\n\nDisarm the drone and disconnect from the simulator"
     },
     "execution_count": null,
     "metadata": {},
     "output_type": "execute_result"
    }
   ],
   "source": [
    "#|eval: false\n",
    "show_doc(DroneCommands.disarm)"
   ]
  },
  {
   "cell_type": "code",
   "execution_count": null,
   "metadata": {},
   "outputs": [
    {
     "data": {
      "text/markdown": "---\n\n[source](https://github.com/johnnewto/UAV/blob/main/UAV/airsim/commands.py#L104){target=\"_blank\" style=\"float:right; font-size:smaller\"}\n\n### DroneCommands.do_tasklist\n\n>      DroneCommands.do_tasklist ()\n\nRun a list of tasks in order",
      "text/plain": "---\n\n[source](https://github.com/johnnewto/UAV/blob/main/UAV/airsim/commands.py#L104){target=\"_blank\" style=\"float:right; font-size:smaller\"}\n\n### DroneCommands.do_tasklist\n\n>      DroneCommands.do_tasklist ()\n\nRun a list of tasks in order"
     },
     "execution_count": null,
     "metadata": {},
     "output_type": "execute_result"
    }
   ],
   "source": [
    "#|eval: false\n",
    "show_doc(DroneCommands.do_tasklist)"
   ]
  },
  {
   "cell_type": "code",
   "execution_count": null,
   "metadata": {},
   "outputs": [
    {
     "data": {
      "text/markdown": "---\n\n[source](https://github.com/johnnewto/UAV/blob/main/UAV/airsim/commands.py#L112){target=\"_blank\" style=\"float:right; font-size:smaller\"}\n\n### DroneCommands.stop\n\n>      DroneCommands.stop ()\n\nstop the client by cancelling the last task and exiting the do_tasklist loop",
      "text/plain": "---\n\n[source](https://github.com/johnnewto/UAV/blob/main/UAV/airsim/commands.py#L112){target=\"_blank\" style=\"float:right; font-size:smaller\"}\n\n### DroneCommands.stop\n\n>      DroneCommands.stop ()\n\nstop the client by cancelling the last task and exiting the do_tasklist loop"
     },
     "execution_count": null,
     "metadata": {},
     "output_type": "execute_result"
    }
   ],
   "source": [
    "#|eval: false\n",
    "show_doc(DroneCommands.stop)"
   ]
  },
  {
   "cell_type": "markdown",
   "metadata": {},
   "source": [
    "### An end to end example\n",
    "\n",
    "The drone cammands are run in a separate process with the video loop running in the main process."
   ]
  },
  {
   "cell_type": "code",
   "execution_count": null,
   "metadata": {},
   "outputs": [
    {
     "name": "stderr",
     "output_type": "stream",
     "text": [
      "INFO   | uav_log         | 01.328 | 3013889626.py: 23 | MainThread         | Hello World...\n"
     ]
    },
    {
     "name": "stdout",
     "output_type": "stream",
     "text": [
      "Settings file config/settings_high_res.json not found.\n",
      "Starting Airsim  ['/home/jn/Airsim/AirSimNH/LinuxNoEditor/AirSimNH/Binaries/Linux/AirSimNH', '-ResX=800', '-ResY=600', '-windowed']\n",
      "Started Airsim AirSimNH\n"
     ]
    },
    {
     "name": "stderr",
     "output_type": "stream",
     "text": [
      "INFO   | uav_log         | 04.357 | commands.py: 47 | Thread-11 (do_task | Arming the drone...\n",
      "INFO   | uav_log         | 04.359 | commands.py: 62 | Thread-11 (do_task | taking off...\n"
     ]
    },
    {
     "name": "stdout",
     "output_type": "stream",
     "text": [
      "Connected!\n",
      "Client Ver:1 (Min Req: 1), Server Ver:1 (Min Req: 1)\n",
      "\n",
      "Connected!\n",
      "Client Ver:1 (Min Req: 1), Server Ver:1 (Min Req: 1)\n",
      "make sure we are hovering at 5 meters...\n"
     ]
    },
    {
     "name": "stderr",
     "output_type": "stream",
     "text": [
      "INFO   | uav_log         | 09.894 | commands.py: 83 | Thread-11 (do_task | flying on path...\n"
     ]
    },
    {
     "name": "stdout",
     "output_type": "stream",
     "text": [
      "This script is designed to fly on the streets of the Neighborhood environment\n",
      "            and assumes the unreal position of the drone is [160, -1500, 120].\n"
     ]
    },
    {
     "name": "stderr",
     "output_type": "stream",
     "text": [
      "INFO   | uav_log         | 10.153 | commands.py: 94 | Thread-11 (do_task | returning home...\n",
      "INFO   | uav_log         | 11.325 | commands.py:100 | Thread-11 (do_task | landing...\n",
      "INFO   | uav_log         | 12.477 | commands.py: 53 | Thread-11 (do_task | disarming...\n",
      "INFO   | uav_log         | 14.339 | 3013889626.py: 64 | MainThread         | Landed state = 0,  so quiting\n",
      "INFO   | uav_log         | 14.340 | commands.py: 53 | MainThread         | disarming...\n"
     ]
    },
    {
     "name": "stdout",
     "output_type": "stream",
     "text": [
      "Airsim exited with rc = 143\n"
     ]
    }
   ],
   "source": [
    "RECORD_VIDEO = False\n",
    "\n",
    "import threading\n",
    "from UAV.airsim.commands import DroneCommands\n",
    "from UAV.airsim.client import  AirSimClient\n",
    "import UAV.airsim_python_client as airsim\n",
    "from UAV.utils.sim_linux import RunSim\n",
    "from UAV.utils.display import puttext, VideoWriter, ScrollingLog, ScrollingLogHandler\n",
    "from imutils import resize\n",
    "import cv2\n",
    "import logging\n",
    "import time\n",
    "# logging.basicConfig(format=\n",
    "#                     '%(asctime)-8s,%(msecs)-3d %(levelname)5s [%(filename)10s:%(lineno)3d] %(message)s',\n",
    "#                     datefmt='%H:%M:%S',\n",
    "#                     level=logging.INFO)  \n",
    "import UAV.params as params\n",
    "logger = logging.getLogger(params.LOGGING_NAME) # Todo add this to params\n",
    "logger.setLevel(params.LOGGING_LEVEL)\n",
    "# log = ScrollingLog(bg_color=(0,0,0))\n",
    "log = ScrollingLog(position=(20,80), font_scale=1.5 , color=(0,0,255), thickness=1)\n",
    "handler_log = ScrollingLogHandler(log, logger)\n",
    "logger.info(f\"Hello World...\")\n",
    "\n",
    "rs = RunSim(\"AirSimNH\", settings=\"config/settings_high_res.json\")\n",
    "\n",
    "asc = AirSimClient()\n",
    "cmd = DroneCommands()\n",
    "t = threading.Thread(target=cmd.do_tasklist, daemon=True)\n",
    "t.start()\n",
    "\n",
    "framecounter = 1\n",
    "cam_num = 0\n",
    "cams = [\"high_res\", \"front_center\", \"front_right\", \"front_left\", \"bottom_center\", \"back_center\"]\n",
    "# with VideoWriter(\"images/airsim_test.mp4\", 5.0) as video:\n",
    "if RECORD_VIDEO:\n",
    "    video = VideoWriter(\"images/airsim_nav_test.mp4\", 5.0)\n",
    "else:\n",
    "    video = None\n",
    "# with VideoWriter(\"images/airsim_nav_test.mp4\", 25.0) as video:\n",
    "if True:\n",
    "    while(True):\n",
    "        framecounter += 1\n",
    "        state = asc.getMultirotorState()\n",
    "        pos = state.kinematics_estimated.position\n",
    "        img = asc.get_image(cams[cam_num], rgb2bgr=False)\n",
    "        puttext(img, f\"Frame: {framecounter} Pos: {pos.x_val:.2f}, {pos.y_val:.2f}, {pos.z_val:.2f}\")\n",
    "    \n",
    "        img = resize(img, width=800)    \n",
    "        # log.update(f\"Frame: {framecounter} Pos: {pos.x_val:.2f}, {pos.y_val:.2f}, {pos.z_val:.2f}\")\n",
    "        if framecounter % 100 == 0:\n",
    "            print(f\"Frame: {framecounter} Pos: {pos.x_val:.2f}, {pos.y_val:.2f}, {pos.z_val:.2f}\")\n",
    "        log.draw(img)\n",
    "        cv2.imshow(\"Camera\", img)\n",
    "        if video is not None: video.add(img)\n",
    "        \n",
    "        # video.add(img_bgr)\n",
    "        k = cv2.waitKey(10)\n",
    "        if k == ord('q') or k == ord('Q'):\n",
    "            # logger.info(\"......cancelLastTask\")\n",
    "            asc.cancelLastTask()\n",
    "            # print(f\"Landed state:  {state.landed_state}\")\n",
    "            if state.landed_state == 0:\n",
    "                logger.info(\"Landed state = 0,  so quiting\")\n",
    "                break  \n",
    "        \n",
    "        if k == ord('c') or k == ord('C'):\n",
    "            cam_num += 1\n",
    "            if cam_num >= len(cams):\n",
    "                cam_num = 0\n",
    "            # log.update(f\"Camera: {cams[cam_num]}\")\n",
    "            logger.info(f\"Camera: {cams[cam_num]}\")\n",
    "            \n",
    "        if k == 27:\n",
    "            cmd.stop()\n",
    "            time.sleep(1)\n",
    "            break\n",
    "            \n",
    "        # if framecounter > 50:\n",
    "        #     break\n",
    "\n",
    "cmd.disarm()\n",
    "t.join(timeout=5)\n",
    "cv2.destroyAllWindows()\n",
    "rs.exit()\n",
    "\n",
    "if video is not None: \n",
    "    video.close()\n",
    "    video.show(width=500)"
   ]
  },
  {
   "cell_type": "code",
   "execution_count": null,
   "metadata": {},
   "outputs": [],
   "source": [
    "# rs.exit()"
   ]
  },
  {
   "cell_type": "code",
   "execution_count": null,
   "metadata": {},
   "outputs": [],
   "source": [
    "#| hide\n",
    "from nbdev import nbdev_export\n",
    "nbdev_export()"
   ]
  }
 ],
 "metadata": {
  "kernelspec": {
   "display_name": "python3",
   "language": "python",
   "name": "python3"
  }
 },
 "nbformat": 4,
 "nbformat_minor": 4
}
