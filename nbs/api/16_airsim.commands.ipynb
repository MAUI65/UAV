{
 "cells": [
  {
   "cell_type": "code",
   "execution_count": null,
   "metadata": {},
   "outputs": [],
   "source": [
    "#| default_exp airsim.commands"
   ]
  },
  {
   "cell_type": "code",
   "execution_count": null,
   "metadata": {},
   "outputs": [],
   "source": []
  },
  {
   "cell_type": "markdown",
   "metadata": {},
   "source": [
    "\n",
    "# Drone Commands \n",
    "> Multicopter higher level commands for the Airsim simulator\n",
    "\n"
   ]
  },
  {
   "cell_type": "code",
   "execution_count": null,
   "metadata": {},
   "outputs": [],
   "source": [
    "#| hide\n",
    "%load_ext autoreload\n",
    "%autoreload 2"
   ]
  },
  {
   "cell_type": "code",
   "execution_count": null,
   "metadata": {},
   "outputs": [],
   "source": [
    "#| hide\n",
    "# skip_showdoc: true to avoid running cells when rendering docs, and skip_exec: true to skip this notebook when running tests. \n",
    "# this should be a raw cell "
   ]
  },
  {
   "cell_type": "raw",
   "metadata": {},
   "source": [
    "---\n",
    "skip_showdoc: true\n",
    "skip_exec: true\n",
    "---"
   ]
  },
  {
   "cell_type": "code",
   "execution_count": null,
   "metadata": {},
   "outputs": [],
   "source": [
    "#| export\n",
    "\n",
    "from fastcore.utils import *\n",
    "import UAV.airsim_python_client as airsim\n",
    "from UAV.airsim_client import AirSimClient\n",
    "import time\n",
    "from UAV.utils.sim_linux import RunSim, is_process_running, find_and_terminate_process\n",
    "import logging\n"
   ]
  },
  {
   "cell_type": "code",
   "execution_count": null,
   "metadata": {},
   "outputs": [],
   "source": [
    "#| export\n",
    "logging.basicConfig(format='%(asctime)-8s,%(msecs)-3d %(levelname)5s [%(filename)10s:%(lineno)3d] %(message)s',\n",
    "                    datefmt='%H:%M:%S',\n",
    "                    level=logging.DEBUG)  # Todo add this to params\n",
    "logger = logging.getLogger(__name__)"
   ]
  },
  {
   "cell_type": "code",
   "execution_count": null,
   "metadata": {},
   "outputs": [],
   "source": [
    "#| hide\n",
    "\n",
    "from nbdev.showdoc import *\n",
    "from fastcore.test import *"
   ]
  },
  {
   "cell_type": "code",
   "execution_count": null,
   "metadata": {},
   "outputs": [
    {
     "name": "stderr",
     "output_type": "stream",
     "text": [
      "19:44:46,304 DEBUG [__init__.py:305] matplotlib data path: /home/jn/PycharmProjects/UAV/venv/lib/python3.10/site-packages/matplotlib/mpl-data\n",
      "19:44:46,308 DEBUG [__init__.py:305] CONFIGDIR=/home/jn/.config/matplotlib\n",
      "19:44:46,309 DEBUG [__init__.py:1479] interactive is False\n",
      "19:44:46,309 DEBUG [__init__.py:1480] platform is linux\n",
      "19:44:46,339 DEBUG [__init__.py:305] CACHEDIR=/home/jn/.cache/matplotlib\n",
      "19:44:46,342 DEBUG [font_manager.py:1543] Using fontManager instance from /home/jn/.cache/matplotlib/fontlist-v330.json\n"
     ]
    }
   ],
   "source": [
    "%%capture\n",
    "from UAV.utils.display import *\n",
    "from UAV.utils.sim_linux import *\n",
    "from matplotlib import pyplot as plt"
   ]
  },
  {
   "cell_type": "code",
   "execution_count": null,
   "metadata": {},
   "outputs": [],
   "source": [
    "#| export\n",
    "def start_sim():\n",
    "    \"\"\"Start the Airsim simuator if it is not already running\"\"\"\n",
    "    sim_name = \"AirSimNH\"\n",
    "    if not is_process_running(f\"{sim_name}\"):\n",
    "        return RunSim(\"AirSimNH\", settings=\"config/settings_high_res.json\")\n",
    "    return None   "
   ]
  },
  {
   "cell_type": "code",
   "execution_count": null,
   "metadata": {},
   "outputs": [
    {
     "data": {
      "text/markdown": "---\n\n[source](https://github.com/johnnewto/UAV/blob/main/UAV/airsim/commands.py#L22){target=\"_blank\" style=\"float:right; font-size:smaller\"}\n\n### start_sim\n\n>      start_sim ()\n\nStart the Airsim simuator if it is not already running",
      "text/plain": "---\n\n[source](https://github.com/johnnewto/UAV/blob/main/UAV/airsim/commands.py#L22){target=\"_blank\" style=\"float:right; font-size:smaller\"}\n\n### start_sim\n\n>      start_sim ()\n\nStart the Airsim simuator if it is not already running"
     },
     "execution_count": null,
     "metadata": {},
     "output_type": "execute_result"
    }
   ],
   "source": [
    "#|eval: false\n",
    "show_doc(start_sim)"
   ]
  },
  {
   "cell_type": "code",
   "execution_count": null,
   "metadata": {},
   "outputs": [],
   "source": [
    "#| export\n",
    "class DroneCommands():\n",
    "    \"\"\"Class Multirotor Client for the Airsim simulator with higher level procedures\"\"\"\n",
    "\n",
    "    def __init__(self,\n",
    "                 takeoff_z:int = -5): # takeoff Height\n",
    "        self._z = takeoff_z\n",
    "        self._stop = False\n",
    "\n",
    "    def arm(self):\n",
    "            \"\"\"Run the drone on a path in the Airsim simulator.\n",
    "            Creates a client and connects to the simulator.\"\"\"\n",
    "            self._client = AirSimClient()\n",
    "    \n",
    "            self._client.enableApiControl(True)\n",
    "        \n",
    "            logger.info(\"Arming the drone...\")\n",
    "            self._client.armDisarm(True)        \n",
    "\n",
    "\n",
    "    def disarm(self):\n",
    "        \"\"\"Disarm the drone and disconnect from the simulator\"\"\"\n",
    "        print(\"disarming...\")\n",
    "        self._client.armDisarm(False)\n",
    "        self._client.enableApiControl(False)\n",
    "        \n",
    "        \n",
    "    def takeoff(self):\n",
    "        \"\"\"Takeoff to the takeoff height\"\"\"\n",
    "        state = self._client.getMultirotorState()\n",
    "        if state.landed_state == airsim.LandedState.Landed:\n",
    "            print(\"taking off...\")\n",
    "            self._client.takeoffAsync().join()\n",
    "        else:\n",
    "            self._client.hoverAsync().join()\n",
    "    \n",
    "        time.sleep(1)\n",
    "    \n",
    "        state = self._client.getMultirotorState()\n",
    "        if state.landed_state == airsim.LandedState.Landed:\n",
    "            print(\"take off failed...\")\n",
    "            sys.exit(1)\n",
    "    \n",
    "        # AirSim uses NED coordinates so negative axis is up.\n",
    "        # _z of -5 is 5 meters above the original launch point.\n",
    "        # _z = -50\n",
    "        print(\"make sure we are hovering at {} meters...\".format(-self._z))\n",
    "        self._client.moveToZAsync(self._z, 5).join()\n",
    "\n",
    "    \n",
    "    def do_NH_path(self):\n",
    "        \"\"\"Fly on a path in the Airsim simulator\"\"\"\n",
    "        print(\"flying on path...\")\n",
    "        print(\"\"\"This script is designed to fly on the streets of the Neighborhood environment\n",
    "            and assumes the unreal position of the drone is [160, -1500, 120].\"\"\")\n",
    "        result = self._client.moveOnPathAsync([airsim.Vector3r(125,0,self._z),\n",
    "                                        airsim.Vector3r(125,-130,self._z),\n",
    "                                        airsim.Vector3r(0,-130,self._z),\n",
    "                                        airsim.Vector3r(0,0,self._z)],\n",
    "                                12, 120,\n",
    "                                airsim.DrivetrainType.ForwardOnly, airsim.YawMode(False,0), 20, 1).join()\n",
    "    \n",
    "    def rth(self):\n",
    "        print(\"returning home...\")\n",
    "        # drone will over-shoot so we bring it back to the start point before landing.\n",
    "        # _client.moveToPositionAsync(0,0,_z,1).join()\n",
    "        self._client.goHomeAsync().join()\n",
    "    \n",
    "    def land(self):\n",
    "        print(\"landing...\")\n",
    "        self._client.landAsync().join()\n",
    "    \n",
    "\n",
    "    def do_tasklist(self):\n",
    "        \"\"\"Run a list of tasks in order\"\"\"\n",
    "        tasks = [self.arm, self.takeoff, self.do_NH_path, self.rth, self.land, self.disarm]\n",
    "        for task in tasks:\n",
    "            if self._stop:\n",
    "                break\n",
    "            task()\n",
    "                \n",
    "    def stop(self):\n",
    "        \"\"\" stop the client by cancelling the last task and exiting the do_tasklist loop \"\"\"\n",
    "        self._stop = True\n",
    "        try:\n",
    "            self._client.cancelLastTask()\n",
    "        except Exception as e:\n",
    "            print (e)\n"
   ]
  },
  {
   "cell_type": "code",
   "execution_count": null,
   "metadata": {},
   "outputs": [
    {
     "data": {
      "text/markdown": "---\n\n[source](https://github.com/johnnewto/UAV/blob/main/UAV/airsim/commands.py#L38){target=\"_blank\" style=\"float:right; font-size:smaller\"}\n\n### DroneCommands.arm\n\n>      DroneCommands.arm ()\n\nRun the drone on a path in the Airsim simulator.\nCreates a client and connects to the simulator.",
      "text/plain": "---\n\n[source](https://github.com/johnnewto/UAV/blob/main/UAV/airsim/commands.py#L38){target=\"_blank\" style=\"float:right; font-size:smaller\"}\n\n### DroneCommands.arm\n\n>      DroneCommands.arm ()\n\nRun the drone on a path in the Airsim simulator.\nCreates a client and connects to the simulator."
     },
     "execution_count": null,
     "metadata": {},
     "output_type": "execute_result"
    }
   ],
   "source": [
    "#|eval: false\n",
    "show_doc(DroneCommands.arm)"
   ]
  },
  {
   "cell_type": "code",
   "execution_count": null,
   "metadata": {},
   "outputs": [
    {
     "data": {
      "text/markdown": "---\n\n[source](https://github.com/johnnewto/UAV/blob/main/UAV/airsim/commands.py#L56){target=\"_blank\" style=\"float:right; font-size:smaller\"}\n\n### DroneCommands.takeoff\n\n>      DroneCommands.takeoff ()\n\nTakeoff to the takeoff height",
      "text/plain": "---\n\n[source](https://github.com/johnnewto/UAV/blob/main/UAV/airsim/commands.py#L56){target=\"_blank\" style=\"float:right; font-size:smaller\"}\n\n### DroneCommands.takeoff\n\n>      DroneCommands.takeoff ()\n\nTakeoff to the takeoff height"
     },
     "execution_count": null,
     "metadata": {},
     "output_type": "execute_result"
    }
   ],
   "source": [
    "#|eval: false\n",
    "show_doc(DroneCommands.takeoff)"
   ]
  },
  {
   "cell_type": "code",
   "execution_count": null,
   "metadata": {},
   "outputs": [
    {
     "data": {
      "text/markdown": "---\n\n[source](https://github.com/johnnewto/UAV/blob/main/UAV/airsim/commands.py#L79){target=\"_blank\" style=\"float:right; font-size:smaller\"}\n\n### DroneCommands.do_NH_path\n\n>      DroneCommands.do_NH_path ()\n\nFly on a path in the Airsim simulator",
      "text/plain": "---\n\n[source](https://github.com/johnnewto/UAV/blob/main/UAV/airsim/commands.py#L79){target=\"_blank\" style=\"float:right; font-size:smaller\"}\n\n### DroneCommands.do_NH_path\n\n>      DroneCommands.do_NH_path ()\n\nFly on a path in the Airsim simulator"
     },
     "execution_count": null,
     "metadata": {},
     "output_type": "execute_result"
    }
   ],
   "source": [
    "#|eval: false\n",
    "show_doc(DroneCommands.do_NH_path)"
   ]
  },
  {
   "cell_type": "code",
   "execution_count": null,
   "metadata": {},
   "outputs": [
    {
     "data": {
      "text/markdown": "---\n\n[source](https://github.com/johnnewto/UAV/blob/main/UAV/airsim/commands.py#L91){target=\"_blank\" style=\"float:right; font-size:smaller\"}\n\n### DroneCommands.rth\n\n>      DroneCommands.rth ()",
      "text/plain": "---\n\n[source](https://github.com/johnnewto/UAV/blob/main/UAV/airsim/commands.py#L91){target=\"_blank\" style=\"float:right; font-size:smaller\"}\n\n### DroneCommands.rth\n\n>      DroneCommands.rth ()"
     },
     "execution_count": null,
     "metadata": {},
     "output_type": "execute_result"
    }
   ],
   "source": [
    "#|eval: false\n",
    "show_doc(DroneCommands.rth)"
   ]
  },
  {
   "cell_type": "code",
   "execution_count": null,
   "metadata": {},
   "outputs": [
    {
     "data": {
      "text/markdown": "---\n\n[source](https://github.com/johnnewto/UAV/blob/main/UAV/airsim/commands.py#L97){target=\"_blank\" style=\"float:right; font-size:smaller\"}\n\n### DroneCommands.land\n\n>      DroneCommands.land ()",
      "text/plain": "---\n\n[source](https://github.com/johnnewto/UAV/blob/main/UAV/airsim/commands.py#L97){target=\"_blank\" style=\"float:right; font-size:smaller\"}\n\n### DroneCommands.land\n\n>      DroneCommands.land ()"
     },
     "execution_count": null,
     "metadata": {},
     "output_type": "execute_result"
    }
   ],
   "source": [
    "#|eval: false\n",
    "show_doc(DroneCommands.land)"
   ]
  },
  {
   "cell_type": "code",
   "execution_count": null,
   "metadata": {},
   "outputs": [
    {
     "data": {
      "text/markdown": "---\n\n[source](https://github.com/johnnewto/UAV/blob/main/UAV/airsim/commands.py#L49){target=\"_blank\" style=\"float:right; font-size:smaller\"}\n\n### DroneCommands.disarm\n\n>      DroneCommands.disarm ()\n\nDisarm the drone and disconnect from the simulator",
      "text/plain": "---\n\n[source](https://github.com/johnnewto/UAV/blob/main/UAV/airsim/commands.py#L49){target=\"_blank\" style=\"float:right; font-size:smaller\"}\n\n### DroneCommands.disarm\n\n>      DroneCommands.disarm ()\n\nDisarm the drone and disconnect from the simulator"
     },
     "execution_count": null,
     "metadata": {},
     "output_type": "execute_result"
    }
   ],
   "source": [
    "#|eval: false\n",
    "show_doc(DroneCommands.disarm)"
   ]
  },
  {
   "cell_type": "code",
   "execution_count": null,
   "metadata": {},
   "outputs": [
    {
     "data": {
      "text/markdown": "---\n\n[source](https://github.com/johnnewto/UAV/blob/main/UAV/airsim/commands.py#L102){target=\"_blank\" style=\"float:right; font-size:smaller\"}\n\n### DroneCommands.do_tasklist\n\n>      DroneCommands.do_tasklist ()\n\nRun a list of tasks in order",
      "text/plain": "---\n\n[source](https://github.com/johnnewto/UAV/blob/main/UAV/airsim/commands.py#L102){target=\"_blank\" style=\"float:right; font-size:smaller\"}\n\n### DroneCommands.do_tasklist\n\n>      DroneCommands.do_tasklist ()\n\nRun a list of tasks in order"
     },
     "execution_count": null,
     "metadata": {},
     "output_type": "execute_result"
    }
   ],
   "source": [
    "#|eval: false\n",
    "show_doc(DroneCommands.do_tasklist)"
   ]
  },
  {
   "cell_type": "code",
   "execution_count": null,
   "metadata": {},
   "outputs": [
    {
     "data": {
      "text/markdown": "---\n\n[source](https://github.com/johnnewto/UAV/blob/main/UAV/airsim/commands.py#L110){target=\"_blank\" style=\"float:right; font-size:smaller\"}\n\n### DroneCommands.stop\n\n>      DroneCommands.stop ()\n\nstop the client by cancelling the last task and exiting the do_tasklist loop",
      "text/plain": "---\n\n[source](https://github.com/johnnewto/UAV/blob/main/UAV/airsim/commands.py#L110){target=\"_blank\" style=\"float:right; font-size:smaller\"}\n\n### DroneCommands.stop\n\n>      DroneCommands.stop ()\n\nstop the client by cancelling the last task and exiting the do_tasklist loop"
     },
     "execution_count": null,
     "metadata": {},
     "output_type": "execute_result"
    }
   ],
   "source": [
    "#|eval: false\n",
    "show_doc(DroneCommands.stop)"
   ]
  },
  {
   "cell_type": "markdown",
   "metadata": {},
   "source": [
    "### An end to end example\n",
    "\n",
    "The drone cammands are run in a separate process with the video loop running in the main process."
   ]
  },
  {
   "cell_type": "code",
   "execution_count": null,
   "metadata": {},
   "outputs": [
    {
     "name": "stderr",
     "output_type": "stream",
     "text": [
      "19:58:02,575 DEBUG [__init__.py:305] matplotlib data path: /home/jn/PycharmProjects/UAV/venv/lib/python3.10/site-packages/matplotlib/mpl-data\n",
      "19:58:02,579 DEBUG [__init__.py:305] CONFIGDIR=/home/jn/.config/matplotlib\n",
      "19:58:02,580 DEBUG [__init__.py:1479] interactive is False\n",
      "19:58:02,581 DEBUG [__init__.py:1480] platform is linux\n",
      "19:58:02,610 DEBUG [__init__.py:305] CACHEDIR=/home/jn/.cache/matplotlib\n",
      "19:58:02,613 DEBUG [font_manager.py:1543] Using fontManager instance from /home/jn/.cache/matplotlib/fontlist-v330.json\n"
     ]
    },
    {
     "name": "stdout",
     "output_type": "stream",
     "text": [
      "Starting Airsim  ['/home/jn/Airsim/AirSimNH/LinuxNoEditor/AirSimNH/Binaries/Linux/AirSimNH', '-ResX=800', '-ResY=600', '-windowed', '-settings=/home/jn/PycharmProjects/UAV/UAV/config/settings_high_res.json']\n",
      "Started Airsim AirSimNH\n"
     ]
    },
    {
     "name": "stderr",
     "output_type": "stream",
     "text": [
      "19:58:05,794  INFO [commands.py: 45] Arming the drone...\n"
     ]
    },
    {
     "name": "stdout",
     "output_type": "stream",
     "text": [
      "Connected!\n",
      "Client Ver:1 (Min Req: 1), Server Ver:1 (Min Req: 1)\n",
      "\n",
      "Writing video to /home/jn/PycharmProjects/UAV/nbs/api/images/airsim_nav_test.mp4 at 5.0 fps.\n",
      "Connected!\n",
      "Client Ver:1 (Min Req: 1), Server Ver:1 (Min Req: 1)\n",
      "\n",
      "taking off...\n",
      "make sure we are hovering at 5 meters...\n",
      "flying on path...\n",
      "This script is designed to fly on the streets of the Neighborhood environment\n",
      "            and assumes the unreal position of the drone is [160, -1500, 120].\n",
      "returning home...\n",
      "landing...\n",
      "disarming...\n",
      "disarming...\n",
      "Airsim exited with rc = 143\n",
      "Video: /home/jn/PycharmProjects/UAV/nbs/api/images/airsim_nav_test.mp4\n"
     ]
    },
    {
     "ename": "OSError",
     "evalue": "MoviePy error: the file images/airsim_nav_test.mp4 could not be found!\nPlease check that you entered the correct path.",
     "output_type": "error",
     "traceback": [
      "\u001b[0;31m---------------------------------------------------------------------------\u001b[0m",
      "\u001b[0;31mOSError\u001b[0m                                   Traceback (most recent call last)",
      "Cell \u001b[0;32mIn[1], line 64\u001b[0m\n\u001b[1;32m     61\u001b[0m cv2\u001b[38;5;241m.\u001b[39mdestroyAllWindows()\n\u001b[1;32m     62\u001b[0m rs\u001b[38;5;241m.\u001b[39mexit()\n\u001b[0;32m---> 64\u001b[0m \u001b[43mvideo\u001b[49m\u001b[38;5;241;43m.\u001b[39;49m\u001b[43mshow\u001b[49m\u001b[43m(\u001b[49m\u001b[43mwidth\u001b[49m\u001b[38;5;241;43m=\u001b[39;49m\u001b[38;5;241;43m500\u001b[39;49m\u001b[43m)\u001b[49m\n",
      "File \u001b[0;32m~/PycharmProjects/UAV/UAV/utils/display.py:200\u001b[0m, in \u001b[0;36mVideoWriter.show\u001b[0;34m(self, **kw)\u001b[0m\n\u001b[1;32m    198\u001b[0m fn \u001b[38;5;241m=\u001b[39m \u001b[38;5;28mself\u001b[39m\u001b[38;5;241m.\u001b[39mparams[\u001b[38;5;124m'\u001b[39m\u001b[38;5;124mfilename\u001b[39m\u001b[38;5;124m'\u001b[39m]\n\u001b[1;32m    199\u001b[0m \u001b[38;5;28mprint\u001b[39m (\u001b[38;5;124mf\u001b[39m\u001b[38;5;124m\"\u001b[39m\u001b[38;5;124mVideo: \u001b[39m\u001b[38;5;132;01m{\u001b[39;00mPath\u001b[38;5;241m.\u001b[39mcwd()\u001b[38;5;241m/\u001b[39mfn\u001b[38;5;132;01m}\u001b[39;00m\u001b[38;5;124m\"\u001b[39m)\n\u001b[0;32m--> 200\u001b[0m display(\u001b[43mmvp\u001b[49m\u001b[38;5;241;43m.\u001b[39;49m\u001b[43mipython_display\u001b[49m\u001b[43m(\u001b[49m\u001b[43mfn\u001b[49m\u001b[43m,\u001b[49m\u001b[43m \u001b[49m\u001b[38;5;241;43m*\u001b[39;49m\u001b[38;5;241;43m*\u001b[39;49m\u001b[43mkw\u001b[49m\u001b[43m)\u001b[49m)\n",
      "File \u001b[0;32m~/PycharmProjects/UAV/venv/lib/python3.10/site-packages/moviepy/video/io/html_tools.py:220\u001b[0m, in \u001b[0;36mipython_display\u001b[0;34m(clip, filetype, maxduration, t, fps, rd_kwargs, center, **html_kwargs)\u001b[0m\n\u001b[1;32m    217\u001b[0m \u001b[38;5;28;01mif\u001b[39;00m t \u001b[38;5;129;01mis\u001b[39;00m \u001b[38;5;129;01mnot\u001b[39;00m \u001b[38;5;28;01mNone\u001b[39;00m:\n\u001b[1;32m    218\u001b[0m     clip \u001b[38;5;241m=\u001b[39m clip\u001b[38;5;241m.\u001b[39mto_ImageClip(t)\n\u001b[0;32m--> 220\u001b[0m \u001b[38;5;28;01mreturn\u001b[39;00m HTML2(\u001b[43mhtml_embed\u001b[49m\u001b[43m(\u001b[49m\u001b[43mclip\u001b[49m\u001b[43m,\u001b[49m\u001b[43m \u001b[49m\u001b[43mfiletype\u001b[49m\u001b[38;5;241;43m=\u001b[39;49m\u001b[43mfiletype\u001b[49m\u001b[43m,\u001b[49m\u001b[43m \u001b[49m\u001b[43mmaxduration\u001b[49m\u001b[38;5;241;43m=\u001b[39;49m\u001b[43mmaxduration\u001b[49m\u001b[43m,\u001b[49m\n\u001b[1;32m    221\u001b[0m \u001b[43m            \u001b[49m\u001b[43mcenter\u001b[49m\u001b[38;5;241;43m=\u001b[39;49m\u001b[43mcenter\u001b[49m\u001b[43m,\u001b[49m\u001b[43m \u001b[49m\u001b[43mrd_kwargs\u001b[49m\u001b[38;5;241;43m=\u001b[39;49m\u001b[43mrd_kwargs\u001b[49m\u001b[43m,\u001b[49m\u001b[43m \u001b[49m\u001b[38;5;241;43m*\u001b[39;49m\u001b[38;5;241;43m*\u001b[39;49m\u001b[43mhtml_kwargs\u001b[49m\u001b[43m)\u001b[49m)\n",
      "File \u001b[0;32m~/PycharmProjects/UAV/venv/lib/python3.10/site-packages/moviepy/video/io/html_tools.py:140\u001b[0m, in \u001b[0;36mhtml_embed\u001b[0;34m(clip, filetype, maxduration, rd_kwargs, center, **html_kwargs)\u001b[0m\n\u001b[1;32m    135\u001b[0m         \u001b[38;5;28;01mraise\u001b[39;00m \u001b[38;5;167;01mValueError\u001b[39;00m(\u001b[38;5;124m\"\u001b[39m\u001b[38;5;124mThis video extension cannot be displayed in the \u001b[39m\u001b[38;5;124m\"\u001b[39m\n\u001b[1;32m    136\u001b[0m                \u001b[38;5;124m\"\u001b[39m\u001b[38;5;124mIPython Notebook. Allowed extensions: \u001b[39m\u001b[38;5;124m\"\u001b[39m\u001b[38;5;241m+\u001b[39mallowed_exts)\n\u001b[1;32m    138\u001b[0m \u001b[38;5;28;01mif\u001b[39;00m filetype \u001b[38;5;129;01min\u001b[39;00m [\u001b[38;5;124m'\u001b[39m\u001b[38;5;124maudio\u001b[39m\u001b[38;5;124m'\u001b[39m, \u001b[38;5;124m'\u001b[39m\u001b[38;5;124mvideo\u001b[39m\u001b[38;5;124m'\u001b[39m]:\n\u001b[0;32m--> 140\u001b[0m     duration \u001b[38;5;241m=\u001b[39m \u001b[43mffmpeg_parse_infos\u001b[49m\u001b[43m(\u001b[49m\u001b[43mfilename\u001b[49m\u001b[43m)\u001b[49m[\u001b[38;5;124m'\u001b[39m\u001b[38;5;124mduration\u001b[39m\u001b[38;5;124m'\u001b[39m]\n\u001b[1;32m    141\u001b[0m     \u001b[38;5;28;01mif\u001b[39;00m duration \u001b[38;5;241m>\u001b[39m maxduration:\n\u001b[1;32m    142\u001b[0m         \u001b[38;5;28;01mraise\u001b[39;00m \u001b[38;5;167;01mValueError\u001b[39;00m(\u001b[38;5;124m\"\u001b[39m\u001b[38;5;124mThe duration of video \u001b[39m\u001b[38;5;132;01m%s\u001b[39;00m\u001b[38;5;124m (\u001b[39m\u001b[38;5;132;01m%.1f\u001b[39;00m\u001b[38;5;124m) exceeds the \u001b[39m\u001b[38;5;124m'\u001b[39m\u001b[38;5;124mmaxduration\u001b[39m\u001b[38;5;124m'\u001b[39m\u001b[38;5;124m \u001b[39m\u001b[38;5;124m\"\u001b[39m\u001b[38;5;241m%\u001b[39m(filename, duration)\u001b[38;5;241m+\u001b[39m\n\u001b[1;32m    143\u001b[0m                          \u001b[38;5;124m\"\u001b[39m\u001b[38;5;124mattribute. You can increase \u001b[39m\u001b[38;5;124m'\u001b[39m\u001b[38;5;124mmaxduration\u001b[39m\u001b[38;5;124m'\u001b[39m\u001b[38;5;124m, by passing \u001b[39m\u001b[38;5;124m'\u001b[39m\u001b[38;5;124mmaxduration\u001b[39m\u001b[38;5;124m'\u001b[39m\u001b[38;5;124m parameter\u001b[39m\u001b[38;5;124m\"\u001b[39m\n\u001b[1;32m    144\u001b[0m                          \u001b[38;5;124m\"\u001b[39m\u001b[38;5;124mto ipython_display function.\u001b[39m\u001b[38;5;124m\"\u001b[39m\n\u001b[1;32m    145\u001b[0m                          \u001b[38;5;124m\"\u001b[39m\u001b[38;5;124mBut note that embedding large videos may take all the memory away !\u001b[39m\u001b[38;5;124m\"\u001b[39m)\n",
      "File \u001b[0;32m~/PycharmProjects/UAV/venv/lib/python3.10/site-packages/moviepy/video/io/ffmpeg_reader.py:270\u001b[0m, in \u001b[0;36mffmpeg_parse_infos\u001b[0;34m(filename, print_infos, check_duration, fps_source)\u001b[0m\n\u001b[1;32m    268\u001b[0m lines \u001b[38;5;241m=\u001b[39m infos\u001b[38;5;241m.\u001b[39msplitlines()\n\u001b[1;32m    269\u001b[0m \u001b[38;5;28;01mif\u001b[39;00m \u001b[38;5;124m\"\u001b[39m\u001b[38;5;124mNo such file or directory\u001b[39m\u001b[38;5;124m\"\u001b[39m \u001b[38;5;129;01min\u001b[39;00m lines[\u001b[38;5;241m-\u001b[39m\u001b[38;5;241m1\u001b[39m]:\n\u001b[0;32m--> 270\u001b[0m     \u001b[38;5;28;01mraise\u001b[39;00m \u001b[38;5;167;01mIOError\u001b[39;00m((\u001b[38;5;124m\"\u001b[39m\u001b[38;5;124mMoviePy error: the file \u001b[39m\u001b[38;5;132;01m%s\u001b[39;00m\u001b[38;5;124m could not be found!\u001b[39m\u001b[38;5;130;01m\\n\u001b[39;00m\u001b[38;5;124m\"\u001b[39m\n\u001b[1;32m    271\u001b[0m                   \u001b[38;5;124m\"\u001b[39m\u001b[38;5;124mPlease check that you entered the correct \u001b[39m\u001b[38;5;124m\"\u001b[39m\n\u001b[1;32m    272\u001b[0m                   \u001b[38;5;124m\"\u001b[39m\u001b[38;5;124mpath.\u001b[39m\u001b[38;5;124m\"\u001b[39m)\u001b[38;5;241m%\u001b[39mfilename)\n\u001b[1;32m    274\u001b[0m result \u001b[38;5;241m=\u001b[39m \u001b[38;5;28mdict\u001b[39m()\n\u001b[1;32m    277\u001b[0m \u001b[38;5;66;03m# get duration (in seconds)\u001b[39;00m\n",
      "\u001b[0;31mOSError\u001b[0m: MoviePy error: the file images/airsim_nav_test.mp4 could not be found!\nPlease check that you entered the correct path."
     ]
    }
   ],
   "source": [
    "\"\"\" \"\"\"\n",
    "import threading\n",
    "from UAV.airsim.commands import DroneCommands\n",
    "from UAV.airsim.client import  AirSimClient\n",
    "from UAV.utils.sim_linux import RunSim\n",
    "from UAV.utils.display import puttext, VideoWriter, ScrollingLog\n",
    "from imutils import resize\n",
    "import cv2\n",
    "\n",
    "rs = RunSim(\"AirSimNH\", settings=\"config/settings_high_res.json\")\n",
    "\n",
    "asc = AirSimClient()\n",
    "cmd = DroneCommands()\n",
    "t = threading.Thread(target=cmd.do_tasklist, daemon=True)\n",
    "t.start()\n",
    "\n",
    "framecounter = 1\n",
    "cam_num = 0\n",
    "cams = [\"high_res\", \"front_center\", \"front_right\", \"front_left\", \"bottom_center\", \"back_center\"]\n",
    "# with VideoWriter(\"images/airsim_test.mp4\", 5.0) as video:\n",
    "with VideoWriter(\"images/airsim_nav_test.mp4\", 5.0) as video:\n",
    "    log = ScrollingLog(position=(50,200), font_scale=1 , bg_color=(0,0,0))\n",
    "    while(True):\n",
    "        framecounter += 1\n",
    "        state = asc.getMultirotorState()\n",
    "        pos = state.kinematics_estimated.position\n",
    "        img = asc.get_image(cams[cam_num], rgb2bgr=False)\n",
    "        puttext(img, f\"Frame: {framecounter} Pos: {pos.x_val:.2f}, {pos.y_val:.2f}, {pos.z_val:.2f}\")\n",
    "        log = ScrollingLog(font_scale=1 , bg_color=(0,0,0))\n",
    "        img = resize(img, width=500)\n",
    "        # log.update(f\"Frame: {framecounter} Pos: {pos.x_val:.2f}, {pos.y_val:.2f}, {pos.z_val:.2f}\")\n",
    "        log.draw(img)\n",
    "        cv2.imshow(\"Camera\", img)\n",
    "        \n",
    "        # video.add(img_bgr)\n",
    "        k = cv2.waitKey(10)\n",
    "        if k == ord('q') or k == ord('Q'):\n",
    "            log.update(\"cancelLastTask\")\n",
    "            asc.cancelLastTask()\n",
    "            # print(f\"Landed state:  {state.landed_state}\")\n",
    "            if state.landed_state == 0:\n",
    "                log.update(\"Landed state = 0,  so quiting\")\n",
    "                break  \n",
    "        \n",
    "        if k == ord('c') or k == ord('C'):\n",
    "            cam_num += 1\n",
    "            if cam_num >= len(cams):\n",
    "                cam_num = 0\n",
    "            log.update(f\"Camera: {cams[cam_num]}\")\n",
    "            \n",
    "        if k == 27:\n",
    "            cmd.stop()\n",
    "            time.sleep(1)\n",
    "            break\n",
    "            \n",
    "        # if framecounter > 50:\n",
    "        #     break\n",
    "\n",
    "cmd.disarm()\n",
    "t.join(timeout=5)\n",
    "cv2.destroyAllWindows()\n",
    "rs.exit()\n",
    "\n",
    "video.show(width=500)"
   ]
  },
  {
   "cell_type": "code",
   "execution_count": null,
   "metadata": {},
   "outputs": [],
   "source": [
    "# rs.exit()"
   ]
  },
  {
   "cell_type": "code",
   "execution_count": null,
   "metadata": {},
   "outputs": [],
   "source": [
    "#| hide\n",
    "from nbdev import nbdev_export\n",
    "nbdev_export()"
   ]
  }
 ],
 "metadata": {
  "kernelspec": {
   "display_name": "python3",
   "language": "python",
   "name": "python3"
  }
 },
 "nbformat": 4,
 "nbformat_minor": 4
}
