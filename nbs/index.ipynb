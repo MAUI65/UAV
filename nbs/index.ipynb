{
 "cells": [
  {
   "cell_type": "code",
   "execution_count": null,
   "metadata": {},
   "outputs": [],
   "source": [
    "#| hide\n",
    "from UAV.core import *"
   ]
  },
  {
   "cell_type": "markdown",
   "metadata": {},
   "source": [
    "# UAV\n",
    "\n",
    "> All things that go into a UAV: Cameras, Software, Telemetry etc"
   ]
  },
  {
   "cell_type": "markdown",
   "metadata": {},
   "source": [
    "documentation is available at [UAV docs](https://johnnewto.github.io/UAV/)"
   ]
  },
  {
   "cell_type": "markdown",
   "metadata": {},
   "source": [
    "## Guide to developing with UAV"
   ]
  },
  {
   "cell_type": "markdown",
   "metadata": {},
   "source": [
    "### Developing with nbdev - Initial setup\n",
    "For a step-by-step guide to using nbdev   [guide to using nbdev](https://nbdev.fast.ai/tutorials/tutorial.html)\n",
    "You'll need the following software to develope using nbdev:\n",
    "\n",
    "1. Python  venv\n",
    "2. A Python package manager: ie pip\n",
    "3. Jupyter Notebook\n",
    "```sh\n",
    "pip install jupyter\n",
    "```\n",
    "4. nbdev\n",
    "```sh\n",
    "pip install nbdev\n",
    "```\n",
    "5. Quarto\n",
    "```sh\n",
    "nbdev_install_quarto\n",
    "```\n",
    "6. Install Quarto JupyterLab extension\n",
    "```sh\n",
    "pip install jupyterlab-quarto\n",
    "```\n",
    "\n",
    "7. Install nbdev pre-commit hooks to catch and fix uncleaned and unexported notebooks\n",
    "```sh\n",
    "pip install pre-commit\n",
    "```\n",
    "see [nbdev Pre-Commit Hooks](https://nbdev.fast.ai/tutorials/pre_commit.html) for more details"
   ]
  },
  {
   "cell_type": "markdown",
   "metadata": {},
   "source": [
    "### Airsim\n",
    "AirSim is a simulator for drones, cars and more, built on [Unreal Engine](https://www.unrealengine.com/) (we now also have an experimental [Unity](https://unity3d.com/) release). It is open-source, cross platform, and supports software-in-the-loop simulation with popular flight controllers such as PX4 & ArduPilot and hardware-in-loop with PX4 for physically and visually realistic simulations. It is developed as an Unreal plugin that can simply be dropped into any Unreal environment. Similarly, we have an experimental release for a Unity plugin.\n",
    "\n",
    "Our goal is to develop AirSim as a platform for AI research to experiment with deep learning, computer vision and reinforcement learning algorithms for autonomous vehicles. For this purpose, AirSim also exposes APIs to retrieve data and control vehicles in a platform independent way.\n",
    "[![AirSim Drone Demo Video](images/demo_video.png)](https://youtu.be/-WfTr1-OBGQ)"
   ]
  },
  {
   "cell_type": "markdown",
   "metadata": {},
   "source": [
    "\n",
    "#### Install msgpack-rpc-python with tornado 4.5.3\n",
    "To run airsim in jupyter you need msgpack-rpc-python to have an old version of tornado.\n",
    "The latest version of msgpack-rpc-python is 0.4.1, which requires tornado 4.5.3.\n",
    "The latest version of tornado is 6.1, which is not compatible with msgpack-rpc-python.\n",
    "\n",
    "The repo [https://github.com/xaedes/msgpack-rpc-python/tree/with_tornado_453](https://github.com/xaedes/msgpack-rpc-python/tree/with_tornado_453) is a fork of msgpack-rpc-python which\n",
    "includes tornado 4.5.3 directly in the repo. This is not the best solution, but it works.\n",
    "This may not be the best solution, but for me it solves the issue. I can now use jupyterlab and notebook together with msgpack-rpc-python. The example works. It is hard to interrupt the server side tho...\n",
    "\n",
    "To use it, just clone it and checkout the branch with_tornado_453.\n",
    "Remove any existing installation of msgpack-rpc-python:\n",
    "pip uninstall msgpack-rpc-python\n",
    "\n",
    "Install msgpack-rpc-python with integrated tornado from the local directory in which you cloned  fork, for example when you are currently in this directory: \n",
    "```pip install ~/../msgpack-rpc-python```\n"
   ]
  },
  {
   "cell_type": "markdown",
   "metadata": {},
   "source": [
    "#### Install Airsim\n",
    "\n",
    "For the binary releases of Airsim see [https://github.com/microsoft/AirSim/releases/tag/v1.8.1](https://github.com/microsoft/AirSim/releases/tag/v1.8.1)\n",
    "We recommend the linux version as this repo is developed on linux.\n"
   ]
  },
  {
   "cell_type": "markdown",
   "metadata": {},
   "source": [
    "### Checkout UAV and Install the library"
   ]
  },
  {
   "cell_type": "markdown",
   "metadata": {},
   "source": [
    "```sh\n",
    "git clone https://github.com/johnnewto/UAV.git\n",
    "pip install UAV\n",
    "```"
   ]
  },
  {
   "cell_type": "markdown",
   "metadata": {},
   "source": [
    "### Preview Docs"
   ]
  },
  {
   "cell_type": "markdown",
   "metadata": {},
   "source": [
    "Start the preview by entering this into your terminal:\n",
    "\n",
    "```sh\n",
    "nbdev_preview\n",
    "```"
   ]
  },
  {
   "cell_type": "markdown",
   "metadata": {},
   "source": [
    "### Prepare your changes"
   ]
  },
  {
   "cell_type": "markdown",
   "metadata": {},
   "source": [
    "Before commiting your changes to GitHub we recommend running \n",
    "`nbdev_prepare` in the terminal, \n",
    "\n",
    "which bundles the following commands:\n",
    "\n",
    "- `nbdev_export`: Builds the `.py` modules from Jupyter notebooks\n",
    "- `nbdev_test`: Tests your notebooks\n",
    "- `nbdev_clean`: Cleans your notebooks to get rid of extreanous output for git\n",
    "- `nbdev_readme`: Updates your repo's `README.md` file from your index notebook."
   ]
  },
  {
   "cell_type": "markdown",
   "metadata": {},
   "source": [
    "### Update Static site docs\n",
    "Generate the static docs by entering `nbdev_docs ` into your terminal:\n"
   ]
  },
  {
   "cell_type": "markdown",
   "metadata": {},
   "source": [
    "### Push to GitHub"
   ]
  },
  {
   "cell_type": "markdown",
   "metadata": {},
   "source": [
    "You can now commit and push your changes to GitHub. As we mentioned before, always remember to run `nbdev_prepare` before you commit to ensure your modules are exported and your tests pass. You can use `git status` to check which files have been generated or changed. Then:\n",
    "\n",
    "```sh\n",
    "git add .\n",
    "git commit -m 'Add `say_hello`; update index' # Update this text with your own message\n",
    "git push\n",
    "```\n",
    "\n",
    "This will kick-off your GitHub Actions. Wait a minute or two for those to complete, then check your updated repo and documentation."
   ]
  },
  {
   "cell_type": "markdown",
   "metadata": {},
   "source": [
    "## Other"
   ]
  },
  {
   "cell_type": "markdown",
   "metadata": {},
   "source": [
    "### Set up autoreload"
   ]
  },
  {
   "cell_type": "markdown",
   "metadata": {},
   "source": [
    "Since you'll be often updating your modules from one notebook, and using them in another, it's helpful if your notebook automatically reads in the new modules as soon as the Python file changes. To make this happen, just add these lines to the top of your notebook:\n",
    "\n",
    "```sh\n",
    "%load_ext autoreload\n",
    "%autoreload 2\n",
    "```"
   ]
  },
  {
   "cell_type": "code",
   "execution_count": null,
   "metadata": {},
   "outputs": [],
   "source": []
  }
 ],
 "metadata": {
  "kernelspec": {
   "display_name": "python3",
   "language": "python",
   "name": "python3"
  }
 },
 "nbformat": 4,
 "nbformat_minor": 4
}
