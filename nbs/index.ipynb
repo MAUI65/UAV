{
 "cells": [
  {
   "cell_type": "code",
   "execution_count": null,
   "metadata": {},
   "outputs": [],
   "source": [
    "#| hide\n",
    "from UAV.core import *"
   ]
  },
  {
   "cell_type": "markdown",
   "metadata": {},
   "source": [
    "# UAV\n",
    "\n",
    "> All things that go into a UAV: Cameras, Software, Telemetry etc"
   ]
  },
  {
   "cell_type": "markdown",
   "metadata": {},
   "source": [
    "documentation is available at [UAV docs](https://johnnewto.github.io/UAV/)"
   ]
  },
  {
   "cell_type": "markdown",
   "metadata": {},
   "source": [
    "## Guide to developing UAV"
   ]
  },
  {
   "cell_type": "markdown",
   "metadata": {},
   "source": [
    "### Initial setup\n",
    "For a step-by-step guide to using nbdev   [guide to using nbdev](https://nbdev.fast.ai/tutorials/tutorial.html)\n",
    "You'll need the following software to develope using nbdev:\n",
    "\n",
    "1. Python  venv\n",
    "2. A Python package manager: ie pip\n",
    "3. Jupyter Notebook\n",
    "```sh\n",
    "pip install jupyter\n",
    "```\n",
    "4. nbdev\n",
    "```sh\n",
    "pip install nbdev\n",
    "```\n",
    "5. Quarto\n",
    "```sh\n",
    "nbdev_install_quarto\n",
    "```\n",
    "6. Install Quarto JupyterLab extension\n",
    "```sh\n",
    "pip install jupyterlab-quarto\n",
    "```\n",
    "\n",
    "7. Install nbdev pre-commit hooks to catch and fix uncleaned and unexported notebooks\n",
    "```sh\n",
    "pip install pre-commit\n",
    "```\n",
    "see [nbdev Pre-Commit Hooks](https://nbdev.fast.ai/tutorials/pre_commit.html) for more details"
   ]
  },
  {
   "cell_type": "markdown",
   "metadata": {},
   "source": []
  },
  {
   "cell_type": "markdown",
   "metadata": {},
   "source": [
    "### Build the library"
   ]
  },
  {
   "cell_type": "markdown",
   "metadata": {},
   "source": [
    "```sh\n",
    "pip install UAV\n",
    "```"
   ]
  },
  {
   "cell_type": "markdown",
   "metadata": {},
   "source": [
    "### Preview Docs"
   ]
  },
  {
   "cell_type": "markdown",
   "metadata": {},
   "source": [
    "Start the preview by entering this into your terminal:\n",
    "\n",
    "```sh\n",
    "nbdev_preview\n",
    "```"
   ]
  },
  {
   "cell_type": "markdown",
   "metadata": {},
   "source": [
    "### Prepare your changes"
   ]
  },
  {
   "cell_type": "markdown",
   "metadata": {},
   "source": [
    "Before commiting your changes to GitHub we recommend running \n",
    "`nbdev_prepare` in the terminal, \n",
    "\n",
    "which bundles the following commands:\n",
    "\n",
    "- `nbdev_export`: Builds the `.py` modules from Jupyter notebooks\n",
    "- `nbdev_test`: Tests your notebooks\n",
    "- `nbdev_clean`: Cleans your notebooks to get rid of extreanous output for git\n",
    "- `nbdev_readme`: Updates your repo's `README.md` file from your index notebook."
   ]
  },
  {
   "cell_type": "markdown",
   "metadata": {},
   "source": [
    "### Push to GitHub"
   ]
  },
  {
   "cell_type": "markdown",
   "metadata": {},
   "source": [
    "You can now commit and push your changes to GitHub. As we mentioned before, always remember to run `nbdev_prepare` before you commit to ensure your modules are exported and your tests pass. You can use `git status` to check which files have been generated or changed. Then:\n",
    "\n",
    "```sh\n",
    "git add .\n",
    "git commit -m 'Add `say_hello`; update index' # Update this text with your own message\n",
    "git push\n",
    "```\n",
    "\n",
    "This will kick-off your GitHub Actions. Wait a minute or two for those to complete, then check your updated repo and documentation."
   ]
  },
  {
   "cell_type": "markdown",
   "metadata": {},
   "source": [
    "## Other"
   ]
  },
  {
   "cell_type": "markdown",
   "metadata": {},
   "source": [
    "### Set up autoreload"
   ]
  },
  {
   "cell_type": "markdown",
   "metadata": {},
   "source": [
    "Since you'll be often updating your modules from one notebook, and using them in another, it's helpful if your notebook automatically reads in the new modules as soon as the Python file changes. To make this happen, just add these lines to the top of your notebook:\n",
    "\n",
    "```sh\n",
    "%load_ext autoreload\n",
    "%autoreload 2\n",
    "```"
   ]
  },
  {
   "cell_type": "code",
   "execution_count": null,
   "metadata": {},
   "outputs": [],
   "source": []
  }
 ],
 "metadata": {
  "kernelspec": {
   "display_name": "python3",
   "language": "python",
   "name": "python3"
  }
 },
 "nbformat": 4,
 "nbformat_minor": 4
}
