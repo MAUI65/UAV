{
 "cells": [
  {
   "cell_type": "markdown",
   "metadata": {},
   "source": [
    "# core\n",
    "\n",
    "> Fill in a module description here"
   ]
  },
  {
   "cell_type": "code",
   "execution_count": null,
   "metadata": {},
   "outputs": [],
   "source": [
    "#| default_exp core"
   ]
  },
  {
   "cell_type": "code",
   "execution_count": null,
   "metadata": {},
   "outputs": [],
   "source": [
    "#| hide\n",
    "from nbdev.showdoc import *"
   ]
  },
  {
   "cell_type": "code",
   "execution_count": null,
   "metadata": {},
   "outputs": [],
   "source": [
    "#| export\n",
    "def foo(): pass"
   ]
  },
  {
   "cell_type": "code",
   "execution_count": null,
   "metadata": {},
   "outputs": [],
   "source": [
    "#| export\n",
    "def say_gday(\n",
    "    greeting:str=\"G'day\",  # Greeting to use\n",
    "    strine:bool=True,      # Use incomprehensible Aussie accent?\n",
    "    dropbears:bool=False): # Also warn about drop-bears?\n",
    "    \"Says g'day, the classic Aussie greeting\"\n",
    "    ..."
   ]
  },
  {
   "cell_type": "code",
   "execution_count": null,
   "metadata": {},
   "outputs": [
    {
     "data": {
      "text/markdown": "---\n\n### say_gday\n\n>      say_gday (greeting:str=\"G'day\", strine:bool=True, dropbears:bool=False)\n\nSays g'day, the classic Aussie greeting\n\n|    | **Type** | **Default** | **Details** |\n| -- | -------- | ----------- | ----------- |\n| greeting | str | G'day | Greeting to use |\n| strine | bool | True | Use incomprehensible Aussie accent? |\n| dropbears | bool | False | Also warn about drop-bears? |",
      "text/plain": "---\n\n### say_gday\n\n>      say_gday (greeting:str=\"G'day\", strine:bool=True, dropbears:bool=False)\n\nSays g'day, the classic Aussie greeting\n\n|    | **Type** | **Default** | **Details** |\n| -- | -------- | ----------- | ----------- |\n| greeting | str | G'day | Greeting to use |\n| strine | bool | True | Use incomprehensible Aussie accent? |\n| dropbears | bool | False | Also warn about drop-bears? |"
     },
     "execution_count": null,
     "metadata": {},
     "output_type": "execute_result"
    }
   ],
   "source": [
    "show_doc(say_gday)"
   ]
  },
  {
   "cell_type": "markdown",
   "metadata": {},
   "source": [
    "### Markdown for Jupyter notebooks cheatsheet\n",
    "\n",
    "[cheatsheet](https://www.ibm.com/docs/en/watson-studio-local/1.2.3?topic=notebooks-markdown-jupyter-cheatsheet)"
   ]
  },
  {
   "cell_type": "markdown",
   "metadata": {},
   "source": [
    "### Make a requirements.txt file\n",
    "It is used to scan your imports and build a Python requirements file for you. It is a good idea to run this command after you have finished your notebook and before you commit your changes to source control.\n",
    "```sh\n",
    "pip install pipreqs\n",
    "pipreqs --force --mode gt .\n",
    "```"
   ]
  },
  {
   "cell_type": "code",
   "execution_count": null,
   "metadata": {},
   "outputs": [],
   "source": [
    "#| hide\n",
    "import nbdev; nbdev.nbdev_export()"
   ]
  }
 ],
 "metadata": {
  "kernelspec": {
   "display_name": "python3",
   "language": "python",
   "name": "python3"
  }
 },
 "nbformat": 4,
 "nbformat_minor": 4
}
