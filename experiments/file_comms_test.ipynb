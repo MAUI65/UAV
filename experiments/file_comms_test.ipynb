{
 "cells": [
  {
   "cell_type": "code",
   "execution_count": null,
   "id": "initial_id",
   "metadata": {
    "collapsed": true
   },
   "outputs": [],
   "source": [
    "                file_modified = os.path.getmtime(full_path)\n",
    "\n",
    "                try:\n",
    "                    last_changed = self.files[key]\n",
    "                    updated = last_changed < file_modified\n",
    "\n",
    "                    if updated:\n",
    "                        # Update file change time\n",
    "                        self.files[key] = file_modified\n",
    "                except KeyError:\n",
    "                    # We have not seen this file before, add it our dict and\n",
    "                    # broadcast\n",
    "                    self.files[key] = file_modified\n",
    "                    updated = not self._first_run"
   ]
  }
 ],
 "metadata": {
  "kernelspec": {
   "display_name": "Python 3",
   "language": "python",
   "name": "python3"
  },
  "language_info": {
   "codemirror_mode": {
    "name": "ipython",
    "version": 2
   },
   "file_extension": ".py",
   "mimetype": "text/x-python",
   "name": "python",
   "nbconvert_exporter": "python",
   "pygments_lexer": "ipython2",
   "version": "2.7.6"
  }
 },
 "nbformat": 4,
 "nbformat_minor": 5
}
