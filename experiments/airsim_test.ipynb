{
 "cells": [
  {
   "cell_type": "markdown",
   "metadata": {},
   "source": []
  },
  {
   "cell_type": "code",
   "execution_count": 1,
   "metadata": {
    "ExecuteTime": {
     "end_time": "2023-08-20T23:08:51.349129830Z",
     "start_time": "2023-08-20T23:08:51.282457881Z"
    }
   },
   "outputs": [],
   "source": [
    "#| default_exp airsim"
   ]
  },
  {
   "cell_type": "markdown",
   "metadata": {},
   "source": [
    "# Airsim Walkthrough\n",
    ">  Documentation for using Microsoft Airsim in a Jupyter notebook\n",
    ">  Airsim is a simulator for drones, cars and more.\n"
   ]
  },
  {
   "cell_type": "code",
   "execution_count": 2,
   "metadata": {
    "ExecuteTime": {
     "end_time": "2023-08-20T23:08:51.349784528Z",
     "start_time": "2023-08-20T23:08:51.282749673Z"
    }
   },
   "outputs": [],
   "source": [
    "#| hide\n",
    "%load_ext autoreload\n",
    "%autoreload 2"
   ]
  },
  {
   "cell_type": "code",
   "execution_count": null,
   "outputs": [],
   "source": [
    "#| hide\n",
    "# skip_showdoc: true to avoid running cells when rendering docs, and \n",
    "# skip_exec: true to skip this notebook when running tests. \n",
    "# this should be a raw cell "
   ],
   "metadata": {
    "collapsed": false
   }
  },
  {
   "cell_type": "raw",
   "source": [
    "---\n",
    "skip_showdoc: true\n",
    "skip_exec: true\n",
    "---"
   ],
   "metadata": {
    "collapsed": false
   }
  },
  {
   "cell_type": "code",
   "execution_count": 1,
   "outputs": [
    {
     "ename": "AssertionError",
     "evalue": "skip this cell",
     "output_type": "error",
     "traceback": [
      "\u001B[0;31m---------------------------------------------------------------------------\u001B[0m",
      "\u001B[0;31mAssertionError\u001B[0m                            Traceback (most recent call last)",
      "Cell \u001B[0;32mIn[1], line 1\u001B[0m\n\u001B[0;32m----> 1\u001B[0m \u001B[38;5;28;01massert\u001B[39;00m \u001B[38;5;28;01mFalse\u001B[39;00m, \u001B[38;5;124m\"\u001B[39m\u001B[38;5;124mskip this cell\u001B[39m\u001B[38;5;124m\"\u001B[39m\n",
      "\u001B[0;31mAssertionError\u001B[0m: skip this cell"
     ]
    }
   ],
   "source": [
    "assert False, \"skip this cell\""
   ],
   "metadata": {
    "collapsed": false,
    "ExecuteTime": {
     "end_time": "2023-08-20T23:13:09.947586117Z",
     "start_time": "2023-08-20T23:13:09.878539445Z"
    }
   }
  },
  {
   "cell_type": "code",
   "execution_count": 3,
   "metadata": {
    "ExecuteTime": {
     "end_time": "2023-08-20T23:08:51.350061439Z",
     "start_time": "2023-08-20T23:08:51.282908836Z"
    }
   },
   "outputs": [],
   "source": [
    "#| hide\n",
    "from fastcore.utils import *\n",
    "import cv2\n",
    "import numpy as np\n",
    "from imutils import resize\n",
    "\n",
    "import time"
   ]
  },
  {
   "cell_type": "code",
   "execution_count": 4,
   "metadata": {
    "ExecuteTime": {
     "end_time": "2023-08-20T23:08:51.398076492Z",
     "start_time": "2023-08-20T23:08:51.334693882Z"
    }
   },
   "outputs": [],
   "source": [
    "#| hide\n",
    "from nbdev.showdoc import *\n",
    "from fastcore.test import *\n"
   ]
  },
  {
   "cell_type": "code",
   "execution_count": 5,
   "metadata": {
    "ExecuteTime": {
     "end_time": "2023-08-20T23:08:51.624459227Z",
     "start_time": "2023-08-20T23:08:51.381524598Z"
    }
   },
   "outputs": [],
   "source": [
    "from UAV.utils.display import *\n",
    "from UAV.utils.sim_linux import *\n",
    "from UAV.airsim_client import *\n",
    "# import UAV.utils.sim_linux as sim"
   ]
  },
  {
   "cell_type": "markdown",
   "metadata": {},
   "source": [
    "### Run a loop grabbing the camera"
   ]
  },
  {
   "cell_type": "code",
   "execution_count": null,
   "metadata": {
    "ExecuteTime": {
     "start_time": "2023-08-20T23:08:51.666472352Z"
    }
   },
   "outputs": [
    {
     "name": "stdout",
     "output_type": "stream",
     "text": [
      "Starting Airsim  ['/home/jn/Airsim/AirSimNH/LinuxNoEditor/AirSimNH/Binaries/Linux/AirSimNH', '-ResX=800', '-ResY=600', '-windowed', '-settings=/home/jn/PycharmProjects/UAV/UAV/config/settings_high_res.json']\n",
      "Started Airsim AirSimNH\n",
      "Connected!\n",
      "Client Ver:1 (Min Req: 1), Server Ver:1 (Min Req: 1)\n",
      "\n",
      "Connected!\n",
      "Client Ver:1 (Min Req: 1), Server Ver:1 (Min Req: 1)\n",
      "\n",
      "This script is designed to fly on the streets of the Neighborhood environment\n",
      "    and assumes the unreal position of the drone is [160, -1500, 120].\n",
      "arming the drone...\n",
      "taking off...\n",
      "make sure we are hovering at 5 meters...\n",
      "flying on path...\n",
      "cancelLastTask\n",
      "returning home...\n",
      "cancelLastTask\n",
      "landing...\n",
      "disarming...\n",
      "cancelLastTask\n",
      "cancelLastTask\n"
     ]
    }
   ],
   "source": [
    "\n",
    "import NH_path\n",
    "import threading\n",
    "\n",
    "rs = RunSim(\"AirSimNH\", settings=\"config/settings_high_res.json\")\n",
    "\n",
    "asc = AirSimClient()\n",
    "\n",
    "t = threading.Thread(target=NH_path.do_all, daemon=True)\n",
    "t.start()\n",
    "\n",
    "framecounter = 1\n",
    "cam_num = 0\n",
    "cams = [\"high_res\", \"front_center\", \"front_right\", \"front_left\", \"bottom_center\", \"back_center\"]\n",
    "# with VideoWriter(\"images/airsim_test.mp4\", 5.0) as video:\n",
    "\n",
    "while(True):\n",
    "    framecounter += 1\n",
    "    state = asc.getMultirotorState()\n",
    "    pos = state.kinematics_estimated.position\n",
    "    img = asc.get_image(cams[cam_num], rgb2bgr=False)\n",
    "    puttext(img, f\"Frame: {framecounter} Pos: {pos.x_val:.2f}, {pos.y_val:.2f}, {pos.z_val:.2f}\")\n",
    "    img = resize(img, width=500)\n",
    "    cv2.imshow(\"Camera\", img)\n",
    "    \n",
    "    # video.add(img_bgr)\n",
    "    k = cv2.waitKey(10)\n",
    "    if k == ord('q') or k == ord('Q'):\n",
    "        print(\"cancelLastTask\")\n",
    "        asc.cancelLastTask()\n",
    "        # print(f\"Landed state:  {state.landed_state}\")\n",
    "        if state.landed_state == 0:\n",
    "            print(\"Landed state = 0,  so quiting\")\n",
    "            break  \n",
    "    \n",
    "    if k == ord('c') or k == ord('C'):\n",
    "        cam_num += 1\n",
    "        if cam_num >= len(cams):\n",
    "            cam_num = 0\n",
    "        print(f\"Camera: {cams[cam_num]}\")\n",
    "        \n",
    "    if k == 27:\n",
    "        NH_path.stop()\n",
    "        break\n",
    "        \n",
    "    # if framecounter > 50:\n",
    "    #     break\n",
    "\n",
    "asc.armDisarm(False)\n",
    "asc.enableApiControl(False)\n",
    "t.join(timeout=5)\n",
    "cv2.destroyAllWindows()\n",
    "rs.exit()\n",
    "\n",
    "\n",
    "# video.show(width=500)"
   ]
  },
  {
   "cell_type": "code",
   "execution_count": null,
   "metadata": {},
   "outputs": [],
   "source": [
    "#| hide\n",
    "# from nbdev import nbdev_export\n",
    "# nbdev_export()"
   ]
  }
 ],
 "metadata": {
  "kernelspec": {
   "display_name": "python3",
   "language": "python",
   "name": "python3"
  }
 },
 "nbformat": 4,
 "nbformat_minor": 4
}
