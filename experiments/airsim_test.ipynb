{
 "cells": [
  {
   "cell_type": "markdown",
   "metadata": {},
   "source": []
  },
  {
   "cell_type": "code",
   "execution_count": 1,
   "metadata": {
    "ExecuteTime": {
     "end_time": "2023-08-17T04:21:05.102851588Z",
     "start_time": "2023-08-17T04:21:05.094185175Z"
    }
   },
   "outputs": [],
   "source": [
    "#| default_exp airsim"
   ]
  },
  {
   "cell_type": "markdown",
   "metadata": {},
   "source": [
    "# Airsim Walkthrough\n",
    ">  Documentation for using Microsoft Airsim in a Jupyter notebook\n",
    ">  Airsim is a simulator for drones, cars and more.\n"
   ]
  },
  {
   "cell_type": "code",
   "execution_count": 2,
   "metadata": {
    "ExecuteTime": {
     "end_time": "2023-08-17T04:21:05.103051594Z",
     "start_time": "2023-08-17T04:21:05.094313710Z"
    }
   },
   "outputs": [],
   "source": [
    "#| hide\n",
    "%load_ext autoreload\n",
    "%autoreload 2"
   ]
  },
  {
   "cell_type": "raw",
   "metadata": {},
   "source": [
    "---\n",
    "skip_showdoc: true\n",
    "skip_exec: true\n",
    "---"
   ]
  },
  {
   "cell_type": "code",
   "execution_count": 3,
   "metadata": {
    "ExecuteTime": {
     "end_time": "2023-08-17T04:21:05.178535614Z",
     "start_time": "2023-08-17T04:21:05.094354849Z"
    }
   },
   "outputs": [],
   "source": [
    "#| hide\n",
    "from fastcore.utils import *\n",
    "import cv2\n",
    "import numpy as np\n",
    "from imutils import resize\n",
    "\n",
    "import time"
   ]
  },
  {
   "cell_type": "code",
   "execution_count": 4,
   "metadata": {
    "ExecuteTime": {
     "end_time": "2023-08-17T04:21:05.203499317Z",
     "start_time": "2023-08-17T04:21:05.152294895Z"
    }
   },
   "outputs": [],
   "source": [
    "#| hide\n",
    "from nbdev.showdoc import *\n",
    "from fastcore.test import *\n"
   ]
  },
  {
   "cell_type": "code",
   "execution_count": 5,
   "metadata": {
    "ExecuteTime": {
     "end_time": "2023-08-17T04:21:05.444352055Z",
     "start_time": "2023-08-17T04:21:05.200506407Z"
    }
   },
   "outputs": [],
   "source": [
    "from UAV.utils.display import *\n",
    "from UAV.utils.sim_linux import *\n",
    "from UAV.airsim_client import *\n",
    "# import UAV.utils.sim_linux as sim"
   ]
  },
  {
   "cell_type": "markdown",
   "metadata": {},
   "source": [
    "### Run a loop grabbing the camera"
   ]
  },
  {
   "cell_type": "code",
   "execution_count": 6,
   "metadata": {
    "ExecuteTime": {
     "end_time": "2023-08-17T04:21:11.788789582Z",
     "start_time": "2023-08-17T04:21:05.448986086Z"
    }
   },
   "outputs": [
    {
     "name": "stdout",
     "output_type": "stream",
     "text": [
      "Starting Airsim  ['/home/jn/Airsim/AirSimNH/LinuxNoEditor/AirSimNH/Binaries/Linux/AirSimNH', '-ResX=800', '-ResY=600', '-windowed', '-settings=/home/jn/PycharmProjects/UAV/UAV/config/settings_high_res.json']\n",
      "Started Airsim AirSimNH\n",
      "Connected!\n",
      "Client Ver:1 (Min Req: 1), Server Ver:1 (Min Req: 1)\n",
      "\n",
      "Connected!\n",
      "Client Ver:1 (Min Req: 1), Server Ver:1 (Min Req: 1)\n",
      "\n",
      "This script is designed to fly on the streets of the Neighborhood environment\n",
      "    and assumes the unreal position of the drone is [160, -1500, 120].\n",
      "arming the drone...\n",
      "taking off...\n"
     ]
    },
    {
     "ename": "RuntimeError",
     "evalue": "IOLoop is already running",
     "output_type": "error",
     "traceback": [
      "\u001B[0;31m---------------------------------------------------------------------------\u001B[0m",
      "\u001B[0;31mRuntimeError\u001B[0m                              Traceback (most recent call last)",
      "Cell \u001B[0;32mIn[6], line 42\u001B[0m\n\u001B[1;32m     39\u001B[0m     \u001B[38;5;28mprint\u001B[39m(\u001B[38;5;124mf\u001B[39m\u001B[38;5;124m\"\u001B[39m\u001B[38;5;124mCamera: \u001B[39m\u001B[38;5;132;01m{\u001B[39;00mcams[cam_num]\u001B[38;5;132;01m}\u001B[39;00m\u001B[38;5;124m\"\u001B[39m)\n\u001B[1;32m     41\u001B[0m \u001B[38;5;28;01mif\u001B[39;00m k \u001B[38;5;241m==\u001B[39m \u001B[38;5;241m27\u001B[39m:\n\u001B[0;32m---> 42\u001B[0m     \u001B[43mNH_path\u001B[49m\u001B[38;5;241;43m.\u001B[39;49m\u001B[43mstop\u001B[49m\u001B[43m(\u001B[49m\u001B[43m)\u001B[49m\n\u001B[1;32m     43\u001B[0m     \u001B[38;5;28;01mbreak\u001B[39;00m\n\u001B[1;32m     45\u001B[0m \u001B[38;5;66;03m# if framecounter > 50:\u001B[39;00m\n\u001B[1;32m     46\u001B[0m \u001B[38;5;66;03m#     break\u001B[39;00m\n",
      "File \u001B[0;32m~/PycharmProjects/UAV/experiments/NH_path.py:87\u001B[0m, in \u001B[0;36mstop\u001B[0;34m()\u001B[0m\n\u001B[1;32m     85\u001B[0m \u001B[38;5;28;01mglobal\u001B[39;00m _stop\n\u001B[1;32m     86\u001B[0m _stop \u001B[38;5;241m=\u001B[39m \u001B[38;5;28;01mTrue\u001B[39;00m\n\u001B[0;32m---> 87\u001B[0m \u001B[43m_client\u001B[49m\u001B[38;5;241;43m.\u001B[39;49m\u001B[43mcancelLastTask\u001B[49m\u001B[43m(\u001B[49m\u001B[43m)\u001B[49m\n",
      "File \u001B[0;32m~/PycharmProjects/UAV/UAV/airsim_python_client/client.py:1032\u001B[0m, in \u001B[0;36mVehicleClient.cancelLastTask\u001B[0;34m(self, vehicle_name)\u001B[0m\n\u001B[1;32m   1025\u001B[0m \u001B[38;5;28;01mdef\u001B[39;00m \u001B[38;5;21mcancelLastTask\u001B[39m(\u001B[38;5;28mself\u001B[39m, vehicle_name \u001B[38;5;241m=\u001B[39m \u001B[38;5;124m'\u001B[39m\u001B[38;5;124m'\u001B[39m):\n\u001B[1;32m   1026\u001B[0m \u001B[38;5;250m    \u001B[39m\u001B[38;5;124;03m\"\"\"\u001B[39;00m\n\u001B[1;32m   1027\u001B[0m \u001B[38;5;124;03m    Cancel previous Async task\u001B[39;00m\n\u001B[1;32m   1028\u001B[0m \n\u001B[1;32m   1029\u001B[0m \u001B[38;5;124;03m    Args:\u001B[39;00m\n\u001B[1;32m   1030\u001B[0m \u001B[38;5;124;03m        vehicle_name (str, optional): Name of the vehicle\u001B[39;00m\n\u001B[1;32m   1031\u001B[0m \u001B[38;5;124;03m    \"\"\"\u001B[39;00m\n\u001B[0;32m-> 1032\u001B[0m     \u001B[38;5;28;43mself\u001B[39;49m\u001B[38;5;241;43m.\u001B[39;49m\u001B[43mclient\u001B[49m\u001B[38;5;241;43m.\u001B[39;49m\u001B[43mcall\u001B[49m\u001B[43m(\u001B[49m\u001B[38;5;124;43m'\u001B[39;49m\u001B[38;5;124;43mcancelLastTask\u001B[39;49m\u001B[38;5;124;43m'\u001B[39;49m\u001B[43m,\u001B[49m\u001B[43m \u001B[49m\u001B[43mvehicle_name\u001B[49m\u001B[43m)\u001B[49m\n",
      "File \u001B[0;32m~/PycharmProjects/UAV/venv/lib/python3.10/site-packages/msgpackrpc/session.py:41\u001B[0m, in \u001B[0;36mSession.call\u001B[0;34m(self, method, *args)\u001B[0m\n\u001B[1;32m     40\u001B[0m \u001B[38;5;28;01mdef\u001B[39;00m \u001B[38;5;21mcall\u001B[39m(\u001B[38;5;28mself\u001B[39m, method, \u001B[38;5;241m*\u001B[39margs):\n\u001B[0;32m---> 41\u001B[0m     \u001B[38;5;28;01mreturn\u001B[39;00m \u001B[38;5;28;43mself\u001B[39;49m\u001B[38;5;241;43m.\u001B[39;49m\u001B[43msend_request\u001B[49m\u001B[43m(\u001B[49m\u001B[43mmethod\u001B[49m\u001B[43m,\u001B[49m\u001B[43m \u001B[49m\u001B[43margs\u001B[49m\u001B[43m)\u001B[49m\u001B[38;5;241;43m.\u001B[39;49m\u001B[43mget\u001B[49m\u001B[43m(\u001B[49m\u001B[43m)\u001B[49m\n",
      "File \u001B[0;32m~/PycharmProjects/UAV/venv/lib/python3.10/site-packages/msgpackrpc/future.py:25\u001B[0m, in \u001B[0;36mFuture.get\u001B[0;34m(self)\u001B[0m\n\u001B[1;32m     24\u001B[0m \u001B[38;5;28;01mdef\u001B[39;00m \u001B[38;5;21mget\u001B[39m(\u001B[38;5;28mself\u001B[39m):\n\u001B[0;32m---> 25\u001B[0m     \u001B[38;5;28;43mself\u001B[39;49m\u001B[38;5;241;43m.\u001B[39;49m\u001B[43mjoin\u001B[49m\u001B[43m(\u001B[49m\u001B[43m)\u001B[49m\n\u001B[1;32m     27\u001B[0m     \u001B[38;5;28;01massert\u001B[39;00m \u001B[38;5;28mself\u001B[39m\u001B[38;5;241m.\u001B[39m_set_flag \u001B[38;5;241m==\u001B[39m \u001B[38;5;28;01mTrue\u001B[39;00m\n\u001B[1;32m     28\u001B[0m     \u001B[38;5;28;01mif\u001B[39;00m \u001B[38;5;129;01mnot\u001B[39;00m \u001B[38;5;28mself\u001B[39m\u001B[38;5;241m.\u001B[39m_set_flag:\n\u001B[1;32m     29\u001B[0m         \u001B[38;5;66;03m# TODO: should be designed error !!\u001B[39;00m\n",
      "File \u001B[0;32m~/PycharmProjects/UAV/venv/lib/python3.10/site-packages/msgpackrpc/future.py:22\u001B[0m, in \u001B[0;36mFuture.join\u001B[0;34m(self)\u001B[0m\n\u001B[1;32m     20\u001B[0m \u001B[38;5;28;01mdef\u001B[39;00m \u001B[38;5;21mjoin\u001B[39m(\u001B[38;5;28mself\u001B[39m):\n\u001B[1;32m     21\u001B[0m     \u001B[38;5;28;01mwhile\u001B[39;00m (\u001B[38;5;129;01mnot\u001B[39;00m \u001B[38;5;28mself\u001B[39m\u001B[38;5;241m.\u001B[39m_set_flag):\n\u001B[0;32m---> 22\u001B[0m         \u001B[38;5;28;43mself\u001B[39;49m\u001B[38;5;241;43m.\u001B[39;49m\u001B[43m_loop\u001B[49m\u001B[38;5;241;43m.\u001B[39;49m\u001B[43mstart\u001B[49m\u001B[43m(\u001B[49m\u001B[43m)\u001B[49m\n",
      "File \u001B[0;32m~/PycharmProjects/UAV/venv/lib/python3.10/site-packages/msgpackrpc/loop.py:22\u001B[0m, in \u001B[0;36mLoop.start\u001B[0;34m(self)\u001B[0m\n\u001B[1;32m     17\u001B[0m \u001B[38;5;28;01mdef\u001B[39;00m \u001B[38;5;21mstart\u001B[39m(\u001B[38;5;28mself\u001B[39m):\n\u001B[1;32m     18\u001B[0m \u001B[38;5;250m    \u001B[39m\u001B[38;5;124;03m\"\"\"\\\u001B[39;00m\n\u001B[1;32m     19\u001B[0m \u001B[38;5;124;03m    Starts the Tornado's ioloop if it's not running.\u001B[39;00m\n\u001B[1;32m     20\u001B[0m \u001B[38;5;124;03m    \"\"\"\u001B[39;00m\n\u001B[0;32m---> 22\u001B[0m     \u001B[38;5;28;43mself\u001B[39;49m\u001B[38;5;241;43m.\u001B[39;49m\u001B[43m_ioloop\u001B[49m\u001B[38;5;241;43m.\u001B[39;49m\u001B[43mstart\u001B[49m\u001B[43m(\u001B[49m\u001B[43m)\u001B[49m\n",
      "File \u001B[0;32m~/PycharmProjects/UAV/venv/lib/python3.10/site-packages/msgpackrpc/tornado/ioloop.py:755\u001B[0m, in \u001B[0;36mPollIOLoop.start\u001B[0;34m(self)\u001B[0m\n\u001B[1;32m    753\u001B[0m \u001B[38;5;28;01mdef\u001B[39;00m \u001B[38;5;21mstart\u001B[39m(\u001B[38;5;28mself\u001B[39m):\n\u001B[1;32m    754\u001B[0m     \u001B[38;5;28;01mif\u001B[39;00m \u001B[38;5;28mself\u001B[39m\u001B[38;5;241m.\u001B[39m_running:\n\u001B[0;32m--> 755\u001B[0m         \u001B[38;5;28;01mraise\u001B[39;00m \u001B[38;5;167;01mRuntimeError\u001B[39;00m(\u001B[38;5;124m\"\u001B[39m\u001B[38;5;124mIOLoop is already running\u001B[39m\u001B[38;5;124m\"\u001B[39m)\n\u001B[1;32m    756\u001B[0m     \u001B[38;5;28mself\u001B[39m\u001B[38;5;241m.\u001B[39m_setup_logging()\n\u001B[1;32m    757\u001B[0m     \u001B[38;5;28;01mif\u001B[39;00m \u001B[38;5;28mself\u001B[39m\u001B[38;5;241m.\u001B[39m_stopped:\n",
      "\u001B[0;31mRuntimeError\u001B[0m: IOLoop is already running"
     ]
    }
   ],
   "source": [
    "\n",
    "import NH_path\n",
    "import threading\n",
    "\n",
    "rs = RunSim(\"AirSimNH\", settings=\"config/settings_high_res.json\")\n",
    "\n",
    "asc = AirSimClient()\n",
    "\n",
    "t = threading.Thread(target=NH_path.do_all, daemon=True)\n",
    "t.start()\n",
    "\n",
    "framecounter = 1\n",
    "cam_num = 0\n",
    "cams = [\"high_res\", \"front_center\", \"front_right\", \"front_left\", \"bottom_center\", \"back_center\"]\n",
    "# with VideoWriter(\"images/airsim_test.mp4\", 5.0) as video:\n",
    "\n",
    "while(True):\n",
    "    framecounter += 1\n",
    "    state = asc.getMultirotorState()\n",
    "    pos = state.kinematics_estimated.position\n",
    "    img = asc.get_image(cams[cam_num], rgb2bgr=False)\n",
    "    puttext(img, f\"Frame: {framecounter} Pos: {pos.x_val:.2f}, {pos.y_val:.2f}, {pos.z_val:.2f}\")\n",
    "    img = resize(img, width=500)\n",
    "    cv2.imshow(\"Camera\", img)\n",
    "    \n",
    "    # video.add(img_bgr)\n",
    "    k = cv2.waitKey(10)\n",
    "    if k == ord('q') or k == ord('Q'):\n",
    "        print(\"cancelLastTask\")\n",
    "        asc.cancelLastTask()\n",
    "        # print(f\"Landed state:  {state.landed_state}\")\n",
    "        if state.landed_state == 0:\n",
    "            print(\"Landed state = 0,  so quiting\")\n",
    "            break  \n",
    "    \n",
    "    if k == ord('c') or k == ord('C'):\n",
    "        cam_num += 1\n",
    "        if cam_num >= len(cams):\n",
    "            cam_num = 0\n",
    "        print(f\"Camera: {cams[cam_num]}\")\n",
    "        \n",
    "    if k == 27:\n",
    "        NH_path.stop()\n",
    "        break\n",
    "        \n",
    "    # if framecounter > 50:\n",
    "    #     break\n",
    "\n",
    "asc.armDisarm(False)\n",
    "asc.enableApiControl(False)\n",
    "t.join(timeout=5)\n",
    "cv2.destroyAllWindows()\n",
    "rs.exit()\n",
    "\n",
    "\n",
    "# video.show(width=500)"
   ]
  },
  {
   "cell_type": "code",
   "execution_count": null,
   "metadata": {
    "ExecuteTime": {
     "end_time": "2023-08-17T04:21:11.814899294Z",
     "start_time": "2023-08-17T04:21:11.790872843Z"
    }
   },
   "outputs": [],
   "source": [
    "#| hide\n",
    "# from nbdev import nbdev_export\n",
    "# nbdev_export()"
   ]
  }
 ],
 "metadata": {
  "kernelspec": {
   "display_name": "python3",
   "language": "python",
   "name": "python3"
  }
 },
 "nbformat": 4,
 "nbformat_minor": 4
}
