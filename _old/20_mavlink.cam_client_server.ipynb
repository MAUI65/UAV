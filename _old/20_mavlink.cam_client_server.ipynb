{
 "cells": [
  {
   "cell_type": "markdown",
   "metadata": {},
   "source": []
  },
  {
   "cell_type": "markdown",
   "metadata": {},
   "source": [
    "# Mavlink  Client and Server\n",
    "> Mavlink classes for Client and server.\n",
    "> The server is on the companion computer and the client is on the ground station PC.\n",
    "\n",
    "[https://mavlink.io/en/mavgen_python/](https://mavlink.io/en/mavgen_python/)\n",
    "[https://www.ardusub.com/developers/pymavlink.html](https://www.ardusub.com/developers/pymavlink.html)\n",
    "\n",
    "https://mavlink.io/en/messages/common.html\n",
    "https://mavlink.io/en/messages/common.html#MAV_TYPE\n",
    "\n"
   ]
  },
  {
   "cell_type": "code",
   "execution_count": null,
   "metadata": {},
   "outputs": [],
   "source": [
    "#| default_exp mavlink.cam_client_server"
   ]
  },
  {
   "cell_type": "code",
   "execution_count": null,
   "metadata": {},
   "outputs": [],
   "source": [
    "#| hide\n",
    "%load_ext autoreload\n",
    "%autoreload 2"
   ]
  },
  {
   "cell_type": "code",
   "execution_count": null,
   "metadata": {},
   "outputs": [],
   "source": [
    "#| hide\n",
    "# skip_showdoc: true to avoid running cells when rendering docs, and \n",
    "# skip_exec: true to skip this notebook when running tests. \n",
    "# this should be a raw cell "
   ]
  },
  {
   "cell_type": "code",
   "execution_count": null,
   "metadata": {},
   "outputs": [],
   "source": []
  },
  {
   "cell_type": "raw",
   "metadata": {},
   "source": [
    "---\n",
    "skip_showdoc: true\n",
    "skip_exec: true\n",
    "---"
   ]
  },
  {
   "cell_type": "code",
   "execution_count": null,
   "metadata": {},
   "outputs": [],
   "source": [
    "#| export\n",
    "\n",
    "from UAV.mavlink.base import MavLinkBase , UAV_SYSTEM_VEHICLE_ID, UAV_SYSTEM_GCS_CLIENT_ID, mavutil \n",
    "\n",
    "# from UAV.imports import *   # TODO why is this relative import on nbdev_export?\n"
   ]
  },
  {
   "cell_type": "code",
   "execution_count": null,
   "metadata": {},
   "outputs": [],
   "source": []
  },
  {
   "cell_type": "code",
   "execution_count": null,
   "metadata": {},
   "outputs": [],
   "source": [
    "# logging.getLogger(\"uav\").setLevel(logging.INFO)"
   ]
  },
  {
   "cell_type": "code",
   "execution_count": null,
   "metadata": {},
   "outputs": [],
   "source": [
    "#| hide\n",
    "from fastcore.utils import *\n",
    "from nbdev.showdoc import *\n",
    "from fastcore.test import *"
   ]
  },
  {
   "cell_type": "code",
   "execution_count": null,
   "metadata": {},
   "outputs": [],
   "source": [
    "#| export\n",
    "class CamClient(MavLinkBase):\n",
    " \n",
    "    def __init__(self, connection_string, # \"udpin:localhost:14550\"\n",
    "                 baudrate=57600, #baud rate of the serial port\n",
    "                 mav_type=mavutil.mavlink.MAV_TYPE_GCS, # type used in heartbeat\n",
    "                 server_system_ID=UAV_SYSTEM_VEHICLE_ID,  # remote or air uav system   1 = vehicle\n",
    "                 client_system_ID=UAV_SYSTEM_GCS_CLIENT_ID,  # GCS system   255 = GCS\n",
    "                 debug=False, # logging level\n",
    "                 ):    \n",
    "        super(CamClient, self).__init__( connection_string = connection_string,\n",
    "                baudrate=baudrate, #baud rate of the serial port\n",
    "                server_system_ID= server_system_ID,  # remote or air uav system   1 = vehicle\n",
    "                client_system_ID= client_system_ID,  # GCS system   255 = GCS\n",
    "                debug=debug, # logging level                   \n",
    "                )\n",
    "        self.client(mav_type=mav_type) # run as client\n",
    "\n",
    "    def trigger_camera(self, camera_id:int=1): # camera id (0 for all cams)\n",
    "        \"\"\"\n",
    "        Use MAV_CMD_DO_DIGICAM_CONTROL to trigger a camera \n",
    "        \"\"\"\n",
    "        self.send_command(mavutil.mavlink.MAV_CMD_DO_DIGICAM_CONTROL, \n",
    "                          [camera_id,  # param1 (session)  or cam # (0 for all cams)\n",
    "                           1,  # param2 (trigger capture)\n",
    "                           0,  # param3 (zoom pos)\n",
    "                           0,  # param4 (zoom step)\n",
    "                           0,  # param5 (focus lock)\n",
    "                           0,  # param6 (shot ID)\n",
    "                           0,  # param7 (command ID)\n",
    "                          ])\n",
    "        self.wait_ack(mavutil.mavlink.MAV_CMD_DO_DIGICAM_CONTROL)\n",
    "        self.log.info(\"Camera triggered\")\n",
    "        \n",
    "        \n",
    "class CamServer(MavLinkBase):\n",
    "    def __init__(self, connection_string, # \"udpin:localhost:14550\"\n",
    "             baudrate=57600, #baud rate of the serial port\n",
    "             mav_type=mavutil.mavlink.MAV_TYPE_CAMERA, # type used in heartbeat\n",
    "             server_system_ID=UAV_SYSTEM_VEHICLE_ID,  # remote or air uav system   1 = vehicle\n",
    "             client_system_ID=UAV_SYSTEM_GCS_CLIENT_ID,  # GCS system   255 = GCS\n",
    "             debug=False, # logging level\n",
    "             ):    \n",
    "        super(CamServer, self).__init__( connection_string = connection_string,\n",
    "                baudrate=baudrate, #baud rate of the serial port\n",
    "                server_system_ID= server_system_ID,  # remote or air uav system   1 = vehicle\n",
    "                client_system_ID= client_system_ID,  # GCS system   255 = GCS\n",
    "                debug=debug, # logging level\n",
    "                )\n",
    "        self.num_commands_received = 0\n",
    "        self.num_acks_received = 0\n",
    "        self.server(mav_type=mav_type) # run as server\n",
    "\n",
    "def test_cam_client_server():\n",
    "    from fastcore.test import test_eq\n",
    "    with CamClient(\"udpin:localhost:14445\", debug=False) as client:\n",
    "        with CamServer(\"udpout:localhost:14445\", debug=False) as server:\n",
    "            client.wait_heartbeat()\n",
    "\n",
    "            for i in range(5):\n",
    "                client.trigger_camera(2)\n",
    "                server._test_command(2)\n",
    "\n",
    "    print()\n",
    "    print(f\"server sys: {server.source_system};  msgs: {server.message_cnts}\")\n",
    "    print(f\"client sys: {client.source_system};  msgs: {client.message_cnts}\")\n",
    "\n",
    "    test_eq(server.server_system_ID, server.source_system)\n",
    "    test_eq(client.client_system_ID, client.source_system)\n",
    "    test_eq(client.num_commands_sent, server.num_commands_received)\n",
    "    test_eq(client.num_acks_received, server.num_commands_received)\n",
    "    test_eq(server.message_cnts[222]['COMMAND_LONG'], client.message_cnts[111]['COMMAND_ACK'])\n",
    "    assert client.message_cnts[111]['HEARTBEAT'] >= 1\n",
    "    \n",
    "#test_cam_client_server()"
   ]
  },
  {
   "cell_type": "code",
   "execution_count": null,
   "metadata": {},
   "outputs": [
    {
     "data": {
      "text/markdown": "---\n\n[source](https://github.com/johnnewto/UAV/blob/main/UAV/mavlink/cam_client_server.py#L13){target=\"_blank\" style=\"float:right; font-size:smaller\"}\n\n### CamClient\n\n>      CamClient (connection_string, baudrate=57600, mav_type=6,\n>                 server_system_ID=1, client_system_ID=200, debug=False)\n\nMavlink Camera Base\n\n|    | **Type** | **Default** | **Details** |\n| -- | -------- | ----------- | ----------- |\n| connection_string |  |  | \"udpin:localhost:14550\" |\n| baudrate | int | 57600 | baud rate of the serial port |\n| mav_type | int | 6 | type used in heartbeat |\n| server_system_ID | int | 1 | remote or air uav system   1 = vehicle |\n| client_system_ID | int | 200 | GCS system   255 = GCS |\n| debug | bool | False | logging level |",
      "text/plain": "---\n\n[source](https://github.com/johnnewto/UAV/blob/main/UAV/mavlink/cam_client_server.py#L13){target=\"_blank\" style=\"float:right; font-size:smaller\"}\n\n### CamClient\n\n>      CamClient (connection_string, baudrate=57600, mav_type=6,\n>                 server_system_ID=1, client_system_ID=200, debug=False)\n\nMavlink Camera Base\n\n|    | **Type** | **Default** | **Details** |\n| -- | -------- | ----------- | ----------- |\n| connection_string |  |  | \"udpin:localhost:14550\" |\n| baudrate | int | 57600 | baud rate of the serial port |\n| mav_type | int | 6 | type used in heartbeat |\n| server_system_ID | int | 1 | remote or air uav system   1 = vehicle |\n| client_system_ID | int | 200 | GCS system   255 = GCS |\n| debug | bool | False | logging level |"
     },
     "execution_count": null,
     "metadata": {},
     "output_type": "execute_result"
    }
   ],
   "source": [
    "show_doc(CamClient)"
   ]
  },
  {
   "cell_type": "code",
   "execution_count": null,
   "metadata": {},
   "outputs": [
    {
     "data": {
      "text/markdown": "---\n\n[source](https://github.com/johnnewto/UAV/blob/main/UAV/mavlink/cam_client_server.py#L30){target=\"_blank\" style=\"float:right; font-size:smaller\"}\n\n### CamClient.trigger_camera\n\n>      CamClient.trigger_camera (camera_id:int=1)\n\nUse MAV_CMD_DO_DIGICAM_CONTROL to trigger a camera\n\n|    | **Type** | **Default** | **Details** |\n| -- | -------- | ----------- | ----------- |\n| camera_id | int | 1 | camera id (0 for all cams) |",
      "text/plain": "---\n\n[source](https://github.com/johnnewto/UAV/blob/main/UAV/mavlink/cam_client_server.py#L30){target=\"_blank\" style=\"float:right; font-size:smaller\"}\n\n### CamClient.trigger_camera\n\n>      CamClient.trigger_camera (camera_id:int=1)\n\nUse MAV_CMD_DO_DIGICAM_CONTROL to trigger a camera\n\n|    | **Type** | **Default** | **Details** |\n| -- | -------- | ----------- | ----------- |\n| camera_id | int | 1 | camera id (0 for all cams) |"
     },
     "execution_count": null,
     "metadata": {},
     "output_type": "execute_result"
    }
   ],
   "source": [
    "show_doc(CamClient.trigger_camera)\n"
   ]
  },
  {
   "cell_type": "code",
   "execution_count": null,
   "metadata": {},
   "outputs": [
    {
     "data": {
      "text/markdown": "---\n\n[source](https://github.com/johnnewto/UAV/blob/main/UAV/mavlink/cam_client_server.py#L47){target=\"_blank\" style=\"float:right; font-size:smaller\"}\n\n### CamServer\n\n>      CamServer (connection_string, baudrate=57600, mav_type=30,\n>                 server_system_ID=1, client_system_ID=200, debug=False)\n\nMavlink Camera Base\n\n|    | **Type** | **Default** | **Details** |\n| -- | -------- | ----------- | ----------- |\n| connection_string |  |  | \"udpin:localhost:14550\" |\n| baudrate | int | 57600 | baud rate of the serial port |\n| mav_type | int | 30 | type used in heartbeat |\n| server_system_ID | int | 1 | remote or air uav system   1 = vehicle |\n| client_system_ID | int | 200 | GCS system   255 = GCS |\n| debug | bool | False | logging level |",
      "text/plain": "---\n\n[source](https://github.com/johnnewto/UAV/blob/main/UAV/mavlink/cam_client_server.py#L47){target=\"_blank\" style=\"float:right; font-size:smaller\"}\n\n### CamServer\n\n>      CamServer (connection_string, baudrate=57600, mav_type=30,\n>                 server_system_ID=1, client_system_ID=200, debug=False)\n\nMavlink Camera Base\n\n|    | **Type** | **Default** | **Details** |\n| -- | -------- | ----------- | ----------- |\n| connection_string |  |  | \"udpin:localhost:14550\" |\n| baudrate | int | 57600 | baud rate of the serial port |\n| mav_type | int | 30 | type used in heartbeat |\n| server_system_ID | int | 1 | remote or air uav system   1 = vehicle |\n| client_system_ID | int | 200 | GCS system   255 = GCS |\n| debug | bool | False | logging level |"
     },
     "execution_count": null,
     "metadata": {},
     "output_type": "execute_result"
    }
   ],
   "source": [
    "show_doc(CamServer)"
   ]
  },
  {
   "cell_type": "code",
   "execution_count": null,
   "metadata": {},
   "outputs": [],
   "source": [
    "# show_doc(CamServer....)"
   ]
  },
  {
   "cell_type": "markdown",
   "metadata": {},
   "source": [
    "#### Test locally using the same UDP ports\n",
    "**CamClient** is set to `udpin:localhost:14445` and `CamServer` is set to the same `udpout:localhost:14445`\n",
    "`udpin` is so that the client can receive UDP in at `localhost:1445`. The client will use another port to send UDP outwards."
   ]
  },
  {
   "cell_type": "code",
   "execution_count": null,
   "metadata": {},
   "outputs": [
    {
     "name": "stderr",
     "output_type": "stream",
     "text": [
      "INFO   | uav.CamClient        | 20:20:37.518 |[   base.py:144] MainThread | Starting MAVLink connection... Mavlink version 2 = True\n",
      "INFO   | uav.CamClient        | 20:20:37.519 |[   base.py:156] MainThread | Source system Set: 200, Source component: 25\n",
      "INFO   | uav.CamClient        | 20:20:37.519 |[   base.py:157] MainThread | Target system Set: 1, Target component: 100\n",
      "INFO   | uav.CamClient        | 20:20:37.620 |[   base.py:196] Thread-5 (send_heartbeat) | Starting heartbeat 6 to system: 1 comp: 100\n",
      "INFO   | uav.CamClient        | 20:20:37.621 |[   base.py:363] Thread-6 (listen) | Listening for MAVLink commands from system: 1...\n",
      "INFO   | uav.CamServer        | 20:20:37.621 |[   base.py:144] MainThread | Starting MAVLink connection... Mavlink version 2 = True\n",
      "INFO   | uav.CamServer        | 20:20:37.623 |[   base.py:156] MainThread | Source system Set: 1, Source component: 100\n",
      "INFO   | uav.CamServer        | 20:20:37.623 |[   base.py:157] MainThread | Target system Set: 200, Target component: 25\n",
      "INFO   | uav.CamServer        | 20:20:37.724 |[   base.py:196] Thread-7 (send_heartbeat) | Starting heartbeat 30 to system: 200 comp: 25\n",
      "INFO   | uav.CamServer        | 20:20:37.725 |[   base.py:363] Thread-8 (listen) | Listening for MAVLink commands from system: 200...\n",
      "INFO   | uav.CamClient        | 20:20:37.726 |[   base.py:259] MainThread | ACK received from src_sys: 1, src_comp: 100 COMMAND_ACK {command : 203, result : 0, progress : 0, result_param2 : 0, target_system : 200, target_component : 25}\n",
      "INFO   | uav.CamClient        | 20:20:37.726 |[2419448473.py: 33] MainThread | Camera triggered\n",
      "INFO   | uav.CamServer        | 20:20:37.727 |[   base.py:453] MainThread | sent test command MAV_CMD_DO_DIGICAM_CONFIGURE\n",
      "INFO   | uav.CamClient        | 20:20:37.727 |[   base.py:259] MainThread | ACK received from src_sys: 1, src_comp: 100 COMMAND_ACK {command : 203, result : 0, progress : 0, result_param2 : 0, target_system : 200, target_component : 25}\n",
      "INFO   | uav.CamClient        | 20:20:37.728 |[2419448473.py: 33] MainThread | Camera triggered\n",
      "INFO   | uav.CamServer        | 20:20:37.728 |[   base.py:453] MainThread | sent test command MAV_CMD_DO_DIGICAM_CONFIGURE\n",
      "INFO   | uav.CamClient        | 20:20:37.729 |[   base.py:259] MainThread | ACK received from src_sys: 1, src_comp: 100 COMMAND_ACK {command : 203, result : 0, progress : 0, result_param2 : 0, target_system : 200, target_component : 25}\n",
      "INFO   | uav.CamClient        | 20:20:37.729 |[2419448473.py: 33] MainThread | Camera triggered\n",
      "INFO   | uav.CamServer        | 20:20:37.729 |[   base.py:453] MainThread | sent test command MAV_CMD_DO_DIGICAM_CONFIGURE\n",
      "INFO   | uav.CamClient        | 20:20:37.730 |[   base.py:259] MainThread | ACK received from src_sys: 1, src_comp: 100 COMMAND_ACK {command : 203, result : 0, progress : 0, result_param2 : 0, target_system : 200, target_component : 25}\n",
      "INFO   | uav.CamClient        | 20:20:37.730 |[2419448473.py: 33] MainThread | Camera triggered\n",
      "INFO   | uav.CamServer        | 20:20:37.730 |[   base.py:453] MainThread | sent test command MAV_CMD_DO_DIGICAM_CONFIGURE\n",
      "INFO   | uav.CamClient        | 20:20:37.731 |[   base.py:259] MainThread | ACK received from src_sys: 1, src_comp: 100 COMMAND_ACK {command : 203, result : 0, progress : 0, result_param2 : 0, target_system : 200, target_component : 25}\n",
      "INFO   | uav.CamClient        | 20:20:37.731 |[2419448473.py: 33] MainThread | Camera triggered\n",
      "INFO   | uav.CamServer        | 20:20:37.731 |[   base.py:453] MainThread | sent test command MAV_CMD_DO_DIGICAM_CONFIGURE\n",
      "INFO   | uav.CamServer        | 20:20:38.726 |[   base.py:468] MainThread | CamServer  closed\n",
      "INFO   | uav.CamClient        | 20:20:39.626 |[   base.py:468] MainThread | CamClient  closed\n"
     ]
    },
    {
     "name": "stdout",
     "output_type": "stream",
     "text": [
      "client.num_commands_sent: 5\n",
      "server.num_commands_received: 5\n",
      "client.num_acks_received: 5\n"
     ]
    }
   ],
   "source": [
    "# from UAV.mavlink.cam_client_server  import CamClient, CamServer\n",
    "from fastcore.test import *\n",
    "\n",
    "with CamClient(\"udpin:localhost:14445\", debug=False) as client:\n",
    "    with CamServer(\"udpout:localhost:14445\", debug=False) as server:\n",
    "        client.wait_heartbeat()\n",
    "\n",
    "        for i in range(5):\n",
    "            client.trigger_camera(2)\n",
    "            server._test_command(2)\n",
    "\n",
    "\n",
    "print(f\"client.num_commands_sent: {client.num_commands_sent}\")\n",
    "print(f\"server.num_commands_received: {server.num_commands_received}\")\n",
    "print(f\"client.num_acks_received: {client.num_acks_received}\")\n",
    "\n",
    "test_eq(client.num_commands_sent, server.num_commands_received)\n",
    "test_eq(client.num_acks_received, server.num_commands_received)"
   ]
  },
  {
   "cell_type": "code",
   "execution_count": null,
   "outputs": [],
   "source": [],
   "metadata": {
    "collapsed": false
   }
  },
  {
   "cell_type": "markdown",
   "metadata": {},
   "source": [
    "This will show on wireshark as follows:\n",
    "> Using the display filte string `not icmp  && udp.port eq 14445 && mavlink_proto`\n",
    "\n",
    "![](images/wireshark_udp:14445.png)"
   ]
  },
  {
   "cell_type": "markdown",
   "source": [],
   "metadata": {
    "collapsed": false
   }
  },
  {
   "cell_type": "markdown",
   "metadata": {},
   "source": [
    "For debugging help see [http://localhost:3000/tutorials/mavlink_doc&debug.html](http://localhost:3000/tutorials/mavlink_doc&debug.html)\n",
    " and [http://localhost:3000/tutorials/mavlink_doc&debug.html#debugging](http://localhost:3000/tutorials/mavlink_doc&debug.html#debugging)\n"
   ]
  },
  {
   "cell_type": "code",
   "execution_count": null,
   "metadata": {},
   "outputs": [],
   "source": [
    " # Todo add a link to the docs"
   ]
  },
  {
   "cell_type": "markdown",
   "metadata": {},
   "source": [
    "#### Test using a Pixhawk connected via telemetry 2 and USB serial ports.\n",
    "**CamClient** is set to `udpin:localhost:14445` and `CamServer` is set to `udpout:localhost:14435`\n",
    "`udpin` is so that the client can receive UDP from the mavproxy server at `localhost:14445`\n",
    ">`mavproxy.py  --master=/dev/ttyACM1 --baudrate 57600 --out udpout:localhost:14445`\n",
    ">`mavproxy.py  --master=/dev/ttyACM3 --baudrate 57600 --out udpout:localhost:14435`"
   ]
  },
  {
   "cell_type": "code",
   "execution_count": null,
   "metadata": {},
   "outputs": [
    {
     "name": "stderr",
     "output_type": "stream",
     "text": [
      "INFO   | uav.CamServer        | 20:20:39.649 |[   base.py:144] MainThread | Starting MAVLink connection... Mavlink version 2 = True\n",
      "INFO   | uav.CamServer        | 20:20:39.678 |[   base.py:156] MainThread | Source system Set: 111, Source component: 100\n",
      "INFO   | uav.CamServer        | 20:20:39.678 |[   base.py:157] MainThread | Target system Set: 222, Target component: 25\n",
      "INFO   | uav.CamServer        | 20:20:39.780 |[   base.py:196] Thread-9 (send_heartbeat) | Starting heartbeat 30 to system: 222 comp: 25\n",
      "INFO   | uav.CamServer        | 20:20:39.781 |[   base.py:363] Thread-10 (listen) | Listening for MAVLink commands from system: 222...\n",
      "INFO   | uav.CamClient        | 20:20:39.782 |[   base.py:144] MainThread | Starting MAVLink connection... Mavlink version 2 = True\n",
      "INFO   | uav.CamClient        | 20:20:39.784 |[   base.py:156] MainThread | Source system Set: 222, Source component: 25\n",
      "INFO   | uav.CamClient        | 20:20:39.785 |[   base.py:157] MainThread | Target system Set: 111, Target component: 100\n",
      "INFO   | uav.CamClient        | 20:20:39.886 |[   base.py:196] Thread-11 (send_heartbeat) | Starting heartbeat 6 to system: 111 comp: 100\n",
      "INFO   | uav.CamClient        | 20:20:39.886 |[   base.py:363] Thread-12 (listen) | Listening for MAVLink commands from system: 111...\n",
      "INFO   | uav.CamClient        | 20:20:39.931 |[   base.py:259] MainThread | ACK received from src_sys: 111, src_comp: 100 COMMAND_ACK {command : 203, result : 0, progress : 0, result_param2 : 0, target_system : 222, target_component : 25}\n",
      "INFO   | uav.CamClient        | 20:20:39.931 |[2419448473.py: 33] MainThread | Camera triggered\n",
      "INFO   | uav.CamClient        | 20:20:39.964 |[   base.py:259] MainThread | ACK received from src_sys: 111, src_comp: 100 COMMAND_ACK {command : 203, result : 0, progress : 0, result_param2 : 0, target_system : 222, target_component : 25}\n",
      "INFO   | uav.CamClient        | 20:20:39.964 |[2419448473.py: 33] MainThread | Camera triggered\n",
      "INFO   | uav.CamClient        | 20:20:39.994 |[   base.py:259] MainThread | ACK received from src_sys: 111, src_comp: 100 COMMAND_ACK {command : 203, result : 0, progress : 0, result_param2 : 0, target_system : 222, target_component : 25}\n",
      "INFO   | uav.CamClient        | 20:20:39.994 |[2419448473.py: 33] MainThread | Camera triggered\n"
     ]
    },
    {
     "name": "stdout",
     "output_type": "stream",
     "text": [
      "20\n"
     ]
    },
    {
     "name": "stderr",
     "output_type": "stream",
     "text": [
      "INFO   | uav.CamClient        | 20:20:40.925 |[   base.py:468] MainThread | CamClient  closed\n",
      "INFO   | uav.CamServer        | 20:20:41.794 |[   base.py:468] MainThread | CamServer  closed\n"
     ]
    },
    {
     "name": "stdout",
     "output_type": "stream",
     "text": [
      "server.num_commands_received: 3\n",
      "client.num_commands_sent: 3\n",
      "client.num_acks_received: 3\n",
      "server msgs: {'src_sys': {'MSG_TYPE': 'count'}, 0: {'BAD_DATA': 2}, 1: {'HEARTBEAT': 2}, 222: {'HEARTBEAT': 1, 'COMMAND_LONG': 3}}\n",
      "client msgs: {'src_sys': {'MSG_TYPE': 'count'}, 0: {'BAD_DATA': 23, 'UNKNOWN_7172673': 1}, 1: {'HEARTBEAT': 76, 'TIMESYNC': 8, 'PARAM_VALUE': 2, 'STATUSTEXT': 14}, 111: {'HEARTBEAT': 1, 'COMMAND_ACK': 3}}\n"
     ]
    }
   ],
   "source": [
    "# from UAV.mavlink.cam_client_server import  CamClient, CamServer\n",
    "# from fastcore.test import *\n",
    "# import time\n",
    "\n",
    "debug = False\n",
    "with CamServer(\"/dev/ttyUSB0\", server_system_ID=111, client_system_ID=222, debug=debug ) as server:\n",
    "    with CamClient(\"/dev/ttyACM1\", server_system_ID=111, client_system_ID=222, debug=debug ) as client:\n",
    "        print(client._log.level)\n",
    "        client.wait_heartbeat(timeout=1)\n",
    "        for i in range(3):\n",
    "            client.trigger_camera(2)\n",
    "            # server._test_command(1)\n",
    "            # time.sleep(.15)\n",
    "\n",
    "print(f\"server.num_commands_received: {server.num_commands_received}\")\n",
    "print(f\"client.num_commands_sent: {client.num_commands_sent}\")\n",
    "print(f\"client.num_acks_received: {client.num_acks_received}\")\n",
    "print(f\"server msgs: {server.message_cnts}\")\n",
    "print(f\"client msgs: {client.message_cnts}\")\n",
    "test_eq (server.num_commands_received, client.num_commands_sent)\n",
    "test_eq (server.num_commands_received, client.num_acks_received)\n",
    "\n",
    "test_eq(server.message_cnts[222]['COMMAND_LONG'], client.message_cnts[111]['COMMAND_ACK'])\n",
    "assert client.message_cnts[111]['HEARTBEAT'] >= 1"
   ]
  },
  {
   "cell_type": "code",
   "execution_count": null,
   "metadata": {},
   "outputs": [],
   "source": [
    "# assert False, \"Stop here\""
   ]
  },
  {
   "cell_type": "markdown",
   "metadata": {},
   "source": [
    "> Connection using a serial crossover cable or via pixhawk telemetry ports\n",
    "![](../tutorials/images/serial_crossover.jpeg)  \n",
    "Telemetry 2 port on pixhawk is connected to the USB port on the companion computer using a serial crossover cable.\n",
    "1. (red) VCC +5V\n",
    "2. (?) TX (OUT) +3.3V\n",
    "3. (?) RX (IN) +3.3V\n",
    "4. (?) CTS +3.3V\n",
    "5. (?) RTS +3.3V\n",
    "6. (?) GND GND`"
   ]
  },
  {
   "cell_type": "markdown",
   "metadata": {},
   "source": []
  },
  {
   "cell_type": "code",
   "execution_count": null,
   "metadata": {},
   "outputs": [],
   "source": [
    "#| hide\n",
    "# from nbdev import nbdev_export\n",
    "# nbdev_export()"
   ]
  }
 ],
 "metadata": {
  "kernelspec": {
   "display_name": "python3",
   "language": "python",
   "name": "python3"
  }
 },
 "nbformat": 4,
 "nbformat_minor": 4
}
